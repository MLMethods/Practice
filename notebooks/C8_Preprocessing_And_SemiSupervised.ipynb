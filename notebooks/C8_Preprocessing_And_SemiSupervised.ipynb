{
 "cells": [
  {
   "cell_type": "markdown",
   "metadata": {},
   "source": [
    "# Кластеризация. Предобработка и обучение с частичным привлечением учителя\n",
    "\n",
    "\n",
    "<hr>\n",
    "\n",
    "С.Ю. Папулин (papulin.study@yandex.ru)"
   ]
  },
  {
   "cell_type": "markdown",
   "metadata": {},
   "source": [
    "### Содержание\n",
    "\n",
    "- [Предобработка данных для задачи классификации](#Предобработка-данных-для-задачи-классификации)\n",
    "- [Обучение с частичным привлечением учителя](#Обучение-с-частичным-привлечением-учителя)\n",
    "- [Источники](#Источники)"
   ]
  },
  {
   "cell_type": "markdown",
   "metadata": {},
   "source": [
    "Подключение библиотек:"
   ]
  },
  {
   "cell_type": "code",
   "execution_count": null,
   "metadata": {},
   "outputs": [],
   "source": [
    "import warnings\n",
    "warnings.filterwarnings('ignore') "
   ]
  },
  {
   "cell_type": "code",
   "execution_count": null,
   "metadata": {},
   "outputs": [],
   "source": [
    "import time\n",
    "import numpy as np\n",
    "import matplotlib.pyplot as plt\n",
    "%matplotlib inline"
   ]
  },
  {
   "cell_type": "code",
   "execution_count": null,
   "metadata": {},
   "outputs": [],
   "source": [
    "from sklearn.svm import SVC\n",
    "from sklearn.linear_model import LogisticRegression\n",
    "from sklearn.cluster import KMeans\n",
    "from sklearn.pipeline import Pipeline"
   ]
  },
  {
   "cell_type": "code",
   "execution_count": null,
   "metadata": {},
   "outputs": [],
   "source": [
    "import sys\n",
    "sys.path.insert(0, \"../lib/\")\n",
    "from datasets import fetch_fashion_mnist"
   ]
  },
  {
   "cell_type": "markdown",
   "metadata": {},
   "source": [
    "## Предобработка данных для задачи классификации"
   ]
  },
  {
   "cell_type": "markdown",
   "metadata": {},
   "source": [
    "Загрузка данных"
   ]
  },
  {
   "cell_type": "code",
   "execution_count": null,
   "metadata": {},
   "outputs": [],
   "source": [
    "fashion_dataset = fetch_fashion_mnist(return_X_y=True)\n",
    "\n",
    "print('Overview\\n', fashion_dataset.DESCR)\n",
    "print('Feature names\\n', fashion_dataset.feature_names)"
   ]
  },
  {
   "cell_type": "code",
   "execution_count": null,
   "metadata": {},
   "outputs": [],
   "source": [
    "IMAGE_INDX = 20\n",
    "\n",
    "print('Image:')\n",
    "plt.figure(figsize=[4, 4])\n",
    "plt.imshow(fashion_dataset.data['train'][IMAGE_INDX].reshape(-1, 28))\n",
    "plt.show()\n",
    "\n",
    "print('Target:', fashion_dataset.target['train'][IMAGE_INDX])\n",
    "print('Name:', fashion_dataset.feature_names[fashion_dataset.target['train'][IMAGE_INDX]])"
   ]
  },
  {
   "cell_type": "markdown",
   "metadata": {},
   "source": [
    "Размерность данных"
   ]
  },
  {
   "cell_type": "code",
   "execution_count": null,
   "metadata": {},
   "outputs": [],
   "source": [
    "fashion_dataset.data['train'].shape, fashion_dataset.data['test'].shape"
   ]
  },
  {
   "cell_type": "code",
   "execution_count": null,
   "metadata": {},
   "outputs": [],
   "source": [
    "fashion_dataset.target['train'].shape, fashion_dataset.target['test'].shape"
   ]
  },
  {
   "cell_type": "markdown",
   "metadata": {},
   "source": [
    "Обучающее и тестовое подмножества"
   ]
  },
  {
   "cell_type": "code",
   "execution_count": null,
   "metadata": {},
   "outputs": [],
   "source": [
    "X_train_, X_test, y_train_, y_test = *fashion_dataset.data.values(), *fashion_dataset.target.values()\n",
    "\n",
    "# Уменьшение количества элементов обучающего множества\n",
    "X_train = X_train_[:10000]\n",
    "y_train = y_train_[:10000]\n",
    "\n",
    "# Уменьшение размера изображений\n",
    "# X_train = X_train.reshape(-1, 28, 28)[:, ::2, ::2].reshape(-1, 14*14)"
   ]
  },
  {
   "cell_type": "code",
   "execution_count": null,
   "metadata": {},
   "outputs": [],
   "source": [
    "np.unique(y_train, return_counts=True)"
   ]
  },
  {
   "cell_type": "markdown",
   "metadata": {},
   "source": [
    "Обучения классификатора"
   ]
  },
  {
   "cell_type": "code",
   "execution_count": null,
   "metadata": {},
   "outputs": [],
   "source": [
    "tick = time.time()\n",
    "model = SVC(**{'C': 10, 'kernel': 'poly', 'gamma': 'scale', 'degree': 2})\n",
    "model.fit(X_train, y_train)\n",
    "print(\"Time =\", time.time() - tick)\n",
    "model.score(X_test, y_test)"
   ]
  },
  {
   "cell_type": "markdown",
   "metadata": {},
   "source": [
    "Формирование признаков посредством кластеризации"
   ]
  },
  {
   "cell_type": "code",
   "execution_count": null,
   "metadata": {},
   "outputs": [],
   "source": [
    "tick = time.time()\n",
    "cluster_model = KMeans(n_clusters=50, random_state=12345)\n",
    "cluster_model.fit(X_train)\n",
    "print(\"Time =\", time.time() - tick)"
   ]
  },
  {
   "cell_type": "code",
   "execution_count": null,
   "metadata": {},
   "outputs": [],
   "source": [
    "cluster_model.transform(X_train).shape"
   ]
  },
  {
   "cell_type": "code",
   "execution_count": null,
   "metadata": {},
   "outputs": [],
   "source": [
    "# Расстояние до центров кластеров\n",
    "cluster_model.transform(X_train)[:1]"
   ]
  },
  {
   "cell_type": "code",
   "execution_count": null,
   "metadata": {},
   "outputs": [],
   "source": [
    "# Предсказание кластеров\n",
    "# print(np.argmin(cluster_model.transform(X_train), axis=1)[:5])\n",
    "# print(cluster_model.predict(X_train[:5]))"
   ]
  },
  {
   "cell_type": "markdown",
   "metadata": {},
   "source": [
    "Классификатор с новым наборам признаков"
   ]
  },
  {
   "cell_type": "code",
   "execution_count": null,
   "metadata": {},
   "outputs": [],
   "source": [
    "tick = time.time()\n",
    "model = SVC(**{'C':10, 'kernel':'poly', 'gamma': 'scale', 'degree': 2})\n",
    "model.fit(cluster_model.transform(X_train), y_train)\n",
    "print('Time =', time.time() - tick)\n",
    "model.score(cluster_model.transform(X_test), y_test)"
   ]
  },
  {
   "cell_type": "markdown",
   "metadata": {},
   "source": [
    "Реализация посредством `Pipeline`"
   ]
  },
  {
   "cell_type": "code",
   "execution_count": null,
   "metadata": {},
   "outputs": [],
   "source": [
    "tick = time.time()\n",
    "pipeline = Pipeline([\n",
    "    ('cluster_model', KMeans(n_clusters=50, random_state=12345)),\n",
    "    ('classifier', SVC(**{'C':10, 'kernel': 'poly', 'gamma': 'scale', 'degree': 2})),\n",
    "])\n",
    "pipeline.fit(X_train, y_train)\n",
    "print('Time =', time.time() - tick)\n",
    "pipeline.score(X_test, y_test)"
   ]
  },
  {
   "cell_type": "markdown",
   "metadata": {},
   "source": [
    "## Обучение с частичным привлечением учителя"
   ]
  },
  {
   "cell_type": "code",
   "execution_count": null,
   "metadata": {},
   "outputs": [],
   "source": [
    "# Везьмем первые n наблюдений\n",
    "N = 50\n",
    "X_train_n = X_train[:N]\n",
    "y_train_n = y_train[:N]"
   ]
  },
  {
   "cell_type": "code",
   "execution_count": null,
   "metadata": {},
   "outputs": [],
   "source": [
    "np.unique(y_train_n, return_counts=True)"
   ]
  },
  {
   "cell_type": "code",
   "execution_count": null,
   "metadata": {},
   "outputs": [],
   "source": [
    "# Обучаем модель классификации\n",
    "tick = time.time()\n",
    "model = SVC(**{'C': 10, 'kernel': 'poly', 'gamma': 'scale', 'degree': 2})\n",
    "# model = LogisticRegression()\n",
    "model.fit(X_train_n, y_train_n)\n",
    "print('Accuracy =', model.score(X_test, y_test))\n",
    "print('Time =', time.time() - tick)"
   ]
  },
  {
   "cell_type": "code",
   "execution_count": null,
   "metadata": {},
   "outputs": [],
   "source": [
    "# Обучаем модель кластеризации\n",
    "tick = time.time()\n",
    "cluster_model = KMeans(n_clusters=N, random_state=12345)\n",
    "cluster_model.fit(X_train)\n",
    "print('Time =', time.time() - tick)"
   ]
  },
  {
   "cell_type": "markdown",
   "metadata": {},
   "source": [
    "Разметка данных ближайших к кластерам"
   ]
  },
  {
   "cell_type": "code",
   "execution_count": null,
   "metadata": {},
   "outputs": [],
   "source": [
    "# Индексы наблюдений с минимальным расстоянием до ближайщего кластера\n",
    "indices = np.argmin(cluster_model.transform(X_train), axis=0)\n",
    "indices"
   ]
  },
  {
   "cell_type": "code",
   "execution_count": null,
   "metadata": {},
   "outputs": [],
   "source": [
    "cols = 10\n",
    "row_num = -(-len(indices) // cols)\n",
    "\n",
    "fig, axs = plt.subplots(row_num, cols, figsize=(14, 2*row_num), squeeze=False)\n",
    "for i in range(row_num):\n",
    "    for j in range(cols):\n",
    "        indx = i * cols + j\n",
    "        if indx >= len(indices):\n",
    "            fig.delaxes(axs[i, j])\n",
    "        else:\n",
    "            image = X_train[indices[indx]].reshape(-1, 28)\n",
    "            axs[i, j].imshow(image)\n",
    "            axs[i, j].set_title(\n",
    "                \"cluster={}\".format(indx))\n",
    "            axs[i, j].axis(\"off\")\n",
    "# plt.tight_layout()\n",
    "plt.show()"
   ]
  },
  {
   "cell_type": "code",
   "execution_count": null,
   "metadata": {},
   "outputs": [],
   "source": [
    "# Массив наблюдений, соответствующих ранее полученным индексам\n",
    "X_train_n_labeled = X_train[indices]\n",
    "\n",
    "# Замечания: Эти значения должны быть внесены вручную на основе\n",
    "# изображений выше. Однако здесь мы используем уже размеченный \n",
    "# набор с целевыми значениями\n",
    "y_train_n_labeled = y_train[indices]"
   ]
  },
  {
   "cell_type": "code",
   "execution_count": null,
   "metadata": {},
   "outputs": [],
   "source": [
    "np.unique(y_train_n_labeled, return_counts=True)"
   ]
  },
  {
   "cell_type": "code",
   "execution_count": null,
   "metadata": {},
   "outputs": [],
   "source": [
    "# Обучение на новом наборе из N размеченных данных\n",
    "model = SVC(**{'C': 10, 'kernel': 'poly', 'gamma': 'scale', 'degree': 2})\n",
    "model.fit(X_train_n_labeled, y_train_n_labeled)\n",
    "print('Accuracy =', model.score(X_test, y_test))\n",
    "print('Time =', time.time() - tick)"
   ]
  },
  {
   "cell_type": "markdown",
   "metadata": {},
   "source": [
    "Разметка всего набора данных"
   ]
  },
  {
   "cell_type": "code",
   "execution_count": null,
   "metadata": {},
   "outputs": [],
   "source": [
    "# Предсказание кластеров\n",
    "с__pred = cluster_model.predict(X_train)"
   ]
  },
  {
   "cell_type": "code",
   "execution_count": null,
   "metadata": {},
   "outputs": [],
   "source": [
    "# Сопоставим индексы кластеров и индексы классов (для размеченных вручную изображений)\n",
    "y_train_labeled = y_train[indices[с__pred]]\n",
    "y_train_labeled"
   ]
  },
  {
   "cell_type": "code",
   "execution_count": null,
   "metadata": {},
   "outputs": [],
   "source": [
    "# Обучение на новых размеченных данных\n",
    "tick = time.time()\n",
    "model = SVC(**{'C': 10, 'kernel': 'poly', 'gamma': 'scale', 'degree': 2})\n",
    "model.fit(X_train, y_train_labeled)\n",
    "print('Accuracy =', model.score(X_test, y_test))\n",
    "print('Time =', time.time() - tick)"
   ]
  },
  {
   "cell_type": "markdown",
   "metadata": {},
   "source": [
    "Приведенные выше способы подходят для повышения качества предсказания моделей при небольшом количестве размеченных данных. Если у нас достаточно большой набор размеченных данных, то не стоит ожидать значительного увеличения качества предсказания"
   ]
  },
  {
   "cell_type": "markdown",
   "metadata": {},
   "source": [
    "##  Источники"
   ]
  },
  {
   "cell_type": "markdown",
   "metadata": {},
   "source": [
    "Hands-on Machine Learning with Scikit-Learn, Keras, and TensorFlow by Aurélien Géron"
   ]
  },
  {
   "cell_type": "code",
   "execution_count": null,
   "metadata": {},
   "outputs": [],
   "source": []
  }
 ],
 "metadata": {
  "kernelspec": {
   "display_name": "Python 3 (ipykernel)",
   "language": "python",
   "name": "python3"
  },
  "language_info": {
   "codemirror_mode": {
    "name": "ipython",
    "version": 3
   },
   "file_extension": ".py",
   "mimetype": "text/x-python",
   "name": "python",
   "nbconvert_exporter": "python",
   "pygments_lexer": "ipython3",
   "version": "3.11.7"
  }
 },
 "nbformat": 4,
 "nbformat_minor": 4
}
