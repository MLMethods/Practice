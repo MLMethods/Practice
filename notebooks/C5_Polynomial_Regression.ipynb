{
 "cells": [
  {
   "cell_type": "markdown",
   "metadata": {},
   "source": [
    "<div style=\"font-size:18pt; padding-top:20px; text-align:center\">СЕМИНАР. <b>Линейная полиномиальная регрессия</b></div><hr>\n",
    "<div style=\"text-align:right;\">Папулин С.Ю. <span style=\"font-style: italic;font-weight: bold;\">(papulin.study@yandex.ru)</span></div>"
   ]
  },
  {
   "cell_type": "markdown",
   "metadata": {},
   "source": [
    "<a name=\"0\"></a>\n",
    "<div><span style=\"font-size:14pt; font-weight:bold\">Содержание</span>\n",
    "    <ol>\n",
    "        <li><a href=\"#1\">Линейная регрессия</a></li>\n",
    "        <li><a href=\"#2\">Полиномиальная регрессия</a>\n",
    "        <li><a href=\"#3\">Источники</a>\n",
    "        </li>\n",
    "    </ol>\n",
    "</div>"
   ]
  },
  {
   "cell_type": "code",
   "execution_count": null,
   "metadata": {},
   "outputs": [],
   "source": [
    "import numpy as np\n",
    "from scipy import stats\n",
    "import matplotlib.pyplot as plt\n",
    "%matplotlib inline"
   ]
  },
  {
   "cell_type": "markdown",
   "metadata": {},
   "source": [
    "<a name=\"1\"></a>\n",
    "<div style=\"display:table; width:100%; padding-top:10px; padding-bottom:10px; border-bottom:1px solid lightgrey\">\n",
    "    <div style=\"display:table-row\">\n",
    "        <div style=\"display:table-cell; width:80%; font-size:16pt; font-weight:bold\">1. Линейная регрессия</div>\n",
    "    \t<div style=\"display:table-cell; width:20%; text-align:center; background-color:whitesmoke; border:1px solid lightgrey\"><a href=\"#0\">К содержанию</a></div>\n",
    "    </div>\n",
    "</div>"
   ]
  },
  {
   "cell_type": "markdown",
   "metadata": {},
   "source": [
    "### Генерация данных"
   ]
  },
  {
   "cell_type": "code",
   "execution_count": null,
   "metadata": {},
   "outputs": [],
   "source": [
    "# Действительная функция\n",
    "f = lambda x: 2 + 0.3*x\n",
    "\n",
    "# Количество элементов выборки\n",
    "n = 100\n",
    "\n",
    "# Формирование выборки значений признака X\n",
    "start_x = 4\n",
    "length_x = 8\n",
    "x = stats.uniform.rvs(size=n, loc=start_x, scale=length_x)\n",
    "\n",
    "# Ошибка (нормальная) для каждого элемента выборки\n",
    "mu = 0\n",
    "sigma = 0.5\n",
    "e = stats.norm.rvs(size=n, loc=mu, scale=sigma)\n",
    "\n",
    "# Наблюдаемые значения: значение действительной функции + ошибка\n",
    "y_true = f(x) + e"
   ]
  },
  {
   "cell_type": "code",
   "execution_count": null,
   "metadata": {},
   "outputs": [],
   "source": [
    "# График действительной функции для выборки\n",
    "\n",
    "plt.figure(1, figsize=[12, 4])\n",
    "\n",
    "plt.subplot(1,3,1)\n",
    "plt.title(\"True function\")\n",
    "plt.plot(x, f(x), \"-\", color=\"SteelBlue\", label=\"$f(x) = 2 + 0.3x$\", zorder=1)\n",
    "plt.scatter(x, f(x), color=\"green\", label=\"Sample\", zorder=2)\n",
    "plt.legend()\n",
    "plt.xlabel(\"$x$\")\n",
    "plt.ylabel(\"$f(x)$\")\n",
    "plt.grid(True)\n",
    "\n",
    "plt.subplot(1,3,2)\n",
    "plt.title(\"Error\")\n",
    "plt.scatter(x, e, color=\"red\")\n",
    "plt.xlabel(\"$x$\")\n",
    "plt.ylabel(\"$e$\")\n",
    "plt.grid(True)\n",
    "\n",
    "plt.subplot(1,3,3)\n",
    "plt.title(\"Initial data\")\n",
    "plt.scatter(x, y_true, color=\"green\")\n",
    "plt.xlabel(\"$x$\")\n",
    "plt.ylabel(\"$y_{true}$\")\n",
    "plt.grid(True)\n",
    "\n",
    "plt.tight_layout()\n",
    "\n",
    "plt.show()"
   ]
  },
  {
   "cell_type": "markdown",
   "metadata": {},
   "source": [
    "### Формирование обучающего и тестового подмножеств"
   ]
  },
  {
   "cell_type": "code",
   "execution_count": null,
   "metadata": {},
   "outputs": [],
   "source": [
    "from sklearn.model_selection import train_test_split"
   ]
  },
  {
   "cell_type": "code",
   "execution_count": null,
   "metadata": {},
   "outputs": [],
   "source": [
    "# Разбиение исходных данных на обучающее и тестовое множества\n",
    "X_train, X_test, y_train, y_test = train_test_split(\n",
    "    x.reshape(-1,1),  # для обучения модели признаки должны иметь форму матрицы\n",
    "    y_true, \n",
    "    test_size=0.3, \n",
    "    random_state=10)\n",
    "\n",
    "X_train[:5], y_train[:5]"
   ]
  },
  {
   "cell_type": "markdown",
   "metadata": {},
   "source": [
    "### Обучение"
   ]
  },
  {
   "cell_type": "code",
   "execution_count": null,
   "metadata": {},
   "outputs": [],
   "source": [
    "from sklearn.linear_model import LinearRegression"
   ]
  },
  {
   "cell_type": "code",
   "execution_count": null,
   "metadata": {},
   "outputs": [],
   "source": [
    "# Инициализация модели линейной регрессии\n",
    "lr_model = LinearRegression()\n",
    "lr_model"
   ]
  },
  {
   "cell_type": "code",
   "execution_count": null,
   "metadata": {},
   "outputs": [],
   "source": [
    "# Обучение\n",
    "lr_model = lr_model.fit(X_train, y_train)\n",
    "\n",
    "# Параметры обученной модели\n",
    "print(\"Параметры модели:\")\n",
    "print(\"\\tw{} = {}\".format(0, lr_model.intercept_))\n",
    "for indx, coef in enumerate(lr_model.coef_):\n",
    "    print(\"\\tw{} = {}\".format(indx+1, coef))"
   ]
  },
  {
   "cell_type": "code",
   "execution_count": null,
   "metadata": {},
   "outputs": [],
   "source": [
    "# Функция предсказания для линейной модели\n",
    "f_pred = lambda x : x * lr_model.coef_ + lr_model.intercept_\n",
    "\n",
    "# Предсказания для обучающего множества с использованием метода predict()\n",
    "y_train__pred = lr_model.predict(X_train)\n",
    "y_train__pred[:5]"
   ]
  },
  {
   "cell_type": "markdown",
   "metadata": {},
   "source": [
    "### Ошибка на обучающем подмножестве"
   ]
  },
  {
   "cell_type": "code",
   "execution_count": null,
   "metadata": {},
   "outputs": [],
   "source": [
    "from sklearn.metrics import mean_squared_error, r2_score"
   ]
  },
  {
   "cell_type": "code",
   "execution_count": null,
   "metadata": {},
   "outputs": [],
   "source": [
    "# Среднеквадратическая ошибка\n",
    "mse_train = mean_squared_error(y_train, y_train__pred)\n",
    "mse_train"
   ]
  },
  {
   "cell_type": "code",
   "execution_count": null,
   "metadata": {},
   "outputs": [],
   "source": [
    "# Коэффициент детерминации (R^2)\n",
    "r2_train = r2_score(y_train, y_train__pred)\n",
    "r2_train"
   ]
  },
  {
   "cell_type": "code",
   "execution_count": null,
   "metadata": {},
   "outputs": [],
   "source": [
    "lr_model.score(X_train, y_train)"
   ]
  },
  {
   "cell_type": "code",
   "execution_count": null,
   "metadata": {},
   "outputs": [],
   "source": [
    "# График\n",
    "plt.figure(1, figsize=[6, 4])\n",
    "\n",
    "plt.subplot(1,1,1)\n",
    "plt.title(\"Train data\")\n",
    "plt.vlines(X_train, ymin=y_train, ymax=y_train__pred, colors=\"black\", linestyles=\"dotted\", lw=1, zorder=1)\n",
    "plt.scatter(X_train, y_train, color=\"green\", zorder=1)\n",
    "plt.plot(X_train, y_train__pred, \"o-\", color=\"red\", lw=2, label=\"predicted\", zorder=2)\n",
    "plt.plot(x, f(x), \"-\", color=\"SteelBlue\", label=\"true function\", zorder=1)\n",
    "plt.xlabel(\"$x$\")\n",
    "plt.ylabel(\"$\\hat{h}(x)$\")\n",
    "plt.legend()\n",
    "\n",
    "plt.grid(True)"
   ]
  },
  {
   "cell_type": "markdown",
   "metadata": {},
   "source": [
    "### Проверка на тестовом подмножестве"
   ]
  },
  {
   "cell_type": "code",
   "execution_count": null,
   "metadata": {},
   "outputs": [],
   "source": [
    "# Предсказания для тестового множества\n",
    "y_test__pred = lr_model.predict(X_test)\n",
    "\n",
    "# Ошибки на тестовом множестве\n",
    "mse_test = mean_squared_error(y_test, y_test__pred)\n",
    "r2_test = r2_score(y_test, y_test__pred)\n",
    "\n",
    "print(\"Test MSE:\", mse_test)\n",
    "print(\"Test R^2:\", r2_test)"
   ]
  },
  {
   "cell_type": "code",
   "execution_count": null,
   "metadata": {},
   "outputs": [],
   "source": [
    "# По умолчанию используется R^2\n",
    "lr_model.score(X_test, y_test)"
   ]
  },
  {
   "cell_type": "code",
   "execution_count": null,
   "metadata": {},
   "outputs": [],
   "source": [
    "# Графики\n",
    "\n",
    "plt.figure(1, figsize=[12, 4])\n",
    "\n",
    "plt.subplot(1,2,1)\n",
    "plt.title(\"Train data\")\n",
    "plt.vlines(X_train, ymin=y_train, ymax=y_train__pred, colors=\"black\", linestyles=\"dotted\", lw=1, zorder=1)\n",
    "plt.scatter(X_train, y_train, color=\"green\", zorder=2)\n",
    "plt.plot(X_train, y_train__pred, \"-o\", color=\"red\", lw=2, label=\"predicted\", zorder=3)\n",
    "plt.plot(x, f(x), \"-\", color=\"SteelBlue\", label=\"true function\", zorder=1)\n",
    "plt.xlabel(\"$x$\")\n",
    "plt.ylabel(\"$\\hat{h}(x)$\")\n",
    "plt.legend()\n",
    "plt.grid(True)\n",
    "\n",
    "\n",
    "plt.subplot(1,2,2)\n",
    "plt.title(\"Test data\")\n",
    "plt.vlines(X_test, ymin=y_test, ymax=y_test__pred, colors=\"black\", linestyles=\"dotted\", lw=1, zorder=1)\n",
    "plt.scatter(X_test, y_test, color=\"green\", zorder=2)\n",
    "plt.plot(X_test, y_test__pred, \"-o\", color=\"red\", lw=2, label=\"predicted\", zorder=3)\n",
    "plt.plot(x, f(x), \"-\", color=\"SteelBlue\", label=\"true function\", zorder=1)\n",
    "plt.xlabel(\"$x$\")\n",
    "plt.ylabel(\"$\\hat{h}(x)$\")\n",
    "plt.legend()\n",
    "plt.grid(True)\n",
    "\n",
    "\n",
    "plt.show()"
   ]
  },
  {
   "cell_type": "markdown",
   "metadata": {},
   "source": [
    "### Что если зависимость имеет следующий вид?"
   ]
  },
  {
   "cell_type": "code",
   "execution_count": null,
   "metadata": {},
   "outputs": [],
   "source": [
    "# Генерация исходных данных\n",
    "n = 100\n",
    "x = stats.uniform.rvs(size=n, loc=0, scale=5, random_state=10)\n",
    "f = lambda x:  np.sin(x)\n",
    "y_true = stats.norm.rvs(size=n, loc=0, scale=0.2, random_state=10) + f(x)\n",
    "\n",
    "# График\n",
    "xx = np.linspace(0, 5, 100)\n",
    "plt.title(\"Initial Data\")\n",
    "plt.scatter(x, y_true, color=\"green\", label=\"observed\")\n",
    "plt.plot(xx, f(xx), \"-\", color=\"SteelBlue\", label=\"true function\", zorder=1)\n",
    "plt.grid(True)\n",
    "plt.xlabel(\"$x$\")\n",
    "plt.ylabel(\"$y_{true}$\")\n",
    "plt.legend()\n",
    "plt.show()"
   ]
  },
  {
   "cell_type": "code",
   "execution_count": null,
   "metadata": {},
   "outputs": [],
   "source": [
    "# Разделение исходных данных на обучающее и тестовое подмножества\n",
    "X_train, X_test, y_train, y_test = train_test_split(\n",
    "    x.reshape(-1,1), \n",
    "    y_true, \n",
    "    test_size=0.3, \n",
    "    random_state=1234)\n",
    "\n",
    "# Обучение\n",
    "lr_model = LinearRegression()\n",
    "lr_model = lr_model.fit(X_train, y_train)\n",
    "\n",
    "# Предсказания для тестового множества\n",
    "y_test__pred = lr_model.predict(X_test)\n",
    "\n",
    "# Ошибки на тестовом множестве\n",
    "mse_test = mean_squared_error(y_test, y_test__pred)\n",
    "r2_test = r2_score(y_test, y_test__pred)\n",
    "\n",
    "print(\"Test MSE:\", mse_test)\n",
    "print(\"Test R^2:\", r2_test)"
   ]
  },
  {
   "cell_type": "code",
   "execution_count": null,
   "metadata": {},
   "outputs": [],
   "source": [
    "# Графики\n",
    "\n",
    "plt.figure(1, figsize=[12, 4])\n",
    "\n",
    "plt.subplot(1,2,1)\n",
    "plt.title(\"Train data\")\n",
    "plt.vlines(X_train, ymin=y_train, ymax=lr_model.predict(X_train), colors=\"black\", linestyles=\"dotted\", lw=1, zorder=1)\n",
    "plt.scatter(X_train, y_train, color=\"green\", zorder=2)\n",
    "plt.plot(X_train, lr_model.predict(X_train), \"-o\", color=\"red\", lw=2, label=\"predicted\", zorder=3)\n",
    "plt.plot(xx, f(xx), \"-\", color=\"SteelBlue\", label=\"true function\", zorder=1)\n",
    "plt.xlabel(\"$x$\")\n",
    "plt.ylabel(\"$\\hat{h}(x)$\")\n",
    "plt.legend()\n",
    "plt.grid(True)\n",
    "\n",
    "plt.subplot(1,2,2)\n",
    "plt.title(\"Test data\")\n",
    "plt.vlines(X_test, ymin=y_test, ymax=lr_model.predict(X_test), colors=\"black\", linestyles=\"dotted\", lw=1, zorder=1)\n",
    "plt.scatter(X_test, y_test,  color=\"green\", zorder=2)\n",
    "plt.plot(X_test, lr_model.predict(X_test), \"-o\", color=\"red\", lw=2, label=\"predicted\", zorder=3)\n",
    "plt.plot(xx, f(xx), \"-\", color=\"SteelBlue\", label=\"true function\", zorder=1)\n",
    "plt.xlabel(\"$x$\")\n",
    "plt.ylabel(\"$\\hat{h}(x)$\")\n",
    "plt.legend()\n",
    "plt.grid(True)\n",
    "\n",
    "plt.show()"
   ]
  },
  {
   "cell_type": "markdown",
   "metadata": {},
   "source": [
    "<a name=\"2\"></a>\n",
    "<div style=\"display:table; width:100%; padding-top:10px; padding-bottom:10px; border-bottom:1px solid lightgrey\">\n",
    "    <div style=\"display:table-row\">\n",
    "        <div style=\"display:table-cell; width:80%; font-size:16pt; font-weight:bold\">2. Полиномиальная регрессия</div>\n",
    "    \t<div style=\"display:table-cell; width:20%; text-align:center; background-color:whitesmoke; border:1px solid lightgrey\"><a href=\"#0\">К содержанию</a></div>\n",
    "    </div>\n",
    "</div>"
   ]
  },
  {
   "cell_type": "code",
   "execution_count": null,
   "metadata": {},
   "outputs": [],
   "source": [
    "from sklearn.preprocessing import PolynomialFeatures\n",
    "from sklearn.pipeline import Pipeline\n",
    "from numpy.polynomial.polynomial import polyval"
   ]
  },
  {
   "cell_type": "code",
   "execution_count": null,
   "metadata": {},
   "outputs": [],
   "source": [
    "# Исходные данные\n",
    "plt.title(\"Initial data\")\n",
    "plt.scatter(x, y_true, color=\"green\")\n",
    "plt.grid(True)\n",
    "plt.xlabel(\"$x$\")\n",
    "plt.ylabel(\"$y_{true}$\")\n",
    "plt.show()"
   ]
  },
  {
   "cell_type": "code",
   "execution_count": null,
   "metadata": {},
   "outputs": [],
   "source": [
    "# Формирование обучающего и тестового подмножеств\n",
    "X_train, X_test, y_train, y_test = train_test_split(\n",
    "    x.reshape(-1,1), \n",
    "    y_true, \n",
    "    test_size=0.3, \n",
    "    random_state=1234)\n",
    "\n",
    "X_train[:5], y_train[:5]"
   ]
  },
  {
   "cell_type": "code",
   "execution_count": null,
   "metadata": {},
   "outputs": [],
   "source": [
    "# Полином степени 3: (x^0, x^1, x^2, x^3)\n",
    "pf = PolynomialFeatures(degree=3)\n",
    "X_train__poly = pf.fit_transform(X_train)\n",
    "X_train__poly[:5]"
   ]
  },
  {
   "cell_type": "code",
   "execution_count": null,
   "metadata": {},
   "outputs": [],
   "source": [
    "# Обучение\n",
    "lr_model = LinearRegression(fit_intercept=False)\n",
    "lr_model = lr_model.fit(X_train__poly, y_train)\n",
    "\n",
    "# Параметры обученной модели\n",
    "print(\"Параметры модели:\")\n",
    "for indx, coef in enumerate(lr_model.coef_):\n",
    "    print(\"\\tw{} = {}\".format(indx, coef))"
   ]
  },
  {
   "cell_type": "code",
   "execution_count": null,
   "metadata": {},
   "outputs": [],
   "source": [
    "# Предсказания для обучающем множества\n",
    "X_train__poly = pf.transform(X_train)\n",
    "y_train__pred = lr_model.predict(X_train__poly)\n",
    "\n",
    "# Ошибки на обучающем множестве\n",
    "mse_train = mean_squared_error(y_train, y_train__pred)\n",
    "r2_train = r2_score(y_train, y_train__pred)\n",
    "\n",
    "print(\"Обучающее множество:\")\n",
    "print(\"\\tTrain MSE:\", mse_train)\n",
    "print(\"\\tTrain R^2:\", r2_train)"
   ]
  },
  {
   "cell_type": "code",
   "execution_count": null,
   "metadata": {},
   "outputs": [],
   "source": [
    "# Предсказания для тестового множества\n",
    "X_test__poly = pf.transform(X_test)\n",
    "y_test__pred = lr_model.predict(X_test__poly)\n",
    "\n",
    "# Ошибки на тестовом множестве\n",
    "mse_test = mean_squared_error(y_test, y_test__pred)\n",
    "r2_test = r2_score(y_test, y_test__pred)\n",
    "\n",
    "print(\"Тестовое множество:\")\n",
    "print(\"\\tTest MSE:\", mse_test)\n",
    "print(\"\\tTest R^2:\", r2_test)"
   ]
  },
  {
   "cell_type": "markdown",
   "metadata": {},
   "source": [
    "Использование `Pipeline`"
   ]
  },
  {
   "cell_type": "code",
   "execution_count": null,
   "metadata": {},
   "outputs": [],
   "source": [
    "# Формирование последовательности действий\n",
    "polynomial_transformation = PolynomialFeatures(degree=3)\n",
    "model = LinearRegression(fit_intercept=False)\n",
    "\n",
    "step__preprocessing = (\"polynomial_transformation\", polynomial_transformation)\n",
    "step__prediction_model = (\"linear_model\", model)\n",
    "\n",
    "pipeline = Pipeline([\n",
    "    step__preprocessing, \n",
    "    step__prediction_model])\n",
    "\n",
    "# Обучение\n",
    "pipeline = pipeline.fit(X_train, y_train)\n",
    "\n",
    "# Параметры обученной модели\n",
    "print(\"Параметры модели:\")\n",
    "for indx, coef in enumerate(pipeline.named_steps[\"linear_model\"].coef_):\n",
    "    print(\"\\tw{} = {}\".format(indx, coef))"
   ]
  },
  {
   "cell_type": "code",
   "execution_count": null,
   "metadata": {},
   "outputs": [],
   "source": [
    "# Функция предсказания\n",
    "f_pred = lambda x : polyval(x, pipeline.named_steps[\"linear_model\"].coef_)\n",
    "\n",
    "# Предсказания для тестового множества\n",
    "y_test__pred = pipeline.predict(X_test)\n",
    "\n",
    "# Ошибки на тестовом множестве\n",
    "mse_test = mean_squared_error(y_test, y_test__pred)\n",
    "r2_test = r2_score(y_test, y_test__pred)\n",
    "\n",
    "print(\"Тестовое множество:\")\n",
    "print(\"\\tTest MSE:\", mse_test)\n",
    "print(\"\\tTest R^2:\", r2_test)"
   ]
  },
  {
   "cell_type": "code",
   "execution_count": null,
   "metadata": {},
   "outputs": [],
   "source": [
    "# Графики\n",
    "\n",
    "xx = np.linspace(0,5,100)\n",
    "\n",
    "plt.figure(1, figsize=[12, 4])\n",
    "\n",
    "plt.subplot(1,2,1)\n",
    "plt.title(\"Train data\")\n",
    "plt.vlines(X_train, ymin=y_train, ymax=f_pred(X_train), colors=\"black\", linestyles=\"dotted\", lw=1, zorder=1)\n",
    "plt.scatter(X_train, y_train, color=\"green\", zorder=2)\n",
    "plt.plot(xx, f_pred(xx), \"-\", color=\"red\", lw=2, label=\"predicted\", zorder=2)\n",
    "plt.plot(xx, f(xx), \"-\", color=\"SteelBlue\", label=\"true function\", zorder=1)\n",
    "plt.plot(X_train, f_pred(X_train), \"o\", color=\"red\", lw=2, zorder=3)\n",
    "plt.xlabel(\"$x$\")\n",
    "plt.ylabel(\"$\\hat{h}(x)$\")\n",
    "plt.legend()\n",
    "plt.grid(True)\n",
    "\n",
    "plt.subplot(1,2,2)\n",
    "plt.title(\"Test data\")\n",
    "plt.vlines(X_test, ymin=y_test, ymax=f_pred(X_test), colors=\"black\", linestyles=\"dotted\", lw=1, zorder=1)\n",
    "plt.scatter(X_test, y_test, color=\"green\", zorder=2)\n",
    "plt.plot(xx, f_pred(xx), \"-\", color=\"red\", lw=2, label=\"predicted\", zorder=2)\n",
    "plt.plot(xx, f(xx), \"-\", color=\"SteelBlue\", label=\"true function\", zorder=1)\n",
    "plt.plot(X_test, f_pred(X_test), \"o\", color=\"red\", lw=2, zorder=3)\n",
    "plt.xlabel(\"$x$\")\n",
    "plt.ylabel(\"$\\hat{h}(x)$\")\n",
    "plt.legend()\n",
    "plt.grid(True)\n",
    "\n",
    "plt.show()"
   ]
  },
  {
   "cell_type": "markdown",
   "metadata": {},
   "source": [
    "<a name=\"3\"></a>\n",
    "<div style=\"display:table; width:100%; padding-top:10px; padding-bottom:10px; border-bottom:1px solid lightgrey\">\n",
    "    <div style=\"display:table-row\">\n",
    "        <div style=\"display:table-cell; width:80%; font-size:16pt; font-weight:bold\">3. Источники</div>\n",
    "    \t<div style=\"display:table-cell; width:20%; text-align:center; background-color:whitesmoke; border:1px solid lightgrey\"><a href=\"#0\">К содержанию</a></div>\n",
    "    </div>\n",
    "</div>"
   ]
  },
  {
   "cell_type": "markdown",
   "metadata": {},
   "source": [
    "- [LinearRegression](http://scikit-learn.org/stable/modules/generated/sklearn.linear_model.LinearRegression.html)\n",
    "- [PolynomialFeatures](https://scikit-learn.org/stable/modules/generated/sklearn.preprocessing.PolynomialFeatures.html)"
   ]
  },
  {
   "cell_type": "code",
   "execution_count": null,
   "metadata": {},
   "outputs": [],
   "source": []
  }
 ],
 "metadata": {
  "kernelspec": {
   "display_name": "Python 3",
   "language": "python",
   "name": "python3"
  },
  "language_info": {
   "codemirror_mode": {
    "name": "ipython",
    "version": 3
   },
   "file_extension": ".py",
   "mimetype": "text/x-python",
   "name": "python",
   "nbconvert_exporter": "python",
   "pygments_lexer": "ipython3",
   "version": "3.7.3"
  }
 },
 "nbformat": 4,
 "nbformat_minor": 1
}
