{
 "cells": [
  {
   "cell_type": "markdown",
   "metadata": {},
   "source": [
    "<div style=\"font-size:18pt; padding-top:20px; text-align:center\">СЕМИНАР. <b>Классификация</b></div><hr>\n",
    "<div style=\"text-align:right;\">Папулин С.Ю. <span style=\"font-style: italic;font-weight: bold;\">(papulin.study@yandex.ru)</span></div>"
   ]
  },
  {
   "cell_type": "markdown",
   "metadata": {},
   "source": [
    "<a name=\"0\"></a>\n",
    "<div><span style=\"font-size:14pt; font-weight:bold\">Содержание</span>\n",
    "    <ol>\n",
    "        <li><a href=\"#1\">Бинарная классификация</a>\n",
    "        <li><a href=\"#2\">Многоклассовая классификация</a>\n",
    "        <li><a href=\"#3\">Источники</a>\n",
    "        </li>\n",
    "    </ol>\n",
    "</div>"
   ]
  },
  {
   "cell_type": "markdown",
   "metadata": {},
   "source": [
    "<p><b>Подключение библиотек</b></p>"
   ]
  },
  {
   "cell_type": "code",
   "execution_count": null,
   "metadata": {},
   "outputs": [],
   "source": [
    "from sklearn.datasets import make_classification\n",
    "\n",
    "from sklearn.linear_model import LogisticRegression\n",
    "from sklearn.neighbors import KNeighborsClassifier\n",
    "from sklearn.naive_bayes import GaussianNB\n",
    "from sklearn.svm import SVC\n",
    "from sklearn.ensemble import RandomForestClassifier\n",
    "\n",
    "from sklearn.model_selection import train_test_split\n",
    "\n",
    "import matplotlib.pyplot as plt\n",
    "from matplotlib.colors import ListedColormap\n",
    "from matplotlib import cm\n",
    "%matplotlib inline"
   ]
  },
  {
   "cell_type": "code",
   "execution_count": null,
   "metadata": {},
   "outputs": [],
   "source": [
    "import sys\n",
    "sys.path.insert(0, \"../lib/\")\n",
    "from plot_utils import CPlot, RPlot"
   ]
  },
  {
   "cell_type": "markdown",
   "metadata": {},
   "source": [
    "<a name=\"1\"></a>\n",
    "<div style=\"display:table; width:100%; padding-top:10px; padding-bottom:10px; border-bottom:1px solid lightgrey\">\n",
    "    <div style=\"display:table-row\">\n",
    "        <div style=\"display:table-cell; width:80%; font-size:16pt; font-weight:bold\">1. Бинарная классификация</div>\n",
    "    \t<div style=\"display:table-cell; width:20%; text-align:center; background-color:whitesmoke; border:1px solid lightgrey\"><a href=\"#0\">К содержанию</a></div>\n",
    "    </div>\n",
    "</div>"
   ]
  },
  {
   "cell_type": "markdown",
   "metadata": {},
   "source": [
    "<p><b>Исходные данные</b></p>"
   ]
  },
  {
   "cell_type": "code",
   "execution_count": null,
   "metadata": {},
   "outputs": [],
   "source": [
    "n = 500\n",
    "x, y = make_classification(n_samples=n, n_features=2, n_redundant=0, \n",
    "                           n_informative=2, n_clusters_per_class=1, n_classes=2, class_sep=0.25,\n",
    "                           random_state=19)"
   ]
  },
  {
   "cell_type": "code",
   "execution_count": null,
   "metadata": {},
   "outputs": [],
   "source": [
    "CLR_MAP = ListedColormap([\"blue\", \"red\"])"
   ]
  },
  {
   "cell_type": "code",
   "execution_count": null,
   "metadata": {},
   "outputs": [],
   "source": [
    "CPlot.show_init_data_plot(x, y, CLR_MAP)"
   ]
  },
  {
   "cell_type": "markdown",
   "metadata": {},
   "source": [
    "Формирование обучающего и тестового подмножеств"
   ]
  },
  {
   "cell_type": "code",
   "execution_count": null,
   "metadata": {},
   "outputs": [],
   "source": [
    "X_train, X_test, y_train, y_test = train_test_split(x, y, test_size=0.3, random_state=12)"
   ]
  },
  {
   "cell_type": "markdown",
   "metadata": {},
   "source": [
    "#### Логистическая регрессия"
   ]
  },
  {
   "cell_type": "code",
   "execution_count": null,
   "metadata": {},
   "outputs": [],
   "source": [
    "# Обучение\n",
    "logreg_model = LogisticRegression(penalty=\"l2\", fit_intercept=True, max_iter=100, C=1e5, \n",
    "                                         solver=\"lbfgs\", random_state=1234)\n",
    "\n",
    "get_ipython().run_line_magic('timeit', 'logreg_model.fit(X_train, y_train)')\n",
    "\n",
    "# Проверка на тестовом подмножестве\n",
    "score_logreg_model = logreg_model.score(X_test, y_test)\n",
    "print(\"Test Accuracy = \", score_logreg_model)"
   ]
  },
  {
   "cell_type": "markdown",
   "metadata": {},
   "source": [
    "#### Метод ближайших соседей"
   ]
  },
  {
   "cell_type": "code",
   "execution_count": null,
   "metadata": {},
   "outputs": [],
   "source": [
    "# Обучение\n",
    "knn_model = KNeighborsClassifier(n_neighbors=5, p=2)\n",
    "\n",
    "get_ipython().run_line_magic('timeit', 'knn_model.fit(X_train, y_train)')\n",
    "\n",
    "# Проверка на тестовом подмножестве\n",
    "score_knn_model = knn_model.score(X_test, y_test)\n",
    "print(f\"Test Accuracy = {score_knn_model}\")"
   ]
  },
  {
   "cell_type": "markdown",
   "metadata": {},
   "source": [
    "#### Байесовский классификатор"
   ]
  },
  {
   "cell_type": "code",
   "execution_count": null,
   "metadata": {},
   "outputs": [],
   "source": [
    "# Обучение\n",
    "bayes_model = GaussianNB()\n",
    "\n",
    "get_ipython().run_line_magic('timeit', 'logreg_model.fit(X_train, y_train)')\n",
    "\n",
    "# Проверка на тестовом подмножестве\n",
    "score_bayes_model = bayes_model.score(X_test, y_test)\n",
    "print(f\"Test Accuracy = {score_bayes_model}\")"
   ]
  },
  {
   "cell_type": "markdown",
   "metadata": {},
   "source": [
    "#### Метод опорных векторов"
   ]
  },
  {
   "cell_type": "code",
   "execution_count": null,
   "metadata": {},
   "outputs": [],
   "source": [
    "# Обучение\n",
    "svm_model = SVC(kernel=\"linear\")\n",
    "\n",
    "get_ipython().run_line_magic('timeit', 'svm_model.fit(X_train, y_train)')\n",
    "\n",
    "# Проверка на тестовом подмножестве\n",
    "score_svm_model = svm_model.score(X_test, y_test)\n",
    "print(f\"Test Accuracy = {score_svm_model}\")"
   ]
  },
  {
   "cell_type": "markdown",
   "metadata": {},
   "source": [
    "#### Случайный лес"
   ]
  },
  {
   "cell_type": "code",
   "execution_count": null,
   "metadata": {},
   "outputs": [],
   "source": [
    "# Обучение\n",
    "rf_model = RandomForestClassifier(n_estimators=10, criterion=\"entropy\", bootstrap=True, \n",
    "                                  oob_score=False, random_state=0)\n",
    "\n",
    "get_ipython().run_line_magic('timeit', 'rf_model.fit(X_train, y_train)')\n",
    "\n",
    "# Проверка на тестовом подмножестве\n",
    "score_rf_model = rf_model.score(X_test, y_test)\n",
    "print(\"Test Score = \", score_rf_model)"
   ]
  },
  {
   "cell_type": "markdown",
   "metadata": {},
   "source": [
    "<p><b>Графики</b></p>"
   ]
  },
  {
   "cell_type": "code",
   "execution_count": null,
   "metadata": {},
   "outputs": [],
   "source": [
    "CPlot.show_train_test_plots(logreg_model, X_train, y_train, X_test, y_test, \n",
    "                            title=\"Logistic Regression\", cmap=CLR_MAP)\n",
    "CPlot.show_train_test_plots(knn_model, X_train, y_train, X_test, y_test, \n",
    "                            title=\"K-Nearest Neighbors\", cmap=CLR_MAP)\n",
    "CPlot.show_train_test_plots(bayes_model, X_train, y_train, X_test, y_test, \n",
    "                            title=\"Gaussian Naive Bayes\", cmap=CLR_MAP)\n",
    "CPlot.show_train_test_plots(svm_model, X_train, y_train, X_test, y_test, \n",
    "                            title=\"Support Vector Machine\", cmap=CLR_MAP)\n",
    "CPlot.show_train_test_plots(rf_model, X_train, y_train, X_test, y_test, \n",
    "                            title=\"Random Forest\", cmap=CLR_MAP)"
   ]
  },
  {
   "cell_type": "code",
   "execution_count": null,
   "metadata": {},
   "outputs": [],
   "source": [
    "CPlot.show_train_test_plots(logreg_model, X_train, y_train, X_test, y_test, \n",
    "                            title=\"Logistic Regression\", cmap=CLR_MAP, proba=True)\n",
    "CPlot.show_train_test_plots(knn_model, X_train, y_train, X_test, y_test, \n",
    "                            title=\"K-Nearest Neighbors\", cmap=CLR_MAP, proba=True)\n",
    "CPlot.show_train_test_plots(bayes_model, X_train, y_train, X_test, y_test, \n",
    "                            title=\"Gaussian Naive Bayes\", cmap=CLR_MAP, proba=True)\n",
    "CPlot.show_train_test_plots(svm_model, X_train, y_train, X_test, y_test, \n",
    "                            title=\"Support Vector Machine\", cmap=CLR_MAP, proba=True)\n",
    "CPlot.show_train_test_plots(rf_model, X_train, y_train, X_test, y_test, \n",
    "                            title=\"Random Forest\", cmap=CLR_MAP, proba=True)"
   ]
  },
  {
   "cell_type": "markdown",
   "metadata": {},
   "source": [
    "<a name=\"2\"></a>\n",
    "<div style=\"display:table; width:100%; padding-top:10px; padding-bottom:10px; border-bottom:1px solid lightgrey\">\n",
    "    <div style=\"display:table-row\">\n",
    "        <div style=\"display:table-cell; width:80%; font-size:16pt; font-weight:bold\">2. Многоклассовая классификация</div>\n",
    "    \t<div style=\"display:table-cell; width:20%; text-align:center; background-color:whitesmoke; border:1px solid lightgrey\"><a href=\"#0\">К содержанию</a></div>\n",
    "    </div>\n",
    "</div>"
   ]
  },
  {
   "cell_type": "markdown",
   "metadata": {},
   "source": [
    "<p><b>Исходные данные</b></p>"
   ]
  },
  {
   "cell_type": "code",
   "execution_count": null,
   "metadata": {},
   "outputs": [],
   "source": [
    "n = 100\n",
    "X, y = make_classification(n_samples=n, n_features=2, n_redundant=0, \n",
    "                           n_informative=2, n_clusters_per_class=1, n_classes=3, class_sep=1,\n",
    "                           random_state=1234)"
   ]
  },
  {
   "cell_type": "code",
   "execution_count": null,
   "metadata": {},
   "outputs": [],
   "source": [
    "CLR_MAP = ListedColormap([\"blue\", \"red\", \"green\"])"
   ]
  },
  {
   "cell_type": "code",
   "execution_count": null,
   "metadata": {},
   "outputs": [],
   "source": [
    "CPlot.show_init_data_plot(X, y, CLR_MAP)"
   ]
  },
  {
   "cell_type": "markdown",
   "metadata": {},
   "source": [
    "Формирование обучающего и тестового подмножеств"
   ]
  },
  {
   "cell_type": "code",
   "execution_count": null,
   "metadata": {},
   "outputs": [],
   "source": [
    "X_train, X_test, y_train, y_test = train_test_split(X, y, test_size=0.3, random_state=12)"
   ]
  },
  {
   "cell_type": "markdown",
   "metadata": {},
   "source": [
    "#### Логистическая регрессия"
   ]
  },
  {
   "cell_type": "code",
   "execution_count": null,
   "metadata": {},
   "outputs": [],
   "source": [
    "# Обучение\n",
    "logreg_model = LogisticRegression(penalty=\"l2\", fit_intercept=True, max_iter=100, C=1e5, \n",
    "                                  solver=\"lbfgs\", multi_class=\"multinomial\", random_state=1234)\n",
    "\n",
    "get_ipython().run_line_magic('timeit', 'logreg_model.fit(X_train, y_train)')\n",
    "\n",
    "# Проверка на тестовом подмножестве\n",
    "score_logreg_model = logreg_model.score(X_test, y_test)\n",
    "print(\"Test Accuracy = \", score_logreg_model)"
   ]
  },
  {
   "cell_type": "markdown",
   "metadata": {},
   "source": [
    "#### Метод ближайших соседей"
   ]
  },
  {
   "cell_type": "code",
   "execution_count": null,
   "metadata": {},
   "outputs": [],
   "source": [
    "# Обучение\n",
    "knn_model = KNeighborsClassifier(n_neighbors=5, p=2)\n",
    "\n",
    "get_ipython().run_line_magic('timeit', 'knn_model.fit(X_train, y_train)')\n",
    "\n",
    "# Проверка на тестовом подмножестве\n",
    "score_knn_model = knn_model.score(X_test, y_test)\n",
    "print(f\"Test Accuracy = {score_knn_model}\")"
   ]
  },
  {
   "cell_type": "markdown",
   "metadata": {},
   "source": [
    "#### Байесовский классификатор"
   ]
  },
  {
   "cell_type": "code",
   "execution_count": null,
   "metadata": {},
   "outputs": [],
   "source": [
    "# Обучение\n",
    "bayes_model = GaussianNB()\n",
    "\n",
    "get_ipython().run_line_magic('timeit', 'bayes_model.fit(X_train, y_train)')\n",
    "\n",
    "# Проверка на тестовом подмножестве\n",
    "score_bayes_model = bayes_model.score(X_test, y_test)\n",
    "print(f\"Test Accuracy = {score_bayes_model}\")"
   ]
  },
  {
   "cell_type": "markdown",
   "metadata": {},
   "source": [
    "#### Метод опорных векторов"
   ]
  },
  {
   "cell_type": "code",
   "execution_count": null,
   "metadata": {},
   "outputs": [],
   "source": [
    "# Обучение\n",
    "svm_model = SVC(kernel=\"linear\")\n",
    "\n",
    "get_ipython().run_line_magic('timeit', 'svm_model.fit(X_train, y_train)')\n",
    "\n",
    "# Проверка на тестовом подмножестве\n",
    "score_svm_model = svm_model.score(X_test, y_test)\n",
    "print(f\"Test Accuracy = {score_svm_model}\")"
   ]
  },
  {
   "cell_type": "markdown",
   "metadata": {},
   "source": [
    "#### Случайный лес"
   ]
  },
  {
   "cell_type": "code",
   "execution_count": null,
   "metadata": {},
   "outputs": [],
   "source": [
    "# Обучение\n",
    "rf_model = RandomForestClassifier(n_estimators=10, criterion=\"entropy\", bootstrap=True, \n",
    "                                  oob_score=False, random_state=0)\n",
    "\n",
    "get_ipython().run_line_magic('timeit', 'rf_model.fit(X_train, y_train)')\n",
    "\n",
    "# Проверка на тестовом подмножестве\n",
    "score_rf_model = rf_model.score(X_test, y_test)\n",
    "print(f\"Test Score = {score_rf_model}\")"
   ]
  },
  {
   "cell_type": "markdown",
   "metadata": {},
   "source": [
    "<p><b>Графики</b></p>"
   ]
  },
  {
   "cell_type": "code",
   "execution_count": null,
   "metadata": {},
   "outputs": [],
   "source": [
    "CPlot.show_train_test_plots(logreg_model, X_train, y_train, X_test, y_test, \n",
    "                            title=\"Logistic Regression\", cmap=CLR_MAP)\n",
    "CPlot.show_train_test_plots(knn_model, X_train, y_train, X_test, y_test, \n",
    "                            title=\"K-Nearest Neighbors\", cmap=CLR_MAP)\n",
    "CPlot.show_train_test_plots(bayes_model, X_train, y_train, X_test, y_test, \n",
    "                            title=\"Gaussian Naive Bayes\", cmap=CLR_MAP)\n",
    "CPlot.show_train_test_plots(svm_model, X_train, y_train, X_test, y_test, \n",
    "                            title=\"Support Vector Machine\", cmap=CLR_MAP)\n",
    "CPlot.show_train_test_plots(rf_model, X_train, y_train, X_test, y_test, \n",
    "                            title=\"Random Forest\", cmap=CLR_MAP)"
   ]
  },
  {
   "cell_type": "markdown",
   "metadata": {},
   "source": [
    "<a name=\"3\"></a>\n",
    "<div style=\"display:table; width:100%; padding-top:10px; padding-bottom:10px; border-bottom:1px solid lightgrey\">\n",
    "    <div style=\"display:table-row\">\n",
    "        <div style=\"display:table-cell; width:80%; font-size:14pt; font-weight:bold\">3. Источники</div>\n",
    "    \t<div style=\"display:table-cell; width:20%; text-align:center; background-color:whitesmoke; border:1px solid lightgrey\"><a href=\"#0\">К содержанию</a></div>\n",
    "    </div>\n",
    "</div>"
   ]
  },
  {
   "cell_type": "markdown",
   "metadata": {},
   "source": [
    "<a href=\"http://scikit-learn.org/stable/auto_examples/datasets/plot_random_dataset.html#example-datasets-plot-random-dataset-py\">Plot randomly generated classification dataset</a><br>\n",
    "<a href=\"http://scikit-learn.org/stable/auto_examples/classification/plot_classifier_comparison.html#example-classification-plot-classifier-comparison-py\">Classifier comparison</a>"
   ]
  }
 ],
 "metadata": {
  "kernelspec": {
   "display_name": "Python 3 (ipykernel)",
   "language": "python",
   "name": "python3"
  },
  "language_info": {
   "codemirror_mode": {
    "name": "ipython",
    "version": 3
   },
   "file_extension": ".py",
   "mimetype": "text/x-python",
   "name": "python",
   "nbconvert_exporter": "python",
   "pygments_lexer": "ipython3",
   "version": "3.9.21"
  }
 },
 "nbformat": 4,
 "nbformat_minor": 4
}
