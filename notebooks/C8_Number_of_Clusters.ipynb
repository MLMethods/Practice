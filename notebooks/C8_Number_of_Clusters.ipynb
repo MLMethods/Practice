{
 "cells": [
  {
   "cell_type": "markdown",
   "metadata": {},
   "source": [
    "<div style=\"font-size:18pt; padding-top:20px; text-align:center\">СЕМИНАР. <b>Определение количества кластеров</b></div><hr>\n",
    "<div style=\"text-align:right;\">Папулин С.Ю. <span style=\"font-style: italic;font-weight: bold;\">(papulin.study@yandex.ru)</span></div>"
   ]
  },
  {
   "cell_type": "code",
   "execution_count": null,
   "metadata": {},
   "outputs": [],
   "source": [
    "import warnings\n",
    "warnings.filterwarnings('ignore') "
   ]
  },
  {
   "cell_type": "code",
   "execution_count": null,
   "metadata": {},
   "outputs": [],
   "source": [
    "import numpy as np\n",
    "import pandas as pnd\n",
    "import matplotlib.pyplot as plt\n",
    "\n",
    "from sklearn.cluster import KMeans\n",
    "\n",
    "from sklearn.datasets import make_classification\n",
    "\n",
    "%matplotlib inline"
   ]
  },
  {
   "cell_type": "code",
   "execution_count": null,
   "metadata": {},
   "outputs": [],
   "source": [
    "from sklearn.metrics import (\n",
    "    silhouette_score, \n",
    "    calinski_harabasz_score, \n",
    "    davies_bouldin_score,\n",
    "    adjusted_rand_score,\n",
    "    adjusted_mutual_info_score,\n",
    "    fowlkes_mallows_score\n",
    ")"
   ]
  },
  {
   "cell_type": "code",
   "execution_count": null,
   "metadata": {},
   "outputs": [],
   "source": [
    "from matplotlib.colors import ListedColormap\n",
    "clrMap = ListedColormap([\"blue\", \"red\", \"green\", \"yellow\", \"purple\", \"orange\"])"
   ]
  },
  {
   "cell_type": "markdown",
   "metadata": {},
   "source": [
    "<h3><b>1. Формирование начальных данных</b></h3>"
   ]
  },
  {
   "cell_type": "markdown",
   "metadata": {},
   "source": [
    "<p>Формируем набор данных из 500 элементов с тремя признаками и 5-ю классами (один кластер на один класс)</p>"
   ]
  },
  {
   "cell_type": "code",
   "execution_count": null,
   "metadata": {},
   "outputs": [],
   "source": [
    "NUM_SAMPLES = 500\n",
    "RANDOM_STATE = 12345"
   ]
  },
  {
   "cell_type": "code",
   "execution_count": null,
   "metadata": {},
   "outputs": [],
   "source": [
    "X, y = make_classification(n_samples=NUM_SAMPLES, n_features=3, n_redundant=0,\n",
    "                           n_informative=3, n_clusters_per_class=1, n_classes=5, \n",
    "                           class_sep=2,random_state=RANDOM_STATE)"
   ]
  },
  {
   "cell_type": "markdown",
   "metadata": {},
   "source": [
    "<p>Отображаем исходные данные без указания кластеров</p>"
   ]
  },
  {
   "cell_type": "code",
   "execution_count": null,
   "metadata": {},
   "outputs": [],
   "source": [
    "plt.figure(figsize=[15, 5])\n",
    "\n",
    "plt.subplot(1,3,1)\n",
    "plt.title(\"X1-X2\")\n",
    "plt.xlabel(\"X1\")\n",
    "plt.ylabel(\"X2\")\n",
    "plt.scatter(X[:,0], X[:,1])\n",
    "plt.grid(True)\n",
    "\n",
    "plt.subplot(1,3,2)\n",
    "plt.title(\"X1-X3\")\n",
    "plt.xlabel(\"X1\")\n",
    "plt.ylabel(\"X3\")\n",
    "plt.scatter(X[:,0], X[:,2])\n",
    "plt.grid(True)\n",
    "\n",
    "plt.subplot(1,3,3)\n",
    "plt.title(\"X2-X3\")\n",
    "plt.xlabel(\"X2\")\n",
    "plt.ylabel(\"X3\")\n",
    "plt.scatter(X[:,1], X[:,2])\n",
    "plt.grid(True)\n",
    "\n",
    "plt.tight_layout()\n",
    "\n",
    "plt.show()"
   ]
  },
  {
   "cell_type": "markdown",
   "metadata": {},
   "source": [
    "<p>Отображаем исходные данные с исходными (действительными) кластерами</p>"
   ]
  },
  {
   "cell_type": "code",
   "execution_count": null,
   "metadata": {},
   "outputs": [],
   "source": [
    "plt.figure(figsize=[15, 5])\n",
    "\n",
    "plt.subplot(1,3,1)\n",
    "plt.title(\"X1-X2\")\n",
    "plt.xlabel(\"X1\")\n",
    "plt.ylabel(\"X2\")\n",
    "plt.scatter(X[:,0], X[:,1], c=y, cmap=clrMap)\n",
    "plt.grid(True)\n",
    "\n",
    "plt.subplot(1,3,2)\n",
    "plt.title(\"X1-X3\")\n",
    "plt.xlabel(\"X1\")\n",
    "plt.ylabel(\"X3\")\n",
    "plt.scatter(X[:,0], X[:,2], c=y, cmap=clrMap)\n",
    "plt.grid(True)\n",
    "\n",
    "plt.subplot(1,3,3)\n",
    "plt.title(\"X2-X3\")\n",
    "plt.xlabel(\"X2\")\n",
    "plt.ylabel(\"X3\")\n",
    "plt.scatter(X[:,1], X[:,2], c=y, cmap=clrMap)\n",
    "plt.grid(True)\n",
    "\n",
    "plt.tight_layout()\n",
    "\n",
    "plt.show()"
   ]
  },
  {
   "cell_type": "markdown",
   "metadata": {},
   "source": [
    "<h3><b>2. Поиск количества кластеров</b></h3>"
   ]
  },
  {
   "cell_type": "markdown",
   "metadata": {},
   "source": [
    "<p>В качестве метода кластеризации будем использовать k-means со следующими параметрами:</p>\n",
    "<ul>\n",
    "    <li>максимальное количество итераций (max_iter) - 300</li>\n",
    "    <li>способ задания начального положения кластеров (init) - k-means++ </li>\n",
    "    <li>количество повторных запусков алгоритма (n_init) - 20 - для поиска наилучшего разбиения данных на заданное количество кластеров (критерий выбора - разбиение с наименьшим показателем инерции)</li>\n",
    "    <li>количество кластеров (n_clusters) - регулируем</li>\n",
    "</ul>"
   ]
  },
  {
   "cell_type": "markdown",
   "metadata": {},
   "source": [
    "<p><b>A. Показатель инерции</b></p>"
   ]
  },
  {
   "cell_type": "markdown",
   "metadata": {},
   "source": [
    "<p>Определяем показатель инерции для различного количества кластеров</p>"
   ]
  },
  {
   "cell_type": "code",
   "execution_count": null,
   "metadata": {},
   "outputs": [],
   "source": [
    "clusters = np.arange(2, 16)\n",
    "inert = np.full(clusters.size, 0)\n",
    "\n",
    "for i in range(clusters.size):\n",
    "    model = KMeans(n_clusters=clusters[i], max_iter=300, init=\"k-means++\", random_state=RANDOM_STATE, n_init=20)\n",
    "    model.fit(X)\n",
    "    inert[i] = model.inertia_"
   ]
  },
  {
   "cell_type": "markdown",
   "metadata": {},
   "source": [
    "<p>Строим график</p>"
   ]
  },
  {
   "cell_type": "code",
   "execution_count": null,
   "metadata": {},
   "outputs": [],
   "source": [
    "plt.title(\"NumClusters-Inertia\")\n",
    "plt.xlabel(\"Number of clusters\")\n",
    "plt.ylabel(\"Inertia\")\n",
    "plt.plot(clusters, inert, \"-o\")\n",
    "plt.grid(True)\n",
    "plt.show()"
   ]
  },
  {
   "cell_type": "markdown",
   "metadata": {},
   "source": [
    "<p>Определяем максимальное отношение между разностями инерции соседних значений количества кластеров</p>"
   ]
  },
  {
   "cell_type": "code",
   "execution_count": null,
   "metadata": {},
   "outputs": [],
   "source": [
    "def predict_cluster_index(inertias):\n",
    "    max_value = 0.0\n",
    "    indx = 1\n",
    "    for i in range(1, len(inertias)-1):\n",
    "        cur_value = (inertias[i-1]-inertias[i]) / (inertias[i]-inertias[i+1])\n",
    "        if cur_value > max_value:\n",
    "            max_value = cur_value\n",
    "            indx = i\n",
    "    return indx"
   ]
  },
  {
   "cell_type": "code",
   "execution_count": null,
   "metadata": {},
   "outputs": [],
   "source": [
    "num_clusters__inertia = clusters[predict_cluster_index(inert)]\n",
    "num_clusters__inertia"
   ]
  },
  {
   "cell_type": "markdown",
   "metadata": {},
   "source": [
    "<p><b>B. Коэффициент Silhouette</b></p>"
   ]
  },
  {
   "cell_type": "markdown",
   "metadata": {},
   "source": [
    "<p>Вычисляем коэффициенты Silhouette</p>"
   ]
  },
  {
   "cell_type": "code",
   "execution_count": null,
   "metadata": {},
   "outputs": [],
   "source": [
    "silhouette_scores = np.full(clusters.size, 0.0)\n",
    "for i in range(clusters.size):\n",
    "    model = KMeans(n_clusters=clusters[i], max_iter=300, init=\"k-means++\", n_init=20, random_state=RANDOM_STATE)\n",
    "    model.fit(X)\n",
    "    labels_pred = model.labels_\n",
    "    silhouette_scores[i] = silhouette_score(X, labels_pred, metric=\"euclidean\")"
   ]
  },
  {
   "cell_type": "markdown",
   "metadata": {},
   "source": [
    "<p>Строим график</p>"
   ]
  },
  {
   "cell_type": "code",
   "execution_count": null,
   "metadata": {},
   "outputs": [],
   "source": [
    "plt.title(\"NumClusters-Silhouette Coefficient\")\n",
    "plt.xlabel(\"Number of clusters\")\n",
    "plt.ylabel(\"Silhouette Coefficient\")\n",
    "plt.plot(clusters, silhouette_scores, \"-o\")\n",
    "plt.grid(True)\n",
    "plt.show()"
   ]
  },
  {
   "cell_type": "markdown",
   "metadata": {},
   "source": [
    "<p>Определяем наилучшее количество кластеров</p>"
   ]
  },
  {
   "cell_type": "code",
   "execution_count": null,
   "metadata": {},
   "outputs": [],
   "source": [
    "num_clusters__silhouette = clusters[silhouette_scores.argmax()]\n",
    "num_clusters__silhouette"
   ]
  },
  {
   "cell_type": "markdown",
   "metadata": {},
   "source": [
    "<p><b>B. Индекс Calinski-Harabaz</b></p>"
   ]
  },
  {
   "cell_type": "markdown",
   "metadata": {},
   "source": [
    "<p>Вычисляем индекс Calinski-Harabaz</p>"
   ]
  },
  {
   "cell_type": "code",
   "execution_count": null,
   "metadata": {},
   "outputs": [],
   "source": [
    "calinski_scores = np.full(clusters.size, 0.0)\n",
    "\n",
    "for i in range(clusters.size):\n",
    "    model = KMeans(n_clusters=clusters[i], max_iter=300, init=\"k-means++\", n_init=20, random_state=RANDOM_STATE)\n",
    "    model.fit(X)\n",
    "    labels_pred = model.labels_\n",
    "    calinski_scores[i] = calinski_harabasz_score(X, labels_pred)"
   ]
  },
  {
   "cell_type": "markdown",
   "metadata": {},
   "source": [
    "<p>Строим график</p>"
   ]
  },
  {
   "cell_type": "code",
   "execution_count": null,
   "metadata": {},
   "outputs": [],
   "source": [
    "plt.title(\"NumClusters-Calinski-Harabaz Index\")\n",
    "plt.xlabel(\"Number of clusters\")\n",
    "plt.ylabel(\"Calinski-Harabaz Index\")\n",
    "plt.plot(clusters, calinski_scores, \"-o\")\n",
    "plt.grid(True)\n",
    "plt.show()"
   ]
  },
  {
   "cell_type": "markdown",
   "metadata": {},
   "source": [
    "<p>Определяем наилучшее количество кластеров</p>"
   ]
  },
  {
   "cell_type": "code",
   "execution_count": null,
   "metadata": {},
   "outputs": [],
   "source": [
    "num_clusters__calinski = clusters[calinski_scores.argmax()]\n",
    "num_clusters__calinski"
   ]
  },
  {
   "cell_type": "markdown",
   "metadata": {},
   "source": [
    "<h3><b>3. Анализ полученных результатов с учетом знания о действительном количестве кластеров</b></h3>"
   ]
  },
  {
   "cell_type": "markdown",
   "metadata": {},
   "source": [
    "<p>Проверяемые значения: 5 и 7 кластеров</p>"
   ]
  },
  {
   "cell_type": "markdown",
   "metadata": {},
   "source": [
    "<p>Определяем модели для соответствующего количества кластеров</p>"
   ]
  },
  {
   "cell_type": "code",
   "execution_count": null,
   "metadata": {},
   "outputs": [],
   "source": [
    "model__num_5 = KMeans(n_clusters=5, max_iter=300, init=\"k-means++\", random_state=10, n_init=20)\n",
    "model__num_7 = KMeans(n_clusters=7, max_iter=300, init=\"k-means++\", random_state=10, n_init=20)"
   ]
  },
  {
   "cell_type": "markdown",
   "metadata": {},
   "source": [
    "<p>Запускаем поиск (обучение модели) кластеров</p>"
   ]
  },
  {
   "cell_type": "code",
   "execution_count": null,
   "metadata": {},
   "outputs": [],
   "source": [
    "labels_pred__num_5 = model__num_5.fit(X).labels_\n",
    "labels_pred__num_5[:10]"
   ]
  },
  {
   "cell_type": "code",
   "execution_count": null,
   "metadata": {},
   "outputs": [],
   "source": [
    "labels_pred__num_7 = model__num_7.fit(X).labels_\n",
    "labels_pred__num_7[:10]"
   ]
  },
  {
   "cell_type": "markdown",
   "metadata": {},
   "source": [
    "<p>Используем метрики для сравнения полученных (предсказанных) результатов с действительными значениям (полученными при формировании начальных данных)</p>"
   ]
  },
  {
   "cell_type": "markdown",
   "metadata": {},
   "source": [
    "<p><b>A. Adjusted Rand index</b></p>"
   ]
  },
  {
   "cell_type": "code",
   "execution_count": null,
   "metadata": {},
   "outputs": [],
   "source": [
    "# для 5 кластеров\n",
    "adjusted_rand_score(y, labels_pred__num_5) # от -1.0 до 1.0. -1.0 - плохо, 1.0 - хорошо"
   ]
  },
  {
   "cell_type": "code",
   "execution_count": null,
   "metadata": {},
   "outputs": [],
   "source": [
    "# для 7 кластеров\n",
    "adjusted_rand_score(y, labels_pred__num_7) "
   ]
  },
  {
   "cell_type": "markdown",
   "metadata": {},
   "source": [
    "<p><b>B. Mutual Information based scores</b></p>"
   ]
  },
  {
   "cell_type": "code",
   "execution_count": null,
   "metadata": {},
   "outputs": [],
   "source": [
    "# для 5 кластеров\n",
    "adjusted_mutual_info_score(y, labels_pred__num_5, \n",
    "                                   average_method=\"arithmetic\") # от 0 до 1. 0 - плохо, 1.0 - хорошо"
   ]
  },
  {
   "cell_type": "code",
   "execution_count": null,
   "metadata": {},
   "outputs": [],
   "source": [
    "# для 7 кластеров\n",
    "adjusted_mutual_info_score(y, labels_pred__num_7, \n",
    "                                   average_method=\"arithmetic\") "
   ]
  },
  {
   "cell_type": "markdown",
   "metadata": {},
   "source": [
    "<p><b>C. Fowlkes-Mallows scores</b></p>"
   ]
  },
  {
   "cell_type": "code",
   "execution_count": null,
   "metadata": {},
   "outputs": [],
   "source": [
    "# для 5 кластеров\n",
    "fowlkes_mallows_score(y, labels_pred__num_5) # от 0 до 1. 0 - плохо, 1.0 - хорошо"
   ]
  },
  {
   "cell_type": "code",
   "execution_count": null,
   "metadata": {},
   "outputs": [],
   "source": [
    "# для 7 кластеров\n",
    "fowlkes_mallows_score(y, labels_pred__num_7) "
   ]
  },
  {
   "cell_type": "markdown",
   "metadata": {},
   "source": [
    "## Кластеризация изображений цифр"
   ]
  },
  {
   "cell_type": "code",
   "execution_count": null,
   "metadata": {},
   "outputs": [],
   "source": [
    "from sklearn import datasets"
   ]
  },
  {
   "cell_type": "code",
   "execution_count": null,
   "metadata": {},
   "outputs": [],
   "source": [
    "RANDOM_STATE = 12345"
   ]
  },
  {
   "cell_type": "code",
   "execution_count": null,
   "metadata": {},
   "outputs": [],
   "source": [
    "# Загрузка исходных данных\n",
    "digits = datasets.load_digits()\n",
    "\n",
    "IMAGE_INDX = 3\n",
    "\n",
    "# Отображение одного изображения\n",
    "print(\"Image:\")\n",
    "plt.imshow(digits.images[IMAGE_INDX])\n",
    "plt.show()\n",
    "print(\"Feature matrix:\\n\", digits.images[IMAGE_INDX])\n",
    "print(\"\\nTarget value:\", digits.target[IMAGE_INDX])"
   ]
  },
  {
   "cell_type": "code",
   "execution_count": null,
   "metadata": {},
   "outputs": [],
   "source": [
    "# Преобразование исходных данных\n",
    "# Замечание: digits.data уже содержит преобразованные данные\n",
    "X = digits.images.reshape(len(digits.images), -1)\n",
    "labels_true = digits.target"
   ]
  },
  {
   "cell_type": "markdown",
   "metadata": {},
   "source": [
    "Подбор количества кластеров"
   ]
  },
  {
   "cell_type": "code",
   "execution_count": null,
   "metadata": {},
   "outputs": [],
   "source": [
    "num_clusters = np.arange(2, 17)\n",
    "\n",
    "metrics = [\n",
    "    (\"Inertia\", None),\n",
    "    (\"Silhouette Coefficient\", silhouette_score),\n",
    "    (\"Calinski-Harabasz Index\", calinski_harabasz_score),\n",
    "    (\"Davies-Bouldin Index\", davies_bouldin_score)\n",
    "]\n",
    "\n",
    "scores = [\n",
    "    np.full(len(num_clusters), float(\"inf\")),\n",
    "    np.full(len(num_clusters), 0.0),\n",
    "    np.full(len(num_clusters), float(\"inf\")),\n",
    "    np.full(len(num_clusters), float(\"inf\"))\n",
    "]\n",
    "\n",
    "for indx, num in enumerate(num_clusters):\n",
    "    model = KMeans(n_clusters=num, max_iter=300, init=\"k-means++\", n_init=20, random_state=RANDOM_STATE)\n",
    "    model.fit(X)\n",
    "    scores[0][indx] = model.inertia_\n",
    "    for j in range(1, len(metrics)):\n",
    "        scores[j][indx] = metrics[j][1](X, model.labels_)"
   ]
  },
  {
   "cell_type": "markdown",
   "metadata": {},
   "source": [
    "Отображение графиков"
   ]
  },
  {
   "cell_type": "code",
   "execution_count": null,
   "metadata": {},
   "outputs": [],
   "source": [
    "num_metrics = len(metrics)\n",
    "num_cmlns = 3\n",
    "num_rows = int(np.ceil(num_metrics/num_cmlns))\n",
    "\n",
    "plt.figure(figsize=[18, 4*num_rows])\n",
    "\n",
    "for row_indx in range(num_rows):\n",
    "    for clmn_indx in range(num_cmlns):\n",
    "        indx = num_cmlns*row_indx + clmn_indx\n",
    "        if indx == num_metrics:\n",
    "            break\n",
    "        plt.subplot(num_rows, num_cmlns, indx + 1)\n",
    "        plt.title(metrics[indx][0])\n",
    "        plt.xlabel(\"Number of clusters\")\n",
    "        plt.ylabel(metrics[indx][0])\n",
    "        plt.plot(num_clusters, scores[indx], \"-o\")\n",
    "        plt.grid(True)\n",
    "\n",
    "plt.tight_layout()\n",
    "plt.show()"
   ]
  },
  {
   "cell_type": "markdown",
   "metadata": {},
   "source": [
    "Количество кластеров по инерции"
   ]
  },
  {
   "cell_type": "code",
   "execution_count": null,
   "metadata": {},
   "outputs": [],
   "source": [
    "num_clusters[predict_cluster_index(scores[0])]"
   ]
  },
  {
   "cell_type": "markdown",
   "metadata": {},
   "source": [
    "Обучение"
   ]
  },
  {
   "cell_type": "code",
   "execution_count": null,
   "metadata": {},
   "outputs": [],
   "source": [
    "NUM_CLUSTERS = 9\n",
    "NUM_DISPLAY_IMAGES = 10"
   ]
  },
  {
   "cell_type": "code",
   "execution_count": null,
   "metadata": {},
   "outputs": [],
   "source": [
    "# Кластеризация\n",
    "model = KMeans(n_clusters=NUM_CLUSTERS, max_iter=300, init=\"k-means++\", n_init=20, random_state=RANDOM_STATE)\n",
    "model.fit(X)\n",
    "\n",
    "# Выявленные кластеры\n",
    "labels_pred = model.labels_\n",
    "\n",
    "for label in range(NUM_CLUSTERS):\n",
    "\n",
    "    # Индексы элементов кластера label\n",
    "    labels_pred__indices = np.asarray(labels_pred==label).nonzero()[0]\n",
    "    \n",
    "    # Выбираем случайным образом 10 индексов элементов кластера label\n",
    "    np.random.seed(RANDOM_STATE)\n",
    "    labels_pred___indices_ = np.random.choice(labels_pred__indices, NUM_DISPLAY_IMAGES, replace=False)\n",
    "    \n",
    "    # Отображения выбранных элементов кластера\n",
    "    print(\"Cluster label:\", label)\n",
    "    plt.figure(figsize=[14, 4])\n",
    "    for i in range(NUM_DISPLAY_IMAGES):\n",
    "        plt.subplot(1, NUM_DISPLAY_IMAGES, i+1)\n",
    "        plt.title(labels_pred___indices_[i])\n",
    "        plt.imshow(digits.images[labels_pred___indices_[i]])\n",
    "        plt.axis(\"off\")\n",
    "    plt.show()"
   ]
  },
  {
   "cell_type": "code",
   "execution_count": null,
   "metadata": {},
   "outputs": [],
   "source": [
    "from sklearn.metrics.cluster import contingency_matrix\n",
    "from sklearn.metrics import ConfusionMatrixDisplay"
   ]
  },
  {
   "cell_type": "code",
   "execution_count": null,
   "metadata": {},
   "outputs": [],
   "source": [
    "cm = contingency_matrix(labels_true, labels_pred)\n",
    "cm = np.c_[cm, np.zeros(cm.shape[0])]\n",
    "cm"
   ]
  },
  {
   "cell_type": "code",
   "execution_count": null,
   "metadata": {},
   "outputs": [],
   "source": [
    "disp = ConfusionMatrixDisplay(\n",
    "    confusion_matrix=cm,\n",
    "    display_labels=np.array(list(range(NUM_CLUSTERS + 1))),\n",
    ")\n",
    "disp.plot(values_format='1g')\n",
    "plt.title('Contingency matrix')\n",
    "plt.show()"
   ]
  },
  {
   "cell_type": "markdown",
   "metadata": {},
   "source": [
    "<h3><b>4. Источники</b></h3>"
   ]
  },
  {
   "cell_type": "markdown",
   "metadata": {},
   "source": [
    "<a href=\"http://scikit-learn.org/stable/modules/clustering.html\">Clustering</a><br>\n",
    "<a href=\"http://scikit-learn.org/stable/modules/generated/sklearn.cluster.KMeans.html#sklearn.cluster.KMeans\">sklearn.cluster.KMeans</a>"
   ]
  },
  {
   "cell_type": "code",
   "execution_count": null,
   "metadata": {},
   "outputs": [],
   "source": []
  }
 ],
 "metadata": {
  "kernelspec": {
   "display_name": "Python 3 (ipykernel)",
   "language": "python",
   "name": "python3"
  },
  "language_info": {
   "codemirror_mode": {
    "name": "ipython",
    "version": 3
   },
   "file_extension": ".py",
   "mimetype": "text/x-python",
   "name": "python",
   "nbconvert_exporter": "python",
   "pygments_lexer": "ipython3",
   "version": "3.11.7"
  }
 },
 "nbformat": 4,
 "nbformat_minor": 4
}
