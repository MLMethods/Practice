{
 "cells": [
  {
   "cell_type": "markdown",
   "metadata": {},
   "source": [
    "<div style=\"font-size:18pt; padding-top:20px; text-align:center; line-height: 1.5;\">СЕМИНАР. <b>Безусловная оптимизация.</b> Градиентный спуск</div><hr>\n",
    "<div style=\"text-align:right;\">Папулин С.Ю. <span style=\"font-style: italic;font-weight: bold;\">(papulin.study@yandex.ru)</span></div>"
   ]
  },
  {
   "cell_type": "markdown",
   "metadata": {},
   "source": [
    "<a name=\"0\"></a>\n",
    "<div><span style=\"font-size:14pt; font-weight:bold\">Содержание</span>\n",
    "    <ol>\n",
    "        <li><a href=\"#1\">Производная</a></li>\n",
    "        <li><a href=\"#2\">Градиентный спуск</a></li>\n",
    "    </ol>\n",
    "</div>"
   ]
  },
  {
   "cell_type": "code",
   "execution_count": null,
   "metadata": {},
   "outputs": [],
   "source": [
    "import numpy as np\n",
    "import pandas as pnd\n",
    "import matplotlib.pyplot as plt\n",
    "from mpl_toolkits.mplot3d import Axes3D\n",
    "from matplotlib import cm\n",
    "%matplotlib inline"
   ]
  },
  {
   "cell_type": "markdown",
   "metadata": {},
   "source": [
    "<a name=\"1\"></a>\n",
    "<div style=\"display:table; width:100%; padding-top:10px; padding-bottom:10px; border-bottom:1px solid lightgrey\">\n",
    "    <div style=\"display:table-row\">\n",
    "        <div style=\"display:table-cell; width:80%; font-size:16pt; font-weight:bold\">1. Производная</div>\n",
    "    \t<div style=\"display:table-cell; width:20%; text-align:center; background-color:whitesmoke; border:1px solid lightgrey\"><a href=\"#0\">К содержанию</a></div>\n",
    "    </div>\n",
    "</div>"
   ]
  },
  {
   "cell_type": "code",
   "execution_count": null,
   "metadata": {},
   "outputs": [],
   "source": [
    "from scipy.misc import derivative"
   ]
  },
  {
   "cell_type": "markdown",
   "metadata": {},
   "source": [
    "Производная в точке"
   ]
  },
  {
   "cell_type": "code",
   "execution_count": null,
   "metadata": {},
   "outputs": [],
   "source": [
    "x0 = -4\n",
    "f = lambda x: x**2\n",
    "\n",
    "\n",
    "# Производная в точке x0\n",
    "df_x0 = derivative(f, x0, n=1)\n",
    "print(\"f'(x0) =\", df_x0)\n",
    "\n",
    "# Вторая производная в точке x0\n",
    "ddf_x0 = derivative(f, x0, n=2)\n",
    "print(\"f''(x0) =\", ddf_x0)"
   ]
  },
  {
   "cell_type": "markdown",
   "metadata": {},
   "source": [
    "Производные на итервале значений"
   ]
  },
  {
   "cell_type": "code",
   "execution_count": null,
   "metadata": {},
   "outputs": [],
   "source": [
    "x_start = -4\n",
    "x_end = 5\n",
    "step = 1\n",
    "\n",
    "# Набор значений от x_start до x_end с шагом step\n",
    "x = np.arange(x_start, x_end, step)\n",
    "print(\"Значения:\", x)\n",
    "\n",
    "# Производные\n",
    "df = derivative(f, x, n=1)\n",
    "print(\"Производные:\", df)\n",
    "\n",
    "# Вторые производные\n",
    "ddf = derivative(f, x, n=2)\n",
    "print(\"Вторые производные:\", ddf)"
   ]
  },
  {
   "cell_type": "markdown",
   "metadata": {},
   "source": [
    "Отрицательная функция"
   ]
  },
  {
   "cell_type": "code",
   "execution_count": null,
   "metadata": {},
   "outputs": [],
   "source": [
    "f_neg = lambda x: - x**2"
   ]
  },
  {
   "cell_type": "code",
   "execution_count": null,
   "metadata": {},
   "outputs": [],
   "source": [
    "# Производные\n",
    "df_neg = derivative(f_neg, x, n=1)\n",
    "print(\"Производные:\", df_neg)\n",
    "\n",
    "# Вторые производные\n",
    "ddf_neg = derivative(f_neg, x, n=2)\n",
    "print(\"Вторые производные:\", ddf_neg)"
   ]
  },
  {
   "cell_type": "markdown",
   "metadata": {},
   "source": [
    "Графики"
   ]
  },
  {
   "cell_type": "code",
   "execution_count": null,
   "metadata": {},
   "outputs": [],
   "source": [
    "plt.figure(\"4\", figsize=[15,6])\n",
    "\n",
    "ax1 = plt.subplot(1,2,1)\n",
    "\n",
    "plt.plot(x, f(x), \"-o\", label=\"$f(x)=x^2$\")\n",
    "plt.plot(x, df, \"-o\", label=\"$f'(x)$\")\n",
    "plt.plot(x, ddf, \"-o\", label=\"$f''(x)$\")\n",
    "\n",
    "plt.title(\"$f(x)=x^2$\")\n",
    "\n",
    "plt.xlabel(\"x\")\n",
    "plt.ylabel(\"y\")\n",
    "\n",
    "plt.grid(True)\n",
    "\n",
    "plt.legend()\n",
    "\n",
    "ax2 = plt.subplot(1,2,2)\n",
    "\n",
    "plt.plot(x, f_neg(x), \"-o\",  label=\"$f_{neg}(x)=-x^2$\")\n",
    "plt.plot(x, df_neg, \"-o\", label=\"$f'_{neg}(x)$\")\n",
    "plt.plot(x, ddf_neg, \"-o\", label=\"$f''_{neg}(x)$\")\n",
    "\n",
    "plt.title(\"$f(x)=-x^2$\")\n",
    "\n",
    "plt.xlabel(\"x\")\n",
    "plt.ylabel(\"y\")\n",
    "\n",
    "plt.grid(True)\n",
    "\n",
    "plt.legend()\n",
    "\n",
    "plt.show()"
   ]
  },
  {
   "cell_type": "markdown",
   "metadata": {},
   "source": [
    "Функция:\n",
    "\n",
    "$$f(x) = x^2 + 10 \\cdot \\sin(x)$$"
   ]
  },
  {
   "cell_type": "code",
   "execution_count": null,
   "metadata": {},
   "outputs": [],
   "source": [
    "# Исходные данные\n",
    "x = np.arange(-10, 10, 0.1)\n",
    "f = lambda x: x**2 + 10 * np.sin(x)\n",
    "\n",
    "# Производные\n",
    "df = derivative(f, x, n=1)\n",
    "ddf = derivative(f, x, n=2)"
   ]
  },
  {
   "cell_type": "code",
   "execution_count": null,
   "metadata": {},
   "outputs": [],
   "source": [
    "# Поиск экстремумов (brute force)\n",
    "indx = np.where(np.logical_and(df >= -0.35, df <= 0.25))\n",
    "indx"
   ]
  },
  {
   "cell_type": "markdown",
   "metadata": {},
   "source": [
    "Графики"
   ]
  },
  {
   "cell_type": "code",
   "execution_count": null,
   "metadata": {},
   "outputs": [],
   "source": [
    "plt.figure(\"4\", figsize=[8,6])\n",
    "\n",
    "ax1 = plt.subplot(1,1,1)\n",
    "\n",
    "plt.plot(x, f(x), \"-\", label=\"$f(x)$\")\n",
    "plt.plot(x, df, \"-\", label=\"$f'(x)$\")\n",
    "plt.plot(x, ddf, \"-\", label=\"$f''(x)$\")\n",
    "\n",
    "plt.plot(x[indx], f(x[indx]), \"o\", color=\"darkblue\")\n",
    "\n",
    "for xx in x[indx]:\n",
    "    plt.axvline(x=xx, color=\"grey\", linestyle=\"dashed\", linewidth=1)\n",
    "\n",
    "plt.title(\"$f(x)=x^2 + 10 \\cdot \\sin(x)$\")\n",
    "\n",
    "plt.xlabel(\"x\")\n",
    "plt.ylabel(\"y\")\n",
    "\n",
    "plt.grid(True)\n",
    "\n",
    "plt.legend()\n",
    "\n",
    "plt.show()"
   ]
  },
  {
   "cell_type": "markdown",
   "metadata": {},
   "source": [
    "<a name=\"2\"></a>\n",
    "<div style=\"display:table; width:100%; padding-top:10px; padding-bottom:10px; border-bottom:1px solid lightgrey\">\n",
    "    <div style=\"display:table-row\">\n",
    "        <div style=\"display:table-cell; width:80%; font-size:16pt; font-weight:bold\">2. Градиентный спуск</div>\n",
    "    \t<div style=\"display:table-cell; width:20%; text-align:center; background-color:whitesmoke; border:1px solid lightgrey\"><a href=\"#0\">К содержанию</a></div>\n",
    "    </div>\n",
    "</div>"
   ]
  },
  {
   "cell_type": "markdown",
   "metadata": {},
   "source": [
    "$$ \\mathbf{x}^{(i+1)} = \\mathbf{x}^{(i)}-\\alpha \\cdot \\bigtriangledown f \\left( \\mathbf{x}\\right)$$"
   ]
  },
  {
   "cell_type": "markdown",
   "metadata": {},
   "source": [
    "### Функция с одной переменной"
   ]
  },
  {
   "cell_type": "markdown",
   "metadata": {},
   "source": [
    "$$f(x) = x^2 + 10 \\sin(x)$$\n",
    "$$f^{'}(x) = 2x + 10 \\cos(x)$$"
   ]
  },
  {
   "cell_type": "code",
   "execution_count": null,
   "metadata": {},
   "outputs": [],
   "source": [
    "# Функция\n",
    "def f(x):\n",
    "    return x**2 + 10 * np.sin(x)\n",
    "\n",
    "# Производная\n",
    "def df(x):\n",
    "    return 2*x + 10 * np.cos(x)\n",
    "\n",
    "# Значения аргумента\n",
    "x = np.arange(-10, 10, 0.1)"
   ]
  },
  {
   "cell_type": "code",
   "execution_count": null,
   "metadata": {},
   "outputs": [],
   "source": [
    "plt.figure(\"1\")\n",
    "\n",
    "plt.grid(True)\n",
    "plt.plot(x, f(x))\n",
    "plt.plot(x, df(x))\n",
    "plt.title(\"$f(x) = x^2+10\\sin(x)$\")\n",
    "plt.xlabel(\"x\")\n",
    "plt.ylabel(\"f(x)\")\n",
    "plt.legend((\"$f(x)$\", \"$f^{\\prime}(x)$\"), loc=\"lower right\")\n",
    "plt.grid(True)\n",
    "\n",
    "plt.show()"
   ]
  },
  {
   "cell_type": "markdown",
   "metadata": {},
   "source": [
    "<p>Исследование влияния значения коэффициента альфа</p>"
   ]
  },
  {
   "cell_type": "markdown",
   "metadata": {},
   "source": [
    "<p><b><i>Начальная точка 1</i></b></p>"
   ]
  },
  {
   "cell_type": "markdown",
   "metadata": {},
   "source": [
    "$$x_0 = -8$$\n",
    "$$\\alpha \\in \\{ 0.02, 0.05, 0.1, 0.2, 0.4, 0.6\\}$$\n",
    "$$err_{min} = 10^{-3}$$\n",
    "$$iteration_{max} = 20$$"
   ]
  },
  {
   "cell_type": "markdown",
   "metadata": {},
   "source": [
    "<img src=\"img/gd-one-var-alpha-left.png\">"
   ]
  },
  {
   "cell_type": "markdown",
   "metadata": {},
   "source": [
    "<p><b><i>Начальная точка 2</i></b></p>"
   ]
  },
  {
   "cell_type": "markdown",
   "metadata": {},
   "source": [
    "$$x_0 = 8$$\n",
    "$$\\alpha \\in \\{ 0.02, 0.05, 0.1, 0.2, 0.4, 0.6\\}$$\n",
    "$$err_{min} = 10^{-3}$$\n",
    "$$iteration_{max} = 20$$"
   ]
  },
  {
   "cell_type": "markdown",
   "metadata": {},
   "source": [
    "<img src=\"img/gd-one-var-alpha-right.png\">"
   ]
  },
  {
   "cell_type": "markdown",
   "metadata": {},
   "source": [
    "### Функция с двумя переменными"
   ]
  },
  {
   "cell_type": "markdown",
   "metadata": {},
   "source": [
    "Исходная функция:\n",
    "\n",
    "$$f(x_1, x_2) = 2x_1^2 + x_2^2 + x_1x_2$$\n",
    "\n",
    "Частная производная по $x_1$:\n",
    "\n",
    "$$\\frac {\\partial f(x_1, x_2)}{\\partial x_1}  = 4x_1 + x_2$$\n",
    "\n",
    "Частная производная по $x_2$:\n",
    "$$\\frac {\\partial f(x_1, x_2)}{\\partial x_2}  = 2x_2 + x_1$$"
   ]
  },
  {
   "cell_type": "code",
   "execution_count": null,
   "metadata": {},
   "outputs": [],
   "source": [
    "f = lambda x1, x2: 2*x1**2 + x2**2 +x1*x2  # функция\n",
    "dfx1 = lambda x1, x2: 4*x1 + x2  # частная производная по x1\n",
    "dfx2 = lambda x1, x2: 2*x2 + x1  # частная производная по x2\n",
    "\n",
    "coord_x1 = np.arange(-4, 5, 0.1)  # значения x c шагом 1\n",
    "coord_x2 = np.arange(-4, 5, 0.1)  # значения x c шагом 1\n",
    "\n",
    "x1, x2 = np.meshgrid(coord_x1, coord_x2)"
   ]
  },
  {
   "cell_type": "code",
   "execution_count": null,
   "metadata": {},
   "outputs": [],
   "source": [
    "fig = plt.figure(1, figsize=(10, 10))\n",
    "\n",
    "ax0 = fig.add_subplot(2, 2, 1, projection=\"3d\")\n",
    "ax0.set_title(\"$f(x_1,x_2)=2x^2_{1}+x^2_{2}+x_{1}x_{2}$\")\n",
    "ax0.plot_surface(x1, x2, f(x1,x2), rstride=1, cstride=1, cmap=cm.coolwarm,\n",
    "                       linewidth=0, antialiased=True)\n",
    "ax0.set_xlabel(\"$x_1$\")\n",
    "ax0.set_ylabel(\"$x_2$\")\n",
    "ax0.set_zlabel(\"$f(x_1,x_2)$\")\n",
    "\n",
    "ax1 = plt.subplot(2,2,2)\n",
    "ax1.set_title(\"$f(x_1,x_2)=2x^2_{1}+x^2_{2}+x_{1}x_{2}$\")\n",
    "cf = ax1.contourf(x1, x2, f(x1,x2), 20, alpha=0.5, cmap=cm.coolwarm)\n",
    "plt.colorbar(cf)\n",
    "ax1.set_xlabel(\"$x_1$\")\n",
    "ax1.set_ylabel(\"$x_2$\")\n",
    "\n",
    "ax2 = plt.subplot(2,2,3)\n",
    "ax2.set_title(\"Gradient\")\n",
    "ax2.set_xlabel(\"$x_1$\")\n",
    "ax2.set_ylabel(\"$x_2$\")\n",
    "ax2.quiver(x1[0::5, 0::5], x2[0::5, 0::5], \n",
    "           dfx1(x1[0::5, 0::5],x2[0::5, 0::5]), dfx2(x1[0::5, 0::5],x2[0::5, 0::5]), scale=100)\n",
    "\n",
    "ax3 = plt.subplot(2,2,4)\n",
    "ax3.set_title(\"Gradient\")\n",
    "ax3.set_xlabel(\"$x_1$\")\n",
    "ax3.set_ylabel(\"$x_2$\")\n",
    "cf = ax3.contourf(x1, x2, f(x1,x2), 20, cmap=cm.coolwarm)\n",
    "plt.colorbar(cf)\n",
    "ax3.quiver(x1[0::5, 0::5], x2[0::5, 0::5], \n",
    "           dfx1(x1[0::5, 0::5],x2[0::5, 0::5]), dfx2(x1[0::5, 0::5],x2[0::5, 0::5]), scale=100)\n",
    "\n",
    "plt.tight_layout()\n",
    "\n",
    "plt.show()"
   ]
  },
  {
   "cell_type": "markdown",
   "metadata": {},
   "source": [
    "<p>Исследование влияния значения коэффициента альфа</p>"
   ]
  },
  {
   "cell_type": "markdown",
   "metadata": {},
   "source": [
    "<p><b><i>Начальная точка 1</i></b></p>"
   ]
  },
  {
   "cell_type": "markdown",
   "metadata": {},
   "source": [
    "$$x_{1,0} = 3$$\n",
    "$$x_{2,0} = 0$$\n",
    "$$\\alpha \\in \\{ 0.02, 0.05, 0.1, 0.2, 0.3, 0.45\\}$$\n",
    "$$err_{min} = 10^{-3}$$\n",
    "$$iteration_{max} = 20$$"
   ]
  },
  {
   "cell_type": "markdown",
   "metadata": {},
   "source": [
    "<img src=\"img/gd-two-var-alpha-right.png\">"
   ]
  },
  {
   "cell_type": "markdown",
   "metadata": {},
   "source": [
    "<p><b><i>Начальная точка 2</i></b></p>"
   ]
  },
  {
   "cell_type": "markdown",
   "metadata": {},
   "source": [
    "$$x_{1,0} = -3$$\n",
    "$$x_{2,0} = -2$$\n",
    "$$\\alpha \\in \\{ 0.02, 0.05, 0.1, 0.2, 0.3, 0.45\\}$$\n",
    "$$err_{min} = 10^{-3}$$\n",
    "$$iteration_{max} = 20$$"
   ]
  },
  {
   "cell_type": "markdown",
   "metadata": {},
   "source": [
    "<img src=\"img/gd-two-var-alpha-left.png\">"
   ]
  },
  {
   "cell_type": "code",
   "execution_count": null,
   "metadata": {},
   "outputs": [],
   "source": []
  }
 ],
 "metadata": {
  "kernelspec": {
   "display_name": "Python 3",
   "language": "python",
   "name": "python3"
  },
  "language_info": {
   "codemirror_mode": {
    "name": "ipython",
    "version": 3
   },
   "file_extension": ".py",
   "mimetype": "text/x-python",
   "name": "python",
   "nbconvert_exporter": "python",
   "pygments_lexer": "ipython3",
   "version": "3.7.3"
  }
 },
 "nbformat": 4,
 "nbformat_minor": 2
}
