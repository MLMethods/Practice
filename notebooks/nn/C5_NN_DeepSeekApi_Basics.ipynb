{
 "cells": [
  {
   "cell_type": "markdown",
   "id": "087ec20f-c7d0-4fa1-b342-31f807a2d779",
   "metadata": {},
   "source": [
    "# Prompting using DeepSeek API\n",
    "\n",
    "---\n",
    "\n",
    "S.Yu. Papulin (papulin.study@yandex.ru)"
   ]
  },
  {
   "cell_type": "markdown",
   "id": "6bac90bf-204c-4ff8-987b-8a96128738d3",
   "metadata": {},
   "source": [
    "### Contents\n",
    "\n",
    "- [Setting up client](#Setting-up-client)\n",
    "- [Text generation prompting](#Text-generation-prompting)\n",
    "    - [Responses Api](#Responses-Api)\n",
    "    - [Chat Completions Api](#Chat-Completions-Api)\n",
    "- [Zero-shot learning](#Zero-shot-learning)\n",
    "- [Few-shot learning](#Few-shot-learning)\n",
    "- [Function calling](#Function-calling)\n",
    "- [Integration with `llamaIndex`](#Integration-with-llamaIndex)\n",
    "- [Sources](#Sources)"
   ]
  },
  {
   "cell_type": "code",
   "execution_count": null,
   "id": "4a3585de-37a2-45e6-8dca-3f12fdfa0a4a",
   "metadata": {},
   "outputs": [],
   "source": [
    "# %pip install openai==1.93.1"
   ]
  },
  {
   "cell_type": "markdown",
   "id": "dd959501",
   "metadata": {},
   "source": [
    "⚠️ **Warning.** `DeepSeek API` does not yet support image recognition and generation, as well as file uploading"
   ]
  },
  {
   "cell_type": "code",
   "execution_count": null,
   "id": "48409483-7c1d-4e87-8536-7d4a8069d8fa",
   "metadata": {},
   "outputs": [],
   "source": [
    "import os\n",
    "import json\n",
    "from pydantic import BaseModel\n",
    "\n",
    "from dotenv import load_dotenv\n",
    "from openai import OpenAI"
   ]
  },
  {
   "cell_type": "markdown",
   "id": "b2924c52-8e9b-4909-8272-9e733f8a5135",
   "metadata": {},
   "source": [
    "## Setting up client"
   ]
  },
  {
   "cell_type": "code",
   "execution_count": null,
   "id": "a0f60e4e-b5d2-4064-a574-f601f6d332c4",
   "metadata": {},
   "outputs": [],
   "source": [
    "def setup_client():\n",
    "    load_dotenv()\n",
    "    return OpenAI(\n",
    "        # Note: You must have your own API key\n",
    "        api_key=os.getenv(\"DEEPSEEK_API_KEY\"), \n",
    "        base_url=\"https://api.deepseek.com\"\n",
    "    )"
   ]
  },
  {
   "cell_type": "code",
   "execution_count": null,
   "id": "d324f445-c916-47b8-8476-1c35ee785765",
   "metadata": {},
   "outputs": [],
   "source": [
    "client = setup_client()\n",
    "client.__dict__"
   ]
  },
  {
   "cell_type": "markdown",
   "id": "b963c856-8b78-4911-99e4-bc0fb6c575e5",
   "metadata": {},
   "source": [
    "## Text generation prompting"
   ]
  },
  {
   "cell_type": "markdown",
   "id": "556b7f41-f0c2-4a7e-ac9b-671b8400bcb7",
   "metadata": {},
   "source": [
    "### Responses Api"
   ]
  },
  {
   "cell_type": "code",
   "execution_count": null,
   "id": "54ef9b50-d78e-4638-bf6a-73701d4cba40",
   "metadata": {},
   "outputs": [],
   "source": [
    "# Note: DeepSeek doesn't support\n",
    "# response = client.responses.create(\n",
    "#     model=\"deepseek-chat\",\n",
    "#     instructions=\"You are a helpful assistant.\",\n",
    "#     input=\"Provide a list of emergency contacts in Russia?\"\n",
    "# )"
   ]
  },
  {
   "cell_type": "markdown",
   "id": "55bcebf7-01af-4b75-9feb-9497a683e08d",
   "metadata": {},
   "source": [
    "### Chat Completions Api"
   ]
  },
  {
   "cell_type": "markdown",
   "id": "681cf95a-18ec-4fba-bda9-8c87a25cbb88",
   "metadata": {},
   "source": [
    "**Text generation**"
   ]
  },
  {
   "cell_type": "code",
   "execution_count": null,
   "id": "44cccde5-abc4-4538-928b-9c55781c716c",
   "metadata": {},
   "outputs": [],
   "source": [
    "SYSTEM_PROMPT = \"You are a helpful assistant.\"\n",
    "\n",
    "USER_PROMPT = \"\"\"\n",
    "Provide a list of emergency contacts in Russia?\n",
    "\"\"\""
   ]
  },
  {
   "cell_type": "code",
   "execution_count": null,
   "id": "e5f44d69-d366-4963-91b4-51dc1989b492",
   "metadata": {},
   "outputs": [],
   "source": [
    "def send_messages(system_prompt, user_prompt, response_format=None):\n",
    "    return client.chat.completions.create(\n",
    "        model=\"deepseek-chat\",\n",
    "        messages=[\n",
    "            {\"role\": \"system\", \"content\": system_prompt},\n",
    "            {\"role\": \"user\", \"content\": user_prompt},\n",
    "        ],\n",
    "        response_format=response_format,\n",
    "        stream=False\n",
    "    )"
   ]
  },
  {
   "cell_type": "code",
   "execution_count": null,
   "id": "6c540f48-f86e-4bd4-b276-e935f53dee67",
   "metadata": {},
   "outputs": [],
   "source": [
    "response = send_messages(\n",
    "    system_prompt=SYSTEM_PROMPT,\n",
    "    user_prompt=USER_PROMPT\n",
    ")\n",
    "response.id"
   ]
  },
  {
   "cell_type": "code",
   "execution_count": null,
   "id": "edd56715-c477-4f71-8a70-184db31c9fa8",
   "metadata": {},
   "outputs": [],
   "source": [
    "response"
   ]
  },
  {
   "cell_type": "code",
   "execution_count": null,
   "id": "6295c725-bac6-4d2e-944a-dbb8ed358e3c",
   "metadata": {},
   "outputs": [],
   "source": [
    "list(filter(lambda x: not x.startswith('_'), dir(response)))"
   ]
  },
  {
   "cell_type": "code",
   "execution_count": null,
   "id": "3d7d23f9-c63e-49e4-9708-56b291848ff6",
   "metadata": {},
   "outputs": [],
   "source": [
    "# response.__dict__"
   ]
  },
  {
   "cell_type": "code",
   "execution_count": null,
   "id": "a7470f82-78c8-42c4-a2a3-aee59130bf42",
   "metadata": {},
   "outputs": [],
   "source": [
    "response.choices[0].message"
   ]
  },
  {
   "cell_type": "code",
   "execution_count": null,
   "id": "66deefc3-7a38-4636-8236-feeb4b55da5e",
   "metadata": {},
   "outputs": [],
   "source": [
    "print(response.choices[0].message.content)"
   ]
  },
  {
   "cell_type": "markdown",
   "id": "df6a59e0-5d9b-4593-9cff-d06dea4d22cd",
   "metadata": {},
   "source": [
    "**Formatted output**"
   ]
  },
  {
   "cell_type": "code",
   "execution_count": null,
   "id": "115249c1-90bc-49f4-a174-5be06806ff80",
   "metadata": {},
   "outputs": [],
   "source": [
    "USER_PROMPT = \"\"\"\n",
    "Provide a list of emergency contacts in Russia? Output the list in json format \n",
    "without any additional information. Follow the example below:\n",
    "\n",
    "[{\n",
    "    \"name\": \"Fire Service\",\n",
    "    \"phone\": \"101\",\n",
    "    \"country\": \"Russia\"\n",
    "}, ...]\n",
    "\"\"\""
   ]
  },
  {
   "cell_type": "code",
   "execution_count": null,
   "id": "581366ed-96bd-4772-94b1-0ae48ef6b25c",
   "metadata": {},
   "outputs": [],
   "source": [
    "response = send_messages(\n",
    "    system_prompt=SYSTEM_PROMPT,\n",
    "    user_prompt=USER_PROMPT\n",
    ")\n",
    "response.id"
   ]
  },
  {
   "cell_type": "code",
   "execution_count": null,
   "id": "4c49153a-515d-4138-b76d-a547d52a7696",
   "metadata": {},
   "outputs": [],
   "source": [
    "print(response.choices[0].message.content)"
   ]
  },
  {
   "cell_type": "code",
   "execution_count": null,
   "id": "93d4d1ac-e158-426f-a1fb-221f06745e85",
   "metadata": {},
   "outputs": [],
   "source": [
    "content_json = (\n",
    "    response.choices[0].message.content\n",
    "    .removeprefix(\"```json\")\n",
    "    .removesuffix(\"```\")\n",
    ")\n",
    "contacts = json.loads(content_json)\n",
    "contacts"
   ]
  },
  {
   "cell_type": "markdown",
   "id": "906487f6-3907-4590-8912-126b0c9d4d2f",
   "metadata": {},
   "source": [
    "**Json format**"
   ]
  },
  {
   "cell_type": "code",
   "execution_count": null,
   "id": "e8846abe-43f2-4a1e-bdbc-d24327b28c16",
   "metadata": {},
   "outputs": [],
   "source": [
    "response = send_messages(\n",
    "    system_prompt=SYSTEM_PROMPT,\n",
    "    user_prompt=USER_PROMPT,\n",
    "    response_format={\"type\": \"json_object\"}\n",
    ")\n",
    "response.id"
   ]
  },
  {
   "cell_type": "code",
   "execution_count": null,
   "id": "c5bf6357-bc44-4812-8bc5-d591b4c97c5d",
   "metadata": {},
   "outputs": [],
   "source": [
    "print(response.choices[0].message.content)"
   ]
  },
  {
   "cell_type": "code",
   "execution_count": null,
   "id": "705f83eb-ab0c-4d2a-a53c-0b5922367c57",
   "metadata": {},
   "outputs": [],
   "source": [
    "contacts = json.loads(response.choices[0].message.content)[\"emergency_contacts\"]\n",
    "contacts"
   ]
  },
  {
   "cell_type": "markdown",
   "id": "4ce6e501-f88b-4ad6-af47-a8d7105642e9",
   "metadata": {},
   "source": [
    "**Structured output**"
   ]
  },
  {
   "cell_type": "code",
   "execution_count": null,
   "id": "89470a3a-4da2-4d9d-87a8-3586f67b39f3",
   "metadata": {},
   "outputs": [],
   "source": [
    "class EmergencyContact(BaseModel):\n",
    "    name: str\n",
    "    phone: str\n",
    "    country: str"
   ]
  },
  {
   "cell_type": "code",
   "execution_count": null,
   "id": "cb2ed211-af04-4801-96e1-943c240da0d1",
   "metadata": {},
   "outputs": [],
   "source": [
    "# Note: DeepSeek doesn't support\n",
    "# response = client.chat.completions.parse(\n",
    "#     model=\"deepseek-chat\",\n",
    "#     messages=[\n",
    "#         {\"role\": \"system\", \"content\": SYSTEM_PROMPT},\n",
    "#         {\"role\": \"user\", \"content\": USER_PROMPT},\n",
    "#     ],\n",
    "#     response_format=EmergencyContact,\n",
    "#     # text_format=EmergencyContact\n",
    "# )"
   ]
  },
  {
   "cell_type": "code",
   "execution_count": null,
   "id": "cfd8360f-e599-49c5-ba8a-045bbcfe1e8a",
   "metadata": {},
   "outputs": [],
   "source": [
    "# Note: DeepSeek doesn't support\n",
    "# response = client.chat.completions.create(\n",
    "#     model=\"deepseek-chat\",\n",
    "#     messages=[\n",
    "#         {\"role\": \"system\", \"content\": SYSTEM_PROMPT},\n",
    "#         {\"role\": \"user\", \"content\": USER_PROMPT},\n",
    "#     ],\n",
    "#     response_format={\n",
    "#         \"type\": \"json_schema\",\n",
    "#         \"name\": \"contact_response\",\n",
    "#         \"schema\": {\n",
    "#             \"type\": \"object\",\n",
    "#             \"properties\": {\n",
    "#                 \"emergency_contacts\": {\n",
    "#                     \"type\": \"array\",\n",
    "#                     \"description\": \"list of emergency contacts\",\n",
    "#                     \"items\": {\n",
    "#                         \"type\": \"object\",\n",
    "#                         \"description\": \"emergency contact\",\n",
    "#                         \"properties\": {\n",
    "#                             \"name\": {\n",
    "#                                 \"type\": \"string\",\n",
    "#                                 \"description\": \"name of emergency service\",\n",
    "#                             },\n",
    "#                             \"phone\": {\n",
    "#                                 \"type\": \"string\",\n",
    "#                                 \"description\": \"phone number of emergency service\",\n",
    "#                             },\n",
    "#                             \"country\": {\n",
    "#                                 \"type\": \"string\",\n",
    "#                                 \"description\": \"country of emergency service\",\n",
    "#                             }\n",
    "#                         },\n",
    "#                         \"additionalProperties\": False,\n",
    "#                         \"required\": [\n",
    "#                             \"name\",\n",
    "#                             \"phone\",\n",
    "#                             \"country\"\n",
    "#                         ]\n",
    "#                     }\n",
    "#                 },\n",
    "#                 \"additionalProperties\": False,\n",
    "#                 \"required\": [\n",
    "#                     \"emergency_contacts\"\n",
    "#                 ]\n",
    "#             }\n",
    "#         },\n",
    "#         \"strict\": True\n",
    "#     }\n",
    "# )"
   ]
  },
  {
   "cell_type": "code",
   "execution_count": null,
   "id": "53ffac6f-41a4-4ccd-958e-b1cc10d373ca",
   "metadata": {},
   "outputs": [],
   "source": [
    "[EmergencyContact(**contact) for contact in contacts]"
   ]
  },
  {
   "cell_type": "markdown",
   "id": "bd1da806-24cc-4566-96d8-ae7bce6e2d00",
   "metadata": {},
   "source": [
    "## Zero-shot learning"
   ]
  },
  {
   "cell_type": "code",
   "execution_count": null,
   "id": "876e243b-5dcf-468b-a848-1fb64e994128",
   "metadata": {},
   "outputs": [],
   "source": [
    "SYSTEM_PROMPT = \"\"\"\n",
    "\n",
    "# Identity\n",
    "\n",
    "You are a detector of quotes of historical figures that labels messages \n",
    "as QUOTE or NON-QUOTE.\n",
    "\n",
    "# Instructions\n",
    "\n",
    "- Determine the author of a text provided in the user's query.\n",
    "- Determine whether the whole user's query is exactly QUOTE or NON-QUOTE.\n",
    "- Your response should only be one of the words \"QUOTE\" or \"NON-QUOTE\".\n",
    "- Add the author of the QUOTE to your response.\n",
    "- Output in json format without any additional information or commentary.\n",
    "\n",
    "\"\"\""
   ]
  },
  {
   "cell_type": "code",
   "execution_count": null,
   "id": "4b99026e-c97f-4f25-bd59-046df25a4b28",
   "metadata": {},
   "outputs": [],
   "source": [
    "USER_PROMPT = \"If you're alone, it's a pity.\"\n",
    "# USER_PROMPT = \"If you're alone, it's a great news.\"\n",
    "# USER_PROMPT = \"If I have seen further than others, it is by standing upon the shoulders of giants.\""
   ]
  },
  {
   "cell_type": "code",
   "execution_count": null,
   "id": "d955b328-6927-4301-a63c-7ae57d40af9d",
   "metadata": {},
   "outputs": [],
   "source": [
    "response = send_messages(\n",
    "    system_prompt=SYSTEM_PROMPT,\n",
    "    user_prompt=USER_PROMPT\n",
    ")\n",
    "print(response.choices[0].message.content)"
   ]
  },
  {
   "cell_type": "markdown",
   "id": "24c1afdb-dd95-459b-bcfa-95ea3017cdd4",
   "metadata": {},
   "source": [
    "**Debugging**"
   ]
  },
  {
   "cell_type": "code",
   "execution_count": null,
   "id": "e82bb5f0-4e05-499c-912f-ae3f09fbd781",
   "metadata": {},
   "outputs": [],
   "source": [
    "SYSTEM_PROMPT = \"\"\"\n",
    "\n",
    "# Identity\n",
    "\n",
    "You are a detector of quotes of historical figures that labels messages \n",
    "as QUOTE or NON-QUOTE.\n",
    "\n",
    "# Instructions\n",
    "\n",
    "- Determine the author of a text provided in the user's query.\n",
    "- Determine whether the whole user's query is exactly QUOTE or NON-QUOTE.\n",
    "- Give some guesses about authors.\n",
    "- Give the final QUOTE label if you are absolutely sure.\n",
    "\n",
    "\"\"\""
   ]
  },
  {
   "cell_type": "code",
   "execution_count": null,
   "id": "1ee23803-00e5-4d37-a8a7-a4b2d1bad6ca",
   "metadata": {},
   "outputs": [],
   "source": [
    "response = send_messages(\n",
    "    system_prompt=SYSTEM_PROMPT,\n",
    "    user_prompt=USER_PROMPT\n",
    ")\n",
    "print(response.choices[0].message.content)"
   ]
  },
  {
   "cell_type": "markdown",
   "id": "1431fa67-6708-4bd4-a6f7-e7049232eb57",
   "metadata": {},
   "source": [
    "**Final prompt**"
   ]
  },
  {
   "cell_type": "code",
   "execution_count": null,
   "id": "ca41097b-03e4-484b-b15a-6716be91decc",
   "metadata": {},
   "outputs": [],
   "source": [
    "SYSTEM_PROMPT = \"\"\"\n",
    "\n",
    "# Identity\n",
    "\n",
    "You are a detector of quotes of historical figures that labels messages \n",
    "as QUOTE or NON-QUOTE.\n",
    "\n",
    "# Instructions\n",
    "\n",
    "- Determine the author of a text provided in the user's query.\n",
    "- Determine whether the whole user's query is exactly QUOTE or NON-QUOTE.\n",
    "- Give some guesses about authors.\n",
    "- Your response should only be one of the words \"QUOTE\" or \"NON-QUOTE\".\n",
    "- If it's the QUOTE, add the author to your response.\n",
    "- Give the final QUOTE label if you are absolutely sure.\n",
    "- Output in json format without any additional information or commentary.\n",
    "\n",
    "\"\"\""
   ]
  },
  {
   "cell_type": "code",
   "execution_count": null,
   "id": "22dd83c9-3272-48e3-8251-4829e65584ba",
   "metadata": {},
   "outputs": [],
   "source": [
    "response = send_messages(\n",
    "    system_prompt=SYSTEM_PROMPT,\n",
    "    user_prompt=USER_PROMPT\n",
    ")\n",
    "print(response.choices[0].message.content)"
   ]
  },
  {
   "cell_type": "markdown",
   "id": "94976369-6a6b-4db1-9d99-eae02cbb6a93",
   "metadata": {},
   "source": [
    "## Few-shot learning"
   ]
  },
  {
   "cell_type": "code",
   "execution_count": null,
   "id": "25b7c682-7b62-4907-9889-bbe6bf78b133",
   "metadata": {},
   "outputs": [],
   "source": [
    "SYSTEM_PROMPT = \"\"\"\n",
    "\n",
    "# Identity\n",
    "\n",
    "You are a detector of quotes of historical figures that labels messages \n",
    "as QUOTE or NON-QUOTE.\n",
    "\n",
    "# Instructions\n",
    "\n",
    "- Determine the author of a text provided in the user's query.\n",
    "- Determine whether the whole user's query is exactly QUOTE or NON-QUOTE.\n",
    "- Your response should only be one of the words \"QUOTE\" or \"NON-QUOTE\".\n",
    "- Add the author of the QUOTE to your response.\n",
    "- Output in json format without any additional information or commentary.\n",
    "\n",
    "# Examples\n",
    "\n",
    "<user_text id=\"example-1\">\n",
    "Life’s tragedy is that we get old too soon and wise too late.\n",
    "</user_text>\n",
    "\n",
    "<assistant_response id=\"example-1\">\n",
    "{\"label\": \"QUOTE\", \"author\": \"Benjamin Franklin\"}\n",
    "</assistant_response>\n",
    "\n",
    "<user_text id=\"example-2\">\n",
    "Your strength is in your breakfast.\n",
    "</user_text>\n",
    "\n",
    "<assistant_response id=\"example-2\">\n",
    "{\"label\": \"NON-QUOTE\", \"author\": \"user\"}\n",
    "</assistant_response>\n",
    "\n",
    "<user_text id=\"example-3\">\n",
    "Whenever you find yourself on the side of the majority, it is time to pause and reflect.\n",
    "</user_text>\n",
    "\n",
    "<assistant_response id=\"example-3\">\n",
    "{\"label\": \"QUOTE\", \"author\": \"Mark Twain\"}\n",
    "</assistant_response>\n",
    "\n",
    "\"\"\"\n"
   ]
  },
  {
   "cell_type": "code",
   "execution_count": null,
   "id": "82df3b66-7f44-461e-adb7-3bda7466b997",
   "metadata": {},
   "outputs": [],
   "source": [
    "USER_PROMPT = \"If you're alone, it's a pity.\"\n",
    "# USER_PROMPT = \"If you're alone, it's a great news!\"\n",
    "# USER_PROMPT = \"If I have seen further than others, it is by standing upon the shoulders of giants.\""
   ]
  },
  {
   "cell_type": "code",
   "execution_count": null,
   "id": "2ee9188d-ffed-41f0-95b1-95b553756f09",
   "metadata": {},
   "outputs": [],
   "source": [
    "response = send_messages(\n",
    "    system_prompt=SYSTEM_PROMPT,\n",
    "    user_prompt=USER_PROMPT\n",
    ")\n",
    "print(response.choices[0].message.content)"
   ]
  },
  {
   "cell_type": "markdown",
   "id": "de932661-9c8a-43ba-987a-8e4e5760d876",
   "metadata": {},
   "source": [
    "## Function calling"
   ]
  },
  {
   "cell_type": "markdown",
   "id": "5b1cf643-9c7e-46ca-a774-db82981b00ff",
   "metadata": {},
   "source": [
    "**External sources**"
   ]
  },
  {
   "cell_type": "code",
   "execution_count": null,
   "id": "129a3704-e64b-42a7-9d7e-ab4ce0cdf039",
   "metadata": {},
   "outputs": [],
   "source": [
    "import requests\n",
    "\n",
    "\n",
    "def get_region_by_ip_address():\n",
    "    \"\"\"Get region name by current ip address\"\"\"\n",
    "    # URL for getting your public IP\n",
    "    IP_SERVICE_URL = \"https://api.myip.com\"\n",
    "    # URL for getting your location by your IP\n",
    "    LOCATION_SERVICE_URL = \"http://ip-api.com/json/{}\"\n",
    "    # Request your public IP\n",
    "    ip__response = requests.get(IP_SERVICE_URL)\n",
    "    ip__response__data = ip__response.json()\n",
    "    ip = ip__response__data[\"ip\"]\n",
    "    # Request your location\n",
    "    location__response = requests.get(LOCATION_SERVICE_URL.format(ip))\n",
    "    region_data = location__response.json()\n",
    "    return f\"{region_data['country']}, {region_data['regionName']}\"\n",
    "\n",
    "\n",
    "def get_weather_by_coords(latitude: float, longitude: float) -> str:\n",
    "    \"\"\"Get weather by coordinates\"\"\"\n",
    "    response = requests.get(f\"https://api.open-meteo.com/v1/forecast?latitude={latitude}&longitude={longitude}&current=temperature_2m\")\n",
    "    data = response.json()\n",
    "    return data['current']['temperature_2m']\n"
   ]
  },
  {
   "cell_type": "code",
   "execution_count": null,
   "id": "50aa83d2-2827-4829-bee0-4931513da26d",
   "metadata": {},
   "outputs": [],
   "source": [
    "# check whether the function works correctly\n",
    "region_name = get_region_by_ip_address()\n",
    "region_name"
   ]
  },
  {
   "cell_type": "code",
   "execution_count": null,
   "id": "c4ebca74-b7ed-4b58-a788-eae9e68c1f80",
   "metadata": {},
   "outputs": [],
   "source": [
    "weather = get_weather_by_coords(55.7487, 37.6187)\n",
    "weather"
   ]
  },
  {
   "cell_type": "markdown",
   "id": "d3005c54-7d4a-4cf1-8563-c023ca4f8036",
   "metadata": {},
   "source": [
    "**Define functions that will be used as external sources**"
   ]
  },
  {
   "cell_type": "code",
   "execution_count": null,
   "id": "8ac0f7f0-1b96-4f10-ab76-80556ebbcadc",
   "metadata": {},
   "outputs": [],
   "source": [
    "tools = [\n",
    "    # region name\n",
    "    {\n",
    "        \"type\": \"function\",\n",
    "        \"function\": {\n",
    "            \"name\": \"get_region_name\",\n",
    "            \"description\": \"Get the user's region name by ip address if it was missed in the query.\"\n",
    "            # Note: you can provide the below description to \n",
    "            # avoid using system instructions\n",
    "            # \"description\": \"Call the 'get_region_name' function only if the user's query does not include region information\"\n",
    "        }\n",
    "    }, \n",
    "    # weather\n",
    "    {\n",
    "        \"type\": \"function\",\n",
    "        \"function\": {\n",
    "            \"name\": \"get_weather\",\n",
    "            \"description\": \"Get current temperature for provided coordinates in celsius for specified region.\",\n",
    "            \"parameters\": {\n",
    "                \"type\": \"object\",\n",
    "                \"properties\": {\n",
    "                    \"latitude\": {\"type\": \"number\"},\n",
    "                    \"longitude\": {\"type\": \"number\"}\n",
    "                },\n",
    "                \"required\": [\"latitude\", \"longitude\"],\n",
    "                \"additionalProperties\": False\n",
    "            },\n",
    "            \"strict\": True\n",
    "        }\n",
    "    }\n",
    "]"
   ]
  },
  {
   "cell_type": "code",
   "execution_count": null,
   "id": "2280ac81-349d-41a0-afbb-57d19e977eb9",
   "metadata": {},
   "outputs": [],
   "source": [
    "# match function name in tools with real function in code\n",
    "map_tools = {\n",
    "    \"get_region_name\": get_region_by_ip_address,\n",
    "    \"get_weather\": get_weather_by_coords\n",
    "}"
   ]
  },
  {
   "cell_type": "code",
   "execution_count": null,
   "id": "3c6b560e-dd1e-42bc-a167-5c0a310084d7",
   "metadata": {},
   "outputs": [],
   "source": [
    "def send_messages_with_tools(messages):\n",
    "    \"\"\"DeepSeek service\"\"\"\n",
    "    response = client.chat.completions.create(\n",
    "        model=\"deepseek-chat\",\n",
    "        messages=messages,\n",
    "        tools=tools\n",
    "    )\n",
    "    return response.choices[0].message"
   ]
  },
  {
   "cell_type": "code",
   "execution_count": null,
   "id": "c439d60f-047b-436d-aa98-77d7b11c5189",
   "metadata": {},
   "outputs": [],
   "source": [
    "def call_function(function_name, **kwargs):\n",
    "    \"\"\"External services\"\"\"\n",
    "    if function_name in map_tools:\n",
    "        return map_tools[function_name](**kwargs)\n",
    "    return None\n",
    "\n",
    "\n",
    "def send_next_message(message, reset_messages=False):\n",
    "    if reset_messages:\n",
    "        messages.clear()\n",
    "    if hasattr(message, \"tool_calls\"):\n",
    "        \"\"\"Function call needed\"\"\"\n",
    "        tool_call_id = message.tool_calls[0].id\n",
    "        function_name = message.tool_calls[0].function.name\n",
    "        function_args = json.loads(message.tool_calls[0].function.arguments)\n",
    "        external_data = call_function(function_name=function_name, **function_args)\n",
    "        if external_data:\n",
    "            messages.append(message)\n",
    "            messages.append({\"role\": \"tool\", \"tool_call_id\": tool_call_id, \"content\": str(external_data)})\n",
    "        else:\n",
    "            return None\n",
    "    else:\n",
    "        \"\"\"User prompt\"\"\"\n",
    "        messages.append(message)\n",
    "    return send_messages_with_tools(messages)"
   ]
  },
  {
   "cell_type": "markdown",
   "id": "0771fc20-e429-4120-aa80-14c0fab239b9",
   "metadata": {},
   "source": [
    "**Emergency contacts by ip address**"
   ]
  },
  {
   "cell_type": "code",
   "execution_count": null,
   "id": "e72e3074-0067-4465-9a41-3c9960421de8",
   "metadata": {},
   "outputs": [],
   "source": [
    "# create message flow\n",
    "messages = [{\"role\": \"user\", \"content\": \"What are emergency contacts in my region?\"}]"
   ]
  },
  {
   "cell_type": "code",
   "execution_count": null,
   "id": "b38e3dbe-1177-45c1-87a6-4dd59d27be45",
   "metadata": {},
   "outputs": [],
   "source": [
    "# run prompt and recieve response that contains tool_calls\n",
    "response_message = send_messages_with_tools(messages)\n",
    "response_message"
   ]
  },
  {
   "cell_type": "code",
   "execution_count": null,
   "id": "3328b2a7-e5d4-47b3-8096-af95711aded0",
   "metadata": {},
   "outputs": [],
   "source": [
    "if response_message.tool_calls:\n",
    "    print(f\"It has function call: {response_message.tool_calls[0].function.name}\")"
   ]
  },
  {
   "cell_type": "code",
   "execution_count": null,
   "id": "caf1da14-8059-4b2d-a72b-30c97fe8701b",
   "metadata": {},
   "outputs": [],
   "source": [
    "tool_call = response_message.tool_calls[0]\n",
    "tool_call_id = tool_call.id\n",
    "function_name = tool_call.function.name\n",
    "function_args = json.loads(tool_call.function.arguments)\n",
    "print(\"Id:\", tool_call_id)\n",
    "print(\"Function Name:\", tool_call_func_name)\n",
    "print(\"Function Args:\", function_args)\n",
    "print(tool_call)"
   ]
  },
  {
   "cell_type": "code",
   "execution_count": null,
   "id": "95d617f8-fffe-420c-ae9b-1a43d8d6e204",
   "metadata": {},
   "outputs": [],
   "source": [
    "# fetch my region name from external service by ip address\n",
    "region_name = call_function(function_name, **function_args)\n",
    "\n",
    "# add previous response to message flow\n",
    "messages.append(response_message)\n",
    "# add my region name to message flow\n",
    "messages.append({\"role\": \"tool\", \"tool_call_id\": tool_call_id, \"content\": region_name})\n",
    "\n",
    "messages"
   ]
  },
  {
   "cell_type": "code",
   "execution_count": null,
   "id": "7ac205d8-5649-4b23-9ca7-9cdb3f00ecfc",
   "metadata": {},
   "outputs": [],
   "source": [
    "# provide messages to deepseek chat to complete\n",
    "# prompt with my region name\n",
    "response_final_message = send_messages_with_tools(messages)\n",
    "response_final_message"
   ]
  },
  {
   "cell_type": "code",
   "execution_count": null,
   "id": "fb5303c3-7522-4379-8fb8-97e880c14410",
   "metadata": {},
   "outputs": [],
   "source": [
    "print(response_final_message.content)"
   ]
  },
  {
   "cell_type": "markdown",
   "id": "277503ec-3fa7-4b78-8524-8c25cbd938e7",
   "metadata": {},
   "source": [
    "**Weather by region name**"
   ]
  },
  {
   "cell_type": "code",
   "execution_count": null,
   "id": "204cf4a6-92e2-4cf6-adfa-db0d965bbfd2",
   "metadata": {},
   "outputs": [],
   "source": [
    "# Run the second example to determine the weather of a region\n",
    "messages = list()\n",
    "response_message = send_next_message(\n",
    "    message={\"role\": \"user\", \"content\": \"What is the weather in Moscow, Russia?\"}\n",
    ")\n",
    "response_message"
   ]
  },
  {
   "cell_type": "markdown",
   "id": "3ad14615-a905-4166-8658-fd586eab2f92",
   "metadata": {},
   "source": [
    "The output is incorrect for us because it suggests calling `get_region_name`. Let's add some instructions."
   ]
  },
  {
   "cell_type": "code",
   "execution_count": null,
   "id": "76787dc9-dfdb-4661-8687-061e82be6cd7",
   "metadata": {},
   "outputs": [],
   "source": [
    "SYSTEM_PROMPT = \"\"\"\n",
    "\n",
    "# Identity\n",
    "\n",
    "You are a helpful assistant.\n",
    "\n",
    "# Instructions\n",
    "\n",
    "- Extract the region name from the user's query.\n",
    "- Call the \"get_region_name\" function only if the user's query does not include region information.\n",
    "\n",
    "\"\"\"\n",
    "\n",
    "messages = [\n",
    "    {\"role\": \"system\", \"content\": SYSTEM_PROMPT}\n",
    "]"
   ]
  },
  {
   "cell_type": "code",
   "execution_count": null,
   "id": "f850cc5d-45cf-4917-b7f4-812ba3cc766e",
   "metadata": {},
   "outputs": [],
   "source": [
    "# Run again with instructions\n",
    "response_message = send_next_message(\n",
    "    message={\"role\": \"user\", \"content\": \"What is the weather in Moscow, Russia?\"}\n",
    ")\n",
    "response_message"
   ]
  },
  {
   "cell_type": "code",
   "execution_count": null,
   "id": "71bb0a27-b462-46ca-823b-65b850854d5d",
   "metadata": {},
   "outputs": [],
   "source": [
    "response_message = send_next_message(message=response_message)\n",
    "response_message"
   ]
  },
  {
   "cell_type": "code",
   "execution_count": null,
   "id": "687dbd22-2817-4184-90ba-0d18db02f9cc",
   "metadata": {},
   "outputs": [],
   "source": [
    "print(response_message.content)"
   ]
  },
  {
   "cell_type": "code",
   "execution_count": null,
   "id": "c0335765-7dbb-49a6-a38f-0c67cfd13812",
   "metadata": {},
   "outputs": [],
   "source": [
    "# check the first query with instructions above\n",
    "response_message = send_next_message(\n",
    "    message={\"role\": \"user\", \"content\": \"What are emergency contacts in my region?\"}\n",
    ")\n",
    "response_message"
   ]
  },
  {
   "cell_type": "code",
   "execution_count": null,
   "id": "00afc958-2506-4676-a410-ecc4c0cb2df9",
   "metadata": {},
   "outputs": [],
   "source": [
    "response_message = send_next_message(message=response_message)\n",
    "response_message"
   ]
  },
  {
   "cell_type": "code",
   "execution_count": null,
   "id": "d8536e5b-962e-4d14-a061-e1d8a88d431b",
   "metadata": {},
   "outputs": [],
   "source": [
    "print(response_message.content)"
   ]
  },
  {
   "cell_type": "markdown",
   "id": "d3e60274-0b71-44bd-9dc3-145f61e03543",
   "metadata": {},
   "source": [
    "## Integration with `llamaIndex`"
   ]
  },
  {
   "cell_type": "code",
   "execution_count": null,
   "id": "18099d29-64c7-42dc-8345-c3670cea2a8a",
   "metadata": {},
   "outputs": [],
   "source": [
    "# %pip install \\\n",
    "# llama-index-core \\\n",
    "# llama-index-llms-deepseek"
   ]
  },
  {
   "cell_type": "code",
   "execution_count": null,
   "id": "66a37e42-0d41-430a-a492-2adfa847cf7d",
   "metadata": {},
   "outputs": [],
   "source": [
    "from llama_index.llms.deepseek import DeepSeek\n",
    "from llama_index.core.llms import ChatMessage"
   ]
  },
  {
   "cell_type": "code",
   "execution_count": null,
   "id": "9b02d2f4-838c-42db-b00d-f58dc6ce6245",
   "metadata": {},
   "outputs": [],
   "source": [
    "SYSTEM_PROMPT = \"\"\"\n",
    "You are a helpful assistant.\n",
    "\"\"\""
   ]
  },
  {
   "cell_type": "code",
   "execution_count": null,
   "id": "25cdbbff-4cbd-4515-b52b-fe790524a0f4",
   "metadata": {},
   "outputs": [],
   "source": [
    "llm = DeepSeek(\n",
    "    model=\"deepseek-chat\", \n",
    "    api_key=os.getenv(\"DEEPSEEK_API_KEY\"),\n",
    "    system_prompt=SYSTEM_PROMPT\n",
    ")\n",
    "llm"
   ]
  },
  {
   "cell_type": "markdown",
   "id": "9f217a2a-46b7-477c-a2be-e1be697e1cb5",
   "metadata": {},
   "source": [
    "**Complete**"
   ]
  },
  {
   "cell_type": "code",
   "execution_count": null,
   "id": "0eca336f-1cd6-48a2-93ba-a4156cc0d939",
   "metadata": {},
   "outputs": [],
   "source": [
    "USER_PROMPT = \"\"\"\n",
    "Provide a list of emergency contacts in Russia?\n",
    "\"\"\""
   ]
  },
  {
   "cell_type": "code",
   "execution_count": null,
   "id": "d4788144-2f83-45d3-891c-8a3e5083daa0",
   "metadata": {},
   "outputs": [],
   "source": [
    "def generate_as_stream(llm, prompt):\n",
    "    for chunk in llm.stream_complete(prompt):\n",
    "        print(chunk.delta, end=\"\", flush=True)"
   ]
  },
  {
   "cell_type": "code",
   "execution_count": null,
   "id": "ac00e0ed-3f8b-4839-ab2f-382acdf610d7",
   "metadata": {},
   "outputs": [],
   "source": [
    "generate_as_stream(llm, USER_PROMPT)"
   ]
  },
  {
   "cell_type": "code",
   "execution_count": null,
   "id": "e6761904-71bb-4e0a-aed2-9f5d83c8e135",
   "metadata": {},
   "outputs": [],
   "source": [
    "response = llm.complete(USER_PROMPT)\n",
    "response"
   ]
  },
  {
   "cell_type": "code",
   "execution_count": null,
   "id": "ae560eed-1045-4607-bdd8-ab0a97274b4d",
   "metadata": {},
   "outputs": [],
   "source": [
    "print(response)"
   ]
  },
  {
   "cell_type": "markdown",
   "id": "592cde2a-7eed-4ecc-9dec-241d74de1e69",
   "metadata": {},
   "source": [
    "**Chat**"
   ]
  },
  {
   "cell_type": "code",
   "execution_count": null,
   "id": "9a7756a8-5007-47bb-9e1f-a197251ba1e6",
   "metadata": {},
   "outputs": [],
   "source": [
    "messages = [\n",
    "    ChatMessage(role=\"system\", content=SYSTEM_PROMPT),\n",
    "    ChatMessage(role=\"user\", content=\"What is the capital of France?\"),\n",
    "]\n",
    "response = llm.chat(messages)\n",
    "print(response)"
   ]
  },
  {
   "cell_type": "code",
   "execution_count": null,
   "id": "325bdacc-7d58-4d54-9dff-d33f71c924a9",
   "metadata": {},
   "outputs": [],
   "source": [
    "messages.append(ChatMessage(role=\"assistant\", content=response.message.content))\n",
    "messages.append(ChatMessage(role=\"user\", content=\"Russia?\"))"
   ]
  },
  {
   "cell_type": "code",
   "execution_count": null,
   "id": "c17dd7fd-f86b-4edc-a540-b530c6e11feb",
   "metadata": {},
   "outputs": [],
   "source": [
    "response = llm.chat(messages)\n",
    "print(response)"
   ]
  },
  {
   "cell_type": "markdown",
   "id": "4fe689c9-c7f2-43db-8abe-ef694a9ade5c",
   "metadata": {},
   "source": [
    "**Function calling**"
   ]
  },
  {
   "cell_type": "code",
   "execution_count": null,
   "id": "17b53893-7422-4584-9bfb-5688d07d5530",
   "metadata": {},
   "outputs": [],
   "source": [
    "from llama_index.core.tools import FunctionTool\n",
    "from llama_index.core.agent.workflow import ReActAgent"
   ]
  },
  {
   "cell_type": "code",
   "execution_count": null,
   "id": "4491ed79-8cd6-47e0-84e4-0abb90410609",
   "metadata": {},
   "outputs": [],
   "source": [
    "weather_tool = FunctionTool.from_defaults(\n",
    "    fn=get_weather_by_coords,\n",
    "    name=\"get_weather\",\n",
    "    description=\"Get current temperature for provided coordinates in celsius for specified region.\",\n",
    ")"
   ]
  },
  {
   "cell_type": "code",
   "execution_count": null,
   "id": "3914b1c6-8b3a-41a1-8306-c81c4b3768ac",
   "metadata": {},
   "outputs": [],
   "source": [
    "agent = ReActAgent(\n",
    "    tools=[weather_tool], \n",
    "    llm=llm\n",
    ")"
   ]
  },
  {
   "cell_type": "code",
   "execution_count": null,
   "id": "3841d2e4-1d84-4cdf-8a31-e9d3317625c6",
   "metadata": {},
   "outputs": [],
   "source": [
    "response = await agent.run(\"What is the weather in Paris?\")\n",
    "response"
   ]
  },
  {
   "cell_type": "code",
   "execution_count": null,
   "id": "bed7de59-d4eb-43c7-aa83-4acf2f86c1ae",
   "metadata": {},
   "outputs": [],
   "source": [
    "response.tool_calls"
   ]
  },
  {
   "cell_type": "code",
   "execution_count": null,
   "id": "5272b9d2-0f4a-455f-8213-0f0ac1eaaee9",
   "metadata": {},
   "outputs": [],
   "source": [
    "print(response)"
   ]
  },
  {
   "cell_type": "markdown",
   "id": "f9bbd3f3-f293-429c-b550-d438467dc026",
   "metadata": {},
   "source": [
    "## Sources"
   ]
  },
  {
   "cell_type": "markdown",
   "id": "801ac1a7",
   "metadata": {},
   "source": [
    "- [OpenAI. Text generation and prompting](https://platform.openai.com/docs/guides/text?api-mode=responses)\n",
    "- [OpenAI. Function calling](https://platform.openai.com/docs/guides/function-calling?api-mode=responses)"
   ]
  }
 ],
 "metadata": {
  "kernelspec": {
   "display_name": "Python 3 (ipykernel)",
   "language": "python",
   "name": "python3"
  },
  "language_info": {
   "codemirror_mode": {
    "name": "ipython",
    "version": 3
   },
   "file_extension": ".py",
   "mimetype": "text/x-python",
   "name": "python",
   "nbconvert_exporter": "python",
   "pygments_lexer": "ipython3",
   "version": "3.11.7"
  }
 },
 "nbformat": 4,
 "nbformat_minor": 5
}
