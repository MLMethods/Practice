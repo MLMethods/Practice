{
 "cells": [
  {
   "cell_type": "markdown",
   "metadata": {},
   "source": [
    "<div style=\"font-size:18pt; padding-top:20px; text-align:center\">СЕМИНАР. <b>Логистическая регрессия</b></div><hr>\n",
    "<div style=\"text-align:right;\">Папулин С.Ю. <span style=\"font-style: italic;font-weight: bold;\">(papulin.study@yandex.ru)</span></div>"
   ]
  },
  {
   "cell_type": "markdown",
   "metadata": {},
   "source": [
    "### Содержание\n",
    "\n",
    "1. [Классификация с линейной регрессией](#1.-Классификация-с-линейной-регрессией)\n",
    "2. [Логистическая регрессия](#2.-Логистическая-регрессия)\n",
    "3. [Пример с распознаванием цифр](#3.-Пример-с-распознаванием-цифр)\n",
    "4. [Источники](#4.-Источники)"
   ]
  },
  {
   "cell_type": "markdown",
   "metadata": {},
   "source": [
    "<p><b>Подключение библиотек</b></p>"
   ]
  },
  {
   "cell_type": "code",
   "execution_count": null,
   "metadata": {},
   "outputs": [],
   "source": [
    "import numpy as np\n",
    "import matplotlib.pyplot as plt\n",
    "%matplotlib inline"
   ]
  },
  {
   "cell_type": "code",
   "execution_count": null,
   "metadata": {},
   "outputs": [],
   "source": [
    "from sklearn.linear_model import LinearRegression, LogisticRegression\n",
    "from sklearn.model_selection import train_test_split\n",
    "from sklearn.metrics import accuracy_score\n",
    "from matplotlib import cm"
   ]
  },
  {
   "cell_type": "code",
   "execution_count": null,
   "metadata": {},
   "outputs": [],
   "source": [
    "from matplotlib.colors import ListedColormap"
   ]
  },
  {
   "cell_type": "code",
   "execution_count": null,
   "metadata": {},
   "outputs": [],
   "source": [
    "from sklearn.datasets import make_classification"
   ]
  },
  {
   "cell_type": "markdown",
   "metadata": {},
   "source": [
    "## 1. Классификация с линейной регрессией"
   ]
  },
  {
   "cell_type": "markdown",
   "metadata": {},
   "source": [
    "### Один признак"
   ]
  },
  {
   "cell_type": "code",
   "execution_count": null,
   "metadata": {},
   "outputs": [],
   "source": [
    "RANDOM_STATE = 12"
   ]
  },
  {
   "cell_type": "code",
   "execution_count": null,
   "metadata": {},
   "outputs": [],
   "source": [
    "def generate_data_one_feature(n=100, random_state=RANDOM_STATE):\n",
    "    return make_classification(n_samples=n, \n",
    "                               n_features=1, \n",
    "                               n_redundant=0, \n",
    "                               n_informative=1, \n",
    "                               n_classes=2, \n",
    "                               n_clusters_per_class=1, \n",
    "                               class_sep=0.7, \n",
    "                               shift=2,\n",
    "                               random_state=random_state)"
   ]
  },
  {
   "cell_type": "code",
   "execution_count": null,
   "metadata": {},
   "outputs": [],
   "source": [
    "# Генерация исходных данных\n",
    "X, y = generate_data_one_feature()"
   ]
  },
  {
   "cell_type": "code",
   "execution_count": null,
   "metadata": {},
   "outputs": [],
   "source": [
    "# График\n",
    "y_one_indx = np.argwhere(y==1)\n",
    "y_zero_indx =  np.argwhere(y==0)\n",
    "color_map = ListedColormap([\"blue\", \"red\"])\n",
    "plt.scatter(X[y_zero_indx], y[y_zero_indx], color=\"red\", label=\"observed data: 0\")\n",
    "plt.scatter(X[y_one_indx], y[y_one_indx], color=\"blue\", label=\"observed data: 1\")\n",
    "plt.xlabel(\"$x$\")\n",
    "plt.ylabel(\"$y_{true}$\")\n",
    "plt.legend()\n",
    "plt.grid(True)\n",
    "plt.show()"
   ]
  },
  {
   "cell_type": "code",
   "execution_count": null,
   "metadata": {},
   "outputs": [],
   "source": [
    "# Формирование обучающего и тестового подмножеств\n",
    "X_train, X_test, y_train, y_test = train_test_split(\n",
    "    X, y, test_size=0.3, random_state=RANDOM_STATE)"
   ]
  },
  {
   "cell_type": "code",
   "execution_count": null,
   "metadata": {},
   "outputs": [],
   "source": [
    "# Расчет базовой отметки\n",
    "\n",
    "# Определение количества наблюдений каждого класса\n",
    "labels, counts = np.unique(y_train, return_counts=True)\n",
    "print(\"Labels:\", labels)\n",
    "print(\"Counts:\", counts)\n",
    "\n",
    "# Выбираем класс с наибольшим количество наблюдений\n",
    "max_label = counts.argmax()\n",
    "print(\"Predict {} to all observations\".format(labels[max_label]))\n",
    "\n",
    "# Предсказания\n",
    "y_train__pred = np.full(y_train.size, labels[max_label])\n",
    "y_test__pred = np.full(y_test.size, labels[max_label])\n",
    "\n",
    "# Доля правильных классификаций\n",
    "accuracy_train = accuracy_score(y_train, y_train__pred)\n",
    "accuracy_test = accuracy_score(y_test, y_test__pred)\n",
    "\n",
    "print(\"Train Accuracy:\", accuracy_train)\n",
    "print(\"Test Accuracy:\", accuracy_test)"
   ]
  },
  {
   "cell_type": "code",
   "execution_count": null,
   "metadata": {},
   "outputs": [],
   "source": [
    "# Или можно проще\n",
    "from sklearn.dummy import DummyClassifier"
   ]
  },
  {
   "cell_type": "code",
   "execution_count": null,
   "metadata": {},
   "outputs": [],
   "source": [
    "dummy_model = DummyClassifier(strategy='prior').fit(X_train, y_train)\n",
    "dummy_model.score(X_test, y_test)"
   ]
  },
  {
   "cell_type": "code",
   "execution_count": null,
   "metadata": {},
   "outputs": [],
   "source": [
    "# Линейная регрессия\n",
    "\n",
    "# Обучение\n",
    "linear_model = LinearRegression()\n",
    "linear_model.fit(X_train, y_train)\n",
    "\n",
    "# Параметры обученной модели\n",
    "print(\"Параметры модели:\")\n",
    "print(\"\\tw{} = {}\".format(0, linear_model.intercept_))\n",
    "for indx, coef in enumerate(linear_model.coef_):\n",
    "    print(\"\\tw{} = {}\".format(indx+1, coef))"
   ]
  },
  {
   "cell_type": "code",
   "execution_count": null,
   "metadata": {},
   "outputs": [],
   "source": [
    "# Порог для предсказания\n",
    "threshold = 0.5\n",
    "\n",
    "# Предсказание\n",
    "y_train__pred = np.where(linear_model.predict(X_train)>=threshold, 1, 0)\n",
    "y_test__pred = np.where(linear_model.predict(X_test)>=threshold, 1, 0)\n",
    "\n",
    "# Оценка качества классификатора\n",
    "accuracy_train = accuracy_score(y_train, y_train__pred)\n",
    "accuracy_test = accuracy_score(y_test, y_test__pred)\n",
    "\n",
    "print(\"Train Accuracy:\", accuracy_train)\n",
    "print(\"Test Accuracy:\", accuracy_test)"
   ]
  },
  {
   "cell_type": "code",
   "execution_count": null,
   "metadata": {},
   "outputs": [],
   "source": [
    "# Графики\n",
    "plt.figure(1, figsize=[12, 4])\n",
    "plt.subplot(1,2,1)\n",
    "plt.title(\"Train\")\n",
    "plt.scatter(X_train, y_train, c=y_train, cmap=color_map, s=80, alpha=0.5, label=\"true\")\n",
    "plt.scatter(X_train, y_train__pred, s=20, c=y_train__pred, cmap=color_map, label=\"predicted\")\n",
    "xlim = plt.gca().get_xlim() \n",
    "plt.plot(xlim, linear_model.predict(np.array(xlim).reshape(-1,1)), linewidth=1, color=\"black\", label=\"OLS\")\n",
    "plt.axhline(threshold, color=\"0.5\", linestyle=\"--\", lw=2)\n",
    "plt.xlim(xlim) \n",
    "plt.xlabel(\"$x$\")\n",
    "plt.ylabel(\"$y$\")\n",
    "plt.legend()\n",
    "plt.grid(True)\n",
    "\n",
    "plt.subplot(1,2,2)\n",
    "plt.title(\"Test\")\n",
    "plt.scatter(X_test, y_test, c=y_test, cmap=color_map, s=80, alpha=0.5, label=\"true\")\n",
    "plt.scatter(X_test, y_test__pred, s=20, c=y_test__pred, cmap=color_map, label=\"predicted\")\n",
    "plt.plot(xlim, linear_model.predict(np.array(xlim).reshape(-1,1)), linewidth=1, color=\"black\", label=\"OLS\")\n",
    "plt.axhline(threshold, color=\"0.5\", linestyle=\"--\", lw=2)\n",
    "plt.xlim(xlim) \n",
    "plt.xlabel(\"$x$\")\n",
    "plt.ylabel(\"$y$\")\n",
    "plt.legend()\n",
    "plt.grid(True)"
   ]
  },
  {
   "cell_type": "markdown",
   "metadata": {},
   "source": [
    "### Два признака"
   ]
  },
  {
   "cell_type": "code",
   "execution_count": null,
   "metadata": {},
   "outputs": [],
   "source": [
    "def generate_data_two_features(n=500, random_state=RANDOM_STATE):\n",
    "    return make_classification(n_samples=n, \n",
    "                               n_features=2, \n",
    "                               n_redundant=0, \n",
    "                               n_informative=2, \n",
    "                               n_clusters_per_class=1, \n",
    "                               n_classes=2, \n",
    "                               class_sep=0.5,\n",
    "                               random_state=19)"
   ]
  },
  {
   "cell_type": "code",
   "execution_count": null,
   "metadata": {},
   "outputs": [],
   "source": [
    "# Генерация исходных данных\n",
    "X, y = generate_data_two_features()"
   ]
  },
  {
   "cell_type": "code",
   "execution_count": null,
   "metadata": {},
   "outputs": [],
   "source": [
    "# График\n",
    "y_one_indx = np.argwhere(y==1).flatten()\n",
    "y_zero_indx =  np.argwhere(y==0).flatten()\n",
    "plt.scatter(X[y_zero_indx][:,0], X[y_zero_indx][:,1], color=\"blue\", label=\"$y_{true} = 0$\")\n",
    "plt.scatter(X[y_one_indx][:,0], X[y_one_indx][:,1], color=\"red\", label=\"$y_{true} = 1$\")\n",
    "plt.xlabel(\"$x_1$\")\n",
    "plt.ylabel(\"$x_2$\")\n",
    "plt.grid(True)\n",
    "plt.legend()\n",
    "plt.show()"
   ]
  },
  {
   "cell_type": "code",
   "execution_count": null,
   "metadata": {},
   "outputs": [],
   "source": [
    "# Формирование обучающего и тестового подмножеств\n",
    "X_train, X_test, y_train, y_test = train_test_split(\n",
    "    X, y, test_size=0.3, random_state=RANDOM_STATE)"
   ]
  },
  {
   "cell_type": "code",
   "execution_count": null,
   "metadata": {},
   "outputs": [],
   "source": [
    "# Расчет базовой отметки\n",
    "dummy_model = DummyClassifier(strategy='prior').fit(X_train, y_train)\n",
    "dummy_model.score(X_test, y_test)"
   ]
  },
  {
   "cell_type": "code",
   "execution_count": null,
   "metadata": {},
   "outputs": [],
   "source": [
    "# Линейная регрессия\n",
    "\n",
    "# Обучение\n",
    "linear_model = LinearRegression()\n",
    "linear_model.fit(X_train, y_train)\n",
    "\n",
    "# Параметры обученной модели\n",
    "print(\"Параметры модели:\")\n",
    "print(\"\\tw{} = {}\".format(0, linear_model.intercept_))\n",
    "for indx, coef in enumerate(linear_model.coef_):\n",
    "    print(\"\\tw{} = {}\".format(indx+1, coef))"
   ]
  },
  {
   "cell_type": "code",
   "execution_count": null,
   "metadata": {},
   "outputs": [],
   "source": [
    "# Порог для предсказания\n",
    "threshold = 0.5\n",
    "\n",
    "# Предсказание\n",
    "y_train__pred = np.where(linear_model.predict(X_train)>=threshold, 1, 0)\n",
    "y_test__pred = np.where(linear_model.predict(X_test)>=threshold, 1, 0)\n",
    "\n",
    "# Оценка качества классификатора\n",
    "accuracy_train = accuracy_score(y_train, y_train__pred)\n",
    "accuracy_test = accuracy_score(y_test, y_test__pred)\n",
    "\n",
    "print(\"Train Accuracy:\", accuracy_train)\n",
    "print(\"Test Accuracy:\", accuracy_test)"
   ]
  },
  {
   "cell_type": "code",
   "execution_count": null,
   "metadata": {},
   "outputs": [],
   "source": [
    "from sklearn.inspection import DecisionBoundaryDisplay"
   ]
  },
  {
   "cell_type": "code",
   "execution_count": null,
   "metadata": {},
   "outputs": [],
   "source": [
    "fig, axes = plt.subplots(1, 2, figsize=[10,4])\n",
    "\n",
    "disp = DecisionBoundaryDisplay.from_estimator(\n",
    "    linear_model, X, \n",
    "    grid_resolution=1000,\n",
    "    xlabel=\"X1\",\n",
    "    ylabel=\"X2\",\n",
    "    cmap=\"coolwarm\",\n",
    "    response_method=\"predict\",\n",
    "    alpha=0.5,\n",
    "    ax=axes[0]\n",
    ")\n",
    "axes[0].set_title(\"Train\")\n",
    "axes[0].set_xlabel(\"$x_1$\")\n",
    "axes[0].set_ylabel(\"$x_2$\")\n",
    "sc_train = axes[0].scatter(X_train[:, 0], X_train[:, 1], c=y_train, cmap=\"coolwarm\", s=100, label=\"true\")\n",
    "axes[0].scatter(X_train[:, 0], X_train[:, 1], c=y_train__pred, cmap=\"coolwarm\", edgecolor=\"k\", label=\"pred\")\n",
    "axes[0].legend()\n",
    "fig.colorbar(sc_train, cmap=\"coolwarm\")\n",
    "axes[0].grid(True)\n",
    "\n",
    "disp.plot(ax=axes[1], alpha=0.5, cmap=\"coolwarm\")\n",
    "axes[1].set_title(\"Test\")\n",
    "axes[1].set_xlabel(\"$x_1$\")\n",
    "axes[1].set_ylabel(\"$x_2$\")\n",
    "sc_test = axes[1].scatter(X_test[:, 0], X_test[:, 1], c=y_test, cmap=\"coolwarm\", s=100, label=\"true\")\n",
    "axes[1].scatter(X_test[:, 0], X_test[:, 1], c=y_test__pred, cmap=\"coolwarm\", edgecolor=\"k\", label=\"pred\")\n",
    "axes[1].legend()\n",
    "fig.colorbar(sc_test, cmap=\"coolwarm\")\n",
    "axes[1].grid(True)\n",
    "\n",
    "fig.tight_layout()\n",
    "\n",
    "plt.show()"
   ]
  },
  {
   "cell_type": "code",
   "execution_count": null,
   "metadata": {},
   "outputs": [],
   "source": [
    "%load_ext autoreload\n",
    "%autoreload 2\n",
    "\n",
    "import sys\n",
    "sys.path.append(\"../lib\")\n",
    "from plot_utils import show_cplots"
   ]
  },
  {
   "cell_type": "code",
   "execution_count": null,
   "metadata": {},
   "outputs": [],
   "source": [
    "show_cplots(\n",
    "    linear_model, \n",
    "    X_train, \n",
    "    y_train,\n",
    "    X_test,\n",
    "    y_test, \n",
    "    title=None, \n",
    "    cmap=\"coolwarm\", \n",
    "    proba=False)"
   ]
  },
  {
   "cell_type": "markdown",
   "metadata": {},
   "source": [
    "### Что если исходные данные будут вот такие?"
   ]
  },
  {
   "cell_type": "code",
   "execution_count": null,
   "metadata": {},
   "outputs": [],
   "source": [
    "# Генерация исходных данных\n",
    "X, y = generate_data_one_feature()\n",
    "\n",
    "# Смещаем 2/3 данных класса 1 вправо на 12\n",
    "indx = np.argwhere(y==1)\n",
    "indx = indx[:int(2/3*indx.size)]\n",
    "X[indx] = X[indx] + 8\n",
    "\n",
    "# График\n",
    "y_one_indx = np.argwhere(y==1)\n",
    "y_zero_indx =  np.argwhere(y==0)\n",
    "color_map = ListedColormap([\"blue\", \"red\"])\n",
    "plt.scatter(X[y_zero_indx], y[y_zero_indx], color=\"red\", label=\"observed data: 0\")\n",
    "plt.scatter(X[y_one_indx], y[y_one_indx], color=\"blue\", label=\"observed data: 1\")\n",
    "plt.xlabel(\"$x$\")\n",
    "plt.ylabel(\"$y_{true}$\")\n",
    "plt.legend()\n",
    "plt.grid(True)\n",
    "plt.show()"
   ]
  },
  {
   "cell_type": "code",
   "execution_count": null,
   "metadata": {},
   "outputs": [],
   "source": [
    "# Линейная регрессия\n",
    "\n",
    "# Формирование обучающего и тестового подмножеств\n",
    "X_train, X_test, y_train, y_test = train_test_split(X, y, test_size=0.3, random_state=12)\n",
    "\n",
    "# Обучение\n",
    "linear_model = LinearRegression()\n",
    "linear_model.fit(X_train, y_train)\n",
    "\n",
    "# Параметры обученной модели\n",
    "print(\"Параметры модели:\")\n",
    "print(\"\\tw{} = {}\".format(0, linear_model.intercept_))\n",
    "for indx, coef in enumerate(linear_model.coef_):\n",
    "    print(\"\\tw{} = {}\".format(indx+1, coef))\n",
    "    \n",
    "# Порог для предсказания\n",
    "threshold = 0.5\n",
    "\n",
    "# Предсказание\n",
    "y_train__pred = np.where(linear_model.predict(X_train)>=threshold, 1, 0)\n",
    "y_test__pred = np.where(linear_model.predict(X_test)>=threshold, 1, 0)\n",
    "\n",
    "# Оценка качества классификатора\n",
    "accuracy_train = accuracy_score(y_train, y_train__pred)\n",
    "accuracy_test = accuracy_score(y_test, y_test__pred)\n",
    "\n",
    "print(\"Train Accuracy:\", accuracy_train)\n",
    "print(\"Test Accuracy:\", accuracy_test)\n",
    "\n",
    "# Графики\n",
    "plt.figure(1, figsize=[12, 4])\n",
    "plt.subplot(1,2,1)\n",
    "plt.title(\"Train\")\n",
    "plt.scatter(X_train, y_train, c=y_train, cmap=color_map, s=80, alpha=0.5, label=\"true\")\n",
    "plt.scatter(X_train, y_train__pred, s=20, c=y_train__pred, cmap=color_map, label=\"predicted\")\n",
    "xlim = plt.gca().get_xlim() \n",
    "plt.plot(xlim, linear_model.predict(np.array(xlim).reshape(-1,1)), linewidth=1, color=\"black\", label=\"OLS\")\n",
    "plt.axhline(threshold, color=\"0.5\", linestyle=\"--\", lw=2)\n",
    "plt.xlim(xlim) \n",
    "plt.xlabel(\"$x$\")\n",
    "plt.ylabel(\"$y$\")\n",
    "plt.legend()\n",
    "plt.grid(True)\n",
    "\n",
    "plt.subplot(1,2,2)\n",
    "plt.title(\"Test\")\n",
    "plt.scatter(X_test, y_test, c=y_test, cmap=color_map, s=80, alpha=0.5, label=\"true\")\n",
    "plt.scatter(X_test, y_test__pred, s=20, c=y_test__pred, cmap=color_map, label=\"predicted\")\n",
    "plt.plot(xlim, linear_model.predict(np.array(xlim).reshape(-1,1)), linewidth=1, color=\"black\", label=\"OLS\")\n",
    "plt.axhline(threshold, color=\"0.5\", linestyle=\"--\", lw=2)\n",
    "plt.xlim(xlim) \n",
    "plt.xlabel(\"$x$\")\n",
    "plt.ylabel(\"$y$\")\n",
    "plt.legend()\n",
    "plt.grid(True)"
   ]
  },
  {
   "cell_type": "markdown",
   "metadata": {},
   "source": [
    "## 2. Логистическая регрессия"
   ]
  },
  {
   "cell_type": "code",
   "execution_count": null,
   "metadata": {},
   "outputs": [],
   "source": [
    "import ipywidgets as widgets"
   ]
  },
  {
   "cell_type": "code",
   "execution_count": null,
   "metadata": {},
   "outputs": [],
   "source": [
    "def linear_function(X, w):\n",
    "    \"\"\"Linear regression model with 1 for w0 included.\"\"\"\n",
    "    return np.dot(X, w)\n",
    "\n",
    "def sigmoid(z):\n",
    "    \"\"\"Sigmoid function.\"\"\"\n",
    "    return 1 / (1 + np.exp(-z))"
   ]
  },
  {
   "cell_type": "code",
   "execution_count": null,
   "metadata": {},
   "outputs": [],
   "source": [
    "# Генерация исходных данных\n",
    "X, y = generate_data_one_feature()\n",
    "\n",
    "x = np.linspace(-1, 5, num=100)\n",
    "\n",
    "w0 = widgets.FloatSlider(min=-15.0, max=2.0, step=0.05, value=-2.0)\n",
    "w1 = widgets.FloatSlider(min=1.0, max=8.0, step=0.05, value=2.0)\n",
    "\n",
    "def update(w0=0, w1=0):\n",
    "   \n",
    "    # Преобразование параметров в массив: w0, w1\n",
    "    w_ = np.r_[w0, w1]\n",
    "\n",
    "    # Добавление 1 к признакам: x0, x1, где x0=1\n",
    "    X_ = np.c_[np.ones(x.shape[0]), x]\n",
    "\n",
    "    # Вероятность принадлежности классу 1\n",
    "    y_pred = sigmoid(linear_function(X_, w_))\n",
    "\n",
    "    plt.figure(\"2\", figsize=[10, 6])  \n",
    "    plt.scatter(X[y_zero_indx], y[y_zero_indx], color=\"red\", label=\"$y_{true}=0$\")\n",
    "    plt.scatter(X[y_one_indx], y[y_one_indx], color=\"blue\", label=\"$y_{true}=1$\")\n",
    "    plt.xlabel(\"$x$\")\n",
    "    plt.ylabel(\"$y$\")\n",
    "    plt.plot(x, y_pred, color=\"grey\", linewidth=2, label=\"Logistic Regression Curve\")\n",
    "    plt.grid(True)\n",
    "    plt.legend()\n",
    "    plt.show()\n",
    "\n",
    "widgets.interact(update, w0=w0, w1=w1)"
   ]
  },
  {
   "cell_type": "markdown",
   "metadata": {},
   "source": [
    "### Один признак"
   ]
  },
  {
   "cell_type": "code",
   "execution_count": null,
   "metadata": {},
   "outputs": [],
   "source": [
    "# Генерация исходных данных\n",
    "X, y = generate_data_one_feature()\n",
    "\n",
    "# Смещаем 2/3 данных класса 1 вправо на 12\n",
    "indx = np.argwhere(y==1)\n",
    "indx = indx[:int(2/3*indx.size)]\n",
    "X[indx] = X[indx] + 12\n",
    "\n",
    "# График\n",
    "y_one_indx = np.argwhere(y == 1)\n",
    "y_zero_indx =  np.argwhere(y == 0)\n",
    "color_map = ListedColormap([\"blue\", \"red\"])\n",
    "plt.scatter(X[y_zero_indx], y[y_zero_indx], color=\"red\", label=\"$y_{true}=0$\")\n",
    "plt.scatter(X[y_one_indx], y[y_one_indx], color=\"blue\", label=\"$y_{true}=1$\")\n",
    "plt.xlabel(\"$x$\")\n",
    "plt.ylabel(\"$y_{true}$\")\n",
    "plt.legend()\n",
    "plt.grid(True)\n",
    "plt.show()"
   ]
  },
  {
   "cell_type": "code",
   "execution_count": null,
   "metadata": {},
   "outputs": [],
   "source": [
    "# Формирование обучающего и тестового подмножеств\n",
    "X_train, X_test, y_train, y_test = train_test_split(X, y, test_size=0.3, random_state=RANDOM_STATE)\n",
    "\n",
    "# Обучение\n",
    "logistic_model = LogisticRegression(fit_intercept=True, \n",
    "                                    max_iter=100, \n",
    "                                    C=float(\"inf\"), \n",
    "                                    solver=\"lbfgs\", \n",
    "                                    random_state=RANDOM_STATE)\n",
    "logistic_model.fit(X_train, y_train)\n",
    "\n",
    "# Параметры обученной модели\n",
    "print(\"Параметры модели:\")\n",
    "print(\"\\tw{} = {}\".format(0, logistic_model.intercept_))\n",
    "for indx, coef in enumerate(logistic_model.coef_):\n",
    "    print(\"\\tw{} = {}\".format(indx+1, coef))"
   ]
  },
  {
   "cell_type": "code",
   "execution_count": null,
   "metadata": {},
   "outputs": [],
   "source": [
    "# Предсказание\n",
    "y_train__pred = logistic_model.predict(X_train)\n",
    "y_test__pred = logistic_model.predict(X_test)\n",
    "\n",
    "# Оценка качества классификатора\n",
    "accuracy_train = accuracy_score(y_train, y_train__pred)\n",
    "accuracy_test = accuracy_score(y_test, y_test__pred)\n",
    "\n",
    "print(\"Train Accuracy:\", accuracy_train)\n",
    "print(\"Test Accuracy:\", accuracy_test)"
   ]
  },
  {
   "cell_type": "code",
   "execution_count": null,
   "metadata": {},
   "outputs": [],
   "source": [
    "logistic_model.score(X_test, y_test)"
   ]
  },
  {
   "cell_type": "code",
   "execution_count": null,
   "metadata": {},
   "outputs": [],
   "source": [
    "# Вероятности принадлежности классам\n",
    "logistic_model.predict_proba(X_test)[:5]"
   ]
  },
  {
   "cell_type": "code",
   "execution_count": null,
   "metadata": {},
   "outputs": [],
   "source": [
    "# Преобразование параметров в массив: w0, w1\n",
    "w_ = np.r_[logistic_model.intercept_, logistic_model.coef_.flatten()]\n",
    "\n",
    "# Добавление 1 к признакам: x0, x1, где x0=1\n",
    "X_ = np.c_[np.ones((X_test.shape[0], 1)), X_test]\n",
    "\n",
    "# Вероятность принадлежности классу 1\n",
    "sigmoid(linear_function(X_, w_))[:5]"
   ]
  },
  {
   "cell_type": "code",
   "execution_count": null,
   "metadata": {},
   "outputs": [],
   "source": [
    "# Графики\n",
    "xx = np.linspace(-4, 15, 100).reshape(-1, 1)\n",
    "\n",
    "plt.figure(1, figsize=[12, 4])\n",
    "plt.subplot(1,2,1)\n",
    "plt.title(\"Train\")\n",
    "plt.scatter(X_train, y_train, c=y_train, cmap=color_map, s=80, alpha=0.5, label=\"true\", zorder=2)\n",
    "plt.scatter(X_train, y_train__pred, s=20, c=y_train__pred, cmap=color_map, label=\"predicted\", zorder=3)\n",
    "plt.plot(xx, logistic_model.predict_proba(xx)[:,1], \n",
    "         linewidth=2, color=\"black\", label=\"predicted function\", zorder=1)\n",
    "plt.axhline(threshold, color=\"0.5\", linestyle=\"--\", lw=1)\n",
    "plt.xlabel(\"$x$\")\n",
    "plt.ylabel(\"$y$\")\n",
    "plt.legend()\n",
    "plt.grid(True)\n",
    "\n",
    "plt.subplot(1,2,2)\n",
    "plt.title(\"Test\")\n",
    "plt.scatter(X_test, y_test, c=y_test, cmap=color_map, s=80, alpha=0.5, label=\"true\", zorder=2)\n",
    "plt.scatter(X_test, y_test__pred, s=20, c=y_test__pred, cmap=color_map, label=\"predicted\", zorder=3)\n",
    "plt.plot(xx, logistic_model.predict_proba(xx)[:,1], \n",
    "         linewidth=2, color=\"black\", label=\"predicted function\", zorder=1)\n",
    "plt.axhline(threshold, color=\"0.5\", linestyle=\"--\", lw=1)\n",
    "plt.xlabel(\"$x$\")\n",
    "plt.ylabel(\"$y$\")\n",
    "plt.legend()\n",
    "plt.grid(True)"
   ]
  },
  {
   "cell_type": "markdown",
   "metadata": {},
   "source": [
    "### Два признака"
   ]
  },
  {
   "cell_type": "markdown",
   "metadata": {},
   "source": [
    "<p><b>Исходные данные</b></p>"
   ]
  },
  {
   "cell_type": "code",
   "execution_count": null,
   "metadata": {},
   "outputs": [],
   "source": [
    "# Генерация исходных данных\n",
    "X, y = generate_data_two_features()\n",
    "\n",
    "# График\n",
    "y_one_indx = np.argwhere(y == 1).flatten()\n",
    "y_zero_indx =  np.argwhere(y == 0).flatten()\n",
    "plt.scatter(X[y_zero_indx][:,0], X[y_zero_indx][:,1], color=\"blue\", label=\"$y_{true} = 0$\")\n",
    "plt.scatter(X[y_one_indx][:,0], X[y_one_indx][:,1], color=\"red\", label=\"$y_{true} = 1$\")\n",
    "plt.xlabel(\"$x_1$\")\n",
    "plt.ylabel(\"$x_2$\")\n",
    "plt.grid(True)\n",
    "plt.legend()\n",
    "plt.show()"
   ]
  },
  {
   "cell_type": "code",
   "execution_count": null,
   "metadata": {},
   "outputs": [],
   "source": [
    "# Формирование обучающего и тестового подмножеств\n",
    "X_train, X_test, y_train, y_test = train_test_split(X, y, test_size=0.3, random_state=RANDOM_STATE)\n",
    "\n",
    "# Обучение\n",
    "logistic_model = LogisticRegression(fit_intercept=True, \n",
    "                                    max_iter=100, \n",
    "                                    C=float(\"inf\"), \n",
    "                                    solver=\"lbfgs\", \n",
    "                                    random_state=RANDOM_STATE)\n",
    "logistic_model.fit(X_train, y_train)\n",
    "\n",
    "# Параметры обученной модели\n",
    "print(\"Параметры модели:\")\n",
    "print(\"\\tw{} = {}\".format(0, logistic_model.intercept_[0]))\n",
    "for indx, coef in enumerate(logistic_model.coef_.flatten()):\n",
    "    print(\"\\tw{} = {}\".format(indx+1, coef))"
   ]
  },
  {
   "cell_type": "code",
   "execution_count": null,
   "metadata": {},
   "outputs": [],
   "source": [
    "# Предсказание\n",
    "y_train__pred = logistic_model.predict(X_train)\n",
    "y_test__pred = logistic_model.predict(X_test)\n",
    "\n",
    "# Оценка качества классификатора\n",
    "accuracy_train = accuracy_score(y_train, y_train__pred)\n",
    "accuracy_test = accuracy_score(y_test, y_test__pred)\n",
    "\n",
    "print(\"Train Accuracy:\", accuracy_train)\n",
    "print(\"Test Accuracy:\", accuracy_test)"
   ]
  },
  {
   "cell_type": "code",
   "execution_count": null,
   "metadata": {},
   "outputs": [],
   "source": [
    "# Вероятности принадлежности классам\n",
    "logistic_model.predict_proba(X_test)[:5]"
   ]
  },
  {
   "cell_type": "code",
   "execution_count": null,
   "metadata": {},
   "outputs": [],
   "source": [
    "# Преобразование параметров в массив: w0, w1, w2\n",
    "w_ = np.r_[logistic_model.intercept_, logistic_model.coef_.flatten()]\n",
    "\n",
    "# Добавление 1 к признакам: x0, x1, x2, где x0=1\n",
    "X_ = np.c_[np.ones((X_test.shape[0], 1)), X_test]\n",
    "\n",
    "# Вероятность принадлежности классу 1\n",
    "sigmoid(linear_function(X_, w_))[:5]"
   ]
  },
  {
   "cell_type": "code",
   "execution_count": null,
   "metadata": {},
   "outputs": [],
   "source": [
    "fig, axes = plt.subplots(1, 2, figsize=[10,4])\n",
    "\n",
    "disp = DecisionBoundaryDisplay.from_estimator(\n",
    "    logistic_model, X, \n",
    "    grid_resolution=1000,\n",
    "    xlabel=\"X1\",\n",
    "    ylabel=\"X2\",\n",
    "    cmap=\"coolwarm\",\n",
    "    response_method=\"predict_proba\",\n",
    "    alpha=0.5,\n",
    "    ax=axes[0]\n",
    ")\n",
    "axes[0].set_title(\"Train\")\n",
    "axes[0].set_xlabel(\"$x_1$\")\n",
    "axes[0].set_ylabel(\"$x_2$\")\n",
    "sc_train = axes[0].scatter(X_train[:, 0], X_train[:, 1], c=y_train, cmap=\"coolwarm\", s=100, label=\"true\")\n",
    "axes[0].scatter(X_train[:, 0], X_train[:, 1], c=y_train__pred, cmap=\"coolwarm\", edgecolor=\"k\", label=\"pred\")\n",
    "axes[0].legend()\n",
    "fig.colorbar(sc_train, cmap=\"coolwarm\")\n",
    "axes[0].grid(True)\n",
    "\n",
    "disp.plot(ax=axes[1], alpha=0.5, cmap=\"coolwarm\")\n",
    "axes[1].set_title(\"Test\")\n",
    "axes[1].set_xlabel(\"$x_1$\")\n",
    "axes[1].set_ylabel(\"$x_2$\")\n",
    "sc_test = axes[1].scatter(X_test[:, 0], X_test[:, 1], c=y_test, cmap=\"coolwarm\", s=100, label=\"true\")\n",
    "axes[1].scatter(X_test[:, 0], X_test[:, 1], c=y_test__pred, cmap=\"coolwarm\", edgecolor=\"k\", label=\"pred\")\n",
    "axes[1].legend()\n",
    "fig.colorbar(sc_test, cmap=\"coolwarm\")\n",
    "axes[1].grid(True)\n",
    "\n",
    "fig.tight_layout()\n",
    "\n",
    "plt.show()"
   ]
  },
  {
   "cell_type": "code",
   "execution_count": null,
   "metadata": {},
   "outputs": [],
   "source": [
    "show_cplots(\n",
    "    logistic_model, \n",
    "    X_train, \n",
    "    y_train,\n",
    "    X_test,\n",
    "    y_test, \n",
    "    title=None, \n",
    "    cmap=\"coolwarm\", \n",
    "    proba=True)"
   ]
  },
  {
   "cell_type": "markdown",
   "metadata": {},
   "source": [
    "### Два признака и три класса"
   ]
  },
  {
   "cell_type": "code",
   "execution_count": null,
   "metadata": {},
   "outputs": [],
   "source": [
    "# Генерация исходных данных\n",
    "n = 100\n",
    "X, y = make_classification(n_samples=n, n_features=2, n_redundant=0, \n",
    "                           n_informative=2, n_clusters_per_class=1, \n",
    "                           n_classes=3, class_sep=1,random_state=1234)\n",
    "\n",
    "\n",
    "# График\n",
    "y_two_indx = np.argwhere(y == 2).flatten()\n",
    "y_one_indx = np.argwhere(y == 1).flatten()\n",
    "y_zero_indx =  np.argwhere(y == 0).flatten()\n",
    "plt.scatter(X[y_zero_indx][:,0], X[y_zero_indx][:,1], color=\"blue\", label=\"$y_{true} = 0$\")\n",
    "plt.scatter(X[y_one_indx][:,0], X[y_one_indx][:,1], color=\"red\", label=\"$y_{true} = 1$\")\n",
    "plt.scatter(X[y_two_indx][:,0], X[y_two_indx][:,1], color=\"green\", label=\"$y_{true} = 2$\")\n",
    "plt.xlabel(\"$x_1$\")\n",
    "plt.ylabel(\"$x_2$\")\n",
    "plt.grid(True)\n",
    "plt.legend()\n",
    "plt.show()"
   ]
  },
  {
   "cell_type": "code",
   "execution_count": null,
   "metadata": {},
   "outputs": [],
   "source": [
    "# Формирование обучающего и тестового подмножеств\n",
    "X_train, X_test, y_train, y_test = train_test_split(X, y, test_size=0.3, random_state=RANDOM_STATE)\n",
    "\n",
    "# Обучение\n",
    "logistic_model = LogisticRegression(fit_intercept=True, \n",
    "                                    max_iter=100, \n",
    "                                    C=float(\"inf\"), \n",
    "                                    solver=\"lbfgs\", \n",
    "                                    multi_class=\"ovr\", \n",
    "                                    random_state=RANDOM_STATE)\n",
    "logistic_model.fit(X_train, y_train)\n",
    "\n",
    "# Параметры обученной модели\n",
    "for i in range(3):\n",
    "    print(\"Параметры модели {}:\".format(i+1))\n",
    "    print(\"\\tw{} = {}\".format(0, logistic_model.intercept_[i]))\n",
    "    for indx, coef in enumerate(logistic_model.coef_[i].flatten()):\n",
    "        print(\"\\tw{} = {}\".format(indx+1, coef))"
   ]
  },
  {
   "cell_type": "code",
   "execution_count": null,
   "metadata": {},
   "outputs": [],
   "source": [
    "# Предсказание\n",
    "y_train__pred = logistic_model.predict(X_train)\n",
    "y_test__pred = logistic_model.predict(X_test)\n",
    "\n",
    "# Оценка качества классификатора\n",
    "accuracy_train = accuracy_score(y_train, y_train__pred)\n",
    "accuracy_test = accuracy_score(y_test, y_test__pred)\n",
    "\n",
    "print(\"Train Accuracy:\", accuracy_train)\n",
    "print(\"Test Accuracy:\", accuracy_test)"
   ]
  },
  {
   "cell_type": "code",
   "execution_count": null,
   "metadata": {},
   "outputs": [],
   "source": [
    "logistic_model.predict_proba(X_test)[:5]"
   ]
  },
  {
   "cell_type": "code",
   "execution_count": null,
   "metadata": {},
   "outputs": [],
   "source": [
    "pr = np.around(logistic_model.predict_proba(X_test), decimals=2)\n",
    "pr = np.column_stack((pr, logistic_model.predict(X_test), y_test))\n",
    "\n",
    "# Class_0, Class_1, Class_2, Predicted, True\n",
    "pr[:5]"
   ]
  },
  {
   "cell_type": "code",
   "execution_count": null,
   "metadata": {},
   "outputs": [],
   "source": [
    "color_map = ListedColormap([\"blue\", \"red\", \"green\"])\n",
    "show_cplots(\n",
    "    logistic_model, \n",
    "    X_train, \n",
    "    y_train,\n",
    "    X_test,\n",
    "    y_test, \n",
    "    title=None, \n",
    "    cmap=color_map, \n",
    "    show_colorbar=False)"
   ]
  },
  {
   "cell_type": "markdown",
   "metadata": {},
   "source": [
    "## 3. Пример с распознаванием цифр"
   ]
  },
  {
   "cell_type": "code",
   "execution_count": null,
   "metadata": {},
   "outputs": [],
   "source": [
    "from sklearn import datasets"
   ]
  },
  {
   "cell_type": "code",
   "execution_count": null,
   "metadata": {},
   "outputs": [],
   "source": [
    "# Загрузка исходных данных\n",
    "digits = datasets.load_digits()\n",
    "print(digits.DESCR)"
   ]
  },
  {
   "cell_type": "code",
   "execution_count": null,
   "metadata": {},
   "outputs": [],
   "source": [
    "digits.keys()"
   ]
  },
  {
   "cell_type": "code",
   "execution_count": null,
   "metadata": {},
   "outputs": [],
   "source": [
    "IMAGE_INDX = 3\n",
    "\n",
    "print(\"Features:\\n\", digits[\"images\"][IMAGE_INDX])\n",
    "print(\"Target value:\", digits.target[IMAGE_INDX])\n",
    "\n",
    "plt.imshow(digits.images[IMAGE_INDX])\n",
    "plt.show()"
   ]
  },
  {
   "cell_type": "code",
   "execution_count": null,
   "metadata": {},
   "outputs": [],
   "source": [
    "digits.images.shape"
   ]
  },
  {
   "cell_type": "code",
   "execution_count": null,
   "metadata": {},
   "outputs": [],
   "source": [
    "# Преобразование исходных данных\n",
    "# Замечание: \n",
    "#  digits.data уже содержит преобразованные данные\n",
    "X = digits[\"images\"].reshape(len(digits[\"images\"]), 64)\n",
    "X.shape"
   ]
  },
  {
   "cell_type": "code",
   "execution_count": null,
   "metadata": {},
   "outputs": [],
   "source": [
    "X"
   ]
  },
  {
   "cell_type": "code",
   "execution_count": null,
   "metadata": {},
   "outputs": [],
   "source": [
    "y = digits[\"target\"]\n",
    "y.shape"
   ]
  },
  {
   "cell_type": "code",
   "execution_count": null,
   "metadata": {},
   "outputs": [],
   "source": [
    "# Количество элементов каждого класса\n",
    "np.unique(y, return_counts=True)"
   ]
  },
  {
   "cell_type": "code",
   "execution_count": null,
   "metadata": {},
   "outputs": [],
   "source": [
    "# Формирование обучающего и тестового подмножеств\n",
    "X_train, X_test, y_train, y_test = train_test_split(\n",
    "    X, y, test_size=0.3, random_state=100)\n",
    "\n",
    "# Обучение модели\n",
    "# Замечание: Замените потом значения multi_class и \n",
    "# solver на multinomial и newton-cg. Как изменится \n",
    "# качество классификации?\n",
    "model = LogisticRegression(C=float(\"inf\"), \n",
    "                           multi_class=\"ovr\", \n",
    "                           solver=\"lbfgs\", \n",
    "                           max_iter=200, \n",
    "                           random_state=12345)\n",
    "model.fit(X_train, y_train)\n",
    "\n",
    "# Параметры обученной модели\n",
    "for i in range(10):\n",
    "    print(\"Параметры модели {}:\".format(i+1))\n",
    "    print(\"\\tw{} = {}\".format(0, model.intercept_[i]))\n",
    "    for indx, coef in enumerate(model.coef_[i].flatten()):\n",
    "        print(\"\\tw{} = {}\".format(indx+1, coef))"
   ]
  },
  {
   "cell_type": "code",
   "execution_count": null,
   "metadata": {},
   "outputs": [],
   "source": [
    "# Сумма векторов параметров\n",
    "np.allclose(model.coef_.sum(axis=0), np.zeros(model.coef_.shape[1]))"
   ]
  },
  {
   "cell_type": "code",
   "execution_count": null,
   "metadata": {},
   "outputs": [],
   "source": [
    "# Оценка качества модели\n",
    "train_error = model.score(X_train, y_train)\n",
    "test_error = model.score(X_test, y_test)\n",
    "\n",
    "print(\"Train Accuracy:\", train_error)\n",
    "print(\"Test Accuracy:\", test_error)"
   ]
  },
  {
   "cell_type": "code",
   "execution_count": null,
   "metadata": {},
   "outputs": [],
   "source": [
    "IMAGE_INDX = 3"
   ]
  },
  {
   "cell_type": "code",
   "execution_count": null,
   "metadata": {},
   "outputs": [],
   "source": [
    "# Предсказание и отображение цифры\n",
    "print(\"Target value:\", digits.target[IMAGE_INDX])\n",
    "print(\"Predicted value:\", model.predict(digits[\"images\"][IMAGE_INDX].reshape(1, -1)))\n",
    "plt.imshow(digits.images[IMAGE_INDX])\n",
    "plt.show()"
   ]
  },
  {
   "cell_type": "code",
   "execution_count": null,
   "metadata": {},
   "outputs": [],
   "source": [
    "# Веса классов\n",
    "plt.figure(figsize=(10,5))\n",
    "for i in range(10):\n",
    "    plt.subplot(2, 5, i+1)\n",
    "    plt.title(f\"class = {model.classes_[i]}\")\n",
    "    plt.imshow(model.coef_[i].reshape(-1,8)) #, vmin=-200, vmax=200)\n",
    "    # plt.colorbar()\n",
    "    plt.axis(\"off\")\n",
    "plt.tight_layout()\n",
    "plt.show()"
   ]
  },
  {
   "cell_type": "code",
   "execution_count": null,
   "metadata": {},
   "outputs": [],
   "source": [
    "# Линейная комбинация изображения и весов\n",
    "plt.figure(figsize=(10,5))\n",
    "for i in range(10):\n",
    "    plt.subplot(2, 5, i+1)\n",
    "    h = model.coef_[i].reshape(-1,8) * digits.images[IMAGE_INDX]\n",
    "    plt.title(f\"class = {model.classes_[i]}\\nsum = {h.sum():.2f}\")\n",
    "    plt.imshow(h) #, vmin=-200, vmax=200)\n",
    "    # plt.colorbar()\n",
    "    plt.axis(\"off\")\n",
    "plt.tight_layout()\n",
    "plt.show()"
   ]
  },
  {
   "cell_type": "markdown",
   "metadata": {},
   "source": [
    "## 4. Источники"
   ]
  },
  {
   "cell_type": "markdown",
   "metadata": {},
   "source": [
    "- [Plot randomly generated classification dataset](http://scikit-learn.org/stable/auto_examples/datasets/plot_random_dataset.html#example-datasets-plot-random-dataset-py)\n",
    "- [Classifier comparison](http://scikit-learn.org/stable/auto_examples/classification/plot_classifier_comparison.html#example-classification-plot-classifier-comparison-py)\n",
    "- [LogisticRegression](http://scikit-learn.org/stable/modules/generated/sklearn.linear_model.LogisticRegression.html)"
   ]
  },
  {
   "cell_type": "code",
   "execution_count": null,
   "metadata": {},
   "outputs": [],
   "source": []
  }
 ],
 "metadata": {
  "kernelspec": {
   "display_name": "Python 3 (ipykernel)",
   "language": "python",
   "name": "python3"
  },
  "language_info": {
   "codemirror_mode": {
    "name": "ipython",
    "version": 3
   },
   "file_extension": ".py",
   "mimetype": "text/x-python",
   "name": "python",
   "nbconvert_exporter": "python",
   "pygments_lexer": "ipython3",
   "version": "3.11.7"
  }
 },
 "nbformat": 4,
 "nbformat_minor": 4
}
