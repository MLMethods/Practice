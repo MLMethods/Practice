{
 "cells": [
  {
   "cell_type": "markdown",
   "metadata": {},
   "source": [
    "# Линейная полиномиальная регрессия\n",
    "\n",
    "Предсказание расхода топлива автомобилем\n",
    "\n",
    "<hr>\n",
    "\n",
    "С.Ю. Папулин (papulin.study@yandex.ru)"
   ]
  },
  {
   "cell_type": "markdown",
   "metadata": {},
   "source": [
    "### Содержание\n",
    "\n",
    "- [Загрузка данных](#Загрузка-данных)\n",
    "- [Предсказание расхода топлива](#Предсказание-расхода-топлива)\n",
    "- [Источники](#Источники)"
   ]
  },
  {
   "cell_type": "markdown",
   "metadata": {},
   "source": [
    "Увеличение области вывода:"
   ]
  },
  {
   "cell_type": "code",
   "execution_count": null,
   "metadata": {},
   "outputs": [],
   "source": [
    "# FIXME: \n",
    "# %%javascript\n",
    "# IPython.OutputArea.auto_scroll_threshold = 9999;"
   ]
  },
  {
   "cell_type": "markdown",
   "metadata": {},
   "source": [
    "Подключение библиотек:"
   ]
  },
  {
   "cell_type": "code",
   "execution_count": null,
   "metadata": {},
   "outputs": [],
   "source": [
    "import numpy as np\n",
    "import pandas as pd\n",
    "import matplotlib.pyplot as plt\n",
    "%matplotlib inline"
   ]
  },
  {
   "cell_type": "code",
   "execution_count": null,
   "metadata": {},
   "outputs": [],
   "source": [
    "from pandas.plotting import scatter_matrix"
   ]
  },
  {
   "cell_type": "code",
   "execution_count": null,
   "metadata": {},
   "outputs": [],
   "source": [
    "from sklearn.model_selection import train_test_split\n",
    "from sklearn.linear_model import LinearRegression\n",
    "from sklearn.metrics import mean_squared_error"
   ]
  },
  {
   "cell_type": "code",
   "execution_count": null,
   "metadata": {},
   "outputs": [],
   "source": [
    "from sklearn.preprocessing import PolynomialFeatures"
   ]
  },
  {
   "cell_type": "markdown",
   "metadata": {},
   "source": [
    "## Загрузка данных"
   ]
  },
  {
   "cell_type": "code",
   "execution_count": null,
   "metadata": {},
   "outputs": [],
   "source": [
    "FILE_PATH = \"../data/auto-mpg.data\""
   ]
  },
  {
   "cell_type": "markdown",
   "metadata": {},
   "source": [
    "Признаки:\n",
    "1. `mpg`: миль на галлон, действительное значение\n",
    "2. `cylinders`: количество цилиндров, дискретное значение\n",
    "3. `displacement`: объем двигателя, куб. дюймы, действительное значение\n",
    "4. `horsepower`: horsepower: действительное значение\n",
    "5. `weight`: вес автомобиля: lbs., действительное значение\n",
    "6. `acceleration`: время разгона до 60 mph, сек., действительное значение\n",
    "7. `model_year`: год выпуска модели, (по модулю 100), дискретное значение\n",
    "8. `origin`: регион (1. American, 2. European, 3. Japanese), дискретное значение\n",
    "9. `name`: наименование модели, строка (уникально для каждого экземпляра)"
   ]
  },
  {
   "cell_type": "code",
   "execution_count": null,
   "metadata": {},
   "outputs": [],
   "source": [
    "CLMNS = [\n",
    "    \"mpg\", \"cylinders\", \"displacement\", \"horsepower\", \n",
    "    \"weight\", \"acceleration\", \"model_year\", \"origin\", \"name\"\n",
    "]\n",
    "\n",
    "# Загрузка датасета\n",
    "# Замечание: \n",
    "#  1) Разбиваем на столбцы по пробелам (один и более)\n",
    "#  2) Там, где ?, заменяем на NaN\n",
    "#  3) Удаляем строки с NaN\n",
    "\n",
    "df = pd.read_csv(FILE_PATH, \n",
    "                 sep=\"\\s+\", \n",
    "                 names=CLMNS, \n",
    "                 na_values=[\"?\",]).dropna()\n",
    "\n",
    "df.head()"
   ]
  },
  {
   "cell_type": "code",
   "execution_count": null,
   "metadata": {},
   "outputs": [],
   "source": [
    "scatter_matrix(df, figsize=[12,12])\n",
    "plt.show()"
   ]
  },
  {
   "cell_type": "code",
   "execution_count": null,
   "metadata": {},
   "outputs": [],
   "source": [
    "# График\n",
    "plt.figure(1, figsize=[12, 4])\n",
    "plt.subplot(1,2,1)\n",
    "plt.title(\"horsepower\")\n",
    "plt.scatter(df[\"horsepower\"], df[\"mpg\"], color=\"green\")\n",
    "plt.xlabel(\"$horsepower$\")\n",
    "plt.ylabel(\"$mpg$\")\n",
    "plt.grid(True)\n",
    "\n",
    "plt.subplot(1,2,2)\n",
    "plt.title(\"weight\")\n",
    "plt.scatter(df[\"weight\"], df[\"mpg\"], color=\"green\")\n",
    "plt.xlabel(\"$weight$\")\n",
    "plt.ylabel(\"$mpg$\")\n",
    "plt.grid(True)\n",
    "plt.show()"
   ]
  },
  {
   "cell_type": "markdown",
   "metadata": {},
   "source": [
    "## Предсказание расхода топлива"
   ]
  },
  {
   "cell_type": "markdown",
   "metadata": {},
   "source": [
    "Модель 1:\n",
    "\n",
    "$$h_1(x) = \\theta_0 + \\theta_1\\cdot\\text{horsepower}$$\n",
    "\n",
    "Модель 2:\n",
    "\n",
    "$$h_2(x) = \\theta_0 + \\theta_1\\cdot\\text{horsepower} + \\theta_2\\cdot\\text{horsepower}^2$$\n",
    "\n",
    "Модель 3:\n",
    "\n",
    "$$h_3(x) = \\theta_0 + \\theta_1\\cdot\\text{horsepower} + \\theta_2\\cdot\\text{weight} $$\n",
    "\n",
    "Модель 4:\n",
    "\n",
    "$$h_4(x) = \\theta_0 + \\theta_1\\cdot\\text{horsepower} + \\theta_2\\cdot\\text{horsepower}^2 + \\theta_3\\cdot\\text{weight} $$"
   ]
  },
  {
   "cell_type": "code",
   "execution_count": null,
   "metadata": {},
   "outputs": [],
   "source": [
    "def create_poly_as_dataframe(df_train, df_test, degree):\n",
    "    \"\"\"\n",
    "    Создает датафреймы с полиномами для обучающей и тестовой частей.\n",
    "    \n",
    "    Замечание: В данном случае нет необходимости создавать полиномы отдельно\n",
    "    для обучающего и тестового датафреймов. Можно было бы это сделать для всего\n",
    "    исходного датафрейма. Однако интерфейс PolynomialFeatures подразумевает\n",
    "    использование методов fit и transform. Поэтому разделение применяется\n",
    "    для соблюдения общего подхода.\n",
    "    \"\"\"\n",
    "    pf = PolynomialFeatures(degree=degree)\n",
    "    train_poly = pf.fit_transform(df_train)\n",
    "    test_poly = pf.transform(df_test)\n",
    "    return pd.DataFrame(train_poly, index=df_train.index), pd.DataFrame(test_poly, index=df_test.index)\n",
    "\n",
    "\n",
    "def create_poly_as_matrix(df_train, df_test, degree):\n",
    "    \"\"\"\n",
    "    Создает матрицы с полиномами для обучающей и тестовой частей.\n",
    "    \"\"\"\n",
    "    pf = PolynomialFeatures(degree=degree)\n",
    "    train_poly = pf.fit_transform(df_train)\n",
    "    test_poly = pf.transform(df_test)\n",
    "    return np.asmatrix(train_poly), np.asmatrix(test_poly)"
   ]
  },
  {
   "cell_type": "code",
   "execution_count": null,
   "metadata": {},
   "outputs": [],
   "source": [
    "# # Формирование датафрейма признаков: \n",
    "# # исходный датафрейм признаков + датафрейм полиномов (кроме самих признаков и 1)\n",
    "# poly_degree = 3\n",
    "# num_poly_features = df_train_X[feature_clmns_1].columns.size\n",
    "\n",
    "# df_train_poly, df_test_poly = create_poly_as_dataframe(df_train_X[feature_clmns_1], \n",
    "#                                                        df_test_X[feature_clmns_1], \n",
    "#                                                        degree=poly_degree)\n",
    "\n",
    "# # Замечание: Используется цикл вместо concat, чтобы избежать\n",
    "# # повторного включения столбцов\n",
    "# for i in range(num_poly_features+1, df_train_poly.columns.size):\n",
    "#     df_train_X[i] = df_train_poly[i]\n",
    "    \n",
    "# df_train_X.head()"
   ]
  },
  {
   "cell_type": "code",
   "execution_count": null,
   "metadata": {},
   "outputs": [],
   "source": [
    "def plot_true_predicted(df_X, df_y, label_clmn=\"label\", prediction_clmn=\"prediction\", title=None):\n",
    "    \"\"\"\n",
    "    Построение графиков действительных значений и предсказанных \n",
    "    по каждому признаку.\n",
    "    \"\"\"\n",
    "    \n",
    "    feature_names = df_X.columns\n",
    "    num_features = feature_names.size\n",
    "    num_plot_rows = int(np.ceil((num_features+1)/2.0))\n",
    "    columns = df_X.columns\n",
    "    \n",
    "    fig = plt.figure(figsize=[12, 4*num_plot_rows])\n",
    "    for i in range(num_features):\n",
    "        plt.subplot(num_plot_rows, 2, i+1)\n",
    "        plt.vlines(df_X[feature_names[i]], ymin=df_y[label_clmn], ymax=df_y[prediction_clmn], \n",
    "                   colors=\"black\", linestyles=\"dotted\", lw=1, zorder=1)\n",
    "        plt.scatter(df_X[feature_names[i]], df_y[label_clmn], \n",
    "                    color=\"green\", label=\"true\", zorder=2)\n",
    "        plt.scatter(df_X[feature_names[i]], df_y[prediction_clmn], \n",
    "                    color=\"red\", label=\"predicted\", zorder=3)\n",
    "        plt.xlabel(\"$%s$\" % feature_names[i])\n",
    "        plt.ylabel(\"$%s$\" % label_clmn)\n",
    "        plt.legend()\n",
    "        plt.grid(True) \n",
    "    \n",
    "    plt.subplot(num_plot_rows, 2, num_features+1)\n",
    "    plt.scatter(df_y[prediction_clmn], df_y[label_clmn], color=\"slategrey\")\n",
    "    xlim = plt.gca().get_xlim() \n",
    "    plt.plot(xlim, xlim, '--', color=\"grey\")\n",
    "    plt.xlim(xlim) \n",
    "    plt.xlabel(\"$\\\\bar{y}$\")\n",
    "    plt.ylabel(\"$y$\")\n",
    "    plt.grid(True) \n",
    "    \n",
    "    plt.tight_layout()\n",
    "    \n",
    "#     if title:\n",
    "#         plt.subplots_adjust(left=0.1, right=0.9, top=0.9, bottom=0.1)\n",
    "#         plt.suptitle(title,  y=.98, fontsize=16)\n",
    "    plt.show()"
   ]
  },
  {
   "cell_type": "code",
   "execution_count": null,
   "metadata": {
    "scrolled": true
   },
   "outputs": [],
   "source": [
    "# Столбец целевого значения (действительного значения)\n",
    "target_clmn = [\"mpg\"]\n",
    "\n",
    "# Столбцы признаков (все кроме целевого значения)\n",
    "all_feature_clmns = df.columns.delete(df.columns.get_loc(target_clmn[0]))\n",
    "\n",
    "# Столбцы признаков для моделей\n",
    "feature_clmns_1 = [\"horsepower\"]\n",
    "feature_clmns_2 = [\"horsepower\", \"horsepower^2\"]\n",
    "feature_clmns_3 = [\"horsepower\", \"weight\"]\n",
    "feature_clmns_4 = [\"horsepower\", \"horsepower^2\", \"weight\"]\n",
    "\n",
    "# Разбиение исходных данных на обучающее и тестовое множества\n",
    "df_train_X, df_test_X, df_train_y, df_test_y = train_test_split(\n",
    "    df[all_feature_clmns], df[target_clmn], \n",
    "    test_size=0.3, random_state=1234)\n",
    "\n",
    "# Добавление полинома в датафрейм признаков (в данном случае \n",
    "# нужна только степень 2 для horsepower)\n",
    "\n",
    "# Вариант 1\n",
    "\n",
    "# Добавление столбца (можно сделать и для всего датафрейма)\n",
    "df_train_X[\"horsepower^2\"] = df_train_X[\"horsepower\"]**2\n",
    "df_test_X[\"horsepower^2\"] = df_test_X[\"horsepower\"]**2\n",
    "\n",
    "\n",
    "# Вариант 2 (с использованием PolynomialFeatures)\n",
    "\n",
    "# poly_degree = 2\n",
    "\n",
    "# train_poly_matrix, test_poly_matrix = create_poly_as_matrix(df_train_X[feature_clmns_1], \n",
    "#                                                             df_test_X[feature_clmns_1], \n",
    "#                                                             degree=poly_degree)\n",
    "# df_train_X[\"horsepower^2\"] = train_poly_matrix[:,2]\n",
    "# df_test_X[\"horsepower^2\"] = test_poly_matrix[:,2]\n",
    "\n",
    "\n",
    "# Список столбцов признаков для всех моделей\n",
    "features_set = [feature_clmns_1, feature_clmns_2, feature_clmns_3, feature_clmns_4]\n",
    "\n",
    "# Обучение и оценка качества моделей\n",
    "for indx, features in enumerate(features_set):\n",
    "    \n",
    "    # Обучение\n",
    "    model = LinearRegression()\n",
    "    model.fit(df_train_X[features], df_train_y[target_clmn[0]])\n",
    "    \n",
    "    # Параметры обученных моделей\n",
    "    print(\"Model\", indx + 1)\n",
    "    print(\"\\tw0 =\", model.intercept_)\n",
    "    for i, coef in enumerate(model.coef_):\n",
    "        print(\"\\tw{} = {}\".format(i+1, coef))\n",
    "    \n",
    "    # Предсказания\n",
    "    model_name = \"model_{}_pred\".format(indx+1)\n",
    "    df_train_y[model_name] = model.predict(df_train_X[features])\n",
    "    df_test_y[model_name] = model.predict(df_test_X[features])\n",
    "    \n",
    "    # Среднеквадратические ошибки на тестовом подмножестве для всех моделей\n",
    "    mse = mean_squared_error(df_test_y[target_clmn], model.predict(df_test_X[features]))\n",
    "    print(\"\\tMSE = {}\".format(mse))\n",
    "    \n",
    "    # Графики\n",
    "    plot_true_predicted(df_test_X[features], \n",
    "                        df_test_y, \n",
    "                        label_clmn=target_clmn[0], \n",
    "                        prediction_clmn=model_name)\n",
    "\n",
    "# Действительные и предсказанные значения для тестовых данных (первые пять)\n",
    "df_test_y.head(5)"
   ]
  },
  {
   "cell_type": "markdown",
   "metadata": {},
   "source": [
    "## Альтернативная реализация"
   ]
  },
  {
   "cell_type": "code",
   "execution_count": null,
   "metadata": {},
   "outputs": [],
   "source": [
    "def transform_to_poly(df, clmn, inplace=True):\n",
    "    \"\"\"Трансформация\"\"\"\n",
    "    clmn_new = \"{}^2\".format(clmn)\n",
    "    if inplace:\n",
    "        df[clmn_new] = df[clmn]**2\n",
    "        return df\n",
    "    return df.assign(**{clmn_new: df[clmn]**2})\n",
    "\n",
    "\n",
    "def train_and_predit(df, model, feature_clmns, label_clmn, predicted_clmn=\"predicted\", inplace=True):\n",
    "    \"\"\"Обучение и предсказание\"\"\"\n",
    "    model.fit(df[feature_clmns], df[label_clmn])\n",
    "    if inplace:\n",
    "        df[predicted_clmn] = model.predict(df[feature_clmns])\n",
    "        return df\n",
    "    return df.assign(**{predicted_clmn: model.predict(df[feature_clmns])})\n",
    "\n",
    "\n",
    "def predict(df, model, feature_clmns, predicted_clmn=\"predicted\", inplace=True):\n",
    "    \"\"\"Предсказание\"\"\"\n",
    "    if inplace:\n",
    "        df[predicted_clmn] = model.predict(df[feature_clmns])\n",
    "        return df\n",
    "    return df.assign(**{predicted_clmn: model.predict(df[feature_clmns])})\n",
    "\n",
    "\n",
    "def describe(df, name, model, feature_clmns, label_clmn, predicted_clmn=\"predicted\"):\n",
    "    \"\"\"Вывод информации о модели\"\"\"\n",
    "   \n",
    "    # Наименование\n",
    "    print(name)\n",
    "    \n",
    "    # Параметры обученных моделей\n",
    "    print(\"\\tw0 =\", model.intercept_)\n",
    "    for i, coef in enumerate(model.coef_):\n",
    "        print(\"\\tw{} = {}\".format(i+1, coef))\n",
    "        \n",
    "    # Среднеквадратические ошибки на тестовом подмножестве для всех моделей\n",
    "    mse = mean_squared_error(df[label_clmn], df[predicted_clmn])\n",
    "    print(\"\\tMSE = {}\".format(mse))\n",
    "    \n",
    "    # Графики\n",
    "    plot_true_predicted(df[feature_clmns], df, \n",
    "                       label_clmn=label_clmn, \n",
    "                       prediction_clmn=predicted_clmn)\n",
    "    \n",
    "    return df\n",
    "    \n",
    "    \n",
    "# Разбиение исходных данных на обучающее и тестовое множества\n",
    "df_train, df_test = train_test_split(df, test_size=0.3, random_state=1234)\n",
    "\n",
    "# Столбцы признаков и целевого значения\n",
    "target_clmn = \"mpg\"\n",
    "feature_clmns = [\"horsepower\", \"horsepower^2\"]\n",
    "\n",
    "# Инициализация модели\n",
    "model = LinearRegression()   \n",
    "\n",
    "# Обучение и тестирование\n",
    "df_train__predicted = df_train\\\n",
    "    .pipe(transform_to_poly, \"horsepower\", False)\\\n",
    "    .pipe(train_and_predit, model, feature_clmns, target_clmn)\\\n",
    "    .pipe(describe, \"Train\", model, feature_clmns, target_clmn)\n",
    "\n",
    "df_test__predicted = df_test\\\n",
    "    .pipe(transform_to_poly, \"horsepower\", False)\\\n",
    "    .pipe(predict, model, feature_clmns)\\\n",
    "    .pipe(describe, \"Test\", model, feature_clmns, target_clmn)\n",
    "\n",
    "df_test__predicted[feature_clmns + [target_clmn] + [\"predicted\"]].head(5)"
   ]
  },
  {
   "cell_type": "markdown",
   "metadata": {},
   "source": [
    "## Источники"
   ]
  },
  {
   "cell_type": "markdown",
   "metadata": {},
   "source": [
    "[Auto MPG Data Set](https://archive.ics.uci.edu/ml/datasets/auto+mpg)"
   ]
  },
  {
   "cell_type": "code",
   "execution_count": null,
   "metadata": {},
   "outputs": [],
   "source": []
  }
 ],
 "metadata": {
  "kernelspec": {
   "display_name": "Python 3 (ipykernel)",
   "language": "python",
   "name": "python3"
  },
  "language_info": {
   "codemirror_mode": {
    "name": "ipython",
    "version": 3
   },
   "file_extension": ".py",
   "mimetype": "text/x-python",
   "name": "python",
   "nbconvert_exporter": "python",
   "pygments_lexer": "ipython3",
   "version": "3.11.7"
  }
 },
 "nbformat": 4,
 "nbformat_minor": 4
}
