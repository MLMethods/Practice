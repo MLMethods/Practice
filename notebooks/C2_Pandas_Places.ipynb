{
 "cells": [
  {
   "cell_type": "markdown",
   "metadata": {},
   "source": [
    "# Data Transformation using Pandas\n",
    "\n",
    "S.Yu. Papulin (papulin.study@yandex.ru)"
   ]
  },
  {
   "cell_type": "markdown",
   "metadata": {},
   "source": [
    "### Contents\n",
    " - [Preparation](#Preparation)\n",
    " - [Basic operations over dataframes](#Basic-operations-over-dataframes)\n",
    "     - [Selecting and filtering](#Selecting-and-filtering)\n",
    "     - [Grouping](#Grouping)\n",
    " - [Applying user-defined function](#Applying-user-defined-function)\n",
    "     - [Extracting place locations](#Extracting-place-locations)\n",
    "     - [Calculating distance](#Calculating-distance)\n",
    "     - [Matching places to districts](#Matching-places-to-districts)\n",
    " - [Plotting data onto map](#Plotting-data-onto-map)"
   ]
  },
  {
   "cell_type": "markdown",
   "metadata": {},
   "source": [
    "## Preparation"
   ]
  },
  {
   "cell_type": "markdown",
   "metadata": {},
   "source": [
    "Import modules"
   ]
  },
  {
   "cell_type": "code",
   "execution_count": 1,
   "metadata": {},
   "outputs": [],
   "source": [
    "import pandas as pd\n",
    "import numpy as np"
   ]
  },
  {
   "cell_type": "code",
   "execution_count": 2,
   "metadata": {},
   "outputs": [],
   "source": [
    "# !pip install --upgrade pandas==0.23"
   ]
  },
  {
   "cell_type": "markdown",
   "metadata": {},
   "source": [
    "**Installing some additional modules if needed**"
   ]
  },
  {
   "cell_type": "markdown",
   "metadata": {},
   "source": [
    "⚠️ To use `GeoDataFrame`, please, install `geopandas` as it's not a part of the `anaconda` distribution"
   ]
  },
  {
   "cell_type": "code",
   "execution_count": 3,
   "metadata": {},
   "outputs": [],
   "source": [
    "# Module for processing geodata as DataFrames\n",
    "# !pip install geopandas==0.8"
   ]
  },
  {
   "cell_type": "code",
   "execution_count": 4,
   "metadata": {},
   "outputs": [],
   "source": [
    "import geopandas as gpd\n",
    "from shapely.geometry import Point, Polygon, MultiPolygon\n",
    "from geopandas.tools import sjoin"
   ]
  },
  {
   "cell_type": "markdown",
   "metadata": {},
   "source": [
    "⚠️ To use `sjoin`, please, install `rtree` as it's not a part of the `anaconda` distribution"
   ]
  },
  {
   "cell_type": "code",
   "execution_count": 5,
   "metadata": {},
   "outputs": [],
   "source": [
    "# !pip install rtree"
   ]
  },
  {
   "cell_type": "markdown",
   "metadata": {},
   "source": [
    "⚠️ To use maps, please, install `folium` as it's not a part of the `anaconda` distribution"
   ]
  },
  {
   "cell_type": "code",
   "execution_count": 6,
   "metadata": {},
   "outputs": [],
   "source": [
    "# Module for map visualization\n",
    "# !pip install folium"
   ]
  },
  {
   "cell_type": "code",
   "execution_count": 7,
   "metadata": {},
   "outputs": [],
   "source": [
    "import folium\n",
    "from folium.plugins import HeatMap"
   ]
  },
  {
   "cell_type": "markdown",
   "metadata": {},
   "source": [
    "⚠️ There is a bug when displaying a map in Chrome. To get around this issue, use the code below to display maps"
   ]
  },
  {
   "cell_type": "code",
   "execution_count": 8,
   "metadata": {},
   "outputs": [],
   "source": [
    "# https://github.com/python-visualization/folium/issues/812\n",
    "def embed_map(m):\n",
    "    from IPython.display import IFrame\n",
    "    m.save('index.html')\n",
    "    return IFrame('index.html', width='100%', height='750px')"
   ]
  },
  {
   "cell_type": "markdown",
   "metadata": {},
   "source": [
    "## Basic operations over dataframes"
   ]
  },
  {
   "cell_type": "code",
   "execution_count": null,
   "metadata": {},
   "outputs": [],
   "source": [
    "FILE = \"../data/data-4275-2021-02-09.xlsx\""
   ]
  },
  {
   "cell_type": "code",
   "execution_count": null,
   "metadata": {},
   "outputs": [],
   "source": [
    "CLMNS = [\"Name\", \"TypeObject\", \"District\", \"Address\", \"SeatsCount\", \"geoData\"]"
   ]
  },
  {
   "cell_type": "code",
   "execution_count": null,
   "metadata": {},
   "outputs": [],
   "source": [
    "# Create a dataframe of places\n",
    "df = pd.read_excel(FILE, index_col=0)\n",
    "df.head()"
   ]
  },
  {
   "cell_type": "code",
   "execution_count": null,
   "metadata": {},
   "outputs": [],
   "source": [
    "# Columns in lowercase\n",
    "# df.columns = list(map(str.lower, df.columns))"
   ]
  },
  {
   "cell_type": "code",
   "execution_count": null,
   "metadata": {},
   "outputs": [],
   "source": [
    "# Data description\n",
    "df.info()"
   ]
  },
  {
   "cell_type": "code",
   "execution_count": null,
   "metadata": {},
   "outputs": [],
   "source": [
    "# Select only needed columns\n",
    "df_places = df[CLMNS]\n",
    "df_places.head()"
   ]
  },
  {
   "cell_type": "code",
   "execution_count": null,
   "metadata": {},
   "outputs": [],
   "source": [
    "# Data description\n",
    "df_places.info()"
   ]
  },
  {
   "cell_type": "code",
   "execution_count": null,
   "metadata": {},
   "outputs": [],
   "source": [
    "# Alternative way using read_excel\n",
    "df_places = pd.read_excel(FILE, \n",
    "                          index_col=0, \n",
    "                          usecols=[\"ID\",] + CLMNS)  # or you can use indices [0, 1, 5, 7, 8, 10, 14]\n",
    "df_places.head()"
   ]
  },
  {
   "cell_type": "markdown",
   "metadata": {},
   "source": [
    "Print types of public catering"
   ]
  },
  {
   "cell_type": "code",
   "execution_count": null,
   "metadata": {},
   "outputs": [],
   "source": [
    "df_places[\"TypeObject\"].unique()"
   ]
  },
  {
   "cell_type": "markdown",
   "metadata": {},
   "source": [
    "Find places on Bauman street:"
   ]
  },
  {
   "cell_type": "code",
   "execution_count": null,
   "metadata": {},
   "outputs": [],
   "source": [
    "cond = df_places[\"Address\"].str.lower().str.contains(\"бауманск\")"
   ]
  },
  {
   "cell_type": "code",
   "execution_count": null,
   "metadata": {},
   "outputs": [],
   "source": [
    "df_baum = df_places[cond]\n",
    "df_baum.head()"
   ]
  },
  {
   "cell_type": "code",
   "execution_count": null,
   "metadata": {},
   "outputs": [],
   "source": [
    "# query expression\n",
    "expr = 'Address.str.lower().str.contains(\"бауманс\")'\n",
    "\n",
    "# filter rows\n",
    "df_places.query(expr, engine='python').head()"
   ]
  },
  {
   "cell_type": "markdown",
   "metadata": {},
   "source": [
    "### Selecting and filtering"
   ]
  },
  {
   "cell_type": "code",
   "execution_count": null,
   "metadata": {},
   "outputs": [],
   "source": [
    "CLMNS = [\"Name\", \"Address\"]\n",
    "QUERY = \"SeatsCount == 35\""
   ]
  },
  {
   "cell_type": "code",
   "execution_count": null,
   "metadata": {},
   "outputs": [],
   "source": [
    "# Option 1: Using loc\n",
    "df_places.loc[\n",
    "    df_places[\"SeatsCount\"] == 35,  # filter\n",
    "    CLMNS  # select columns\n",
    "].head()"
   ]
  },
  {
   "cell_type": "code",
   "execution_count": null,
   "metadata": {},
   "outputs": [],
   "source": [
    "# Option 2: Using query\n",
    "df_places.query(QUERY)[CLMNS].head()"
   ]
  },
  {
   "cell_type": "code",
   "execution_count": null,
   "metadata": {},
   "outputs": [],
   "source": [
    "# Option 3: Using filter\n",
    "df_places\\\n",
    "    .filter(items=CLMNS, axis=1)\\\n",
    "    .filter(items=df_places.index[df_places[\"SeatsCount\"] == 35], axis=0)\\\n",
    "    .head()"
   ]
  },
  {
   "cell_type": "code",
   "execution_count": null,
   "metadata": {},
   "outputs": [],
   "source": [
    "# Option 4(a): Using pipe\n",
    "df_places\\\n",
    "    .query(QUERY)\\\n",
    "    .pipe(lambda df: df[CLMNS])\\\n",
    "    .head()"
   ]
  },
  {
   "cell_type": "code",
   "execution_count": null,
   "metadata": {},
   "outputs": [],
   "source": [
    "# Option 4(b): Using pipe\n",
    "def select_columns(df, clmns):\n",
    "    return df[clmns]\n",
    "\n",
    "def filter_rows(df, condition):\n",
    "    return df.query(condition)"
   ]
  },
  {
   "cell_type": "code",
   "execution_count": null,
   "metadata": {},
   "outputs": [],
   "source": [
    "df_places_new = df_places\\\n",
    "    .pipe(filter_rows, condition=QUERY)\\\n",
    "    .pipe(select_columns, clmns=CLMNS)\n",
    "df_places_new.head()"
   ]
  },
  {
   "cell_type": "code",
   "execution_count": null,
   "metadata": {},
   "outputs": [],
   "source": [
    "# Alternative way\n",
    "df_places_new = (\n",
    "    df_places\n",
    "    .pipe(filter_rows, condition=QUERY)  # you can provide comments here\n",
    "    .pipe(select_columns, clmns=CLMNS)\n",
    ")\n",
    "df_places_new.head()"
   ]
  },
  {
   "cell_type": "markdown",
   "metadata": {},
   "source": [
    "### Grouping"
   ]
  },
  {
   "cell_type": "code",
   "execution_count": null,
   "metadata": {},
   "outputs": [],
   "source": [
    "# Option 1\n",
    "df_places__counts = df_places[[\"TypeObject\"]]\\\n",
    "    .groupby([\"TypeObject\"])\\\n",
    "    .size()\\\n",
    "    .reset_index(name=\"Counts\")\\\n",
    "    .sort_values([\"Counts\",], ascending=False)\n",
    "df_places__counts"
   ]
  },
  {
   "cell_type": "code",
   "execution_count": null,
   "metadata": {},
   "outputs": [],
   "source": [
    "# Option 2\n",
    "df_places__counts = df_places[[\"TypeObject\"]]\\\n",
    "    .groupby([\"TypeObject\"])[\"TypeObject\"]\\\n",
    "    .count()\\\n",
    "    .reset_index(name=\"Counts\")\\\n",
    "    .sort_values([\"Counts\",], ascending=False)\n",
    "df_places__counts"
   ]
  },
  {
   "cell_type": "code",
   "execution_count": null,
   "metadata": {},
   "outputs": [],
   "source": [
    "# Option 3. min, max, sum, mean etc.\n",
    "df_places__counts = df_places[[\"TypeObject\"]]\\\n",
    "    .groupby([\"TypeObject\"])\\\n",
    "    .agg({\"TypeObject\": \"count\"})\\\n",
    "    .rename(columns={\"TypeObject\": \"Counts\"})\\\n",
    "    .reset_index(level=\"TypeObject\")\\\n",
    "    .sort_values([\"Counts\",], ascending=False)\n",
    "df_places__counts"
   ]
  },
  {
   "cell_type": "code",
   "execution_count": null,
   "metadata": {},
   "outputs": [],
   "source": [
    "# Option 4\n",
    "df_places__counts = df_places[\"TypeObject\"]\\\n",
    "    .value_counts()\\\n",
    "    .reset_index(name=\"TypeObject\")\n",
    "df_places__counts"
   ]
  },
  {
   "cell_type": "code",
   "execution_count": null,
   "metadata": {},
   "outputs": [],
   "source": [
    "# Option 5 (>=  Pandas 1.1.0)\n",
    "# df_places.value_counts(subset=[\"TypeObject\",])"
   ]
  },
  {
   "cell_type": "markdown",
   "metadata": {},
   "source": [
    "Print out top-5 places for each type by their number of seats in descending order"
   ]
  },
  {
   "cell_type": "code",
   "execution_count": null,
   "metadata": {},
   "outputs": [],
   "source": [
    "df_places.sort_values(\"SeatsCount\", ascending=[0])\\\n",
    "    .groupby(\"TypeObject\")\\\n",
    "    .head(5)"
   ]
  },
  {
   "cell_type": "code",
   "execution_count": null,
   "metadata": {},
   "outputs": [],
   "source": [
    "# Grouped output\n",
    "df_places.sort_values([\"TypeObject\", \"SeatsCount\"], ascending=[1, 0])\\\n",
    "    .groupby(\"TypeObject\")\\\n",
    "    .head(5)"
   ]
  },
  {
   "cell_type": "markdown",
   "metadata": {},
   "source": [
    "## Applying user-defined function"
   ]
  },
  {
   "cell_type": "markdown",
   "metadata": {},
   "source": [
    "### Extracting place locations"
   ]
  },
  {
   "cell_type": "markdown",
   "metadata": {},
   "source": [
    "Print out a single line of the geoData column"
   ]
  },
  {
   "cell_type": "code",
   "execution_count": null,
   "metadata": {},
   "outputs": [],
   "source": [
    "df_places.iloc[0][\"geoData\"]"
   ]
  },
  {
   "cell_type": "code",
   "execution_count": null,
   "metadata": {},
   "outputs": [],
   "source": [
    "import re\n",
    "import json"
   ]
  },
  {
   "cell_type": "code",
   "execution_count": null,
   "metadata": {},
   "outputs": [],
   "source": [
    "def extract_coordinates(geo_data):\n",
    "    \"\"\"Parse geoData value.\"\"\"\n",
    "    try:\n",
    "        geo_data_ = re.sub(\"(\\w+)=(\\w+), (\\w+)=\", r'\"\\1\": \"\\2\", \"\\3\": ', geo_data)\n",
    "        return json.loads(geo_data_)[\"coordinates\"]\n",
    "    except:\n",
    "        pass"
   ]
  },
  {
   "cell_type": "code",
   "execution_count": null,
   "metadata": {},
   "outputs": [],
   "source": [
    "# Create a new dataframe with lat, lng columns\n",
    "df_places__coords = df_places.apply(\n",
    "    lambda x: pd.Series(\n",
    "        extract_coordinates(x[\"geoData\"]), \n",
    "        index=[\"Lng\", \"Lat\"]\n",
    "    ),\n",
    "    axis=1, \n",
    "    result_type=\"expand\"\n",
    ")\n",
    "\n",
    "df_places__coords.head()"
   ]
  },
  {
   "cell_type": "code",
   "execution_count": null,
   "metadata": {},
   "outputs": [],
   "source": [
    "# Option 1: Merge the initial dataframe and the dataframe with coordinates\n",
    "df_places_ext = df_places.merge(df_places__coords, left_index=True, right_index=True)\n",
    "df_places_ext.head()"
   ]
  },
  {
   "cell_type": "code",
   "execution_count": null,
   "metadata": {},
   "outputs": [],
   "source": [
    "# Option 2: Concatenate the initial dataframe and the dataframe with coordinates\n",
    "df_places_ext = pd.concat([df_places, df_places__coords], axis=1, sort=False)\n",
    "df_places_ext.head()"
   ]
  },
  {
   "cell_type": "markdown",
   "metadata": {},
   "source": [
    "### Calculating distance"
   ]
  },
  {
   "cell_type": "markdown",
   "metadata": {},
   "source": [
    "Find your location by your ip address"
   ]
  },
  {
   "cell_type": "code",
   "execution_count": null,
   "metadata": {},
   "outputs": [],
   "source": [
    "import requests"
   ]
  },
  {
   "cell_type": "code",
   "execution_count": null,
   "metadata": {},
   "outputs": [],
   "source": [
    "# URL for getting your public IP\n",
    "IP_SERVICE_URL = \"https://api.myip.com\"\n",
    "IP_SERVICE_URL = \"https://api.ipify.org/?format=json\"\n",
    "\n",
    "# URL for getting your location by your IP\n",
    "LOCATION_SERVICE_URL = \"http://ip-api.com/json/{}\""
   ]
  },
  {
   "cell_type": "markdown",
   "metadata": {},
   "source": [
    "Getting your location by IP"
   ]
  },
  {
   "cell_type": "code",
   "execution_count": null,
   "metadata": {},
   "outputs": [],
   "source": [
    "# Request your public IP\n",
    "ip__response = requests.get(IP_SERVICE_URL)\n",
    "ip__response__data = ip__response.json()\n",
    "ip = ip__response__data[\"ip\"]\n",
    "\n",
    "# Request your location\n",
    "location__response = requests.get(LOCATION_SERVICE_URL.format(ip))\n",
    "location__response__data = location__response.json()\n",
    "\n",
    "# Extract lat and lng\n",
    "location = location__response__data[\"lat\"], location__response__data[\"lon\"]\n",
    "location"
   ]
  },
  {
   "cell_type": "markdown",
   "metadata": {},
   "source": [
    "Computing distances between your location and places"
   ]
  },
  {
   "cell_type": "code",
   "execution_count": null,
   "metadata": {},
   "outputs": [],
   "source": [
    "def calculate_haversine(*coords):\n",
    "    \"\"\"\n",
    "    Calculate a distance between points.\n",
    "    \n",
    "    Note: (start lat, start lng, end lat, end lng)\n",
    "    \"\"\"\n",
    "    if len(coords) != 4:\n",
    "        return\n",
    "    radius = 6371.0\n",
    "    coords_radians = np.radians(coords)\n",
    "    return 2 * radius * np.arcsin(\n",
    "        np.sqrt(\n",
    "            np.sin((coords_radians[2]-coords_radians[0])/2.0)**2 +\n",
    "            np.cos(coords_radians[0])*np.cos(coords_radians[2])*np.sin(\n",
    "                (coords_radians[3]-coords_radians[1])/2.0)**2\n",
    "        )\n",
    "    )"
   ]
  },
  {
   "cell_type": "code",
   "execution_count": null,
   "metadata": {},
   "outputs": [],
   "source": [
    "s_distance = df_places_ext\\\n",
    "    .apply(\n",
    "        lambda row: calculate_haversine(\n",
    "            location[0], \n",
    "            location[1], \n",
    "            row[\"Lat\"], \n",
    "            row[\"Lng\"]), axis=1)\\\n",
    "    .rename(\"Distance\")\n",
    "\n",
    "s_distance.head()"
   ]
  },
  {
   "cell_type": "code",
   "execution_count": null,
   "metadata": {
    "scrolled": false
   },
   "outputs": [],
   "source": [
    "# Add the distance column\n",
    "df_places_ext_ = df_places_ext.merge(s_distance, left_index=True, right_index=True)\n",
    "df_places_ext_.head()"
   ]
  },
  {
   "cell_type": "code",
   "execution_count": null,
   "metadata": {},
   "outputs": [],
   "source": [
    "# df_ext_ = pd.concat([df_ext, s_distance], axis=1, sort=False)\n",
    "# df_ext_.head()"
   ]
  },
  {
   "cell_type": "code",
   "execution_count": null,
   "metadata": {},
   "outputs": [],
   "source": [
    "# Places within 3km radius\n",
    "df_less_3km = df_places_ext_.query(\"Distance < 3\")\n",
    "df_less_3km.head()"
   ]
  },
  {
   "cell_type": "code",
   "execution_count": null,
   "metadata": {},
   "outputs": [],
   "source": [
    "# 5 nearest places to your location\n",
    "df_less_3km\\\n",
    "    .sort_values(\"Distance\")\\\n",
    "    .head(5)"
   ]
  },
  {
   "cell_type": "markdown",
   "metadata": {},
   "source": [
    "### Matching places to districts"
   ]
  },
  {
   "cell_type": "code",
   "execution_count": null,
   "metadata": {},
   "outputs": [],
   "source": [
    "# Path where city geojson is located\n",
    "MOSCOW_DISTRICTS_PATH = \"../data/mo.geojson\""
   ]
  },
  {
   "cell_type": "code",
   "execution_count": null,
   "metadata": {},
   "outputs": [],
   "source": [
    "with open(MOSCOW_DISTRICTS_PATH, encoding=\"utf-8\") as f:\n",
    "    districts_geojson = json.load(f)"
   ]
  },
  {
   "cell_type": "code",
   "execution_count": null,
   "metadata": {},
   "outputs": [],
   "source": [
    "# Single zone\n",
    "districts_geojson[\"features\"][0]"
   ]
  },
  {
   "cell_type": "code",
   "execution_count": null,
   "metadata": {},
   "outputs": [],
   "source": [
    "sgeometry_type = set()\n",
    "for district in districts_geojson[\"features\"]:\n",
    "    sgeometry_type.add(district[\"geometry\"][\"type\"])\n",
    "sgeometry_type"
   ]
  },
  {
   "cell_type": "markdown",
   "metadata": {},
   "source": [
    "**Using `shapely`**"
   ]
  },
  {
   "cell_type": "code",
   "execution_count": null,
   "metadata": {},
   "outputs": [],
   "source": [
    "from shapely.geometry import Point, Polygon, MultiPolygon"
   ]
  },
  {
   "cell_type": "code",
   "execution_count": null,
   "metadata": {},
   "outputs": [],
   "source": [
    "def create_district_row(features):\n",
    "    \"\"\"\n",
    "    Create a district row with properties and geometry field of \n",
    "    the Polygon/MultiPolygon type.\n",
    "    \"\"\"\n",
    "    for item in features:\n",
    "        try:\n",
    "            row = list(item[\"properties\"].values()).copy()    \n",
    "            polygons = list()\n",
    "            if item[\"geometry\"][\"type\"] == \"Polygon\":\n",
    "                polygons.append(Polygon(item[\"geometry\"][\"coordinates\"][0]))\n",
    "            elif item[\"geometry\"][\"type\"] == \"MultiPolygon\":\n",
    "                for polygon in item[\"geometry\"][\"coordinates\"]:\n",
    "                    polygons.append(Polygon(polygon[0]))\n",
    "            row.append(MultiPolygon(polygons=polygons))\n",
    "            yield row\n",
    "        except Exception as e:\n",
    "            pass"
   ]
  },
  {
   "cell_type": "code",
   "execution_count": null,
   "metadata": {},
   "outputs": [],
   "source": [
    "# Test the function using a single zone\n",
    "list(create_district_row([districts_geojson[\"features\"][0],]))"
   ]
  },
  {
   "cell_type": "code",
   "execution_count": null,
   "metadata": {},
   "outputs": [],
   "source": [
    "# Extract column names for districts\n",
    "column_name_list = [key.title() for key, value in districts_geojson[\"features\"][0][\"properties\"].items()]\n",
    "column_name_list += [\"geometry\"]\n",
    "column_name_list"
   ]
  },
  {
   "cell_type": "code",
   "execution_count": null,
   "metadata": {},
   "outputs": [],
   "source": [
    "# Create a dataframe of districts\n",
    "df_districts = pd.DataFrame(data=create_district_row(districts_geojson[\"features\"]), \n",
    "                            columns=column_name_list)\n",
    "df_districts.set_index(\"Oktmo\", inplace=True)\n",
    "df_districts.head()"
   ]
  },
  {
   "cell_type": "code",
   "execution_count": null,
   "metadata": {
    "scrolled": false
   },
   "outputs": [],
   "source": [
    "# Create the geometry field for places\n",
    "df_places_ext[\"geometry\"] = df_places_ext\\\n",
    "    .apply(lambda row: Point((row[\"Lng\"], row[\"Lat\"])), axis=1)\n",
    "df_places_ext.head()"
   ]
  },
  {
   "cell_type": "markdown",
   "metadata": {},
   "source": [
    "Mapping places to districts"
   ]
  },
  {
   "cell_type": "markdown",
   "metadata": {},
   "source": [
    "⏱️ It takes some time..."
   ]
  },
  {
   "cell_type": "code",
   "execution_count": null,
   "metadata": {},
   "outputs": [],
   "source": [
    "# %%timeit -n1 -r1\n",
    "# Option 1\n",
    "df_districts[\"Counts\"] = 0\n",
    "for place_indx, place in df_places_ext.iterrows():\n",
    "    for district_indx, district in df_districts.iterrows():\n",
    "        if district[\"geometry\"].contains(place[\"geometry\"]): \n",
    "            df_districts.loc[district_indx, \"Counts\"] += 1\n",
    "            break"
   ]
  },
  {
   "cell_type": "code",
   "execution_count": null,
   "metadata": {},
   "outputs": [],
   "source": [
    "df_districts.head()"
   ]
  },
  {
   "cell_type": "code",
   "execution_count": null,
   "metadata": {},
   "outputs": [],
   "source": [
    "# Option 2\n",
    "def place_in(districts):\n",
    "    \"\"\"Return a district index for a place.\"\"\"\n",
    "    def _place_in(place):\n",
    "        for index, district in districts.iterrows():\n",
    "            if district[\"geometry\"].contains(place[\"geometry\"]):\n",
    "                return index\n",
    "    return _place_in"
   ]
  },
  {
   "cell_type": "markdown",
   "metadata": {},
   "source": [
    "⏱️ It takes some time..."
   ]
  },
  {
   "cell_type": "code",
   "execution_count": null,
   "metadata": {},
   "outputs": [],
   "source": [
    "# %%timeit -n1 -r1\n",
    "# Add a column with district indices\n",
    "df_places_ext[\"Oktmo\"] = df_places_ext.apply(place_in(df_districts), axis=1)\n",
    "df_places_ext.head()"
   ]
  },
  {
   "cell_type": "code",
   "execution_count": null,
   "metadata": {},
   "outputs": [],
   "source": [
    "# Add a column with the number of places for each district\n",
    "df_districts[\"Counts\"] = df_places_ext\\\n",
    "    .groupby([\"Oktmo\",])\\\n",
    "    .size()\n",
    "df_districts.head()"
   ]
  },
  {
   "cell_type": "markdown",
   "metadata": {},
   "source": [
    "**Using `geopandas`**"
   ]
  },
  {
   "cell_type": "code",
   "execution_count": null,
   "metadata": {},
   "outputs": [],
   "source": [
    "# Note: Remove the Oktmo column or just select columns that needed\n",
    "df_places_ext.drop([\"Oktmo\",], axis=1, inplace=True, errors=\"ignore\")"
   ]
  },
  {
   "cell_type": "code",
   "execution_count": null,
   "metadata": {},
   "outputs": [],
   "source": [
    "# Convert the place DataFrame to GeoDataFrame\n",
    "geodf_places = gpd.GeoDataFrame(df_places_ext, geometry=df_places_ext[\"geometry\"])\n",
    "geodf_places.head()"
   ]
  },
  {
   "cell_type": "code",
   "execution_count": null,
   "metadata": {},
   "outputs": [],
   "source": [
    "# Convert the district DataFrame to GeoDataFrame\n",
    "geodf_districts = gpd.GeoDataFrame(df_districts, geometry=df_districts[\"geometry\"])\n",
    "geodf_districts.head()"
   ]
  },
  {
   "cell_type": "code",
   "execution_count": null,
   "metadata": {},
   "outputs": [],
   "source": [
    "# %%timeit -n1\n",
    "# Count the number of places for each district\n",
    "df_districts[\"Counts\"] = sjoin(geodf_districts, geodf_places, how=\"left\", op=\"contains\")\\\n",
    "        .groupby([\"Oktmo\"])\\\n",
    "        .size()\n",
    "df_districts.head(5)"
   ]
  },
  {
   "cell_type": "markdown",
   "metadata": {},
   "source": [
    "## Plotting data onto map"
   ]
  },
  {
   "cell_type": "markdown",
   "metadata": {},
   "source": [
    "**Plotting city districts**"
   ]
  },
  {
   "cell_type": "code",
   "execution_count": null,
   "metadata": {},
   "outputs": [],
   "source": [
    "with open(MOSCOW_DISTRICTS_PATH, encoding=\"utf-8\") as f:\n",
    "    districts_geojson = json.load(f)"
   ]
  },
  {
   "cell_type": "code",
   "execution_count": null,
   "metadata": {},
   "outputs": [],
   "source": [
    "# Create an instance of map\n",
    "m = folium.Map()"
   ]
  },
  {
   "cell_type": "code",
   "execution_count": null,
   "metadata": {
    "scrolled": false
   },
   "outputs": [],
   "source": [
    "# Plot zones onto map\n",
    "style_function = lambda x: {\n",
    "    \"color\" : \"orange\",\n",
    "    \"weight\": 1\n",
    "}\n",
    "\n",
    "folium\\\n",
    "    .GeoJson(districts_geojson, name=\"geojson\", style_function=style_function)\\\n",
    "    .add_to(m)\n",
    "m.fit_bounds(m.get_bounds())\n",
    "embed_map(m)"
   ]
  },
  {
   "cell_type": "markdown",
   "metadata": {},
   "source": [
    "**Plotting places**"
   ]
  },
  {
   "cell_type": "code",
   "execution_count": null,
   "metadata": {},
   "outputs": [],
   "source": [
    "# Columns to use\n",
    "CLMNS = [\"Name\", \"Lat\", \"Lng\"]"
   ]
  },
  {
   "cell_type": "code",
   "execution_count": null,
   "metadata": {},
   "outputs": [],
   "source": [
    "df_places__coords = df_places_ext[CLMNS]\n",
    "df_places__coords.head()"
   ]
  },
  {
   "cell_type": "code",
   "execution_count": null,
   "metadata": {},
   "outputs": [],
   "source": [
    "# Create markers for places\n",
    "for indx, row in df_places__coords.iterrows():\n",
    "    try:\n",
    "        folium.Circle(\n",
    "            radius=5,\n",
    "            location=[row[\"Lat\"], row[\"Lng\"]],\n",
    "            popup=row[\"Name\"],\n",
    "            color=\"red\",\n",
    "            fill=True,\n",
    "            fill_opacity=1.0\n",
    "        ).add_to(m)\n",
    "    except:\n",
    "        pass"
   ]
  },
  {
   "cell_type": "code",
   "execution_count": null,
   "metadata": {},
   "outputs": [],
   "source": [
    "# Create a marker for your location\n",
    "folium.Marker(location, icon=folium.Icon(color=\"darkblue\", \n",
    "                                         icon_color=\"white\", \n",
    "                                         prefix=\"fa\", \n",
    "                                         icon=\"user\")).add_to(m)"
   ]
  },
  {
   "cell_type": "code",
   "execution_count": null,
   "metadata": {
    "scrolled": false
   },
   "outputs": [],
   "source": [
    "# Plot map with all elements\n",
    "embed_map(m)"
   ]
  },
  {
   "cell_type": "markdown",
   "metadata": {},
   "source": [
    "**Plotting city districts and place counts**"
   ]
  },
  {
   "cell_type": "code",
   "execution_count": null,
   "metadata": {},
   "outputs": [],
   "source": [
    "df_districts.reset_index(level=\"Oktmo\").head()"
   ]
  },
  {
   "cell_type": "code",
   "execution_count": null,
   "metadata": {},
   "outputs": [],
   "source": [
    "m = folium.Map()\n",
    "\n",
    "folium.Choropleth(\n",
    "    geo_data=districts_geojson,\n",
    "    data=df_districts.reset_index(level=\"Oktmo\"),  # index has to be a separate column\n",
    "    columns=[\"Oktmo\", \"Counts\",],\n",
    "    key_on=\"feature.properties.OKTMO\",\n",
    "    name=\"Number of places\",\n",
    "    legend_name=\"Number of places\",\n",
    "    highlight=True,\n",
    "    nan_fill_color=\"grey\",\n",
    "    nan_fill_opacity=0.1,\n",
    "    fill_color=\"YlOrRd\",\n",
    "    fill_opacity=0.7,\n",
    "    line_opacity=0.2,\n",
    ").add_to(m)\n",
    "m.fit_bounds(m.get_bounds())\n",
    "embed_map(m)"
   ]
  },
  {
   "cell_type": "code",
   "execution_count": null,
   "metadata": {},
   "outputs": [],
   "source": []
  }
 ],
 "metadata": {
  "kernelspec": {
   "display_name": "Python 3",
   "language": "python",
   "name": "python3"
  },
  "language_info": {
   "codemirror_mode": {
    "name": "ipython",
    "version": 3
   },
   "file_extension": ".py",
   "mimetype": "text/x-python",
   "name": "python",
   "nbconvert_exporter": "python",
   "pygments_lexer": "ipython3",
   "version": "3.7.3"
  }
 },
 "nbformat": 4,
 "nbformat_minor": 1
}
