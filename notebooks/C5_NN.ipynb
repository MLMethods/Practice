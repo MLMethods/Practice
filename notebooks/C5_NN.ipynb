{
 "cells": [
  {
   "cell_type": "markdown",
   "metadata": {},
   "source": [
    "# Нейронные сети\n",
    "\n",
    "\n",
    "<hr>\n",
    "\n",
    "С.Ю. Папулин (papulin.study@yandex.ru)"
   ]
  },
  {
   "cell_type": "markdown",
   "metadata": {},
   "source": [
    "### Содержание\n",
    "\n",
    "- [Классификация](#Классификация)\n",
    "    - [Набор данных](#Набор-данных)\n",
    "    - [Логистическая регрессия](#Логистическая-регрессия)\n",
    "    - [Полносвязная нейронная сеть в Sklearn](#Полносвязная-нейронная-сеть-в-Sklearn)\n",
    "    - [Полносвязная нейронная сеть в Keras](#Полносвязная-нейронная-сеть-в-Keras)\n",
    "    - [Выбор гиперпараметров с GridSearchCV](#Выбор-гиперпараметров-с-GridSearchCV)\n",
    "    - [Сверточная нейронная сеть в Keras](#Сверточная-нейронная-сеть-в-Keras)\n",
    "- [Регрессия](#Регрессия)\n",
    "    - [Набор данных](#Набор-данных)\n",
    "    - [Линейная регрессия](#Линейная-регрессия)\n",
    "    - [Полносвязная нейронная сеть](#Полносвязная-нейронная-сеть)"
   ]
  },
  {
   "cell_type": "markdown",
   "metadata": {},
   "source": [
    "Подключение библиотек:"
   ]
  },
  {
   "cell_type": "code",
   "execution_count": null,
   "metadata": {},
   "outputs": [],
   "source": [
    "import numpy as np"
   ]
  },
  {
   "cell_type": "code",
   "execution_count": null,
   "metadata": {},
   "outputs": [],
   "source": [
    "from sklearn import datasets\n",
    "from sklearn.model_selection import train_test_split, ShuffleSplit, GridSearchCV\n",
    "import matplotlib.pyplot as plt\n",
    "%matplotlib inline"
   ]
  },
  {
   "cell_type": "code",
   "execution_count": null,
   "metadata": {},
   "outputs": [],
   "source": [
    "from sklearn.linear_model import LogisticRegression, LinearRegression\n",
    "from sklearn.neural_network import MLPClassifier"
   ]
  },
  {
   "cell_type": "markdown",
   "metadata": {},
   "source": [
    "## Классификация"
   ]
  },
  {
   "cell_type": "code",
   "execution_count": null,
   "metadata": {},
   "outputs": [],
   "source": [
    "RANDOM_STATE = 100"
   ]
  },
  {
   "cell_type": "markdown",
   "metadata": {},
   "source": [
    "### Набор данных"
   ]
  },
  {
   "cell_type": "code",
   "execution_count": null,
   "metadata": {},
   "outputs": [],
   "source": [
    "# Загрузка исходных данных\n",
    "digits = datasets.load_digits()\n",
    "\n",
    "print(digits[\"DESCR\"])\n",
    "\n",
    "X = digits.images.reshape(len(digits.images), -1)\n",
    "y = digits.target\n",
    "\n",
    "print(\"Shape of X:\", X.shape)\n",
    "print(\"Shape of y:\", y.shape)\n",
    "\n",
    "# Замечание: можно уменьшить объем памяти и нормализовать данные\n",
    "# X = X.astype(\"float32\") / 16\n",
    "\n",
    "IMAGE_INDX = 20\n",
    "\n",
    "# Отображение одного изображения\n",
    "print(\"Image:\")\n",
    "plt.figure(figsize=[4, 4])\n",
    "plt.imshow(digits.images[IMAGE_INDX])\n",
    "plt.show()"
   ]
  },
  {
   "cell_type": "code",
   "execution_count": null,
   "metadata": {},
   "outputs": [],
   "source": [
    "# Разделение данных на обучающее и тестовое множества\n",
    "X_train, X_test, y_train, y_test = train_test_split(X, y, test_size=0.3, random_state=RANDOM_STATE)"
   ]
  },
  {
   "cell_type": "markdown",
   "metadata": {},
   "source": [
    "### Базовая отметка"
   ]
  },
  {
   "cell_type": "code",
   "execution_count": null,
   "metadata": {},
   "outputs": [],
   "source": [
    "# Выбираем индекс цифры, которая чаще всего встречается \n",
    "max_count__digit_indx = np.bincount(y_train).argmax()\n",
    "\n",
    "# Для тестовой части подсчитываем количество выбранной цифры\n",
    "num__max_count__digit_indx = y_test[y_test==max_count__digit_indx].size\n",
    "\n",
    "# Доля правильных классификаций, если модель будет предсказывать только цифру,\n",
    "#  которая встречается максимальное количетво раз в обучающем множестве\n",
    "test_error = num__max_count__digit_indx / y_test.size\n",
    "print(\"Test Accuracy:\", test_error)"
   ]
  },
  {
   "cell_type": "markdown",
   "metadata": {},
   "source": [
    "### Логистическая регрессия"
   ]
  },
  {
   "cell_type": "markdown",
   "metadata": {},
   "source": [
    "Ранее уже рассматривали распознавание цифр с использованием логистической регрессии. Ниже приведен пример кода."
   ]
  },
  {
   "cell_type": "code",
   "execution_count": null,
   "metadata": {},
   "outputs": [],
   "source": [
    "model = LogisticRegression(C=float(\"inf\"), \n",
    "                           multi_class=\"multinomial\", \n",
    "                           solver=\"newton-cg\", \n",
    "                           max_iter=200, \n",
    "                           random_state=RANDOM_STATE)\n",
    "model.fit(X_train, y_train)\n",
    "\n",
    "# Оценка качества модели\n",
    "train_error = model.score(X_train, y_train)\n",
    "test_error = model.score(X_test, y_test)\n",
    "\n",
    "print(\"Train Accuracy:\", train_error)\n",
    "print(\"Test Accuracy:\", test_error)"
   ]
  },
  {
   "cell_type": "markdown",
   "metadata": {},
   "source": [
    "### Полносвязная нейронная сеть в `Sklearn`\n",
    "\n",
    "Multilayer perceptrons/fully connected network"
   ]
  },
  {
   "cell_type": "code",
   "execution_count": null,
   "metadata": {},
   "outputs": [],
   "source": [
    "model = MLPClassifier(hidden_layer_sizes=(80, 10),\n",
    "                      solver=\"adam\",\n",
    "                      activation=\"relu\",\n",
    "                      max_iter=20,  # количество эпох\n",
    "                      batch_size=4,\n",
    "                      random_state=RANDOM_STATE)\n",
    "\n",
    "model.fit(X_train, y_train)\n",
    "\n",
    "print(\"Model parameters:\")\n",
    "for param, value in model.get_params().items():\n",
    "    print(\"\\t{} = {}\".format(param, value))\n",
    "\n",
    "# Оценка качества распознавания (доля правильных классификаций)\n",
    "train_error = model.score(X_train, y_train)\n",
    "test_error = model.score(X_test, y_test)\n",
    "print(\"\\nTrain Accuracy:\", train_error)\n",
    "print(\"Test Accuracy:\", test_error)\n",
    "\n",
    "# Веса модели\n",
    "print(\"\\nShape of weights and biases:\")\n",
    "print(\"\\tWeights of layer 1:\\t\", model.coefs_[0].shape)\n",
    "print(\"\\tBaises of layer 1:\\t\", model.intercepts_[0].shape)\n",
    "print(\"\\tWeights of layer 2:\\t\", model.coefs_[1].shape)\n",
    "print(\"\\tBaises of layer 2:\\t\", model.intercepts_[1].shape)"
   ]
  },
  {
   "cell_type": "code",
   "execution_count": null,
   "metadata": {},
   "outputs": [],
   "source": [
    "IMAGE_INDX = 20\n",
    "sample_image_input = digits[\"images\"][IMAGE_INDX].reshape(1, -1)\n",
    "\n",
    "# Предсказание и отображение цифры\n",
    "print(\"Target value:\", digits.target[IMAGE_INDX])\n",
    "print(\"Probabilities:\", model.predict_proba(sample_image_input))\n",
    "print(\"Predicted value:\", model.predict(sample_image_input))\n",
    "plt.imshow(digits.images[IMAGE_INDX])\n",
    "plt.show()"
   ]
  },
  {
   "cell_type": "code",
   "execution_count": null,
   "metadata": {},
   "outputs": [],
   "source": [
    "# TODO: select the number of epochs"
   ]
  },
  {
   "cell_type": "markdown",
   "metadata": {},
   "source": [
    "### Полносвязная нейронная сеть в `Keras`"
   ]
  },
  {
   "cell_type": "markdown",
   "metadata": {},
   "source": [
    "`pip install tensorflow==2.5.0`"
   ]
  },
  {
   "cell_type": "code",
   "execution_count": null,
   "metadata": {},
   "outputs": [],
   "source": [
    "from tensorflow.keras import models\n",
    "from tensorflow.keras import layers\n",
    "from tensorflow.keras.utils import to_categorical"
   ]
  },
  {
   "cell_type": "code",
   "execution_count": null,
   "metadata": {},
   "outputs": [],
   "source": [
    "# Формирование проверочного множества из исходного обучающего\n",
    "X_train_, X_val, y_train_, y_val = train_test_split(X_train, y_train, test_size=0.3, random_state=RANDOM_STATE)"
   ]
  },
  {
   "cell_type": "code",
   "execution_count": null,
   "metadata": {},
   "outputs": [],
   "source": [
    "def build_model(hidden_neurons=80):\n",
    "    \"\"\"Построение нейронной сети.\"\"\"\n",
    "    \n",
    "    # Топология\n",
    "    model = models.Sequential()\n",
    "    model.add(layers.Dense(hidden_neurons, activation=\"relu\", input_shape=(8*8,)))\n",
    "    model.add(layers.Dense(10, activation=\"softmax\"))\n",
    "    # Параметры обучения\n",
    "    model.compile(optimizer=\"adam\",\n",
    "                  loss=\"categorical_crossentropy\",\n",
    "                  metrics=[\"accuracy\"])\n",
    "    return model\n",
    "\n",
    "\n",
    "def build_model_alt(hidden_neurons=80):\n",
    "    \"\"\"Альтернативный подход к построению нейронной сети.\"\"\"\n",
    "    \n",
    "    # Топология\n",
    "    inputs = layers.Input(shape=(8*8,))\n",
    "    hidden_layer = layers.Dense(hidden_neurons, activation=\"relu\")(inputs)\n",
    "    outputs = layers.Dense(10, activation=\"softmax\")(hidden_layer)\n",
    "    model = models.Model(inputs=inputs, outputs=outputs)\n",
    "    # Параметры обучения\n",
    "    model.compile(optimizer=\"adam\",\n",
    "                  loss=\"categorical_crossentropy\",\n",
    "                  metrics=[\"accuracy\"])\n",
    "    return model"
   ]
  },
  {
   "cell_type": "code",
   "execution_count": null,
   "metadata": {
    "scrolled": true
   },
   "outputs": [],
   "source": [
    "# Максимальное количество эпох\n",
    "MAX_EPOCHS = 40\n",
    "\n",
    "# Преобразование целевых значений в бинарный вектор (one-hot encoding)\n",
    "Y_train_ = to_categorical(y_train_)\n",
    "Y_val = to_categorical(y_val)    \n",
    "\n",
    "# Построение модели\n",
    "model = build_model()\n",
    "\n",
    "# Описание модели\n",
    "model.summary()\n",
    "\n",
    "# Обучение\n",
    "train_history = model.fit(X_train_, Y_train_, \n",
    "                          epochs=MAX_EPOCHS, \n",
    "                          batch_size=4,\n",
    "                          validation_data=(X_val, Y_val),\n",
    "                          verbose=1)  # 1 для отображения хода обучения"
   ]
  },
  {
   "cell_type": "code",
   "execution_count": null,
   "metadata": {},
   "outputs": [],
   "source": [
    "# Построение графиков ошибок обучения\n",
    "plt.figure(figsize=[14, 4])\n",
    "\n",
    "epochs = np.arange(1, len(train_history.history[\"loss\"])+1)\n",
    "\n",
    "# Замечание: начинаем вывод со второй эпохи\n",
    "\n",
    "plt.subplot(1,2,1)  # кросс-энтропия\n",
    "plt.plot(epochs[1:], train_history.history[\"loss\"][1:], \"-og\", label=\"train\")\n",
    "plt.plot(epochs[1:], train_history.history[\"val_loss\"][1:], \"-o\", color=\"orange\", label=\"val\")\n",
    "plt.xlabel(\"epochs\")\n",
    "plt.ylabel(\"loss\")\n",
    "plt.grid(True)\n",
    "plt.legend()\n",
    "\n",
    "plt.subplot(1,2,2)  # доля правильных классификаций\n",
    "plt.plot(epochs[1:], train_history.history[\"accuracy\"][1:], \"-og\", label=\"train\")\n",
    "plt.plot(epochs[1:], train_history.history[\"val_accuracy\"][1:], \"-o\", color=\"orange\", label=\"val\")\n",
    "plt.xlabel(\"epochs\")\n",
    "plt.ylabel(\"accuracy\")\n",
    "plt.grid(True)\n",
    "plt.legend()\n",
    "\n",
    "plt.show()"
   ]
  },
  {
   "cell_type": "code",
   "execution_count": null,
   "metadata": {},
   "outputs": [],
   "source": [
    "# Выбираем 25 эпох и заново обучаем сеть на всём обучающем множестве\n",
    "best_num_epochs = 25\n",
    "\n",
    "# Преобразование целевых значений в бинарный вектор (one-hot encoding)\n",
    "Y_train = to_categorical(y_train)\n",
    "Y_test = to_categorical(y_test)\n",
    "\n",
    "# Построение модели\n",
    "model = build_model()\n",
    "\n",
    "# Обучение\n",
    "train_history = model.fit(X_train, Y_train,\n",
    "                          epochs=best_num_epochs, \n",
    "                          batch_size=4,\n",
    "                          verbose=0)\n",
    "\n",
    "# Оценка качества модели\n",
    "_, train_error = model.evaluate(X_train, Y_train)\n",
    "_, test_error = model.evaluate(X_test, Y_test)\n",
    "\n",
    "print(\"Train Accuracy:\\t\", train_error)\n",
    "print(\"Test Accuracy:\\t\", test_error)\n",
    "\n",
    "# Веса и смещения\n",
    "weights = model.get_weights()\n",
    "print(\"\\nShape of weights and biases:\")\n",
    "print(\"\\tWeights of layer 1:\\t\", weights[0].shape)\n",
    "print(\"\\tBaises of layer 1:\\t\", weights[1].shape)\n",
    "print(\"\\tWeights of layer 2:\\t\", weights[2].shape)\n",
    "print(\"\\tBaises of layer 2:\\t\", weights[3].shape)"
   ]
  },
  {
   "cell_type": "code",
   "execution_count": null,
   "metadata": {},
   "outputs": [],
   "source": [
    "IMAGE_INDX = 20\n",
    "sample_image_input = digits[\"images\"][IMAGE_INDX].reshape(1, -1)\n",
    "\n",
    "# Предсказание и отображение цифры\n",
    "print(\"Target value:\", digits.target[IMAGE_INDX])\n",
    "print(\"Probabilities:\", model.predict(sample_image_input))\n",
    "print(\"Predicted value:\", model.predict(sample_image_input).argmax())\n",
    "plt.imshow(digits.images[IMAGE_INDX])\n",
    "plt.show()"
   ]
  },
  {
   "cell_type": "markdown",
   "metadata": {},
   "source": [
    "### Выбор гиперпараметров с `GridSearchCV`"
   ]
  },
  {
   "cell_type": "code",
   "execution_count": null,
   "metadata": {},
   "outputs": [],
   "source": [
    "from tensorflow.keras.wrappers.scikit_learn import KerasClassifier"
   ]
  },
  {
   "cell_type": "code",
   "execution_count": null,
   "metadata": {},
   "outputs": [],
   "source": [
    "# Преобразование keras модели в модель sklearn\n",
    "# Замечание: установите verbose=1, чтобы выводить информацию по обучению и предсказанию\n",
    "model = KerasClassifier(build_fn=build_model, verbose=0)"
   ]
  },
  {
   "cell_type": "code",
   "execution_count": null,
   "metadata": {},
   "outputs": [],
   "source": [
    "# Выбор параметров с отложенной выборкой\n",
    "# Замечение: можно использовать и кросс-валидацию\n",
    "splitter = ShuffleSplit(n_splits=1, test_size=0.2, random_state=RANDOM_STATE)"
   ]
  },
  {
   "cell_type": "code",
   "execution_count": null,
   "metadata": {},
   "outputs": [],
   "source": [
    "# Сетка параметров\n",
    "param_grid = {\n",
    "    \"epochs\": [25,],\n",
    "    \"batch_size\": [4,],\n",
    "    \"hidden_neurons\": [64, 96, 128, 256, 512],\n",
    "}\n",
    "\n",
    "# Параметры обучения\n",
    "grid_search_args = {\n",
    "    \"estimator\": model,\n",
    "    \"param_grid\": param_grid,\n",
    "    \"cv\": splitter,\n",
    "    \"scoring\": \"neg_log_loss\",\n",
    "    \"return_train_score\": False\n",
    "}\n",
    "\n",
    "# Выбор параметров\n",
    "grid_search = GridSearchCV(**grid_search_args)\n",
    "grid_search.fit(X_train, Y_train)\n",
    "\n",
    "# Параметры лучшей модели\n",
    "print(\"Parameters of the best model:\")\n",
    "for param, value in grid_search.best_params_.items():\n",
    "    print(\"\\t{} = {}\".format(param, value))\n",
    "\n",
    "# Лучшая модель\n",
    "best_model = grid_search.best_estimator_\n",
    "\n",
    "# Оценка качества распознавания (доля правильных классификаций)\n",
    "# Замечания: для обучения использовалась neg_log_loss, поэтому, чтобы получить \n",
    "#  accuracy, извлекаем модель, для которой ранее указали accuracy в качестве метрики.\n",
    "train_error = best_model.score(X_train, y_train)\n",
    "test_error = best_model.score(X_test, y_test)\n",
    "print(\"\\nTrain Accuracy:\", train_error)\n",
    "print(\"Test Accuracy:\", test_error)"
   ]
  },
  {
   "cell_type": "code",
   "execution_count": null,
   "metadata": {},
   "outputs": [],
   "source": [
    "IMAGE_INDX = 20\n",
    "sample_image_input = digits[\"images\"][IMAGE_INDX].reshape(1, -1)\n",
    "\n",
    "# Предсказание и отображение цифры\n",
    "print(\"Target value:\", digits.target[IMAGE_INDX])\n",
    "print(\"Probabilities:\", grid_search.predict_proba(sample_image_input))\n",
    "print(\"Predicted value:\", grid_search.predict(sample_image_input))\n",
    "plt.imshow(digits.images[IMAGE_INDX])\n",
    "plt.show()"
   ]
  },
  {
   "cell_type": "code",
   "execution_count": null,
   "metadata": {},
   "outputs": [],
   "source": [
    "# TODO: seed + tuning lib"
   ]
  },
  {
   "cell_type": "markdown",
   "metadata": {},
   "source": [
    "### Сверточная нейронная сеть  в `Keras`"
   ]
  },
  {
   "cell_type": "code",
   "execution_count": null,
   "metadata": {},
   "outputs": [],
   "source": [
    "def build_model():\n",
    "    \"\"\"Построение нейронной сети.\"\"\"\n",
    "    model = models.Sequential(name=\"ConvNet\")\n",
    "    model.add(layers.Conv2D(16, (3, 3), activation=\"relu\", padding=\"same\", input_shape=(8, 8, 1), name=\"layer_1\"))\n",
    "    model.add(layers.MaxPooling2D((2, 2), name=\"transform_1\"))\n",
    "    model.add(layers.Conv2D(32, (3, 3), activation=\"relu\", padding=\"same\", name=\"layer_2\"))\n",
    "    model.add(layers.Flatten(name=\"transform_2\"))\n",
    "    model.add(layers.Dense(32, activation=\"relu\", name=\"layer_3\"))\n",
    "    model.add(layers.Dense(10, activation=\"softmax\", name=\"layer_4\"))\n",
    "    model.compile(optimizer=\"adam\",\n",
    "              loss=\"categorical_crossentropy\",\n",
    "              metrics=[\"accuracy\"])\n",
    "    return model"
   ]
  },
  {
   "cell_type": "code",
   "execution_count": null,
   "metadata": {},
   "outputs": [],
   "source": [
    "# Преобразование данных\n",
    "X_train_8x8_ = X_train_.reshape((-1, 8, 8, 1))\n",
    "X_val_8x8 = X_val.reshape((-1, 8, 8, 1))"
   ]
  },
  {
   "cell_type": "code",
   "execution_count": null,
   "metadata": {},
   "outputs": [],
   "source": [
    "# Максимальное количество эпох\n",
    "MAX_EPOCHS = 40\n",
    "\n",
    "# Преобразование целевых значений в бинарный вектор (one-hot encoding)\n",
    "Y_train_ = to_categorical(y_train_)\n",
    "Y_val = to_categorical(y_val)    \n",
    "\n",
    "# Построение модели\n",
    "model = build_model()\n",
    "\n",
    "# Описание модели\n",
    "model.summary()\n",
    "\n",
    "# Обучение\n",
    "train_history = model.fit(X_train_8x8_, Y_train_, \n",
    "                          epochs=MAX_EPOCHS, \n",
    "                          batch_size=4,\n",
    "                          validation_data=(X_val_8x8, Y_val),\n",
    "                          verbose=0)"
   ]
  },
  {
   "cell_type": "code",
   "execution_count": null,
   "metadata": {},
   "outputs": [],
   "source": [
    "# Построение графиков ошибок обучения\n",
    "plt.figure(figsize=[14, 4])\n",
    "\n",
    "epochs = np.arange(1, len(train_history.history[\"loss\"])+1)\n",
    "\n",
    "plt.subplot(1,2,1)  # кросс-энтропия\n",
    "plt.plot(epochs[1:], train_history.history[\"loss\"][1:], \"-og\", label=\"train\")\n",
    "plt.plot(epochs[1:], train_history.history[\"val_loss\"][1:], \"-o\", color=\"orange\", label=\"val\")\n",
    "plt.xlabel(\"epochs\")\n",
    "plt.ylabel(\"loss\")\n",
    "plt.grid(True)\n",
    "plt.legend()\n",
    "\n",
    "plt.subplot(1,2,2)  # доля правильных классификаций\n",
    "plt.plot(epochs[1:], train_history.history[\"accuracy\"][1:], \"-og\", label=\"train\")\n",
    "plt.plot(epochs[1:], train_history.history[\"val_accuracy\"][1:], \"-o\", color=\"orange\", label=\"val\")\n",
    "plt.xlabel(\"epochs\")\n",
    "plt.ylabel(\"accuracy\")\n",
    "plt.grid(True)\n",
    "plt.legend()\n",
    "\n",
    "plt.show()"
   ]
  },
  {
   "cell_type": "code",
   "execution_count": null,
   "metadata": {},
   "outputs": [],
   "source": [
    "# Выбираем 25 эпох и заново обучаем сеть на всём обучающем множестве\n",
    "best_num_epochs = 25\n",
    "\n",
    "# Преобразование целевых значений в бинарный вектор (one-hot encoding)\n",
    "Y_train = to_categorical(y_train)\n",
    "Y_test = to_categorical(y_test)\n",
    "\n",
    "# Построение модели\n",
    "model = build_model()\n",
    "\n",
    "# Преобразование данных\n",
    "X_train_8x8 = X_train.reshape((-1, 8, 8, 1))\n",
    "X_test_8x8 = X_test.reshape((-1, 8, 8, 1))\n",
    "\n",
    "# Обучение\n",
    "train_history = model.fit(X_train_8x8, Y_train,\n",
    "                          epochs=best_num_epochs, \n",
    "                          batch_size=4,\n",
    "                          verbose=0)\n",
    "\n",
    "# Оценка качества модели\n",
    "_, train_error = model.evaluate(X_train_8x8, Y_train)\n",
    "_, test_error = model.evaluate(X_test_8x8, Y_test)\n",
    "\n",
    "print(\"Train Accuracy:\\t\", train_error)\n",
    "print(\"Test Accuracy:\\t\", test_error)\n",
    "\n",
    "# Веса и смещения\n",
    "weights = model.get_weights()\n",
    "print(\"\\nShape of weights and biases:\")\n",
    "for i in range(0, len(weights)//2):\n",
    "    print(\"\\tLayer {}: {} + {} = {}\".format(\n",
    "        i+1, weights[2*i].shape, weights[2*i+1].shape, \n",
    "        weights[2*i].size + weights[2*i+1].size))"
   ]
  },
  {
   "cell_type": "code",
   "execution_count": null,
   "metadata": {},
   "outputs": [],
   "source": [
    "# layer_1_weights = model.get_layer(\"layer_1\").get_weights()\n",
    "# layer_1_weights[0].shape, layer_1_weights[1].shape"
   ]
  },
  {
   "cell_type": "markdown",
   "metadata": {},
   "source": [
    "## Регрессия"
   ]
  },
  {
   "cell_type": "code",
   "execution_count": null,
   "metadata": {},
   "outputs": [],
   "source": [
    "from sklearn.metrics import mean_absolute_error\n",
    "from sklearn.preprocessing import StandardScaler"
   ]
  },
  {
   "cell_type": "markdown",
   "metadata": {},
   "source": [
    "### Набор данных"
   ]
  },
  {
   "cell_type": "code",
   "execution_count": null,
   "metadata": {},
   "outputs": [],
   "source": [
    "# Загрузка исходных данных\n",
    "housing = datasets.fetch_california_housing()\n",
    "\n",
    "print(housing[\"DESCR\"])\n",
    "\n",
    "X = housing.data[:,:]\n",
    "y = housing.target\n",
    "\n",
    "print(\"Shape of X:\", X.shape)\n",
    "print(\"Shape of y:\", y.shape)\n",
    "print(\"Min X:\\t\", X.min(axis=0))\n",
    "print(\"Max X:\\t\", X.max(axis=0))\n",
    "print(\"Mean X:\\t\", X.mean(axis=0))\n",
    "print(\"Std X:\\t\", X.std(axis=0))"
   ]
  },
  {
   "cell_type": "code",
   "execution_count": null,
   "metadata": {},
   "outputs": [],
   "source": [
    "# Разделение данных на обучающее и тестовое множества\n",
    "X_train, X_test, y_train, y_test = train_test_split(X.astype(\"float32\"), y, \n",
    "                                                    test_size=0.3, \n",
    "                                                    random_state=RANDOM_STATE)"
   ]
  },
  {
   "cell_type": "code",
   "execution_count": null,
   "metadata": {},
   "outputs": [],
   "source": [
    "# Нормализация признаков\n",
    "scaler = StandardScaler(copy=False)\n",
    "X_train = scaler.fit_transform(X_train)\n",
    "X_test = scaler.transform(X_test)\n",
    "\n",
    "print(\"Min X:\\t\", X_train.min(axis=0))\n",
    "print(\"Max X:\\t\", X_train.max(axis=0))\n",
    "print(\"Mean X:\\t\", X_train.mean(axis=0))\n",
    "print(\"Std X:\\t\", X_train.std(axis=0))"
   ]
  },
  {
   "cell_type": "markdown",
   "metadata": {},
   "source": [
    "### Базовая отметка"
   ]
  },
  {
   "cell_type": "code",
   "execution_count": null,
   "metadata": {},
   "outputs": [],
   "source": [
    "def plot_prediction_vs_true(y_true, y_pred):\n",
    "    plt.scatter(y_pred, y_true, color=\"slategrey\")\n",
    "    xlim = plt.gca().get_xlim() \n",
    "    plt.plot(xlim, xlim, '--', color=\"grey\")\n",
    "    plt.xlim(xlim) \n",
    "    plt.xlabel(\"$\\\\bar{y}$\")\n",
    "    plt.ylabel(\"$y$\")\n",
    "    plt.grid(True)\n",
    "    plt.show()"
   ]
  },
  {
   "cell_type": "code",
   "execution_count": null,
   "metadata": {},
   "outputs": [],
   "source": [
    "# Среднее значение\n",
    "y_pred__test = np.full(y_test.size, y_train.mean())\n",
    "mae_mean = mean_absolute_error(y_test, y_pred__test)\n",
    "print(\"MAE =\", mae_mean)"
   ]
  },
  {
   "cell_type": "code",
   "execution_count": null,
   "metadata": {},
   "outputs": [],
   "source": [
    "plot_prediction_vs_true(y_test, y_pred__test)"
   ]
  },
  {
   "cell_type": "markdown",
   "metadata": {},
   "source": [
    "### Линейная регрессия"
   ]
  },
  {
   "cell_type": "code",
   "execution_count": null,
   "metadata": {},
   "outputs": [],
   "source": [
    "model = LinearRegression()\n",
    "model.fit(X_train, y_train)\n",
    "mae_linear = mean_absolute_error(y_test, model.predict(X_test))\n",
    "print(\"MAE =\", mae_linear)"
   ]
  },
  {
   "cell_type": "code",
   "execution_count": null,
   "metadata": {},
   "outputs": [],
   "source": [
    "plot_prediction_vs_true(y_test, model.predict(X_test))"
   ]
  },
  {
   "cell_type": "markdown",
   "metadata": {},
   "source": [
    "### Полносвязная нейронная сеть"
   ]
  },
  {
   "cell_type": "code",
   "execution_count": null,
   "metadata": {},
   "outputs": [],
   "source": [
    "def build_model():\n",
    "    \"\"\"Построение нейронной сети.\"\"\"\n",
    "    \n",
    "    # Топология\n",
    "    model = models.Sequential()\n",
    "    model.add(layers.Dense(64, activation=\"relu\", input_shape=(8,)))\n",
    "    model.add(layers.Dense(64, activation=\"relu\"))\n",
    "    model.add(layers.Dense(1))\n",
    "    \n",
    "    # Параметры обучения\n",
    "    model.compile(optimizer=\"adam\",\n",
    "                  loss=\"mse\",\n",
    "                  metrics=[\"mae\"])\n",
    "    return model"
   ]
  },
  {
   "cell_type": "code",
   "execution_count": null,
   "metadata": {},
   "outputs": [],
   "source": [
    "# Формирование проверочного множества из исходного обучающего\n",
    "X_train_, X_val, y_train_, y_val = train_test_split(X_train, y_train, test_size=0.3, random_state=RANDOM_STATE)"
   ]
  },
  {
   "cell_type": "code",
   "execution_count": null,
   "metadata": {
    "scrolled": true
   },
   "outputs": [],
   "source": [
    "# Максимальное количество эпох\n",
    "MAX_EPOCHS = 200\n",
    "\n",
    "# Построение модели\n",
    "model = build_model()\n",
    "\n",
    "# Описание модели\n",
    "model.summary()\n",
    "\n",
    "# Обучение\n",
    "train_history = model.fit(X_train_, y_train_, \n",
    "                          epochs=MAX_EPOCHS, \n",
    "                          batch_size=16,\n",
    "                          validation_data=(X_val, y_val),\n",
    "                          verbose=1)  # 1 для отображения хода обучения"
   ]
  },
  {
   "cell_type": "code",
   "execution_count": null,
   "metadata": {},
   "outputs": [],
   "source": [
    "# Построение графиков ошибок обучения\n",
    "plt.figure(figsize=[14, 4])\n",
    "\n",
    "epochs = np.arange(1, len(train_history.history[\"loss\"])+1)\n",
    "\n",
    "# Замечание: начинаем вывод со второй эпохи\n",
    "\n",
    "plt.subplot(1,2,1)  # mse\n",
    "plt.plot(epochs[1:], train_history.history[\"loss\"][1:], \"-og\", label=\"train\")\n",
    "plt.plot(epochs[1:], train_history.history[\"val_loss\"][1:], \"-o\", color=\"orange\", label=\"val\")\n",
    "plt.xlabel(\"epochs\")\n",
    "plt.ylabel(\"loss\")\n",
    "plt.grid(True)\n",
    "plt.legend()\n",
    "\n",
    "plt.subplot(1,2,2)  # mae\n",
    "plt.plot(epochs[1:], train_history.history[\"mae\"][1:], \"-og\", label=\"train\")\n",
    "plt.plot(epochs[1:], train_history.history[\"val_mae\"][1:], \"-o\", color=\"orange\", label=\"val\")\n",
    "plt.xlabel(\"epochs\")\n",
    "plt.ylabel(\"mae\")\n",
    "plt.grid(True)\n",
    "plt.legend()\n",
    "\n",
    "plt.show()"
   ]
  },
  {
   "cell_type": "code",
   "execution_count": null,
   "metadata": {
    "scrolled": true
   },
   "outputs": [],
   "source": [
    "# Выбираем 50 эпох и заново обучаем сеть на всём обучающем множестве\n",
    "best_num_epochs = 50\n",
    "\n",
    "# Построение модели\n",
    "model = build_model()\n",
    "\n",
    "# Обучение\n",
    "train_history = model.fit(X_train, y_train,\n",
    "                          epochs=best_num_epochs, \n",
    "                          batch_size=16,\n",
    "                          verbose=1)\n",
    "\n",
    "# Оценка качества модели\n",
    "_, train_error = model.evaluate(X_train, y_train)\n",
    "_, test_error = model.evaluate(X_test, y_test)\n",
    "\n",
    "print(\"Train MAE:\\t\", train_error)\n",
    "print(\"Test MAE:\\t\", test_error)\n",
    "\n",
    "# Веса и смещения\n",
    "weights = model.get_weights()\n",
    "print(\"\\nShape of weights and biases:\")\n",
    "for i in range(0, len(weights)//2):\n",
    "    print(\"\\tLayer {}: {} + {} = {}\".format(\n",
    "        i+1, weights[2*i].shape, weights[2*i+1].shape, \n",
    "        weights[2*i].size + weights[2*i+1].size))"
   ]
  },
  {
   "cell_type": "code",
   "execution_count": null,
   "metadata": {},
   "outputs": [],
   "source": [
    "plot_prediction_vs_true(y_test, model.predict(X_test))"
   ]
  },
  {
   "cell_type": "code",
   "execution_count": null,
   "metadata": {},
   "outputs": [],
   "source": []
  }
 ],
 "metadata": {
  "kernelspec": {
   "display_name": "Python 3",
   "language": "python",
   "name": "python3"
  },
  "language_info": {
   "codemirror_mode": {
    "name": "ipython",
    "version": 3
   },
   "file_extension": ".py",
   "mimetype": "text/x-python",
   "name": "python",
   "nbconvert_exporter": "python",
   "pygments_lexer": "ipython3",
   "version": "3.7.3"
  }
 },
 "nbformat": 4,
 "nbformat_minor": 2
}
