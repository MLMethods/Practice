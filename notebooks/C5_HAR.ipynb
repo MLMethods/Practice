{
 "cells": [
  {
   "cell_type": "markdown",
   "metadata": {},
   "source": [
    "# Распознавание активности (Human Activity Recognition - HAR)\n",
    "\n",
    "С.Ю. Папулин (papulin.study@yandex.ru)"
   ]
  },
  {
   "cell_type": "markdown",
   "metadata": {},
   "source": [
    "### Содержание\n",
    "\n",
    "- [Анализ исходных данных]()\n",
    "- [Построение модели распознавания активности]()\n",
    "- [Выбор модели]()"
   ]
  },
  {
   "cell_type": "markdown",
   "metadata": {},
   "source": [
    "Подключение модулей"
   ]
  },
  {
   "cell_type": "code",
   "execution_count": null,
   "metadata": {},
   "outputs": [],
   "source": [
    "import pandas as pd\n",
    "import numpy as np\n",
    "\n",
    "import matplotlib.pyplot as plt\n",
    "%matplotlib inline"
   ]
  },
  {
   "cell_type": "code",
   "execution_count": null,
   "metadata": {},
   "outputs": [],
   "source": [
    "RANDOM_STATE = 1234"
   ]
  },
  {
   "cell_type": "markdown",
   "metadata": {},
   "source": [
    "## Анализ исходных данных"
   ]
  },
  {
   "cell_type": "markdown",
   "metadata": {},
   "source": [
    "Описание: [Human Activity Recognition Using Smartphones Data Set](https://archive.ics.uci.edu/ml/datasets/Human+Activity+Recognition+Using+Smartphones)\n",
    "\n",
    "Ссылка: [UCI HAR Dataset.zip](https://archive.ics.uci.edu/ml/machine-learning-databases/00240/UCI%20HAR%20Dataset.zip)"
   ]
  },
  {
   "cell_type": "markdown",
   "metadata": {},
   "source": [
    "Загрузка исходных данных"
   ]
  },
  {
   "cell_type": "code",
   "execution_count": null,
   "metadata": {},
   "outputs": [],
   "source": [
    "YOUR_PATH = \"/YOUR_PATH/UCI HAR Dataset\""
   ]
  },
  {
   "cell_type": "code",
   "execution_count": null,
   "metadata": {},
   "outputs": [],
   "source": [
    "# Наименования активностей\n",
    "LABEL_NAMES_FILE = f\"{YOUR_PATH}/activity_labels.txt\"\n",
    "\n",
    "# Наименование столбцов признаков\n",
    "FEATURE_NAMES_FILE = f\"{YOUR_PATH}/features.txt\"\n",
    "\n",
    "# Идентификаторы испытуемых\n",
    "X_TRAIN_SUBJECT_FILE = f\"{YOUR_PATH}/train/subject_train.txt\"\n",
    "\n",
    "\n",
    "# Признаки (временные, частотные) и целевых значения (активности)\n",
    "\n",
    "# Обучающая часть\n",
    "X_TRAIN_FILE = f\"{YOUR_PATH}/train/X_train.txt\"\n",
    "Y_TRAIN_FILE = f\"{YOUR_PATH}/train/y_train.txt\"\n",
    "\n",
    "# Тестовая часть\n",
    "X_TEST_FILE = f\"{YOUR_PATH}/test/X_test.txt\"\n",
    "Y_TEST_FILE = f\"{YOUR_PATH}/test/y_test.txt\""
   ]
  },
  {
   "cell_type": "code",
   "execution_count": null,
   "metadata": {},
   "outputs": [],
   "source": [
    "# Загрузка наименований активностей\n",
    "LABEL_NAMES = list()\n",
    "with open(LABEL_NAMES_FILE, \"r\") as fin:\n",
    "    for line in fin:\n",
    "        LABEL_NAMES.append(line.split()[1])\n",
    "LABEL_NAMES"
   ]
  },
  {
   "cell_type": "code",
   "execution_count": null,
   "metadata": {},
   "outputs": [],
   "source": [
    "# Загрузка наименований столбцов\n",
    "CLMS = list()\n",
    "with open(FEATURE_NAMES_FILE, \"r\") as fin:\n",
    "    for line in fin:\n",
    "        CLMS.append(line.split()[1])\n",
    "len(CLMS)"
   ]
  },
  {
   "cell_type": "code",
   "execution_count": null,
   "metadata": {},
   "outputs": [],
   "source": [
    "CLMS = [str(indx+1) +\".\" + el for indx, el in enumerate(CLMS)]"
   ]
  },
  {
   "cell_type": "code",
   "execution_count": null,
   "metadata": {},
   "outputs": [],
   "source": [
    "# Вывод нескольких наименований\n",
    "CLMS[:5]"
   ]
  },
  {
   "cell_type": "code",
   "execution_count": null,
   "metadata": {},
   "outputs": [],
   "source": [
    "# Загрузка идентификаторов испытуемых\n",
    "df_subjects = pd.read_csv(X_TRAIN_SUBJECT_FILE, header=None, sep=\"\\s+\", names=[\"subject\"])\n",
    "df_subjects.head()"
   ]
  },
  {
   "cell_type": "code",
   "execution_count": null,
   "metadata": {},
   "outputs": [],
   "source": [
    "# Загрузка признаков\n",
    "df_features = pd.read_csv(X_TRAIN_FILE, header=None, sep=\"\\s+\", names=CLMS)\n",
    "df_features.head()"
   ]
  },
  {
   "cell_type": "code",
   "execution_count": null,
   "metadata": {},
   "outputs": [],
   "source": [
    "# Загрузка целевых значений\n",
    "df_labels = pd.read_csv(Y_TRAIN_FILE, header=None, names=[\"activity\"])\n",
    "df_labels.head(5)"
   ]
  },
  {
   "cell_type": "code",
   "execution_count": null,
   "metadata": {},
   "outputs": [],
   "source": [
    "# Формирование одного датафрейма\n",
    "df = pd.concat([df_subjects, df_features, df_labels], axis=1)\n",
    "df.head()"
   ]
  },
  {
   "cell_type": "markdown",
   "metadata": {},
   "source": [
    "Отображение количества различных активностей"
   ]
  },
  {
   "cell_type": "code",
   "execution_count": null,
   "metadata": {},
   "outputs": [],
   "source": [
    "fig, ax = plt.subplots(1, 1)\n",
    "\n",
    "fig.set_figheight(4)\n",
    "fig.set_figwidth(6)\n",
    "\n",
    "\n",
    "ax = df.groupby(\"activity\").size().plot.bar(ax=ax)\n",
    "ax.set_xticklabels(LABEL_NAMES, rotation=60)\n",
    "ax.set_ylabel(\"window count\")\n",
    "ax.grid(True)"
   ]
  },
  {
   "cell_type": "markdown",
   "metadata": {},
   "source": [
    "Распредление активностей 5го испытуемого"
   ]
  },
  {
   "cell_type": "code",
   "execution_count": null,
   "metadata": {},
   "outputs": [],
   "source": [
    "SUBJECT_ID = 5"
   ]
  },
  {
   "cell_type": "code",
   "execution_count": null,
   "metadata": {},
   "outputs": [],
   "source": [
    "fig, ax = plt.subplots(1, 1)\n",
    "\n",
    "fig.set_figheight(4)\n",
    "fig.set_figwidth(6)\n",
    "\n",
    "ax = df[df[\"subject\"]==SUBJECT_ID]\\\n",
    "    .groupby(\"activity\")\\\n",
    "    .size()\\\n",
    "    .plot.bar(ax=ax)\n",
    "ax.set_xticklabels(LABEL_NAMES, rotation=60)\n",
    "ax.set_ylabel(\"window count\")\n",
    "ax.grid(True)"
   ]
  },
  {
   "cell_type": "markdown",
   "metadata": {},
   "source": [
    "Отображение данных от акселерометра по координатам"
   ]
  },
  {
   "cell_type": "code",
   "execution_count": null,
   "metadata": {},
   "outputs": [],
   "source": [
    "ACC_CLMS = [\"1.tBodyAcc-mean()-X\", \"2.tBodyAcc-mean()-Y\", \"3.tBodyAcc-mean()-Z\", \"activity\"]\n",
    "\n",
    "df_acc = df.loc[\n",
    "    df[\"subject\"]==SUBJECT_ID,\n",
    "    ACC_CLMS\n",
    "]\n",
    "\n",
    "df_acc.index = range(len(df_acc))\n",
    "df_acc.head()"
   ]
  },
  {
   "cell_type": "code",
   "execution_count": null,
   "metadata": {},
   "outputs": [],
   "source": [
    "fig, axes = plt.subplots(3, 1)\n",
    "\n",
    "fig.set_figheight(12)\n",
    "fig.set_figwidth(12)\n",
    "\n",
    "for indx, ax in enumerate(axes):\n",
    "\n",
    "    df_acc[ACC_CLMS[indx]].plot(ax=ax, color=\"grey\")\n",
    "\n",
    "    ax.set_title(\"Subject {}: {}\".format(SUBJECT_ID, ACC_CLMS[indx]))\n",
    "    ax.set_xlabel(\"window index\")\n",
    "    ax.set_ylabel(\"acc\")\n",
    "\n",
    "    for i in range(1, len(LABEL_NAMES)+1):\n",
    "        df_acc[df_acc[\"activity\"]==i][ACC_CLMS[indx]].plot(\n",
    "            marker=\"o\", linestyle=\"\", ax=ax, \n",
    "            label=LABEL_NAMES[i-1]\n",
    "        )\n",
    "\n",
    "    ax.grid(True)\n",
    "    ax.legend()\n",
    "\n",
    "plt.tight_layout()\n",
    "plt.show()"
   ]
  },
  {
   "cell_type": "markdown",
   "metadata": {},
   "source": [
    "## Построение модели распознавания активности"
   ]
  },
  {
   "cell_type": "code",
   "execution_count": null,
   "metadata": {},
   "outputs": [],
   "source": [
    "from sklearn.linear_model import LogisticRegression\n",
    "from sklearn.metrics import classification_report"
   ]
  },
  {
   "cell_type": "code",
   "execution_count": null,
   "metadata": {},
   "outputs": [],
   "source": [
    "import sys\n",
    "sys.path.insert(0, \"../lib/\")\n",
    "from plot_confusion_matrix import plot_confusion_matrix"
   ]
  },
  {
   "cell_type": "code",
   "execution_count": null,
   "metadata": {},
   "outputs": [],
   "source": [
    "from sklearn.utils import shuffle"
   ]
  },
  {
   "cell_type": "code",
   "execution_count": null,
   "metadata": {},
   "outputs": [],
   "source": [
    "df_ = shuffle(df, random_state=RANDOM_STATE)\n",
    "df_.head()"
   ]
  },
  {
   "cell_type": "code",
   "execution_count": null,
   "metadata": {},
   "outputs": [],
   "source": [
    "# Построение модели\n",
    "model = LogisticRegression(penalty=\"l2\", \n",
    "                           max_iter=100, \n",
    "                           solver=\"newton-cg\", \n",
    "                           multi_class=\"multinomial\",\n",
    "                           random_state=RANDOM_STATE)\n",
    "\n",
    "# Обучение\n",
    "model.fit(df_[CLMS], df_[\"activity\"])"
   ]
  },
  {
   "cell_type": "markdown",
   "metadata": {},
   "source": [
    "Базовая отметка"
   ]
  },
  {
   "cell_type": "code",
   "execution_count": null,
   "metadata": {},
   "outputs": [],
   "source": [
    "# TODO"
   ]
  },
  {
   "cell_type": "markdown",
   "metadata": {},
   "source": [
    "Проверка на тестовом множестве"
   ]
  },
  {
   "cell_type": "code",
   "execution_count": null,
   "metadata": {},
   "outputs": [],
   "source": [
    "# Загрузка тестового множества\n",
    "df_test_features = pd.read_csv(X_TEST_FILE, header=None, sep=\"\\s+\", names=CLMS)\n",
    "df_test_labels = pd.read_csv(Y_TEST_FILE, header=None, names=[\"activity\"])\n",
    "\n",
    "df_test = pd.concat([df_test_features, df_test_labels], axis=1)\n",
    "df_test.head()"
   ]
  },
  {
   "cell_type": "code",
   "execution_count": null,
   "metadata": {},
   "outputs": [],
   "source": [
    "# Педсказанные значения\n",
    "df_test[\"pred\"] = model.predict(df_test[CLMS])\n",
    "df_test[[\"pred\", \"activity\"]].head()"
   ]
  },
  {
   "cell_type": "code",
   "execution_count": null,
   "metadata": {},
   "outputs": [],
   "source": [
    "# Педсказанные значения\n",
    "df_test[\"pred\"] = model.predict(df_test[CLMS])\n",
    "\n",
    "# Расчет доли правильных классификаций\n",
    "accuracy = model.score(df_test[CLMS], df_test[\"activity\"])\n",
    "print(\"Accuracy = {}\\n\".format(accuracy))\n",
    "\n",
    "# Вывод других метрик\n",
    "print(classification_report(df_test[\"activity\"], \n",
    "                            df_test[\"pred\"], \n",
    "                            target_names=LABEL_NAMES))"
   ]
  },
  {
   "cell_type": "code",
   "execution_count": null,
   "metadata": {},
   "outputs": [],
   "source": [
    "# Вывод матрицы ошибок\n",
    "ax = plot_confusion_matrix(df_test[\"activity\"]-1,\n",
    "                           df_test[\"pred\"]-1,\n",
    "                           classes=np.array(LABEL_NAMES),\n",
    "                           figsize=[8,8])"
   ]
  },
  {
   "cell_type": "markdown",
   "metadata": {},
   "source": [
    "## Выбор модели"
   ]
  },
  {
   "cell_type": "code",
   "execution_count": null,
   "metadata": {},
   "outputs": [],
   "source": [
    "from sklearn.model_selection import StratifiedKFold\n",
    "from sklearn.model_selection import GridSearchCV\n",
    "\n",
    "from sklearn.ensemble import RandomForestClassifier\n",
    "from sklearn.neighbors import KNeighborsClassifier"
   ]
  },
  {
   "cell_type": "code",
   "execution_count": null,
   "metadata": {},
   "outputs": [],
   "source": [
    "kf = StratifiedKFold(n_splits=3)"
   ]
  },
  {
   "cell_type": "code",
   "execution_count": null,
   "metadata": {},
   "outputs": [],
   "source": [
    "models = dict()\n",
    "\n",
    "# k-ближайших соседей\n",
    "models[\"knn\"] = (\n",
    "    KNeighborsClassifier(), {\n",
    "        \"n_neighbors\": [5, 11]\n",
    "    })\n",
    "\n",
    "# Логистическая регрессия\n",
    "models[\"logreg\"] = (\n",
    "    LogisticRegression(\n",
    "        penalty=\"l2\", \n",
    "        solver=\"newton-cg\", \n",
    "        multi_class=\"multinomial\",\n",
    "        random_state=1234), {\n",
    "        \"C\": [0.1, 1]  \n",
    "    })\n",
    "\n",
    "# Случайный лес\n",
    "models[\"rforest\"] = (\n",
    "    RandomForestClassifier(\n",
    "        criterion=\"gini\",\n",
    "        random_state=RANDOM_STATE), {\n",
    "        \"n_estimators\": [50, 100]  \n",
    "    })"
   ]
  },
  {
   "cell_type": "code",
   "execution_count": null,
   "metadata": {},
   "outputs": [],
   "source": [
    "df_result = pd.DataFrame(columns=[\"params\", \"accuracy\"])\n",
    "\n",
    "for name, (model, params) in models.items():\n",
    "    grid = GridSearchCV(estimator=model, \n",
    "                        param_grid=params, \n",
    "                        cv=kf,\n",
    "                        verbose=2)\n",
    "    grid.fit(df_[CLMS], df_[\"activity\"])\n",
    "    df_result.loc[model.__class__.__name__] = (\n",
    "        grid.best_params_,\n",
    "        grid.score(df_test[CLMS], df_test[\"activity\"]))"
   ]
  },
  {
   "cell_type": "code",
   "execution_count": null,
   "metadata": {},
   "outputs": [],
   "source": [
    "# Вывод лучших моделей, их параметров и доли правильных классификаций\n",
    "df_result.head()"
   ]
  },
  {
   "cell_type": "code",
   "execution_count": null,
   "metadata": {},
   "outputs": [],
   "source": []
  }
 ],
 "metadata": {
  "kernelspec": {
   "display_name": "Python 3 (ipykernel)",
   "language": "python",
   "name": "python3"
  },
  "language_info": {
   "codemirror_mode": {
    "name": "ipython",
    "version": 3
   },
   "file_extension": ".py",
   "mimetype": "text/x-python",
   "name": "python",
   "nbconvert_exporter": "python",
   "pygments_lexer": "ipython3",
   "version": "3.11.7"
  }
 },
 "nbformat": 4,
 "nbformat_minor": 4
}
