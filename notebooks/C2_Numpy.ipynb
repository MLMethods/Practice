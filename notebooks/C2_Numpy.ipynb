{
 "cells": [
  {
   "cell_type": "markdown",
   "metadata": {},
   "source": [
    "<div style=\"font-size:18pt; padding-top:20px; text-align:center\">СЕМИНАР. <b>Введение в </b> <span style=\"font-weight:bold; color:green\">NumPy</span></div><hr>\n",
    "<div style=\"text-align:right;\">Папулин С.Ю. <span style=\"font-style: italic;font-weight: bold;\">(papulin.study@yandex.ru)</span></div>"
   ]
  },
  {
   "cell_type": "markdown",
   "metadata": {},
   "source": [
    "<a name=\"0\"></a>\n",
    "<div><span style=\"font-size:14pt; font-weight:bold\">Содержание</span>\n",
    "    <ol>\n",
    "        <li><a href=\"#1\">Базовые операции</a>\n",
    "        </li>\n",
    "        <li><a href=\"#2\">Вектор и NumPy</a>\n",
    "        </li>\n",
    "        <li><a href=\"#3\">Матрица и NumPy</a>\n",
    "        </li>\n",
    "        <li><a href=\"#4\">Источники</a>\n",
    "        </li>\n",
    "    </ol>\n",
    "</div>"
   ]
  },
  {
   "cell_type": "code",
   "execution_count": null,
   "metadata": {},
   "outputs": [],
   "source": [
    "# Подключение модуля numpy\n",
    "import numpy as np"
   ]
  },
  {
   "cell_type": "markdown",
   "metadata": {},
   "source": [
    "<a name=\"1\"></a>\n",
    "<div style=\"display:table; width:100%; padding-top:10px; padding-bottom:10px; border-bottom:1px solid lightgrey\">\n",
    "    <div style=\"display:table-row\">\n",
    "        <div style=\"display:table-cell; width:80%; font-size:16pt; font-weight:bold\">1. Базовые операции</div>\n",
    "    \t<div style=\"display:table-cell; width:20%; text-align:center; background-color:whitesmoke; border:1px solid lightgrey\"><a href=\"#0\">К содержанию</a></div>\n",
    "    </div>\n",
    "</div>"
   ]
  },
  {
   "cell_type": "markdown",
   "metadata": {},
   "source": [
    "### Операции над массивами"
   ]
  },
  {
   "cell_type": "markdown",
   "metadata": {},
   "source": [
    "<p>Обращение к элементам массива</p>"
   ]
  },
  {
   "cell_type": "code",
   "execution_count": null,
   "metadata": {},
   "outputs": [],
   "source": [
    "a = np.array([1, 2, 3, 4, 5]) #, dtype=\"float64\") \n",
    "a"
   ]
  },
  {
   "cell_type": "code",
   "execution_count": null,
   "metadata": {},
   "outputs": [],
   "source": [
    "# Тип элементов массива\n",
    "a.dtype"
   ]
  },
  {
   "cell_type": "code",
   "execution_count": null,
   "metadata": {},
   "outputs": [],
   "source": [
    "b = a.astype(\"float32\")\n",
    "b"
   ]
  },
  {
   "cell_type": "code",
   "execution_count": null,
   "metadata": {},
   "outputs": [],
   "source": [
    "a[0], a[-1]"
   ]
  },
  {
   "cell_type": "markdown",
   "metadata": {},
   "source": [
    "Срезы"
   ]
  },
  {
   "cell_type": "code",
   "execution_count": null,
   "metadata": {},
   "outputs": [],
   "source": [
    "a[2:10]  # нет ошибки"
   ]
  },
  {
   "cell_type": "code",
   "execution_count": null,
   "metadata": {},
   "outputs": [],
   "source": [
    "a[:2:-1]"
   ]
  },
  {
   "cell_type": "markdown",
   "metadata": {},
   "source": [
    "Двумерный массив"
   ]
  },
  {
   "cell_type": "code",
   "execution_count": null,
   "metadata": {},
   "outputs": [],
   "source": [
    "A = np.array([[1,2,3],\n",
    "              [4,5,6]])\n",
    "A"
   ]
  },
  {
   "cell_type": "code",
   "execution_count": null,
   "metadata": {},
   "outputs": [],
   "source": [
    "A[1,2]"
   ]
  },
  {
   "cell_type": "code",
   "execution_count": null,
   "metadata": {},
   "outputs": [],
   "source": [
    "A[1,:]"
   ]
  },
  {
   "cell_type": "code",
   "execution_count": null,
   "metadata": {},
   "outputs": [],
   "source": [
    "A[:,1]"
   ]
  },
  {
   "cell_type": "markdown",
   "metadata": {},
   "source": [
    "<p>Добавление элементов/объединение массивов</p>"
   ]
  },
  {
   "cell_type": "markdown",
   "metadata": {},
   "source": [
    "`append`"
   ]
  },
  {
   "cell_type": "code",
   "execution_count": null,
   "metadata": {},
   "outputs": [],
   "source": [
    "a = np.array([1, 2, 3])\n",
    "b = np.array([4, 5, 6])\n",
    "c = np.append(a, b, axis=0)\n",
    "c"
   ]
  },
  {
   "cell_type": "code",
   "execution_count": null,
   "metadata": {},
   "outputs": [],
   "source": [
    "A = np.array([[1,2,3], \n",
    "              [5,6,7]])\n",
    "B = np.array([[3,4,5]])\n",
    "C1 = np.append(A, B, axis=0)\n",
    "C1"
   ]
  },
  {
   "cell_type": "code",
   "execution_count": null,
   "metadata": {},
   "outputs": [],
   "source": [
    "A = np.array([[1,2,3],\n",
    "              [5,6,7]])\n",
    "B = np.array([[3,4,5],\n",
    "              [11,22,33]])\n",
    "C2 = np.append(A, B, axis=1)\n",
    "C2"
   ]
  },
  {
   "cell_type": "markdown",
   "metadata": {},
   "source": [
    "`insert`"
   ]
  },
  {
   "cell_type": "code",
   "execution_count": null,
   "metadata": {},
   "outputs": [],
   "source": [
    "a = np.array([1, 2, 3])\n",
    "x = np.array([4, 5, 6])\n",
    "b = np.insert(a, 1, x, axis=0)\n",
    "b"
   ]
  },
  {
   "cell_type": "code",
   "execution_count": null,
   "metadata": {},
   "outputs": [],
   "source": [
    "A = np.array([[1,2,3],\n",
    "              [4,5,6]])\n",
    "x = np.array([[10,11], \n",
    "              [12,43]])\n",
    "B = np.insert(A, 1, x, axis=1)\n",
    "B"
   ]
  },
  {
   "cell_type": "code",
   "execution_count": null,
   "metadata": {},
   "outputs": [],
   "source": [
    "A = np.array([[1,2,3],\n",
    "              [4,5,6]])\n",
    "X = np.array([[10,11,12],\n",
    "              [13,14,15]])\n",
    "B = np.insert(A, 1, X, axis=0)\n",
    "B"
   ]
  },
  {
   "cell_type": "markdown",
   "metadata": {},
   "source": [
    "`stack`"
   ]
  },
  {
   "cell_type": "markdown",
   "metadata": {},
   "source": [
    "Строки"
   ]
  },
  {
   "cell_type": "code",
   "execution_count": null,
   "metadata": {},
   "outputs": [],
   "source": [
    "a = np.array([1, 2, 3])\n",
    "b = np.array([4, 5, 6])\n",
    "c = np.array([7, 8, 9])"
   ]
  },
  {
   "cell_type": "code",
   "execution_count": null,
   "metadata": {},
   "outputs": [],
   "source": [
    "np.stack((a, b, c), axis=0)"
   ]
  },
  {
   "cell_type": "code",
   "execution_count": null,
   "metadata": {},
   "outputs": [],
   "source": [
    "np.row_stack((a, b, c))"
   ]
  },
  {
   "cell_type": "code",
   "execution_count": null,
   "metadata": {},
   "outputs": [],
   "source": [
    "np.vstack([a, b, c])"
   ]
  },
  {
   "cell_type": "code",
   "execution_count": null,
   "metadata": {},
   "outputs": [],
   "source": [
    "A = np.array([[1, 2, 3], [1, 2, 3]])\n",
    "B = np.array([[4, 5, 6]])\n",
    "C = np.array([[7, 8, 9]])"
   ]
  },
  {
   "cell_type": "code",
   "execution_count": null,
   "metadata": {},
   "outputs": [],
   "source": [
    "# если размерность не совпадает\n",
    "try:\n",
    "    print(np.stack([A, B, C], axis=0))\n",
    "except Exception as e:\n",
    "    print(e)"
   ]
  },
  {
   "cell_type": "code",
   "execution_count": null,
   "metadata": {},
   "outputs": [],
   "source": [
    "np.row_stack([A, B, C])"
   ]
  },
  {
   "cell_type": "code",
   "execution_count": null,
   "metadata": {},
   "outputs": [],
   "source": [
    "np.vstack([A, B, C])"
   ]
  },
  {
   "cell_type": "markdown",
   "metadata": {},
   "source": [
    "Столбцы"
   ]
  },
  {
   "cell_type": "code",
   "execution_count": null,
   "metadata": {},
   "outputs": [],
   "source": [
    "A = np.array([[1, 2, 3]])\n",
    "B = np.array([[4, 5, 6]])\n",
    "C = np.array([[7, 8, 9]])"
   ]
  },
  {
   "cell_type": "code",
   "execution_count": null,
   "metadata": {},
   "outputs": [],
   "source": [
    "np.stack((a, b, c), axis=1)"
   ]
  },
  {
   "cell_type": "code",
   "execution_count": null,
   "metadata": {},
   "outputs": [],
   "source": [
    "np.column_stack((a, b, c))"
   ]
  },
  {
   "cell_type": "code",
   "execution_count": null,
   "metadata": {},
   "outputs": [],
   "source": [
    "# concatenate\n",
    "np.c_[a, b, c]"
   ]
  },
  {
   "cell_type": "code",
   "execution_count": null,
   "metadata": {},
   "outputs": [],
   "source": [
    "# Но\n",
    "np.hstack([a, b, c])"
   ]
  },
  {
   "cell_type": "code",
   "execution_count": null,
   "metadata": {},
   "outputs": [],
   "source": [
    "A = np.array([[1, 2, 3], [1, 2, 3]])\n",
    "B = np.array([[4, 5, 6], [4, 5, 6]])\n",
    "C = np.array([[7, 8, 9], [7, 8, 9]])"
   ]
  },
  {
   "cell_type": "code",
   "execution_count": null,
   "metadata": {},
   "outputs": [],
   "source": [
    "np.stack([A, B, C], axis=1)"
   ]
  },
  {
   "cell_type": "code",
   "execution_count": null,
   "metadata": {},
   "outputs": [],
   "source": [
    "np.column_stack([A, B, C])"
   ]
  },
  {
   "cell_type": "code",
   "execution_count": null,
   "metadata": {},
   "outputs": [],
   "source": [
    "np.hstack([A, B, C])"
   ]
  },
  {
   "cell_type": "code",
   "execution_count": null,
   "metadata": {},
   "outputs": [],
   "source": [
    "np.c_[A, B, C]"
   ]
  },
  {
   "cell_type": "markdown",
   "metadata": {},
   "source": [
    "`concatenate`"
   ]
  },
  {
   "cell_type": "markdown",
   "metadata": {},
   "source": [
    "По строкам"
   ]
  },
  {
   "cell_type": "code",
   "execution_count": null,
   "metadata": {},
   "outputs": [],
   "source": [
    "A = np.array([[1, 2, 3], [1, 2, 3]])\n",
    "B = np.array([[4, 5, 6]])\n",
    "C = np.array([[7, 8, 9]])"
   ]
  },
  {
   "cell_type": "code",
   "execution_count": null,
   "metadata": {},
   "outputs": [],
   "source": [
    "np.concatenate([A, B, C], axis=0)"
   ]
  },
  {
   "cell_type": "code",
   "execution_count": null,
   "metadata": {},
   "outputs": [],
   "source": [
    "np.r_[A, B, C]"
   ]
  },
  {
   "cell_type": "code",
   "execution_count": null,
   "metadata": {},
   "outputs": [],
   "source": [
    "np.vstack([A, B, C])"
   ]
  },
  {
   "cell_type": "markdown",
   "metadata": {},
   "source": [
    "По столбцам"
   ]
  },
  {
   "cell_type": "code",
   "execution_count": null,
   "metadata": {},
   "outputs": [],
   "source": [
    "A = np.array([[1, 2, 3], [1, 2, 3]])\n",
    "B = np.array([[4, 5, 6], [4, 5, 6]])\n",
    "C = np.array([[7, 8, 9], [7, 8, 9]])"
   ]
  },
  {
   "cell_type": "code",
   "execution_count": null,
   "metadata": {},
   "outputs": [],
   "source": [
    "np.concatenate([A, B, C], axis=1)"
   ]
  },
  {
   "cell_type": "code",
   "execution_count": null,
   "metadata": {},
   "outputs": [],
   "source": [
    "np.c_[A, B, C]"
   ]
  },
  {
   "cell_type": "code",
   "execution_count": null,
   "metadata": {},
   "outputs": [],
   "source": [
    "np.hstack([A, B, C])"
   ]
  },
  {
   "cell_type": "markdown",
   "metadata": {},
   "source": [
    "`split`"
   ]
  },
  {
   "cell_type": "code",
   "execution_count": null,
   "metadata": {},
   "outputs": [],
   "source": [
    "a = np.array([1, 2, 3, 4, 5, 6, 7, 8, 9])"
   ]
  },
  {
   "cell_type": "code",
   "execution_count": null,
   "metadata": {},
   "outputs": [],
   "source": [
    "np.split(a, 3)"
   ]
  },
  {
   "cell_type": "code",
   "execution_count": null,
   "metadata": {},
   "outputs": [],
   "source": [
    "np.split(a, [4, 6])"
   ]
  },
  {
   "cell_type": "code",
   "execution_count": null,
   "metadata": {},
   "outputs": [],
   "source": [
    "# 2d массив\n",
    "A = np.array([[1, 2, 3], [4, 5, 6], [7, 8, 9]])"
   ]
  },
  {
   "cell_type": "code",
   "execution_count": null,
   "metadata": {},
   "outputs": [],
   "source": [
    "np.split(A, 3)"
   ]
  },
  {
   "cell_type": "code",
   "execution_count": null,
   "metadata": {},
   "outputs": [],
   "source": [
    "np.split(A, 3, axis=1)"
   ]
  },
  {
   "cell_type": "code",
   "execution_count": null,
   "metadata": {},
   "outputs": [],
   "source": [
    "np.split(A, [1,], axis=1)"
   ]
  },
  {
   "cell_type": "code",
   "execution_count": null,
   "metadata": {},
   "outputs": [],
   "source": [
    "np.split(A, [1,], axis=0)"
   ]
  },
  {
   "cell_type": "code",
   "execution_count": null,
   "metadata": {},
   "outputs": [],
   "source": [
    "np.vsplit(A, [1,])"
   ]
  },
  {
   "cell_type": "code",
   "execution_count": null,
   "metadata": {},
   "outputs": [],
   "source": [
    "np.hsplit(A, [1,])"
   ]
  },
  {
   "cell_type": "markdown",
   "metadata": {},
   "source": [
    "`delete`"
   ]
  },
  {
   "cell_type": "markdown",
   "metadata": {},
   "source": [
    "<p>Удаление строки</p>"
   ]
  },
  {
   "cell_type": "code",
   "execution_count": null,
   "metadata": {},
   "outputs": [],
   "source": [
    "A = np.array([[1,2,3],\n",
    "              [4,5,6],\n",
    "              [7,8,9]])\n",
    "B = np.delete(A, 2, axis=0)\n",
    "B"
   ]
  },
  {
   "cell_type": "code",
   "execution_count": null,
   "metadata": {},
   "outputs": [],
   "source": [
    "A = np.array([[1,2,3],\n",
    "              [4,5,6],\n",
    "              [7,8,9]])\n",
    "B = np.delete(A, np.s_[0:2], axis=0)\n",
    "B"
   ]
  },
  {
   "cell_type": "code",
   "execution_count": null,
   "metadata": {},
   "outputs": [],
   "source": [
    "A = np.array([[1,2,3],\n",
    "              [4,5,6],\n",
    "              [7,8,9]])\n",
    "B = np.delete(A, [0,2], axis=0)\n",
    "B"
   ]
  },
  {
   "cell_type": "markdown",
   "metadata": {},
   "source": [
    "<p>Удаление столбца</p>"
   ]
  },
  {
   "cell_type": "code",
   "execution_count": null,
   "metadata": {},
   "outputs": [],
   "source": [
    "A = np.array([[1,2,3],\n",
    "              [4,5,6],\n",
    "              [7,8,9]])\n",
    "B = np.delete(A, 2, axis=1)\n",
    "B"
   ]
  },
  {
   "cell_type": "code",
   "execution_count": null,
   "metadata": {},
   "outputs": [],
   "source": [
    "A = np.array([[1,2,3],\n",
    "              [4,5,6],\n",
    "              [7,8,9]])\n",
    "B = np.delete(A, np.s_[0:2], axis=1)\n",
    "B"
   ]
  },
  {
   "cell_type": "code",
   "execution_count": null,
   "metadata": {},
   "outputs": [],
   "source": [
    "A = np.array([[1,2,3],\n",
    "              [4,5,6],\n",
    "              [7,8,9]])\n",
    "B = np.delete(A, [0,2], axis=1)\n",
    "B"
   ]
  },
  {
   "cell_type": "markdown",
   "metadata": {},
   "source": [
    "Изменение размерности"
   ]
  },
  {
   "cell_type": "markdown",
   "metadata": {},
   "source": [
    "`reshape`"
   ]
  },
  {
   "cell_type": "code",
   "execution_count": null,
   "metadata": {},
   "outputs": [],
   "source": [
    "a = np.array([1,2,3,4,5,6])\n",
    "a"
   ]
  },
  {
   "cell_type": "code",
   "execution_count": null,
   "metadata": {},
   "outputs": [],
   "source": [
    "a.ndim, a.shape"
   ]
  },
  {
   "cell_type": "code",
   "execution_count": null,
   "metadata": {},
   "outputs": [],
   "source": [
    "B = a.reshape(2, 3)\n",
    "B"
   ]
  },
  {
   "cell_type": "code",
   "execution_count": null,
   "metadata": {},
   "outputs": [],
   "source": [
    "B.ndim, B.shape"
   ]
  },
  {
   "cell_type": "code",
   "execution_count": null,
   "metadata": {},
   "outputs": [],
   "source": [
    "B.reshape(1, 6)"
   ]
  },
  {
   "cell_type": "code",
   "execution_count": null,
   "metadata": {},
   "outputs": [],
   "source": [
    "B.reshape(2, 1, 3)"
   ]
  },
  {
   "cell_type": "code",
   "execution_count": null,
   "metadata": {},
   "outputs": [],
   "source": [
    "B.reshape(6)"
   ]
  },
  {
   "cell_type": "markdown",
   "metadata": {},
   "source": [
    "`newaxis`"
   ]
  },
  {
   "cell_type": "code",
   "execution_count": null,
   "metadata": {},
   "outputs": [],
   "source": [
    "a = np.array([1,2,3,4,5,6])\n",
    "a"
   ]
  },
  {
   "cell_type": "code",
   "execution_count": null,
   "metadata": {},
   "outputs": [],
   "source": [
    "a[:, np.newaxis]"
   ]
  },
  {
   "cell_type": "code",
   "execution_count": null,
   "metadata": {},
   "outputs": [],
   "source": [
    "a[np.newaxis, :]"
   ]
  },
  {
   "cell_type": "code",
   "execution_count": null,
   "metadata": {},
   "outputs": [],
   "source": [
    "a[np.newaxis, np.newaxis, np.newaxis, :]"
   ]
  },
  {
   "cell_type": "markdown",
   "metadata": {},
   "source": [
    "`transpose`"
   ]
  },
  {
   "cell_type": "code",
   "execution_count": null,
   "metadata": {},
   "outputs": [],
   "source": [
    "B"
   ]
  },
  {
   "cell_type": "code",
   "execution_count": null,
   "metadata": {},
   "outputs": [],
   "source": [
    "B.ndim, B.shape"
   ]
  },
  {
   "cell_type": "code",
   "execution_count": null,
   "metadata": {},
   "outputs": [],
   "source": [
    "C = B.transpose(1, 0)\n",
    "C"
   ]
  },
  {
   "cell_type": "code",
   "execution_count": null,
   "metadata": {},
   "outputs": [],
   "source": [
    "C.ndim, C.shape"
   ]
  },
  {
   "cell_type": "markdown",
   "metadata": {},
   "source": [
    "`flatten`"
   ]
  },
  {
   "cell_type": "code",
   "execution_count": null,
   "metadata": {},
   "outputs": [],
   "source": [
    "B"
   ]
  },
  {
   "cell_type": "code",
   "execution_count": null,
   "metadata": {},
   "outputs": [],
   "source": [
    "B.flatten()"
   ]
  },
  {
   "cell_type": "code",
   "execution_count": null,
   "metadata": {},
   "outputs": [],
   "source": [
    "np.array([[[1,2],\n",
    "           [3,4]],\n",
    "          [[5,6],\n",
    "           [7,8]]]).flatten()"
   ]
  },
  {
   "cell_type": "markdown",
   "metadata": {},
   "source": [
    "Начальные значения элементов массива"
   ]
  },
  {
   "cell_type": "markdown",
   "metadata": {},
   "source": [
    "`zeros`"
   ]
  },
  {
   "cell_type": "code",
   "execution_count": null,
   "metadata": {},
   "outputs": [],
   "source": [
    "# Массив нулей\n",
    "x = np.zeros(5)\n",
    "x"
   ]
  },
  {
   "cell_type": "code",
   "execution_count": null,
   "metadata": {},
   "outputs": [],
   "source": [
    "x = np.zeros(5, dtype=\"int32\")\n",
    "x"
   ]
  },
  {
   "cell_type": "code",
   "execution_count": null,
   "metadata": {},
   "outputs": [],
   "source": [
    "X = np.zeros((5, 3))\n",
    "X"
   ]
  },
  {
   "cell_type": "markdown",
   "metadata": {},
   "source": [
    "`ones`"
   ]
  },
  {
   "cell_type": "code",
   "execution_count": null,
   "metadata": {},
   "outputs": [],
   "source": [
    "# Массив единиц\n",
    "x = np.ones(5)\n",
    "x"
   ]
  },
  {
   "cell_type": "code",
   "execution_count": null,
   "metadata": {},
   "outputs": [],
   "source": [
    "X = np.ones((5, 3))\n",
    "X"
   ]
  },
  {
   "cell_type": "markdown",
   "metadata": {},
   "source": [
    "`full`"
   ]
  },
  {
   "cell_type": "code",
   "execution_count": null,
   "metadata": {},
   "outputs": [],
   "source": [
    "# Массив 10\n",
    "x = np.full(5, 10)\n",
    "x"
   ]
  },
  {
   "cell_type": "code",
   "execution_count": null,
   "metadata": {},
   "outputs": [],
   "source": [
    "X = np.full((5, 3), 10)\n",
    "X"
   ]
  },
  {
   "cell_type": "markdown",
   "metadata": {},
   "source": [
    "`random`"
   ]
  },
  {
   "cell_type": "code",
   "execution_count": null,
   "metadata": {},
   "outputs": [],
   "source": [
    "# Массив случайных целых значений от 0 до 9\n",
    "x = np.random.randint(0, 9, 5)\n",
    "x"
   ]
  },
  {
   "cell_type": "code",
   "execution_count": null,
   "metadata": {},
   "outputs": [],
   "source": [
    "X = np.random.randint(0, 9, size=(5, 3))\n",
    "X"
   ]
  },
  {
   "cell_type": "code",
   "execution_count": null,
   "metadata": {},
   "outputs": [],
   "source": [
    "X = np.random.normal(size=(5, 3))\n",
    "X"
   ]
  },
  {
   "cell_type": "markdown",
   "metadata": {},
   "source": [
    "`like`"
   ]
  },
  {
   "cell_type": "code",
   "execution_count": null,
   "metadata": {},
   "outputs": [],
   "source": [
    "X_ = np.zeros_like(X)\n",
    "X_"
   ]
  },
  {
   "cell_type": "code",
   "execution_count": null,
   "metadata": {},
   "outputs": [],
   "source": [
    "X_ = np.ones_like(X)\n",
    "X_"
   ]
  },
  {
   "cell_type": "code",
   "execution_count": null,
   "metadata": {},
   "outputs": [],
   "source": [
    "X_ = np.full_like(X, 5)\n",
    "X_"
   ]
  },
  {
   "cell_type": "markdown",
   "metadata": {},
   "source": [
    "### Формирование диапазона значений"
   ]
  },
  {
   "cell_type": "markdown",
   "metadata": {},
   "source": [
    "`arange`"
   ]
  },
  {
   "cell_type": "code",
   "execution_count": null,
   "metadata": {},
   "outputs": [],
   "source": [
    "x = np.arange(start=1, stop=5, step=0.5)\n",
    "x"
   ]
  },
  {
   "cell_type": "markdown",
   "metadata": {},
   "source": [
    "`linspace`"
   ]
  },
  {
   "cell_type": "code",
   "execution_count": null,
   "metadata": {},
   "outputs": [],
   "source": [
    "x = np.linspace(start=1, stop=5, num=11)\n",
    "x"
   ]
  },
  {
   "cell_type": "code",
   "execution_count": null,
   "metadata": {},
   "outputs": [],
   "source": [
    "x = np.linspace(\n",
    "    start=1, \n",
    "    stop=5, \n",
    "    num=10, \n",
    "    endpoint=False, \n",
    "    retstep=False)\n",
    "x"
   ]
  },
  {
   "cell_type": "code",
   "execution_count": null,
   "metadata": {},
   "outputs": [],
   "source": [
    "x, step = np.linspace(\n",
    "    start=1, \n",
    "    stop=5, \n",
    "    num=10, \n",
    "    endpoint=False, \n",
    "    retstep=True)\n",
    "x, step"
   ]
  },
  {
   "cell_type": "markdown",
   "metadata": {},
   "source": [
    "`logspace`"
   ]
  },
  {
   "cell_type": "code",
   "execution_count": null,
   "metadata": {
    "scrolled": true
   },
   "outputs": [],
   "source": [
    "x = np.logspace(start=1, stop=5, num=5)\n",
    "x"
   ]
  },
  {
   "cell_type": "code",
   "execution_count": null,
   "metadata": {},
   "outputs": [],
   "source": [
    "x = np.logspace(start=0, stop=5, num=5, endpoint=False, base=2)\n",
    "x"
   ]
  },
  {
   "cell_type": "markdown",
   "metadata": {},
   "source": [
    "### Условия"
   ]
  },
  {
   "cell_type": "code",
   "execution_count": null,
   "metadata": {},
   "outputs": [],
   "source": [
    "np.random.seed(1)\n",
    "X = np.random.randint(0, 9, size=(10, 3))\n",
    "X"
   ]
  },
  {
   "cell_type": "markdown",
   "metadata": {},
   "source": [
    "Проверка выполнение условия (поэлементно)"
   ]
  },
  {
   "cell_type": "code",
   "execution_count": null,
   "metadata": {},
   "outputs": [],
   "source": [
    "X < 5"
   ]
  },
  {
   "cell_type": "code",
   "execution_count": null,
   "metadata": {},
   "outputs": [],
   "source": [
    "((X > 2) & (X < 5))"
   ]
  },
  {
   "cell_type": "markdown",
   "metadata": {},
   "source": [
    "Выбор элементов по условию"
   ]
  },
  {
   "cell_type": "code",
   "execution_count": null,
   "metadata": {
    "scrolled": true
   },
   "outputs": [],
   "source": [
    "X[X < 5]"
   ]
  },
  {
   "cell_type": "markdown",
   "metadata": {},
   "source": [
    "Выбор элементов по индексам строк и столбцов"
   ]
  },
  {
   "cell_type": "code",
   "execution_count": null,
   "metadata": {},
   "outputs": [],
   "source": [
    "X[\n",
    "    [0,0,0,1,1,1],\n",
    "    [0,1,2,0,1,2]\n",
    "]"
   ]
  },
  {
   "cell_type": "code",
   "execution_count": null,
   "metadata": {},
   "outputs": [],
   "source": [
    "try:\n",
    "    X[[0,0], [0,1], [0,2]]\n",
    "except IndexError as e:\n",
    "    print(e)"
   ]
  },
  {
   "cell_type": "markdown",
   "metadata": {},
   "source": [
    "**Выбор строк**"
   ]
  },
  {
   "cell_type": "markdown",
   "metadata": {},
   "source": [
    "Срезы"
   ]
  },
  {
   "cell_type": "code",
   "execution_count": null,
   "metadata": {},
   "outputs": [],
   "source": [
    "X"
   ]
  },
  {
   "cell_type": "code",
   "execution_count": null,
   "metadata": {},
   "outputs": [],
   "source": [
    "X[:2]"
   ]
  },
  {
   "cell_type": "code",
   "execution_count": null,
   "metadata": {},
   "outputs": [],
   "source": [
    "X[:2, :]"
   ]
  },
  {
   "cell_type": "markdown",
   "metadata": {},
   "source": [
    "Флаги"
   ]
  },
  {
   "cell_type": "code",
   "execution_count": null,
   "metadata": {},
   "outputs": [],
   "source": [
    "np.random.seed(1)\n",
    "rows = np.random.randint(0, 2, 10, dtype='bool')\n",
    "rows"
   ]
  },
  {
   "cell_type": "code",
   "execution_count": null,
   "metadata": {},
   "outputs": [],
   "source": [
    "assert X.shape[0] == rows.size"
   ]
  },
  {
   "cell_type": "code",
   "execution_count": null,
   "metadata": {},
   "outputs": [],
   "source": [
    "X[rows]"
   ]
  },
  {
   "cell_type": "markdown",
   "metadata": {},
   "source": [
    "Выбор с условием"
   ]
  },
  {
   "cell_type": "code",
   "execution_count": null,
   "metadata": {},
   "outputs": [],
   "source": [
    "X.sum(axis=1)"
   ]
  },
  {
   "cell_type": "code",
   "execution_count": null,
   "metadata": {},
   "outputs": [],
   "source": [
    "X.sum(axis=1) > 10"
   ]
  },
  {
   "cell_type": "code",
   "execution_count": null,
   "metadata": {},
   "outputs": [],
   "source": [
    "X[X.sum(axis=1) > 10]"
   ]
  },
  {
   "cell_type": "markdown",
   "metadata": {},
   "source": [
    "**Выбор столбцов**"
   ]
  },
  {
   "cell_type": "markdown",
   "metadata": {},
   "source": [
    "Срезы"
   ]
  },
  {
   "cell_type": "code",
   "execution_count": null,
   "metadata": {},
   "outputs": [],
   "source": [
    "X[:, :2]"
   ]
  },
  {
   "cell_type": "markdown",
   "metadata": {},
   "source": [
    "Флаги"
   ]
  },
  {
   "cell_type": "code",
   "execution_count": null,
   "metadata": {},
   "outputs": [],
   "source": [
    "clmns = [True, False, True]"
   ]
  },
  {
   "cell_type": "code",
   "execution_count": null,
   "metadata": {},
   "outputs": [],
   "source": [
    "assert X.shape[1] == len(clmns)"
   ]
  },
  {
   "cell_type": "code",
   "execution_count": null,
   "metadata": {},
   "outputs": [],
   "source": [
    "X[:, clmns]"
   ]
  },
  {
   "cell_type": "markdown",
   "metadata": {},
   "source": [
    "Выбор с условием"
   ]
  },
  {
   "cell_type": "code",
   "execution_count": null,
   "metadata": {},
   "outputs": [],
   "source": [
    "X[:, X.sum(axis=0) < 40]"
   ]
  },
  {
   "cell_type": "markdown",
   "metadata": {},
   "source": [
    "**Выбор строк и столбцов**"
   ]
  },
  {
   "cell_type": "code",
   "execution_count": null,
   "metadata": {},
   "outputs": [],
   "source": [
    "X[3:6, :2]"
   ]
  },
  {
   "cell_type": "code",
   "execution_count": null,
   "metadata": {},
   "outputs": [],
   "source": [
    "X[3:6, X.sum(axis=0) < 40]"
   ]
  },
  {
   "cell_type": "code",
   "execution_count": null,
   "metadata": {},
   "outputs": [],
   "source": [
    "X[X.sum(axis=1) > 10, :2]"
   ]
  },
  {
   "cell_type": "code",
   "execution_count": null,
   "metadata": {},
   "outputs": [],
   "source": [
    "try:\n",
    "    X[X.sum(axis=1) > 10, X.sum(axis=0) < 40]\n",
    "except IndexError as e:\n",
    "    print(e)"
   ]
  },
  {
   "cell_type": "markdown",
   "metadata": {},
   "source": [
    "**Функция `where`**"
   ]
  },
  {
   "cell_type": "code",
   "execution_count": null,
   "metadata": {},
   "outputs": [],
   "source": [
    "X"
   ]
  },
  {
   "cell_type": "code",
   "execution_count": null,
   "metadata": {},
   "outputs": [],
   "source": [
    "rows, clmns = np.where(X)\n",
    "# rows, clmns = np.asarray(X).nonzero()\n",
    "rows, clmns"
   ]
  },
  {
   "cell_type": "code",
   "execution_count": null,
   "metadata": {},
   "outputs": [],
   "source": [
    "X[rows, clmns]"
   ]
  },
  {
   "cell_type": "code",
   "execution_count": null,
   "metadata": {},
   "outputs": [],
   "source": [
    "rows, clmns = np.where(X > 5)\n",
    "X[rows, clmns]"
   ]
  },
  {
   "cell_type": "code",
   "execution_count": null,
   "metadata": {},
   "outputs": [],
   "source": [
    "np.where(X < 5, X, 0)"
   ]
  },
  {
   "cell_type": "code",
   "execution_count": null,
   "metadata": {},
   "outputs": [],
   "source": [
    "np.where(X < 5, 0, X)"
   ]
  },
  {
   "cell_type": "code",
   "execution_count": null,
   "metadata": {},
   "outputs": [],
   "source": [
    "np.where((X > 2) & (X < 5), X, 0)"
   ]
  },
  {
   "cell_type": "markdown",
   "metadata": {},
   "source": [
    "### Применение функции к элементам массива"
   ]
  },
  {
   "cell_type": "markdown",
   "metadata": {},
   "source": [
    "`vectorize`"
   ]
  },
  {
   "cell_type": "code",
   "execution_count": null,
   "metadata": {},
   "outputs": [],
   "source": [
    "def even(x):\n",
    "    return x % 2 == 0"
   ]
  },
  {
   "cell_type": "code",
   "execution_count": null,
   "metadata": {},
   "outputs": [],
   "source": [
    "x = np.random.randint(1, 1000000, 1000000)\n",
    "x.shape"
   ]
  },
  {
   "cell_type": "code",
   "execution_count": null,
   "metadata": {},
   "outputs": [],
   "source": [
    "func = np.vectorize(even)"
   ]
  },
  {
   "cell_type": "code",
   "execution_count": null,
   "metadata": {},
   "outputs": [],
   "source": [
    "func(x)"
   ]
  },
  {
   "cell_type": "code",
   "execution_count": null,
   "metadata": {},
   "outputs": [],
   "source": [
    "%%timeit\n",
    "func(x)"
   ]
  },
  {
   "cell_type": "markdown",
   "metadata": {},
   "source": [
    "`numba`"
   ]
  },
  {
   "cell_type": "code",
   "execution_count": null,
   "metadata": {},
   "outputs": [],
   "source": [
    "from numba import vectorize"
   ]
  },
  {
   "cell_type": "code",
   "execution_count": null,
   "metadata": {},
   "outputs": [],
   "source": [
    "@vectorize(nopython=True)\n",
    "def even(x):\n",
    "    return x % 2 == 0"
   ]
  },
  {
   "cell_type": "code",
   "execution_count": null,
   "metadata": {},
   "outputs": [],
   "source": [
    "%%timeit \n",
    "even(x)"
   ]
  },
  {
   "cell_type": "markdown",
   "metadata": {},
   "source": [
    "<a name=\"2\"></a>\n",
    "<div style=\"display:table; width:100%; padding-top:10px; padding-bottom:10px; border-bottom:1px solid lightgrey\">\n",
    "    <div style=\"display:table-row\">\n",
    "        <div style=\"display:table-cell; width:80%; font-size:16pt; font-weight:bold\">2. Вектор и <span style=\"font-weight:bold; color:green\">NumPy</span></div>\n",
    "    \t<div style=\"display:table-cell; width:20%; text-align:center; background-color:whitesmoke; border:1px solid lightgrey\"><a href=\"#0\">К содержанию</a></div>\n",
    "    </div>\n",
    "</div>"
   ]
  },
  {
   "cell_type": "markdown",
   "metadata": {},
   "source": [
    "### Обозначение, операции, свойства"
   ]
  },
  {
   "cell_type": "markdown",
   "metadata": {},
   "source": [
    "<p><b>Обозначение</b></p>"
   ]
  },
  {
   "cell_type": "markdown",
   "metadata": {},
   "source": [
    "<div>\n",
    "<p>$$\\mathbf{x}=\\left( x_{1}, x_{2}, \\cdots, x_{n} \\right)$$</p>\n",
    "<p style=\"text-align:center\">или</p>\n",
    "<p>$$\\mathbf{x}=\\left( \\begin{array}{c} x_{1} \\\\ x_{2} \\\\ \\vdots \\\\ x_{n}  \\end{array}\\ \\right)$$</p>\n",
    "</div>"
   ]
  },
  {
   "cell_type": "code",
   "execution_count": null,
   "metadata": {},
   "outputs": [],
   "source": [
    "# NumPy\n",
    "x = np.array([1,2,3])  # одномерный массив\n",
    "x"
   ]
  },
  {
   "cell_type": "code",
   "execution_count": null,
   "metadata": {},
   "outputs": [],
   "source": [
    "# Стандартный Python\n",
    "x__pure_py = [1,2,3]\n",
    "x__pure_py"
   ]
  },
  {
   "cell_type": "markdown",
   "metadata": {},
   "source": [
    "<div>\n",
    "<p><b>Сложение двух векторов:</b></p>\n",
    "<p>$$\\mathbf{x}+\\mathbf{y}=\\left( \\begin{array}{c} x_{1} \\\\ x_{2} \\\\ \\vdots \\\\ x_{n}  \\end{array}\\ \\right)+\\left( \\begin{array}{c} y_{1} \\\\ y_{2} \\\\ \\vdots \\\\ y_{n}  \\end{array}\\ \\right) = \\left( \\begin{array}{c} x_{1} + y_{1}  \\\\ x_{2}+y_{2} \\\\ \\vdots \\\\ x_{n}+y_{n}  \\end{array}\\ \\right)$$\n",
    "</p>\n",
    "</div>"
   ]
  },
  {
   "cell_type": "markdown",
   "metadata": {},
   "source": [
    "<p><b>Свойства:</b><br>\n",
    "<ol>\n",
    "<li>коммутативность: \n",
    "$\\mathbf{x} + \\mathbf{y} = \\mathbf{y} + \\mathbf{x}$</li>\n",
    "<li>ассоциативность: \n",
    "$\\left( \\mathbf{x}+ \\mathbf{y} \\right) + \\mathbf{z} =  \\mathbf{x} + \\left(\\mathbf{y}+ \\mathbf{z}\\right) $</li>\n",
    "</ol>\n",
    "</p>"
   ]
  },
  {
   "cell_type": "code",
   "execution_count": null,
   "metadata": {},
   "outputs": [],
   "source": [
    "# NumPy\n",
    "x = np.array([1,2,3])\n",
    "y = np.array([4,5,6])\n",
    "x + y"
   ]
  },
  {
   "cell_type": "code",
   "execution_count": null,
   "metadata": {},
   "outputs": [],
   "source": [
    "# Стандартный Python\n",
    "x__pure_py = [1,2,3]\n",
    "y__pure_py = [4,5,6]\n",
    "[x__pure_py[i] + y__pure_py[i] for i in range(len(x__pure_py))]"
   ]
  },
  {
   "cell_type": "code",
   "execution_count": null,
   "metadata": {},
   "outputs": [],
   "source": [
    "# Стандартный Python\n",
    "x__pure_py = [1,2,3]\n",
    "y__pure_py = [4,5,6]\n",
    "x__pure_py + y__pure_py"
   ]
  },
  {
   "cell_type": "markdown",
   "metadata": {},
   "source": [
    "<p><b>Умножение вектора на число</b></p>"
   ]
  },
  {
   "cell_type": "markdown",
   "metadata": {},
   "source": [
    "$$k\\mathbf{x}=\\left( kx_{1}, kx_{2}, \\cdots, kx_{n} \\right)$$"
   ]
  },
  {
   "cell_type": "code",
   "execution_count": null,
   "metadata": {},
   "outputs": [],
   "source": [
    "# NumPy\n",
    "k = 5\n",
    "x = np.array([1,2,3])\n",
    "k * x"
   ]
  },
  {
   "cell_type": "code",
   "execution_count": null,
   "metadata": {},
   "outputs": [],
   "source": [
    "# Стандартный Python\n",
    "k = 5\n",
    "x__pure_py = [1,2,3]\n",
    "k * x__pure_py"
   ]
  },
  {
   "cell_type": "markdown",
   "metadata": {},
   "source": [
    "<p><b>Транспонирование:</b></p>"
   ]
  },
  {
   "cell_type": "markdown",
   "metadata": {},
   "source": [
    "$$\\mathbf{x}^{\\mathrm T}=\\left( \\begin{array}{c} x_{1} \\hspace{0.2cm} x_{2} \\hspace{0.2cm} \\cdots \\hspace{0.2cm} x_{n}  \\end{array}\\ \\right)$$"
   ]
  },
  {
   "cell_type": "code",
   "execution_count": null,
   "metadata": {},
   "outputs": [],
   "source": [
    "# NumPy \n",
    "# Замечание: Для транспонирования массив должен быть двумерным\n",
    "x.T"
   ]
  },
  {
   "cell_type": "code",
   "execution_count": null,
   "metadata": {},
   "outputs": [],
   "source": [
    "# NumPy\n",
    "x = np.array([[1],\n",
    "              [2],\n",
    "              [3]])\n",
    "x.T"
   ]
  },
  {
   "cell_type": "code",
   "execution_count": null,
   "metadata": {},
   "outputs": [],
   "source": [
    "# Стандартный Python\n",
    "x__pure_py = [[1],\n",
    "              [2],\n",
    "              [3]]\n",
    "x_T_pure_py = [[x__pure_py[i][j] for i in range(len(x__pure_py))] for j in range(len(x__pure_py[0]))]\n",
    "x_T_pure_py"
   ]
  },
  {
   "cell_type": "markdown",
   "metadata": {},
   "source": [
    "<p><b>Модуль (длина) вектора</b></p>"
   ]
  },
  {
   "cell_type": "markdown",
   "metadata": {},
   "source": [
    "$$| \\mathbf{x} |=\\sqrt{\\mathbf{x}^{\\mathrm T}\\mathbf{x}}=\\sqrt{x_{1}^2+x_{2}^2+ \\ldots +x_{n}^2}$$"
   ]
  },
  {
   "cell_type": "code",
   "execution_count": null,
   "metadata": {},
   "outputs": [],
   "source": [
    "# NumPy\n",
    "np.linalg.norm(x)"
   ]
  },
  {
   "cell_type": "code",
   "execution_count": null,
   "metadata": {},
   "outputs": [],
   "source": [
    "# NumPy\n",
    "x = np.array([1,2,3])\n",
    "np.sqrt(np.power(x, 2).sum())"
   ]
  },
  {
   "cell_type": "code",
   "execution_count": null,
   "metadata": {},
   "outputs": [],
   "source": [
    "# Стандартный Python\n",
    "x__pure_py = [1,2,3]\n",
    "sum([(x__pure_py[i])**2 for i in range(len(x__pure_py))])**0.5"
   ]
  },
  {
   "cell_type": "markdown",
   "metadata": {},
   "source": [
    "<p><b>Скалярное произведение векторов (<i>inner product</i>)</b></p>"
   ]
  },
  {
   "cell_type": "markdown",
   "metadata": {},
   "source": [
    "$$\\langle \\mathbf{x},\\mathbf{y} \\rangle=\\mathbf{x}^{\\mathrm T}\\mathbf{y}=\\left( \\begin{array}{c} x_{1} \\hspace{0.2cm} x_{2} \\hspace{0.2cm} \\cdots \\hspace{0.2cm} x_{n}  \\end{array}\\ \\right) \\left( \\begin{array}{c} y_{1} \\\\ y_{2} \\\\ \\vdots \\\\ y_{n}  \\end{array}\\ \\right)= x_{1}y_{1}+x_{2}y_{2}+\\cdots+x_{n}y_{n}$$"
   ]
  },
  {
   "cell_type": "markdown",
   "metadata": {},
   "source": [
    "<p><b>Свойства:</b><br>\n",
    "<ol>\n",
    "<li>коммутативность: \n",
    "$\\mathbf{x}  \\mathbf{y} = \\mathbf{y}  \\mathbf{x}$</li>\n",
    "<li>дистрибутивность: \n",
    "$\\mathbf{x} \\left( \\mathbf{y} + \\mathbf{z} \\right) =  \\mathbf{x} \\mathbf{y}+ \\mathbf{x} \\mathbf{z} $</li>\n",
    "<li>ассоциативность скалярного произведения и чисел: \n",
    "$ \\left(\\lambda \\mathbf{x}\\right)  \\left(\\mu \\mathbf{y} \\right) = \\lambda \\mu \\left( \\mathbf{x}\\mathbf{y}  \\right)$</li>\n",
    "</ol>\n",
    "</p>"
   ]
  },
  {
   "cell_type": "code",
   "execution_count": null,
   "metadata": {},
   "outputs": [],
   "source": [
    "# NumPy\n",
    "x = np.array([1,2,3])\n",
    "y = np.array([4,5,6])\n",
    "z1 = np.inner(x, y)\n",
    "z1"
   ]
  },
  {
   "cell_type": "code",
   "execution_count": null,
   "metadata": {},
   "outputs": [],
   "source": [
    "# NumPy\n",
    "z2 = np.dot(x, y)\n",
    "z2"
   ]
  },
  {
   "cell_type": "code",
   "execution_count": null,
   "metadata": {},
   "outputs": [],
   "source": [
    "# NumPy\n",
    "x * y  # поэлементное перемножение"
   ]
  },
  {
   "cell_type": "code",
   "execution_count": null,
   "metadata": {},
   "outputs": [],
   "source": [
    "# Стандартный Python\n",
    "x__pure_py = [1,2,3]\n",
    "y__pure_py = [4,5,6]\n",
    "z__pure_py = sum([x__pure_py[i] * y__pure_py[i] for i in range(len(x__pure_py))])\n",
    "z__pure_py"
   ]
  },
  {
   "cell_type": "markdown",
   "metadata": {},
   "source": [
    "<p><b>Косунис угла между векторами</b></p>"
   ]
  },
  {
   "cell_type": "markdown",
   "metadata": {},
   "source": [
    "$$\\cos\\theta = \\frac{\\langle \\mathbf{x},\\mathbf{y} \\rangle}{|\\mathbf{x}||\\mathbf{y}|}$$\n",
    "\n",
    "<img src = \"img/vectors.png\">"
   ]
  },
  {
   "cell_type": "code",
   "execution_count": null,
   "metadata": {},
   "outputs": [],
   "source": [
    "# NumPy\n",
    "x = np.array([1,2,3])\n",
    "y = np.array([4,5,6])\n",
    "theta_rad = np.dot(x, y) / (np.linalg.norm(x) * np.linalg.norm(y))\n",
    "theta = theta_rad * 180 / np.pi\n",
    "theta"
   ]
  },
  {
   "cell_type": "code",
   "execution_count": null,
   "metadata": {},
   "outputs": [],
   "source": [
    "np.pi"
   ]
  },
  {
   "cell_type": "markdown",
   "metadata": {},
   "source": [
    "<p><i>Ортогональные (orthogonal) векторы</i></p>"
   ]
  },
  {
   "cell_type": "markdown",
   "metadata": {},
   "source": [
    "$$\\mathbf{x}^{\\mathrm T}\\mathbf{y}=0$$"
   ]
  },
  {
   "cell_type": "markdown",
   "metadata": {},
   "source": [
    "<p><i>Ортонормальные (orthonormal) векторы</i></p>"
   ]
  },
  {
   "cell_type": "markdown",
   "metadata": {},
   "source": [
    "<center>$\\mathbf{x}^{\\mathrm T}\\mathbf{y}=0$ и $| \\mathbf{x} | = 1$, $| \\mathbf{y} |=1$</center>"
   ]
  },
  {
   "cell_type": "markdown",
   "metadata": {},
   "source": [
    "<p><b>Внешнее произведение векторов (outer product) $\\mathbf{x}$ и $\\mathbf{y}$:</b></p>\n",
    "$$\\mathbf{x} \\otimes \\mathbf{y}=\\mathbf{x}\\mathbf{y}^{\\mathrm T}=\n",
    "\\left( \\begin{array}{c} x_{1} \\\\ x_{2} \\\\ \\vdots \\\\ x_{n}  \\end{array}\\ \\right)\n",
    "\\left( \\begin{array}{c} y_{1} \\hspace{0.2cm} y_{2} \\hspace{0.2cm} \\cdots \\hspace{0.2cm} y_{m}  \\end{array}\\ \\right)= \n",
    " \\begin{pmatrix}\n",
    "  x_{1}y_{1} & x_{1}y_{2} & \\cdots & x_{1}y_{m} \\\\\n",
    "  x_{2}y_{1} & x_{2}y_{2} & \\cdots & x_{2}y_{m} \\\\\n",
    "  \\vdots  & \\vdots  & \\ddots & \\vdots  \\\\\n",
    "  x_{n}y_{1} & x_{n}y_{2} & \\cdots & x_{n}y_{m} \\\\\n",
    " \\end{pmatrix}$$"
   ]
  },
  {
   "cell_type": "markdown",
   "metadata": {},
   "source": [
    "$$\\mathbf{x}\\mathbf{y}^{\\mathrm T}= \n",
    "\\left( \\begin{array}{c} 1 \\\\ 2 \\\\ 3  \\end{array}\\ \\right)\n",
    "\\left( \\begin{array}{c} 4 \\hspace{0.2cm} 5 \\hspace{0.2cm} 6  \\end{array}\\ \\right)=\n",
    "\\begin{pmatrix}\n",
    "  1 \\cdot 4 & 1 \\cdot 5 & 1 \\cdot 6 \\\\\n",
    "  2 \\cdot 4 & 2 \\cdot 5 & 2 \\cdot 6 \\\\\n",
    "  3 \\cdot 4 & 3 \\cdot 5 & 3 \\cdot 6 \\\\\n",
    " \\end{pmatrix}=\\begin{pmatrix}\n",
    "  4 & 5 & 6 \\\\\n",
    "  8 & 10 & 12 \\\\\n",
    "  12 & 15 & 18 \\\\\n",
    " \\end{pmatrix}$$"
   ]
  },
  {
   "cell_type": "code",
   "execution_count": null,
   "metadata": {},
   "outputs": [],
   "source": [
    "# NumPy\n",
    "x = np.array([1,2,3])\n",
    "y = np.array([4,5,6])\n",
    "z = np.outer(x, y)\n",
    "z"
   ]
  },
  {
   "cell_type": "code",
   "execution_count": null,
   "metadata": {},
   "outputs": [],
   "source": [
    "# Стандартный Python\n",
    "x__pure_py = [1,2,3]\n",
    "y__pure_py = [4,5,6]\n",
    "z__pure_py = [[x__pure_py[i]*y__pure_py[j] for j in range(len(x__pure_py))] for i in range(len(x__pure_py))]\n",
    "z__pure_py"
   ]
  },
  {
   "cell_type": "markdown",
   "metadata": {},
   "source": [
    "<p><b>Расстояние</b> между двумя точками в векторном пространстве:</p>"
   ]
  },
  {
   "cell_type": "markdown",
   "metadata": {},
   "source": [
    "$$d \\left( \\mathbf{x},\\mathbf{y} \\right) = \\left( \\displaystyle\\sum_{i=1}^{n} \\left (x_i - y_i \\right)^2 \\right)^{\\frac{1}{2}}$$"
   ]
  },
  {
   "cell_type": "code",
   "execution_count": null,
   "metadata": {},
   "outputs": [],
   "source": [
    "# NumPy\n",
    "x = np.array([1,2,3])\n",
    "y = np.array([4,5,6])\n",
    "\n",
    "d = np.sqrt(((x - y)**2).sum())\n",
    "d"
   ]
  },
  {
   "cell_type": "code",
   "execution_count": null,
   "metadata": {},
   "outputs": [],
   "source": [
    "# NumPy\n",
    "x = np.array([1,2,3])\n",
    "y = np.array([4,5,6])\n",
    "\n",
    "d = np.linalg.norm(x - y)\n",
    "d"
   ]
  },
  {
   "cell_type": "code",
   "execution_count": null,
   "metadata": {},
   "outputs": [],
   "source": [
    "# Стандартный Python\n",
    "x__pure_py = [1,2,3]\n",
    "y__pure_py = [4,5,6]\n",
    "sum([(x__pure_py[i]-y__pure_py[i])**2 for i in range(len(x))])**0.5"
   ]
  },
  {
   "cell_type": "markdown",
   "metadata": {},
   "source": [
    "### Другие математические операции"
   ]
  },
  {
   "cell_type": "markdown",
   "metadata": {},
   "source": [
    "<div>\n",
    "<p>Сумма элементов вектора:</p>\n",
    "<p>$$x_{\\Sigma}=\\displaystyle\\sum_{i=1}^{n} {x_i}$$</p>\n",
    "</div>"
   ]
  },
  {
   "cell_type": "code",
   "execution_count": null,
   "metadata": {},
   "outputs": [],
   "source": [
    "# NumPy\n",
    "x = np.array([1,2,3])\n",
    "x.sum()"
   ]
  },
  {
   "cell_type": "code",
   "execution_count": null,
   "metadata": {},
   "outputs": [],
   "source": [
    "# Стандартный Python\n",
    "x__pure_py = [1,2,3]\n",
    "sum(x__pure_py)"
   ]
  },
  {
   "cell_type": "markdown",
   "metadata": {},
   "source": [
    "<p>Поэлементное умножение</p>"
   ]
  },
  {
   "cell_type": "code",
   "execution_count": null,
   "metadata": {},
   "outputs": [],
   "source": [
    "# NumPy\n",
    "x = np.array([1,2,3])\n",
    "y = np.array([4,5,6])\n",
    "x * y"
   ]
  },
  {
   "cell_type": "markdown",
   "metadata": {},
   "source": [
    "<p>Поэлементное деление</p>"
   ]
  },
  {
   "cell_type": "code",
   "execution_count": null,
   "metadata": {},
   "outputs": [],
   "source": [
    "# NumPy\n",
    "x = np.array([1,2,3])\n",
    "y = np.array([4,5,6])\n",
    "x / y"
   ]
  },
  {
   "cell_type": "markdown",
   "metadata": {},
   "source": [
    "<p>Поэлементный модуль (остаток от деления)</p>"
   ]
  },
  {
   "cell_type": "code",
   "execution_count": null,
   "metadata": {},
   "outputs": [],
   "source": [
    "# NumPy\n",
    "x = np.array([1,2,3])\n",
    "y = np.array([2,2,2])\n",
    "x % y"
   ]
  },
  {
   "cell_type": "code",
   "execution_count": null,
   "metadata": {},
   "outputs": [],
   "source": [
    "np.mod(x, y)"
   ]
  },
  {
   "cell_type": "code",
   "execution_count": null,
   "metadata": {},
   "outputs": [],
   "source": [
    "np.divmod(x, y)"
   ]
  },
  {
   "cell_type": "markdown",
   "metadata": {},
   "source": [
    "<p>Поэлементное возведение в степень</p>"
   ]
  },
  {
   "cell_type": "code",
   "execution_count": null,
   "metadata": {},
   "outputs": [],
   "source": [
    "# NumPy\n",
    "n = 2\n",
    "x = np.array([1,2,3])\n",
    "np.power(x, n)"
   ]
  },
  {
   "cell_type": "code",
   "execution_count": null,
   "metadata": {},
   "outputs": [],
   "source": [
    "# Стандартный Python\n",
    "n = 2\n",
    "x__pure_py = [1,2,3]\n",
    "\n",
    "try:\n",
    "    x__pure_py ** n  # операция не поддерживается \n",
    "except TypeError as e:\n",
    "    print(e)"
   ]
  },
  {
   "cell_type": "code",
   "execution_count": null,
   "metadata": {},
   "outputs": [],
   "source": [
    "# Стандартный Python\n",
    "n = 2\n",
    "x__pure_py = [1,2,3]\n",
    "[el**n for el in x__pure_py]"
   ]
  },
  {
   "cell_type": "markdown",
   "metadata": {},
   "source": [
    "<p>Среднее значение</p>"
   ]
  },
  {
   "cell_type": "code",
   "execution_count": null,
   "metadata": {},
   "outputs": [],
   "source": [
    "x = np.array([1,2,3])\n",
    "x.mean()"
   ]
  },
  {
   "cell_type": "markdown",
   "metadata": {},
   "source": [
    "<p>Стандартное отклонение</p>"
   ]
  },
  {
   "cell_type": "code",
   "execution_count": null,
   "metadata": {},
   "outputs": [],
   "source": [
    "x = np.array([1,2,3])\n",
    "x.std()"
   ]
  },
  {
   "cell_type": "code",
   "execution_count": null,
   "metadata": {},
   "outputs": [],
   "source": [
    "x.var()"
   ]
  },
  {
   "cell_type": "markdown",
   "metadata": {},
   "source": [
    "<a name=\"2\"></a>\n",
    "<div style=\"display:table; width:100%; padding-top:10px; padding-bottom:10px; border-bottom:1px solid lightgrey\">\n",
    "    <div style=\"display:table-row\">\n",
    "        <div style=\"display:table-cell; width:80%; font-size:16pt; font-weight:bold\">2. Матрица</div>\n",
    "    \t<div style=\"display:table-cell; width:20%; text-align:center; background-color:whitesmoke; border:1px solid lightgrey\"><a href=\"#0\">К содержанию</a></div>\n",
    "    </div>\n",
    "</div>"
   ]
  },
  {
   "cell_type": "markdown",
   "metadata": {},
   "source": [
    "### Обозначение, операции, свойства"
   ]
  },
  {
   "cell_type": "markdown",
   "metadata": {},
   "source": [
    "<p><b>Обозначение матрицы</b></p>"
   ]
  },
  {
   "cell_type": "markdown",
   "metadata": {},
   "source": [
    "$$A_{n,m} = \n",
    " \\begin{pmatrix}\n",
    "  a_{1,1} & a_{1,2} & \\cdots & a_{1,m} \\\\\n",
    "  a_{2,1} & a_{2,2} & \\cdots & a_{2,m} \\\\\n",
    "  \\vdots  & \\vdots  & \\ddots & \\vdots  \\\\\n",
    "  a_{n,1} & a_{n,2} & \\cdots & a_{n,m} \n",
    " \\end{pmatrix}$$"
   ]
  },
  {
   "cell_type": "markdown",
   "metadata": {},
   "source": [
    "<p><i>Квадратная матрица</i> - матрица из $n$ строк и $n$ столбцов</p>"
   ]
  },
  {
   "cell_type": "markdown",
   "metadata": {},
   "source": [
    "$$A_{n,n} = \n",
    " \\begin{pmatrix}\n",
    "  a_{1,1} & a_{1,2} & \\cdots & a_{1,n} \\\\\n",
    "  a_{2,1} & a_{2,2} & \\cdots & a_{2,n} \\\\\n",
    "  \\vdots  & \\vdots  & \\ddots & \\vdots  \\\\\n",
    "  a_{n,1} & a_{n,2} & \\cdots & a_{n,n} \n",
    " \\end{pmatrix}$$"
   ]
  },
  {
   "cell_type": "code",
   "execution_count": null,
   "metadata": {},
   "outputs": [],
   "source": [
    "# NumPy\n",
    "A = np.array([[1,2,3],\n",
    "              [4,5,6]])\n",
    "A"
   ]
  },
  {
   "cell_type": "code",
   "execution_count": null,
   "metadata": {},
   "outputs": [],
   "source": [
    "# NumPy\n",
    "A = np.matrix([[1,2,3],\n",
    "               [4,5,6]])\n",
    "A"
   ]
  },
  {
   "cell_type": "code",
   "execution_count": null,
   "metadata": {},
   "outputs": [],
   "source": [
    "# Стандартный Python\n",
    "A__pure_py = [[1,2,3],\n",
    "              [4,5,6]]\n",
    "A__pure_py"
   ]
  },
  {
   "cell_type": "code",
   "execution_count": null,
   "metadata": {},
   "outputs": [],
   "source": [
    "# NumPy\n",
    "A = np.matrix([[1,2,3],\n",
    "               [4,5,6]])  # аналогично для np.array()\n",
    "A.ndim, A.shape  # размерность массива, размер матрицы"
   ]
  },
  {
   "cell_type": "markdown",
   "metadata": {},
   "source": [
    "<p><b>Транспонирование матрицы</b></p>"
   ]
  },
  {
   "cell_type": "markdown",
   "metadata": {},
   "source": [
    "$$A_{n,m}^{T} = \n",
    " \\begin{pmatrix}\n",
    "  a_{1,1} & a_{2,1} & \\cdots & a_{n,1} \\\\\n",
    "  a_{1,2} & a_{2,2} & \\cdots & a_{n,2} \\\\\n",
    "  \\vdots  & \\vdots  & \\ddots & \\vdots  \\\\\n",
    "  a_{1,m} & a_{2,m} & \\cdots & a_{n,m} \n",
    " \\end{pmatrix}$$"
   ]
  },
  {
   "cell_type": "code",
   "execution_count": null,
   "metadata": {},
   "outputs": [],
   "source": [
    "# NumPy\n",
    "A = np.array([[1,2,3],\n",
    "              [4,5,6]])\n",
    "A.T"
   ]
  },
  {
   "cell_type": "code",
   "execution_count": null,
   "metadata": {},
   "outputs": [],
   "source": [
    "# NumPy\n",
    "A = np.matrix([[1,2,3],\n",
    "               [4,5,6]])\n",
    "A.T"
   ]
  },
  {
   "cell_type": "code",
   "execution_count": null,
   "metadata": {},
   "outputs": [],
   "source": [
    "# Стандартный Python\n",
    "A__pure_py = [[1,2,3],\n",
    "              [4,5,6]]\n",
    "A_T__pure_py = [[A__pure_py[i][j] for i in range(len(A__pure_py))] for j in range(len(A__pure_py[0]))]\n",
    "A_T__pure_py"
   ]
  },
  {
   "cell_type": "code",
   "execution_count": null,
   "metadata": {},
   "outputs": [],
   "source": [
    "# Стандартный Python\n",
    "# Функция для транспонирования\n",
    "matrix_T = lambda matrix: [[matrix[i][j] for i in range(len(matrix))] for j in range(len(matrix[0]))]\n",
    "\n",
    "A_T__pure_py = matrix_T(A__pure_py)\n",
    "A_T__pure_py"
   ]
  },
  {
   "cell_type": "markdown",
   "metadata": {},
   "source": [
    "<p><b>Сложение матриц</b></p>"
   ]
  },
  {
   "cell_type": "markdown",
   "metadata": {},
   "source": [
    "$$A_{n,m}+B_{n,m} = \n",
    " \\begin{pmatrix}\n",
    "  a_{1,1} & a_{1,2} & \\cdots & a_{1,m} \\\\\n",
    "  a_{2,1} & a_{2,2} & \\cdots & a_{2,m} \\\\\n",
    "  \\vdots  & \\vdots  & \\ddots & \\vdots  \\\\\n",
    "  a_{n,1} & a_{n,2} & \\cdots & a_{n,m} \n",
    " \\end{pmatrix}\n",
    " +\n",
    "  \\begin{pmatrix}\n",
    "  b_{1,1} & b_{1,2} & \\cdots & b_{1,m} \\\\\n",
    "  b_{2,1} & b_{2,2} & \\cdots & b_{2,m} \\\\\n",
    "  \\vdots  & \\vdots  & \\ddots & \\vdots  \\\\\n",
    "  b_{n,1} & b_{n,2} & \\cdots & b_{n,m} \n",
    " \\end{pmatrix}\n",
    " =\n",
    "  \\begin{pmatrix}\n",
    "  a_{1,1}+b_{1,1} & a_{1,2}+b_{1,2} & \\cdots & a_{1,m}+b_{1,m} \\\\\n",
    "  a_{2,1}+b_{2,1} & a_{2,2}+b_{2,2} & \\cdots & a_{2,m}+b_{2,m} \\\\\n",
    "  \\vdots  & \\vdots  & \\ddots & \\vdots  \\\\\n",
    "  a_{n,1}+b_{n,1} & a_{n,2}+b_{n,2} & \\cdots & a_{n,m}+b_{n,m}\n",
    " \\end{pmatrix}\n",
    " $$"
   ]
  },
  {
   "cell_type": "markdown",
   "metadata": {},
   "source": [
    "$$A_{2,2} = \n",
    " \\begin{pmatrix}\n",
    "  1 & 2 \\\\\n",
    "  3 & 4 \\\\\n",
    " \\end{pmatrix}+\\begin{pmatrix}\n",
    "  5 & 6 \\\\\n",
    "  7 & 8 \\\\\n",
    " \\end{pmatrix} =\n",
    " \\begin{pmatrix}\n",
    "  1+5 & 2+6 \\\\\n",
    "  3+7 & 4+8 \\\\\n",
    " \\end{pmatrix} =\n",
    " \\begin{pmatrix}\n",
    "  6 & 8 \\\\\n",
    "  10 & 12 \\\\\n",
    " \\end{pmatrix}$$"
   ]
  },
  {
   "cell_type": "code",
   "execution_count": null,
   "metadata": {},
   "outputs": [],
   "source": [
    "# NumPy\n",
    "A = np.array([[1,2],\n",
    "              [3,4]])\n",
    "B = np.array([[5,6],\n",
    "              [7,8]])\n",
    "A + B"
   ]
  },
  {
   "cell_type": "code",
   "execution_count": null,
   "metadata": {},
   "outputs": [],
   "source": [
    "# NumPy\n",
    "A = np.matrix([[1,2],\n",
    "               [3,4]])\n",
    "B = np.matrix([[5,6],\n",
    "               [7,8]])\n",
    "A + B"
   ]
  },
  {
   "cell_type": "code",
   "execution_count": null,
   "metadata": {},
   "outputs": [],
   "source": [
    "# Стандартный Python\n",
    "A__pure_py = [[1,2],\n",
    "              [3,4]]\n",
    "B__pure_py = [[5,6],\n",
    "              [7,8]]\n",
    "[[A__pure_py[i][j] + B__pure_py[i][j] for j in range(len(A__pure_py[0]))] for i in range(len(A__pure_py))]"
   ]
  },
  {
   "cell_type": "markdown",
   "metadata": {},
   "source": [
    "<p><b>Умножение матрицы на число</b></p>"
   ]
  },
  {
   "cell_type": "markdown",
   "metadata": {},
   "source": [
    "$$kA_{n,m} = \n",
    " \\begin{pmatrix}\n",
    "  ka_{1,1} & ka_{1,2} & \\cdots & ka_{1,m} \\\\\n",
    "  ka_{2,1} & ka_{2,2} & \\cdots & ka_{2,m} \\\\\n",
    "  \\vdots  & \\vdots  & \\ddots & \\vdots  \\\\\n",
    "  ka_{n,1} & ka_{n,2} & \\cdots & ka_{n,m} \n",
    " \\end{pmatrix}$$"
   ]
  },
  {
   "cell_type": "code",
   "execution_count": null,
   "metadata": {},
   "outputs": [],
   "source": [
    "# NumPy\n",
    "k = 2\n",
    "A = np.array([[1,2],\n",
    "              [3,4]])\n",
    "k * A"
   ]
  },
  {
   "cell_type": "code",
   "execution_count": null,
   "metadata": {},
   "outputs": [],
   "source": [
    "# NumPy\n",
    "k = 2\n",
    "A = np.matrix([[1,2],\n",
    "               [3,4]])\n",
    "k * A"
   ]
  },
  {
   "cell_type": "code",
   "execution_count": null,
   "metadata": {},
   "outputs": [],
   "source": [
    "# Стандартный Python\n",
    "k = 2\n",
    "A__pure_py = [[1,2],\n",
    "              [3,4]]\n",
    "[[k * A__pure_py[i][j] for j in range(len(A__pure_py[0]))] for i in range(len(A__pure_py))]"
   ]
  },
  {
   "cell_type": "markdown",
   "metadata": {},
   "source": [
    "<p><b>Умножение матриц</b></p>"
   ]
  },
  {
   "cell_type": "markdown",
   "metadata": {},
   "source": [
    "$$A_{nxp}B_{pxm} = \\begin{pmatrix}\n",
    "  a_{1,1} & a_{1,2} & \\cdots & a_{1,p} \\\\\n",
    "  a_{2,1} & a_{2,2} & \\cdots & a_{2,p} \\\\\n",
    "  \\vdots  & \\vdots  & \\ddots & \\vdots  \\\\\n",
    "  a_{n,1} & a_{n,2} & \\cdots & a_{n,p} \n",
    " \\end{pmatrix} \\begin{pmatrix}\n",
    "  b_{1,1} & b_{1,2} & \\cdots & b_{1,m} \\\\\n",
    "  b_{2,1} & b_{2,2} & \\cdots & b_{2,m} \\\\\n",
    "  \\vdots  & \\vdots  & \\ddots & \\vdots  \\\\\n",
    "  b_{p,1} & b_{p,2} & \\cdots & b_{p,m} \n",
    " \\end{pmatrix} = \\begin{pmatrix}\n",
    "  c_{1,1} & c_{1,2} & \\cdots & c_{1,m} \\\\\n",
    "  c_{2,1} & c_{2,2} & \\cdots & c_{2,m} \\\\\n",
    "  \\vdots  & \\vdots  & \\ddots & \\vdots  \\\\\n",
    "  c_{n,1} & c_{n,2} & \\cdots & c_{n,m} \n",
    " \\end{pmatrix},$$\n",
    " \n",
    " <p style = \"text-align:center\">где $c_{i,j}=\\displaystyle\\sum_{i=1}^{p} a_{i,k}b_{k,j}$</p>"
   ]
  },
  {
   "cell_type": "markdown",
   "metadata": {},
   "source": [
    "<p><b>Свойства:</b><br>\n",
    "<ol>\n",
    "<li>коммутативность: в общем случае \n",
    "$AB \\neq BA$</li>\n",
    "<li>ассоциативность: \n",
    "$A\\left(BC\\right) =  \\left(AB\\right)C $</li>\n",
    "<li>дистрибутивность по сложению: \n",
    "$A\\left(B+C\\right) =  AB+AC $ и $\\left(A+B\\right)C =  AC+BC $</li>\n",
    "</ol>\n",
    "</p>"
   ]
  },
  {
   "cell_type": "markdown",
   "metadata": {},
   "source": [
    "$$A_{2,2} = \n",
    " \\begin{pmatrix}\n",
    "  1 & 2 \\\\\n",
    "  3 & 4 \\\\\n",
    " \\end{pmatrix}\\begin{pmatrix}\n",
    "  5 & 6 \\\\\n",
    "  7 & 8 \\\\\n",
    " \\end{pmatrix} = \\begin{pmatrix} 1 \\cdot 5 + 2 \\cdot 7 & 1 \\cdot 6 + 2 \\cdot 8 \\\\\n",
    " 3 \\cdot 5 + 4 \\cdot 7 & 3 \\cdot 6 + 4 \\cdot 8 \\end{pmatrix}$$"
   ]
  },
  {
   "cell_type": "code",
   "execution_count": null,
   "metadata": {},
   "outputs": [],
   "source": [
    "# NumPy\n",
    "A = np.array([[1,2],\n",
    "              [3,4]])\n",
    "B = np.array([[5,6],\n",
    "              [7,8]])\n",
    "np.dot(A, B)"
   ]
  },
  {
   "cell_type": "code",
   "execution_count": null,
   "metadata": {},
   "outputs": [],
   "source": [
    "A.dot(B)"
   ]
  },
  {
   "cell_type": "code",
   "execution_count": null,
   "metadata": {},
   "outputs": [],
   "source": [
    "# Замечение: Оператор @ выполняет команду np.matmul,\n",
    "# что соответствует np.dot для матриц\n",
    "A @ B"
   ]
  },
  {
   "cell_type": "code",
   "execution_count": null,
   "metadata": {},
   "outputs": [],
   "source": [
    "A * B  # поэлементное перемножение"
   ]
  },
  {
   "cell_type": "code",
   "execution_count": null,
   "metadata": {},
   "outputs": [],
   "source": [
    "# NumPy\n",
    "A = np.matrix([[1,2],\n",
    "               [3,4]])\n",
    "B = np.matrix([[5,6],\n",
    "               [7,8]])\n",
    "np.dot(A, B)"
   ]
  },
  {
   "cell_type": "code",
   "execution_count": null,
   "metadata": {},
   "outputs": [],
   "source": [
    "A.dot(B)"
   ]
  },
  {
   "cell_type": "code",
   "execution_count": null,
   "metadata": {},
   "outputs": [],
   "source": [
    "A * B  # перемножение матриц"
   ]
  },
  {
   "cell_type": "markdown",
   "metadata": {},
   "source": [
    "<p><b>Умножение матриц через внешнее произведение</b></p>"
   ]
  },
  {
   "cell_type": "markdown",
   "metadata": {},
   "source": [
    "$$A_{nxp}B_{pxm} = \\begin{pmatrix}\n",
    "  a_{1,1} & a_{1,2} & \\cdots & a_{1,p} \\\\\n",
    "  a_{2,1} & a_{2,2} & \\cdots & a_{2,p} \\\\\n",
    "  \\vdots  & \\vdots  & \\ddots & \\vdots  \\\\\n",
    "  a_{n,1} & a_{n,2} & \\cdots & a_{n,p} \n",
    " \\end{pmatrix} \\begin{pmatrix}\n",
    "  b_{1,1} & b_{1,2} & \\cdots & b_{1,m} \\\\\n",
    "  b_{2,1} & b_{2,2} & \\cdots & b_{2,m} \\\\\n",
    "  \\vdots  & \\vdots  & \\ddots & \\vdots  \\\\\n",
    "  b_{p,1} & b_{p,2} & \\cdots & b_{p,m} \n",
    " \\end{pmatrix} = \\begin{pmatrix}\n",
    "  a_{1,1}b_{1,1}  & a_{1,1}b_{1,2} & \\cdots & a_{1,1}b_{1,m} \\\\\n",
    "  a_{2,1}b_{1,1}  & a_{2,1}b_{1,2} & \\cdots & a_{2,1}b_{1,m} \\\\\n",
    "  \\vdots  & \\vdots  & \\ddots & \\vdots  \\\\\n",
    "  a_{n,1}b_{1,1}  & a_{n,1}b_{1,2} & \\cdots & a_{n,1}b_{1,m} \\\\\n",
    " \\end{pmatrix} + \n",
    " \\begin{pmatrix}\n",
    "  a_{1,2}b_{2,1}  & a_{1,2}b_{2,2} & \\cdots & a_{1,2}b_{2,m} \\\\\n",
    "  a_{2,2}b_{2,1}  & a_{2,2}b_{2,2} & \\cdots & a_{2,2}b_{2,m} \\\\\n",
    "  \\vdots  & \\vdots  & \\ddots & \\vdots  \\\\\n",
    "  a_{n,2}b_{2,1}  & a_{n,2}b_{2,2} & \\cdots & a_{n,2}b_{2,m} \\\\\n",
    " \\end{pmatrix} + \\cdots +\n",
    "  \\begin{pmatrix}\n",
    "  a_{1,p}b_{p,1}  & a_{1,p}b_{p,2} & \\cdots & a_{1,p}b_{p,m} \\\\\n",
    "  a_{2,p}b_{p,1}  & a_{2,p}b_{p,2} & \\cdots & a_{2,p}b_{p,m} \\\\\n",
    "  \\vdots  & \\vdots  & \\ddots & \\vdots  \\\\\n",
    "  a_{n,p}b_{p,1}  & a_{n,p}b_{p,2} & \\cdots & a_{n,p}b_{p,m} \\\\\n",
    " \\end{pmatrix}\n",
    " $$"
   ]
  },
  {
   "cell_type": "markdown",
   "metadata": {},
   "source": [
    "<p>Пример</p>"
   ]
  },
  {
   "cell_type": "markdown",
   "metadata": {},
   "source": [
    "$$A_{2x2} = \n",
    " \\begin{pmatrix}\n",
    "  1 & 2 \\\\\n",
    "  3 & 4 \\\\\n",
    " \\end{pmatrix}\\begin{pmatrix}\n",
    "  5 & 6 \\\\\n",
    "  7 & 8 \\\\\n",
    " \\end{pmatrix} = \n",
    " \\begin{pmatrix} \n",
    "  1 \\cdot 5 & 1 \\cdot 6 \\\\\n",
    "  3 \\cdot 5 & 3 \\cdot 6 \\end{pmatrix}+\n",
    "   \\begin{pmatrix} \n",
    "  2 \\cdot 7 & 2 \\cdot 8 \\\\\n",
    "  4 \\cdot 7 & 4 \\cdot 8 \\end{pmatrix}$$"
   ]
  },
  {
   "cell_type": "code",
   "execution_count": null,
   "metadata": {},
   "outputs": [],
   "source": [
    "# NumPy\n",
    "A = np.array([[1,2],\n",
    "              [3,4]])\n",
    "B = np.array([[5,6],\n",
    "              [7,8]])\n",
    "\n",
    "C = np.zeros([A.shape[0], B.shape[1]])\n",
    "\n",
    "for i in range(A.shape[1]):\n",
    "    C += np.outer(A[:,i], B[i,:])\n",
    "C"
   ]
  },
  {
   "cell_type": "code",
   "execution_count": null,
   "metadata": {},
   "outputs": [],
   "source": [
    "sum([np.outer(A[:,i], B[i,:]) for i in range(A.shape[1])])"
   ]
  },
  {
   "cell_type": "markdown",
   "metadata": {},
   "source": [
    "<p><i>Матрица в степени $n$</i></p>"
   ]
  },
  {
   "cell_type": "code",
   "execution_count": null,
   "metadata": {},
   "outputs": [],
   "source": [
    "# NumPy\n",
    "n = 2\n",
    "A = np.array([[1,2],\n",
    "              [3,4]])\n",
    "np.linalg.matrix_power(A, n)"
   ]
  },
  {
   "cell_type": "code",
   "execution_count": null,
   "metadata": {},
   "outputs": [],
   "source": [
    "# NumPy\n",
    "np.dot(A,A)"
   ]
  },
  {
   "cell_type": "code",
   "execution_count": null,
   "metadata": {},
   "outputs": [],
   "source": [
    "A**n  # поэлементное возведение в степень"
   ]
  },
  {
   "cell_type": "code",
   "execution_count": null,
   "metadata": {},
   "outputs": [],
   "source": [
    "# NumPy\n",
    "n = 2\n",
    "A = np.matrix([[1,2],\n",
    "               [3,4]])\n",
    "A**n  # возведение матрицы в степень n"
   ]
  },
  {
   "cell_type": "markdown",
   "metadata": {},
   "source": [
    "<p><b>Ранг матрицы</b></p>"
   ]
  },
  {
   "cell_type": "code",
   "execution_count": null,
   "metadata": {},
   "outputs": [],
   "source": [
    "# NumPy\n",
    "A = np.array([[1,0,2],\n",
    "              [2,1,0],\n",
    "              [1,1,1],\n",
    "              [4,1,7]])\n",
    "np.linalg.matrix_rank(A)"
   ]
  },
  {
   "cell_type": "code",
   "execution_count": null,
   "metadata": {},
   "outputs": [],
   "source": [
    "# NumPy\n",
    "A = np.array([[1,4,3],\n",
    "              [-2,0,-1],\n",
    "              [0,8,5]])\n",
    "np.linalg.matrix_rank(A)"
   ]
  },
  {
   "cell_type": "markdown",
   "metadata": {},
   "source": [
    "<p><b>Определитель матрицы</b></p>"
   ]
  },
  {
   "cell_type": "markdown",
   "metadata": {},
   "source": [
    "$$\\left|A_{nxn}\\right| = \\displaystyle\\sum_{k=1}^{n} a_{i,k} \\left| M_{i,k}\\right| (-1)^{k+i}$$\n",
    "$M_{i,k}$ - минор (матрица, полученная вычеркиванием i-ой строки и k-го столбца из $A_{nxn}$)"
   ]
  },
  {
   "cell_type": "markdown",
   "metadata": {},
   "source": [
    "$$A_{3x3} = \n",
    " \\begin{pmatrix}\n",
    "  a_{1,1} & a_{1,2} & a_{1,3} \\\\\n",
    "  a_{2,1} & a_{2,2} & a_{2,3} \\\\\n",
    "  a_{3,1} & a_{3,2} & a_{3,3} \\\\\n",
    " \\end{pmatrix}$$\n",
    " $$M_{1,1} = \n",
    " \\begin{pmatrix}\n",
    "a_{2,2} & a_{2,3} \\\\\n",
    "a_{3,2} & a_{3,3} \\\\\n",
    " \\end{pmatrix}$$\n",
    "  $$M_{1,2} = \n",
    " \\begin{pmatrix}\n",
    "  a_{2,1} & a_{2,3} \\\\\n",
    "  a_{3,1}  & a_{3,3} \\\\\n",
    " \\end{pmatrix}$$\n",
    "   $$M_{1,3} = \n",
    " \\begin{pmatrix}\n",
    "  a_{2,1} & a_{2,2}  \\\\\n",
    "  a_{3,1} & a_{3,2}  \\\\\n",
    " \\end{pmatrix}$$"
   ]
  },
  {
   "cell_type": "markdown",
   "metadata": {},
   "source": [
    " $$\\left|A_{3x3}\\right| = \n",
    " a_{1,1} \n",
    " \\left| M_{1,1} \\right| + (-1)\\cdot\n",
    " a_{1,2} \n",
    " \\left| M_{1,2} \\right| +\n",
    "  a_{1,3} \n",
    " \\left| M_{1,3} \\right| $$\n",
    " \n",
    "  $$\\left|A_{3x3}\\right| = a_{1,1} \n",
    " \\left| \\begin{matrix}\n",
    "  a_{2,2} & a_{2,3} \\\\\n",
    "  a_{3,2}  & a_{3,3} \\\\\n",
    " \\end{matrix} \\right| + (-1)\\cdot\n",
    " a_{1,2} \n",
    " \\left| \\begin{matrix}\n",
    "  a_{2,1} & a_{2,3} \\\\\n",
    "  a_{3,1}  & a_{3,3} \\\\\n",
    " \\end{matrix} \\right| +\n",
    "  a_{1,3} \n",
    " \\left| \\begin{matrix}\n",
    "  a_{2,1} & a_{2,2} \\\\\n",
    "  a_{3,1}  & a_{3,2} \\\\\n",
    " \\end{matrix} \\right|\n",
    " $$"
   ]
  },
  {
   "cell_type": "code",
   "execution_count": null,
   "metadata": {},
   "outputs": [],
   "source": [
    "# NumPy\n",
    "A = np.array([[1,2],\n",
    "              [3,4]])\n",
    "np.linalg.det(A)"
   ]
  },
  {
   "cell_type": "markdown",
   "metadata": {},
   "source": [
    "<p><b>Обратная квадратная матрица</b></p>"
   ]
  },
  {
   "cell_type": "markdown",
   "metadata": {},
   "source": [
    "$$AA^{-1} = A^{-1}A = I$$"
   ]
  },
  {
   "cell_type": "markdown",
   "metadata": {},
   "source": [
    "$$A_{nxm}I_{mxm}=I_{nxn}A_{nxm}=A_{nxm}$$"
   ]
  },
  {
   "cell_type": "markdown",
   "metadata": {},
   "source": [
    "$$I = \n",
    " \\begin{pmatrix}\n",
    "  1 & 0 & \\cdots & 0 \\\\\n",
    "  0 & 1 & \\cdots & 0 \\\\\n",
    "  \\vdots  & \\vdots  & \\ddots & \\vdots  \\\\\n",
    "  0 & 0 & \\cdots & 1 \n",
    " \\end{pmatrix}$$"
   ]
  },
  {
   "cell_type": "code",
   "execution_count": null,
   "metadata": {},
   "outputs": [],
   "source": [
    "a = np.array([[1,3,5],\n",
    "              [2,5,1],\n",
    "              [2,3,8]])\n",
    "np.linalg.inv(a)"
   ]
  },
  {
   "cell_type": "markdown",
   "metadata": {},
   "source": [
    "<p>Решение уравнений</p>"
   ]
  },
  {
   "cell_type": "markdown",
   "metadata": {},
   "source": [
    "$$AX=B$$"
   ]
  },
  {
   "cell_type": "markdown",
   "metadata": {},
   "source": [
    "<p>Для квадратной матрицы</p>"
   ]
  },
  {
   "cell_type": "markdown",
   "metadata": {},
   "source": [
    "$$X=A^{-1}B$$"
   ]
  },
  {
   "cell_type": "markdown",
   "metadata": {},
   "source": [
    "<p><b>Пример.</b> Дана следующая система уравнений:</p>"
   ]
  },
  {
   "cell_type": "markdown",
   "metadata": {},
   "source": [
    "<p style=\"text-align:center\">$\\begin{cases} \n",
    "2 x_1 + 4 x_2 -3 x_3 = 14 \\\\\n",
    "5 x_1 + x_2 + 2 x_3 = 5 \\\\\n",
    "3 x_1 - 7 x_2 + 5 x_3 = 11\n",
    "\\end{cases}$</p>"
   ]
  },
  {
   "cell_type": "markdown",
   "metadata": {},
   "source": [
    "<p>Найти $x_1$, $x_2$ и $x_3$?</p>"
   ]
  },
  {
   "cell_type": "markdown",
   "metadata": {},
   "source": [
    "<p style=\"text-align:center\">\n",
    "$A_{3x3} = \n",
    " \\begin{pmatrix}\n",
    "  2 & 4 & -3 \\\\\n",
    "  5 & 1 & 2 \\\\\n",
    "  3 & -7 & 5\n",
    " \\end{pmatrix}$, \n",
    "$B =  \\begin{pmatrix}\n",
    "  14 \\\\\n",
    "  5 \\\\\n",
    "  11\n",
    " \\end{pmatrix}$,\n",
    "$X = \\begin{pmatrix}\n",
    "  x_1 \\\\\n",
    "  x_2 \\\\\n",
    "  x_3\n",
    " \\end{pmatrix} = ?$\n",
    "</p>\n"
   ]
  },
  {
   "cell_type": "code",
   "execution_count": null,
   "metadata": {},
   "outputs": [],
   "source": [
    "A = np.array([[2,4,-3],\n",
    "              [5,1,2],\n",
    "              [3,-7,5]])\n",
    "B = np.array([14,5,11])"
   ]
  },
  {
   "cell_type": "code",
   "execution_count": null,
   "metadata": {},
   "outputs": [],
   "source": [
    "# Для квадратной матрицы\n",
    "np.linalg.solve(A, B)"
   ]
  },
  {
   "cell_type": "code",
   "execution_count": null,
   "metadata": {},
   "outputs": [],
   "source": [
    "# Для квадратной матрицы\n",
    "x = np.dot(np.linalg.inv(A), B)\n",
    "x"
   ]
  },
  {
   "cell_type": "code",
   "execution_count": null,
   "metadata": {},
   "outputs": [],
   "source": [
    "x = np.linalg.inv(A) @ B\n",
    "x"
   ]
  },
  {
   "cell_type": "code",
   "execution_count": null,
   "metadata": {},
   "outputs": [],
   "source": [
    "np.dot(A, x)"
   ]
  },
  {
   "cell_type": "markdown",
   "metadata": {},
   "source": [
    "### Другие математические операции"
   ]
  },
  {
   "cell_type": "markdown",
   "metadata": {},
   "source": [
    "<p>Элементы диагонали матрицы</p>"
   ]
  },
  {
   "cell_type": "code",
   "execution_count": null,
   "metadata": {},
   "outputs": [],
   "source": [
    "A = np.array([[1,2,3],\n",
    "              [4,5,6],\n",
    "              [7,8,9]])\n",
    "A.diagonal()"
   ]
  },
  {
   "cell_type": "markdown",
   "metadata": {},
   "source": [
    "<p>Максимальный элемент матрицы</p>"
   ]
  },
  {
   "cell_type": "code",
   "execution_count": null,
   "metadata": {},
   "outputs": [],
   "source": [
    "# NumPy\n",
    "A = np.array([[1,2,3],\n",
    "              [4,5,6],\n",
    "              [7,8,9]])\n",
    "A.max()"
   ]
  },
  {
   "cell_type": "code",
   "execution_count": null,
   "metadata": {},
   "outputs": [],
   "source": [
    "# Стандартный Python\n",
    "A__pure_py = [[1,2,3],\n",
    "              [4,5,6],\n",
    "              [7,8,9]]\n",
    "max(A__pure_py)"
   ]
  },
  {
   "cell_type": "code",
   "execution_count": null,
   "metadata": {},
   "outputs": [],
   "source": [
    "# Стандартный Python\n",
    "A__pure_py = [[1,2,3],\n",
    "              [4,5,6],\n",
    "              [7,8,9]]\n",
    "max(max(A__pure_py))"
   ]
  },
  {
   "cell_type": "markdown",
   "metadata": {},
   "source": [
    "<p>Минимальный элемент матрицы</p>"
   ]
  },
  {
   "cell_type": "code",
   "execution_count": null,
   "metadata": {},
   "outputs": [],
   "source": [
    "A = np.array([[1,2,3],\n",
    "              [4,5,6],\n",
    "              [7,8,9]])\n",
    "A.min()"
   ]
  },
  {
   "cell_type": "code",
   "execution_count": null,
   "metadata": {},
   "outputs": [],
   "source": [
    "A.max(axis=1)"
   ]
  },
  {
   "cell_type": "markdown",
   "metadata": {},
   "source": [
    "<p>Сумма элементов матрицы</p>"
   ]
  },
  {
   "cell_type": "code",
   "execution_count": null,
   "metadata": {},
   "outputs": [],
   "source": [
    "# NumPy\n",
    "A = np.array([[1,2,3],\n",
    "              [4,5,6],\n",
    "              [7,8,9]])\n",
    "A.sum()"
   ]
  },
  {
   "cell_type": "code",
   "execution_count": null,
   "metadata": {},
   "outputs": [],
   "source": [
    "# NumPy\n",
    "A = np.array([[1,2,3],\n",
    "              [4,5,6],\n",
    "              [7,8,9]])\n",
    "A.sum(axis=0)"
   ]
  },
  {
   "cell_type": "code",
   "execution_count": null,
   "metadata": {},
   "outputs": [],
   "source": [
    "# Стандартный Python\n",
    "A__pure_py = [[1,2,3],\n",
    "              [4,5,6],\n",
    "              [7,8,9]]\n",
    "sum(map(sum, A__pure_py))"
   ]
  },
  {
   "cell_type": "markdown",
   "metadata": {},
   "source": [
    "<p>Стандартное отклонение</p>"
   ]
  },
  {
   "cell_type": "code",
   "execution_count": null,
   "metadata": {},
   "outputs": [],
   "source": [
    "A = np.array([[1,2,3],\n",
    "              [4,5,6],\n",
    "              [7,8,9]])\n",
    "A.std()"
   ]
  },
  {
   "cell_type": "code",
   "execution_count": null,
   "metadata": {},
   "outputs": [],
   "source": [
    "A = np.array([[1,2,3],\n",
    "              [4,5,6],\n",
    "              [7,8,9]])\n",
    "A.std(axis=1)"
   ]
  },
  {
   "cell_type": "markdown",
   "metadata": {},
   "source": [
    "<p>След матрицы</p>"
   ]
  },
  {
   "cell_type": "markdown",
   "metadata": {},
   "source": [
    "<p>$$tr(A_{n,n})=\\displaystyle\\sum_{i=1}^{n} a_{i,i} $$</p>"
   ]
  },
  {
   "cell_type": "code",
   "execution_count": null,
   "metadata": {},
   "outputs": [],
   "source": [
    "A = np.array([[1,2,3],\n",
    "              [4,5,6],\n",
    "              [7,8,9]])\n",
    "A.trace()"
   ]
  },
  {
   "cell_type": "markdown",
   "metadata": {},
   "source": [
    "<p>Комплексно-сопряженная матрица</p>"
   ]
  },
  {
   "cell_type": "markdown",
   "metadata": {},
   "source": [
    "$$A = \n",
    " \\begin{pmatrix}\n",
    "  1+i & 2-4i \\\\\n",
    "  3 & 4+5i\\\\\n",
    " \\end{pmatrix}$$\n",
    "$$\\overline{A} = \n",
    " \\begin{pmatrix}\n",
    "  1-i & 2+4i \\\\\n",
    "  3 & 4-5i\\\\\n",
    " \\end{pmatrix}$$"
   ]
  },
  {
   "cell_type": "code",
   "execution_count": null,
   "metadata": {},
   "outputs": [],
   "source": [
    "A = np.matrix([[1+1j, 2-4j],\n",
    "               [3, 4+5j]])\n",
    "A"
   ]
  },
  {
   "cell_type": "code",
   "execution_count": null,
   "metadata": {},
   "outputs": [],
   "source": [
    "np.conj(A)"
   ]
  },
  {
   "cell_type": "markdown",
   "metadata": {},
   "source": [
    "<p>Сопряженно-транспонированная матрица</p>"
   ]
  },
  {
   "cell_type": "markdown",
   "metadata": {},
   "source": [
    "$$A^* = \\left( \\overline{A} \\right)^T =\n",
    " \\begin{pmatrix}\n",
    "1-i & 3 \\\\\n",
    "  2+4i & 4-5i\\\\\n",
    " \\end{pmatrix}$$"
   ]
  },
  {
   "cell_type": "code",
   "execution_count": null,
   "metadata": {},
   "outputs": [],
   "source": [
    "A.H"
   ]
  },
  {
   "cell_type": "markdown",
   "metadata": {},
   "source": [
    "<a name=\"4\"></a>\n",
    "<div style=\"display:table; width:100%; padding-top:10px; padding-bottom:10px; border-bottom:1px solid lightgrey\">\n",
    "    <div style=\"display:table-row\">\n",
    "        <div style=\"display:table-cell; width:80%; font-size:14pt; font-weight:bold\">4. Источники</div>\n",
    "    \t<div style=\"display:table-cell; width:20%; text-align:center; background-color:whitesmoke; border:1px solid lightgrey\"><a href=\"#0\">К содержанию</a></div>\n",
    "    </div>\n",
    "</div>"
   ]
  },
  {
   "cell_type": "markdown",
   "metadata": {
    "collapsed": true,
    "jupyter": {
     "outputs_hidden": true
    }
   },
   "source": [
    "<a href = \"http://docs.scipy.org/doc/numpy-1.10.1/genindex.html\">Документация: индекс</a><br>\n",
    "<a href = \"http://docs.scipy.org/doc/numpy/reference/routines.linalg.html#matrix-and-vector-products\">Документация. Linear algebra (numpy.linalg)</a><br>\n",
    "<a href = \"http://docs.scipy.org/doc/scipy/reference/tutorial/linalg.html\">Документация. Linear algebra (numpy.linalg). Разбор примеров</a><br>\n",
    "<a href = \"http://research.cs.tamu.edu/prism/lectures/pr/pr_l3.pdf\">Review of linear algebra and MATLAB</a><br>\n",
    "\n",
    "G. Strang, Linear Algebra and Its Applications"
   ]
  },
  {
   "cell_type": "code",
   "execution_count": null,
   "metadata": {},
   "outputs": [],
   "source": []
  }
 ],
 "metadata": {
  "kernelspec": {
   "display_name": "Python 3 (ipykernel)",
   "language": "python",
   "name": "python3"
  },
  "language_info": {
   "codemirror_mode": {
    "name": "ipython",
    "version": 3
   },
   "file_extension": ".py",
   "mimetype": "text/x-python",
   "name": "python",
   "nbconvert_exporter": "python",
   "pygments_lexer": "ipython3",
   "version": "3.11.7"
  },
  "metadata": {
   "interpreter": {
    "hash": "916dbcbb3f70747c44a77c7bcd40155683ae19c65e1c03b4aa3499c5328201f1"
   }
  }
 },
 "nbformat": 4,
 "nbformat_minor": 4
}
