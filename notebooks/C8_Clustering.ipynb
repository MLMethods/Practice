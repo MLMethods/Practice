{
 "cells": [
  {
   "cell_type": "markdown",
   "metadata": {},
   "source": [
    "# CЕМИНАР. Кластеризация\n",
    "---\n",
    "\n",
    "Папулин С.Ю. (papulin.study@yandex.ru)"
   ]
  },
  {
   "cell_type": "markdown",
   "metadata": {},
   "source": [
    "### Содержание\n",
    "\n",
    "- [Генерация данных](#Генерация-данных)\n",
    "- [Метод k-средних (KMeans)](#Метод-k-средних-(KMeans))\n",
    "- [Иерархическая кластеризация (Agglomerative Clustering)](#Иерархическая-кластеризация (Agglomerative-Clustering))\n",
    "- [Кластеризация по плотности (DBSCAN)](#Кластеризация-по-плотности-(DBSCAN))\n",
    "- [Кластеризация изображений цифр](#Кластеризация-изображений-цифр)\n",
    "- [Источники](#Источники)"
   ]
  },
  {
   "cell_type": "markdown",
   "metadata": {},
   "source": [
    "Подключение библиотек:"
   ]
  },
  {
   "cell_type": "code",
   "execution_count": null,
   "metadata": {},
   "outputs": [],
   "source": [
    "import numpy as np\n",
    "import matplotlib.pyplot as plt\n",
    "\n",
    "from sklearn.cluster import KMeans\n",
    "from sklearn.cluster import AgglomerativeClustering\n",
    "from sklearn.cluster import DBSCAN\n",
    "\n",
    "from sklearn import metrics\n",
    "\n",
    "from sklearn.datasets import make_blobs\n",
    "\n",
    "%matplotlib inline"
   ]
  },
  {
   "cell_type": "code",
   "execution_count": null,
   "metadata": {},
   "outputs": [],
   "source": [
    "from matplotlib.colors import ListedColormap"
   ]
  },
  {
   "cell_type": "code",
   "execution_count": null,
   "metadata": {},
   "outputs": [],
   "source": [
    "clr_map = ListedColormap([\"blue\", \"red\", \"green\", \"yellow\", \"purple\"])"
   ]
  },
  {
   "cell_type": "markdown",
   "metadata": {},
   "source": [
    "## Генерация данных"
   ]
  },
  {
   "cell_type": "code",
   "execution_count": null,
   "metadata": {},
   "outputs": [],
   "source": [
    "from sklearn import datasets"
   ]
  },
  {
   "cell_type": "code",
   "execution_count": null,
   "metadata": {},
   "outputs": [],
   "source": [
    "NUM_SAMPLES = 500\n",
    "RANDOM_STATE = 12345"
   ]
  },
  {
   "cell_type": "code",
   "execution_count": null,
   "metadata": {},
   "outputs": [],
   "source": [
    "datums = [\n",
    "    (\"merce\", datasets.make_classification(\n",
    "        n_samples=NUM_SAMPLES, \n",
    "        n_features=2, \n",
    "        n_redundant=0,\n",
    "        n_informative=2, \n",
    "        n_clusters_per_class=1, \n",
    "        n_classes=3, \n",
    "        class_sep=2,\n",
    "        random_state=RANDOM_STATE)\n",
    "    ),\n",
    "    (\"blobs\", datasets.make_blobs(\n",
    "        n_samples=NUM_SAMPLES, \n",
    "        n_features=2, \n",
    "        centers=5, \n",
    "        cluster_std=1.5, \n",
    "        random_state=RANDOM_STATE)\n",
    "    ),\n",
    "    (\"moons\", datasets.make_moons(n_samples=NUM_SAMPLES, noise=0.1)),\n",
    "    (\"circles\", datasets.make_circles(n_samples=NUM_SAMPLES, factor=0.1, noise=0.1)),\n",
    "    (\"none\", (np.random.rand(NUM_SAMPLES, 2), np.zeros(NUM_SAMPLES)))\n",
    "]"
   ]
  },
  {
   "cell_type": "code",
   "execution_count": null,
   "metadata": {},
   "outputs": [],
   "source": [
    "plt.figure(figsize=[14, 6])\n",
    "\n",
    "for indx, (title, data) in enumerate(datums):\n",
    "    \n",
    "    X, labels = data\n",
    "    \n",
    "    plt.subplot(2,5,indx+1)\n",
    "    plt.title(\"{}: initial\".format(title))\n",
    "    plt.scatter(X[:,0], X[:,1])\n",
    "    plt.xlabel(\"$X_1$\")\n",
    "    plt.ylabel(\"$X_2$\")\n",
    "    plt.grid(True)\n",
    "    \n",
    "    plt.subplot(2,5,indx+1+5)\n",
    "    plt.title(\"{}: true labels\".format(title))\n",
    "    plt.scatter(X[:,0], X[:,1], c=labels, cmap=clr_map)\n",
    "    plt.xlabel(\"$X_1$\")\n",
    "    plt.ylabel(\"$X_2$\")\n",
    "    plt.grid(True)\n",
    "\n",
    "plt.tight_layout()\n",
    "plt.show()"
   ]
  },
  {
   "cell_type": "markdown",
   "metadata": {},
   "source": [
    "## Метод k-средних"
   ]
  },
  {
   "cell_type": "markdown",
   "metadata": {},
   "source": [
    "<p><a href=\"http://scikit-learn.org/stable/modules/generated/sklearn.cluster.KMeans.html\">KMeans</a></p>"
   ]
  },
  {
   "cell_type": "code",
   "execution_count": null,
   "metadata": {},
   "outputs": [],
   "source": [
    "X, labels = datums[1][1]"
   ]
  },
  {
   "cell_type": "code",
   "execution_count": null,
   "metadata": {},
   "outputs": [],
   "source": [
    "plt.title(\"Initial data\")\n",
    "plt.scatter(X[:, 0], X[:, 1])\n",
    "plt.grid(True)\n",
    "plt.show()"
   ]
  },
  {
   "cell_type": "code",
   "execution_count": null,
   "metadata": {},
   "outputs": [],
   "source": [
    "# Обучение\n",
    "model = KMeans(n_clusters=5, \n",
    "               max_iter=100, \n",
    "               init=\"random\",\n",
    "               n_init=1,\n",
    "               random_state=10)\n",
    "model.fit(X)\n",
    "\n",
    "# Центроиды кластеров\n",
    "centroids = model.cluster_centers_ \n",
    "\n",
    "# Предсказания кластеров\n",
    "labels_pred = model.labels_  \n",
    "# или \n",
    "labels_pred = model.predict(X)\n",
    "\n",
    "print(\"Inertia:\", model.inertia_)\n",
    "print(\"Centroids:\\n{}\".format(centroids))\n",
    "print(\"Pred labels (first 5): {}\".format(labels_pred[:5]))"
   ]
  },
  {
   "cell_type": "code",
   "execution_count": null,
   "metadata": {},
   "outputs": [],
   "source": [
    "# Отображение предсказанных кластеров\n",
    "plt.figure(figsize=[6, 4])\n",
    "plt.title(\"Number of clusters: 5\")\n",
    "plt.scatter(X[:, 0], X[:, 1], c=labels_pred, cmap=clr_map)\n",
    "plt.scatter(centroids[:, 0], centroids[:, 1], marker=\"o\",\n",
    "            s=80, color=\"white\", linewidth=3, edgecolors=\"black\", zorder=5)\n",
    "plt.grid(True)\n",
    "plt.show()"
   ]
  },
  {
   "cell_type": "markdown",
   "metadata": {},
   "source": [
    "Измените значение параметра `n_init` на 10 и посморите, что изменится."
   ]
  },
  {
   "cell_type": "markdown",
   "metadata": {},
   "source": [
    "### Итерации"
   ]
  },
  {
   "cell_type": "code",
   "execution_count": null,
   "metadata": {},
   "outputs": [],
   "source": [
    "# Замечание: Дважды запустите ячейку\n",
    "\n",
    "%matplotlib notebook\n",
    "from matplotlib.animation import FuncAnimation"
   ]
  },
  {
   "cell_type": "code",
   "execution_count": null,
   "metadata": {},
   "outputs": [],
   "source": [
    "fig, ax = plt.subplots(figsize=[8,6])\n",
    "data_plot = plt.scatter(X[:,0], X[:,1], cmap=clr_map)\n",
    "centroid_plot = plt.scatter([], [], \n",
    "                            marker=\"o\", s=80, color=\"white\", \n",
    "                            linewidth=3, edgecolors=\"black\",  \n",
    "                            zorder=5)\n",
    "\n",
    "\n",
    "def init():\n",
    "    ax.set_title(\"Initial State\")\n",
    "    ax.set_xlabel(\"$X_1$\")\n",
    "    ax.set_ylabel(\"$X_2$\")\n",
    "    ax.grid(True)\n",
    "\n",
    "def update(frame):\n",
    "\n",
    "    model = KMeans(n_clusters=5, max_iter=frame, \n",
    "                   init=np.asarray([[2,2],[1,1],[3,3], [4,4], [5,5]]), \n",
    "                   random_state=RANDOM_STATE, n_init=1)\n",
    "    \n",
    "    model.fit(X)\n",
    "\n",
    "    labels_pred = model.labels_\n",
    "    centroids = model.cluster_centers_\n",
    "    \n",
    "    data_plot.set_array(labels_pred)\n",
    "    centroid_plot.set_offsets(centroids)\n",
    "    ax.set_title(\"Iteration {}\".format(frame))\n",
    "\n",
    "\n",
    "ani = FuncAnimation(fig, update, \n",
    "                    frames=np.arange(1, 10),\n",
    "                    init_func=init, interval=2000,\n",
    "                    repeat=False,\n",
    "                    blit=False)\n",
    "plt.show()"
   ]
  },
  {
   "cell_type": "code",
   "execution_count": null,
   "metadata": {},
   "outputs": [],
   "source": [
    "# Замечание: Дважды запустите ячейку\n",
    "\n",
    "%matplotlib inline"
   ]
  },
  {
   "cell_type": "markdown",
   "metadata": {},
   "source": [
    "### Разные наборы данных"
   ]
  },
  {
   "cell_type": "code",
   "execution_count": null,
   "metadata": {},
   "outputs": [],
   "source": [
    "models = [\n",
    "    KMeans(n_clusters=3, max_iter=300, init=\"random\", random_state=RANDOM_STATE, n_init=1),\n",
    "    KMeans(n_clusters=5, max_iter=300, init=\"random\", random_state=RANDOM_STATE, n_init=1),\n",
    "    KMeans(n_clusters=2, max_iter=300, init=\"random\", random_state=RANDOM_STATE, n_init=1),\n",
    "    KMeans(n_clusters=2, max_iter=300, init=\"random\", random_state=RANDOM_STATE, n_init=1),\n",
    "    KMeans(n_clusters=2, max_iter=300, init=\"random\", random_state=RANDOM_STATE, n_init=1),\n",
    "]"
   ]
  },
  {
   "cell_type": "code",
   "execution_count": null,
   "metadata": {},
   "outputs": [],
   "source": [
    "plt.figure(figsize=[14, 9])\n",
    "\n",
    "for indx, (title, data) in enumerate(datums):\n",
    "    \n",
    "    X, labels = data\n",
    "    models[indx].fit(X)\n",
    "    labels_pred = models[indx].labels_\n",
    "    \n",
    "    \n",
    "    plt.subplot(3,5,indx+1)\n",
    "    plt.title(\"{}: initial\".format(title))\n",
    "    plt.scatter(X[:,0], X[:,1])\n",
    "    plt.xlabel(\"$X_1$\")\n",
    "    plt.ylabel(\"$X_2$\")\n",
    "    plt.grid(True)\n",
    "    \n",
    "    plt.subplot(3,5,indx+1+5)\n",
    "    plt.title(\"{}: true labels\".format(title))\n",
    "    plt.scatter(X[:,0], X[:,1], c=labels, cmap=clr_map)\n",
    "    plt.xlabel(\"$X_1$\")\n",
    "    plt.ylabel(\"$X_2$\")\n",
    "    plt.grid(True)\n",
    "    \n",
    "    plt.subplot(3,5,indx+1+10)\n",
    "    plt.title(\"{}: pred labels\".format(title))\n",
    "    plt.scatter(X[:,0], X[:,1], c=labels_pred, cmap=clr_map)\n",
    "    plt.xlabel(\"$X_1$\")\n",
    "    plt.ylabel(\"$X_2$\")\n",
    "    plt.grid(True)\n",
    "\n",
    "plt.tight_layout()\n",
    "plt.show()"
   ]
  },
  {
   "cell_type": "markdown",
   "metadata": {
    "collapsed": true
   },
   "source": [
    "## Иерархическая кластеризация"
   ]
  },
  {
   "cell_type": "markdown",
   "metadata": {},
   "source": [
    "<a href=\"http://scikit-learn.org/stable/modules/generated/sklearn.cluster.AgglomerativeClustering.html\">AgglomerativeClustering</a>"
   ]
  },
  {
   "cell_type": "code",
   "execution_count": null,
   "metadata": {},
   "outputs": [],
   "source": [
    "models = [\n",
    "    AgglomerativeClustering(n_clusters=3, affinity=\"euclidean\", linkage=\"average\"),\n",
    "    AgglomerativeClustering(n_clusters=5, affinity=\"euclidean\", linkage=\"complete\"),\n",
    "    AgglomerativeClustering(n_clusters=2, affinity=\"euclidean\", linkage=\"single\"),\n",
    "    AgglomerativeClustering(n_clusters=2, affinity=\"euclidean\", linkage=\"single\"),\n",
    "    AgglomerativeClustering(n_clusters=2, affinity=\"euclidean\", linkage=\"average\")\n",
    "]"
   ]
  },
  {
   "cell_type": "code",
   "execution_count": null,
   "metadata": {},
   "outputs": [],
   "source": [
    "plt.figure(figsize=[14, 9])\n",
    "\n",
    "for indx, (title, data) in enumerate(datums):\n",
    "    \n",
    "    X, labels = data\n",
    "    models[indx].fit(X)\n",
    "    labels_pred = models[indx].labels_\n",
    "    \n",
    "    \n",
    "    plt.subplot(3,5,indx+1)\n",
    "    plt.title(\"{}: initial\".format(title))\n",
    "    plt.scatter(X[:,0], X[:,1])\n",
    "    plt.xlabel(\"$X_1$\")\n",
    "    plt.ylabel(\"$X_2$\")\n",
    "    plt.grid(True)\n",
    "    \n",
    "    plt.subplot(3,5,indx+1+5)\n",
    "    plt.title(\"{}: true labels\".format(title))\n",
    "    plt.scatter(X[:,0], X[:,1], c=labels, cmap=clr_map)\n",
    "    plt.xlabel(\"$X_1$\")\n",
    "    plt.ylabel(\"$X_2$\")\n",
    "    plt.grid(True)\n",
    "    \n",
    "    plt.subplot(3,5,indx+1+10)\n",
    "    plt.title(\"{}: pred labels\".format(title))\n",
    "    plt.scatter(X[:,0], X[:,1], c=labels_pred, cmap=clr_map)\n",
    "    plt.xlabel(\"$X_1$\")\n",
    "    plt.ylabel(\"$X_2$\")\n",
    "    plt.grid(True)\n",
    "\n",
    "plt.tight_layout()\n",
    "plt.show()"
   ]
  },
  {
   "cell_type": "markdown",
   "metadata": {},
   "source": [
    "## Кластеризация по плотности"
   ]
  },
  {
   "cell_type": "markdown",
   "metadata": {},
   "source": [
    "<a href=\"http://scikit-learn.org/stable/modules/generated/sklearn.cluster.DBSCAN.html\">DBSCAN</a>"
   ]
  },
  {
   "cell_type": "code",
   "execution_count": null,
   "metadata": {},
   "outputs": [],
   "source": [
    "models = [\n",
    "    DBSCAN(min_samples=4, eps=0.5, metric=\"euclidean\"),\n",
    "    DBSCAN(min_samples=4, eps=0.5, metric=\"euclidean\"),\n",
    "    DBSCAN(min_samples=10, eps=0.2, metric=\"euclidean\"),\n",
    "    DBSCAN(min_samples=4, eps=0.3, metric=\"euclidean\"),\n",
    "    DBSCAN(min_samples=4, eps=0.3, metric=\"euclidean\")\n",
    "]"
   ]
  },
  {
   "cell_type": "code",
   "execution_count": null,
   "metadata": {
    "scrolled": false
   },
   "outputs": [],
   "source": [
    "plt.figure(figsize=[14, 9])\n",
    "\n",
    "for indx, (title, data) in enumerate(datums):\n",
    "    \n",
    "    X, labels = data\n",
    "    models[indx].fit(X)\n",
    "    labels_pred = models[indx].labels_\n",
    "    \n",
    "    \n",
    "    plt.subplot(3,5,indx+1)\n",
    "    plt.title(\"{}: initial\".format(title))\n",
    "    plt.scatter(X[:,0], X[:,1])\n",
    "    plt.xlabel(\"$X_1$\")\n",
    "    plt.ylabel(\"$X_2$\")\n",
    "    plt.grid(True)\n",
    "    \n",
    "    plt.subplot(3,5,indx+1+5)\n",
    "    plt.title(\"{}: true labels\".format(title))\n",
    "    plt.scatter(X[:,0], X[:,1], c=labels, cmap=clr_map)\n",
    "    plt.xlabel(\"$X_1$\")\n",
    "    plt.ylabel(\"$X_2$\")\n",
    "    plt.grid(True)\n",
    "    \n",
    "    plt.subplot(3,5,indx+1+10)\n",
    "    plt.title(\"{}: pred labels\".format(title))\n",
    "    plt.scatter(X[:,0], X[:,1], c=labels_pred, cmap=clr_map)\n",
    "    plt.xlabel(\"$X_1$\")\n",
    "    plt.ylabel(\"$X_2$\")\n",
    "    plt.grid(True)\n",
    "\n",
    "plt.tight_layout()\n",
    "plt.show()"
   ]
  },
  {
   "cell_type": "markdown",
   "metadata": {
    "collapsed": true
   },
   "source": [
    "## Кластеризация изображений цифр"
   ]
  },
  {
   "cell_type": "code",
   "execution_count": null,
   "metadata": {},
   "outputs": [],
   "source": [
    "from sklearn import datasets"
   ]
  },
  {
   "cell_type": "code",
   "execution_count": null,
   "metadata": {},
   "outputs": [],
   "source": [
    "RANDOM_STATE = 12345\n",
    "NUM_CLUSTERS = 10\n",
    "NUM_DISPLAY_IMAGES = 10"
   ]
  },
  {
   "cell_type": "code",
   "execution_count": null,
   "metadata": {},
   "outputs": [],
   "source": [
    "# Загрузка исходных данных\n",
    "digits = datasets.load_digits()\n",
    "\n",
    "IMAGE_INDX = 3\n",
    "\n",
    "# Отображение одного изображения\n",
    "print(\"Image:\")\n",
    "plt.imshow(digits.images[IMAGE_INDX])\n",
    "plt.show()\n",
    "print(\"Feature matrix:\\n\", digits.images[IMAGE_INDX])\n",
    "print(\"\\nTarget value:\", digits.target[IMAGE_INDX])"
   ]
  },
  {
   "cell_type": "markdown",
   "metadata": {},
   "source": [
    "### Обучение"
   ]
  },
  {
   "cell_type": "code",
   "execution_count": null,
   "metadata": {},
   "outputs": [],
   "source": [
    "# Преобразование исходных данных\n",
    "# Замечание: digits.data уже содержит преобразованные данные\n",
    "X = digits.images.reshape(len(digits.images), -1)\n",
    "labels_true = digits.target\n",
    "\n",
    "# Кластеризация\n",
    "model = KMeans(n_clusters=NUM_CLUSTERS, n_init=10, random_state=RANDOM_STATE)\n",
    "model.fit(X)\n",
    "\n",
    "# Выявленные кластеры\n",
    "labels_pred = model.labels_\n",
    "\n",
    "for label in range(NUM_CLUSTERS):\n",
    "\n",
    "    # Индексы элементов кластера label\n",
    "    labels_pred__indices = np.asarray(labels_pred==label).nonzero()[0]\n",
    "    \n",
    "    # Выбираем случайным образом 10 индексов элементов кластера label\n",
    "    np.random.seed(RANDOM_STATE)\n",
    "    labels_pred___indices_ = np.random.choice(labels_pred__indices, NUM_DISPLAY_IMAGES, replace=False)\n",
    "    \n",
    "    # Отображения выбранных элементов кластера\n",
    "    print(\"Cluster label:\", label)\n",
    "    plt.figure(figsize=[14, 4])\n",
    "    for i in range(NUM_DISPLAY_IMAGES):\n",
    "        plt.subplot(1, NUM_DISPLAY_IMAGES, i+1)\n",
    "        plt.title(labels_pred___indices_[i])\n",
    "        plt.imshow(digits.images[labels_pred___indices_[i]])\n",
    "        plt.axis(\"off\")\n",
    "    plt.show()"
   ]
  },
  {
   "cell_type": "markdown",
   "metadata": {},
   "source": [
    "### Вывод ошибок"
   ]
  },
  {
   "cell_type": "code",
   "execution_count": null,
   "metadata": {},
   "outputs": [],
   "source": [
    "true_indx = 4\n",
    "pred_indx = 8\n",
    "\n",
    "true__indices = np.asarray(labels_true==true_indx)\n",
    "pred__indices = np.asarray(labels_pred==pred_indx)\n",
    "\n",
    "mismatched__indices = np.asarray(pred__indices!=true__indices).nonzero()[0]\n",
    "\n",
    "print(\"Total errors: {} out of {} samples\".format(mismatched__indices.size, labels_true.size))\n",
    "\n",
    "np.random.seed(RANDOM_STATE)\n",
    "mismatched__indices_ = np.random.choice(mismatched__indices, NUM_DISPLAY_IMAGES, replace=False)\n",
    "\n",
    "\n",
    "# Отображения выбранных элементов кластера\n",
    "plt.figure(figsize=[14, 4])\n",
    "for i in range(NUM_DISPLAY_IMAGES):\n",
    "    image_indx = mismatched__indices_[i]\n",
    "    plt.subplot(1, NUM_DISPLAY_IMAGES, i+1)\n",
    "    plt.title(\"{}\\nTrue: {}\\nPred: {}\".format(image_indx, \n",
    "                                            labels_true[image_indx],\n",
    "                                            labels_pred[image_indx]))\n",
    "    plt.imshow(digits.images[image_indx])\n",
    "    plt.axis(\"off\")\n",
    "plt.show()"
   ]
  },
  {
   "cell_type": "markdown",
   "metadata": {},
   "source": [
    "### Метрики"
   ]
  },
  {
   "cell_type": "code",
   "execution_count": null,
   "metadata": {},
   "outputs": [],
   "source": [
    "from sklearn.metrics.cluster import contingency_matrix"
   ]
  },
  {
   "cell_type": "code",
   "execution_count": null,
   "metadata": {},
   "outputs": [],
   "source": [
    "contingency_matrix(labels_true, labels_pred)"
   ]
  },
  {
   "cell_type": "markdown",
   "metadata": {
    "scrolled": true
   },
   "source": [
    "## Источники"
   ]
  },
  {
   "cell_type": "markdown",
   "metadata": {},
   "source": [
    "[Clustering](http://scikit-learn.org/stable/modules/clustering.html)"
   ]
  },
  {
   "cell_type": "code",
   "execution_count": null,
   "metadata": {},
   "outputs": [],
   "source": []
  }
 ],
 "metadata": {
  "kernelspec": {
   "display_name": "Python 3",
   "language": "python",
   "name": "python3"
  },
  "language_info": {
   "codemirror_mode": {
    "name": "ipython",
    "version": 3
   },
   "file_extension": ".py",
   "mimetype": "text/x-python",
   "name": "python",
   "nbconvert_exporter": "python",
   "pygments_lexer": "ipython3",
   "version": "3.7.3"
  }
 },
 "nbformat": 4,
 "nbformat_minor": 1
}
