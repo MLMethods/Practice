{
 "cells": [
  {
   "cell_type": "markdown",
   "metadata": {},
   "source": [
    "# Statistical Inference and Linear Regression\n",
    "\n",
    "<hr>\n",
    "\n",
    "Sergei Yu. Papulin (papulin.study@yandex.ru)"
   ]
  },
  {
   "cell_type": "markdown",
   "metadata": {},
   "source": [
    "### Contents\n",
    "\n",
    "1. [Loading Initial Data](#Loading-Initial-Data)\n",
    "2. [Simple Regression](#Simple-Regression)\n",
    "    - Estimating Parameters using OLS\n",
    "    - Estimating Standard Errors\n",
    "    - Confidence and Prediction Intervals\n",
    "    - Hypothesis Tests\n",
    "3. [Multiple Linear Regression](#Multiple-Linear-Regression)\n",
    "    - Estimating Parameters using OLS\n",
    "    - Estimating Standard Errors\n",
    "    - Confidence and Prediction Intervals\n",
    "    - Hypothesis Tests\n",
    "    - Using Statsmodels Library\n",
    "4. [References](#References)\n",
    " "
   ]
  },
  {
   "cell_type": "markdown",
   "metadata": {},
   "source": [
    "Import modules and functions that will be used later"
   ]
  },
  {
   "cell_type": "code",
   "execution_count": null,
   "metadata": {},
   "outputs": [],
   "source": [
    "import numpy as np\n",
    "import pandas as pd\n",
    "\n",
    "from scipy import stats\n",
    "from numpy.linalg import inv\n",
    "\n",
    "import matplotlib.pyplot as plt\n",
    "from mpl_toolkits.mplot3d import Axes3D\n",
    "from matplotlib import cm\n",
    "%matplotlib inline"
   ]
  },
  {
   "cell_type": "code",
   "execution_count": null,
   "metadata": {},
   "outputs": [],
   "source": [
    "import sys\n",
    "sys.path.insert(1, \"../lib/\")\n",
    "import plot_stats as plot_stats"
   ]
  },
  {
   "cell_type": "markdown",
   "metadata": {},
   "source": [
    "## Loading Initial Data"
   ]
  },
  {
   "cell_type": "code",
   "execution_count": null,
   "metadata": {},
   "outputs": [],
   "source": [
    "FILE_PATH = \"../data/Advertising.csv\""
   ]
  },
  {
   "cell_type": "code",
   "execution_count": null,
   "metadata": {
    "scrolled": true
   },
   "outputs": [],
   "source": [
    "df = pd.read_csv(FILE_PATH, sep=\",\", index_col=0)\n",
    "df.head(5)"
   ]
  },
  {
   "cell_type": "markdown",
   "metadata": {},
   "source": [
    "## Simple Regression"
   ]
  },
  {
   "cell_type": "code",
   "execution_count": null,
   "metadata": {},
   "outputs": [],
   "source": [
    "# Scatter plot\n",
    "\n",
    "x = df[\"TV\"].to_numpy()\n",
    "y = df[\"sales\"].to_numpy()\n",
    "\n",
    "plt.figure(\"1\", figsize=[10, 6])\n",
    "\n",
    "plt.subplot(1,1,1)\n",
    "plt.title(\"TV advertisement - Sales\")\n",
    "plt.scatter(x, y, color=\"slategrey\")\n",
    "plt.xlabel(\"TV\")\n",
    "plt.ylabel(\"sales\")\n",
    "plt.grid(True)\n",
    "\n",
    "plt.show()"
   ]
  },
  {
   "cell_type": "markdown",
   "metadata": {},
   "source": [
    "### Estimating Parameters using OLS"
   ]
  },
  {
   "cell_type": "markdown",
   "metadata": {},
   "source": [
    "$$\\hat{\\theta}=\\left(\\begin{matrix}{\\hat{\\theta}}_0\\\\\\begin{matrix}{\\hat{\\theta}}_1\\\\\\vdots\\\\\\end{matrix}\\\\{\\hat{\\theta}}_p\\\\\\end{matrix}\\right)=\\left(X^TX\\right)^{-1}X^Ty$$"
   ]
  },
  {
   "cell_type": "code",
   "execution_count": null,
   "metadata": {},
   "outputs": [],
   "source": [
    "X = np.array(np.c_[np.ones(x.size), x])\n",
    "w, residuals, rank, s = np.linalg.lstsq(X, y.reshape(y.size, 1), rcond=None)\n",
    "w0, w1 = w[0,0], w[1,0]\n",
    "w0, w1 "
   ]
  },
  {
   "cell_type": "code",
   "execution_count": null,
   "metadata": {},
   "outputs": [],
   "source": [
    "y_pred = w0 + w1*x\n",
    "y_pred[:5]"
   ]
  },
  {
   "cell_type": "code",
   "execution_count": null,
   "metadata": {},
   "outputs": [],
   "source": [
    "# Scatter plot\n",
    "\n",
    "plt.figure(\"1\", figsize=[12, 4])\n",
    "\n",
    "plt.subplot(1,2,1)\n",
    "plt.title(\"Linear Regression\")\n",
    "plt.scatter(x, y, color=\"slategrey\")\n",
    "plt.xlabel(\"TV\")\n",
    "plt.ylabel(\"sales\")\n",
    "plt.grid(True)\n",
    "\n",
    "\n",
    "# Linear Functions\n",
    "\n",
    "x_min_max_indx = np.array([x.argmin(), x.argmax()])\n",
    "plt.plot(x[x_min_max_indx], y_pred[x_min_max_indx], \"-r\", label=\"$f_1(x)=0.9*x+0.3$\")\n",
    "\n",
    "\n",
    "plt.subplot(1,2,2)\n",
    "plt.title(\"Residual Plot\")\n",
    "plt.scatter(x, y-y_pred, color=\"slategrey\")\n",
    "plt.xlabel(\"TV\")\n",
    "plt.ylabel(\"sales\")\n",
    "plt.grid(True)\n",
    "\n",
    "\n",
    "plt.show()"
   ]
  },
  {
   "cell_type": "markdown",
   "metadata": {},
   "source": [
    "### Estimating Standard Errors"
   ]
  },
  {
   "cell_type": "markdown",
   "metadata": {},
   "source": [
    "Mean:"
   ]
  },
  {
   "cell_type": "code",
   "execution_count": null,
   "metadata": {},
   "outputs": [],
   "source": [
    "x_mean = x.mean()\n",
    "x_mean"
   ]
  },
  {
   "cell_type": "markdown",
   "metadata": {},
   "source": [
    "Resuduals:"
   ]
  },
  {
   "cell_type": "code",
   "execution_count": null,
   "metadata": {},
   "outputs": [],
   "source": [
    "e = y - y_pred\n",
    "e[:5]"
   ]
  },
  {
   "cell_type": "markdown",
   "metadata": {},
   "source": [
    "Residual standard error:\n",
    "\n",
    "$$s^2=\\frac{1}{n-2}\\sum_{i=1}^{n}\\left(y_i-{\\hat{y}}_i\\right)^2$$"
   ]
  },
  {
   "cell_type": "code",
   "execution_count": null,
   "metadata": {},
   "outputs": [],
   "source": [
    "s = e.std(ddof=2)\n",
    "s"
   ]
  },
  {
   "cell_type": "markdown",
   "metadata": {},
   "source": [
    "Standard error of the estimate $\\theta_0$:\n",
    "\n",
    "$$SE({\\hat{\\theta}}_0)=s\\sqrt{\\frac{1}{n}+\\frac{{\\bar{x}}^2}{\\sum_{i=1}^{n}\\left(x_i-\\bar{x}\\right)^2}}$$"
   ]
  },
  {
   "cell_type": "code",
   "execution_count": null,
   "metadata": {},
   "outputs": [],
   "source": [
    "def SE_w0(x, x_mean, s):\n",
    "    n = x.size\n",
    "    return (s**2*(1/n + x_mean**2/((x - x_mean)**2).sum()))**0.5"
   ]
  },
  {
   "cell_type": "code",
   "execution_count": null,
   "metadata": {},
   "outputs": [],
   "source": [
    "se_w0 = SE_w0(x, x_mean, s)\n",
    "se_w0"
   ]
  },
  {
   "cell_type": "markdown",
   "metadata": {},
   "source": [
    "Standard error of the estimate $\\theta_1$:\n",
    "\n",
    "$$SE({\\hat{\\theta}}_1)=\\frac{s}{\\sqrt{\\sum_{i=1}^{n}\\left(x_i-\\bar{x}\\right)^2}}$$"
   ]
  },
  {
   "cell_type": "code",
   "execution_count": null,
   "metadata": {},
   "outputs": [],
   "source": [
    "def SE_w1(x, x_mean, s):\n",
    "    n = x.size\n",
    "    return (s**2/((x - x_mean)**2).sum())**0.5"
   ]
  },
  {
   "cell_type": "code",
   "execution_count": null,
   "metadata": {},
   "outputs": [],
   "source": [
    "se_w1 = SE_w1(x, x_mean, s)\n",
    "se_w1"
   ]
  },
  {
   "cell_type": "markdown",
   "metadata": {},
   "source": [
    "### Confidence and Prediction Intervals"
   ]
  },
  {
   "cell_type": "markdown",
   "metadata": {},
   "source": [
    "#### Confidence Intervals for parameters"
   ]
  },
  {
   "cell_type": "code",
   "execution_count": null,
   "metadata": {},
   "outputs": [],
   "source": [
    "ALPHA = 0.05"
   ]
  },
  {
   "cell_type": "code",
   "execution_count": null,
   "metadata": {},
   "outputs": [],
   "source": [
    "dof = y.size - 2"
   ]
  },
  {
   "cell_type": "code",
   "execution_count": null,
   "metadata": {},
   "outputs": [],
   "source": [
    "t_alpha = stats.t.ppf(1 - ALPHA/2, dof) \n",
    "t_alpha"
   ]
  },
  {
   "cell_type": "markdown",
   "metadata": {},
   "source": [
    "$${\\hat{\\theta}}_0\\pm  t_{1-\\alpha/2,n-2}SE({\\hat{\\theta}}_0)$$"
   ]
  },
  {
   "cell_type": "code",
   "execution_count": null,
   "metadata": {},
   "outputs": [],
   "source": [
    "lower_ci_w0, upper_ci_w0 = w0 - t_alpha * se_w0, w0 + t_alpha * se_w0\n",
    "lower_ci_w0, upper_ci_w0"
   ]
  },
  {
   "cell_type": "markdown",
   "metadata": {},
   "source": [
    "$${\\hat{\\theta}}_1\\pm  t_{1-\\alpha/2,n-2}SE({\\hat{\\theta}}_1)$$"
   ]
  },
  {
   "cell_type": "code",
   "execution_count": null,
   "metadata": {},
   "outputs": [],
   "source": [
    "lower_ci_w1, upper_ci_w1 = w1 - t_alpha * se_w1, w1 + t_alpha * se_w1\n",
    "lower_ci_w1, upper_ci_w1"
   ]
  },
  {
   "cell_type": "markdown",
   "metadata": {},
   "source": [
    "#### Confidence Interval"
   ]
  },
  {
   "cell_type": "markdown",
   "metadata": {},
   "source": [
    "$$SE\\left({\\hat{y}}_i\\right)=\\sqrt{s^2\\left(\\frac{1}{n}+\\frac{\\left(x_i-\\bar{x}\\right)^2}{\\sum_{i=1}^{n}\\left(x_i-\\bar{x}\\right)^2}\\right)}$$"
   ]
  },
  {
   "cell_type": "code",
   "execution_count": null,
   "metadata": {},
   "outputs": [],
   "source": [
    "def SE_y(x, x_mean, s):\n",
    "    n = x.size\n",
    "    return (s**2*(1/n + (x - x_mean)**2/((x - x_mean)**2).sum()))**0.5"
   ]
  },
  {
   "cell_type": "code",
   "execution_count": null,
   "metadata": {},
   "outputs": [],
   "source": [
    "se_y = SE_y(x, x_mean, s)\n",
    "se_y[:5]"
   ]
  },
  {
   "cell_type": "markdown",
   "metadata": {},
   "source": [
    "$${\\hat{y}}_i\\pm t_{1-\\alpha/2,n-2}SE\\left({\\hat{y}}_i\\right)$$"
   ]
  },
  {
   "cell_type": "code",
   "execution_count": null,
   "metadata": {},
   "outputs": [],
   "source": [
    "lower_ci_y, upper_ci_y = y_pred - t_alpha*se_y, y_pred + t_alpha*se_y\n",
    "lower_ci_y[:5], upper_ci_y[:5]"
   ]
  },
  {
   "cell_type": "code",
   "execution_count": null,
   "metadata": {},
   "outputs": [],
   "source": [
    "# Scatter plot\n",
    "\n",
    "plt.figure(\"1\", figsize=[10, 6])\n",
    "\n",
    "plt.subplot(1,1,1)\n",
    "\n",
    "plt.title(\"Confidence Interval\")\n",
    "\n",
    "plt.scatter(x, y, color=\"slategrey\")\n",
    "plt.xlabel(\"TV\")\n",
    "plt.ylabel(\"sales\")\n",
    "plt.grid(True)\n",
    "\n",
    "\n",
    "# Linear Functions\n",
    "\n",
    "x_min_max_indx = np.array([x.argmin(), x.argmax()])\n",
    "\n",
    "plt.plot(x[x_min_max_indx], y_pred[x_min_max_indx], \"-\", \n",
    "         color=\"MidnightBlue\", \n",
    "         linewidth=2, \n",
    "         label=\"$f_{pred}(x)$\")\n",
    "\n",
    "\n",
    "# CI\n",
    "\n",
    "ci_y_stack = np.stack([x, upper_ci_y, lower_ci_y], axis=1)\n",
    "ci_y_sorted = ci_y_stack[ci_y_stack[:,0].argsort()]\n",
    "\n",
    "plt.fill_between(ci_y_sorted[:,0], ci_y_sorted[:,1], ci_y_sorted[:,2], \n",
    "                 facecolor=\"lightblue\", alpha=0.5, \n",
    "                 linewidth=0.5, edgecolor=\"blue\", label=\"CI\")\n",
    "\n",
    "\n",
    "plt.legend()\n",
    "\n",
    "#plt.tight_layout()\n",
    "plt.autoscale(True, tight=True)\n",
    "\n",
    "plt.show()"
   ]
  },
  {
   "cell_type": "markdown",
   "metadata": {},
   "source": [
    "#### Prediction Interval"
   ]
  },
  {
   "cell_type": "markdown",
   "metadata": {},
   "source": [
    "$$SE\\left(e\\right)=\\sqrt{s^2+{SE\\left({\\hat{y}}_i\\right)}^2}$$"
   ]
  },
  {
   "cell_type": "code",
   "execution_count": null,
   "metadata": {},
   "outputs": [],
   "source": [
    "def SE_e(x, x_mean, s):\n",
    "    n = x.size\n",
    "    return (s**2*(1 + 1/n + (x - x_mean)**2/((x - x_mean)**2).sum()))**0.5"
   ]
  },
  {
   "cell_type": "code",
   "execution_count": null,
   "metadata": {},
   "outputs": [],
   "source": [
    "se_e = SE_e(x, x_mean, s)\n",
    "se_e[:5]"
   ]
  },
  {
   "cell_type": "markdown",
   "metadata": {},
   "source": [
    "$${\\hat{y}}_\\ast\\pm t_{1-\\alpha/2,n-2}\\sqrt{s^2\\left(1+\\frac{1}{n}+\\frac{\\left(x_\\ast-\\bar{x}\\right)^2}{\\sum_{i=1}^{n}\\left(x_i-\\bar{x}\\right)^2}\\right)}$$"
   ]
  },
  {
   "cell_type": "code",
   "execution_count": null,
   "metadata": {},
   "outputs": [],
   "source": [
    "lower_ci_e, upper_ci_e = y_pred - t_alpha*se_e, y_pred + t_alpha*se_e\n",
    "lower_ci_e[:5], upper_ci_e[:5]"
   ]
  },
  {
   "cell_type": "code",
   "execution_count": null,
   "metadata": {},
   "outputs": [],
   "source": [
    "# Scatter plot\n",
    "\n",
    "plt.figure(\"1\", figsize=[10, 6])\n",
    "\n",
    "plt.subplot(1,1,1)\n",
    "\n",
    "plt.title(\"Prediction Interval\")\n",
    "\n",
    "plt.scatter(x, y, color=\"slategrey\")\n",
    "plt.xlabel(\"TV\")\n",
    "plt.ylabel(\"sales\")\n",
    "plt.grid(True)\n",
    "\n",
    "\n",
    "# Linear Functions\n",
    "\n",
    "x_min_max_indx = np.array([x.argmin(), x.argmax()])\n",
    "\n",
    "plt.plot(x[x_min_max_indx], y_pred[x_min_max_indx], \"-\", \n",
    "         color=\"MidnightBlue\", linewidth=2, \n",
    "         label=\"$f_{pred}(x)$\")\n",
    "\n",
    "\n",
    "\n",
    "# PI\n",
    "\n",
    "ci_e_stack = np.stack([x, upper_ci_e, lower_ci_e], axis=1)\n",
    "ci_e_sorted = ci_e_stack[ci_e_stack[:,0].argsort()]\n",
    "\n",
    "plt.fill_between(ci_e_sorted[:,0], ci_e_sorted[:,1], ci_e_sorted[:,2], \n",
    "                 facecolor=\"lightgreen\", alpha=0.5, \n",
    "                 linewidth=0.5, edgecolor=\"green\", \n",
    "                 label=\"PI\")\n",
    "\n",
    "\n",
    "# CI\n",
    "\n",
    "ci_y_stack = np.stack([x, upper_ci_y, lower_ci_y], axis=1)\n",
    "ci_y_sorted = ci_y_stack[ci_y_stack[:,0].argsort()]\n",
    "\n",
    "plt.fill_between(ci_y_sorted[:,0], ci_y_sorted[:,1], ci_y_sorted[:,2], \n",
    "                 facecolor=\"lightblue\", alpha=0.5, \n",
    "                 linewidth=0.5, edgecolor=\"blue\",\n",
    "                 label=\"CI\")\n",
    "\n",
    "plt.legend()\n",
    "\n",
    "plt.autoscale(True, tight=True)\n",
    "\n",
    "plt.show()"
   ]
  },
  {
   "cell_type": "markdown",
   "metadata": {},
   "source": [
    "### Hypothesis Tests"
   ]
  },
  {
   "cell_type": "markdown",
   "metadata": {},
   "source": [
    "#### t-Test"
   ]
  },
  {
   "cell_type": "markdown",
   "metadata": {},
   "source": [
    "$$H_0: \\theta_0=0$$\n",
    "\n",
    "$$H_a: \\theta_0\\neq0$$"
   ]
  },
  {
   "cell_type": "code",
   "execution_count": null,
   "metadata": {},
   "outputs": [],
   "source": [
    "def calc_t(x, mu, se):\n",
    "    return (x - mu) / se"
   ]
  },
  {
   "cell_type": "code",
   "execution_count": null,
   "metadata": {},
   "outputs": [],
   "source": [
    "t_w0 = calc_t(w0, 0, se_w0)\n",
    "t_w0"
   ]
  },
  {
   "cell_type": "code",
   "execution_count": null,
   "metadata": {},
   "outputs": [],
   "source": [
    "pvalue_t_w0 = 2 * stats.t.cdf(-abs(t_w0), dof)\n",
    "pvalue_t_w0"
   ]
  },
  {
   "cell_type": "code",
   "execution_count": null,
   "metadata": {},
   "outputs": [],
   "source": [
    "plt.figure(1, figsize=[8,4])\n",
    "\n",
    "plt.subplot(1,1,1)\n",
    "plot_stats.plot_two_tailed_pvalue_for_tdistribution(t_w0, dof, ALPHA, xlim=(-5, 20))\n",
    "\n",
    "plt.show()"
   ]
  },
  {
   "cell_type": "markdown",
   "metadata": {},
   "source": [
    "$$H_0: \\theta_1=0$$\n",
    "\n",
    "$$H_a: \\theta_1\\neq0$$"
   ]
  },
  {
   "cell_type": "code",
   "execution_count": null,
   "metadata": {},
   "outputs": [],
   "source": [
    "t_w1 = calc_t(w1, 0, se_w1)\n",
    "t_w1"
   ]
  },
  {
   "cell_type": "code",
   "execution_count": null,
   "metadata": {},
   "outputs": [],
   "source": [
    "pvalue_t_w1 = 2 * stats.t.cdf(-abs(t_w1),dof)\n",
    "pvalue_t_w1"
   ]
  },
  {
   "cell_type": "code",
   "execution_count": null,
   "metadata": {},
   "outputs": [],
   "source": [
    "plt.figure(2, figsize=[8,4])\n",
    "\n",
    "plt.subplot(1,1,1)\n",
    "plot_stats.plot_two_tailed_pvalue_for_tdistribution(t_w1, dof, ALPHA, xlim=(-5, 20))\n",
    "\n",
    "plt.show()"
   ]
  },
  {
   "cell_type": "markdown",
   "metadata": {},
   "source": [
    "## Multiple Linear Regression"
   ]
  },
  {
   "cell_type": "code",
   "execution_count": null,
   "metadata": {},
   "outputs": [],
   "source": [
    "# Scatter plot\n",
    "\n",
    "feature_clmns = [\"TV\", \"radio\", \"newspaper\"]\n",
    "response_clmn = \"sales\"\n",
    "\n",
    "X = df[feature_clmns].to_numpy()\n",
    "y = df[response_clmn].to_numpy()\n",
    "\n",
    "plt.figure(\"1\", figsize=[14, 4])\n",
    "\n",
    "for i in range(len(feature_clmns)):\n",
    "    plt.subplot(1, len(feature_clmns), i+1)\n",
    "    plt.title(\"{} advertisement - Sales\".format(feature_clmns[i]))\n",
    "    plt.scatter(X[:,i], y, color=\"slategrey\")\n",
    "    plt.xlabel(feature_clmns[i])\n",
    "    plt.ylabel(\"sales\")\n",
    "    plt.grid(True)\n",
    "\n",
    "plt.show()"
   ]
  },
  {
   "cell_type": "markdown",
   "metadata": {},
   "source": [
    "### Estimating Parameters using OLS"
   ]
  },
  {
   "cell_type": "code",
   "execution_count": null,
   "metadata": {},
   "outputs": [],
   "source": [
    "X_ext = np.c_[np.ones(y.size), X]\n",
    "w, residuals, rank, s = np.linalg.lstsq(X_ext, y.reshape(y.size, 1), rcond=None)\n",
    "w = w.flatten()\n",
    "w"
   ]
  },
  {
   "cell_type": "code",
   "execution_count": null,
   "metadata": {},
   "outputs": [],
   "source": [
    "num_params = w.size\n",
    "num_params"
   ]
  },
  {
   "cell_type": "code",
   "execution_count": null,
   "metadata": {},
   "outputs": [],
   "source": [
    "y_pred = X_ext.dot(w).flatten()\n",
    "y_pred[:5]"
   ]
  },
  {
   "cell_type": "code",
   "execution_count": null,
   "metadata": {},
   "outputs": [],
   "source": [
    "y_pred = w[0] + w[1]*X[:,0] + w[2]*X[:,1] + w[3]*X[:,2]\n",
    "y_pred[:5]"
   ]
  },
  {
   "cell_type": "markdown",
   "metadata": {},
   "source": [
    "### Estimating Standard Errors"
   ]
  },
  {
   "cell_type": "code",
   "execution_count": null,
   "metadata": {},
   "outputs": [],
   "source": [
    "e = y - y_pred\n",
    "e[:5]"
   ]
  },
  {
   "cell_type": "code",
   "execution_count": null,
   "metadata": {},
   "outputs": [],
   "source": [
    "s = e.std(ddof=num_params)\n",
    "s"
   ]
  },
  {
   "cell_type": "markdown",
   "metadata": {},
   "source": [
    "$$C = s^{2}(X^TX)^{-1}$$"
   ]
  },
  {
   "cell_type": "code",
   "execution_count": null,
   "metadata": {},
   "outputs": [],
   "source": [
    "inv_XTX = inv(X_ext.T.dot(X_ext))"
   ]
  },
  {
   "cell_type": "code",
   "execution_count": null,
   "metadata": {},
   "outputs": [],
   "source": [
    "C = s**2*inv_XTX\n",
    "C"
   ]
  },
  {
   "cell_type": "markdown",
   "metadata": {},
   "source": [
    "$$SE(\\hat{\\theta_i}) = \\sqrt{C_{ii}}$$"
   ]
  },
  {
   "cell_type": "code",
   "execution_count": null,
   "metadata": {},
   "outputs": [],
   "source": [
    "se_w = np.sqrt(C.diagonal())\n",
    "se_w"
   ]
  },
  {
   "cell_type": "markdown",
   "metadata": {},
   "source": [
    "### Confidence and Prediction Intervals"
   ]
  },
  {
   "cell_type": "markdown",
   "metadata": {},
   "source": [
    "#### Confidence Intervals for parameters"
   ]
  },
  {
   "cell_type": "code",
   "execution_count": null,
   "metadata": {},
   "outputs": [],
   "source": [
    "dof = y.size - num_params"
   ]
  },
  {
   "cell_type": "code",
   "execution_count": null,
   "metadata": {},
   "outputs": [],
   "source": [
    "t_alpha = stats.t.ppf(1 - ALPHA/2, dof) \n",
    "t_alpha"
   ]
  },
  {
   "cell_type": "code",
   "execution_count": null,
   "metadata": {},
   "outputs": [],
   "source": [
    "lower_ci_w, upper_ci_w = w - t_alpha * se_w, w + t_alpha * se_w\n",
    "lower_ci_w, upper_ci_w"
   ]
  },
  {
   "cell_type": "markdown",
   "metadata": {},
   "source": [
    "#### Confidence Interval"
   ]
  },
  {
   "cell_type": "code",
   "execution_count": null,
   "metadata": {},
   "outputs": [],
   "source": [
    "SE_y = lambda x: ((s**2*x.T.dot(inv_XTX).dot(x))**0.5).flatten()[0]\n",
    "CI_y =  lambda y_pred, se, t_alpha: (y_pred - t_alpha*se, y_pred + t_alpha*se)"
   ]
  },
  {
   "cell_type": "code",
   "execution_count": null,
   "metadata": {},
   "outputs": [],
   "source": [
    "x = X_ext[2,:]\n",
    "x"
   ]
  },
  {
   "cell_type": "code",
   "execution_count": null,
   "metadata": {},
   "outputs": [],
   "source": [
    "se_y = SE_y(x.reshape(num_params,1))\n",
    "se_y"
   ]
  },
  {
   "cell_type": "code",
   "execution_count": null,
   "metadata": {},
   "outputs": [],
   "source": [
    "lower_ci_y, upper_ci_y = CI_y(y_pred[0], se_y, t_alpha)\n",
    "lower_ci_y, upper_ci_y"
   ]
  },
  {
   "cell_type": "markdown",
   "metadata": {},
   "source": [
    "#### Prediction Interval"
   ]
  },
  {
   "cell_type": "code",
   "execution_count": null,
   "metadata": {},
   "outputs": [],
   "source": [
    "SE_e = lambda x: ((s**2*(1+x.T.dot(inv_XTX).dot(x)))**0.5).flatten()[0]\n",
    "CI_e =  lambda y_pred, se, t_alpha: (y_pred - t_alpha*se, y_pred + t_alpha*se)"
   ]
  },
  {
   "cell_type": "code",
   "execution_count": null,
   "metadata": {},
   "outputs": [],
   "source": [
    "x = X_ext[2,:]\n",
    "x"
   ]
  },
  {
   "cell_type": "code",
   "execution_count": null,
   "metadata": {},
   "outputs": [],
   "source": [
    "se_e = SE_e(x.reshape(num_params,1))\n",
    "se_e"
   ]
  },
  {
   "cell_type": "code",
   "execution_count": null,
   "metadata": {},
   "outputs": [],
   "source": [
    "lower_ci_e, upper_ci_e = CI_e(y_pred[0], se_e, t_alpha)\n",
    "lower_ci_e, upper_ci_e"
   ]
  },
  {
   "cell_type": "markdown",
   "metadata": {},
   "source": [
    "### Hypothesis Tests"
   ]
  },
  {
   "cell_type": "markdown",
   "metadata": {},
   "source": [
    "#### t-Test"
   ]
  },
  {
   "cell_type": "code",
   "execution_count": null,
   "metadata": {},
   "outputs": [],
   "source": [
    "t_w = calc_t(w, 0, se_w)\n",
    "t_w"
   ]
  },
  {
   "cell_type": "code",
   "execution_count": null,
   "metadata": {},
   "outputs": [],
   "source": [
    "pvalue_t = 2 * stats.t.cdf(-abs(t_w), dof)\n",
    "pvalue_t"
   ]
  },
  {
   "cell_type": "code",
   "execution_count": null,
   "metadata": {},
   "outputs": [],
   "source": [
    "plt.figure(4, figsize=[8,4])\n",
    "\n",
    "plt.subplot(1,1,1)\n",
    "plot_stats.plot_two_tailed_pvalue_for_tdistribution(t_w[3], dof, ALPHA, xlim=(-4, 4))\n",
    "\n",
    "plt.show()"
   ]
  },
  {
   "cell_type": "markdown",
   "metadata": {},
   "source": [
    "### Using Statsmodels Library"
   ]
  },
  {
   "cell_type": "code",
   "execution_count": null,
   "metadata": {},
   "outputs": [],
   "source": [
    "import statsmodels.api as sm"
   ]
  },
  {
   "cell_type": "code",
   "execution_count": null,
   "metadata": {},
   "outputs": [],
   "source": [
    "model = sm.OLS(y, X_ext)\n",
    "results = model.fit()"
   ]
  },
  {
   "cell_type": "code",
   "execution_count": null,
   "metadata": {},
   "outputs": [],
   "source": [
    "results.params"
   ]
  },
  {
   "cell_type": "code",
   "execution_count": null,
   "metadata": {},
   "outputs": [],
   "source": [
    "results.summary()"
   ]
  },
  {
   "cell_type": "markdown",
   "metadata": {},
   "source": [
    "#### Formula"
   ]
  },
  {
   "cell_type": "code",
   "execution_count": null,
   "metadata": {},
   "outputs": [],
   "source": [
    "from statsmodels.formula.api import ols"
   ]
  },
  {
   "cell_type": "code",
   "execution_count": null,
   "metadata": {},
   "outputs": [],
   "source": [
    "formula = \"sales ~ TV + radio + newspaper\"\n",
    "model = ols(formula, df)\n",
    "results = model.fit()\n",
    "results.summary()"
   ]
  },
  {
   "cell_type": "markdown",
   "metadata": {},
   "source": [
    "#### Hypothesis Tests"
   ]
  },
  {
   "cell_type": "code",
   "execution_count": null,
   "metadata": {},
   "outputs": [],
   "source": [
    "hypotheses = \"Intercept = 0, TV = 0, radio = 0, newspaper = 0\"\n",
    "t_test = results.t_test(hypotheses)\n",
    "print(t_test)"
   ]
  },
  {
   "cell_type": "markdown",
   "metadata": {},
   "source": [
    "## References\n",
    "\n",
    "1. Chapter 3. Linear Regression // [An Introduction to Statistical Learning](http://faculty.marshall.usc.edu/gareth-james/ISL/) by Gareth James, Daniela Witten, Trevor Hastie, Robert Tibshir\n",
    "2. [Chapter 3: Simple Linear Regression Analysis](http://reliawiki.org/index.php/Simple_Linear_Regression_Analysis)\n",
    "2. [Chapter 4: Multiple Linear Regression Analysis](http://reliawiki.org/index.php/Multiple_Linear_Regression_Analysis)"
   ]
  }
 ],
 "metadata": {
  "kernelspec": {
   "display_name": "Python 3 (ipykernel)",
   "language": "python",
   "name": "python3"
  },
  "language_info": {
   "codemirror_mode": {
    "name": "ipython",
    "version": 3
   },
   "file_extension": ".py",
   "mimetype": "text/x-python",
   "name": "python",
   "nbconvert_exporter": "python",
   "pygments_lexer": "ipython3",
   "version": "3.11.7"
  }
 },
 "nbformat": 4,
 "nbformat_minor": 4
}
