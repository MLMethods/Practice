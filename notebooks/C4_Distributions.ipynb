{
 "cells": [
  {
   "cell_type": "markdown",
   "metadata": {},
   "source": [
    "<div style=\"font-size:18pt; padding-top:20px; text-align:center\">СЕМИНАР. <b>Законы распределения и </b> <span style=\"font-weight:bold; color:green\">NumPy/SciPy</span></div><hr>\n",
    "<div style=\"text-align:right;\">Папулин С.Ю. <span style=\"font-style: italic;font-weight: bold;\">(papulin.study@yandex.ru)</span></div>"
   ]
  },
  {
   "cell_type": "markdown",
   "metadata": {},
   "source": [
    "<a name=\"0\"></a>\n",
    "<div><span style=\"font-size:14pt; font-weight:bold\">Содержание</span>\n",
    "    <ol>\n",
    "        <li><a href=\"#1\">Комбинаторика</a></li>\n",
    "        <li><a href=\"#2\">Законы распределения</a>\n",
    "            <ol style = \"list-style-type:lower-alpha\">\n",
    "                <li><a href=\"#2a\">Равномерное распределение</a></li>\n",
    "                <li><a href=\"#2b\">Нормальное распределение</a></li>\n",
    "                <li><a href=\"#2c\">Биномиальное распределение</a></li>\n",
    "            </ol></li>\n",
    "        <li><a href=\"#3\">Источники</a>\n",
    "        </li>\n",
    "    </ol>\n",
    "</div>"
   ]
  },
  {
   "cell_type": "code",
   "execution_count": 3,
   "metadata": {
    "collapsed": true,
    "jupyter": {
     "outputs_hidden": true
    }
   },
   "outputs": [],
   "source": [
    "import numpy as np\n",
    "from scipy import stats\n",
    "import matplotlib.pyplot as plt\n",
    "%matplotlib inline"
   ]
  },
  {
   "cell_type": "markdown",
   "metadata": {},
   "source": [
    "<a name=\"1\"></a>\n",
    "<div style=\"display:table; width:100%; padding-top:10px; padding-bottom:10px; border-bottom:1px solid lightgrey\">\n",
    "    <div style=\"display:table-row\">\n",
    "        <div style=\"display:table-cell; width:80%; font-size:14pt; font-weight:bold\">1. Комбинаторика</div>\n",
    "    \t<div style=\"display:table-cell; width:20%; text-align:center; background-color:whitesmoke; border:1px solid lightgrey\"><a href=\"#0\">К содержанию</a></div>\n",
    "    </div>\n",
    "</div>"
   ]
  },
  {
   "cell_type": "code",
   "execution_count": 21,
   "metadata": {
    "collapsed": true,
    "jupyter": {
     "outputs_hidden": true
    }
   },
   "outputs": [],
   "source": [
    "from scipy.special import perm, comb, factorial"
   ]
  },
  {
   "cell_type": "markdown",
   "metadata": {},
   "source": [
    "<p>Количество размещений из n элементов по k</p>"
   ]
  },
  {
   "cell_type": "code",
   "execution_count": 20,
   "metadata": {
    "collapsed": false,
    "jupyter": {
     "outputs_hidden": false
    }
   },
   "outputs": [
    {
     "data": {
      "text/plain": [
       "55440.0"
      ]
     },
     "execution_count": 20,
     "metadata": {},
     "output_type": "execute_result"
    }
   ],
   "source": [
    "k = np.array(5)\n",
    "n = np.array(11)\n",
    "perm(n, k)"
   ]
  },
  {
   "cell_type": "markdown",
   "metadata": {},
   "source": [
    "<p>Число размещений с повторениями из n элементов по k</p>"
   ]
  },
  {
   "cell_type": "code",
   "execution_count": 23,
   "metadata": {
    "collapsed": false,
    "jupyter": {
     "outputs_hidden": false
    }
   },
   "outputs": [
    {
     "data": {
      "text/plain": [
       "100000"
      ]
     },
     "execution_count": 23,
     "metadata": {},
     "output_type": "execute_result"
    }
   ],
   "source": [
    "k = np.array(5)\n",
    "n = np.array(10)\n",
    "n**k"
   ]
  },
  {
   "cell_type": "markdown",
   "metadata": {},
   "source": [
    "<p>Количество сочетаний из n элементов по k</p>"
   ]
  },
  {
   "cell_type": "code",
   "execution_count": 30,
   "metadata": {
    "collapsed": false,
    "jupyter": {
     "outputs_hidden": false
    }
   },
   "outputs": [
    {
     "data": {
      "text/plain": [
       "120"
      ]
     },
     "execution_count": 30,
     "metadata": {},
     "output_type": "execute_result"
    }
   ],
   "source": [
    "k = np.array(2)\n",
    "n = np.array(16)\n",
    "comb(n, k, exact=True, repetition=False)"
   ]
  },
  {
   "cell_type": "markdown",
   "metadata": {},
   "source": [
    "<p>Число сочетаний с повторениями из n элементов по k</p>"
   ]
  },
  {
   "cell_type": "code",
   "execution_count": 31,
   "metadata": {
    "collapsed": false,
    "jupyter": {
     "outputs_hidden": false
    }
   },
   "outputs": [
    {
     "data": {
      "text/plain": [
       "2002"
      ]
     },
     "execution_count": 31,
     "metadata": {},
     "output_type": "execute_result"
    }
   ],
   "source": [
    "k = np.array(5)\n",
    "n = np.array(10)\n",
    "comb(n, k, exact=True, repetition=True)"
   ]
  },
  {
   "cell_type": "markdown",
   "metadata": {},
   "source": [
    "<p>Количество перестановок из n элементов</p>"
   ]
  },
  {
   "cell_type": "code",
   "execution_count": 29,
   "metadata": {
    "collapsed": false,
    "jupyter": {
     "outputs_hidden": false
    }
   },
   "outputs": [
    {
     "data": {
      "text/plain": [
       "5040"
      ]
     },
     "execution_count": 29,
     "metadata": {},
     "output_type": "execute_result"
    }
   ],
   "source": [
    "n = np.array(7)\n",
    "factorial(n, exact=True)"
   ]
  },
  {
   "cell_type": "markdown",
   "metadata": {},
   "source": [
    "<a name=\"2\"></a>\n",
    "<div style=\"display:table; width:100%; padding-top:10px; padding-bottom:10px; border-bottom:1px solid lightgrey\">\n",
    "    <div style=\"display:table-row\">\n",
    "        <div style=\"display:table-cell; width:80%; font-size:14pt; font-weight:bold\">2. Законы распределения</div>\n",
    "    \t<div style=\"display:table-cell; width:20%; text-align:center; background-color:whitesmoke; border:1px solid lightgrey\"><a href=\"#0\">К содержанию</a></div>\n",
    "    </div>\n",
    "</div>"
   ]
  },
  {
   "cell_type": "markdown",
   "metadata": {},
   "source": [
    "<a name=\"2a\"></a>\n",
    "<div style=\"display:table; width:100%\">\n",
    "    <div style=\"display:table-row\">\n",
    "        <div style=\"display:table-cell; width:80%; font-style:italic; font-weight:bold; font-size:12pt\">\n",
    "            a. Равномерное распределение / <span style=\"font-style:normal; font-weight:normal\"><a href=\"https://ru.wikipedia.org/wiki/%D0%A0%D0%B0%D0%B2%D0%BD%D0%BE%D0%BC%D0%B5%D1%80%D0%BD%D0%BE%D0%B5_%D1%80%D0%B0%D1%81%D0%BF%D1%80%D0%B5%D0%B4%D0%B5%D0%BB%D0%B5%D0%BD%D0%B8%D0%B5\">wiki</a> <a href=\"http://docs.scipy.org/doc/scipy-0.16.0/reference/generated/scipy.stats.uniform.html#scipy.stats.uniform\">scipy</a></span>\n",
    "        </div>\n",
    "        <div style=\"display:table-cell; border:1px solid lightgrey; width:20%\">\n",
    "            <div style=\"display:table-cell; width:10%; text-align:center; background-color:whitesmoke;\">\n",
    "                <a href=\"#2\">Назад</a>\n",
    "            </div>\n",
    "            <div style=\"display:table-cell; width:10%; text-align:center;\">\n",
    "                <a href=\"#2b\">Далее</a>\n",
    "            </div>\n",
    "        </div>\n",
    "    </div>\n",
    "</div>"
   ]
  },
  {
   "cell_type": "markdown",
   "metadata": {},
   "source": [
    "<p>Непрерывная случайная величина $X$ имеет <b>равномерный закон распределения</b> на отрезке $[a,b]$, если её плотность вероятности $\\varphi (x)$ постоянна на отрезке и равна нулю вне его, т.е.</p>\n",
    "</p>$$\\varphi(x) = \n",
    "  \\begin{cases} \n",
    "   \\frac {1}{b-a} & \\text{при } a \\leq x \\leq b \\\\\n",
    "   0       & \\text{при } x<a, x>b\n",
    "  \\end{cases}$$</p>"
   ]
  },
  {
   "cell_type": "markdown",
   "metadata": {},
   "source": [
    "<p>Математическое ожидание:</p>\n",
    "<p>$$M(X)=\\frac{a+b}{2}$$</p>"
   ]
  },
  {
   "cell_type": "markdown",
   "metadata": {},
   "source": [
    "<p>Дисперсия:</p>\n",
    "<p>$$D(X)=\\frac{(a-b)^2}{12}$$</p>"
   ]
  },
  {
   "cell_type": "markdown",
   "metadata": {},
   "source": [
    "<p><b>Равномерный закон средствами Python</b></p>"
   ]
  },
  {
   "cell_type": "markdown",
   "metadata": {},
   "source": [
    "<p>Основные параметры распределения</p>"
   ]
  },
  {
   "cell_type": "code",
   "execution_count": null,
   "metadata": {
    "collapsed": false,
    "jupyter": {
     "outputs_hidden": false
    }
   },
   "outputs": [],
   "source": [
    "xstart = -4 # начальная точка - a\n",
    "length = 12 # длина отрезка [a,b]"
   ]
  },
  {
   "cell_type": "markdown",
   "metadata": {},
   "source": [
    "<p>Функция плотности вероятности (probability density function - pdf)</p>"
   ]
  },
  {
   "cell_type": "code",
   "execution_count": null,
   "metadata": {
    "collapsed": false,
    "jupyter": {
     "outputs_hidden": false
    }
   },
   "outputs": [],
   "source": [
    "#Стандартный Python\n",
    "def fUniform(x, a, b):\n",
    "    print(a,b)\n",
    "    if a <= x <= b:\n",
    "        return 1 / (b - a)\n",
    "    else:\n",
    "        return 0\n",
    "\n",
    "x0 = 0\n",
    "y_pdf0 = fUniform(0, xstart, xstart + length)\n",
    "y_pdf0"
   ]
  },
  {
   "cell_type": "code",
   "execution_count": null,
   "metadata": {
    "collapsed": false,
    "jupyter": {
     "outputs_hidden": false
    }
   },
   "outputs": [],
   "source": [
    "#SciPy\n",
    "x0 = 0\n",
    "y_pdf0 = stats.uniform.pdf(0, loc=xstart, scale=length)\n",
    "y_pdf0"
   ]
  },
  {
   "cell_type": "markdown",
   "metadata": {},
   "source": [
    "<p>Функция распределения (cumulative distribution function - cdf)</p>"
   ]
  },
  {
   "cell_type": "code",
   "execution_count": null,
   "metadata": {
    "collapsed": false,
    "jupyter": {
     "outputs_hidden": false
    }
   },
   "outputs": [],
   "source": [
    "x0 = 0\n",
    "y_cdf0 = stats.uniform.cdf(x0, loc=xstart, scale=length)\n",
    "y_cdf0"
   ]
  },
  {
   "cell_type": "markdown",
   "metadata": {},
   "source": [
    "<p>Квантиль (percent point function - ppf)</p>"
   ]
  },
  {
   "cell_type": "code",
   "execution_count": null,
   "metadata": {
    "collapsed": false,
    "jupyter": {
     "outputs_hidden": false
    }
   },
   "outputs": [],
   "source": [
    "q0 = 0.5\n",
    "x0 = stats.uniform.ppf(q0, loc=xstart, scale=length)\n",
    "x0"
   ]
  },
  {
   "cell_type": "markdown",
   "metadata": {},
   "source": [
    "<p>Графики</p>"
   ]
  },
  {
   "cell_type": "code",
   "execution_count": null,
   "metadata": {
    "collapsed": true,
    "jupyter": {
     "outputs_hidden": true
    }
   },
   "outputs": [],
   "source": [
    "x = np.linspace(-10, 10, 100)\n",
    "y_pdf = stats.uniform.pdf(x, loc=xstart, scale=length)\n",
    "y_cdf = stats.uniform.cdf(x, loc=xstart, scale=length)\n",
    "\n",
    "q = np.linspace(0, 1, 100)\n",
    "y_ppf = stats.uniform.ppf(q, loc=xstart, scale=length)"
   ]
  },
  {
   "cell_type": "code",
   "execution_count": null,
   "metadata": {
    "collapsed": false,
    "jupyter": {
     "outputs_hidden": false
    }
   },
   "outputs": [],
   "source": [
    "plt.figure(1, figsize=[15,4])\n",
    "\n",
    "plt.subplot(1,3,1)\n",
    "plt.plot(x, y_pdf, lw=2)\n",
    "plt.title(\"pdf\")\n",
    "plt.grid(True)\n",
    "\n",
    "plt.subplot(1,3,2)\n",
    "plt.plot(x, y_cdf, color=\"green\", lw=2)\n",
    "plt.title(\"cdf\")\n",
    "plt.grid(True)\n",
    "\n",
    "plt.subplot(1,3,3)\n",
    "plt.plot(q, y_ppf, color=\"orange\", lw=2)\n",
    "plt.title(\"ppf\")\n",
    "plt.grid(True)\n",
    "\n",
    "plt.show()"
   ]
  },
  {
   "cell_type": "code",
   "execution_count": null,
   "metadata": {
    "collapsed": false,
    "jupyter": {
     "outputs_hidden": false
    }
   },
   "outputs": [],
   "source": [
    "plt.figure(1, figsize=[12,4])\n",
    "\n",
    "plt.subplot(1,2,1)\n",
    "\n",
    "plt.title(\"pdf vs cdf\")\n",
    "plt.yticks(color=\"blue\")\n",
    "plt.plot(x, y_pdf, color=\"blue\", lw=2)\n",
    "plt.grid(True, color=\"blue\", linestyle=\"--\")\n",
    "\n",
    "plt.twinx()\n",
    "plt.yticks(color=\"green\")\n",
    "plt.plot(x, y_cdf, color=\"green\", lw=2)\n",
    "plt.grid(True, color=\"green\")\n",
    "\n",
    "plt.subplot(1,2,2)\n",
    "\n",
    "plt.title(\"pdf vs ppf\")\n",
    "plt.yticks(color=\"blue\")\n",
    "plt.plot(y_pdf, x, color=\"blue\", lw=2)\n",
    "plt.grid(True, color=\"blue\")\n",
    "plt.ylim([xstart, length+xstart])\n",
    "\n",
    "plt.twinx()\n",
    "\n",
    "plt.yticks(color=\"orange\")\n",
    "plt.plot(q, y_ppf, color=\"orange\", lw=2)\n",
    "plt.grid(True, color=\"orange\")"
   ]
  },
  {
   "cell_type": "code",
   "execution_count": null,
   "metadata": {
    "collapsed": true,
    "jupyter": {
     "outputs_hidden": true
    }
   },
   "outputs": [],
   "source": [
    "mas = [-8, -4]\n",
    "lengths = [4, 6, 8, 10]"
   ]
  },
  {
   "cell_type": "code",
   "execution_count": null,
   "metadata": {
    "collapsed": false,
    "jupyter": {
     "outputs_hidden": false
    }
   },
   "outputs": [],
   "source": [
    "plt.figure(1, figsize=[15,4])\n",
    "for j in range(len(mas)):\n",
    "    plt.subplot(1,3,j+1)\n",
    "    plt.title(\"$a_\"+str(j+1)+\" = \"+str(mas[j])+\"$\")\n",
    "    for i in range(len(lengths)):\n",
    "        plt.plot(x, stats.uniform.pdf(x, loc=mas[j], scale=lengths[i]))     \n",
    "     \n",
    "    strSt = [\"$length_\"]*len(lengths)\n",
    "    strEnd = [\"$\"]*len(lengths)\n",
    "    \n",
    "    legs = [strSt[k]+str(k+1)+\"=\"+str(lengths[k])+strEnd[k] for k in range(len(lengths))]\n",
    "\n",
    "    plt.legend(legs, loc=\"upper right\")\n",
    "    plt.grid(True)\n",
    "\n",
    "plt.show()"
   ]
  },
  {
   "cell_type": "code",
   "execution_count": null,
   "metadata": {
    "collapsed": false,
    "jupyter": {
     "outputs_hidden": false
    }
   },
   "outputs": [],
   "source": [
    "plt.figure(1, figsize=[15,4])\n",
    "for j in range(len(mas)):\n",
    "    plt.subplot(1,3,j+1)\n",
    "    plt.title(\"$a_\"+str(j+1)+\" = \"+str(mas[j])+\"$\")\n",
    "    for i in range(len(lengths)):\n",
    "        plt.plot(x, stats.uniform.cdf(x, loc=mas[j], scale=lengths[i]))     \n",
    "     \n",
    "    strSt = [\"$length_\"]*len(lengths)\n",
    "    strEnd = [\"$\"]*len(lengths)\n",
    "    \n",
    "    legs = [strSt[k]+str(k+1)+\"=\"+str(lengths[k])+strEnd[k] for k in range(len(lengths))]\n",
    "\n",
    "    plt.legend(legs, loc=\"lower right\")\n",
    "    plt.grid(True)\n",
    "\n",
    "plt.show()"
   ]
  },
  {
   "cell_type": "markdown",
   "metadata": {},
   "source": [
    "<p>Математическое ожидание</p>"
   ]
  },
  {
   "cell_type": "code",
   "execution_count": null,
   "metadata": {
    "collapsed": false,
    "jupyter": {
     "outputs_hidden": false
    }
   },
   "outputs": [],
   "source": [
    "m = stats.uniform.mean(loc=xstart, scale=length)\n",
    "m"
   ]
  },
  {
   "cell_type": "markdown",
   "metadata": {},
   "source": [
    "<p>Дисперсия</p>"
   ]
  },
  {
   "cell_type": "code",
   "execution_count": null,
   "metadata": {
    "collapsed": false,
    "jupyter": {
     "outputs_hidden": false
    }
   },
   "outputs": [],
   "source": [
    "v = stats.uniform.var(loc=xstart, scale=length)\n",
    "v"
   ]
  },
  {
   "cell_type": "markdown",
   "metadata": {},
   "source": [
    "<p>Стандартное отклонение</p>"
   ]
  },
  {
   "cell_type": "code",
   "execution_count": null,
   "metadata": {
    "collapsed": false,
    "jupyter": {
     "outputs_hidden": false
    }
   },
   "outputs": [],
   "source": [
    "s = stats.uniform.std(loc=xstart, scale=length)\n",
    "s"
   ]
  },
  {
   "cell_type": "markdown",
   "metadata": {},
   "source": [
    "<p>Медиан</p>"
   ]
  },
  {
   "cell_type": "code",
   "execution_count": null,
   "metadata": {
    "collapsed": false,
    "jupyter": {
     "outputs_hidden": false
    }
   },
   "outputs": [],
   "source": [
    "med = stats.uniform.median(loc=xstart, scale=length)\n",
    "med"
   ]
  },
  {
   "cell_type": "markdown",
   "metadata": {},
   "source": [
    "<p>Группа характеристик</p>"
   ]
  },
  {
   "cell_type": "code",
   "execution_count": null,
   "metadata": {
    "collapsed": false,
    "jupyter": {
     "outputs_hidden": false
    }
   },
   "outputs": [],
   "source": [
    "mvsk = stats.uniform.stats(moments=\"mvsk\", loc=xstart, scale=length) #m - mean, v - var, s - skew, k - kurtosis\n",
    "mvsk"
   ]
  },
  {
   "cell_type": "markdown",
   "metadata": {},
   "source": [
    "<p>Начальный момент $k$-го порядка</p>"
   ]
  },
  {
   "cell_type": "code",
   "execution_count": null,
   "metadata": {
    "collapsed": false,
    "jupyter": {
     "outputs_hidden": false
    }
   },
   "outputs": [],
   "source": [
    "k = 2\n",
    "stats.uniform.moment(k, loc=xstart, scale=length)"
   ]
  },
  {
   "cell_type": "markdown",
   "metadata": {},
   "source": [
    "<p>Другие возможности</p>"
   ]
  },
  {
   "cell_type": "code",
   "execution_count": null,
   "metadata": {
    "collapsed": true,
    "jupyter": {
     "outputs_hidden": true
    }
   },
   "outputs": [],
   "source": [
    "unf_model = stats.uniform(loc=xstart, scale=length)"
   ]
  },
  {
   "cell_type": "code",
   "execution_count": null,
   "metadata": {
    "collapsed": false,
    "jupyter": {
     "outputs_hidden": false
    }
   },
   "outputs": [],
   "source": [
    "unf_model.mean()"
   ]
  },
  {
   "cell_type": "code",
   "execution_count": null,
   "metadata": {
    "collapsed": false,
    "jupyter": {
     "outputs_hidden": false
    }
   },
   "outputs": [],
   "source": [
    "unf_model.var()"
   ]
  },
  {
   "cell_type": "code",
   "execution_count": null,
   "metadata": {
    "collapsed": false,
    "jupyter": {
     "outputs_hidden": false
    }
   },
   "outputs": [],
   "source": [
    "unf_model.std()"
   ]
  },
  {
   "cell_type": "code",
   "execution_count": null,
   "metadata": {
    "collapsed": false,
    "jupyter": {
     "outputs_hidden": false
    }
   },
   "outputs": [],
   "source": [
    "unf_model.median()"
   ]
  },
  {
   "cell_type": "code",
   "execution_count": null,
   "metadata": {
    "collapsed": false,
    "jupyter": {
     "outputs_hidden": false
    }
   },
   "outputs": [],
   "source": [
    "unf_model.moment(k)"
   ]
  },
  {
   "cell_type": "code",
   "execution_count": null,
   "metadata": {
    "collapsed": false,
    "jupyter": {
     "outputs_hidden": false
    }
   },
   "outputs": [],
   "source": [
    "unf_model.stats(moments=\"mvsk\") #m - mean, v - var, s - skew, k - kurtosis"
   ]
  },
  {
   "cell_type": "code",
   "execution_count": null,
   "metadata": {
    "collapsed": false,
    "jupyter": {
     "outputs_hidden": false
    }
   },
   "outputs": [],
   "source": [
    "unf_model.stats(moments=\"mv\")"
   ]
  },
  {
   "cell_type": "markdown",
   "metadata": {},
   "source": [
    "<p><b>Генератор случайных значений с равномерным распределением</b></p>"
   ]
  },
  {
   "cell_type": "code",
   "execution_count": null,
   "metadata": {
    "collapsed": false,
    "jupyter": {
     "outputs_hidden": false
    }
   },
   "outputs": [],
   "source": [
    "xstart = -4 #начальная точка - a\n",
    "length = 12 #длина отрезка [a,b]\n",
    "numSample = 100\n",
    "\n",
    "rud = stats.uniform.rvs(loc=xstart, scale=length, size=numSample)\n",
    "rud"
   ]
  },
  {
   "cell_type": "code",
   "execution_count": null,
   "metadata": {
    "collapsed": false,
    "jupyter": {
     "outputs_hidden": false
    }
   },
   "outputs": [],
   "source": [
    "rm = rud.mean()\n",
    "print(\"mean для равномерного закона:\", m)\n",
    "print(\"mean для сгенерированных значений:\", rm)"
   ]
  },
  {
   "cell_type": "code",
   "execution_count": null,
   "metadata": {
    "collapsed": false,
    "jupyter": {
     "outputs_hidden": false
    }
   },
   "outputs": [],
   "source": [
    "rv = rud.var()\n",
    "print(\"var для равномерного закона:\", v)\n",
    "print(\"var для сгенерированных значений (n=%i): %f\" % (numSample, rv))"
   ]
  },
  {
   "cell_type": "code",
   "execution_count": null,
   "metadata": {
    "collapsed": false,
    "jupyter": {
     "outputs_hidden": false
    }
   },
   "outputs": [],
   "source": [
    "rv = rud.std()\n",
    "print(\"std для равномерного закона:\", s)\n",
    "print(\"std для сгенерированных значений (n=%i): %f\" % (numSample, rv))"
   ]
  },
  {
   "cell_type": "code",
   "execution_count": null,
   "metadata": {
    "collapsed": false,
    "jupyter": {
     "outputs_hidden": false
    }
   },
   "outputs": [],
   "source": [
    "plt.figure(1, figsize=[12,4])\n",
    "\n",
    "plt.subplot(1,2,1)\n",
    "#plt.vlines(rud, 0, 0.05, lw=2, color=\"orange\")\n",
    "plt.plot(rud, np.zeros(len(rud)), \"o\", color=\"orange\")\n",
    "plt.vlines(rud, -1, 1, lw=2, color=\"yellow\")\n",
    "plt.ylim([-1, 1])\n",
    "plt.xlim([-6, 10])\n",
    "plt.grid(True)\n",
    "\n",
    "plt.subplot(1,2,2)\n",
    "plt.hist(rud, 50, density=False, color=\"green\")\n",
    "\n",
    "plt.vlines(rud, -0.5, 0.5, lw=2, color=\"yellow\")\n",
    "plt.plot(rud, np.zeros(len(rud)), \"o\", color=\"orange\")\n",
    "\n",
    "plt.grid(True)\n",
    "plt.show()"
   ]
  },
  {
   "cell_type": "code",
   "execution_count": null,
   "metadata": {
    "collapsed": false,
    "jupyter": {
     "outputs_hidden": false
    }
   },
   "outputs": [],
   "source": [
    "plt.figure(1, figsize=[15,4])\n",
    "\n",
    "plt.subplot(1,3,1)\n",
    "plt.hist(rud, 50, density=False, color=\"green\")\n",
    "\n",
    "plt.vlines(rud, -0.5, 0.5, lw=2, color=\"yellow\")\n",
    "plt.plot(rud, np.zeros(len(rud)), \"o\", color=\"orange\")\n",
    "plt.grid(True)\n",
    "\n",
    "plt.subplot(1,3,2)\n",
    "plt.hist(rud, 50, density=True, color=\"green\")\n",
    "\n",
    "plt.vlines(rud, -0.02, 0.02, lw=2, color=\"yellow\")\n",
    "plt.plot(rud, np.zeros(len(rud)), \"o\", color=\"orange\")\n",
    "plt.grid(True)\n",
    "\n",
    "plt.subplot(1,3,3)\n",
    "plt.hist(rud, 50, density=True, color=\"green\")\n",
    "\n",
    "plt.vlines(rud, -0.02, 0.02, lw=2, color=\"yellow\")\n",
    "plt.plot(rud, np.zeros(len(rud)), \"o\", color=\"orange\")\n",
    "\n",
    "plt.plot(x, y_pdf, color=\"blue\", lw=2)\n",
    "plt.xlim([xstart, xstart+length])\n",
    "plt.grid(True)\n",
    "\n",
    "plt.show()"
   ]
  },
  {
   "cell_type": "code",
   "execution_count": null,
   "metadata": {
    "collapsed": false,
    "jupyter": {
     "outputs_hidden": false
    }
   },
   "outputs": [],
   "source": [
    "def plotGr_UD(ud, num):\n",
    "    plt.subplot(2,2,num)\n",
    "    plt.title(\"Samples: $10^{\" + str(num)+\"}$\")\n",
    "    count, bins, ignored = plt.hist(ud, 50, color=\"green\", density=True)   \n",
    "    plt.plot(x, y_pdf, color=\"blue\", lw=2)\n",
    "    plt.grid(True)\n",
    "    \n",
    "uds = [stats.uniform.rvs(loc=xstart, scale=length, size=10**i) for i in range(1,5)]\n",
    "\n",
    "plt.figure(1, figsize=[12,10])\n",
    "[plotGr_UD(uds[i-1], i) for i in range(1, 5)]\n",
    "plt.show()"
   ]
  },
  {
   "cell_type": "code",
   "execution_count": null,
   "metadata": {
    "collapsed": false,
    "jupyter": {
     "outputs_hidden": false
    }
   },
   "outputs": [],
   "source": [
    "rud_cdf = np.array(range(1, len(rud) + 1)) / len(rud)\n",
    "rud_cdf"
   ]
  },
  {
   "cell_type": "code",
   "execution_count": null,
   "metadata": {
    "collapsed": false,
    "jupyter": {
     "outputs_hidden": false
    }
   },
   "outputs": [],
   "source": [
    "plt.plot(sorted(rud), rud_cdf, \"-\", lw=2)\n",
    "plt.vlines(sorted(rud), [0], rud_cdf, color=\"lightblue\")\n",
    "plt.plot(x, y_cdf, lw=2)\n",
    "plt.grid(True)\n",
    "plt.legend([\"cdf for random values\",\"cdf\"], loc=\"upper left\")\n",
    "plt.show()"
   ]
  },
  {
   "cell_type": "markdown",
   "metadata": {},
   "source": [
    "<p>Подбор параметров loc и space для множества значений</p>"
   ]
  },
  {
   "cell_type": "code",
   "execution_count": null,
   "metadata": {
    "collapsed": false,
    "jupyter": {
     "outputs_hidden": false
    }
   },
   "outputs": [],
   "source": [
    "loc, space = stats.uniform.fit(rud)\n",
    "print(\"a = \", loc)\n",
    "print(\"(b - a) =\", space)"
   ]
  },
  {
   "cell_type": "markdown",
   "metadata": {},
   "source": [
    "<a name=\"2b\"></a>\n",
    "<div style=\"display:table; width:100%\">\n",
    "    <div style=\"display:table-row\">\n",
    "        <div style=\"display:table-cell; width:80%; font-style:italic; font-weight:bold; font-size:12pt\">\n",
    "            b. Нормальное распределение / <span style=\"font-style:normal; font-weight:normal\"><a href=\"https://ru.wikipedia.org/wiki/%D0%9D%D0%BE%D1%80%D0%BC%D0%B0%D0%BB%D1%8C%D0%BD%D0%BE%D0%B5_%D1%80%D0%B0%D1%81%D0%BF%D1%80%D0%B5%D0%B4%D0%B5%D0%BB%D0%B5%D0%BD%D0%B8%D0%B5\">wiki</a> <a href=\"http://docs.scipy.org/doc/scipy-0.16.0/reference/generated/scipy.stats.norm.html#scipy.stats.norm\">scipy</a></span>\n",
    "        </div>\n",
    "        <div style=\"display:table-cell; border:1px solid lightgrey; width:20%\">\n",
    "            <div style=\"display:table-cell; width:10%; text-align:center; background-color:whitesmoke;\">\n",
    "                <a href=\"#2a\">Назад</a>\n",
    "            </div>\n",
    "            <div style=\"display:table-cell; width:10%; text-align:center;\">\n",
    "                <a href=\"#2c\">Далее</a>\n",
    "            </div>\n",
    "        </div>\n",
    "    </div>\n",
    "</div>"
   ]
  },
  {
   "cell_type": "markdown",
   "metadata": {},
   "source": [
    "<p>Непрерывная случайная величина $X$ имеет <b>нормальный закон распределения</b> с параметрами $\\mu$ и $\\sigma$, если её плотность вероятности имеет вид:</p>\n",
    "<p>$$\\varphi(x)= \\frac{1}{\\sqrt{2 \\pi  \\sigma ^2}} e^{- \\frac{(x-\\mu )^2 }{2 \\sigma^2 } }$$</p>"
   ]
  },
  {
   "cell_type": "markdown",
   "metadata": {},
   "source": [
    "<p>Математическое ожидание:</p>\n",
    "<p>$$M(X)=\\mu$$</p>"
   ]
  },
  {
   "cell_type": "markdown",
   "metadata": {},
   "source": [
    "<p>Дисперсия:</p>\n",
    "<p>$$D(X)=\\sigma^2$$</p>"
   ]
  },
  {
   "cell_type": "markdown",
   "metadata": {
    "collapsed": true,
    "jupyter": {
     "outputs_hidden": true
    }
   },
   "source": [
    "<p><b>Нормальный закон средствами Python</b></p>"
   ]
  },
  {
   "cell_type": "markdown",
   "metadata": {},
   "source": [
    "<p>Основные параметры распределения</p>"
   ]
  },
  {
   "cell_type": "code",
   "execution_count": null,
   "metadata": {
    "collapsed": true,
    "jupyter": {
     "outputs_hidden": true
    }
   },
   "outputs": [],
   "source": [
    "mu = 3.5\n",
    "sigma = 2.0"
   ]
  },
  {
   "cell_type": "code",
   "execution_count": null,
   "metadata": {
    "collapsed": false,
    "jupyter": {
     "outputs_hidden": false
    }
   },
   "outputs": [],
   "source": [
    "#NumPy\n",
    "def p(x, mu, sigma):\n",
    "    return 1/(sigma * np.sqrt(2*np.pi)) * np.exp(-(x-mu)**2 / (2*sigma**2))\n",
    "\n",
    "x0 = 0\n",
    "y_pdf0 = p(x0, mu, sigma)\n",
    "y_pdf0"
   ]
  },
  {
   "cell_type": "markdown",
   "metadata": {},
   "source": [
    "<p>Функция плотности вероятности (probability density function - pdf)</p>"
   ]
  },
  {
   "cell_type": "code",
   "execution_count": null,
   "metadata": {
    "collapsed": false,
    "jupyter": {
     "outputs_hidden": false
    }
   },
   "outputs": [],
   "source": [
    "#SciPy\n",
    "x0 = 0\n",
    "y_pdf0 = stats.norm.pdf(x0, loc=mu, scale=sigma)\n",
    "y_pdf0"
   ]
  },
  {
   "cell_type": "markdown",
   "metadata": {},
   "source": [
    "<p>Функция распределения (cumulative distribution function - cdf)</p>"
   ]
  },
  {
   "cell_type": "code",
   "execution_count": null,
   "metadata": {
    "collapsed": false,
    "jupyter": {
     "outputs_hidden": false
    }
   },
   "outputs": [],
   "source": [
    "x0 = 0\n",
    "y_cdf0 = stats.norm.cdf(x0, loc=mu, scale=sigma)\n",
    "y_cdf0"
   ]
  },
  {
   "cell_type": "markdown",
   "metadata": {},
   "source": [
    "<p>Квантиль (percent point function - ppf)</p>"
   ]
  },
  {
   "cell_type": "code",
   "execution_count": null,
   "metadata": {
    "collapsed": false,
    "jupyter": {
     "outputs_hidden": false
    }
   },
   "outputs": [],
   "source": [
    "q0 = 0.5\n",
    "x0 = stats.norm.ppf(q0, loc=mu, scale=sigma)\n",
    "x0"
   ]
  },
  {
   "cell_type": "markdown",
   "metadata": {},
   "source": [
    "<p>Графики</p>"
   ]
  },
  {
   "cell_type": "code",
   "execution_count": null,
   "metadata": {
    "collapsed": false,
    "jupyter": {
     "outputs_hidden": false
    }
   },
   "outputs": [],
   "source": [
    "x = np.linspace(-10, 10, 100)\n",
    "y_pdf = stats.norm.pdf(x, loc=mu, scale=sigma)\n",
    "y_cdf = stats.norm.cdf(x, loc=mu, scale=sigma)\n",
    "\n",
    "q = np.linspace(0, 1, 100)\n",
    "y_ppf = stats.norm.ppf(q, loc=mu, scale=sigma)"
   ]
  },
  {
   "cell_type": "code",
   "execution_count": null,
   "metadata": {
    "collapsed": false,
    "jupyter": {
     "outputs_hidden": false
    }
   },
   "outputs": [],
   "source": [
    "plt.figure(1, figsize=[15,4])\n",
    "\n",
    "plt.subplot(1,3,1)\n",
    "plt.plot(x, y_pdf, lw=2)\n",
    "plt.title(\"pdf\")\n",
    "plt.grid(True)\n",
    "\n",
    "plt.subplot(1,3,2)\n",
    "plt.plot(x, y_cdf, color=\"green\", lw=2)\n",
    "plt.title(\"cdf\")\n",
    "plt.grid(True)\n",
    "\n",
    "plt.subplot(1,3,3)\n",
    "plt.plot(q, y_ppf, color=\"orange\", lw=2)\n",
    "plt.title(\"ppf\")\n",
    "plt.grid(True)\n",
    "\n",
    "plt.show()"
   ]
  },
  {
   "cell_type": "code",
   "execution_count": null,
   "metadata": {
    "collapsed": false,
    "jupyter": {
     "outputs_hidden": false
    }
   },
   "outputs": [],
   "source": [
    "plt.figure(1, figsize=[12,4])\n",
    "\n",
    "plt.subplot(1,2,1)\n",
    "\n",
    "plt.title(\"pdf vs cdf\")\n",
    "plt.yticks(color=\"blue\")\n",
    "plt.plot(x, y_pdf, color=\"blue\", lw=2)\n",
    "plt.grid(True, color=\"blue\")\n",
    "\n",
    "plt.twinx()\n",
    "plt.yticks(color=\"green\")\n",
    "plt.plot(x, y_cdf, color=\"green\", lw=2)\n",
    "plt.grid(True, color=\"green\")\n",
    "\n",
    "plt.subplot(1,2,2)\n",
    "\n",
    "plt.title(\"pdf vs ppf\")\n",
    "plt.yticks(color=\"blue\")\n",
    "plt.plot(y_pdf, x, color=\"blue\", lw=2)\n",
    "plt.grid(True, color=\"blue\")\n",
    "plt.ylim([-3*sigma + mu, 3*sigma + mu])\n",
    "\n",
    "plt.twinx()\n",
    "\n",
    "plt.yticks(color=\"orange\")\n",
    "plt.plot(q, y_ppf, color=\"orange\", lw=2)\n",
    "plt.ylim([-3*sigma + mu, 3*sigma + mu])\n",
    "plt.grid(True, color=\"orange\")"
   ]
  },
  {
   "cell_type": "code",
   "execution_count": null,
   "metadata": {
    "collapsed": true,
    "jupyter": {
     "outputs_hidden": true
    }
   },
   "outputs": [],
   "source": [
    "mus = [0, -2, 2]\n",
    "sigmas = [1, 2, 3, 4]"
   ]
  },
  {
   "cell_type": "code",
   "execution_count": null,
   "metadata": {
    "collapsed": false,
    "jupyter": {
     "outputs_hidden": false
    }
   },
   "outputs": [],
   "source": [
    "plt.figure(1, figsize=[15,4])\n",
    "for j in range(len(mus)):\n",
    "    plt.subplot(1,3,j+1)\n",
    "    plt.title(\"$\\mu_\"+str(j+1)+\" = \"+str(mus[j])+\"$\")\n",
    "    for i in range(len(sigmas)):\n",
    "        plt.plot(x, stats.norm.pdf(x, loc=mus[j], scale=sigmas[i]))     \n",
    "     \n",
    "    strSt = [\"$\\sigma_\"]*len(sigmas)\n",
    "    strEnd = [\"$\"]*len(sigmas)\n",
    "    \n",
    "    legs = [strSt[k]+str(k+1)+\"=\"+str(sigmas[k])+strEnd[k] for k in range(len(sigmas))]\n",
    "\n",
    "    plt.legend(legs, loc=\"upper right\")\n",
    "    plt.grid(True)\n",
    "\n",
    "plt.show()"
   ]
  },
  {
   "cell_type": "code",
   "execution_count": null,
   "metadata": {
    "collapsed": false,
    "jupyter": {
     "outputs_hidden": false
    }
   },
   "outputs": [],
   "source": [
    "plt.figure(1, figsize=[15,4])\n",
    "for j in range(len(mus)):\n",
    "    plt.subplot(1,3,j+1)\n",
    "    plt.title(\"$\\mu_\"+str(j+1)+\" = \"+str(mus[j])+\"$\")\n",
    "    for i in range(len(sigmas)):\n",
    "        plt.plot(x, stats.norm.cdf(x, loc=mus[j], scale=sigmas[i]))      \n",
    "     \n",
    "    strSt = [\"$\\sigma_\"]*len(sigmas)\n",
    "    strEnd = [\"$\"]*len(sigmas)\n",
    "    \n",
    "    legs = [strSt[k]+str(k+1)+\"=\"+str(sigmas[k])+strEnd[k] for k in range(len(sigmas))]\n",
    "\n",
    "    plt.legend(legs, loc=\"upper right\")\n",
    "    plt.grid(True)\n",
    "\n",
    "plt.show()"
   ]
  },
  {
   "cell_type": "markdown",
   "metadata": {},
   "source": [
    "<p>Математическое ожидание</p>"
   ]
  },
  {
   "cell_type": "code",
   "execution_count": null,
   "metadata": {
    "collapsed": false,
    "jupyter": {
     "outputs_hidden": false
    }
   },
   "outputs": [],
   "source": [
    "m = stats.norm.mean(loc=mu, scale=sigma)\n",
    "m"
   ]
  },
  {
   "cell_type": "markdown",
   "metadata": {},
   "source": [
    "<p>Дисперсия</p>"
   ]
  },
  {
   "cell_type": "code",
   "execution_count": null,
   "metadata": {
    "collapsed": false,
    "jupyter": {
     "outputs_hidden": false
    }
   },
   "outputs": [],
   "source": [
    "v = stats.norm.var(loc=mu, scale=sigma)\n",
    "v"
   ]
  },
  {
   "cell_type": "markdown",
   "metadata": {},
   "source": [
    "<p>Стандартное отклонение</p>"
   ]
  },
  {
   "cell_type": "code",
   "execution_count": null,
   "metadata": {
    "collapsed": false,
    "jupyter": {
     "outputs_hidden": false
    }
   },
   "outputs": [],
   "source": [
    "s = stats.norm.std(loc=mu, scale=sigma)\n",
    "s"
   ]
  },
  {
   "cell_type": "markdown",
   "metadata": {},
   "source": [
    "<p>Медиан</p>"
   ]
  },
  {
   "cell_type": "code",
   "execution_count": null,
   "metadata": {
    "collapsed": false,
    "jupyter": {
     "outputs_hidden": false
    }
   },
   "outputs": [],
   "source": [
    "med = stats.norm.median(loc=mu, scale=sigma)\n",
    "med"
   ]
  },
  {
   "cell_type": "markdown",
   "metadata": {},
   "source": [
    "<p>Группа характеристик</p>"
   ]
  },
  {
   "cell_type": "code",
   "execution_count": null,
   "metadata": {
    "collapsed": false,
    "jupyter": {
     "outputs_hidden": false
    }
   },
   "outputs": [],
   "source": [
    "mvsk = stats.norm.stats(moments=\"mvsk\", loc=mu, scale=sigma) #m - mean, v - var, s - skew, k - kurtosis\n",
    "mvsk"
   ]
  },
  {
   "cell_type": "markdown",
   "metadata": {},
   "source": [
    "<p>Начальный момент $k$-го порядка</p>"
   ]
  },
  {
   "cell_type": "code",
   "execution_count": null,
   "metadata": {
    "collapsed": false,
    "jupyter": {
     "outputs_hidden": false
    }
   },
   "outputs": [],
   "source": [
    "k = 2\n",
    "stats.norm.moment(k, loc=mu, scale=sigma)"
   ]
  },
  {
   "cell_type": "markdown",
   "metadata": {},
   "source": [
    "<p>Другие возможности</p>"
   ]
  },
  {
   "cell_type": "code",
   "execution_count": null,
   "metadata": {
    "collapsed": true,
    "jupyter": {
     "outputs_hidden": true
    }
   },
   "outputs": [],
   "source": [
    "nf_model = stats.norm(loc=mu, scale=sigma)"
   ]
  },
  {
   "cell_type": "code",
   "execution_count": null,
   "metadata": {
    "collapsed": false,
    "jupyter": {
     "outputs_hidden": false
    }
   },
   "outputs": [],
   "source": [
    "nf_model.mean()"
   ]
  },
  {
   "cell_type": "code",
   "execution_count": null,
   "metadata": {
    "collapsed": false,
    "jupyter": {
     "outputs_hidden": false
    }
   },
   "outputs": [],
   "source": [
    "nf_model.var()"
   ]
  },
  {
   "cell_type": "code",
   "execution_count": null,
   "metadata": {
    "collapsed": false,
    "jupyter": {
     "outputs_hidden": false
    }
   },
   "outputs": [],
   "source": [
    "nf_model.std()"
   ]
  },
  {
   "cell_type": "code",
   "execution_count": null,
   "metadata": {
    "collapsed": false,
    "jupyter": {
     "outputs_hidden": false
    }
   },
   "outputs": [],
   "source": [
    "nf_model.median()"
   ]
  },
  {
   "cell_type": "code",
   "execution_count": null,
   "metadata": {
    "collapsed": false,
    "jupyter": {
     "outputs_hidden": false
    }
   },
   "outputs": [],
   "source": [
    "nf_model.moment(k)"
   ]
  },
  {
   "cell_type": "code",
   "execution_count": null,
   "metadata": {
    "collapsed": false,
    "jupyter": {
     "outputs_hidden": false
    }
   },
   "outputs": [],
   "source": [
    "nf_model.stats(moments=\"mvsk\") #m - mean, v - var, s - skew, k - kurtosis"
   ]
  },
  {
   "cell_type": "code",
   "execution_count": null,
   "metadata": {
    "collapsed": false,
    "jupyter": {
     "outputs_hidden": false
    }
   },
   "outputs": [],
   "source": [
    "nf_model.stats(moments=\"mv\")"
   ]
  },
  {
   "cell_type": "markdown",
   "metadata": {},
   "source": [
    "<p><b>Генератор случайных значений с нормальным распределением</b></p>"
   ]
  },
  {
   "cell_type": "code",
   "execution_count": null,
   "metadata": {
    "collapsed": false,
    "jupyter": {
     "outputs_hidden": false
    }
   },
   "outputs": [],
   "source": [
    "#NumPy\n",
    "np.random.randn(10) #mu=0, sigma=1"
   ]
  },
  {
   "cell_type": "code",
   "execution_count": null,
   "metadata": {
    "collapsed": false,
    "jupyter": {
     "outputs_hidden": false
    }
   },
   "outputs": [],
   "source": [
    "#NumPy\n",
    "np.random.seed(1234) #для постоянства значений (псевдослучайные числа)\n",
    "sigma*np.random.randn(10) + mu"
   ]
  },
  {
   "cell_type": "code",
   "execution_count": null,
   "metadata": {
    "collapsed": false,
    "jupyter": {
     "outputs_hidden": false
    }
   },
   "outputs": [],
   "source": [
    "#NumPy\n",
    "np.random.seed(1234) \n",
    "np.random.normal(loc=mu, scale=sigma, size=10)"
   ]
  },
  {
   "cell_type": "code",
   "execution_count": null,
   "metadata": {
    "collapsed": false,
    "jupyter": {
     "outputs_hidden": false
    }
   },
   "outputs": [],
   "source": [
    "#SciPy\n",
    "mu = 3.5\n",
    "sigma = 2.0\n",
    "numSample = 100\n",
    "rnd = stats.norm.rvs(loc=mu, scale=sigma, size=numSample, random_state=1234) #random_state - для постоянства значений (seed)\n",
    "rnd"
   ]
  },
  {
   "cell_type": "code",
   "execution_count": null,
   "metadata": {
    "collapsed": false,
    "jupyter": {
     "outputs_hidden": false
    }
   },
   "outputs": [],
   "source": [
    "rm = rnd.mean()\n",
    "print(\"mean для равномерного закона:\", m)\n",
    "print(\"mean для сгенерированных значений:\", rm)"
   ]
  },
  {
   "cell_type": "code",
   "execution_count": null,
   "metadata": {
    "collapsed": false,
    "jupyter": {
     "outputs_hidden": false
    }
   },
   "outputs": [],
   "source": [
    "rv = rnd.var()\n",
    "print(\"var для равномерного закона:\", v)\n",
    "print(\"var для сгенерированных значений (n=%i): %f\" % (numSample, rv))"
   ]
  },
  {
   "cell_type": "code",
   "execution_count": null,
   "metadata": {
    "collapsed": false,
    "jupyter": {
     "outputs_hidden": false
    }
   },
   "outputs": [],
   "source": [
    "rv = rnd.std()\n",
    "print(\"std для равномерного закона:\", s)\n",
    "print(\"std для сгенерированных значений (n=%i): %f\" % (numSample, rv))"
   ]
  },
  {
   "cell_type": "code",
   "execution_count": null,
   "metadata": {
    "collapsed": false,
    "jupyter": {
     "outputs_hidden": false
    }
   },
   "outputs": [],
   "source": [
    "plt.figure(1, figsize=[12,4])\n",
    "\n",
    "plt.subplot(1,2,1)\n",
    "#plt.vlines(rud, 0, 0.05, lw=2, color=\"orange\")\n",
    "plt.plot(rnd, np.zeros(len(rnd)), \"o\", color=\"orange\")\n",
    "plt.vlines(rnd, -1, 1, lw=2, color=\"yellow\")\n",
    "plt.ylim([-1, 1])\n",
    "plt.xlim([-6, 10])\n",
    "plt.grid(True)\n",
    "\n",
    "plt.subplot(1,2,2)\n",
    "plt.hist(rnd, 30, density=False, color=\"green\")\n",
    "\n",
    "plt.vlines(rnd, -0.5, 0.5, lw=2, color=\"yellow\")\n",
    "plt.plot(rnd, np.zeros(len(rnd)), \"o\", color=\"orange\")\n",
    "\n",
    "plt.grid(True)\n",
    "plt.show()"
   ]
  },
  {
   "cell_type": "code",
   "execution_count": null,
   "metadata": {
    "collapsed": false,
    "jupyter": {
     "outputs_hidden": false
    }
   },
   "outputs": [],
   "source": [
    "plt.figure(1, figsize=[15,4])\n",
    "\n",
    "plt.subplot(1,3,1)\n",
    "plt.title(\"Histogram\")\n",
    "plt.hist(rnd, 30, density=False, color=\"green\")\n",
    "\n",
    "plt.vlines(rnd, -0.5, 0.5, lw=2, color=\"yellow\")\n",
    "plt.plot(rnd, np.zeros(len(rnd)), \"o\", color=\"orange\")\n",
    "plt.grid(True)\n",
    "\n",
    "plt.subplot(1,3,2)\n",
    "plt.title(\"Normalized Histogram\")\n",
    "plt.hist(rnd, 30, density=True, color=\"green\")\n",
    "\n",
    "plt.vlines(rnd, -0.02, 0.02, lw=2, color=\"yellow\")\n",
    "plt.plot(rnd, np.zeros(len(rnd)), \"o\", color=\"orange\")\n",
    "plt.grid(True)\n",
    "\n",
    "plt.subplot(1,3,3)\n",
    "plt.title(\"Normalized Histogram vs pdf\")\n",
    "plt.hist(rnd, 30, density=True, color=\"green\")\n",
    "\n",
    "plt.vlines(rnd, -0.02, 0.02, lw=2, color=\"yellow\")\n",
    "plt.plot(rnd, np.zeros(len(rnd)), \"o\", color=\"orange\")\n",
    "\n",
    "plt.plot(x, y_pdf, color=\"blue\", lw=2)\n",
    "plt.xlim([-3*sigma + mu, 3*sigma + mu])\n",
    "plt.grid(True)\n",
    "\n",
    "plt.show()"
   ]
  },
  {
   "cell_type": "code",
   "execution_count": null,
   "metadata": {
    "collapsed": false,
    "jupyter": {
     "outputs_hidden": false
    }
   },
   "outputs": [],
   "source": [
    "def plotGr_ND(nd, num):\n",
    "    plt.subplot(2,2,num)\n",
    "    plt.title(\"Samples: $10^{\" + str(num)+\"}$\")\n",
    "    count, bins, ignored = plt.hist(nd, 30, color=\"green\", density=True)   \n",
    "    plt.plot(x, y_pdf, color=\"blue\", lw=2)\n",
    "    plt.xlim([-3*sigma + mu, 3*sigma + mu])\n",
    "    plt.grid(True)\n",
    "    \n",
    "nds = [stats.norm.rvs(loc=mu, scale=sigma, size=10**i) for i in range(1,5)]\n",
    "\n",
    "plt.figure(1, figsize=[12,10])\n",
    "[plotGr_ND(nds[i-1], i) for i in range(1, 5)]\n",
    "plt.show()"
   ]
  },
  {
   "cell_type": "code",
   "execution_count": null,
   "metadata": {
    "collapsed": false,
    "jupyter": {
     "outputs_hidden": false
    }
   },
   "outputs": [],
   "source": [
    "rnd_cdf = np.array(range(1, len(rnd) + 1)) / len(rnd)\n",
    "rnd_cdf"
   ]
  },
  {
   "cell_type": "code",
   "execution_count": null,
   "metadata": {
    "collapsed": false,
    "jupyter": {
     "outputs_hidden": false
    }
   },
   "outputs": [],
   "source": [
    "plt.plot(sorted(rnd), rnd_cdf, \"-\", lw=2)\n",
    "plt.vlines(sorted(rnd), [0], rnd_cdf, color=\"lightblue\")\n",
    "plt.plot(x, y_cdf, lw=2)\n",
    "plt.grid(True)\n",
    "plt.legend([\"cdf for random values\",\"cdf\"], loc=\"upper left\")\n",
    "plt.show()"
   ]
  },
  {
   "cell_type": "markdown",
   "metadata": {},
   "source": [
    "<p>Подбор параметров loc и space для множества значений</p>"
   ]
  },
  {
   "cell_type": "code",
   "execution_count": null,
   "metadata": {
    "collapsed": false,
    "jupyter": {
     "outputs_hidden": false
    }
   },
   "outputs": [],
   "source": [
    "loc, space = stats.norm.fit(rnd)\n",
    "print(\"mu = \", loc)\n",
    "print(\"sigma =\", space)"
   ]
  },
  {
   "cell_type": "markdown",
   "metadata": {
    "collapsed": false,
    "jupyter": {
     "outputs_hidden": false
    }
   },
   "source": [
    "<a name=\"2c\"></a>\n",
    "<div style=\"display:table; width:100%\">\n",
    "    <div style=\"display:table-row\">\n",
    "        <div style=\"display:table-cell; width:80%; font-style:italic; font-weight:bold; font-size:12pt\">\n",
    "            c. Биномиальное распределение / <span style=\"font-style:normal; font-weight:normal\"><a href=\"https://ru.wikipedia.org/wiki/%D0%91%D0%B8%D0%BD%D0%BE%D0%BC%D0%B8%D0%B0%D0%BB%D1%8C%D0%BD%D0%BE%D0%B5_%D1%80%D0%B0%D1%81%D0%BF%D1%80%D0%B5%D0%B4%D0%B5%D0%BB%D0%B5%D0%BD%D0%B8%D0%B5\">wiki</a> <a href=\"http://docs.scipy.org/doc/scipy-0.16.0/reference/generated/scipy.stats.binom.html#scipy.stats.binom\">scipy</a></span>\n",
    "        </div>\n",
    "        <div style=\"display:table-cell; border:1px solid lightgrey; width:20%\">\n",
    "            <div style=\"display:table-cell; width:10%; text-align:center; background-color:whitesmoke;\">\n",
    "                <a href=\"#2b\">Назад</a>\n",
    "            </div>\n",
    "            <div style=\"display:table-cell; width:10%; text-align:center;\">\n",
    "                <a href=\"#2d\">Далее</a>\n",
    "            </div>\n",
    "        </div>\n",
    "    </div>\n",
    "</div>"
   ]
  },
  {
   "cell_type": "markdown",
   "metadata": {},
   "source": [
    "<p>Дискретная случайная величина $X$ имеет <b>биномиальный закон распределения</b> с параметрами $n$ и $p$, если она принимает значения $0, 1, 2, \\ldots, m, \\ldots, n$ с вероятностями:</p>\n",
    "<p>$$P(X=m)=C^m_n p^m q^{n-m},$$</p>\n",
    "<p>где $0<p<1$, $q=1-p$.</p>"
   ]
  },
  {
   "cell_type": "markdown",
   "metadata": {},
   "source": [
    "<p>Математическое ожидание:</p>\n",
    "<p>$$M(X)=np$$</p>"
   ]
  },
  {
   "cell_type": "markdown",
   "metadata": {},
   "source": [
    "<p>Дисперсия:</p>\n",
    "<p>$$D(X)=npq$$</p>"
   ]
  },
  {
   "cell_type": "markdown",
   "metadata": {
    "collapsed": true,
    "jupyter": {
     "outputs_hidden": true
    }
   },
   "source": [
    "<p><b>Биномиальный закон средствами Python</b></p>"
   ]
  },
  {
   "cell_type": "markdown",
   "metadata": {},
   "source": [
    "<p>Основные параметры распределения</p>"
   ]
  },
  {
   "cell_type": "code",
   "execution_count": null,
   "metadata": {
    "collapsed": true,
    "jupyter": {
     "outputs_hidden": true
    }
   },
   "outputs": [],
   "source": [
    "n = 20\n",
    "p = 0.1"
   ]
  },
  {
   "cell_type": "markdown",
   "metadata": {},
   "source": [
    "<p>Функция вероятности (probability mass function - pmf)</p>"
   ]
  },
  {
   "cell_type": "code",
   "execution_count": null,
   "metadata": {
    "collapsed": false,
    "jupyter": {
     "outputs_hidden": false
    }
   },
   "outputs": [],
   "source": [
    "#SciPy\n",
    "x0 = 2\n",
    "y_pmf0 = stats.binom.pmf(x0, n, p)\n",
    "y_pmf0"
   ]
  },
  {
   "cell_type": "markdown",
   "metadata": {},
   "source": [
    "<p>Функция распределения (cumulative distribution function - cdf)</p>"
   ]
  },
  {
   "cell_type": "code",
   "execution_count": null,
   "metadata": {
    "collapsed": false,
    "jupyter": {
     "outputs_hidden": false
    }
   },
   "outputs": [],
   "source": [
    "x0 = 2\n",
    "y_cdf0 = stats.binom.cdf(x0, n, p)\n",
    "y_cdf0"
   ]
  },
  {
   "cell_type": "markdown",
   "metadata": {},
   "source": [
    "<p>Квантиль (percent point function - ppf)</p>"
   ]
  },
  {
   "cell_type": "code",
   "execution_count": null,
   "metadata": {
    "collapsed": false,
    "jupyter": {
     "outputs_hidden": false
    }
   },
   "outputs": [],
   "source": [
    "q0 = 0.5\n",
    "x0 = stats.binom.ppf(q0, n, p)\n",
    "x0"
   ]
  },
  {
   "cell_type": "markdown",
   "metadata": {},
   "source": [
    "<p>Графики</p>"
   ]
  },
  {
   "cell_type": "code",
   "execution_count": null,
   "metadata": {
    "collapsed": false,
    "jupyter": {
     "outputs_hidden": false
    }
   },
   "outputs": [],
   "source": [
    "x = np.arange(0, n+1)\n",
    "y_pmf = stats.binom.pmf(x, n, p)\n",
    "y_cdf = stats.binom.cdf(x, n, p)\n",
    "\n",
    "q = np.linspace(0, 1, 100)\n",
    "y_ppf = stats.binom.ppf(q, n, p)"
   ]
  },
  {
   "cell_type": "code",
   "execution_count": null,
   "metadata": {
    "collapsed": false,
    "jupyter": {
     "outputs_hidden": false
    }
   },
   "outputs": [],
   "source": [
    "plt.figure(1, figsize=[15,4])\n",
    "\n",
    "plt.subplot(1,3,1)\n",
    "plt.plot(x, y_pmf, lw=2)\n",
    "plt.title(\"pmf\")\n",
    "plt.grid(True)\n",
    "\n",
    "plt.subplot(1,3,2)\n",
    "plt.plot(x, y_cdf, color=\"green\", lw=2)\n",
    "plt.title(\"cdf\")\n",
    "plt.ylim([0,1.1])\n",
    "plt.xlim([0,20])\n",
    "plt.grid(True)\n",
    "\n",
    "plt.subplot(1,3,3)\n",
    "plt.plot(q, y_ppf, color=\"orange\", lw=2)\n",
    "plt.title(\"ppf\")\n",
    "plt.grid(True)\n",
    "\n",
    "plt.show()"
   ]
  },
  {
   "cell_type": "code",
   "execution_count": null,
   "metadata": {
    "collapsed": false,
    "jupyter": {
     "outputs_hidden": false
    }
   },
   "outputs": [],
   "source": [
    "plt.figure(1, figsize=[12,4])\n",
    "\n",
    "plt.subplot(1,2,1)\n",
    "\n",
    "plt.title(\"pmf vs cdf\")\n",
    "plt.yticks(color=\"blue\")\n",
    "plt.plot(x, y_pmf, color=\"blue\", lw=2)\n",
    "plt.grid(True, color=\"blue\")\n",
    "\n",
    "plt.twinx()\n",
    "plt.yticks(color=\"green\")\n",
    "plt.ylim([0,1.1])\n",
    "plt.plot(x, y_cdf, color=\"green\", lw=2)\n",
    "plt.grid(True, color=\"green\")\n",
    "\n",
    "plt.subplot(1,2,2)\n",
    "\n",
    "plt.title(\"pmf vs ppf\")\n",
    "plt.yticks(color=\"blue\")\n",
    "plt.plot(y_pmf, x, color=\"blue\", lw=2)\n",
    "plt.grid(True, color=\"blue\")\n",
    "\n",
    "plt.twinx()\n",
    "\n",
    "plt.yticks(color=\"orange\")\n",
    "plt.plot(q, y_ppf, color=\"orange\", lw=2)\n",
    "plt.ylim([0,20])\n",
    "plt.grid(True, color=\"orange\")"
   ]
  },
  {
   "cell_type": "code",
   "execution_count": null,
   "metadata": {
    "collapsed": true,
    "jupyter": {
     "outputs_hidden": true
    }
   },
   "outputs": [],
   "source": [
    "ns = [10, 20, 50]\n",
    "ps = [0.1, 0.2, 0.4]"
   ]
  },
  {
   "cell_type": "code",
   "execution_count": null,
   "metadata": {
    "collapsed": false,
    "jupyter": {
     "outputs_hidden": false
    }
   },
   "outputs": [],
   "source": [
    "plt.figure(1, figsize=[15,4])\n",
    "for j in range(len(ns)):\n",
    "    plt.subplot(1,3,j+1)\n",
    "    plt.title(\"$n_\"+str(j+1)+\" = \"+str(ns[j])+\"$\")\n",
    "    xs = np.arange(0, ns[j]+1)\n",
    "    for i in range(len(ps)):\n",
    "        xs = np.arange(0, ns[j]+1)\n",
    "        plt.plot(xs,stats.binom.pmf(xs, ns[j], ps[i]),\"o-\")  \n",
    "     \n",
    "    strSt = [\"$p_\"]*len(ns)\n",
    "    strEnd = [\"$\"]*len(ns)\n",
    "    \n",
    "    legs = [strSt[k]+str(k+1)+\"=\"+str(ps[k])+strEnd[k] for k in range(len(ps))]\n",
    "\n",
    "    plt.legend(legs, loc=\"upper right\")\n",
    "    plt.grid(True)\n",
    "\n",
    "plt.show()"
   ]
  },
  {
   "cell_type": "code",
   "execution_count": null,
   "metadata": {
    "collapsed": false,
    "jupyter": {
     "outputs_hidden": false
    }
   },
   "outputs": [],
   "source": [
    "plt.figure(1, figsize=[15,4])\n",
    "for j in range(len(ns)):\n",
    "    plt.subplot(1,3,j+1)\n",
    "    plt.title(\"$n_\"+str(j+1)+\" = \"+str(ns[j])+\"$\")\n",
    "    xs = np.arange(0, ns[j]+1)\n",
    "    for i in range(len(ps)):\n",
    "        xs = np.arange(0, ns[j]+1)\n",
    "        plt.plot(xs,stats.binom.cdf(xs, ns[j], ps[i]),\"o-\")  \n",
    "     \n",
    "    strSt = [\"$p_\"]*len(ns)\n",
    "    strEnd = [\"$\"]*len(ns)\n",
    "    \n",
    "    legs = [strSt[k]+str(k+1)+\"=\"+str(ps[k])+strEnd[k] for k in range(len(ps))]\n",
    "\n",
    "    plt.legend(legs, loc=\"upper right\")\n",
    "    plt.grid(True)\n",
    "\n",
    "plt.show()"
   ]
  },
  {
   "cell_type": "markdown",
   "metadata": {},
   "source": [
    "<p>Математическое ожидание</p>"
   ]
  },
  {
   "cell_type": "code",
   "execution_count": null,
   "metadata": {
    "collapsed": false,
    "jupyter": {
     "outputs_hidden": false
    }
   },
   "outputs": [],
   "source": [
    "m = stats.binom.mean(n, p)\n",
    "m"
   ]
  },
  {
   "cell_type": "markdown",
   "metadata": {},
   "source": [
    "<p>Дисперсия</p>"
   ]
  },
  {
   "cell_type": "code",
   "execution_count": null,
   "metadata": {
    "collapsed": false,
    "jupyter": {
     "outputs_hidden": false
    }
   },
   "outputs": [],
   "source": [
    "v = stats.binom.var(n, p)\n",
    "v"
   ]
  },
  {
   "cell_type": "markdown",
   "metadata": {},
   "source": [
    "<p>Стандартное отклонение</p>"
   ]
  },
  {
   "cell_type": "code",
   "execution_count": null,
   "metadata": {
    "collapsed": false,
    "jupyter": {
     "outputs_hidden": false
    }
   },
   "outputs": [],
   "source": [
    "s = stats.binom.std(n, p)\n",
    "s"
   ]
  },
  {
   "cell_type": "markdown",
   "metadata": {},
   "source": [
    "<p>Медиан</p>"
   ]
  },
  {
   "cell_type": "code",
   "execution_count": null,
   "metadata": {
    "collapsed": false,
    "jupyter": {
     "outputs_hidden": false
    }
   },
   "outputs": [],
   "source": [
    "med = stats.binom.median(n, p)\n",
    "med"
   ]
  },
  {
   "cell_type": "markdown",
   "metadata": {},
   "source": [
    "<p>Группа характеристик</p>"
   ]
  },
  {
   "cell_type": "code",
   "execution_count": null,
   "metadata": {
    "collapsed": false,
    "jupyter": {
     "outputs_hidden": false
    }
   },
   "outputs": [],
   "source": [
    "mvsk = stats.binom.stats(moments=\"mvsk\", n=n, p=p) #m - mean, v - var, s - skew, k - kurtosis\n",
    "mvsk"
   ]
  },
  {
   "cell_type": "markdown",
   "metadata": {},
   "source": [
    "<p>Начальный момент $k$-го порядка</p>"
   ]
  },
  {
   "cell_type": "code",
   "execution_count": null,
   "metadata": {
    "collapsed": false,
    "jupyter": {
     "outputs_hidden": false
    }
   },
   "outputs": [],
   "source": [
    "k = 2\n",
    "stats.binom.moment(k, n, p)"
   ]
  },
  {
   "cell_type": "markdown",
   "metadata": {},
   "source": [
    "<p>Другие возможности</p>"
   ]
  },
  {
   "cell_type": "code",
   "execution_count": null,
   "metadata": {
    "collapsed": true,
    "jupyter": {
     "outputs_hidden": true
    }
   },
   "outputs": [],
   "source": [
    "nf_model = stats.binom(n, p)"
   ]
  },
  {
   "cell_type": "code",
   "execution_count": null,
   "metadata": {
    "collapsed": false,
    "jupyter": {
     "outputs_hidden": false
    }
   },
   "outputs": [],
   "source": [
    "nf_model.mean()"
   ]
  },
  {
   "cell_type": "code",
   "execution_count": null,
   "metadata": {
    "collapsed": false,
    "jupyter": {
     "outputs_hidden": false
    }
   },
   "outputs": [],
   "source": [
    "nf_model.var()"
   ]
  },
  {
   "cell_type": "code",
   "execution_count": null,
   "metadata": {
    "collapsed": false,
    "jupyter": {
     "outputs_hidden": false
    }
   },
   "outputs": [],
   "source": [
    "nf_model.std()"
   ]
  },
  {
   "cell_type": "code",
   "execution_count": null,
   "metadata": {
    "collapsed": false,
    "jupyter": {
     "outputs_hidden": false
    }
   },
   "outputs": [],
   "source": [
    "nf_model.median()"
   ]
  },
  {
   "cell_type": "code",
   "execution_count": null,
   "metadata": {
    "collapsed": false,
    "jupyter": {
     "outputs_hidden": false
    }
   },
   "outputs": [],
   "source": [
    "nf_model.moment(k)"
   ]
  },
  {
   "cell_type": "code",
   "execution_count": null,
   "metadata": {
    "collapsed": false,
    "jupyter": {
     "outputs_hidden": false
    }
   },
   "outputs": [],
   "source": [
    "nf_model.stats(moments=\"mvsk\") #m - mean, v - var, s - skew, k - kurtosis"
   ]
  },
  {
   "cell_type": "code",
   "execution_count": null,
   "metadata": {
    "collapsed": false,
    "jupyter": {
     "outputs_hidden": false
    }
   },
   "outputs": [],
   "source": [
    "nf_model.stats(moments=\"mv\")"
   ]
  },
  {
   "cell_type": "markdown",
   "metadata": {},
   "source": [
    "<p><b>Генератор случайных значений с биномиальным распределением</b></p>"
   ]
  },
  {
   "cell_type": "code",
   "execution_count": null,
   "metadata": {
    "collapsed": true,
    "jupyter": {
     "outputs_hidden": true
    }
   },
   "outputs": [],
   "source": [
    "n = 20\n",
    "p = 0.1"
   ]
  },
  {
   "cell_type": "code",
   "execution_count": null,
   "metadata": {
    "collapsed": false,
    "jupyter": {
     "outputs_hidden": false
    }
   },
   "outputs": [],
   "source": [
    "#SciPy\n",
    "numSample = 100\n",
    "rbd = stats.binom.rvs(n, p, size=numSample, random_state=1234) #random_state - для постоянства значений (seed)\n",
    "rbd"
   ]
  },
  {
   "cell_type": "code",
   "execution_count": null,
   "metadata": {
    "collapsed": false,
    "jupyter": {
     "outputs_hidden": false
    }
   },
   "outputs": [],
   "source": [
    "rm = rbd.mean()\n",
    "print(\"mean для равномерного закона:\", m)\n",
    "print(\"mean для сгенерированных значений:\", rm)"
   ]
  },
  {
   "cell_type": "code",
   "execution_count": null,
   "metadata": {
    "collapsed": false,
    "jupyter": {
     "outputs_hidden": false
    }
   },
   "outputs": [],
   "source": [
    "rv = rbd.var()\n",
    "print(\"var для равномерного закона:\", v)\n",
    "print(\"var для сгенерированных значений (n=%i): %f\" % (numSample, rv))"
   ]
  },
  {
   "cell_type": "code",
   "execution_count": null,
   "metadata": {
    "collapsed": false,
    "jupyter": {
     "outputs_hidden": false
    }
   },
   "outputs": [],
   "source": [
    "rv = rbd.std()\n",
    "print(\"std для равномерного закона:\", s)\n",
    "print(\"std для сгенерированных значений (n=%i): %f\" % (numSample, rv))"
   ]
  },
  {
   "cell_type": "code",
   "execution_count": null,
   "metadata": {
    "collapsed": false,
    "jupyter": {
     "outputs_hidden": false
    }
   },
   "outputs": [],
   "source": [
    "plt.figure(1, figsize=[12,4])\n",
    "\n",
    "plt.subplot(1,2,1)\n",
    "\n",
    "plt.plot(rbd, np.zeros(len(rbd)), \"o\", color=\"orange\")\n",
    "plt.vlines(rbd, -1, 1, lw=2, color=\"yellow\")\n",
    "plt.ylim([-1, 1])\n",
    "plt.xlim([-6, 10])\n",
    "plt.grid(True)\n",
    "\n",
    "plt.subplot(1,2,2)\n",
    "plt.hist(rbd-0.25, 30, density=False, color=\"green\", width=0.5)\n",
    "\n",
    "plt.vlines(rbd, -2, 2, lw=2, color=\"yellow\")\n",
    "plt.plot(rbd, np.zeros(len(rbd)), \"o\", color=\"orange\")\n",
    "\n",
    "plt.grid(True)\n",
    "plt.show()"
   ]
  },
  {
   "cell_type": "code",
   "execution_count": null,
   "metadata": {
    "collapsed": true,
    "jupyter": {
     "outputs_hidden": true
    }
   },
   "outputs": [],
   "source": [
    "yy_cdf = np.array(np.bincount(rbd)) / len(rbd)\n",
    "xx = np.nonzero(yy_cdf)[0] - 0.25"
   ]
  },
  {
   "cell_type": "code",
   "execution_count": null,
   "metadata": {
    "collapsed": false,
    "jupyter": {
     "outputs_hidden": false
    }
   },
   "outputs": [],
   "source": [
    "plt.bar(xx, yy_cdf, width=0.5, color=\"orange\")\n",
    "\n",
    "plt.plot(x,stats.binom.pmf(x, n, p),\"go-\")\n",
    "plt.xlim([0, 10])\n",
    "plt.grid(True)\n",
    "\n",
    "plt.show()"
   ]
  },
  {
   "cell_type": "code",
   "execution_count": null,
   "metadata": {
    "collapsed": false,
    "jupyter": {
     "outputs_hidden": false
    }
   },
   "outputs": [],
   "source": [
    "plt.figure(1, figsize=[15,4])\n",
    "\n",
    "plt.subplot(1,3,1)\n",
    "plt.title(\"Histogram\")\n",
    "plt.hist(rbd-0.25, 30, density=False, color=\"green\", width=0.5)\n",
    "\n",
    "plt.vlines(rbd, -0.5, 0.5, lw=2, color=\"yellow\")\n",
    "plt.plot(rbd, np.zeros(len(rbd)), \"o\", color=\"orange\")\n",
    "plt.grid(True)\n",
    "\n",
    "plt.subplot(1,3,2)\n",
    "plt.title(\"Normalized bars\")\n",
    "plt.bar(xx, yy_cdf, width=0.5, color=\"orange\")\n",
    "plt.xlim([-1, 8])\n",
    "plt.grid(True)\n",
    "\n",
    "plt.vlines(rbd, -0.02, 0.02, lw=2, color=\"yellow\")\n",
    "plt.plot(rbd, np.zeros(len(rbd)), \"o\", color=\"orange\")\n",
    "plt.grid(True)\n",
    "\n",
    "plt.subplot(1,3,3)\n",
    "plt.title(\"Normalized bars vs pmf\")\n",
    "plt.bar(xx, yy_cdf, width=0.5, color=\"orange\")\n",
    "plt.plot(x,stats.binom.pmf(x, n, p),\"go-\")\n",
    "plt.xlim([-1, 8])\n",
    "\n",
    "plt.vlines(rbd, -0.02, 0.02, lw=2, color=\"yellow\")\n",
    "plt.plot(rbd, np.zeros(len(rbd)), \"o\", color=\"orange\")\n",
    "\n",
    "plt.grid(True)\n",
    "\n",
    "plt.show()"
   ]
  },
  {
   "cell_type": "code",
   "execution_count": null,
   "metadata": {
    "collapsed": false,
    "jupyter": {
     "outputs_hidden": false
    }
   },
   "outputs": [],
   "source": [
    "def plotGr_BD(bd, num, x):\n",
    "    yy = np.array(np.bincount(bd)) / len(bd)\n",
    "    xx = np.nonzero(yy)[0] - 0.25\n",
    "    \n",
    "    plt.subplot(2,2,num)\n",
    "    \n",
    "    plt.title(\"Samples: $10^{\" + str(num+1)+\"}$\")\n",
    "    \n",
    "    plt.bar(xx, yy, width=0.5, color=\"orange\")\n",
    "    plt.plot(x, stats.binom.pmf(x, n, p),\"go-\")\n",
    "    plt.grid(True)\n",
    "\n",
    "bds = [stats.binom.rvs(n=n, p=p, loc=0, size=10**i, random_state=1234) for i in range(2,6)]\n",
    "\n",
    "plt.figure(1, figsize=[12,10])\n",
    "[plotGr_BD(bds[i-1], i, x) for i in range(1, 5)]\n",
    "plt.show()"
   ]
  },
  {
   "cell_type": "code",
   "execution_count": null,
   "metadata": {
    "collapsed": false,
    "jupyter": {
     "outputs_hidden": false
    }
   },
   "outputs": [],
   "source": [
    "rbd_cdf = np.array(range(1, len(rbd) + 1)) / len(rbd)\n",
    "rbd_cdf"
   ]
  },
  {
   "cell_type": "markdown",
   "metadata": {},
   "source": [
    "<a name=\"3\"></a>\n",
    "<div style=\"display:table; width:100%; padding-top:10px; padding-bottom:10px; border-bottom:1px solid lightgrey\">\n",
    "    <div style=\"display:table-row\">\n",
    "        <div style=\"display:table-cell; width:80%; font-size:14pt; font-weight:bold\">3. Источники</div>\n",
    "    \t<div style=\"display:table-cell; width:20%; text-align:center; background-color:whitesmoke; border:1px solid lightgrey\"><a href=\"#0\">К содержанию</a></div>\n",
    "    </div>\n",
    "</div>"
   ]
  },
  {
   "cell_type": "markdown",
   "metadata": {},
   "source": [
    "<a href=\"http://docs.scipy.org/doc/scipy-0.16.0/reference/stats.html\">Statistical functions (scipy.stats)</a><br>\n",
    "<a href=\"http://docs.scipy.org/doc/scipy/reference/tutorial/stats.html\">Statistics (scipy.stats)</a>\n",
    "<p>Кремер Н.Ш. Теория вероятностей и математическая статистика</p>"
   ]
  },
  {
   "cell_type": "code",
   "execution_count": null,
   "metadata": {
    "collapsed": true,
    "jupyter": {
     "outputs_hidden": true
    }
   },
   "outputs": [],
   "source": []
  }
 ],
 "metadata": {
  "kernelspec": {
   "display_name": "Python 3 (ipykernel)",
   "language": "python",
   "name": "python3"
  },
  "language_info": {
   "codemirror_mode": {
    "name": "ipython",
    "version": 3
   },
   "file_extension": ".py",
   "mimetype": "text/x-python",
   "name": "python",
   "nbconvert_exporter": "python",
   "pygments_lexer": "ipython3",
   "version": "3.9.21"
  }
 },
 "nbformat": 4,
 "nbformat_minor": 4
}
