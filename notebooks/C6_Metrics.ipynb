{
 "cells": [
  {
   "cell_type": "markdown",
   "metadata": {},
   "source": [
    "<div style=\"font-size:18pt; padding-top:20px; text-align:center\">СЕМИНАР. <b>Метрики качества</b></div><hr>\n",
    "<div style=\"text-align:right;\">Папулин С.Ю. <span style=\"font-style: italic;font-weight: bold;\">(papulin.study@yandex.ru)</span></div>"
   ]
  },
  {
   "cell_type": "markdown",
   "metadata": {},
   "source": [
    "<a name=\"0\"></a>\n",
    "<div><span style=\"font-size:14pt; font-weight:bold\">Содержание</span>\n",
    "    <ol>\n",
    "        <li><a href=\"#1\">Метрики регрессии</a>\n",
    "          <ol style = \"list-style-type:lower-alpha\">\n",
    "                <li><a href=\"#1a\">Средняя абсолютная ошибка</a></li>\n",
    "                <li><a href=\"#1b\">Среднеквадратическая ошибка</a></li>\n",
    "                <li><a href=\"#1c\">Коэффициент детерминации R^2</a></li>\n",
    "            </ol></li>\n",
    "        <li><a href=\"#2\">Метрики классификации</a>\n",
    "             <ol style = \"list-style-type:lower-alpha\">\n",
    "                <li><a href=\"#2a\">Аккуратность</a></li>\n",
    "                <li><a href=\"#2b\">Точность</a></li>\n",
    "                <li><a href=\"#2c\">Полнота</a></li>\n",
    "                <li><a href=\"#2d\">F-мера</a></li>\n",
    "                <li><a href=\"#2e\">Матрица ошибок</a></li>\n",
    "                <li><a href=\"#2e\">ROC-кривая</a></li>\n",
    "                <li><a href=\"#2e\">Кривая Точность-Полнота</a></li>\n",
    "                <li><a href=\"#2f\">Другое</a></li>\n",
    "            </ol></li>\n",
    "        <li><a href=\"#3\">Источники</a>\n",
    "        </li>\n",
    "    </ol>\n",
    "</div>"
   ]
  },
  {
   "cell_type": "markdown",
   "metadata": {},
   "source": [
    "<p><b>Подключение библиотек</b></p>"
   ]
  },
  {
   "cell_type": "code",
   "execution_count": null,
   "metadata": {},
   "outputs": [],
   "source": [
    "import numpy as np\n",
    "import matplotlib.pyplot as plt\n",
    "%matplotlib inline"
   ]
  },
  {
   "cell_type": "markdown",
   "metadata": {},
   "source": [
    "<a name=\"1\"></a>\n",
    "<div style=\"display:table; width:100%; padding-top:10px; padding-bottom:10px; border-bottom:1px solid lightgrey\">\n",
    "    <div style=\"display:table-row\">\n",
    "        <div style=\"display:table-cell; width:80%; font-size:14pt; font-weight:bold\">1. Метрики регрессии</div>\n",
    "    \t<div style=\"display:table-cell; width:20%; text-align:center; background-color:whitesmoke; border:1px solid lightgrey\"><a href=\"#0\">К содержанию</a></div>\n",
    "    </div>\n",
    "</div>"
   ]
  },
  {
   "cell_type": "markdown",
   "metadata": {},
   "source": [
    "<a name=\"1a\"></a>\n",
    "<div style=\"display:table; width:100%\">\n",
    "    <div style=\"display:table-row\">\n",
    "        <div style=\"display:table-cell; width:80%; font-style:italic; font-weight:bold; font-size:12pt\">\n",
    "            a. Средняя абсолютная ошибка (Mean Absolute Error - MAE) / <span style=\"font-style:normal; font-weight:normal\"><a href=\"\">wiki</a> <a href=\"http://scikit-learn.org/stable/modules/generated/sklearn.metrics.mean_absolute_error.html\">sklearn</a></span>\n",
    "        </div>\n",
    "        <div style=\"display:table-cell; border:1px solid lightgrey; width:20%\">\n",
    "            <div style=\"display:table-cell; width:10%; text-align:center; background-color:whitesmoke;\">\n",
    "                <a href=\"#1\">Назад</a>\n",
    "            </div>\n",
    "            <div style=\"display:table-cell; width:10%; text-align:center;\">\n",
    "                <a href=\"#1b\">Далее</a>\n",
    "            </div>\n",
    "        </div>\n",
    "    </div>\n",
    "</div>"
   ]
  },
  {
   "cell_type": "code",
   "execution_count": null,
   "metadata": {},
   "outputs": [],
   "source": [
    "from sklearn.metrics import mean_absolute_error"
   ]
  },
  {
   "cell_type": "code",
   "execution_count": null,
   "metadata": {},
   "outputs": [],
   "source": [
    "y_true = [1, 3, 2, 5]\n",
    "y_pred = [1.1, 2.7, 1.8, 6]\n",
    "mean_absolute_error(y_true, y_pred)"
   ]
  },
  {
   "cell_type": "markdown",
   "metadata": {},
   "source": [
    "<a name=\"1b\"></a>\n",
    "<div style=\"display:table; width:100%\">\n",
    "    <div style=\"display:table-row\">\n",
    "        <div style=\"display:table-cell; width:80%; font-style:italic; font-weight:bold; font-size:12pt\">\n",
    "            b. Среднеквадратическая ошибка (Mean Squared Error - MSE) / <span style=\"font-style:normal; font-weight:normal\"><a href=\"\">wiki</a> <a href=\"http://scikit-learn.org/stable/modules/generated/sklearn.metrics.mean_squared_error.html\">sklearn</a></span>\n",
    "        </div>\n",
    "        <div style=\"display:table-cell; border:1px solid lightgrey; width:20%\">\n",
    "            <div style=\"display:table-cell; width:10%; text-align:center; background-color:whitesmoke;\">\n",
    "                <a href=\"#1a\">Назад</a>\n",
    "            </div>\n",
    "            <div style=\"display:table-cell; width:10%; text-align:center;\">\n",
    "                <a href=\"#1c\">Далее</a>\n",
    "            </div>\n",
    "        </div>\n",
    "    </div>\n",
    "</div>"
   ]
  },
  {
   "cell_type": "code",
   "execution_count": null,
   "metadata": {},
   "outputs": [],
   "source": [
    "from sklearn.metrics import mean_squared_error"
   ]
  },
  {
   "cell_type": "code",
   "execution_count": null,
   "metadata": {},
   "outputs": [],
   "source": [
    "y_true = [1, 3, 2, 5]\n",
    "y_pred = [1.1, 2.7, 1.8, 6]\n",
    "mean_squared_error(y_true, y_pred)"
   ]
  },
  {
   "cell_type": "markdown",
   "metadata": {},
   "source": [
    "<a name=\"1c\"></a>\n",
    "<div style=\"display:table; width:100%\">\n",
    "    <div style=\"display:table-row\">\n",
    "        <div style=\"display:table-cell; width:80%; font-style:italic; font-weight:bold; font-size:12pt\">\n",
    "            c. Коэффициент детерминации R^2 (Coefficient of Determination - R^2) / <span style=\"font-style:normal; font-weight:normal\"><a href=\"\">wiki</a> <a href=\"http://scikit-learn.org/stable/modules/generated/sklearn.metrics.r2_score.html\">sklearn</a></span>\n",
    "        </div>\n",
    "        <div style=\"display:table-cell; border:1px solid lightgrey; width:20%\">\n",
    "            <div style=\"display:table-cell; width:10%; text-align:center; background-color:whitesmoke;\">\n",
    "                <a href=\"#1a\">Назад</a>\n",
    "            </div>\n",
    "            <div style=\"display:table-cell; width:10%; text-align:center;\">\n",
    "                <a href=\"#1c\">Далее</a>\n",
    "            </div>\n",
    "        </div>\n",
    "    </div>\n",
    "</div>"
   ]
  },
  {
   "cell_type": "code",
   "execution_count": null,
   "metadata": {},
   "outputs": [],
   "source": [
    "from sklearn.metrics import r2_score"
   ]
  },
  {
   "cell_type": "code",
   "execution_count": null,
   "metadata": {},
   "outputs": [],
   "source": [
    "y_true = [1, 3, 2, 5]\n",
    "y_pred = [1.1, 2.7, 1.8, 6]\n",
    "r2_score(y_true, y_pred)"
   ]
  },
  {
   "cell_type": "markdown",
   "metadata": {},
   "source": [
    "<a name=\"2\"></a>\n",
    "<div style=\"display:table; width:100%; padding-top:10px; padding-bottom:10px; border-bottom:1px solid lightgrey\">\n",
    "    <div style=\"display:table-row\">\n",
    "        <div style=\"display:table-cell; width:80%; font-size:14pt; font-weight:bold\">2. Метрики классификации</div>\n",
    "    \t<div style=\"display:table-cell; width:20%; text-align:center; background-color:whitesmoke; border:1px solid lightgrey\"><a href=\"#0\">К содержанию</a></div>\n",
    "    </div>\n",
    "</div>"
   ]
  },
  {
   "cell_type": "markdown",
   "metadata": {},
   "source": [
    "<a name=\"2a\"></a>\n",
    "<div style=\"display:table; width:100%\">\n",
    "    <div style=\"display:table-row\">\n",
    "        <div style=\"display:table-cell; width:80%; font-style:italic; font-weight:bold; font-size:12pt\">\n",
    "            a. Доля правильных классификаций (Accuracy) / <span style=\"font-style:normal; font-weight:normal\"><a href=ЭЭ>wiki</a> <a href=\"http://scikit-learn.org/stable/modules/generated/sklearn.metrics.accuracy_score.html\">sklearn</a></span>\n",
    "        </div>\n",
    "        <div style=\"display:table-cell; border:1px solid lightgrey; width:20%\">\n",
    "            <div style=\"display:table-cell; width:10%; text-align:center; background-color:whitesmoke;\">\n",
    "                <a href=\"#2\">Назад</a>\n",
    "            </div>\n",
    "            <div style=\"display:table-cell; width:10%; text-align:center;\">\n",
    "                <a href=\"#2b\">Далее</a>\n",
    "            </div>\n",
    "        </div>\n",
    "    </div>\n",
    "</div>"
   ]
  },
  {
   "cell_type": "code",
   "execution_count": null,
   "metadata": {},
   "outputs": [],
   "source": [
    "from sklearn.metrics import accuracy_score"
   ]
  },
  {
   "cell_type": "code",
   "execution_count": null,
   "metadata": {},
   "outputs": [],
   "source": [
    "y_true = [0, 1, 1, 1, 0]\n",
    "y_pred = [0, 0, 1, 1, 0]\n",
    "accuracy_score(y_true, y_pred)"
   ]
  },
  {
   "cell_type": "code",
   "execution_count": null,
   "metadata": {},
   "outputs": [],
   "source": [
    "accuracy_score(y_true, y_pred, normalize=False) "
   ]
  },
  {
   "cell_type": "markdown",
   "metadata": {},
   "source": [
    "<a name=\"2b\"></a>\n",
    "<div style=\"display:table; width:100%\">\n",
    "    <div style=\"display:table-row\">\n",
    "        <div style=\"display:table-cell; width:80%; font-style:italic; font-weight:bold; font-size:12pt\">\n",
    "            b. Точность (Precision) / <span style=\"font-style:normal; font-weight:normal\"><a href=ЭЭ>wiki</a> <a href=\"http://scikit-learn.org/stable/modules/generated/sklearn.metrics.precision_score.html\">sklearn</a></span>\n",
    "        </div>\n",
    "        <div style=\"display:table-cell; border:1px solid lightgrey; width:20%\">\n",
    "            <div style=\"display:table-cell; width:10%; text-align:center; background-color:whitesmoke;\">\n",
    "                <a href=\"#2a\">Назад</a>\n",
    "            </div>\n",
    "            <div style=\"display:table-cell; width:10%; text-align:center;\">\n",
    "                <a href=\"#2c\">Далее</a>\n",
    "            </div>\n",
    "        </div>\n",
    "    </div>\n",
    "</div>"
   ]
  },
  {
   "cell_type": "code",
   "execution_count": null,
   "metadata": {},
   "outputs": [],
   "source": [
    "from sklearn.metrics import precision_score"
   ]
  },
  {
   "cell_type": "code",
   "execution_count": null,
   "metadata": {},
   "outputs": [],
   "source": [
    "y_true = [0, 1, 1, 1, 0]\n",
    "y_pred = [1, 0, 1, 1, 0]\n",
    "precision_score(y_true, y_pred)"
   ]
  },
  {
   "cell_type": "markdown",
   "metadata": {},
   "source": [
    "<a name=\"2c\"></a>\n",
    "<div style=\"display:table; width:100%\">\n",
    "    <div style=\"display:table-row\">\n",
    "        <div style=\"display:table-cell; width:80%; font-style:italic; font-weight:bold; font-size:12pt\">\n",
    "            c. Полнота (Recall) / <span style=\"font-style:normal; font-weight:normal\"><a href=\"\">wiki</a> <a href=\"http://scikit-learn.org/stable/modules/generated/sklearn.metrics.recall_score.html\">sklearn</a></span>\n",
    "        </div>\n",
    "        <div style=\"display:table-cell; border:1px solid lightgrey; width:20%\">\n",
    "            <div style=\"display:table-cell; width:10%; text-align:center; background-color:whitesmoke;\">\n",
    "                <a href=\"#2b\">Назад</a>\n",
    "            </div>\n",
    "            <div style=\"display:table-cell; width:10%; text-align:center;\">\n",
    "                <a href=\"#2d\">Далее</a>\n",
    "            </div>\n",
    "        </div>\n",
    "    </div>\n",
    "</div>"
   ]
  },
  {
   "cell_type": "code",
   "execution_count": null,
   "metadata": {},
   "outputs": [],
   "source": [
    "from sklearn.metrics import recall_score"
   ]
  },
  {
   "cell_type": "code",
   "execution_count": null,
   "metadata": {},
   "outputs": [],
   "source": [
    "y_true = [0, 1, 1, 1, 0]\n",
    "y_pred = [1, 0, 1, 1, 1]\n",
    "recall_score(y_true, y_pred)"
   ]
  },
  {
   "cell_type": "markdown",
   "metadata": {},
   "source": [
    "<a name=\"2d\"></a>\n",
    "<div style=\"display:table; width:100%\">\n",
    "    <div style=\"display:table-row\">\n",
    "        <div style=\"display:table-cell; width:80%; font-style:italic; font-weight:bold; font-size:12pt\">\n",
    "            d. F-мера (F-score) / <span style=\"font-style:normal; font-weight:normal\"><a href=\"\">wiki</a> <a href=\"http://scikit-learn.org/stable/modules/generated/sklearn.metrics.fbeta_score.html\">sklearn</a></span>\n",
    "        </div>\n",
    "        <div style=\"display:table-cell; border:1px solid lightgrey; width:20%\">\n",
    "            <div style=\"display:table-cell; width:10%; text-align:center; background-color:whitesmoke;\">\n",
    "                <a href=\"#2c\">Назад</a>\n",
    "            </div>\n",
    "            <div style=\"display:table-cell; width:10%; text-align:center;\">\n",
    "                <a href=\"#2e\">Далее</a>\n",
    "            </div>\n",
    "        </div>\n",
    "    </div>\n",
    "</div>"
   ]
  },
  {
   "cell_type": "code",
   "execution_count": null,
   "metadata": {},
   "outputs": [],
   "source": [
    "from sklearn.metrics import f1_score"
   ]
  },
  {
   "cell_type": "code",
   "execution_count": null,
   "metadata": {},
   "outputs": [],
   "source": [
    "y_true = [0, 1, 1, 1, 0]\n",
    "y_pred = [0, 0, 1, 1, 0]\n",
    "f1_score(y_true, y_pred)"
   ]
  },
  {
   "cell_type": "markdown",
   "metadata": {},
   "source": [
    "<p>F$_{\\beta}$ Score</p>"
   ]
  },
  {
   "cell_type": "code",
   "execution_count": null,
   "metadata": {},
   "outputs": [],
   "source": [
    "from sklearn.metrics import fbeta_score"
   ]
  },
  {
   "cell_type": "code",
   "execution_count": null,
   "metadata": {},
   "outputs": [],
   "source": [
    "f_05 = fbeta_score(y_true, y_pred, beta=0.5)\n",
    "f_1 = fbeta_score(y_true, y_pred, beta=1)\n",
    "f_2 = fbeta_score(y_true, y_pred, beta=2)\n",
    "f_05, f_1, f_2"
   ]
  },
  {
   "cell_type": "markdown",
   "metadata": {},
   "source": [
    "<a name=\"2e\"></a>\n",
    "<div style=\"display:table; width:100%\">\n",
    "    <div style=\"display:table-row\">\n",
    "        <div style=\"display:table-cell; width:80%; font-style:italic; font-weight:bold; font-size:12pt\">\n",
    "            e. Матрица ошибок (Confusion matrix) / <span style=\"font-style:normal; font-weight:normal\"><a href=ЭЭ>wiki</a> <a href=\"\">sklearn</a></span>\n",
    "        </div>\n",
    "        <div style=\"display:table-cell; border:1px solid lightgrey; width:20%\">\n",
    "            <div style=\"display:table-cell; width:10%; text-align:center; background-color:whitesmoke;\">\n",
    "                <a href=\"#2d\">Назад</a>\n",
    "            </div>\n",
    "            <div style=\"display:table-cell; width:10%; text-align:center;\">\n",
    "                <a href=\"#2f\">Далее</a>\n",
    "            </div>\n",
    "        </div>\n",
    "    </div>\n",
    "</div>"
   ]
  },
  {
   "cell_type": "code",
   "execution_count": null,
   "metadata": {},
   "outputs": [],
   "source": [
    "from sklearn.metrics import confusion_matrix, ConfusionMatrixDisplay"
   ]
  },
  {
   "cell_type": "code",
   "execution_count": null,
   "metadata": {},
   "outputs": [],
   "source": [
    "y_true = [0, 1, 2, 2, 0]\n",
    "y_pred = [0, 0, 2, 2, 0]\n",
    "cm = confusion_matrix(y_true, y_pred, normalize=None)  # 'true', 'pred', 'all', None\n",
    "cm"
   ]
  },
  {
   "cell_type": "code",
   "execution_count": null,
   "metadata": {},
   "outputs": [],
   "source": [
    "# normalized over the true conditions\n",
    "cm_norm = cm / cm.sum(axis=1)[:, np.newaxis]\n",
    "cm_norm"
   ]
  },
  {
   "cell_type": "code",
   "execution_count": null,
   "metadata": {},
   "outputs": [],
   "source": [
    "plt.figure(1, figsize=[10,4])\n",
    "\n",
    "plt.subplot(1,2,1)\n",
    "plt.title(\"Confusion matrix\")\n",
    "plt.imshow(cm, interpolation=\"nearest\", cmap=plt.cm.Blues)\n",
    "plt.colorbar()\n",
    "\n",
    "plt.subplot(1,2,2)\n",
    "plt.title(\"Normalized confusion matrix\")\n",
    "plt.imshow(cm_norm, interpolation=\"nearest\", cmap=plt.cm.Blues)\n",
    "plt.colorbar()\n",
    "\n",
    "plt.show()"
   ]
  },
  {
   "cell_type": "code",
   "execution_count": null,
   "metadata": {},
   "outputs": [],
   "source": [
    "disp = ConfusionMatrixDisplay(confusion_matrix=cm,\n",
    "                              display_labels=[0,1,2])\n",
    "disp.plot()\n",
    "plt.show()"
   ]
  },
  {
   "cell_type": "code",
   "execution_count": null,
   "metadata": {},
   "outputs": [],
   "source": [
    "ConfusionMatrixDisplay.from_predictions(\n",
    "    y_true=y_true,\n",
    "    y_pred=y_pred,\n",
    "    labels=[0,1,2],\n",
    "    display_labels=['class 0', 'class 1', 'class 2'],\n",
    "    normalize=None  # 'true', 'pred', 'all', None\n",
    ")\n",
    "plt.show()"
   ]
  },
  {
   "cell_type": "markdown",
   "metadata": {},
   "source": [
    "<a name=\"2f\"></a>\n",
    "<div style=\"display:table; width:100%\">\n",
    "    <div style=\"display:table-row\">\n",
    "        <div style=\"display:table-cell; width:80%; font-style:italic; font-weight:bold; font-size:12pt\">\n",
    "            f. ROC-кривая (Receiver operating characteristic - ROC) / <span style=\"font-style:normal; font-weight:normal\"><a href=ЭЭ>wiki</a> <a href=\"http://scikit-learn.org/stable/modules/generated/sklearn.metrics.roc_curve.html\">sklearn</a></span>\n",
    "        </div>\n",
    "        <div style=\"display:table-cell; border:1px solid lightgrey; width:20%\">\n",
    "            <div style=\"display:table-cell; width:10%; text-align:center; background-color:whitesmoke;\">\n",
    "                <a href=\"#2e\">Назад</a>\n",
    "            </div>\n",
    "            <div style=\"display:table-cell; width:10%; text-align:center;\">\n",
    "                <a href=\"#2g\">Далее</a>\n",
    "            </div>\n",
    "        </div>\n",
    "    </div>\n",
    "</div>"
   ]
  },
  {
   "cell_type": "markdown",
   "metadata": {},
   "source": [
    "<p>False Positive Rate\n",
    "$$FPR=\\frac{FP}{FP+TN}$$\n",
    "</p>\n",
    "<p>True Positive Rate\n",
    "$$TPR=\\frac{TP}{TP+FN}$$\n",
    "</p>"
   ]
  },
  {
   "cell_type": "markdown",
   "metadata": {},
   "source": [
    "<p><b>Пример</b></p>\n",
    "<p>Исходные данные\n",
    "$$y_{true} =\\begin{bmatrix}0 & 0 & 1 & 1 & 1\\end{bmatrix}$$\n",
    "<br>\n",
    "$$h_{score}\\left(\\bf x\\right) =\\begin{bmatrix}0.3 & 0.4 & 0.3 & 0.6 & 0.7\\end{bmatrix}$$\n",
    "</p>\n",
    "<p>Решение <br>\n",
    "<span style=\"padding-left:20px;\">1) Порог (классификатора) 0.7</span>\n",
    "$$\\hat{y}_{pred, 0.7}=\\begin{bmatrix}0 & 0 & 0 & 0 & 1\\end{bmatrix}$$\n",
    "<br>\n",
    "$$FPR_{0.7}=\\frac{0}{0+2}=0$$\n",
    "<br>\n",
    "$$TPR_{0.7}=\\frac{1}{1+2}=\\frac{1}{3}$$\n",
    "<br>\n",
    "<span style=\"padding-left:20px;\">2) Порог 0.6</span>\n",
    "$$\\hat{y}_{pred, 0.6}=\\begin{bmatrix}0 & 0 & 0 & 1 & 1\\end{bmatrix}$$\n",
    "<br>\n",
    "$$FPR_{0.6}=\\frac{0}{0+2}=0$$\n",
    "<br>\n",
    "$$TPR_{0.6}=\\frac{2}{1+2}=\\frac{2}{3}$$\n",
    "<br>\n",
    "<span style=\"padding-left:20px;\">3) Порог 0.4</span>\n",
    "$$\\hat{y}_{pred, 0.4}=\\begin{bmatrix}0 & 1 & 0 & 1 & 1\\end{bmatrix}$$\n",
    "<br>\n",
    "$$FPR_{0.4}=\\frac{1}{1+1}=\\frac{1}{2}$$\n",
    "<br>\n",
    "$$TPR_{0.4}=\\frac{2}{2+1}=\\frac{2}{3}$$\n",
    "<br>\n",
    "<span style=\"padding-left:20px;\">4) Порог 0.3</span>\n",
    "$$\\hat{y}_{pred, 0.3}=\\begin{bmatrix}1 & 1 & 1 & 1 & 1\\end{bmatrix}$$\n",
    "<br>\n",
    "$$FPR_{0.3}=\\frac{2}{2+0}=1$$\n",
    "<br>\n",
    "$$TPR_{0.3}=\\frac{3}{3+0}=1$$\n",
    "<br>\n",
    "</p>"
   ]
  },
  {
   "cell_type": "code",
   "execution_count": null,
   "metadata": {},
   "outputs": [],
   "source": [
    "from sklearn.metrics import roc_curve"
   ]
  },
  {
   "cell_type": "code",
   "execution_count": null,
   "metadata": {},
   "outputs": [],
   "source": [
    "y_true = [0, 0, 1, 1, 1]\n",
    "y_score = [0.3, 0.4, 0.3, 0.6, 0.7]\n",
    "fpr, tpr, thresholds = roc_curve(y_true, y_score)\n",
    "print(fpr)\n",
    "print(tpr)\n",
    "print(thresholds)"
   ]
  },
  {
   "cell_type": "code",
   "execution_count": null,
   "metadata": {},
   "outputs": [],
   "source": [
    "plt.plot([0,1], [0,1], \"--\", color=\"grey\")\n",
    "plt.axvline(0, linestyle=\"-\", c=\"black\", lw=1)\n",
    "plt.axvline(1, linestyle=\"--\", c=\"black\", lw=1)\n",
    "plt.axhline(1, linestyle=\"--\", c=\"black\", lw=1)\n",
    "plt.plot(fpr, tpr, \"o-\")\n",
    "plt.grid(True)\n",
    "plt.ylabel(\"True Positive Rate\")\n",
    "plt.xlabel(\"False Positive Rate\")\n",
    "plt.xlim(-0.1, 1.1)\n",
    "plt.ylim(0, 1.1)\n",
    "plt.show()"
   ]
  },
  {
   "cell_type": "markdown",
   "metadata": {},
   "source": [
    "<p>Площадь под кривой (Area Under Curve - AUC)</p>"
   ]
  },
  {
   "cell_type": "markdown",
   "metadata": {},
   "source": [
    "<a href=\"http://scikit-learn.org/stable/modules/generated/sklearn.metrics.roc_auc_score.html\">roc_auc_score</a>"
   ]
  },
  {
   "cell_type": "code",
   "execution_count": null,
   "metadata": {},
   "outputs": [],
   "source": [
    "from sklearn.metrics import roc_auc_score"
   ]
  },
  {
   "cell_type": "code",
   "execution_count": null,
   "metadata": {},
   "outputs": [],
   "source": [
    "roc_auc_score(y_true, y_score)"
   ]
  },
  {
   "cell_type": "markdown",
   "metadata": {},
   "source": [
    "<p>Пример</p>"
   ]
  },
  {
   "cell_type": "code",
   "execution_count": null,
   "metadata": {},
   "outputs": [],
   "source": [
    "y_true = [0, 0, 1, 1, 1]\n",
    "y_score_1 = [0.1, 0.1, 0.1, 0.1, 0.1]\n",
    "y_score_2 = [0.1, 0.3, 0.3, 0.6, 0.7]\n",
    "y_score_3 = [0.1, 0.3, 0.5, 0.6, 0.7]\n",
    "\n",
    "fpr_1, tpr_1, thresholds_1  = roc_curve(y_true, y_score_1)\n",
    "fpr_2, tpr_2, thresholds_2  = roc_curve(y_true, y_score_2)\n",
    "fpr_3, tpr_3, thresholds_3  = roc_curve(y_true, y_score_3)\n",
    "\n",
    "auc_1 = np.around(roc_auc_score(y_true, y_score_1), decimals=2)\n",
    "auc_2 = np.around(roc_auc_score(y_true, y_score_2), decimals=2)\n",
    "auc_3 = np.around(roc_auc_score(y_true, y_score_3), decimals=2)"
   ]
  },
  {
   "cell_type": "code",
   "execution_count": null,
   "metadata": {},
   "outputs": [],
   "source": [
    "plt.plot(fpr_1, tpr_1, \"o-\", label=\"1 (auc=\"+str(auc_1)+\")\")\n",
    "plt.plot(fpr_2, tpr_2, \"o-\", label=\"2 (auc=\"+str(auc_2)+\")\")\n",
    "plt.plot(fpr_3, tpr_3, \"o-\", label=\"3 (auc=\"+str(auc_3)+\")\")\n",
    "plt.ylabel(\"True Positive\")\n",
    "plt.xlabel(\"False Positive\")\n",
    "plt.legend(loc=\"lower right\")\n",
    "plt.grid(True)\n",
    "plt.xlim(-0.1, 1.1)\n",
    "plt.ylim(0, 1.1)\n",
    "plt.show()"
   ]
  },
  {
   "cell_type": "markdown",
   "metadata": {},
   "source": [
    "<a name=\"2g\"></a>\n",
    "<div style=\"display:table; width:100%\">\n",
    "    <div style=\"display:table-row\">\n",
    "        <div style=\"display:table-cell; width:80%; font-style:italic; font-weight:bold; font-size:12pt\">\n",
    "            g. Кривая Точность-Полнота (Precision Recall Curve - PRC) / <span style=\"font-style:normal; font-weight:normal\"><a href=\"\">wiki</a> <a href=\"http://scikit-learn.org/stable/modules/generated/sklearn.metrics.precision_recall_curve.html\">sklearn</a></span>\n",
    "        </div>\n",
    "        <div style=\"display:table-cell; border:1px solid lightgrey; width:20%\">\n",
    "            <div style=\"display:table-cell; width:10%; text-align:center; background-color:whitesmoke;\">\n",
    "                <a href=\"#2f\">Назад</a>\n",
    "            </div>\n",
    "            <div style=\"display:table-cell; width:10%; text-align:center;\">\n",
    "                <a href=\"#2h\">Далее</a>\n",
    "            </div>\n",
    "        </div>\n",
    "    </div>\n",
    "</div>"
   ]
  },
  {
   "cell_type": "markdown",
   "metadata": {},
   "source": [
    "<p>Recall\n",
    "$$R=\\frac{TP}{TP+FN}$$\n",
    "</p>\n",
    "<p>Precision\n",
    "$$P=\\frac{TP}{TP+FP}$$\n",
    "</p>"
   ]
  },
  {
   "cell_type": "markdown",
   "metadata": {},
   "source": [
    "<p><b>Пример</b></p>\n",
    "<p>Исходные данные\n",
    "$$y_{true} =\\begin{bmatrix}0 & 0 & 1 & 1 & 1\\end{bmatrix}$$\n",
    "<br>\n",
    "$$h_{score}\\left(\\bf x\\right) =\\begin{bmatrix}0.3 & 0.4 & 0.3 & 0.6 & 0.7\\end{bmatrix}$$\n",
    "</p>\n",
    "<p><b>Решение</b></p>\n",
    "<span style=\"padding-left:20px;\">1) Порог (классификатора) 0.7</span>\n",
    "$$\\hat{y}_{pred, 0.7}=\\begin{bmatrix}0 & 0 & 0 & 0 & 1\\end{bmatrix}$$\n",
    "<br>\n",
    "$$R_{0.7}=\\frac{1}{1+2}=\\frac{1}{3}$$\n",
    "<br>\n",
    "$$P_{0.7}=\\frac{1}{1+0}=1$$\n",
    "<br>\n",
    "<span style=\"padding-left:20px;\">2) Порог 0.6</span>\n",
    "$$\\hat{y}_{pred, 0.6}=\\begin{bmatrix}0 & 0 & 0 & 1 & 1\\end{bmatrix}$$\n",
    "<br>\n",
    "$$R_{0.6}=\\frac{2}{2+1}=\\frac{2}{3}$$\n",
    "<br>\n",
    "$$P_{0.6}=\\frac{2}{2+0}=1$$\n",
    "<br>\n",
    "<span style=\"padding-left:20px;\">3) Порог 0.4</span>\n",
    "$$\\hat{y}_{pred, 0.4}=\\begin{bmatrix}0 & 1 & 0 & 1 & 1\\end{bmatrix}$$\n",
    "<br>\n",
    "$$R_{0.4}=\\frac{2}{2+1}=\\frac{2}{3}$$\n",
    "<br>\n",
    "$$P_{0.4}=\\frac{2}{2+1}=\\frac{2}{3}$$\n",
    "<br>\n",
    "<span style=\"padding-left:20px;\">4) Порог 0.3</span>\n",
    "$$\\hat{y}_{pred, 0.3}=\\begin{bmatrix}1 & 1 & 1 & 1 & 1\\end{bmatrix}$$\n",
    "<br>\n",
    "$$R_{0.3}=\\frac{3}{3+0}=1$$\n",
    "<br>\n",
    "$$P_{0.3}=\\frac{3}{3+2}=0,6$$\n",
    "<br>\n",
    "</p>"
   ]
  },
  {
   "cell_type": "code",
   "execution_count": null,
   "metadata": {},
   "outputs": [],
   "source": [
    "from sklearn.metrics import precision_recall_curve"
   ]
  },
  {
   "cell_type": "code",
   "execution_count": null,
   "metadata": {},
   "outputs": [],
   "source": [
    "y_true = [0, 0, 1, 1, 1]\n",
    "y_score = [0.3, 0.4, 0.3, 0.6, 0.7]\n",
    "precision, recall, threshold = precision_recall_curve(y_true, y_score)\n",
    "print(precision)\n",
    "print(recall)\n",
    "print(threshold)"
   ]
  },
  {
   "cell_type": "code",
   "execution_count": null,
   "metadata": {},
   "outputs": [],
   "source": [
    "plt.plot(recall, precision, \"o-\")\n",
    "plt.grid(True)\n",
    "plt.ylabel(\"Precision\")\n",
    "plt.xlabel(\"Recall\")\n",
    "plt.xlim(-0.1, 1.1)\n",
    "plt.ylim(0, 1.1)\n",
    "plt.show()"
   ]
  },
  {
   "cell_type": "markdown",
   "metadata": {},
   "source": [
    "<p>Площадь под кривой (Area Under Curve - AUC)</p>"
   ]
  },
  {
   "cell_type": "markdown",
   "metadata": {},
   "source": [
    "<a href=\"http://scikit-learn.org/stable/modules/generated/sklearn.metrics.average_precision_score.html\">average_precision_score</a>"
   ]
  },
  {
   "cell_type": "code",
   "execution_count": null,
   "metadata": {},
   "outputs": [],
   "source": [
    "from sklearn.metrics import average_precision_score"
   ]
  },
  {
   "cell_type": "code",
   "execution_count": null,
   "metadata": {},
   "outputs": [],
   "source": [
    "average_precision_score(y_true, y_score)"
   ]
  },
  {
   "cell_type": "markdown",
   "metadata": {},
   "source": [
    "<p>Пример</p>"
   ]
  },
  {
   "cell_type": "code",
   "execution_count": null,
   "metadata": {},
   "outputs": [],
   "source": [
    "y_true = [0, 0, 1, 1, 1]\n",
    "y_score_1 = [0.3, 0.3, 0.3, 0.3, 0.3]\n",
    "y_score_2 = [0.3, 0.3, 0.3, 0.6, 0.7]\n",
    "y_score_3 = [0.3, 0.3, 0.5, 0.6, 0.7]\n",
    "\n",
    "precision_1, recall_1, threshold_1 = precision_recall_curve(y_true, y_score_1)\n",
    "precision_2, recall_2, threshold_2 = precision_recall_curve(y_true, y_score_2)\n",
    "precision_3, recall_3, threshold_3 = precision_recall_curve(y_true, y_score_3)\n",
    "\n",
    "auc_1 = np.around(average_precision_score(y_true, y_score_1), decimals=2)\n",
    "auc_2 = np.around(average_precision_score(y_true, y_score_2), decimals=2)\n",
    "auc_3 = np.around(average_precision_score(y_true, y_score_3), decimals=2)"
   ]
  },
  {
   "cell_type": "code",
   "execution_count": null,
   "metadata": {},
   "outputs": [],
   "source": [
    "plt.plot(recall_1, precision_1, \"o-\", label=\"1 (auc=\"+str(auc_1)+\")\")\n",
    "plt.plot(recall_2, precision_2, \"o-\", label=\"2 (auc=\"+str(auc_2)+\")\")\n",
    "plt.plot(recall_3, precision_3, \"o-\", label=\"3 (auc=\"+str(auc_3)+\")\")\n",
    "plt.legend(loc=\"lower right\")\n",
    "plt.ylabel(\"Recall\")\n",
    "plt.xlabel(\"Precision\")\n",
    "plt.grid(True)\n",
    "plt.xlim(-0.1, 1.1)\n",
    "plt.ylim(0, 1.1)\n",
    "plt.show()"
   ]
  },
  {
   "cell_type": "markdown",
   "metadata": {},
   "source": [
    "<a name=\"2h\"></a>\n",
    "<div style=\"display:table; width:100%\">\n",
    "    <div style=\"display:table-row\">\n",
    "        <div style=\"display:table-cell; width:80%; font-style:italic; font-weight:bold; font-size:12pt\">\n",
    "            h. Другое / <span style=\"font-style:normal; font-weight:normal\"><a href=ЭЭ>wiki</a> <a href=\"http://scikit-learn.org/stable/modules/generated/sklearn.metrics.precision_recall_curve.html\">sklearn</a></span>\n",
    "        </div>\n",
    "        <div style=\"display:table-cell; border:1px solid lightgrey; width:20%\">\n",
    "            <div style=\"display:table-cell; width:10%; text-align:center; background-color:whitesmoke;\">\n",
    "                <a href=\"#2g\">Назад</a>\n",
    "            </div>\n",
    "            <div style=\"display:table-cell; width:10%; text-align:center;\">\n",
    "                <a href=\"#2i\">Далее</a>\n",
    "            </div>\n",
    "        </div>\n",
    "    </div>\n",
    "</div>"
   ]
  },
  {
   "cell_type": "markdown",
   "metadata": {},
   "source": [
    "<p>Classification report<p>"
   ]
  },
  {
   "cell_type": "markdown",
   "metadata": {},
   "source": [
    "<a href=\"http://scikit-learn.org/stable/modules/generated/sklearn.metrics.precision_recall_fscore_support.html\">precision_recall_fscore_support</a>"
   ]
  },
  {
   "cell_type": "code",
   "execution_count": null,
   "metadata": {},
   "outputs": [],
   "source": [
    "from sklearn.metrics import precision_recall_fscore_support "
   ]
  },
  {
   "cell_type": "code",
   "execution_count": null,
   "metadata": {},
   "outputs": [],
   "source": [
    "y_true = [0, 1, 2, 2, 0]\n",
    "y_pred = [0, 0, 2, 2, 0]\n",
    "pr, rec, f, sup = precision_recall_fscore_support(y_true, y_pred, beta=1)\n",
    "pr, rec, f, sup"
   ]
  },
  {
   "cell_type": "markdown",
   "metadata": {},
   "source": [
    "<a href=\"http://scikit-learn.org/stable/modules/generated/sklearn.metrics.classification_report.html\">classification_report</a>"
   ]
  },
  {
   "cell_type": "code",
   "execution_count": null,
   "metadata": {},
   "outputs": [],
   "source": [
    "from sklearn.metrics import classification_report"
   ]
  },
  {
   "cell_type": "code",
   "execution_count": null,
   "metadata": {},
   "outputs": [],
   "source": [
    "y_true = [0, 1, 2, 2, 0]\n",
    "y_pred = [0, 0, 2, 2, 0]\n",
    "target_names = ['class 0', 'class 1', 'class 2']\n",
    "print(classification_report(y_true, y_pred, target_names=target_names))"
   ]
  },
  {
   "cell_type": "markdown",
   "metadata": {
    "collapsed": true,
    "jupyter": {
     "outputs_hidden": true
    }
   },
   "source": [
    "<a name=\"3\"></a>\n",
    "<div style=\"display:table; width:100%; padding-top:10px; padding-bottom:10px; border-bottom:1px solid lightgrey\">\n",
    "    <div style=\"display:table-row\">\n",
    "        <div style=\"display:table-cell; width:80%; font-size:14pt; font-weight:bold\">5. Источники</div>\n",
    "    \t<div style=\"display:table-cell; width:20%; text-align:center; background-color:whitesmoke; border:1px solid lightgrey\"><a href=\"#0\">К содержанию</a></div>\n",
    "    </div>\n",
    "</div>"
   ]
  },
  {
   "cell_type": "markdown",
   "metadata": {},
   "source": [
    "<a href=\"http://scikit-learn.org/stable/auto_examples/model_selection/plot_confusion_matrix.html#example-model-selection-plot-confusion-matrix-py\">Confusion matrix</a><br>\n",
    "<a href=\"http://scikit-learn.org/stable/auto_examples/model_selection/plot_precision_recall.html\">Precision-Recall</a><br>\n",
    "<a href=\"http://scikit-learn.org/stable/modules/model_evaluation.html\">Model evaluation: quantifying the quality of predictions</a>"
   ]
  },
  {
   "cell_type": "code",
   "execution_count": null,
   "metadata": {},
   "outputs": [],
   "source": []
  }
 ],
 "metadata": {
  "anaconda-cloud": {},
  "kernelspec": {
   "display_name": "Python 3 (ipykernel)",
   "language": "python",
   "name": "python3"
  },
  "language_info": {
   "codemirror_mode": {
    "name": "ipython",
    "version": 3
   },
   "file_extension": ".py",
   "mimetype": "text/x-python",
   "name": "python",
   "nbconvert_exporter": "python",
   "pygments_lexer": "ipython3",
   "version": "3.11.7"
  }
 },
 "nbformat": 4,
 "nbformat_minor": 4
}
