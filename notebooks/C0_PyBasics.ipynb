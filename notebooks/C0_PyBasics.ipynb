{
 "cells": [
  {
   "cell_type": "markdown",
   "metadata": {},
   "source": [
    "# Основы программирования на Python\n",
    "---\n",
    "С.Ю. Папулин (papulin.study@yandex.ru)"
   ]
  },
  {
   "cell_type": "markdown",
   "metadata": {},
   "source": [
    "### Содержание\n",
    "\n",
    "- [Переменные](#Переменные)\n",
    "- [Форматирование строк](#Форматирование-строк)\n",
    "- [Ветвление программы](#Ветвление-программы)\n",
    "- [Циклы](#Циклы)\n",
    "- [Основные структуры данных](#Основные-структуры-данных)\n",
    "- [Строки](#Строки)\n",
    "- [Функции](#Функции)\n",
    "- [Генераторы](#Генераторы)\n",
    "- [Классы](#Классы)\n",
    "- [Работа с файлами](#Работа-с-файлами)\n",
    "- [Исключения](#Исключения)\n",
    "- [Модули](#Модули)"
   ]
  },
  {
   "cell_type": "markdown",
   "metadata": {},
   "source": [
    "Создание изолированной виртуальной среды:\n",
    "\n",
    "```bash\n",
    "/home/ubuntu/ML/anaconda3/bin/python -m venv .venv/pure-py\n",
    "```\n",
    "Активация среды:\n",
    "```bash\n",
    "source .venv/pure-py/bin/activate\n",
    "```\n",
    "\n",
    "Выход (деактивация) из среды:\n",
    "\n",
    "```\n",
    "deactivate\n",
    "```"
   ]
  },
  {
   "cell_type": "markdown",
   "metadata": {},
   "source": [
    "## Переменные"
   ]
  },
  {
   "cell_type": "code",
   "execution_count": null,
   "metadata": {},
   "outputs": [],
   "source": [
    "MAX_SCORE = 100\n",
    "\n",
    "score_int = 75\n",
    "score_float = 75.0\n",
    "\n",
    "has_passed_exam_bool = True\n",
    "\n",
    "subject_str = \"math\""
   ]
  },
  {
   "cell_type": "code",
   "execution_count": null,
   "metadata": {},
   "outputs": [],
   "source": [
    "score_float = float(score_int)\n",
    "score_int = int(score_float)\n",
    "score_str = str(score_float)\n",
    "score_bool = bool(score_int)\n",
    "\n",
    "score_float, score_int, score_str, score_bool"
   ]
  },
  {
   "cell_type": "code",
   "execution_count": null,
   "metadata": {},
   "outputs": [],
   "source": [
    "# +\n",
    "# -\n",
    "# /\n",
    "# //\n",
    "# %\n",
    "# **\n",
    "# abs()\n",
    "\n",
    "score_int += 10  # score_int = score_int + 10"
   ]
  },
  {
   "cell_type": "code",
   "execution_count": null,
   "metadata": {},
   "outputs": [],
   "source": [
    "a = 10\n",
    "a = \"ten\""
   ]
  },
  {
   "cell_type": "code",
   "execution_count": null,
   "metadata": {},
   "outputs": [],
   "source": [
    "a = 10; b = 20\n",
    "\n",
    "# Обмен значениями\n",
    "a, b = b, a\n",
    "a, b"
   ]
  },
  {
   "cell_type": "code",
   "execution_count": null,
   "metadata": {},
   "outputs": [],
   "source": [
    "a = 10\n",
    "b = 20\n",
    "c = 30\n",
    "\n",
    "# Сравнение\n",
    "a < b < c"
   ]
  },
  {
   "cell_type": "markdown",
   "metadata": {},
   "source": [
    "## Форматирование строк"
   ]
  },
  {
   "cell_type": "code",
   "execution_count": null,
   "metadata": {},
   "outputs": [],
   "source": [
    "# Форматирование строк\n",
    "word_1 = \"hello\"\n",
    "word_2 = \"world\"\n",
    "\n",
    "# Варианты\n",
    "formatted_str = word_1 + \" \" + word_2 + \"!\"\n",
    "formatted_str = \"{} {}!\".format(word_1, word_2)\n",
    "formatted_str = \"{1} {0}!\".format(word_1, word_2)\n",
    "formatted_str = f\"{word_1} {word_2}!\"\n",
    "formatted_str"
   ]
  },
  {
   "cell_type": "code",
   "execution_count": null,
   "metadata": {},
   "outputs": [],
   "source": [
    "price = 99.99\n",
    "\"Item price: {:20.10f}\".format(price)"
   ]
  },
  {
   "cell_type": "code",
   "execution_count": null,
   "metadata": {},
   "outputs": [],
   "source": [
    "price = 99.99\n",
    "\"Item price: {:20.1f}\".format(price)"
   ]
  },
  {
   "cell_type": "markdown",
   "metadata": {},
   "source": [
    "## Ветвление программы"
   ]
  },
  {
   "cell_type": "code",
   "execution_count": null,
   "metadata": {},
   "outputs": [],
   "source": [
    "# Вариант 1\n",
    "if score_int > 50:\n",
    "    has_passed_exam_bool = True\n",
    "else:\n",
    "    has_passed_exam_bool = False\n",
    "    \n",
    "# Вариант 2 \n",
    "has_passed_exam_bool = True if score_int > 50 else False\n",
    "\n",
    "# Вариант 3\n",
    "has_passed_exam_bool = score_int > 50"
   ]
  },
  {
   "cell_type": "code",
   "execution_count": null,
   "metadata": {},
   "outputs": [],
   "source": [
    "if subject_str == \"math\" and score_int:  # and, or, not\n",
    "    pass\n",
    "elif count_int > 120:\n",
    "    pass\n",
    "else:\n",
    "    pass"
   ]
  },
  {
   "cell_type": "markdown",
   "metadata": {},
   "source": [
    "## Циклы"
   ]
  },
  {
   "cell_type": "code",
   "execution_count": null,
   "metadata": {},
   "outputs": [],
   "source": [
    "for i in range(5):\n",
    "    print(i)"
   ]
  },
  {
   "cell_type": "code",
   "execution_count": null,
   "metadata": {},
   "outputs": [],
   "source": [
    "i = 0\n",
    "while i < 5:\n",
    "    print(i)\n",
    "    i += 1"
   ]
  },
  {
   "cell_type": "markdown",
   "metadata": {},
   "source": [
    "### Управление циклом"
   ]
  },
  {
   "cell_type": "code",
   "execution_count": null,
   "metadata": {},
   "outputs": [],
   "source": [
    "for i in range(1, 10):\n",
    "    if i == 7:\n",
    "        break\n",
    "    if i % 2 == 1:\n",
    "        print(i+10)\n",
    "        continue\n",
    "    print(i)"
   ]
  },
  {
   "cell_type": "markdown",
   "metadata": {},
   "source": [
    "## Основные структуры данных"
   ]
  },
  {
   "cell_type": "code",
   "execution_count": null,
   "metadata": {},
   "outputs": [],
   "source": [
    "# Список\n",
    "lnames = [\"kate\", \"alex\", \"peter\"]\n",
    "\n",
    "# Кортеж\n",
    "tnames = (\"kate\", \"alex\", \"peter\")\n",
    "\n",
    "# Словарь\n",
    "dnames = {\n",
    "    \"employee_1\": \"kate\",\n",
    "    \"employee_2\": \"alex\",\n",
    "    \"employee_3\": \"peter\"\n",
    "}\n",
    "\n",
    "# Множество\n",
    "snames = {\"kate\", \"alex\", \"peter\"}"
   ]
  },
  {
   "cell_type": "markdown",
   "metadata": {},
   "source": [
    "### Оператор `==` vs `is`"
   ]
  },
  {
   "cell_type": "code",
   "execution_count": null,
   "metadata": {},
   "outputs": [],
   "source": [
    "a1 = 5\n",
    "a2 = 5"
   ]
  },
  {
   "cell_type": "code",
   "execution_count": null,
   "metadata": {},
   "outputs": [],
   "source": [
    "a1 == a2"
   ]
  },
  {
   "cell_type": "code",
   "execution_count": null,
   "metadata": {},
   "outputs": [],
   "source": [
    "a1 is a2"
   ]
  },
  {
   "cell_type": "code",
   "execution_count": null,
   "metadata": {},
   "outputs": [],
   "source": [
    "l1 = list()\n",
    "l2 = list()"
   ]
  },
  {
   "cell_type": "code",
   "execution_count": null,
   "metadata": {},
   "outputs": [],
   "source": [
    "# Сравнение содержания\n",
    "l1 == l2"
   ]
  },
  {
   "cell_type": "code",
   "execution_count": null,
   "metadata": {},
   "outputs": [],
   "source": [
    "# Сравнение идентичности объектов\n",
    "l1 is l2"
   ]
  },
  {
   "cell_type": "code",
   "execution_count": null,
   "metadata": {},
   "outputs": [],
   "source": [
    "l1.append(1)\n",
    "l2.append(1)"
   ]
  },
  {
   "cell_type": "code",
   "execution_count": null,
   "metadata": {},
   "outputs": [],
   "source": [
    "l1 == l2"
   ]
  },
  {
   "cell_type": "code",
   "execution_count": null,
   "metadata": {},
   "outputs": [],
   "source": [
    "# Инициализация пустого списка\n",
    "lstuff = list()\n",
    "\n",
    "# Добавление элемента\n",
    "lstuff.append(\"item\")\n",
    "\n",
    "# Добавление элемента другого типа\n",
    "lstuff.append(100)\n",
    "\n",
    "# Добавление элемента другого типа\n",
    "lstuff.append(100)\n",
    "\n",
    "# Добавление элемента в определенную позицию\n",
    "lstuff.insert(1, [1,2,3])\n",
    "\n",
    "lstuff"
   ]
  },
  {
   "cell_type": "code",
   "execution_count": null,
   "metadata": {},
   "outputs": [],
   "source": [
    "# Количество элементов списка\n",
    "len(lstuff)"
   ]
  },
  {
   "cell_type": "code",
   "execution_count": null,
   "metadata": {},
   "outputs": [],
   "source": [
    "# Расширение списка\n",
    "lstuff_ext = [\"element\", 50]\n",
    "\n",
    "# Замечание: \n",
    "#  - copy() копирует только ссылки на сложные объекты (shallow copy).\n",
    "#  - для полного копирования используйте deepcopy (пакет copy)\n",
    "lstuff_ext_ = lstuff_ext.copy()\n",
    "lstuff_ext_.extend(lstuff)\n",
    "\n",
    "# или\n",
    "lstuff_ext_ = lstuff_ext.copy()\n",
    "lstuff_ext_ += lstuff\n",
    "lstuff_ext_"
   ]
  },
  {
   "cell_type": "code",
   "execution_count": null,
   "metadata": {},
   "outputs": [],
   "source": [
    "# Доступ к элементу\n",
    "print(lstuff[2])\n",
    "\n",
    "# Список из списка \n",
    "print(lstuff[:2])\n",
    "\n",
    "# Список из списка \n",
    "print(lstuff[2:])\n",
    "\n",
    "# Шаг\n",
    "print(lstuff[::2])  # lstuff[start, stop, step]\n",
    "\n",
    "# Вывод в обратном порядке без первого элемента\n",
    "print(lstuff[3:0:-1])"
   ]
  },
  {
   "cell_type": "code",
   "execution_count": null,
   "metadata": {},
   "outputs": [],
   "source": [
    "# Количество вхождений элемента\n",
    "lstuff.count(100)"
   ]
  },
  {
   "cell_type": "code",
   "execution_count": null,
   "metadata": {},
   "outputs": [],
   "source": [
    "# Индекс первого элемента\n",
    "lstuff.index(100)  # list.index(el, start, stop)"
   ]
  },
  {
   "cell_type": "code",
   "execution_count": null,
   "metadata": {},
   "outputs": [],
   "source": [
    "print(lstuff)"
   ]
  },
  {
   "cell_type": "code",
   "execution_count": null,
   "metadata": {},
   "outputs": [],
   "source": [
    "# Удаление элемента по индексу\n",
    "lstuff_ = lstuff.copy()\n",
    "del lstuff_[1]\n",
    "print(lstuff_)\n",
    "\n",
    "del lstuff_[1:]\n",
    "print(lstuff_)\n",
    "\n",
    "# Удаление элемента по значению\n",
    "lstuff_ = lstuff.copy()\n",
    "lstuff_.remove(100)\n",
    "print(lstuff_)\n",
    "\n",
    "# Извлечение последнего элемента\n",
    "lstuff_ = lstuff.copy()\n",
    "element = lstuff_.pop()\n",
    "print(element)\n",
    "print(lstuff_)\n",
    "\n",
    "# Извлечение элемента по индексу\n",
    "lstuff_ = lstuff.copy()\n",
    "element = lstuff_.pop(0)\n",
    "print(element)\n",
    "print(lstuff_)"
   ]
  },
  {
   "cell_type": "code",
   "execution_count": null,
   "metadata": {},
   "outputs": [],
   "source": [
    "# Проверка существования\n",
    "print(100 in lstuff)\n",
    "print(101 in lstuff)\n",
    "print(100 not in lstuff)\n",
    "\n",
    "# Пример с if условием\n",
    "if 100 in lstuff:\n",
    "    print(\"Well done!\")"
   ]
  },
  {
   "cell_type": "code",
   "execution_count": null,
   "metadata": {},
   "outputs": [],
   "source": [
    "# Использование в цикле\n",
    "for item in lstuff:\n",
    "    print(item)\n",
    "\n",
    "# С выводом индекса\n",
    "for indx, item in enumerate(lstuff):\n",
    "    print(indx, item)"
   ]
  },
  {
   "cell_type": "code",
   "execution_count": null,
   "metadata": {},
   "outputs": [],
   "source": [
    "lnumbers = [1, 2, 3, 4, 5]\n",
    "\n",
    "# Трансформация и фильтрация списка\n",
    "lnumbers_odds = list()\n",
    "for number in lnumbers:\n",
    "    if number % 2 == 1:\n",
    "        lnumbers_odds.append(number + 10)\n",
    "lnumbers_odds"
   ]
  },
  {
   "cell_type": "code",
   "execution_count": null,
   "metadata": {},
   "outputs": [],
   "source": [
    "# Вариант в одно строку\n",
    "lnumbers_odds = [number + 10 for number in lnumbers if number % 2 == 1]\n",
    "lnumbers_odds"
   ]
  },
  {
   "cell_type": "code",
   "execution_count": null,
   "metadata": {},
   "outputs": [],
   "source": [
    "# Фильтрация нечетных значений\n",
    "def filter_odd_value(value):\n",
    "    if value % 2 == 1:\n",
    "        return value\n",
    "\n",
    "print(list(filter(filter_odd_value, lnumbers)))\n",
    "\n",
    "\n",
    "# Добавление 10 каждому элементу\n",
    "def map_add_value(value, add=10):\n",
    "    return value + add\n",
    "\n",
    "print(list(map(map_add_value, lnumbers)))\n",
    "\n",
    "\n",
    "# Комбинация операций\n",
    "print(list(map(map_add_value, filter(filter_odd_value, lnumbers))))"
   ]
  },
  {
   "cell_type": "code",
   "execution_count": null,
   "metadata": {},
   "outputs": [],
   "source": [
    "# Сортировка (возвращает новый список)\n",
    "lletters = [\"b\", \"a\", \"d\", \"c\"]\n",
    "lletters_sorted = sorted(lletters, reverse=True)\n",
    "lletters_sorted"
   ]
  },
  {
   "cell_type": "code",
   "execution_count": null,
   "metadata": {},
   "outputs": [],
   "source": [
    "# Сортировка\n",
    "lletters_sorted.sort(reverse=False)\n",
    "lletters_sorted"
   ]
  },
  {
   "cell_type": "code",
   "execution_count": null,
   "metadata": {},
   "outputs": [],
   "source": [
    "# Обратный порядок элементов списка (возвращает новый список)\n",
    "lletters_reversed = list(reversed(lletters))\n",
    "lletters_reversed"
   ]
  },
  {
   "cell_type": "code",
   "execution_count": null,
   "metadata": {},
   "outputs": [],
   "source": [
    "# или lletters.reverse() in-place"
   ]
  },
  {
   "cell_type": "code",
   "execution_count": null,
   "metadata": {},
   "outputs": [],
   "source": [
    "# Очистка списка\n",
    "lletters_reversed.clear()\n",
    "lletters_reversed"
   ]
  },
  {
   "cell_type": "code",
   "execution_count": null,
   "metadata": {},
   "outputs": [],
   "source": [
    "# Поэлементное слияние нескольких списков\n",
    "lids = [1, 2, 3]\n",
    "lnames = [\"alex\", \"kate\", \"peter\"]\n",
    "\n",
    "list(zip(lids, lnames))"
   ]
  },
  {
   "cell_type": "markdown",
   "metadata": {},
   "source": [
    "### Кортеж"
   ]
  },
  {
   "cell_type": "code",
   "execution_count": null,
   "metadata": {},
   "outputs": [],
   "source": [
    "# Инициализация\n",
    "tstuff = tuple([1, 2, 3])\n",
    "tstuff"
   ]
  },
  {
   "cell_type": "code",
   "execution_count": null,
   "metadata": {},
   "outputs": [],
   "source": [
    "# Элемент кортежа\n",
    "tstuff[1]"
   ]
  },
  {
   "cell_type": "code",
   "execution_count": null,
   "metadata": {},
   "outputs": [],
   "source": [
    "# Подмножество кортежа\n",
    "tstuff[1:]"
   ]
  },
  {
   "cell_type": "code",
   "execution_count": null,
   "metadata": {},
   "outputs": [],
   "source": [
    "# Количество элементов\n",
    "len(tstuff)"
   ]
  },
  {
   "cell_type": "markdown",
   "metadata": {},
   "source": [
    "### Словарь"
   ]
  },
  {
   "cell_type": "code",
   "execution_count": null,
   "metadata": {},
   "outputs": [],
   "source": [
    "# Инициализация (1)\n",
    "dstuff = {\n",
    "    4: \"hello\", \n",
    "    \"aa\": 1, \n",
    "    2: [1,2,3], \n",
    "    (1,2,3): \"world\"\n",
    "}\n",
    "dstuff"
   ]
  },
  {
   "cell_type": "code",
   "execution_count": null,
   "metadata": {},
   "outputs": [],
   "source": [
    "# Доступ к записи словаря\n",
    "dstuff[(1, 2, 3)]"
   ]
  },
  {
   "cell_type": "code",
   "execution_count": null,
   "metadata": {},
   "outputs": [],
   "source": [
    "# Инициализация (2)\n",
    "dstuff = dict()\n",
    "\n",
    "# Добавление записей\n",
    "dstuff[4] = \"hello\"\n",
    "dstuff[\"aa\"] = 1\n",
    "dstuff[2] = [1,2,3]\n",
    "dstuff[(1,2,3)] = \"world\"\n",
    "\n",
    "dstuff"
   ]
  },
  {
   "cell_type": "code",
   "execution_count": null,
   "metadata": {},
   "outputs": [],
   "source": [
    "# Инициализация (3)\n",
    "dstuff = dict([(4, \"hello\"), (\"aa\", 1), (2, [1,2,3]), ((1,2,3), \"world\")])\n",
    "dstuff"
   ]
  },
  {
   "cell_type": "code",
   "execution_count": null,
   "metadata": {},
   "outputs": [],
   "source": [
    "# Количество элементов\n",
    "len(dstuff)"
   ]
  },
  {
   "cell_type": "code",
   "execution_count": null,
   "metadata": {},
   "outputs": [],
   "source": [
    "# Проверка наличия ключа\n",
    "\"aa\" in dstuff"
   ]
  },
  {
   "cell_type": "code",
   "execution_count": null,
   "metadata": {},
   "outputs": [],
   "source": [
    "# Проверка отсутствия ключа\n",
    "\"aa\" not in dstuff"
   ]
  },
  {
   "cell_type": "code",
   "execution_count": null,
   "metadata": {},
   "outputs": [],
   "source": [
    "# Доступ по несуществующему ключу\n",
    "item = dstuff[232]\n",
    "item"
   ]
  },
  {
   "cell_type": "code",
   "execution_count": null,
   "metadata": {},
   "outputs": [],
   "source": [
    "# Установка значения по умолчанию\n",
    "item = dstuff.get(232, -1)\n",
    "item"
   ]
  },
  {
   "cell_type": "code",
   "execution_count": null,
   "metadata": {},
   "outputs": [],
   "source": [
    "# Список ключей, значений и список пар \"ключ-значение\"\n",
    "dstuff.keys(), dstuff.values(), dstuff.items()"
   ]
  },
  {
   "cell_type": "code",
   "execution_count": null,
   "metadata": {},
   "outputs": [],
   "source": [
    "# Формирование списка кортежей (индекс, ключ, значение)\n",
    "[(indx, key, value) for indx, (key, value) in enumerate(dstuff.items())]"
   ]
  },
  {
   "cell_type": "code",
   "execution_count": null,
   "metadata": {},
   "outputs": [],
   "source": [
    "# Расширение словаря\n",
    "dstuff_ext = {\n",
    "    \"item\": \"something\"\n",
    "}\n",
    "dstuff_ext.update(dstuff)\n",
    "dstuff_ext"
   ]
  },
  {
   "cell_type": "code",
   "execution_count": null,
   "metadata": {},
   "outputs": [],
   "source": [
    "# Удаление записи по ключу\n",
    "del dstuff_ext[\"aa\"]\n",
    "dstuff_ext"
   ]
  },
  {
   "cell_type": "code",
   "execution_count": null,
   "metadata": {},
   "outputs": [],
   "source": [
    "# Удаление записей словаря\n",
    "dstuff_ext.clear()\n",
    "dstuff_ext"
   ]
  },
  {
   "cell_type": "code",
   "execution_count": null,
   "metadata": {},
   "outputs": [],
   "source": [
    "# Сортировка\n",
    "\n",
    "dletters = {\n",
    "    1: \"b\", \n",
    "    3: \"a\", \n",
    "    2: \"d\", \n",
    "    4: \"c\"\n",
    "}\n",
    "\n",
    "# Отсортированный по ключу список кортежей (ключ, значение)\n",
    "sorted(dletters.items(), reverse=False)"
   ]
  },
  {
   "cell_type": "code",
   "execution_count": null,
   "metadata": {},
   "outputs": [],
   "source": [
    "# Отсортированный по значению список кортежей (ключ, значение)\n",
    "sorted(dletters.items(), key=lambda x: x[1], reverse=False)"
   ]
  },
  {
   "cell_type": "code",
   "execution_count": null,
   "metadata": {},
   "outputs": [],
   "source": [
    "# Отсортированный по убыванию значения список кортежей (ключ, значение)\n",
    "sorted(dletters.items(), key=lambda x: -ord(x[1]), reverse=False)"
   ]
  },
  {
   "cell_type": "markdown",
   "metadata": {},
   "source": [
    "### Множество"
   ]
  },
  {
   "cell_type": "code",
   "execution_count": null,
   "metadata": {},
   "outputs": [],
   "source": [
    "# Инициализация множества (1)\n",
    "sstuff = {3, \"el2\", (1,2), 8, 3}\n",
    "sstuff"
   ]
  },
  {
   "cell_type": "code",
   "execution_count": null,
   "metadata": {},
   "outputs": [],
   "source": [
    "# Инициализация множества (1)\n",
    "lstuff = [1, 2, 3, 3, 4]\n",
    "sstuff = set(lstuff)\n",
    "sstuff"
   ]
  },
  {
   "cell_type": "code",
   "execution_count": null,
   "metadata": {},
   "outputs": [],
   "source": [
    "# Добавление элементов\n",
    "sstuff = set()\n",
    "\n",
    "sstuff.add(4)\n",
    "sstuff.add(1)\n",
    "\n",
    "sstuff"
   ]
  },
  {
   "cell_type": "code",
   "execution_count": null,
   "metadata": {},
   "outputs": [],
   "source": [
    "# Удаление элементов\n",
    "sstuff.remove(4)\n",
    "sstuff"
   ]
  },
  {
   "cell_type": "code",
   "execution_count": null,
   "metadata": {},
   "outputs": [],
   "source": [
    "sa = {1, 2, 3, 4}\n",
    "sb = {3, 4, 5, 6}\n",
    "\n",
    "# Объединение\n",
    "union = sa | sb\n",
    "print(union)\n",
    "\n",
    "# Пересечение\n",
    "inter = sa & sb\n",
    "print(inter)\n",
    "\n",
    "# Разность\n",
    "subst = sa - sb\n",
    "print(subst)\n",
    "\n",
    "# Симметрическая разность\n",
    "ssubs = sa ^ sb\n",
    "print(ssubs)"
   ]
  },
  {
   "cell_type": "code",
   "execution_count": null,
   "metadata": {},
   "outputs": [],
   "source": [
    "# Сортировка\n",
    "sstuff = {1, -2, 2, 3}\n",
    "sorted(sstuff, key=lambda x:abs(x), reverse=False)"
   ]
  },
  {
   "cell_type": "code",
   "execution_count": null,
   "metadata": {},
   "outputs": [],
   "source": [
    "# Удаление элементов множества\n",
    "sstuff.clear()\n",
    "sstuff"
   ]
  },
  {
   "cell_type": "code",
   "execution_count": null,
   "metadata": {},
   "outputs": [],
   "source": [
    "# Неизменяемой множество\n",
    "froze_sstuff = frozenset([1, 2, 3])\n",
    "froze_sstuff"
   ]
  },
  {
   "cell_type": "markdown",
   "metadata": {},
   "source": [
    "### Дополнительные типы"
   ]
  },
  {
   "cell_type": "code",
   "execution_count": null,
   "metadata": {},
   "outputs": [],
   "source": [
    "from collections import deque"
   ]
  },
  {
   "cell_type": "code",
   "execution_count": null,
   "metadata": {},
   "outputs": [],
   "source": [
    "deqstuff = deque([1, 2, 3, 4])\n",
    "\n",
    "deqstuff.append(5)\n",
    "print(deqstuff)\n",
    "\n",
    "deqstuff.appendleft(0)\n",
    "print(deqstuff)\n",
    "\n",
    "last = deqstuff.pop()\n",
    "print(last)\n",
    "print(deqstuff)\n",
    "\n",
    "first = deqstuff.popleft()\n",
    "print(first)\n",
    "print(deqstuff)"
   ]
  },
  {
   "cell_type": "code",
   "execution_count": null,
   "metadata": {},
   "outputs": [],
   "source": [
    "# Сдвиг на один элемент\n",
    "deqstuff.rotate()\n",
    "deqstuff"
   ]
  },
  {
   "cell_type": "markdown",
   "metadata": {},
   "source": [
    "## Строки"
   ]
  },
  {
   "cell_type": "code",
   "execution_count": null,
   "metadata": {},
   "outputs": [],
   "source": [
    "welcome = \"hello\"\n",
    "\n",
    "# Количество символов\n",
    "print(len(welcome))\n",
    "\n",
    "# Вывод первого символа\n",
    "print(welcome[0])"
   ]
  },
  {
   "cell_type": "code",
   "execution_count": null,
   "metadata": {},
   "outputs": [],
   "source": [
    "# методы строки\n",
    "str.__dict__"
   ]
  },
  {
   "cell_type": "code",
   "execution_count": null,
   "metadata": {},
   "outputs": [],
   "source": [
    "# Проверка на вхождение\n",
    "\"el\" in welcome"
   ]
  },
  {
   "cell_type": "code",
   "execution_count": null,
   "metadata": {},
   "outputs": [],
   "source": [
    "# Проверка на отсутствие\n",
    "\"t\" not in welcome"
   ]
  },
  {
   "cell_type": "code",
   "execution_count": null,
   "metadata": {},
   "outputs": [],
   "source": [
    "# Формирование подстроки\n",
    "welcome[:2]"
   ]
  },
  {
   "cell_type": "code",
   "execution_count": null,
   "metadata": {},
   "outputs": [],
   "source": [
    "# Поиск слева\n",
    "indx = welcome.find(\"l\")\n",
    "indx"
   ]
  },
  {
   "cell_type": "code",
   "execution_count": null,
   "metadata": {},
   "outputs": [],
   "source": [
    "indx = welcome.find(\"t\")\n",
    "indx"
   ]
  },
  {
   "cell_type": "code",
   "execution_count": null,
   "metadata": {},
   "outputs": [],
   "source": [
    "# Поиск справа\n",
    "indx = welcome.rfind(\"l\")\n",
    "indx"
   ]
  },
  {
   "cell_type": "code",
   "execution_count": null,
   "metadata": {},
   "outputs": [],
   "source": [
    "# Количество вхождений\n",
    "count = welcome.count(\"l\")\n",
    "count"
   ]
  },
  {
   "cell_type": "code",
   "execution_count": null,
   "metadata": {},
   "outputs": [],
   "source": [
    "# Замена\n",
    "welcome_new = welcome.replace(\"l\", \"LL\")\n",
    "welcome_new"
   ]
  },
  {
   "cell_type": "code",
   "execution_count": null,
   "metadata": {},
   "outputs": [],
   "source": [
    "# Разбиение строки на части\n",
    "welcome = \"hello world\"\n",
    "lwords = welcome.split(\"o\")\n",
    "lwords"
   ]
  },
  {
   "cell_type": "code",
   "execution_count": null,
   "metadata": {},
   "outputs": [],
   "source": [
    "# Слияние\n",
    "lwords = [\"hello\", \"world\"]\n",
    "\n",
    "phrase = \" \".join(lwords)\n",
    "phrase"
   ]
  },
  {
   "cell_type": "code",
   "execution_count": null,
   "metadata": {},
   "outputs": [],
   "source": [
    "# Удаление крайних символов\n",
    "welcome = \"  welcome!@\"\n",
    "\n",
    "welcome.strip(\" !@\")"
   ]
  },
  {
   "cell_type": "code",
   "execution_count": null,
   "metadata": {},
   "outputs": [],
   "source": [
    "welcome = \"Hello\"\n",
    "welcome.upper(), welcome.lower()"
   ]
  },
  {
   "cell_type": "code",
   "execution_count": null,
   "metadata": {},
   "outputs": [],
   "source": [
    "# Обратный порядок\n",
    "list(reversed(welcome))"
   ]
  },
  {
   "cell_type": "code",
   "execution_count": null,
   "metadata": {},
   "outputs": [],
   "source": [
    "# Проверка содержания строки\n",
    "welcome.isalpha(), welcome.isdigit(), "
   ]
  },
  {
   "cell_type": "markdown",
   "metadata": {},
   "source": [
    "## Функции"
   ]
  },
  {
   "cell_type": "markdown",
   "metadata": {},
   "source": [
    "### Виды функций"
   ]
  },
  {
   "cell_type": "code",
   "execution_count": null,
   "metadata": {},
   "outputs": [],
   "source": [
    "# Именованные функции\n",
    "def power(value, degree=2):\n",
    "    return value**degree\n",
    "\n",
    "\n",
    "# Анонимная функция\n",
    "apower = lambda value, degree=2: value**degree\n",
    "\n",
    "print(power(2))\n",
    "print(apower(2))"
   ]
  },
  {
   "cell_type": "code",
   "execution_count": null,
   "metadata": {},
   "outputs": [],
   "source": [
    "print(power(2, 3))\n",
    "print(apower(2, 3))"
   ]
  },
  {
   "cell_type": "markdown",
   "metadata": {},
   "source": [
    "### Параметры функции"
   ]
  },
  {
   "cell_type": "code",
   "execution_count": null,
   "metadata": {},
   "outputs": [],
   "source": [
    "# Аргументы функции\n",
    "def format_name(first_name, second_name, uppercase=True):\n",
    "    formatted_name = first_name[0].upper() + \". \" + second_name\n",
    "    return formatted_name.upper() if uppercase else formatted_name"
   ]
  },
  {
   "cell_type": "code",
   "execution_count": null,
   "metadata": {},
   "outputs": [],
   "source": [
    "# Последовательность аргументы (важен порядок)\n",
    "format_name(\"Alex\", \"Ivanov\")"
   ]
  },
  {
   "cell_type": "code",
   "execution_count": null,
   "metadata": {},
   "outputs": [],
   "source": [
    "# Именованные аргументы\n",
    "format_name(second_name=\"Ivanov\", first_name=\"Alex\")"
   ]
  },
  {
   "cell_type": "code",
   "execution_count": null,
   "metadata": {},
   "outputs": [],
   "source": [
    "# Передача параметров в виде списка\n",
    "args = [\"Alex\", \"Ivanov\"]\n",
    "format_name(*args)"
   ]
  },
  {
   "cell_type": "code",
   "execution_count": null,
   "metadata": {},
   "outputs": [],
   "source": [
    "# Передача параметров в виде словаря\n",
    "kwargs = {\n",
    "    \"first_name\": \"Alex\",\n",
    "    \"second_name\": \"Ivanov\"\n",
    "}\n",
    "format_name(**kwargs)"
   ]
  },
  {
   "cell_type": "code",
   "execution_count": null,
   "metadata": {},
   "outputs": [],
   "source": [
    "def extract_first_name(**kwargs):\n",
    "    \"\"\"Возвращает имя\"\"\"\n",
    "    if \"first_name\" in kwargs:\n",
    "        return kwargs[\"first_name\"]"
   ]
  },
  {
   "cell_type": "code",
   "execution_count": null,
   "metadata": {},
   "outputs": [],
   "source": [
    "# Использование словаря\n",
    "extract_first_name(**kwargs)"
   ]
  },
  {
   "cell_type": "code",
   "execution_count": null,
   "metadata": {},
   "outputs": [],
   "source": [
    "# Использование именованных аргументов\n",
    "extract_first_name(first_name=\"Alex\", second_name=\"Ivanov\")"
   ]
  },
  {
   "cell_type": "markdown",
   "metadata": {},
   "source": [
    "### Возвращаемые значения"
   ]
  },
  {
   "cell_type": "code",
   "execution_count": null,
   "metadata": {},
   "outputs": [],
   "source": [
    "def check_odd(value):\n",
    "    \"\"\"Функция возвращает несколько значений\"\"\"\n",
    "    if value % 2 == 1:\n",
    "        return True, value\n",
    "    return False, value"
   ]
  },
  {
   "cell_type": "code",
   "execution_count": null,
   "metadata": {},
   "outputs": [],
   "source": [
    "is_odd, value = check_odd(3)\n",
    "is_odd, value"
   ]
  },
  {
   "cell_type": "markdown",
   "metadata": {},
   "source": [
    "### Внутренние функции"
   ]
  },
  {
   "cell_type": "code",
   "execution_count": null,
   "metadata": {},
   "outputs": [],
   "source": [
    "def mse(true_values, pred_values):\n",
    "    def _substract(true, pred):\n",
    "        \"\"\"Внутренняя функция\"\"\"\n",
    "        return true - pred  \n",
    "    n = len(true_values)\n",
    "    pairs = zip(true_values, pred_values)\n",
    "    return 1/n * sum(_substract(true, pred)**2 for true, pred in pairs)"
   ]
  },
  {
   "cell_type": "code",
   "execution_count": null,
   "metadata": {},
   "outputs": [],
   "source": [
    "mse([1,2,3], [1.2,1.8,3.1])"
   ]
  },
  {
   "cell_type": "markdown",
   "metadata": {},
   "source": [
    "### Декоратор"
   ]
  },
  {
   "cell_type": "code",
   "execution_count": null,
   "metadata": {},
   "outputs": [],
   "source": [
    "def do_something(activity=\"it\"):\n",
    "    print(\"doing {}!\".format(activity))\n",
    "    return True"
   ]
  },
  {
   "cell_type": "code",
   "execution_count": null,
   "metadata": {},
   "outputs": [],
   "source": [
    "def make_something(activity=\"it\"):\n",
    "    print(\"making {}!\".format(activity))\n",
    "    return True"
   ]
  },
  {
   "cell_type": "code",
   "execution_count": null,
   "metadata": {},
   "outputs": [],
   "source": [
    "result = do_something()"
   ]
  },
  {
   "cell_type": "code",
   "execution_count": null,
   "metadata": {},
   "outputs": [],
   "source": [
    "result = make_something()"
   ]
  },
  {
   "cell_type": "code",
   "execution_count": null,
   "metadata": {},
   "outputs": [],
   "source": [
    "def logger(function):\n",
    "    def _logger(*args, **kwargs):\n",
    "        print(\"started: {}\".format(function.__name__))\n",
    "        result = function(*args, **kwargs)\n",
    "        print(\"finished: {}\".format(function.__name__))\n",
    "        return result\n",
    "    return _logger"
   ]
  },
  {
   "cell_type": "code",
   "execution_count": null,
   "metadata": {},
   "outputs": [],
   "source": [
    "@logger\n",
    "def do_something(activity=\"it\"):\n",
    "    print(\"doing {}!\".format(activity))\n",
    "    return True\n",
    "\n",
    "@logger\n",
    "def make_something(activity=\"it\"):\n",
    "    print(\"making {}!\".format(activity))\n",
    "    return True"
   ]
  },
  {
   "cell_type": "code",
   "execution_count": null,
   "metadata": {},
   "outputs": [],
   "source": [
    "result = do_something(\"running\")"
   ]
  },
  {
   "cell_type": "code",
   "execution_count": null,
   "metadata": {},
   "outputs": [],
   "source": [
    "result = make_something(\"speech\")"
   ]
  },
  {
   "cell_type": "markdown",
   "metadata": {},
   "source": [
    "## Генераторы"
   ]
  },
  {
   "cell_type": "code",
   "execution_count": null,
   "metadata": {},
   "outputs": [],
   "source": [
    "def create_word_list(text):\n",
    "    \"\"\"Create list of words from text string.\"\"\"\n",
    "    def check_word(word):\n",
    "        return word not in [\"bot\", \"\"]\n",
    "    words = list()\n",
    "    start_indx = 0\n",
    "    for i in range(len(text)):\n",
    "        if text[i] == \" \":\n",
    "            word = text[start_indx:i]\n",
    "            if check_word(word):\n",
    "                words.append(word)\n",
    "            start_indx = i+1\n",
    "    # Note: For last word or text with single word\n",
    "    word = text[start_indx:i]\n",
    "    if check_word(word):\n",
    "        words.append(word)\n",
    "    return words"
   ]
  },
  {
   "cell_type": "code",
   "execution_count": null,
   "metadata": {},
   "outputs": [],
   "source": [
    "TEXT = \" sas bot ee ree \""
   ]
  },
  {
   "cell_type": "code",
   "execution_count": null,
   "metadata": {},
   "outputs": [],
   "source": [
    "create_word_list(TEXT)"
   ]
  },
  {
   "cell_type": "code",
   "execution_count": null,
   "metadata": {},
   "outputs": [],
   "source": [
    "def create_word_generator(text):\n",
    "    \"\"\"Create generator of words from text string.\"\"\"\n",
    "    def check_word(word):\n",
    "        return word not in [\"bot\", \"\"]\n",
    "    start_indx = 0\n",
    "    for i in range(len(text)):\n",
    "        if text[i] == \" \":\n",
    "            word = text[start_indx:i]\n",
    "            if check_word(word):\n",
    "                yield word\n",
    "            start_indx = i+1\n",
    "    # Note: For last word or text with single word\n",
    "    word = text[start_indx:i]\n",
    "    if check_word(word):\n",
    "        yield word"
   ]
  },
  {
   "cell_type": "code",
   "execution_count": null,
   "metadata": {},
   "outputs": [],
   "source": [
    "create_word_generator(TEXT)"
   ]
  },
  {
   "cell_type": "code",
   "execution_count": null,
   "metadata": {},
   "outputs": [],
   "source": [
    "# Извлечение элементов\n",
    "gen = create_word_generator(TEXT)\n",
    "print(next(gen))\n",
    "print(next(gen))"
   ]
  },
  {
   "cell_type": "code",
   "execution_count": null,
   "metadata": {},
   "outputs": [],
   "source": [
    "# Использование в цикле\n",
    "for word in create_word_generator(TEXT):\n",
    "    print(word)"
   ]
  },
  {
   "cell_type": "code",
   "execution_count": null,
   "metadata": {},
   "outputs": [],
   "source": [
    "# Преобразование в список\n",
    "list(create_word_generator(TEXT))"
   ]
  },
  {
   "cell_type": "markdown",
   "metadata": {},
   "source": [
    "## Классы"
   ]
  },
  {
   "cell_type": "code",
   "execution_count": null,
   "metadata": {},
   "outputs": [],
   "source": [
    "class Person:\n",
    "    \"\"\"Описание класса.\"\"\"\n",
    "    \n",
    "    \"\"\"\n",
    "    Переменные класса\n",
    "    \"\"\"\n",
    "    \n",
    "    planet = \"earth\"\n",
    "    \n",
    "    def __init__(self, first_name, second_name, department):\n",
    "        \"\"\"Конструктор\"\"\"\n",
    "        self._first_name = first_name\n",
    "        self._second_name = second_name\n",
    "        self._department = department\n",
    "    \n",
    "    \"\"\"\n",
    "    Метод экземпляра класса\n",
    "    \"\"\"\n",
    "    \n",
    "    def full_name(self):\n",
    "        \"\"\"Описание метода\"\"\"\n",
    "        return self._first_name + \" \" + self._second_name\n",
    "    \n",
    "    \"\"\"\n",
    "    Свойства\n",
    "    \"\"\"\n",
    "    \n",
    "    @property\n",
    "    def first_name(self):\n",
    "        return self._first_name\n",
    "\n",
    "    @first_name.setter\n",
    "    def first_name(self, value):\n",
    "        self._first_name = value\n",
    "\n",
    "    @first_name.deleter\n",
    "    def first_name(self):\n",
    "        del self._first_name\n",
    "    \n",
    "    @property\n",
    "    def second_name(self):\n",
    "        return self._second_name\n",
    "    \n",
    "    \"\"\"\n",
    "    Метод класса\n",
    "    \"\"\"\n",
    "    \n",
    "    @classmethod\n",
    "    def create_bot(cls):\n",
    "        return cls(\"id123\", \"bot\", \"ai\")\n",
    "\n",
    "    \n",
    "    \"\"\"\n",
    "    Статический метод\n",
    "    \"\"\"\n",
    "    \n",
    "    @staticmethod\n",
    "    def is_human(second_name):\n",
    "        return second_name != \"bot\"\n",
    "    \n",
    "    \"\"\"\n",
    "    Переопределение методов\n",
    "    \"\"\"\n",
    "    \n",
    "    def __str__(self):\n",
    "        return self.full_name() + \" from \" + self.planet \n",
    "    \n",
    "    \"\"\"\n",
    "    Перегрузка оператора\n",
    "    \"\"\"\n",
    "    \n",
    "\n",
    "class Education:\n",
    "    pass\n",
    "\n",
    "\n",
    "class Staff(Person, Education):\n",
    "    def __init__(self, first_name, second_name, department):\n",
    "#         super().__init__(first_name, second_name, department)\n",
    "        Person.__init__(self, first_name, second_name, department)"
   ]
  },
  {
   "cell_type": "code",
   "execution_count": null,
   "metadata": {},
   "outputs": [],
   "source": [
    "# Создание экземпляра класса Person\n",
    "alex = Person(\"alex\", \"smirnov\", \"it\")\n",
    "print(alex)\n",
    "\n",
    "bot = Person.create_bot()\n",
    "print(bot)"
   ]
  },
  {
   "cell_type": "code",
   "execution_count": null,
   "metadata": {},
   "outputs": [],
   "source": [
    "# Доступ к переменным\n",
    "print(alex.first_name)\n",
    "print(alex.second_name)\n",
    "print(alex._department)\n",
    "print(alex.planet)"
   ]
  },
  {
   "cell_type": "code",
   "execution_count": null,
   "metadata": {},
   "outputs": [],
   "source": [
    "# Доступ к методу экземпляра класса\n",
    "alex.full_name()"
   ]
  },
  {
   "cell_type": "code",
   "execution_count": null,
   "metadata": {},
   "outputs": [],
   "source": [
    "# Доступ к статическому методу\n",
    "Person.is_human(bot.second_name)"
   ]
  },
  {
   "cell_type": "code",
   "execution_count": null,
   "metadata": {},
   "outputs": [],
   "source": [
    "# Создание экземпляра класса Staff\n",
    "employee = Staff(\"alex\", \"smirnov\", \"it\")\n",
    "print(employee)"
   ]
  },
  {
   "cell_type": "code",
   "execution_count": null,
   "metadata": {},
   "outputs": [],
   "source": [
    "# Порядок наследования\n",
    "Staff.mro()"
   ]
  },
  {
   "cell_type": "code",
   "execution_count": null,
   "metadata": {},
   "outputs": [],
   "source": [
    "# Имя атрибута\n",
    "ATTR = \"first_name\""
   ]
  },
  {
   "cell_type": "code",
   "execution_count": null,
   "metadata": {},
   "outputs": [],
   "source": [
    "# Проверка наличия атрибута\n",
    "hasattr(employee, ATTR)"
   ]
  },
  {
   "cell_type": "code",
   "execution_count": null,
   "metadata": {},
   "outputs": [],
   "source": [
    "# Получение значения атрибута\n",
    "getattr(employee, ATTR)"
   ]
  },
  {
   "cell_type": "code",
   "execution_count": null,
   "metadata": {},
   "outputs": [],
   "source": [
    "# Присвоение нового значения атрибуту или создание нового\n",
    "setattr(employee, ATTR, \"xela\")\n",
    "employee.first_name"
   ]
  },
  {
   "cell_type": "code",
   "execution_count": null,
   "metadata": {},
   "outputs": [],
   "source": [
    "setattr(employee, \"ATTR\", \"xela\")\n",
    "employee.ATTR"
   ]
  },
  {
   "cell_type": "code",
   "execution_count": null,
   "metadata": {},
   "outputs": [],
   "source": [
    "# Создание нового атрибута\n",
    "employee.new_attr = \"new attribute\"\n",
    "employee.new_attr"
   ]
  },
  {
   "cell_type": "code",
   "execution_count": null,
   "metadata": {},
   "outputs": [],
   "source": [
    "# Удаление атрибута\n",
    "if hasattr(employee, \"ATTR\"):\n",
    "    delattr(employee, \"ATTR\")\n",
    "\n",
    "hasattr(employee, \"ATTR\")"
   ]
  },
  {
   "cell_type": "markdown",
   "metadata": {},
   "source": [
    "## Работа с файлами"
   ]
  },
  {
   "cell_type": "code",
   "execution_count": null,
   "metadata": {},
   "outputs": [],
   "source": [
    "# Запись файла (1)\n",
    "f = open(\"input.txt\", \"wt\")  # r, w, a, r+, b, t\n",
    "f.write(\"hello world\\nwelcome to python\")\n",
    "f.close()"
   ]
  },
  {
   "cell_type": "code",
   "execution_count": null,
   "metadata": {},
   "outputs": [],
   "source": [
    "# Запись файла (2)\n",
    "f = open(\"input.txt\", \"wt\")  # r, w, a, r+, b, t\n",
    "f.writelines([\"hello world\\n\", \"welcome to python\"])\n",
    "f.close()"
   ]
  },
  {
   "cell_type": "code",
   "execution_count": null,
   "metadata": {},
   "outputs": [],
   "source": [
    "# Чтение файла (1)\n",
    "f = open(\"input.txt\", \"rt\")  # r, w, a, r+, b, t\n",
    "lines = f.readlines()\n",
    "f.close()\n",
    "\n",
    "print(lines)"
   ]
  },
  {
   "cell_type": "code",
   "execution_count": null,
   "metadata": {},
   "outputs": [],
   "source": [
    "# Чтение одной строки\n",
    "f = open(\"input.txt\", \"rt\")  # r, w, a, r+, b, t\n",
    "line = f.readline()\n",
    "f.close()\n",
    "print(line)"
   ]
  },
  {
   "cell_type": "code",
   "execution_count": null,
   "metadata": {},
   "outputs": [],
   "source": [
    "# Чтение файла (2)\n",
    "f = open(\"input.txt\", \"rt\")  # r, w, a, r+, b, t\n",
    "while True:\n",
    "    line = f.readline()\n",
    "    if not line:\n",
    "        break\n",
    "    print(line.rstrip())  # end=\"\"\n",
    "f.close()"
   ]
  },
  {
   "cell_type": "code",
   "execution_count": null,
   "metadata": {},
   "outputs": [],
   "source": [
    "# Чтение файла (3)\n",
    "f = open(\"input.txt\", \"rt\")  # r, w, a, r+, b, t\n",
    "for line in f:\n",
    "    print(line.rstrip())\n",
    "f.close()"
   ]
  },
  {
   "cell_type": "code",
   "execution_count": null,
   "metadata": {},
   "outputs": [],
   "source": [
    "# Чтение нескольких символов\n",
    "f = open(\"input.txt\", \"rt\")  # r, w, a, r+, b, t\n",
    "chars = f.read(5)\n",
    "f.close()\n",
    "\n",
    "print(chars)"
   ]
  },
  {
   "cell_type": "code",
   "execution_count": null,
   "metadata": {},
   "outputs": [],
   "source": [
    "# Перемещение указателя\n",
    "f = open(\"input.txt\", \"rt\")  # r, w, a, r+, b, t\n",
    "f.seek(5)\n",
    "print(f.tell())\n",
    "chars = f.read(5)\n",
    "print(f.tell())\n",
    "f.close()\n",
    "\n",
    "print(chars)"
   ]
  },
  {
   "cell_type": "code",
   "execution_count": null,
   "metadata": {},
   "outputs": [],
   "source": [
    "# Использование with\n",
    "# Чтение файла (3)\n",
    "with open(\"input.txt\", \"rt\") as f:\n",
    "    text = f.read()\n",
    "\n",
    "print(text)"
   ]
  },
  {
   "cell_type": "markdown",
   "metadata": {},
   "source": [
    "## Исключения"
   ]
  },
  {
   "cell_type": "code",
   "execution_count": null,
   "metadata": {},
   "outputs": [],
   "source": [
    "sstuff = set()\n",
    "sstuff.remove(4)"
   ]
  },
  {
   "cell_type": "code",
   "execution_count": null,
   "metadata": {},
   "outputs": [],
   "source": [
    "# Перехват исключений\n",
    "try:\n",
    "    \"\"\"Код с возможным исключением\"\"\"\n",
    "    sstuff = set()\n",
    "    sstuff.remove(4)\n",
    "except KeyError as e:\n",
    "    \"\"\"Обработка исключения\"\"\"\n",
    "    print(\"except\")\n",
    "finally:\n",
    "    \"\"\"Завершающие действия (не важно было исключение или нет)\"\"\"\n",
    "    print(\"finally\")"
   ]
  },
  {
   "cell_type": "code",
   "execution_count": null,
   "metadata": {},
   "outputs": [],
   "source": [
    "# Собственное исключение\n",
    "def check_value(value):\n",
    "    if value > 0:\n",
    "        return True\n",
    "    else:\n",
    "        raise Exception(\"Less or equal to 0.\")"
   ]
  },
  {
   "cell_type": "code",
   "execution_count": null,
   "metadata": {},
   "outputs": [],
   "source": [
    "is_positive = True\n",
    "\n",
    "try:\n",
    "    is_positive = check_value(0)\n",
    "except Exception as e:\n",
    "    print(e)\n",
    "    is_positive = False\n",
    "    \n",
    "is_positive"
   ]
  },
  {
   "cell_type": "markdown",
   "metadata": {},
   "source": [
    "## Модули"
   ]
  },
  {
   "cell_type": "markdown",
   "metadata": {},
   "source": [
    "### Подключение сторонних модулей"
   ]
  },
  {
   "cell_type": "markdown",
   "metadata": {},
   "source": [
    "Математические функции"
   ]
  },
  {
   "cell_type": "code",
   "execution_count": null,
   "metadata": {},
   "outputs": [],
   "source": [
    "# Импорт модуля\n",
    "import math as m\n",
    "\n",
    "# Импорт функции cos и значения pi из модуля math\n",
    "from math import cos, pi"
   ]
  },
  {
   "cell_type": "code",
   "execution_count": null,
   "metadata": {},
   "outputs": [],
   "source": [
    "# Вызов функции pow модуля math\n",
    "m.pow(2, 3)"
   ]
  },
  {
   "cell_type": "code",
   "execution_count": null,
   "metadata": {},
   "outputs": [],
   "source": [
    "# Вызов функции cos модуля math\n",
    "cos(pi)"
   ]
  },
  {
   "cell_type": "markdown",
   "metadata": {},
   "source": [
    "Разбор json  "
   ]
  },
  {
   "cell_type": "code",
   "execution_count": null,
   "metadata": {},
   "outputs": [],
   "source": [
    "import json"
   ]
  },
  {
   "cell_type": "code",
   "execution_count": null,
   "metadata": {},
   "outputs": [],
   "source": [
    "client_json = '{\"id\": \"1\", \"name\": \"alex\"}'"
   ]
  },
  {
   "cell_type": "code",
   "execution_count": null,
   "metadata": {},
   "outputs": [],
   "source": [
    "# Разбор json строки и преобразование в словарь\n",
    "client = json.loads(client_json)\n",
    "client"
   ]
  },
  {
   "cell_type": "markdown",
   "metadata": {},
   "source": [
    "### Подключение собственных модулей"
   ]
  },
  {
   "cell_type": "markdown",
   "metadata": {},
   "source": [
    "Создаем файл, в который помещаем следующий код"
   ]
  },
  {
   "cell_type": "code",
   "execution_count": null,
   "metadata": {},
   "outputs": [],
   "source": [
    "%%writefile custommath.py\n",
    "\n",
    "#!/usr/bin/env python\n",
    "\n",
    "__author__ = \"S. Papulin\"\n",
    "__version__ = \"1.0.0\"\n",
    "__maintainer__ = \"S. Papulin\"\n",
    "\n",
    "__course__ = \"ml\"\n",
    "\n",
    "\n",
    "def power(value, degree):\n",
    "    \"\"\"Power function.\"\"\"\n",
    "    return value ** degree\n",
    "\n",
    "\n",
    "if __name__ == \"__main__\":\n",
    "    print(\"Test: 2^3 =\", power(2, 3))\n"
   ]
  },
  {
   "cell_type": "code",
   "execution_count": null,
   "metadata": {},
   "outputs": [],
   "source": [
    "# Активация повторного импорта модулей\n",
    "%load_ext autoreload\n",
    "%autoreload 2"
   ]
  },
  {
   "cell_type": "code",
   "execution_count": null,
   "metadata": {},
   "outputs": [],
   "source": [
    "# Импорт функции power\n",
    "from custommath import power"
   ]
  },
  {
   "cell_type": "code",
   "execution_count": null,
   "metadata": {},
   "outputs": [],
   "source": [
    "# Справка по функции\n",
    "help(power)"
   ]
  },
  {
   "cell_type": "code",
   "execution_count": null,
   "metadata": {},
   "outputs": [],
   "source": [
    "# Вызов функции\n",
    "power(2, 3)"
   ]
  },
  {
   "cell_type": "markdown",
   "metadata": {},
   "source": [
    "## Виртуальная среда\n",
    "\n",
    "Создание изолированной виртуальной среды:\n",
    "\n",
    "```bash\n",
    "/home/ubuntu/ML/anaconda3/bin/python -m venv .venv/pure-py\n",
    "```\n",
    "Активация среды:\n",
    "```bash\n",
    "source .venv/pure-py/bin/activate\n",
    "```\n",
    "\n",
    "Выход (деактивация) из среды:\n",
    "\n",
    "```\n",
    "deactivate"
   ]
  },
  {
   "cell_type": "code",
   "execution_count": null,
   "metadata": {},
   "outputs": [],
   "source": []
  }
 ],
 "metadata": {
  "kernelspec": {
   "display_name": "Python 3",
   "language": "python",
   "name": "python3"
  },
  "language_info": {
   "codemirror_mode": {
    "name": "ipython",
    "version": 3
   },
   "file_extension": ".py",
   "mimetype": "text/x-python",
   "name": "python",
   "nbconvert_exporter": "python",
   "pygments_lexer": "ipython3",
   "version": "3.7.3"
  }
 },
 "nbformat": 4,
 "nbformat_minor": 2
}
