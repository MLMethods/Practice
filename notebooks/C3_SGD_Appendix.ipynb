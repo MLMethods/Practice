{
 "cells": [
  {
   "cell_type": "markdown",
   "metadata": {},
   "source": [
    "<div style=\"font-size:18pt; padding-top:20px; text-align:center; line-height: 1.5;\">СЕМИНАР. <b>Оптимизация. Часть 2.</b> Исследование влияния значения коэффициента альфа в стохастическом градиентном спуске</div><hr>\n",
    "<div style=\"text-align:right;\">Папулин С.Ю. <span style=\"font-style: italic;font-weight: bold;\">(papulin.study@yandex.ru)</span></div>"
   ]
  },
  {
   "cell_type": "code",
   "execution_count": null,
   "metadata": {
    "collapsed": true,
    "jupyter": {
     "outputs_hidden": true
    }
   },
   "outputs": [],
   "source": [
    "import numpy as np\n",
    "import pandas as pnd\n",
    "import matplotlib.pyplot as plt\n",
    "from mpl_toolkits.mplot3d import Axes3D\n",
    "from matplotlib import cm\n",
    "%matplotlib inline"
   ]
  },
  {
   "cell_type": "code",
   "execution_count": null,
   "metadata": {
    "collapsed": true,
    "jupyter": {
     "outputs_hidden": true
    }
   },
   "outputs": [],
   "source": [
    "np.random.seed(100)\n",
    "w1 = 0.5 * np.random.randn(1000) + 1\n",
    "w2 = 0.5 * np.random.randn(1000) + 0.5\n",
    "#w2 = 10 * np.random.randn(1000) + 30\n",
    "\n",
    "y = 0.5 * np.random.randn(1000)"
   ]
  },
  {
   "cell_type": "code",
   "execution_count": null,
   "metadata": {
    "collapsed": true,
    "jupyter": {
     "outputs_hidden": true
    }
   },
   "outputs": [],
   "source": [
    "# Количество элементов в выборке\n",
    "n = len(y)\n",
    "\n",
    "# Функция потерь (ошибки)  \n",
    "f = lambda w1, w2, x1, x2: 1 / n * sum([(w1[i]*x1 + w2[i]*x2 - y[i]) ** 2 for i in range(n)])"
   ]
  },
  {
   "cell_type": "code",
   "execution_count": null,
   "metadata": {
    "collapsed": true,
    "jupyter": {
     "outputs_hidden": true
    }
   },
   "outputs": [],
   "source": [
    "coord_x1 = np.arange(-4, 5, 0.1) #Значения x c шагом 0.1\n",
    "coord_x2 = np.arange(-4, 5, 0.1) #Значения x c шагом 0.1\n",
    "\n",
    "x1, x2 = np.meshgrid(coord_x1, coord_x2)"
   ]
  },
  {
   "cell_type": "code",
   "execution_count": null,
   "metadata": {
    "collapsed": false,
    "jupyter": {
     "outputs_hidden": false
    }
   },
   "outputs": [],
   "source": [
    "fig = plt.figure(1, figsize=(10, 10))\n",
    "\n",
    "ax0 = fig.add_subplot(2, 2, 1, projection=\"3d\")\n",
    "ax0.plot_surface(x1, x2, f(w1, w2, x1, x2), rstride=1, cstride=1, cmap=cm.coolwarm,\n",
    "                       linewidth=0, antialiased=False)\n",
    "ax0.set_xlabel(\"x1\")\n",
    "ax0.set_ylabel(\"x2\")\n",
    "ax0.set_zlabel(\"f(x1,x2)\")\n",
    "\n",
    "ax1 = plt.subplot(2,2,2)\n",
    "cf = ax1.contourf(x1, x2, f(w1, w2, x1, x2), 10, alpha=0.5, cmap=cm.coolwarm)\n",
    "plt.colorbar(cf)\n",
    "ax1.set_xlabel(\"x1\")\n",
    "ax1.set_ylabel(\"x2\")\n",
    "\n",
    "ax2 = plt.subplot(2,2,3)\n",
    "ax2.set_xlabel(\"x1\")\n",
    "ax2.set_ylabel(\"x2\")\n",
    "\n",
    "X, Y = np.meshgrid(coord_x1[::5], coord_x2[::5])\n",
    "Fxy = f(w1, w2, X, Y)\n",
    "dX = coord_x1[5] - coord_x1[0]\n",
    "dY = coord_x2[5] - coord_x2[0]\n",
    "dFY,dFX = np.gradient(Fxy, dX, dY)\n",
    "\n",
    "ax2.quiver(X, Y, dFX, dFY, scale=100)\n",
    "\n",
    "ax3 = plt.subplot(2,2,4)\n",
    "ax3.set_xlabel(\"x1\")\n",
    "ax3.set_ylabel(\"x2\")\n",
    "ax3.contourf(x1, x2, f(w1, w2, x1, x2), 25, cmap=cm.coolwarm)\n",
    "ax3.quiver(X, Y, dFX, dFY, scale=100)\n",
    "plt.colorbar(cf)\n",
    "\n",
    "plt.tight_layout()\n",
    "\n",
    "plt.show()"
   ]
  },
  {
   "cell_type": "code",
   "execution_count": null,
   "metadata": {
    "collapsed": true,
    "jupyter": {
     "outputs_hidden": true
    }
   },
   "outputs": [],
   "source": [
    "def plotCurrentPoint(x_curr, x_prev, f_curr, f_prev):\n",
    "    if abs(x_curr - x_prev) > 0.001 and abs(f_curr - f_prev) > 0.001:\n",
    "        plt.annotate(\"\", xy=(x_prev, f_prev), xytext=(x_curr, f_curr), arrowprops=dict(arrowstyle=\"<-\", color=\"grey\",  \n",
    "                                                                                   linestyle =\"dashed\"))\n",
    "    plt.plot(x_curr, f_curr, 'o', color = \"blue\")\n",
    "    \n",
    "def plotStartEndPosition(x_curr, x_st, f_curr, f_st):\n",
    "    plt.annotate(\"\", xy=(x_st,f_st), xytext=(x_curr, f_curr), arrowprops=dict(arrowstyle=\"<-\", color=\"red\"))"
   ]
  },
  {
   "cell_type": "markdown",
   "metadata": {},
   "source": [
    "<p>Градиентный спуск</p>"
   ]
  },
  {
   "cell_type": "code",
   "execution_count": null,
   "metadata": {
    "collapsed": false,
    "jupyter": {
     "outputs_hidden": false
    }
   },
   "outputs": [],
   "source": [
    "df_x1 = lambda w1, w2, x1, x2: 2*sum(w1[i]*(w1[i]*x1 + w2[i]*x2 - y[i]) for i in range(n)) #Производная по x\n",
    "df_x2 = lambda w1, w2, x1, x2: 2*sum(w2[i]*(w1[i]*x1 + w2[i]*x2 - y[i]) for i in range(n)) #Производная по y"
   ]
  },
  {
   "cell_type": "code",
   "execution_count": null,
   "metadata": {
    "collapsed": false,
    "jupyter": {
     "outputs_hidden": false
    }
   },
   "outputs": [],
   "source": [
    "def gradientDescent2D(w1, w2, alpha, f, dfx1, dfx2, iterNum, err, startX1, startX2):\n",
    "    \n",
    "    x1_min = startX1\n",
    "    x1_min_prev = startX1\n",
    "    \n",
    "    x2_min = startX2\n",
    "    x2_min_prev = startX2\n",
    "    \n",
    "    y_prev = f(w1, w2, x1_min, x2_min)\n",
    "    y_cur = y_prev\n",
    "    \n",
    "    i = 0\n",
    "\n",
    "    \n",
    "    while i < iterNum:\n",
    "        \n",
    "        x1_min = x1_min_prev - alpha * dfx1(w1, w2, x1_min_prev, x2_min_prev)\n",
    "        x2_min = x2_min_prev - alpha * dfx2(w1, w2, x1_min_prev, x2_min_prev)\n",
    "        \n",
    "        y_cur = f(w1, w2, x1_min, x2_min)\n",
    "        \n",
    "        if abs(y_cur - y_prev) <= err:\n",
    "            break\n",
    "        \n",
    "        y_prev = y_cur\n",
    "        \n",
    "        plotCurrentPoint(x1_min, x1_min_prev, x2_min, x2_min_prev)\n",
    "        #plt.plot(x_min, y_min, 'o', color = \"blue\")\n",
    "        \n",
    "        x1_min_prev = x1_min\n",
    "        x2_min_prev = x2_min\n",
    "\n",
    "        i += 1\n",
    "        \n",
    "    return (x1_min, x2_min, i)"
   ]
  },
  {
   "cell_type": "code",
   "execution_count": null,
   "metadata": {
    "collapsed": true,
    "jupyter": {
     "outputs_hidden": true
    }
   },
   "outputs": [],
   "source": [
    "alpha = 0.0005\n",
    "iterNum = 200\n",
    "err = 0.0001\n",
    "startX1 = 4\n",
    "startX2 = -2"
   ]
  },
  {
   "cell_type": "code",
   "execution_count": null,
   "metadata": {
    "collapsed": false,
    "jupyter": {
     "outputs_hidden": false
    }
   },
   "outputs": [],
   "source": [
    "gradientDescent2D(w1, w2, alpha, f, df_x1, df_x2, iterNum, err, startX1, startX2)"
   ]
  },
  {
   "cell_type": "markdown",
   "metadata": {},
   "source": [
    "<p>Стохастический градиентный спуск</p>"
   ]
  },
  {
   "cell_type": "code",
   "execution_count": null,
   "metadata": {
    "collapsed": false,
    "jupyter": {
     "outputs_hidden": false
    }
   },
   "outputs": [],
   "source": [
    "# Количество элементов в выборке\n",
    "n = len(y)\n",
    "\n",
    "# Функция потерь (ошибки)  \n",
    "f = lambda w1, w2, x1, x2: 1 / n * sum([(w1[i]*x1 + w2[i]*x2 - y[i]) ** 2 for i in range(n)])\n",
    "\n",
    "# Частные производные от функции потерь\n",
    "df_x1_i = lambda w1, w2, x1, x2, i:1/2.0 * w1[i] * (w1[i]*x1 + w2[i]*x2 - y[i])\n",
    "df_x2_i = lambda w1, w2, x1, x2, i: 1/2.0 *w2[i] * (w1[i]*x1 + w2[i]*x2 - y[i])"
   ]
  },
  {
   "cell_type": "code",
   "execution_count": null,
   "metadata": {
    "collapsed": true,
    "jupyter": {
     "outputs_hidden": true
    }
   },
   "outputs": [],
   "source": [
    "def stochasticGradientDescent2D(w1, w2, alpha, f, dfx1i, dfx2i, err, startX1, startX2):\n",
    "    \n",
    "    n = len(y)\n",
    "    \n",
    "    x1_min = startX1\n",
    "    x1_min_prev = startX1\n",
    "    \n",
    "    x2_min = startX2\n",
    "    x2_min_prev = startX2\n",
    "    \n",
    "    y_prev = f(w1, w2, x1_min, x2_min)\n",
    "    y_cur = y_prev\n",
    "    \n",
    "    j = 0\n",
    "    \n",
    "    for i in range(n):\n",
    "        \n",
    "        x1_min = x1_min_prev - alpha * dfx1i(w1, w2, x1_min_prev, x2_min_prev, i)\n",
    "        x2_min = x2_min_prev - alpha * dfx2i(w1, w2, x1_min_prev, x2_min_prev, i)\n",
    "        \n",
    "        \n",
    "        y_cur = f(w1, w2, x1_min, x2_min)\n",
    "        \n",
    "        if abs(y_cur - y_prev) <= err:\n",
    "            break\n",
    "        \n",
    "        y_prev = y_cur    \n",
    "        \n",
    "        plotCurrentPoint(x1_min, x1_min_prev, x2_min, x2_min_prev)\n",
    "        \n",
    "        x1_min_prev = x1_min\n",
    "        x2_min_prev = x2_min\n",
    "\n",
    "        j += 1\n",
    "                     \n",
    "    return (x1_min, x2_min, j)"
   ]
  },
  {
   "cell_type": "code",
   "execution_count": null,
   "metadata": {
    "collapsed": true,
    "jupyter": {
     "outputs_hidden": true
    }
   },
   "outputs": [],
   "source": [
    "alpha = 0.05\n",
    "iterNum = 200\n",
    "err = 0.0001\n",
    "startX1 = 4\n",
    "startX2 = -2"
   ]
  },
  {
   "cell_type": "code",
   "execution_count": null,
   "metadata": {
    "collapsed": false,
    "jupyter": {
     "outputs_hidden": false
    }
   },
   "outputs": [],
   "source": [
    "stochasticGradientDescent2D(w1, w2, alpha, f, df_x1_i, df_x2_i, err, startX1, startX2)"
   ]
  },
  {
   "cell_type": "markdown",
   "metadata": {},
   "source": [
    "<p>Исследование влияения значения коэффициента альфа</p>"
   ]
  },
  {
   "cell_type": "code",
   "execution_count": null,
   "metadata": {
    "collapsed": true,
    "jupyter": {
     "outputs_hidden": true
    }
   },
   "outputs": [],
   "source": [
    "def plotInit2D(x1, x2, w1, w2, f, startX, startY):\n",
    "    plt.contourf(x1, x2, f(w1, w2, x1, x2), 10, alpha=0.5, cmap=cm.coolwarm)\n",
    "    #plt.colorbar(cf)\n",
    "    plt.grid(True)\n",
    "    plt.plot(startX, startY, 'o', color = \"green\")   \n",
    "\n",
    "def plotEndState2D(x_min, y_min, f_min, alpha, startX, startY, numI):\n",
    "    plt.plot(x_min, y_min, 'o', color = \"red\")\n",
    "    plt.xlabel(\"X1\")\n",
    "    plt.ylabel(\"X2\")\n",
    "    plt.title(\"$\\\\alpha = \" + str(alpha) + \"$, Start Point: $x_{1,0} = \" + str(startX) + \"$, $x_{2,0} = \" + str(startY) +\"$\" )\n",
    "    text = \"Number of iterations: \"+str(numI) + \"\\n $x_{1,min} = \" + \\\n",
    "        str(np.around(x_min, decimals = 2)) +\"$, $x_{2,min} = \" + str(np.around(y_min, decimals = 2)) +\"$ \\n\" + \\\n",
    "        \"$f(x_{1,min}, x_{2,min}) = \" + str(np.around(f_min, decimals = 4)) + \"$\"\n",
    "    plt.annotate(text, (0.10, 0.80), xytext=(0.10, 0.75), textcoords=\"axes fraction\", size=14)\n",
    "    \n",
    "def plotGraphics2D(st_x, st_y, maxIter, err, f, dfx, dfy, x, y, w1, w2, z, alphas, grType=0):\n",
    "    \n",
    "    numPlt = len(alphas)\n",
    "    numClmns = 2\n",
    "    numRows = int(np.ceil(numPlt / numClmns))\n",
    "\n",
    "    plt.figure(2, figsize=(numClmns*5, numRows*5))\n",
    "    \n",
    "    def plotOneGraphic(grNum, alpha):\n",
    "        plt.subplot(numRows, numClmns,grNum+1)\n",
    "        plotInit2D(x, y, w1, w2, f, st_x, st_y)\n",
    "        x_min, y_min, numI = 0, 0, 0\n",
    "        if grType == 1:\n",
    "            x_min, y_min, numI = stochasticGradientDescent2D(w1, w2, alpha, f, dfx, dfy, err, st_x, st_y)\n",
    "        else:\n",
    "            x_min, y_min, numI = gradientDescent2D(w1, w2, alpha, f, dfx, dfy, maxIter, err, st_x, st_y)\n",
    "            \n",
    "        plotEndState2D(x_min, y_min, f(w1, w2, x_min, y_min), alpha, st_x, st_y, numI)\n",
    "        plotStartEndPosition(x_min, st_x, y_min, st_y)\n",
    "        return (x_min, y_min)\n",
    "\n",
    "    \n",
    "    return [plotOneGraphic(i, alphas[i]) for i in range(numPlt)]"
   ]
  },
  {
   "cell_type": "markdown",
   "metadata": {},
   "source": [
    "<p>Градиентный спуск и альфа</p>"
   ]
  },
  {
   "cell_type": "markdown",
   "metadata": {},
   "source": [
    "<p><b><i>Начальная точка 1</i></b></p>"
   ]
  },
  {
   "cell_type": "code",
   "execution_count": null,
   "metadata": {
    "collapsed": false,
    "jupyter": {
     "outputs_hidden": false
    }
   },
   "outputs": [],
   "source": [
    "startX1 = 4\n",
    "startX2 = -2\n",
    "maxIter = 100\n",
    "err = 0.0001\n",
    "alphas = [0.0001, 0.0002, 0.0003, 0.0004, 0.0005, 0.00066]\n",
    "\n",
    "res = plotGraphics2D(startX1, startX2, maxIter, err, f, df_x1, df_x2, x1, x2, w1, w2, y, alphas)"
   ]
  },
  {
   "cell_type": "markdown",
   "metadata": {},
   "source": [
    "<p><b><i>Начальная точка 2</i></b></p>"
   ]
  },
  {
   "cell_type": "code",
   "execution_count": null,
   "metadata": {
    "collapsed": false,
    "jupyter": {
     "outputs_hidden": false
    }
   },
   "outputs": [],
   "source": [
    "startX1 = -3\n",
    "startX2 = -3\n",
    "maxIter = 100\n",
    "err = 0.0001\n",
    "alphas = [0.0001, 0.0002, 0.0003, 0.0004, 0.0005, 0.00066]\n",
    "\n",
    "res = plotGraphics2D(startX1, startX2, maxIter, err, f, df_x1, df_x2, x1, x2, w1, w2, y, alphas)"
   ]
  },
  {
   "cell_type": "markdown",
   "metadata": {},
   "source": [
    "<p>Стохастический градиентный спуск и альфа</p>"
   ]
  },
  {
   "cell_type": "markdown",
   "metadata": {},
   "source": [
    "<p><b><i>Начальная точка 1</i></b></p>"
   ]
  },
  {
   "cell_type": "code",
   "execution_count": null,
   "metadata": {
    "collapsed": false,
    "jupyter": {
     "outputs_hidden": false
    }
   },
   "outputs": [],
   "source": [
    "startX1 = 4\n",
    "startX2 = -2\n",
    "err = 0.0001\n",
    "alphas =  [0.1, 0.3, 0.4, 0.5, 0.7, 0.95]\n",
    "\n",
    "res = plotGraphics2D(startX1, startX2, maxIter, err, f, df_x1_i, df_x2_i, x1, x2, w1, w2, y, alphas, grType=1)"
   ]
  },
  {
   "cell_type": "markdown",
   "metadata": {},
   "source": [
    "<p><b><i>Начальная точка 2</i></b></p>"
   ]
  },
  {
   "cell_type": "code",
   "execution_count": null,
   "metadata": {
    "collapsed": false,
    "jupyter": {
     "outputs_hidden": false
    }
   },
   "outputs": [],
   "source": [
    "startX1 = -3\n",
    "startX2 = -3\n",
    "err = 0.0001\n",
    "alphas =  [0.1, 0.3, 0.4, 0.5, 0.7, 0.95]\n",
    "\n",
    "res = plotGraphics2D(startX1, startX2, maxIter, err, f, df_x1_i, df_x2_i, x1, x2, w1, w2, y, alphas, grType=1)"
   ]
  },
  {
   "cell_type": "markdown",
   "metadata": {},
   "source": [
    "<p>МНК</p>"
   ]
  },
  {
   "cell_type": "code",
   "execution_count": null,
   "metadata": {
    "collapsed": false,
    "jupyter": {
     "outputs_hidden": false
    }
   },
   "outputs": [],
   "source": [
    "X = np.asmatrix(np.c_[w1, w2])\n",
    "X[:5,:2]"
   ]
  },
  {
   "cell_type": "code",
   "execution_count": null,
   "metadata": {
    "collapsed": false,
    "jupyter": {
     "outputs_hidden": false
    }
   },
   "outputs": [],
   "source": [
    "yy = np.asmatrix(y.reshape(len(y), 1))\n",
    "yy[:5]"
   ]
  },
  {
   "cell_type": "code",
   "execution_count": null,
   "metadata": {
    "collapsed": false,
    "jupyter": {
     "outputs_hidden": false
    }
   },
   "outputs": [],
   "source": [
    "xx = np.linalg.lstsq(X, yy)[0]\n",
    "xx"
   ]
  },
  {
   "cell_type": "code",
   "execution_count": null,
   "metadata": {
    "collapsed": false,
    "jupyter": {
     "outputs_hidden": false
    }
   },
   "outputs": [],
   "source": [
    "f(w1, w2, xx[0,0], xx[1,0])"
   ]
  },
  {
   "cell_type": "markdown",
   "metadata": {},
   "source": [
    "<p>Оценка время выполнения алгоритмов градиентного спуска</p>"
   ]
  },
  {
   "cell_type": "code",
   "execution_count": null,
   "metadata": {
    "collapsed": true,
    "jupyter": {
     "outputs_hidden": true
    }
   },
   "outputs": [],
   "source": [
    "def gradientDescent2D_Lite(w1, w2, alpha, f, dfx1, dfx2, iterNum, startX1, startX2):\n",
    "    \n",
    "    x1_min = startX1\n",
    "    x1_min_prev = startX1\n",
    "    \n",
    "    x2_min = startX2\n",
    "    x2_min_prev = startX2\n",
    "    \n",
    "    i = 0\n",
    "    stop = False\n",
    "    \n",
    "    while i < iterNum and not stop:\n",
    "        \n",
    "        x1_min = x1_min_prev - alpha * dfx1(w1, w2, x1_min_prev, x2_min_prev)\n",
    "        x2_min = x2_min_prev - alpha * dfx2(w1, w2, x1_min_prev, x2_min_prev)\n",
    "        \n",
    "        #if abs(f(w1, w2, x1_min, x2_min) - f(w1, w2, x1_min_prev, x2_min_prev)) <= err:\n",
    "        #    stop = True\n",
    "\n",
    "        #plotCurrentPoint(x1_min, x1_min_prev, x2_min, x2_min_prev)\n",
    "        #plt.plot(x_min, y_min, 'o', color = \"blue\")\n",
    "        \n",
    "        x1_min_prev = x1_min\n",
    "        x2_min_prev = x2_min\n",
    "\n",
    "        i += 1\n",
    "        \n",
    "    return (x1_min, x2_min, i)"
   ]
  },
  {
   "cell_type": "code",
   "execution_count": null,
   "metadata": {
    "collapsed": true,
    "jupyter": {
     "outputs_hidden": true
    }
   },
   "outputs": [],
   "source": [
    "alpha = 0.0005\n",
    "iterNum = 200\n",
    "startX1 = 4\n",
    "startX2 = -2"
   ]
  },
  {
   "cell_type": "code",
   "execution_count": null,
   "metadata": {
    "collapsed": false,
    "jupyter": {
     "outputs_hidden": false
    }
   },
   "outputs": [],
   "source": [
    "%timeit gradientDescent2D_Lite(w1, w2, alpha, f, df_x1, df_x2, iterNum, startX1, startX2)"
   ]
  },
  {
   "cell_type": "code",
   "execution_count": null,
   "metadata": {
    "collapsed": true,
    "jupyter": {
     "outputs_hidden": true
    }
   },
   "outputs": [],
   "source": [
    "def stochasticGradientDescent2D_Lite(w1, w2, alpha, f, dfx1i, dfx2i, startX1, startX2):\n",
    "    \n",
    "    n = len(y)\n",
    "    \n",
    "    x1_min = startX1\n",
    "    x1_min_prev = startX1\n",
    "    \n",
    "    x2_min = startX2\n",
    "    x2_min_prev = startX2\n",
    "    \n",
    "    j = 0\n",
    "    \n",
    "    for i in range(n):\n",
    "        \n",
    "        x1_min = x1_min_prev - alpha * dfx1i(w1, w2, x1_min_prev, x2_min_prev, i)\n",
    "        x2_min = x2_min_prev - alpha * dfx2i(w1, w2, x1_min_prev, x2_min_prev, i)\n",
    "        \n",
    "        #if abs(f(w1, w2, x1_min, x2_min) - f(w1, w2, x1_min_prev, x2_min_prev)) <= err:\n",
    "        #    break\n",
    "\n",
    "        #plotCurrentPoint(x1_min, x1_min_prev, x2_min, x2_min_prev)\n",
    "        \n",
    "        x1_min_prev = x1_min\n",
    "        x2_min_prev = x2_min\n",
    "\n",
    "        j += 1\n",
    "                     \n",
    "    return (x1_min, x2_min, j)"
   ]
  },
  {
   "cell_type": "code",
   "execution_count": null,
   "metadata": {
    "collapsed": true,
    "jupyter": {
     "outputs_hidden": true
    }
   },
   "outputs": [],
   "source": [
    "alpha = 0.5\n",
    "startX1 = 4\n",
    "startX2 = -2"
   ]
  },
  {
   "cell_type": "code",
   "execution_count": null,
   "metadata": {
    "collapsed": false,
    "jupyter": {
     "outputs_hidden": false
    }
   },
   "outputs": [],
   "source": [
    "%timeit stochasticGradientDescent2D_Lite(w1, w2, alpha, f, df_x1_i, df_x2_i, startX1, startX2)"
   ]
  },
  {
   "cell_type": "code",
   "execution_count": null,
   "metadata": {
    "collapsed": true,
    "jupyter": {
     "outputs_hidden": true
    }
   },
   "outputs": [],
   "source": []
  }
 ],
 "metadata": {
  "kernelspec": {
   "display_name": "Python 3 (ipykernel)",
   "language": "python",
   "name": "python3"
  },
  "language_info": {
   "codemirror_mode": {
    "name": "ipython",
    "version": 3
   },
   "file_extension": ".py",
   "mimetype": "text/x-python",
   "name": "python",
   "nbconvert_exporter": "python",
   "pygments_lexer": "ipython3",
   "version": "3.9.21"
  }
 },
 "nbformat": 4,
 "nbformat_minor": 4
}
