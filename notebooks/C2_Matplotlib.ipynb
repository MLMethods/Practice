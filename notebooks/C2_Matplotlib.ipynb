{
 "cells": [
  {
   "cell_type": "markdown",
   "metadata": {},
   "source": [
    "<div style=\"font-size:18pt; padding-top:20px; text-align:center\">СЕМИНАР. <b>Введение в </b> <span style=\"font-weight:bold; color:green\">Matplotlib</span></div><hr>\n",
    "<div style=\"text-align:right;\">Папулин С.Ю. <span style=\"font-style: italic;font-weight: bold;\">(papulin.study@yandex.ru)</span></div>"
   ]
  },
  {
   "cell_type": "markdown",
   "metadata": {},
   "source": [
    "### Содержание\n",
    "- [Разметка вывода графиков](#Разметка-вывода-графиков)\n",
    "- [Графики и диаграммы](#Графики-и-диаграммы)\n",
    "    - [Plot](#Plot)\n",
    "    - [Scatter](#Scatter)\n",
    "    - [Bar](#Bar)\n",
    "    - [Histogram](#Histogram)\n",
    "    - [Surface](#Surface)\n",
    "    - [Contour](#Plot)\n",
    "- [Доступ к области рисование](#Доступ-к-области-рисование)\n",
    "- [Сохранение в виде рисунка](#Сохранение-в-виде-рисунка)"
   ]
  },
  {
   "cell_type": "code",
   "execution_count": null,
   "metadata": {},
   "outputs": [],
   "source": [
    "import numpy as np\n",
    "import matplotlib.pyplot as plt\n",
    "from matplotlib import gridspec\n",
    "%matplotlib inline"
   ]
  },
  {
   "cell_type": "markdown",
   "metadata": {},
   "source": [
    "Вывод графика в отдельном окне:"
   ]
  },
  {
   "cell_type": "code",
   "execution_count": null,
   "metadata": {},
   "outputs": [],
   "source": [
    "# %matplotlib qt"
   ]
  },
  {
   "cell_type": "markdown",
   "metadata": {},
   "source": [
    "Если необходимо, установите PySide2:"
   ]
  },
  {
   "cell_type": "code",
   "execution_count": null,
   "metadata": {},
   "outputs": [],
   "source": [
    "# !pip install PySide2"
   ]
  },
  {
   "cell_type": "markdown",
   "metadata": {},
   "source": [
    "<a href=\"http://matplotlib.org/genindex.html\">Документация на Matplotlib</a>"
   ]
  },
  {
   "cell_type": "markdown",
   "metadata": {},
   "source": [
    "## Разметка вывода графиков"
   ]
  },
  {
   "cell_type": "code",
   "execution_count": null,
   "metadata": {},
   "outputs": [],
   "source": [
    "# Формирование двух областей: 1x2\n",
    "plt.figure(\"1\", figsize=[6, 2])\n",
    "\n",
    "plt.subplot(1, 2, 1)\n",
    "plt.title(\"subplot 1 2 1\")\n",
    "\n",
    "plt.subplot(1, 2, 2)\n",
    "plt.title(\"subplot 1 2 2\")\n",
    "\n",
    "plt.show()"
   ]
  },
  {
   "cell_type": "code",
   "execution_count": null,
   "metadata": {},
   "outputs": [],
   "source": [
    "# Формирование четырех областей: 2x2\n",
    "plt.figure(\"2\",figsize=[6, 4])\n",
    "\n",
    "plt.subplot(2, 2, 1)\n",
    "plt.title(\"subplot 2 2 1\")\n",
    "\n",
    "plt.subplot(2, 2, 2)\n",
    "plt.title(\"subplot 2 2 2\")\n",
    "\n",
    "plt.subplot(2, 2, 3)\n",
    "plt.title(\"subplot 2 2 3\")\n",
    "\n",
    "plt.subplot(2, 2, 4)\n",
    "plt.title(\"subplot 2 2 4\")\n",
    "\n",
    "plt.show()"
   ]
  },
  {
   "cell_type": "code",
   "execution_count": null,
   "metadata": {},
   "outputs": [],
   "source": [
    "# Корректировка расположения\n",
    "plt.figure(\"2\",figsize=[6, 4])\n",
    "\n",
    "plt.subplot(2,2,1)\n",
    "plt.title(\"subplot 2 2 1\")\n",
    "\n",
    "plt.subplot(2,2,2)\n",
    "plt.title(\"subplot 2 2 2\")\n",
    "\n",
    "plt.subplot(2,2,3)\n",
    "plt.title(\"subplot 2 2 3\")\n",
    "\n",
    "plt.subplot(2,2,4)\n",
    "plt.title(\"subplot 2 2 4\")\n",
    "\n",
    "plt.tight_layout()\n",
    "\n",
    "plt.show()"
   ]
  },
  {
   "cell_type": "code",
   "execution_count": null,
   "metadata": {},
   "outputs": [],
   "source": [
    "# Использование GridSpec\n",
    "gs = gridspec.GridSpec(nrows=2, ncols=2, width_ratios=[2, 1], height_ratios=[2, 1])\n",
    "print(repr(gs))\n",
    "\n",
    "plt.figure(\"3\",figsize=[6, 4])\n",
    "\n",
    "plt.subplot(gs[0])\n",
    "plt.subplot(gs[1])\n",
    "plt.subplot(gs[2])\n",
    "# plt.subplot(gs[3])\n",
    "\n",
    "plt.show()"
   ]
  },
  {
   "cell_type": "markdown",
   "metadata": {},
   "source": [
    "## Графики и диаграммы"
   ]
  },
  {
   "cell_type": "markdown",
   "metadata": {},
   "source": [
    "### Plot"
   ]
  },
  {
   "cell_type": "markdown",
   "metadata": {},
   "source": [
    "<p>Простой вывод</p>"
   ]
  },
  {
   "cell_type": "code",
   "execution_count": null,
   "metadata": {},
   "outputs": [],
   "source": [
    "x = np.arange(start=-2, stop=5, step=1)\n",
    "x"
   ]
  },
  {
   "cell_type": "code",
   "execution_count": null,
   "metadata": {},
   "outputs": [],
   "source": [
    "f = lambda x: x**2"
   ]
  },
  {
   "cell_type": "code",
   "execution_count": null,
   "metadata": {},
   "outputs": [],
   "source": [
    "plt.figure(\"4\")\n",
    "plt.plot(x, f(x))\n",
    "plt.show()"
   ]
  },
  {
   "cell_type": "markdown",
   "metadata": {},
   "source": [
    "<p>Способы вывода данных</p>"
   ]
  },
  {
   "cell_type": "code",
   "execution_count": null,
   "metadata": {},
   "outputs": [],
   "source": [
    "plt.figure(\"5\",figsize=[8, 8])\n",
    "\n",
    "plt.subplot(3,2,1)\n",
    "plt.title(\"subplot 2 2 1\")\n",
    "plt.plot(x, f(x))\n",
    "\n",
    "plt.subplot(3,2,2)\n",
    "plt.title(\"subplot 2 2 2\")\n",
    "plt.plot(x, f(x), \"-\")\n",
    "\n",
    "plt.subplot(3,2,3)\n",
    "plt.title(\"subplot 2 2 3\")\n",
    "plt.plot(x, f(x), \"--\")\n",
    "\n",
    "plt.subplot(3,2,4)\n",
    "plt.title(\"subplot 2 2 4\")\n",
    "plt.plot(x, f(x), \"o\")\n",
    "plt.grid(True, axis=\"x\")\n",
    "\n",
    "plt.subplot(3,2,5)\n",
    "plt.title(\"subplot 2 2 5\")\n",
    "plt.plot(x, f(x), \"o-\")\n",
    "plt.grid(True, axis=\"y\")\n",
    "\n",
    "plt.subplot(3,2,6)\n",
    "plt.title(\"subplot 2 2 6\")\n",
    "plt.plot(x, f(x), \"o-\")\n",
    "plt.grid(True, axis=\"both\", color=\"orange\", linestyle=\"--\");\n",
    "\n",
    "plt.tight_layout()\n",
    "\n",
    "plt.show()"
   ]
  },
  {
   "cell_type": "markdown",
   "metadata": {},
   "source": [
    "<p>Оформление вывода данных</p>"
   ]
  },
  {
   "cell_type": "code",
   "execution_count": null,
   "metadata": {},
   "outputs": [],
   "source": [
    "plt.figure(\"6\",figsize=[12, 8])\n",
    "\n",
    "plt.subplot(2,2,1)\n",
    "plt.title(\"subplot 2 2 1\")\n",
    "plt.plot(x, f(x), \"-ro\")\n",
    "plt.grid(True)\n",
    "\n",
    "plt.subplot(2,2,2)\n",
    "plt.title(\"subplot 2 2 2\")\n",
    "plt.plot(x, f(x), color=\"black\", linewidth=2, linestyle=\"solid\", \n",
    "         marker=\"*\", markerfacecolor=\"orange\", markersize=12)\n",
    "plt.grid(True)\n",
    "\n",
    "plt.subplot(2,2,3)\n",
    "plt.title(\"subplot 2 2 3\")\n",
    "plt.plot(x, f(x), color=\"black\", linewidth=4, linestyle=\"dashed\", \n",
    "         marker=\"s\", markerfacecolor=\"orange\", markersize=12)\n",
    "plt.grid(True)\n",
    "\n",
    "plt.subplot(2,2,4)\n",
    "plt.title(\"subplot 2 2 4\")\n",
    "plt.plot(x, f(x), color=\"black\", linewidth=2, linestyle=\"-.\", \n",
    "         marker=\"<\", markerfacecolor=\"green\", markersize=12)\n",
    "plt.grid(True)\n",
    "\n",
    "plt.tight_layout()\n",
    "\n",
    "plt.show()"
   ]
  },
  {
   "cell_type": "markdown",
   "metadata": {},
   "source": [
    "<p>Отображение нескольких графиков на одном поле</p>"
   ]
  },
  {
   "cell_type": "code",
   "execution_count": null,
   "metadata": {},
   "outputs": [],
   "source": [
    "f1 = lambda x: x**2\n",
    "f2 = lambda x: x**3"
   ]
  },
  {
   "cell_type": "markdown",
   "metadata": {
    "collapsed": true
   },
   "source": [
    "http://matplotlib.org/api/font_manager_api.html#matplotlib.font_manager.FontProperties"
   ]
  },
  {
   "cell_type": "code",
   "execution_count": null,
   "metadata": {},
   "outputs": [],
   "source": [
    "plt.figure(\"7\")\n",
    "\n",
    "plt.title(\"subplot 1 1 1\")\n",
    "plt.plot(x, f1(x), \"-ro\", label=\"$f_1(x)=x^2$\", zorder=2)\n",
    "plt.plot(x, f2(x), \"-go\", label=\"$f_2(x)=x^3$\", zorder=1)\n",
    "plt.grid(True)\n",
    "plt.axis([-1, 4, 0, 10])\n",
    "plt.legend(loc=2, title=\"Title\", fontsize=12)\n",
    "plt.xlabel(\"$x$\", fontsize=12)\n",
    "plt.ylabel(\"$y$\", fontsize=12)\n",
    "\n",
    "plt.show()"
   ]
  },
  {
   "cell_type": "code",
   "execution_count": null,
   "metadata": {},
   "outputs": [],
   "source": [
    "plt.figure(\"8\",figsize=[12, 8])\n",
    "\n",
    "plt.subplot(2,2,1)\n",
    "plt.title(\"subplot 2 2 1\")\n",
    "plt.plot(x, f1(x), \"-ro\", label=\"f1(x)=x^2\")\n",
    "plt.plot(x, f2(x), \"-go\", label=\"$f_2(x)=x^3$\")\n",
    "plt.xlabel(\"x\", fontsize=12)\n",
    "plt.ylabel(\"f(x)\", fontsize=12)\n",
    "plt.grid(True)\n",
    "plt.axis([-1, 4, 0, 10])\n",
    "plt.legend(loc=2, prop={\"size\":14, \"weight\":\"bold\"}, title=\"Title\")\n",
    "\n",
    "plt.subplot(2,2,2)\n",
    "plt.title(\"subplot 2 2 2\")\n",
    "plt.plot(x, f1(x), \"-ro\", label=\"f1(x)=x^2\")\n",
    "plt.plot(x, f2(x), \"-go\", label=\"$f_2(x)=x^3$\")\n",
    "plt.xlabel(\"x\", fontsize=12)\n",
    "plt.ylabel(\"f(x)\", fontsize=12)\n",
    "plt.grid(True)\n",
    "plt.axis([-1, 4, 0, 10])\n",
    "plt.legend(loc=7, title=\"Title\", fontsize=15)\n",
    "\n",
    "plt.subplot(2,2,3)\n",
    "plt.title(\"subplot 2 2 3\")\n",
    "plt.plot(x, f1(x), \"-ro\", label=\"f1(x)=x^2\")\n",
    "plt.plot(x, f2(x), \"-go\", label=\"$f_2(x)=x^3$\")\n",
    "plt.xlabel(\"x\", fontsize=12)\n",
    "plt.ylabel(\"f(x)\", fontsize=12)\n",
    "plt.grid(True)\n",
    "plt.axis([-1, 4, 0, 10])\n",
    "plt.legend(loc=2, title=\"Title\", fontsize=15, shadow=True)\n",
    "\n",
    "plt.subplot(2,2,4)\n",
    "plt.title(\"subplot 2 2 4\")\n",
    "plt.plot(x, f1(x), \"-ro\", label=\"$f_1(x)=x^2$\")\n",
    "plt.plot(x, f2(x), \"-go\", label=\"$f_2(x)=x^3$\")\n",
    "plt.xlabel(\"x\", fontsize=12)\n",
    "plt.ylabel(\"f(x)\", fontsize=12)\n",
    "plt.grid(True)\n",
    "plt.axis([-1, 4, 0, 10])\n",
    "plt.legend(loc=2, title=\"Title\", fontsize=12)\n",
    "\n",
    "plt.tight_layout()\n",
    "\n",
    "plt.show()"
   ]
  },
  {
   "cell_type": "markdown",
   "metadata": {
    "collapsed": true
   },
   "source": [
    "http://matplotlib.org/mpl_toolkits/mplot3d/tutorial.html#mpl_toolkits.mplot3d.Axes3D.plot_surface"
   ]
  },
  {
   "cell_type": "markdown",
   "metadata": {},
   "source": [
    "<p>Отображение горизонтальных и вертикальных линий</p>"
   ]
  },
  {
   "cell_type": "code",
   "execution_count": null,
   "metadata": {},
   "outputs": [],
   "source": [
    "plt.figure(\"9\",figsize=[12, 4])\n",
    "\n",
    "plt.subplot(1,3,1)\n",
    "plt.title(\"subplot 1 3 1\")\n",
    "plt.vlines(x, ymin=2, ymax=8, colors=\"black\", linestyles=\"dotted\")\n",
    "\n",
    "plt.subplot(1,3,2)\n",
    "plt.title(\"subplot 1 3 2\")\n",
    "plt.hlines(f(x), xmin=2, xmax=8, colors=\"black\", linestyles=\"dotted\")\n",
    "\n",
    "plt.subplot(1,3,3)\n",
    "plt.title(\"subplot 1 3 3\")\n",
    "plt.vlines(x, ymin=2, ymax=8, colors=\"green\", linestyles=\"solid\", linewidth=1)\n",
    "plt.hlines(f(x), xmin=2, xmax=8, colors=\"orange\", linestyles=\"solid\", linewidth=1)\n",
    "\n",
    "plt.show()"
   ]
  },
  {
   "cell_type": "markdown",
   "metadata": {},
   "source": [
    "## Scatter"
   ]
  },
  {
   "cell_type": "code",
   "execution_count": null,
   "metadata": {},
   "outputs": [],
   "source": [
    "from scipy import stats"
   ]
  },
  {
   "cell_type": "code",
   "execution_count": null,
   "metadata": {},
   "outputs": [],
   "source": [
    "x = stats.uniform.rvs(loc=-1, scale=5, size=11)\n",
    "y = stats.uniform.rvs(loc=-1, scale=5, size=11)\n",
    "x, y"
   ]
  },
  {
   "cell_type": "code",
   "execution_count": null,
   "metadata": {},
   "outputs": [],
   "source": [
    "plt.figure(\"7\")\n",
    "\n",
    "plt.subplot(1,1,1)\n",
    "plt.title(\"subplot 1 1 1\")\n",
    "# диаграмма разброса\n",
    "plt.scatter(x, y)\n",
    "plt.grid(True)\n",
    "plt.xlabel(\"x\")\n",
    "plt.ylabel(\"y\")\n",
    "plt.show()"
   ]
  },
  {
   "cell_type": "markdown",
   "metadata": {},
   "source": [
    "<p>Оформление</p>"
   ]
  },
  {
   "cell_type": "code",
   "execution_count": null,
   "metadata": {},
   "outputs": [],
   "source": [
    "x1 = stats.uniform.rvs(loc=-1, scale=5, size=11)\n",
    "y1 = stats.uniform.rvs(loc=-1, scale=5, size=11)\n",
    "x1, y1"
   ]
  },
  {
   "cell_type": "code",
   "execution_count": null,
   "metadata": {},
   "outputs": [],
   "source": [
    "x2 = stats.uniform.rvs(loc=-1, scale=5, size=11)\n",
    "f2 = lambda x: x**2\n",
    "x2, f2(x2)"
   ]
  },
  {
   "cell_type": "code",
   "execution_count": null,
   "metadata": {},
   "outputs": [],
   "source": [
    "plt.figure(\"10\", figsize=[12, 4])\n",
    "\n",
    "plt.subplot(1,2,1)\n",
    "plt.title(\"subplot 1 2 1\")\n",
    "plt.scatter(x1, y1, marker=\"o\", s=100, label=\"Random Points 1\", color=\"green\")\n",
    "plt.scatter(x2, f2(x2), marker=\"o\", s=100, label=\"$f_2(x)=x^2$\", color=\"orange\")\n",
    "plt.xlabel(\"x\")\n",
    "plt.ylabel(\"y\")\n",
    "plt.grid(True)\n",
    "plt.legend()\n",
    "\n",
    "plt.subplot(1,2,2)\n",
    "plt.title(\"subplot 1 2 2\")\n",
    "plt.scatter(x, y, marker=\"*\", s=400, label=\"Random Points 1\", color=\"darkblue\")\n",
    "plt.xlabel(\"x\")\n",
    "plt.ylabel(\"y\")\n",
    "plt.grid(True)\n",
    "plt.legend()\n",
    "\n",
    "plt.show()"
   ]
  },
  {
   "cell_type": "markdown",
   "metadata": {},
   "source": [
    "<p>Выделение точек цветом</p>"
   ]
  },
  {
   "cell_type": "code",
   "execution_count": null,
   "metadata": {},
   "outputs": [],
   "source": [
    "from matplotlib import cm\n",
    "from matplotlib.colors import ListedColormap"
   ]
  },
  {
   "cell_type": "code",
   "execution_count": null,
   "metadata": {},
   "outputs": [],
   "source": [
    "clrMap = ListedColormap([\"red\", \"green\", \"blue\"])"
   ]
  },
  {
   "cell_type": "code",
   "execution_count": null,
   "metadata": {},
   "outputs": [],
   "source": [
    "z = np.random.randint(low=0, high=3, size=11)\n",
    "z"
   ]
  },
  {
   "cell_type": "code",
   "execution_count": null,
   "metadata": {},
   "outputs": [],
   "source": [
    "plt.figure(\"11\", figsize=[12, 4])\n",
    "\n",
    "plt.subplot(1,3,1)\n",
    "plt.title(\"subplot 1 2 1\")\n",
    "plt.scatter(x, y, c=z, marker=\"*\", s=200)\n",
    "plt.grid(True)\n",
    "\n",
    "plt.subplot(1,3,2)\n",
    "plt.title(\"subplot 1 2 2\")\n",
    "plt.scatter(x, y, c=z, marker=\"*\", cmap=cm.coolwarm, s=200)\n",
    "plt.grid(True)\n",
    "\n",
    "plt.subplot(1,3,3)\n",
    "plt.title(\"subplot 1 2 2\")\n",
    "plt.scatter(x, y, c=z, marker=\"*\", cmap=clrMap, s=200)\n",
    "plt.grid(True)\n",
    "\n",
    "plt.show()"
   ]
  },
  {
   "cell_type": "markdown",
   "metadata": {},
   "source": [
    "### Bar"
   ]
  },
  {
   "cell_type": "code",
   "execution_count": null,
   "metadata": {},
   "outputs": [],
   "source": [
    "names = (\"A\", \"B\", \"C\", \"D\")\n",
    "offset = np.array([1, 5, 3, 4])\n",
    "height = np.array([2, 3, 4, 5])"
   ]
  },
  {
   "cell_type": "code",
   "execution_count": null,
   "metadata": {},
   "outputs": [],
   "source": [
    "plt.figure(\"12\", figsize=[6,4])\n",
    "\n",
    "ax = plt.subplot(1,1,1)\n",
    "plt.title(\"Bar plot\")\n",
    "plt.bar(offset, height, width=0.5)\n",
    "# ax.set_xticks(offset)\n",
    "# ax.set_xticklabels(names, rotation=\"horizontal\")\n",
    "\n",
    "plt.grid(True)\n",
    "plt.show()"
   ]
  },
  {
   "cell_type": "markdown",
   "metadata": {},
   "source": [
    "### Histogram"
   ]
  },
  {
   "cell_type": "code",
   "execution_count": null,
   "metadata": {},
   "outputs": [],
   "source": [
    "x = stats.norm.rvs(size=1000)\n",
    "x[:5]"
   ]
  },
  {
   "cell_type": "code",
   "execution_count": null,
   "metadata": {},
   "outputs": [],
   "source": [
    "plt.figure(\"13\", figsize=[6,4])\n",
    "\n",
    "ax = plt.subplot(1,1,1)\n",
    "plt.title(\"Histogram\")\n",
    "plt.hist(x, bins=10, density=False, facecolor=\"orange\")\n",
    "plt.grid(True)"
   ]
  },
  {
   "cell_type": "markdown",
   "metadata": {},
   "source": [
    "### Surface"
   ]
  },
  {
   "cell_type": "code",
   "execution_count": null,
   "metadata": {},
   "outputs": [],
   "source": [
    "from mpl_toolkits.mplot3d import Axes3D\n",
    "from matplotlib import cm"
   ]
  },
  {
   "cell_type": "markdown",
   "metadata": {},
   "source": [
    "Формирование поверхности с использованием meshgrid"
   ]
  },
  {
   "cell_type": "code",
   "execution_count": null,
   "metadata": {},
   "outputs": [],
   "source": [
    "# координаты по X и Y\n",
    "x = [1,2,3]\n",
    "y = [4,5,6]"
   ]
  },
  {
   "cell_type": "code",
   "execution_count": null,
   "metadata": {},
   "outputs": [],
   "source": [
    "# формирование сетки\n",
    "X, Y = np.meshgrid(x, y)\n",
    "X"
   ]
  },
  {
   "cell_type": "code",
   "execution_count": null,
   "metadata": {},
   "outputs": [],
   "source": [
    "Y"
   ]
  },
  {
   "cell_type": "code",
   "execution_count": null,
   "metadata": {},
   "outputs": [],
   "source": [
    "# получение всех значений функции f(x,y) = x + y \n",
    "# с учетом введенных значений по координатам X и Y\n",
    "f = lambda x, y: x + y\n",
    "f(X,Y)"
   ]
  },
  {
   "cell_type": "code",
   "execution_count": null,
   "metadata": {},
   "outputs": [],
   "source": [
    "# для f(x,y) = x * y\n",
    "f = lambda x, y: x * y  # функция\n",
    "f(X,Y)"
   ]
  },
  {
   "cell_type": "markdown",
   "metadata": {},
   "source": [
    "Построение поверхности"
   ]
  },
  {
   "cell_type": "code",
   "execution_count": null,
   "metadata": {},
   "outputs": [],
   "source": [
    "# Формирование сетки\n",
    "x = np.arange(-20, 20, 0.1)\n",
    "y = np.arange(-20, 20, 0.1)\n",
    "X, Y = np.meshgrid(x, y)\n",
    "\n",
    "# Функция\n",
    "f = lambda x, y: 2*x**2 + y**2 + x*y"
   ]
  },
  {
   "cell_type": "code",
   "execution_count": null,
   "metadata": {},
   "outputs": [],
   "source": [
    "# Отображение поверхности\n",
    "fig = plt.figure(\"14\", figsize=[6,4])\n",
    "\n",
    "ax = fig.add_subplot(1, 1, 1, projection=\"3d\")\n",
    "ax.plot_surface(X, Y, f(X,Y), \n",
    "                rstride=10, cstride=10, cmap=cm.coolwarm,\n",
    "                linewidth=1, antialiased=True)\n",
    "ax.set_xlabel(\"$x$\")\n",
    "ax.set_ylabel(\"$y$\")\n",
    "ax.set_zlabel(\"$f(x,y)$\")\n",
    "ax.set_title(\"subplot 1 1 1\")\n",
    "\n",
    "plt.tight_layout()\n",
    "\n",
    "plt.show()"
   ]
  },
  {
   "cell_type": "code",
   "execution_count": null,
   "metadata": {},
   "outputs": [],
   "source": [
    "# Отображение поверхности с разных углов\n",
    "\n",
    "def plot_view(X, Y, Z, ax, view):\n",
    "    ax.set_title(\"View: {}\".format(view))\n",
    "    ax.plot_surface(X, Y, Z, \n",
    "                    rstride=10, cstride=10, cmap=cm.coolwarm,\n",
    "                    linewidth=1, antialiased=True)\n",
    "    ax.set_xlabel(\"x\")\n",
    "    ax.set_ylabel(\"y\")\n",
    "    ax.set_zlabel(\"f(x,y)\")\n",
    "    ax.view_init(*view)\n",
    "    return ax\n",
    "\n",
    "fig = plt.figure(\"15\", figsize=[10, 8])\n",
    "\n",
    "views = [(30, -30), (30, 30), (30, 60), (0, 30)]\n",
    "\n",
    "for indx, view in enumerate(views):\n",
    "    ax = fig.add_subplot(2, 2, indx+1, projection=\"3d\")\n",
    "    ax = plot_view(X, Y, f(X,Y), ax=ax, view=view)\n",
    "\n",
    "fig.tight_layout()\n",
    "\n",
    "plt.show()"
   ]
  },
  {
   "cell_type": "markdown",
   "metadata": {},
   "source": [
    "### Contour"
   ]
  },
  {
   "cell_type": "code",
   "execution_count": null,
   "metadata": {},
   "outputs": [],
   "source": [
    "plt.figure(\"16\",figsize=[12, 8])\n",
    "\n",
    "plt.subplot(2,2,1)\n",
    "plt.title(\"subplot 2 2 1\")\n",
    "# контурный график\n",
    "plt.contour(X, Y, f(X,Y), levels=0, cmap=cm.bwr, alpha=0.5)\n",
    "plt.grid(True)\n",
    "\n",
    "plt.subplot(2,2,2)\n",
    "plt.title(\"subplot 2 2 2\")\n",
    "plt.contourf(X, Y, f(X,Y), 20, cmap=cm.bwr, alpha=0.5)\n",
    "plt.grid(True)\n",
    "\n",
    "plt.subplot(2,2,3)\n",
    "plt.title(\"subplot 2 2 3\")\n",
    "plt.contour(X, Y, f(X,Y), 20, cmap=cm.bwr, alpha=0.5)\n",
    "plt.colorbar()\n",
    "plt.grid(True)\n",
    "\n",
    "plt.subplot(2,2,4)\n",
    "plt.title(\"subplot 2 2 4\")\n",
    "plt.contourf(X, Y, f(X,Y), 20, cmap=cm.bwr, alpha=0.5)\n",
    "plt.colorbar()\n",
    "plt.grid(True)\n",
    "\n",
    "plt.tight_layout()\n",
    "\n",
    "plt.show()"
   ]
  },
  {
   "cell_type": "code",
   "execution_count": null,
   "metadata": {},
   "outputs": [],
   "source": [
    "plt.figure(\"17\",figsize=[12, 8])\n",
    "\n",
    "plt.subplot(2,2,1)\n",
    "plt.title(\"subplot 2 2 1\")\n",
    "plt.contourf(X, Y, f(X,Y), 20, cmap=cm.Oranges, alpha=0.5)\n",
    "plt.colorbar()\n",
    "plt.grid(True)\n",
    "\n",
    "plt.subplot(2,2,2)\n",
    "plt.title(\"subplot 2 2 2\")\n",
    "plt.contourf(X, Y, f(X,Y), 20, cmap=cm.winter, alpha=0.5)\n",
    "plt.colorbar()\n",
    "plt.grid(True)\n",
    "\n",
    "plt.subplot(2,2,3)\n",
    "plt.title(\"subplot 2 2 3\")\n",
    "plt.contourf(X, Y, f(X,Y), 20, cmap=cm.plasma_r, alpha=0.5)\n",
    "plt.colorbar()\n",
    "plt.grid(True)\n",
    "\n",
    "plt.subplot(2,2,4)\n",
    "plt.title(\"subplot 2 2 4\")\n",
    "plt.contourf(X, Y, f(X,Y), 20, cmap=cm.jet, alpha=0.5)\n",
    "plt.colorbar()\n",
    "plt.grid(True)\n",
    "\n",
    "plt.tight_layout()\n",
    "\n",
    "plt.show()"
   ]
  },
  {
   "cell_type": "markdown",
   "metadata": {},
   "source": [
    "## Доступ к области рисование"
   ]
  },
  {
   "cell_type": "markdown",
   "metadata": {},
   "source": [
    "Пример с `numpy`"
   ]
  },
  {
   "cell_type": "code",
   "execution_count": null,
   "metadata": {},
   "outputs": [],
   "source": [
    "def plot_function(x, y, ax):\n",
    "    ax.set_title(\"Plot 2\")\n",
    "    ax.plot(x, y, \"-ro\", label=\"$f(x)=-x^2$\")\n",
    "    ax.set_xlabel(\"$x$\")\n",
    "    ax.set_ylabel(\"$f(x)$\")\n",
    "    ax.legend()\n",
    "    return ax\n",
    "\n",
    "fig, axes = plt.subplots(1, 2, figsize=[8,4])\n",
    "\n",
    "x = np.arange(start=-2, stop=5, step=1)\n",
    "y = x**2\n",
    "\n",
    "# область 1\n",
    "axes[0].set_title(\"Plot 1\")\n",
    "axes[0].plot(x, y, \"-go\", label=\"$f(x)=x^2$\")\n",
    "axes[0].plot(x, -y, \"-bo\", label=\"$f(x)=-x^2$\")\n",
    "axes[0].set_xlabel(\"$x$\")\n",
    "axes[0].set_ylabel(\"$f(x)$\")\n",
    "axes[0].legend()\n",
    "axes[0].grid(True)\n",
    "\n",
    "# область 2\n",
    "axes[1] = plot_function(x, -y, ax=axes[1])\n",
    "axes[1].grid(True)\n",
    "\n",
    "fig.tight_layout()\n",
    "\n",
    "plt.show()"
   ]
  },
  {
   "cell_type": "markdown",
   "metadata": {},
   "source": [
    "Пример с `pandas`"
   ]
  },
  {
   "cell_type": "code",
   "execution_count": null,
   "metadata": {},
   "outputs": [],
   "source": [
    "import pandas as pd"
   ]
  },
  {
   "cell_type": "code",
   "execution_count": null,
   "metadata": {},
   "outputs": [],
   "source": [
    "data = np.random.randint(0,10, (5, 3))\n",
    "df = pd.DataFrame(data, columns=[\"A\", \"B\", \"C\"])\n",
    "df.head()"
   ]
  },
  {
   "cell_type": "code",
   "execution_count": null,
   "metadata": {},
   "outputs": [],
   "source": [
    "fig, ax = plt.subplots(1, 1, figsize=[4,4])\n",
    "ax.set_title(\"Product Sales\")\n",
    "ax = df[[\"A\", \"C\"]].plot(marker=\"o\", ax=ax)\n",
    "ax.grid(True)\n",
    "ax.set_xlabel(\"day\")\n",
    "ax.set_ylabel(\"sales\")\n",
    "plt.show()"
   ]
  },
  {
   "cell_type": "markdown",
   "metadata": {},
   "source": [
    "## Сохранение в виде рисунка"
   ]
  },
  {
   "cell_type": "code",
   "execution_count": null,
   "metadata": {},
   "outputs": [],
   "source": [
    "plt.figure(\"18\",figsize=[6, 4])\n",
    "\n",
    "plt.title(\"subplot 1 1 1\")\n",
    "plt.contourf(X, Y, f(X,Y), 20, cmap=cm.Oranges, alpha=0.5)\n",
    "plt.colorbar()\n",
    "plt.xlabel(\"x\")\n",
    "plt.ylabel(\"y\")\n",
    "plt.title(\"Title\")\n",
    "plt.grid(True)\n",
    "plt.savefig(\"plot.png\")"
   ]
  },
  {
   "cell_type": "code",
   "execution_count": null,
   "metadata": {},
   "outputs": [],
   "source": []
  }
 ],
 "metadata": {
  "kernelspec": {
   "display_name": "Python 3",
   "language": "python",
   "name": "python3"
  },
  "language_info": {
   "codemirror_mode": {
    "name": "ipython",
    "version": 3
   },
   "file_extension": ".py",
   "mimetype": "text/x-python",
   "name": "python",
   "nbconvert_exporter": "python",
   "pygments_lexer": "ipython3",
   "version": "3.7.3"
  }
 },
 "nbformat": 4,
 "nbformat_minor": 2
}