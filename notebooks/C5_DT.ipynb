{
 "cells": [
  {
   "cell_type": "markdown",
   "metadata": {},
   "source": [
    "# СЕМИНАР. Деревья решений и их ансамбли\n",
    "\n",
    "---\n",
    "\n",
    "Папулин С.Ю. (papulin.study@yandex.ru)"
   ]
  },
  {
   "cell_type": "markdown",
   "metadata": {},
   "source": [
    "### Содержание\n",
    "\n",
    "1. [Дерево решений](#1.-Дерево-решений)\n",
    "    1. [Регрессия](#1.1.-Регрессия)\n",
    "    2. [Классификация](#1.2.-Классификация)\n",
    "2. [Ансамбль деревьев](#2.-Ансамбль-деревьев)\n",
    "    1. [Регрессия](#2.1.-Регрессия)\n",
    "    2. [Классификация](#2.2.-Классификация)"
   ]
  },
  {
   "cell_type": "markdown",
   "metadata": {},
   "source": [
    "<p><b>Подключение библиотек</b></p>"
   ]
  },
  {
   "cell_type": "code",
   "execution_count": null,
   "metadata": {},
   "outputs": [],
   "source": [
    "import time\n",
    "import numpy as np\n",
    "\n",
    "import matplotlib.pyplot as plt\n",
    "%matplotlib inline"
   ]
  },
  {
   "cell_type": "code",
   "execution_count": null,
   "metadata": {},
   "outputs": [],
   "source": [
    "from scipy import stats"
   ]
  },
  {
   "cell_type": "code",
   "execution_count": null,
   "metadata": {},
   "outputs": [],
   "source": [
    "from sklearn.model_selection import train_test_split\n",
    "from sklearn.metrics import mean_squared_error, classification_report"
   ]
  },
  {
   "cell_type": "code",
   "execution_count": null,
   "metadata": {},
   "outputs": [],
   "source": [
    "from sklearn.datasets import make_classification\n",
    "from matplotlib import cm\n",
    "from matplotlib.colors import ListedColormap"
   ]
  },
  {
   "cell_type": "code",
   "execution_count": null,
   "metadata": {},
   "outputs": [],
   "source": [
    "from sklearn.tree import DecisionTreeClassifier, DecisionTreeRegressor\n",
    "\n",
    "from sklearn.ensemble import (\n",
    "    BaggingClassifier,\n",
    "    BaggingRegressor,\n",
    "    RandomForestClassifier,\n",
    "    RandomForestRegressor,\n",
    "    ExtraTreesClassifier,\n",
    "    ExtraTreesRegressor\n",
    ")"
   ]
  },
  {
   "cell_type": "markdown",
   "metadata": {},
   "source": [
    "⚠️ **Замечание.** Чтобы воспользоваться `plot_tree`, необходима версия `sklearn` 0.21+"
   ]
  },
  {
   "cell_type": "code",
   "execution_count": null,
   "metadata": {},
   "outputs": [],
   "source": [
    "from sklearn.tree import plot_tree"
   ]
  },
  {
   "cell_type": "code",
   "execution_count": null,
   "metadata": {},
   "outputs": [],
   "source": [
    "%load_ext autoreload\n",
    "%autoreload 2\n",
    "\n",
    "import sys\n",
    "sys.path.insert(0, \"../lib/\")\n",
    "from plot_utils import (\n",
    "    show_init_rplots, \n",
    "    show_rplots,\n",
    "    show_init_cplots, \n",
    "    show_prediction_cplots, \n",
    "    show_cplots)"
   ]
  },
  {
   "cell_type": "markdown",
   "metadata": {},
   "source": [
    "## 1. Дерево решений"
   ]
  },
  {
   "cell_type": "markdown",
   "metadata": {},
   "source": [
    "### 1.1. Регрессия"
   ]
  },
  {
   "cell_type": "markdown",
   "metadata": {},
   "source": [
    "#### Построение дерева решений для задачи регрессии вручную"
   ]
  },
  {
   "cell_type": "code",
   "execution_count": null,
   "metadata": {},
   "outputs": [],
   "source": [
    "# Исходные данные\n",
    "D = np.array([[2,1,1],\n",
    "              [2,3,2],\n",
    "              [5,3,2],\n",
    "              [5,6,4],\n",
    "              [6,5,4],\n",
    "              [7,5,5],\n",
    "              [8,7,6]])\n",
    "\n",
    "X = D[:,:2]\n",
    "y = D[:,2]\n",
    "\n",
    "# График исходных данных\n",
    "plt.figure(figsize=[6,6])\n",
    "plt.scatter(X[:,0], X[:,1])\n",
    "plt.title(\"Initial Data\")\n",
    "plt.xlabel(\"$X_1$\")\n",
    "plt.ylabel(\"$X_2$\")\n",
    "plt.grid(True)\n",
    "plt.tight_layout()\n",
    "plt.show()"
   ]
  },
  {
   "cell_type": "code",
   "execution_count": null,
   "metadata": {},
   "outputs": [],
   "source": []
  },
  {
   "cell_type": "code",
   "execution_count": null,
   "metadata": {},
   "outputs": [],
   "source": [
    "def split(x, y, threshold):\n",
    "    return y[x <= threshold], y[x > threshold]\n",
    "\n",
    "\n",
    "def rss(left, right):\n",
    "    return ((left - left.mean())**2).sum() + ((right - right.mean())**2).sum()\n",
    "\n",
    "\n",
    "def branch_mse(y):\n",
    "    return ((y - y.mean())**2).mean()\n",
    "\n",
    "\n",
    "def print_info(split_point, rss):\n",
    "    print(\"Split Point = {}\\nRSS = {}\".format(split_point, rss))\n",
    "\n",
    "    \n",
    "def calculate_splits(x, y):\n",
    "    min_split = None\n",
    "    min_rss = float(\"inf\")\n",
    "    x_set = np.sort(np.unique(x))\n",
    "    for i in range(1, len(x_set)):\n",
    "        split_point = x_set[i-1:i+1].mean()\n",
    "        split_rss = rss(*split(x, y, split_point))\n",
    "        print_info(split_point, split_rss)\n",
    "        if min_rss > split_rss:\n",
    "            min_rss = split_rss\n",
    "            min_split = split_point\n",
    "    return min_split, min_rss"
   ]
  },
  {
   "cell_type": "markdown",
   "metadata": {},
   "source": [
    "Найти точку разделения с минимальной `RSS` по координатам `X1` и `X2`"
   ]
  },
  {
   "cell_type": "code",
   "execution_count": null,
   "metadata": {},
   "outputs": [],
   "source": [
    "print(\"X1:\\n\")\n",
    "min_split_point, min_rss = calculate_splits(X[:,0], y)\n",
    "print(\"\\nBest Split:\\n\\tSplit Point = {}\\n\\tRSS = {}\\nNode MSE = {}\".format(\n",
    "    min_split_point, min_rss, branch_mse(y)))"
   ]
  },
  {
   "cell_type": "code",
   "execution_count": null,
   "metadata": {},
   "outputs": [],
   "source": [
    "print(\"X2:\\n\")\n",
    "min_split_point, min_rss = calculate_splits(X[:,1], y)\n",
    "print(\"\\nBest Split:\\n\\tSplit Point = {}\\n\\tRSS = {}\\nNode MSE = {}\".format(\n",
    "    min_split_point, min_rss, branch_mse(y)))"
   ]
  },
  {
   "cell_type": "markdown",
   "metadata": {},
   "source": [
    "Разделить исходные данные по `X2`"
   ]
  },
  {
   "cell_type": "code",
   "execution_count": null,
   "metadata": {},
   "outputs": [],
   "source": [
    "X2_split_point = 4.0\n",
    "\n",
    "# Индексы элементов\n",
    "left_index = X[:,1] <= X2_split_point\n",
    "left_index"
   ]
  },
  {
   "cell_type": "code",
   "execution_count": null,
   "metadata": {},
   "outputs": [],
   "source": [
    "X2_split_point = 4.0\n",
    "\n",
    "# Индексы элементов\n",
    "left_index = X[:,1] <= X2_split_point\n",
    "right_index = X[:,1] > X2_split_point\n",
    "\n",
    "# Элементы левой части\n",
    "X_left = X[left_index]\n",
    "y_left = y[left_index]\n",
    "\n",
    "# Элементы правой части\n",
    "X_right = X[right_index]\n",
    "y_right = y[right_index]\n",
    "\n",
    "len(y_left), len(y_right)"
   ]
  },
  {
   "cell_type": "markdown",
   "metadata": {},
   "source": [
    "В левой части только три элемента. Начальное условие не соблюдается, т.к. минимальное количество элементов в конечном узле должно быть не менее двух. Поэтому левую часть далее не делим."
   ]
  },
  {
   "cell_type": "code",
   "execution_count": null,
   "metadata": {},
   "outputs": [],
   "source": [
    "y_left_pred = y_left.mean()\n",
    "y_left_pred"
   ]
  },
  {
   "cell_type": "markdown",
   "metadata": {},
   "source": [
    "Найти точку разделения с минимальной `RSS` по координатам `X1` и `X2` для правой части"
   ]
  },
  {
   "cell_type": "code",
   "execution_count": null,
   "metadata": {},
   "outputs": [],
   "source": [
    "print(\"X1:\\n\")\n",
    "min_split_point, min_rss = calculate_splits(X_right[:,0], y_right)\n",
    "print(\"\\nBest Split:\\n\\tSplit Point = {}\\n\\tRSS = {}\\nNode MSE = {}\"\n",
    "      .format(min_split_point, min_rss, branch_mse(y_right)))"
   ]
  },
  {
   "cell_type": "code",
   "execution_count": null,
   "metadata": {},
   "outputs": [],
   "source": [
    "print(\"X2:\\n\")\n",
    "min_split_point, min_rss = calculate_splits(X_right[:,1], y_right)\n",
    "print(\"\\nBest Split:\\n\\tSplit Point = {}\\n\\tRSS = {}\\nNode MSE = {}\"\n",
    "      .format(min_split_point, min_rss, branch_mse(y_right)))"
   ]
  },
  {
   "cell_type": "markdown",
   "metadata": {},
   "source": [
    "Разделить правую часть данные по `X1`"
   ]
  },
  {
   "cell_type": "code",
   "execution_count": null,
   "metadata": {},
   "outputs": [],
   "source": [
    "X1_split_point = 6.5\n",
    "\n",
    "# Индексы элементов\n",
    "right_left_index = X_right[:,0] <= X1_split_point\n",
    "right_right_index = X_right[:,0] > X1_split_point\n",
    "\n",
    "# Элементы левой части\n",
    "X_right_left = X_right[right_left_index]\n",
    "y_right_left = y_right[right_left_index]\n",
    "\n",
    "# Элементы правой части\n",
    "X_right_right = X_right[right_right_index]\n",
    "y_right_right = y_right[right_right_index]\n",
    "\n",
    "len(y_right_left), len(y_right_right)"
   ]
  },
  {
   "cell_type": "code",
   "execution_count": null,
   "metadata": {},
   "outputs": [],
   "source": [
    "y_right_left_pred = y_right_left.mean()\n",
    "y_right_left_pred"
   ]
  },
  {
   "cell_type": "code",
   "execution_count": null,
   "metadata": {},
   "outputs": [],
   "source": [
    "y_right_right_pred = y_right_right.mean()\n",
    "y_right_right_pred"
   ]
  },
  {
   "cell_type": "markdown",
   "metadata": {},
   "source": [
    "#### Применение Sklearn"
   ]
  },
  {
   "cell_type": "code",
   "execution_count": null,
   "metadata": {},
   "outputs": [],
   "source": [
    "# Исходные данные\n",
    "D = np.array([[2,1,1],\n",
    "              [2,3,2],\n",
    "              [5,3,2],\n",
    "              [5,6,4],\n",
    "              [6,5,4],\n",
    "              [7,5,5],\n",
    "              [8,7,6]])\n",
    "\n",
    "X = D[:,:2]\n",
    "y = D[:,2]\n",
    "\n",
    "# График исходных данных\n",
    "plt.figure(figsize=[6,6])\n",
    "plt.scatter(X[:,0], X[:,1])\n",
    "plt.title(\"Initial Data\")\n",
    "plt.xlabel(\"$X_1$\")\n",
    "plt.ylabel(\"$X_2$\")\n",
    "plt.grid(True)\n",
    "plt.tight_layout()\n",
    "plt.show()"
   ]
  },
  {
   "cell_type": "code",
   "execution_count": null,
   "metadata": {},
   "outputs": [],
   "source": [
    "# Обучение\n",
    "tick = time.time()\n",
    "dtr_model = DecisionTreeRegressor(criterion=\"squared_error\", random_state=0, min_samples_leaf=2)\n",
    "dtr_model.fit(X, y)\n",
    "print(\"Time =\", time.time()-tick)\n",
    "\n",
    "# Отображение дерева решений\n",
    "plt.figure(1, figsize=[14, 3])\n",
    "plot_tree(dtr_model, filled=True, feature_names=[\"X1\", \"X2\"])\n",
    "plt.show()"
   ]
  },
  {
   "cell_type": "code",
   "execution_count": null,
   "metadata": {},
   "outputs": [],
   "source": [
    "# Важность признаков\n",
    "for indx, importance in enumerate(dtr_model.feature_importances_):\n",
    "    print(f'X{indx+1}: {importance}')"
   ]
  },
  {
   "cell_type": "markdown",
   "metadata": {},
   "source": [
    "#### Пример использования sklearn"
   ]
  },
  {
   "cell_type": "code",
   "execution_count": null,
   "metadata": {},
   "outputs": [],
   "source": [
    "# Исходные данные\n",
    "n = 100\n",
    "x = stats.uniform.rvs(size=n, loc=0, scale=5, random_state=0)\n",
    "y = stats.norm.rvs(size=n, loc=0, scale=0.2, random_state=0) + np.sin(x)\n",
    "\n",
    "show_init_rplots(x,y)\n",
    "\n",
    "# Формирование обучающего и тестового подмножеств\n",
    "x_train, x_test, y_train, y_test = train_test_split(x, y, test_size=0.3, random_state=0)\n",
    "X_train = x_train[:, np.newaxis]\n",
    "X_test = x_test[:, np.newaxis]\n",
    "\n",
    "# Обучение\n",
    "tick = time.time()\n",
    "dtr_model = DecisionTreeRegressor(criterion=\"squared_error\", max_depth=2, random_state=0)\n",
    "dtr_model.fit(X_train, y_train)\n",
    "print(\"Time =\", time.time()-tick)\n",
    "\n",
    "# Проверка на тестовом подмножестве\n",
    "score_dtr_model = dtr_model.score(X_test, y_test)\n",
    "mse_dtr_model = mean_squared_error(y_test, dtr_model.predict(X_test))\n",
    "\n",
    "print(\"R^2 =\", score_dtr_model)\n",
    "print(\"MSE =\", mse_dtr_model)\n",
    "\n",
    "# Графики\n",
    "show_rplots(dtr_model, X_train, y_train, X_test, y_test)"
   ]
  },
  {
   "cell_type": "markdown",
   "metadata": {},
   "source": [
    "Структура дерева"
   ]
  },
  {
   "cell_type": "code",
   "execution_count": null,
   "metadata": {},
   "outputs": [],
   "source": [
    "plt.figure(1, figsize=[14, 3])\n",
    "plot_tree(dtr_model, filled=True, feature_names=[\"X\"])\n",
    "plt.show()"
   ]
  },
  {
   "cell_type": "markdown",
   "metadata": {},
   "source": [
    "### 1.2. Классификация"
   ]
  },
  {
   "cell_type": "markdown",
   "metadata": {},
   "source": [
    "#### Построение дерева решений для задачи классификации вручную"
   ]
  },
  {
   "cell_type": "code",
   "execution_count": null,
   "metadata": {},
   "outputs": [],
   "source": [
    "# Исходные данные\n",
    "D = np.array([[2,1,0],\n",
    "              [2,3,0],\n",
    "              [3,6,0],\n",
    "              [5,3,0],\n",
    "              [5,6,1],\n",
    "              [6,5,1],\n",
    "              [7,3,0],\n",
    "              [7,5,1],\n",
    "              [8,7,1]])\n",
    "\n",
    "X = D[:,:2]\n",
    "y = D[:,2]\n",
    "\n",
    "# График исходных данных\n",
    "CLR_MAP = ListedColormap([\"blue\", \"red\"])\n",
    "show_init_cplots(X, y, cmap=CLR_MAP)"
   ]
  },
  {
   "cell_type": "code",
   "execution_count": null,
   "metadata": {},
   "outputs": [],
   "source": [
    "def split(x, y, threshold):\n",
    "    return y[x <= threshold], y[x > threshold]\n",
    "\n",
    "\n",
    "def entropy(node):\n",
    "    n = node.shape[0]\n",
    "    _, y_counts = np.unique(node, return_counts=True)\n",
    "    p = y_counts / n\n",
    "    return -(p*np.log2( p)).sum()\n",
    "\n",
    "\n",
    "def impurity_improvement(n, current_node, left, right):\n",
    "    \n",
    "    n_t = current_node.shape[0]\n",
    "    n_l = left.shape[0]\n",
    "    n_r = right.shape[0]\n",
    "    \n",
    "    e_t = entropy(current_node)\n",
    "    e_l = entropy(left)\n",
    "    e_r = entropy(right)\n",
    "    \n",
    "    return n_t/n * (e_t - n_r/n_t * e_r - n_l/n_t * e_l)\n",
    "\n",
    "\n",
    "def branch_entropy(y):\n",
    "    return entropy(y)\n",
    "\n",
    "\n",
    "def print_info(split_point, rss):\n",
    "    print(\"Split Point = {}\\nImpurity = {}\".format(split_point, rss))\n",
    "\n",
    "    \n",
    "def calculate_splits(x, y, n_total_samples):\n",
    "    max_split = None\n",
    "    max_ig = float(0)\n",
    "    x_set = np.sort(np.unique(x))\n",
    "    for i in range(1, len(x_set)):\n",
    "        split_point = x_set[i-1:i+1].mean()\n",
    "        split_ig = impurity_improvement(n_total_samples, y, *split(x, y, split_point))\n",
    "        print_info(split_point, split_ig)\n",
    "        if max_ig < split_ig:\n",
    "            max_ig = split_ig\n",
    "            max_split = split_point\n",
    "    return max_split, max_ig"
   ]
  },
  {
   "cell_type": "markdown",
   "metadata": {},
   "source": [
    "Найти точку разделения с максимальным приростом информации (`IG`) по координатам `X1` и `X2`"
   ]
  },
  {
   "cell_type": "code",
   "execution_count": null,
   "metadata": {},
   "outputs": [],
   "source": [
    "print(\"X1:\\n\")\n",
    "max_split_point, max_ii = calculate_splits(X[:,0], y, len(y))\n",
    "print(\"\\nBest Split:\\n\\tSplit Point = {}\\n\\tIG = {}\\nNode Entropy = {}\".format(\n",
    "    max_split_point, max_ii, branch_entropy(y)))"
   ]
  },
  {
   "cell_type": "code",
   "execution_count": null,
   "metadata": {},
   "outputs": [],
   "source": [
    "print(\"X2:\\n\")\n",
    "max_split_point, max_ii = calculate_splits(X[:,1], y, len(y))\n",
    "print(\"\\nBest Split:\\n\\tSplit Point = {}\\n\\tIG = {}\\nNode Entropy = {}\".format(\n",
    "    max_split_point, max_ii, branch_entropy(y)))"
   ]
  },
  {
   "cell_type": "markdown",
   "metadata": {},
   "source": [
    "Разделить исходные данные по `X2`"
   ]
  },
  {
   "cell_type": "code",
   "execution_count": null,
   "metadata": {},
   "outputs": [],
   "source": [
    "X2_split_point = 4.0\n",
    "\n",
    "# Индексы элементов\n",
    "left_index = X[:,1] <= X2_split_point\n",
    "right_index = X[:,1] > X2_split_point\n",
    "\n",
    "# Элементы левой части\n",
    "X_left = X[left_index]\n",
    "y_left = y[left_index]\n",
    "\n",
    "# Элементы правой части\n",
    "X_right = X[right_index]\n",
    "y_right = y[right_index]\n",
    "\n",
    "len(y_left), len(y_right)"
   ]
  },
  {
   "cell_type": "markdown",
   "metadata": {},
   "source": [
    "Энтропия левой части равна 0, что говорит об однородности узла (содержит элементы одного класса). Поэтому данный узал делаем терминальным (лист дерева)"
   ]
  },
  {
   "cell_type": "code",
   "execution_count": null,
   "metadata": {},
   "outputs": [],
   "source": [
    "print(\"Энтропия левой части =\" , branch_entropy(y_left))\n",
    "print(\"Целевые значения левой части:\", y_left)"
   ]
  },
  {
   "cell_type": "markdown",
   "metadata": {},
   "source": [
    "Найти точку разделения с максимальным `IG` по координатам `X1` и `X2` для правой части"
   ]
  },
  {
   "cell_type": "code",
   "execution_count": null,
   "metadata": {},
   "outputs": [],
   "source": [
    "print(\"X1:\\n\")\n",
    "max_split_point, max_ii = calculate_splits(X_right[:,0], y_right, len(y))\n",
    "print(\"\\nBest Split:\\n\\tSplit Point = {}\\n\\tIG = {}\\nNode Entropy = {}\".format(\n",
    "    max_split_point, max_ii, branch_entropy(y_right)))"
   ]
  },
  {
   "cell_type": "code",
   "execution_count": null,
   "metadata": {},
   "outputs": [],
   "source": [
    "print(\"X2:\\n\")\n",
    "max_split_point, max_ii = calculate_splits(X_right[:,1], y_right, len(y))\n",
    "print(\"\\nBest Split:\\n\\tSplit Point = {}\\n\\tIG = {}\\nNode Entropy = {}\".format(\n",
    "    max_split_point, max_ii, branch_entropy(y_right)))"
   ]
  },
  {
   "cell_type": "markdown",
   "metadata": {},
   "source": [
    "Разделить правую часть данные по `X1`"
   ]
  },
  {
   "cell_type": "code",
   "execution_count": null,
   "metadata": {},
   "outputs": [],
   "source": [
    "X1_split_point = 4.0\n",
    "\n",
    "# Индексы элементов\n",
    "right_left_index = X_right[:,0] <= X1_split_point\n",
    "right_right_index = X_right[:,0] > X1_split_point\n",
    "\n",
    "# Элементы левой части\n",
    "X_right_left = X_right[right_left_index]\n",
    "y_right_left = y_right[right_left_index]\n",
    "\n",
    "# Элементы правой части\n",
    "X_right_right = X_right[right_right_index]\n",
    "y_right_right = y_right[right_right_index]\n",
    "\n",
    "len(y_right_left), len(y_right_right)"
   ]
  },
  {
   "cell_type": "code",
   "execution_count": null,
   "metadata": {},
   "outputs": [],
   "source": [
    "print(\"Энтропия левой части =\" , branch_entropy(y_right_left))\n",
    "print(\"Целевые значения левой части:\", y_right_left)\n",
    "\n",
    "print(\"\\nЭнтропия правой части =\" , branch_entropy(y_right_right))\n",
    "print(\"Целевые значения правой части:\", y_right_right)"
   ]
  },
  {
   "cell_type": "markdown",
   "metadata": {},
   "source": [
    "#### Применение Sklearn"
   ]
  },
  {
   "cell_type": "code",
   "execution_count": null,
   "metadata": {},
   "outputs": [],
   "source": [
    "tick = time.time()\n",
    "dtc_model = DecisionTreeClassifier(criterion=\"entropy\", random_state=0)\n",
    "dtc_model.fit(X, y)\n",
    "print(\"Time =\", time.time()-tick)\n",
    "\n",
    "# Отображение дерева решений\n",
    "plt.figure(1, figsize=[14, 4])\n",
    "plot_tree(dtc_model, filled=True, feature_names=[\"X1\", \"X2\"], class_names=[\"0\", \"1\"])\n",
    "plt.show()"
   ]
  },
  {
   "cell_type": "code",
   "execution_count": null,
   "metadata": {},
   "outputs": [],
   "source": [
    "show_prediction_cplots(dtc_model, X, y, title=\"Single Decision Tree\", cmap=CLR_MAP)"
   ]
  },
  {
   "cell_type": "code",
   "execution_count": null,
   "metadata": {},
   "outputs": [],
   "source": [
    "# Важность признаков\n",
    "for indx, importance in enumerate(dtc_model.feature_importances_):\n",
    "    print(f'X{indx+1}: {importance}')"
   ]
  },
  {
   "cell_type": "markdown",
   "metadata": {},
   "source": [
    "#### Пример использования sklearn"
   ]
  },
  {
   "cell_type": "code",
   "execution_count": null,
   "metadata": {},
   "outputs": [],
   "source": [
    "CLR_MAP = ListedColormap([\"blue\", \"red\", \"green\"])"
   ]
  },
  {
   "cell_type": "code",
   "execution_count": null,
   "metadata": {},
   "outputs": [],
   "source": [
    "# Исходные данные\n",
    "n = 500\n",
    "X, y = make_classification(n_samples=n, n_features=2, n_redundant=0, \n",
    "                           n_informative=2, n_clusters_per_class=1, n_classes=3, class_sep=1,\n",
    "                           random_state=1234)\n",
    "show_init_cplots(X, y, cmap=CLR_MAP)\n",
    "\n",
    "# Формирование обучающего и тестового подмножеств\n",
    "X_train, X_test, y_train, y_test = train_test_split(X, y, test_size=0.3, random_state=0)\n",
    "\n",
    "# Обучение\n",
    "tick = time.time()\n",
    "dt_model = DecisionTreeClassifier(criterion=\"entropy\", random_state=0)\n",
    "dt_model.fit(X_train, y_train)\n",
    "print(\"Time = \", time.time()-tick)\n",
    "\n",
    "# Проверка на тестовом подмножестве\n",
    "score_dt_model = dt_model.score(X_test, y_test)\n",
    "print(\"Test Score = \", score_dt_model)\n",
    "print(\"Classification Report:\")\n",
    "print(classification_report(y_test, dt_model.predict(X_test), target_names=[\"Class 0\", \"Class 1\", \"Class 2\"]))\n",
    "\n",
    "# Графики\n",
    "show_cplots(dt_model, X_train, y_train, X_test, y_test, \n",
    "            title=\"Single Decision Tree\", cmap=CLR_MAP)"
   ]
  },
  {
   "cell_type": "markdown",
   "metadata": {},
   "source": [
    "Структура дерева"
   ]
  },
  {
   "cell_type": "code",
   "execution_count": null,
   "metadata": {},
   "outputs": [],
   "source": [
    "dt_model.tree_"
   ]
  },
  {
   "cell_type": "code",
   "execution_count": null,
   "metadata": {},
   "outputs": [],
   "source": [
    "plt.figure(1, figsize=[14, 8])\n",
    "plot_tree(dt_model, filled=True, feature_names=[\"X1\", \"X2\"], class_names=[\"0\", \"1\", \"2\"])\n",
    "plt.show()"
   ]
  },
  {
   "cell_type": "markdown",
   "metadata": {},
   "source": [
    "<a name=\"2\"></a>\n",
    "<div style=\"display:table; width:100%; padding-top:10px; padding-bottom:10px; border-bottom:1px solid lightgrey\">\n",
    "    <div style=\"display:table-row\">\n",
    "        <div style=\"display:table-cell; width:80%; font-size:16pt; font-weight:bold\">2. Ансамбль деревьев</div>\n",
    "    \t<div style=\"display:table-cell; width:20%; text-align:center; background-color:whitesmoke; border:1px solid lightgrey\"><a href=\"#0\">К содержанию</a></div>\n",
    "    </div>\n",
    "</div>"
   ]
  },
  {
   "cell_type": "code",
   "execution_count": null,
   "metadata": {},
   "outputs": [],
   "source": [
    "NUM_TREES = 100"
   ]
  },
  {
   "cell_type": "markdown",
   "metadata": {},
   "source": [
    "### 2.1. Регрессия"
   ]
  },
  {
   "cell_type": "code",
   "execution_count": null,
   "metadata": {},
   "outputs": [],
   "source": [
    "# Замечание:\n",
    "# Мы используем всего один признак, поэтому случайный лес и \n",
    "# сверх случайные деревья будут использовать только его для\n",
    "# выбора деления.\n",
    "\n",
    "# Исходные данные\n",
    "n = 200\n",
    "x = stats.uniform.rvs(size=n, loc=0, scale=5, random_state=0)\n",
    "y = stats.norm.rvs(size=n, loc=0, scale=0.2, random_state=0) + np.sin(x)\n",
    "\n",
    "show_init_rplots(x, y)"
   ]
  },
  {
   "cell_type": "code",
   "execution_count": null,
   "metadata": {},
   "outputs": [],
   "source": [
    "X = x[:, np.newaxis]\n",
    "X.shape"
   ]
  },
  {
   "cell_type": "code",
   "execution_count": null,
   "metadata": {},
   "outputs": [],
   "source": [
    "# Формирование обучающего и тестового подмножеств\n",
    "X_train, X_test, y_train, y_test = train_test_split(X, y, test_size=0.3, random_state=0)"
   ]
  },
  {
   "cell_type": "markdown",
   "metadata": {},
   "source": [
    "#### Дерево решений"
   ]
  },
  {
   "cell_type": "code",
   "execution_count": null,
   "metadata": {},
   "outputs": [],
   "source": [
    "# Обучение\n",
    "tick = time.time()\n",
    "dtr_model = DecisionTreeRegressor(criterion=\"squared_error\", max_depth=7, random_state=0)\n",
    "dtr_model.fit(X_train, y_train)\n",
    "print(\"Time =\", time.time()-tick)\n",
    "\n",
    "# Проверка на тестовом подмножестве\n",
    "score_dtr_model = dtr_model.score(X_test, y_test)\n",
    "mse_dtr_model = mean_squared_error(y_test, dtr_model.predict(X_test))\n",
    "\n",
    "print(\"R^2 =\", score_dtr_model)\n",
    "print(\"MSE =\", mse_dtr_model)"
   ]
  },
  {
   "cell_type": "markdown",
   "metadata": {},
   "source": [
    "#### Бэггинг\n",
    "\n",
    "[BaggingRegressor](http://scikit-learn.org/stable/modules/generated/sklearn.ensemble.BaggingRegressor.html)"
   ]
  },
  {
   "cell_type": "code",
   "execution_count": null,
   "metadata": {},
   "outputs": [],
   "source": [
    "# Обучение\n",
    "tick = time.time()\n",
    "dtr_model_inner = DecisionTreeRegressor(criterion=\"squared_error\", max_depth=7, random_state=0)\n",
    "baggingr_model = BaggingRegressor(\n",
    "    estimator=dtr_model_inner, \n",
    "    n_estimators=NUM_TREES, \n",
    "    max_samples=1.0, \n",
    "    max_features=1.0, \n",
    "    bootstrap=True, \n",
    "    bootstrap_features=False, \n",
    "    oob_score=False, \n",
    "    random_state=0\n",
    ")\n",
    "baggingr_model.fit(X_train, y_train)\n",
    "print(\"Time =\", time.time()-tick)\n",
    "\n",
    "# Проверка на тестовом подмножестве\n",
    "score_baggingr_model = baggingr_model.score(X_test, y_test)\n",
    "mse_baggingr_model = mean_squared_error(y_test, baggingr_model.predict(X_test))\n",
    "\n",
    "print(\"R^2 =\", score_baggingr_model)\n",
    "print(\"MSE =\", mse_baggingr_model)"
   ]
  },
  {
   "cell_type": "markdown",
   "metadata": {},
   "source": [
    "#### Случайный лес \n",
    "\n",
    "[RandomForestRegressor](http://scikit-learn.org/stable/modules/generated/sklearn.ensemble.RandomForestRegressor.html)"
   ]
  },
  {
   "cell_type": "code",
   "execution_count": null,
   "metadata": {},
   "outputs": [],
   "source": [
    "# Обучение\n",
    "tick = time.time()\n",
    "rfr_model = RandomForestRegressor(\n",
    "    n_estimators=NUM_TREES, \n",
    "    max_depth=7, \n",
    "    criterion=\"squared_error\", \n",
    "    bootstrap=True, \n",
    "    max_features=\"sqrt\", \n",
    "    oob_score=False, \n",
    "    random_state=0\n",
    ")\n",
    "rfr_model.fit(X_train, y_train)\n",
    "print(\"Time =\", time.time()-tick)\n",
    "\n",
    "# Проверка на тестовом подмножестве\n",
    "score_rfr_model = rfr_model.score(X_test, y_test)\n",
    "mse_rfr_model = mean_squared_error(y_test, rfr_model.predict(X_test))\n",
    "\n",
    "print(\"R^2 =\", score_rfr_model)\n",
    "print(\"MSE =\", mse_rfr_model)"
   ]
  },
  {
   "cell_type": "markdown",
   "metadata": {},
   "source": [
    "#### Extra Trees\n",
    "\n",
    "[ExtraTreesRegressor](http://scikit-learn.org/stable/modules/generated/sklearn.ensemble.ExtraTreesRegressor.html)"
   ]
  },
  {
   "cell_type": "code",
   "execution_count": null,
   "metadata": {},
   "outputs": [],
   "source": [
    "# Обучение\n",
    "tick = time.time()\n",
    "etr_model = ExtraTreesRegressor(\n",
    "    n_estimators=NUM_TREES, \n",
    "    max_depth=7, \n",
    "    criterion=\"squared_error\", \n",
    "    bootstrap=True, \n",
    "    max_features=\"sqrt\", \n",
    "    oob_score=False, \n",
    "    random_state=0\n",
    ")\n",
    "etr_model.fit(X_train, y_train)\n",
    "print(\"Time =\", time.time()-tick)\n",
    "\n",
    "# Проверка на тестовом подмножестве\n",
    "score_etr_model = etr_model.score(X_test, y_test)\n",
    "mse_etr_model = mean_squared_error(y_test, etr_model.predict(X_test))\n",
    "\n",
    "print(\"R^2 =\", score_etr_model)\n",
    "print(\"MSE =\", mse_etr_model)"
   ]
  },
  {
   "cell_type": "markdown",
   "metadata": {},
   "source": [
    "#### Графики"
   ]
  },
  {
   "cell_type": "code",
   "execution_count": null,
   "metadata": {},
   "outputs": [],
   "source": [
    "show_rplots(dtr_model, X_train, y_train, X_test, y_test, title=\"Single Decision Tree\")\n",
    "show_rplots(baggingr_model, X_train, y_train, X_test, y_test, title=\"Bagging\")\n",
    "show_rplots(rfr_model, X_train, y_train, X_test, y_test, title=\"Random Forest\")\n",
    "show_rplots(etr_model, X_train, y_train, X_test, y_test, title=\"Extra Trees\")"
   ]
  },
  {
   "cell_type": "markdown",
   "metadata": {},
   "source": [
    "### 2.2. Классификация"
   ]
  },
  {
   "cell_type": "code",
   "execution_count": null,
   "metadata": {},
   "outputs": [],
   "source": [
    "# Исходные данные\n",
    "n = 500\n",
    "X, y = make_classification(\n",
    "    n_samples=n, \n",
    "    n_features=2, \n",
    "    n_redundant=0, \n",
    "    n_informative=2, \n",
    "    n_clusters_per_class=1, \n",
    "    n_classes=3, \n",
    "    class_sep=1,\n",
    "    random_state=1234\n",
    ")\n",
    "show_init_cplots(X, y, cmap=CLR_MAP)"
   ]
  },
  {
   "cell_type": "code",
   "execution_count": null,
   "metadata": {},
   "outputs": [],
   "source": [
    "# Формирование обучающего и тестового подмножеств\n",
    "X_train, X_test, y_train, y_test = train_test_split(X, y, test_size=0.3, random_state=0)"
   ]
  },
  {
   "cell_type": "markdown",
   "metadata": {},
   "source": [
    "#### Дерево решений"
   ]
  },
  {
   "cell_type": "code",
   "execution_count": null,
   "metadata": {},
   "outputs": [],
   "source": [
    "# Обучение\n",
    "tick = time.time()\n",
    "dt_model = DecisionTreeClassifier(criterion=\"entropy\", random_state=0)\n",
    "dt_model.fit(X_train, y_train)\n",
    "print(\"Time =\", time.time()-tick)\n",
    "\n",
    "# Проверка на тестовом подмножестве\n",
    "score_dt_model = dt_model.score(X_test, y_test)\n",
    "print(\"Test Score = \", score_dt_model)"
   ]
  },
  {
   "cell_type": "markdown",
   "metadata": {},
   "source": [
    "#### Бэггинг\n",
    "\n",
    "[BaggingClassifier](http://scikit-learn.org/stable/modules/generated/sklearn.ensemble.BaggingClassifier.html)"
   ]
  },
  {
   "cell_type": "code",
   "execution_count": null,
   "metadata": {},
   "outputs": [],
   "source": [
    "# Обучение\n",
    "tick = time.time()\n",
    "dt_model_inner = DecisionTreeClassifier(criterion=\"entropy\", random_state=0)\n",
    "bagging_model = BaggingClassifier(estimator=dt_model_inner, n_estimators=NUM_TREES, \n",
    "                                  max_samples=1.0, max_features=1.0, bootstrap=True, \n",
    "                                  bootstrap_features=False, oob_score=False, random_state=0)\n",
    "bagging_model.fit(X_train, y_train)\n",
    "print(\"Time =\", time.time()-tick)\n",
    "\n",
    "# Проверка на тестовом подмножестве\n",
    "score_bagging_model = bagging_model.score(X_test, y_test)\n",
    "print(\"Test Score = \", score_bagging_model)"
   ]
  },
  {
   "cell_type": "markdown",
   "metadata": {},
   "source": [
    "#### Случайный лес \n",
    "\n",
    "[RandomForestClassifier](http://scikit-learn.org/stable/modules/generated/sklearn.ensemble.RandomForestClassifier.html)"
   ]
  },
  {
   "cell_type": "code",
   "execution_count": null,
   "metadata": {},
   "outputs": [],
   "source": [
    "# Обучение\n",
    "tick = time.time()\n",
    "rf_model = RandomForestClassifier(n_estimators=NUM_TREES, criterion=\"entropy\", bootstrap=True, \n",
    "                                  oob_score=False, random_state=0)\n",
    "rf_model.fit(X_train, y_train)\n",
    "print(\"Time =\", time.time()-tick)\n",
    "\n",
    "# Проверка на тестовом подмножестве\n",
    "score_rf_model = rf_model.score(X_test, y_test)\n",
    "print(\"Test Score = \", score_rf_model)"
   ]
  },
  {
   "cell_type": "markdown",
   "metadata": {},
   "source": [
    "#### Extra Trees\n",
    "\n",
    "[ExtraTreesClassifier](http://scikit-learn.org/stable/modules/generated/sklearn.ensemble.ExtraTreesClassifier.html)"
   ]
  },
  {
   "cell_type": "code",
   "execution_count": null,
   "metadata": {},
   "outputs": [],
   "source": [
    "# Обучение\n",
    "tick = time.time()\n",
    "et_model = ExtraTreesClassifier(n_estimators=NUM_TREES, criterion=\"entropy\", bootstrap=True, \n",
    "                                max_features=\"sqrt\", oob_score=False, random_state=0)\n",
    "et_model.fit(X_train, y_train)\n",
    "print(\"Time =\", time.time()-tick)\n",
    "\n",
    "# Проверка на тестовом подмножестве\n",
    "score_et_model = et_model.score(X_test, y_test)\n",
    "print(\"Test Score = \", score_et_model)"
   ]
  },
  {
   "cell_type": "markdown",
   "metadata": {},
   "source": [
    "#### Графики"
   ]
  },
  {
   "cell_type": "code",
   "execution_count": null,
   "metadata": {},
   "outputs": [],
   "source": [
    "show_cplots(dt_model, X_train, y_train, X_test, y_test, title=\"Single Decision Tree\", cmap=CLR_MAP)\n",
    "show_cplots(bagging_model, X_train, y_train, X_test, y_test, title=\"Bagging\", cmap=CLR_MAP)\n",
    "show_cplots(rf_model, X_train, y_train, X_test, y_test, title=\"Random Forest\", cmap=CLR_MAP)\n",
    "show_cplots(et_model, X_train, y_train, X_test, y_test, title=\"Extra Trees\", cmap=CLR_MAP)"
   ]
  },
  {
   "cell_type": "markdown",
   "metadata": {},
   "source": [
    "<a name=\"3\"></a>\n",
    "<div style=\"display:table; width:100%; padding-top:10px; padding-bottom:10px; border-bottom:1px solid lightgrey\">\n",
    "    <div style=\"display:table-row\">\n",
    "        <div style=\"display:table-cell; width:80%; font-size:14pt; font-weight:bold\">3. Источники</div>\n",
    "    \t<div style=\"display:table-cell; width:20%; text-align:center; background-color:whitesmoke; border:1px solid lightgrey\"><a href=\"#0\">К содержанию</a></div>\n",
    "    </div>\n",
    "</div>"
   ]
  },
  {
   "cell_type": "markdown",
   "metadata": {
    "collapsed": true,
    "jupyter": {
     "outputs_hidden": true
    }
   },
   "source": [
    "<a href=\"http://scikit-learn.org/stable/modules/tree.html\">Decision Trees</a><br>\n",
    "<a href=\"http://scikit-learn.org/stable/modules/ensemble.html\">Ensemble methods</a><br>"
   ]
  },
  {
   "cell_type": "code",
   "execution_count": null,
   "metadata": {},
   "outputs": [],
   "source": []
  }
 ],
 "metadata": {
  "kernelspec": {
   "display_name": "Python 3 (ipykernel)",
   "language": "python",
   "name": "python3"
  },
  "language_info": {
   "codemirror_mode": {
    "name": "ipython",
    "version": 3
   },
   "file_extension": ".py",
   "mimetype": "text/x-python",
   "name": "python",
   "nbconvert_exporter": "python",
   "pygments_lexer": "ipython3",
   "version": "3.11.7"
  }
 },
 "nbformat": 4,
 "nbformat_minor": 4
}
