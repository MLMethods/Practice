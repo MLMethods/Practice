{
 "cells": [
  {
   "cell_type": "markdown",
   "metadata": {},
   "source": [
    "# СЕМИНАР. Выбор признаков\n",
    "\n",
    "<hr>\n",
    "\n",
    "Папулин С.Ю. (papulin.study@yandex.ru)"
   ]
  },
  {
   "cell_type": "markdown",
   "metadata": {},
   "source": [
    "<a name=\"0\"></a>\n",
    "<div><span style=\"font-size:16pt; font-weight:bold\">Содержание</span>\n",
    "    <ol>\n",
    "        <li><a href=\"#1\">Загрузка исходных данных</a></li>\n",
    "        <li><a href=\"#2\">Подход с порогом дисперсии</a></li>\n",
    "        <li><a href=\"#3\">Подход с L1 регуляризацией</a></li>\n",
    "        <li><a href=\"#4\">Подход с перебором признаков</a></li>\n",
    "        <li><a href=\"#5\">Подход с постепенным уменьшением количества признаков</a></li>\n",
    "        <li><a href=\"#6\">Источники</a></li>\n",
    "    </ol>\n",
    "</div>"
   ]
  },
  {
   "cell_type": "code",
   "execution_count": null,
   "metadata": {},
   "outputs": [],
   "source": [
    "from sklearn.datasets import make_regression\n",
    "from sklearn.metrics import mean_squared_error\n",
    "from sklearn.model_selection import train_test_split, KFold, cross_validate, cross_val_score \n",
    "import matplotlib.pyplot as plt\n",
    "%matplotlib inline"
   ]
  },
  {
   "cell_type": "code",
   "execution_count": null,
   "metadata": {},
   "outputs": [],
   "source": [
    "import pandas as pd\n",
    "import numpy as np"
   ]
  },
  {
   "cell_type": "code",
   "execution_count": null,
   "metadata": {},
   "outputs": [],
   "source": [
    "from pandas.plotting import scatter_matrix\n",
    "from sklearn.linear_model import LinearRegression, Lasso"
   ]
  },
  {
   "cell_type": "markdown",
   "metadata": {},
   "source": [
    "<a name=\"1\"></a>\n",
    "<div style=\"display:table; width:100%; padding-top:10px; padding-bottom:10px; border-bottom:1px solid lightgrey\">\n",
    "    <div style=\"display:table-row\">\n",
    "        <div style=\"display:table-cell; width:80%; font-size:16pt; font-weight:bold\">1. Загрузка исходных данных</div>\n",
    "    \t<div style=\"display:table-cell; width:20%; text-align:center; background-color:whitesmoke; border:1px solid lightgrey\"><a href=\"#0\">К содержанию</a></div>\n",
    "    </div>\n",
    "</div>"
   ]
  },
  {
   "cell_type": "code",
   "execution_count": null,
   "metadata": {},
   "outputs": [],
   "source": [
    "FILE_PATH = \"../data/Advertising.csv\"\n",
    "df = pd.read_csv(FILE_PATH, sep=\",\", index_col=0)\n",
    "df.head(5)"
   ]
  },
  {
   "cell_type": "markdown",
   "metadata": {},
   "source": [
    "Набор данных:\n",
    "- `TV`, `radio` и `newspaper` - бюджеты на рекламу\n",
    "- `sales` - количество продаж"
   ]
  },
  {
   "cell_type": "code",
   "execution_count": null,
   "metadata": {},
   "outputs": [],
   "source": [
    "X_COLUMNS = df.columns.drop(\"sales\")\n",
    "Y_COLUMN = \"sales\""
   ]
  },
  {
   "cell_type": "code",
   "execution_count": null,
   "metadata": {},
   "outputs": [],
   "source": [
    "scatter_matrix(df, figsize=[12,12])\n",
    "plt.show()"
   ]
  },
  {
   "cell_type": "code",
   "execution_count": null,
   "metadata": {},
   "outputs": [],
   "source": [
    "labels = df.columns.to_list()\n",
    "\n",
    "# plt.figure(figsize=[8, 8])\n",
    "# plt.matshow(df.corr(), fignum=0, vmin=-1, vmax=1)\n",
    "# plt.colorbar()\n",
    "# plt.xticks(range(len(labels)), labels)\n",
    "# plt.yticks(range(len(labels)), labels)\n",
    "# plt.show()\n",
    "\n",
    "fig = plt.figure(figsize=[8, 8])\n",
    "ax = fig.add_subplot(1,1,1)\n",
    "cax = ax.matshow(df.corr(), vmin=-1, vmax=1)\n",
    "fig.colorbar(cax)\n",
    "ax.set_xticklabels([\"\"]+labels)\n",
    "ax.set_yticklabels([\"\"]+labels)\n",
    "\n",
    "plt.show()"
   ]
  },
  {
   "cell_type": "code",
   "execution_count": null,
   "metadata": {},
   "outputs": [],
   "source": [
    "df_X = df[X_COLUMNS]\n",
    "df_y = df[Y_COLUMN]\n",
    "\n",
    "X_train, X_test, y_train, y_test = train_test_split(df_X, df_y, test_size=0.2, random_state=1234)\n",
    "X_train[:5]"
   ]
  },
  {
   "cell_type": "code",
   "execution_count": null,
   "metadata": {},
   "outputs": [],
   "source": [
    "lr_model = LinearRegression()\n",
    "lr_model.fit(X_train, y_train)\n",
    "\n",
    "train_mse = mean_squared_error(y_train, lr_model.predict(X_train))\n",
    "test_mse = mean_squared_error(y_test, lr_model.predict(X_test))\n",
    "\n",
    "print(\"Ошибка обучения: {}\".format(train_mse))\n",
    "print(\"Ошибка тестирования: {}\".format(test_mse))"
   ]
  },
  {
   "cell_type": "code",
   "execution_count": null,
   "metadata": {},
   "outputs": [],
   "source": [
    "y_test__pred = lr_model.predict(X_test)"
   ]
  },
  {
   "cell_type": "code",
   "execution_count": null,
   "metadata": {},
   "outputs": [],
   "source": [
    "plt.figure(\"1\",figsize=[14, 4])\n",
    "\n",
    "plt.subplot(1,4,1)\n",
    "\n",
    "plt.title(\"Prediction: TV-sales\")\n",
    "plt.plot(X_test[\"TV\"], y_test, \"ob\", label=\"True\")\n",
    "plt.plot(X_test[\"TV\"], y_test__pred, \"or\", label=\"Predicted\")\n",
    "plt.xlabel(\"$X_{TV}$\")\n",
    "plt.ylabel(\"$Y_{sales}$\")\n",
    "plt.legend()\n",
    "plt.grid(True)\n",
    "\n",
    "\n",
    "plt.subplot(1,4,2)\n",
    "plt.title(\"Prediction: radio-sales\")\n",
    "\n",
    "plt.plot(X_test[\"radio\"], y_test, \"ob\", label=\"True\")\n",
    "plt.plot(X_test[\"radio\"], y_test__pred, \"or\", label=\"Predicted\")\n",
    "plt.xlabel(\"$X_{radio}$\")\n",
    "plt.ylabel(\"$Y_{sales}$\")\n",
    "plt.legend()\n",
    "plt.grid(True)\n",
    "\n",
    "\n",
    "plt.subplot(1,4,3)\n",
    "plt.title(\"Prediction: newspaper-sales\")\n",
    "\n",
    "plt.plot(X_test[\"newspaper\"], y_test, \"ob\", label=\"True\")\n",
    "plt.plot(X_test[\"newspaper\"], y_test__pred, \"or\", label=\"Predicted\")\n",
    "plt.xlabel(\"$X_{newspaper}$\")\n",
    "plt.ylabel(\"$Y_{sales}$\")\n",
    "plt.legend()\n",
    "plt.grid(True)\n",
    "\n",
    "plt.subplot(1,4,4)\n",
    "plt.title(\"Observation vs Prediction\")\n",
    "plt.scatter(y_test__pred, y_test, color=\"slategrey\")\n",
    "xlim = plt.gca().get_xlim() \n",
    "plt.plot(xlim, xlim, '--', color=\"grey\")\n",
    "plt.xlim(xlim) \n",
    "plt.xlabel(\"$\\\\bar{y}$\")\n",
    "plt.ylabel(\"$y$\")\n",
    "plt.grid(True)\n",
    "\n",
    "plt.tight_layout()\n",
    "\n",
    "plt.show()"
   ]
  },
  {
   "cell_type": "markdown",
   "metadata": {},
   "source": [
    "<a name=\"2\"></a>\n",
    "<div style=\"display:table; width:100%; padding-top:10px; padding-bottom:10px; border-bottom:1px solid lightgrey\">\n",
    "    <div style=\"display:table-row\">\n",
    "        <div style=\"display:table-cell; width:80%; font-size:16pt; font-weight:bold\">2. Подход с порогом дисперсии</div>\n",
    "    \t<div style=\"display:table-cell; width:20%; text-align:center; background-color:whitesmoke; border:1px solid lightgrey\"><a href=\"#0\">К содержанию</a></div>\n",
    "    </div>\n",
    "</div>"
   ]
  },
  {
   "cell_type": "code",
   "execution_count": null,
   "metadata": {},
   "outputs": [],
   "source": [
    "from sklearn.feature_selection import VarianceThreshold"
   ]
  },
  {
   "cell_type": "code",
   "execution_count": null,
   "metadata": {},
   "outputs": [],
   "source": [
    "sel_var = VarianceThreshold(threshold=300)"
   ]
  },
  {
   "cell_type": "code",
   "execution_count": null,
   "metadata": {},
   "outputs": [],
   "source": [
    "X_train_var = sel_var.fit_transform(X_train)\n",
    "X_train_var[:5]"
   ]
  },
  {
   "cell_type": "code",
   "execution_count": null,
   "metadata": {},
   "outputs": [],
   "source": [
    "sel_var.variances_"
   ]
  },
  {
   "cell_type": "code",
   "execution_count": null,
   "metadata": {},
   "outputs": [],
   "source": [
    "sel_var.get_support()"
   ]
  },
  {
   "cell_type": "code",
   "execution_count": null,
   "metadata": {},
   "outputs": [],
   "source": [
    "clmns = list(X_COLUMNS[indx] for indx, state in enumerate(sel_var.get_support()) if state)\n",
    "clmns"
   ]
  },
  {
   "cell_type": "code",
   "execution_count": null,
   "metadata": {},
   "outputs": [],
   "source": [
    "X_train_var[:5]"
   ]
  },
  {
   "cell_type": "code",
   "execution_count": null,
   "metadata": {},
   "outputs": [],
   "source": [
    "lr_model = LinearRegression()\n",
    "lr_model.fit(X_train_var, y_train)\n",
    "\n",
    "train_mse = mean_squared_error(y_train, lr_model.predict(X_train_var))\n",
    "test_mse = mean_squared_error(y_test, lr_model.predict(X_test[clmns]))\n",
    "\n",
    "print(\"Ошибка обучения: {}\".format(train_mse))\n",
    "print(\"Ошибка тестирования: {}\".format(test_mse))"
   ]
  },
  {
   "cell_type": "code",
   "execution_count": null,
   "metadata": {},
   "outputs": [],
   "source": [
    "y_test__pred = lr_model.predict(X_test[clmns])"
   ]
  },
  {
   "cell_type": "code",
   "execution_count": null,
   "metadata": {},
   "outputs": [],
   "source": [
    "plt.figure(\"1\",figsize=[12, 4])\n",
    "\n",
    "plt.subplot(1,3,1)\n",
    "\n",
    "plt.title(\"Prediction: TV-sales\")\n",
    "plt.plot(X_test[\"TV\"], y_test, \"ob\", label=\"True\")\n",
    "plt.plot(X_test[\"TV\"], y_test__pred, \"or\", label=\"Predicted\")\n",
    "plt.xlabel(\"$X_{TV}$\")\n",
    "plt.ylabel(\"$Y_{sales}$\")\n",
    "plt.legend()\n",
    "plt.grid(True)\n",
    "\n",
    "\n",
    "plt.subplot(1,3,2)\n",
    "plt.title(\"Prediction: newspaper-sales\")\n",
    "\n",
    "plt.plot(X_test[\"newspaper\"], y_test, \"ob\", label=\"True\")\n",
    "plt.plot(X_test[\"newspaper\"], y_test__pred, \"or\", label=\"Predicted\")\n",
    "plt.xlabel(\"$X_{newspaper}$\")\n",
    "plt.ylabel(\"$Y_{sales}$\")\n",
    "plt.legend()\n",
    "plt.grid(True)\n",
    "\n",
    "plt.subplot(1,3,3)\n",
    "plt.title(\"Observation vs Prediction\")\n",
    "plt.scatter(y_test__pred, y_test, color=\"slategrey\")\n",
    "xlim = plt.gca().get_xlim() \n",
    "plt.plot(xlim, xlim, '--', color=\"grey\")\n",
    "plt.xlim(xlim) \n",
    "plt.xlabel(\"$\\\\bar{y}$\")\n",
    "plt.ylabel(\"$y$\")\n",
    "plt.grid(True)\n",
    "\n",
    "plt.tight_layout()\n",
    "\n",
    "plt.show()"
   ]
  },
  {
   "cell_type": "markdown",
   "metadata": {},
   "source": [
    "<a name=\"3\"></a>\n",
    "<div style=\"display:table; width:100%; padding-top:10px; padding-bottom:10px; border-bottom:1px solid lightgrey\">\n",
    "    <div style=\"display:table-row\">\n",
    "        <div style=\"display:table-cell; width:80%; font-size:16pt; font-weight:bold\">3. Подход с L1 регуляризацией</div>\n",
    "    \t<div style=\"display:table-cell; width:20%; text-align:center; background-color:whitesmoke; border:1px solid lightgrey\"><a href=\"#0\">К содержанию</a></div>\n",
    "    </div>\n",
    "</div>"
   ]
  },
  {
   "cell_type": "code",
   "execution_count": null,
   "metadata": {},
   "outputs": [],
   "source": [
    "from sklearn.linear_model import LinearRegression, Lasso"
   ]
  },
  {
   "cell_type": "code",
   "execution_count": null,
   "metadata": {},
   "outputs": [],
   "source": [
    "coefs = []\n",
    "\n",
    "alphas = np.logspace(-5, 2, 100)\n",
    "\n",
    "kf = KFold(n_splits=10, shuffle=True, random_state=0)\n",
    "\n",
    "for alpha in alphas:\n",
    "    lasso_model = Lasso(alpha=alpha, fit_intercept=True, normalize=True)\n",
    "    lasso_model.fit(X_train, y_train)\n",
    "    coefs.append(lasso_model.coef_)\n",
    "    \n",
    "coefs = np.array(coefs)"
   ]
  },
  {
   "cell_type": "code",
   "execution_count": null,
   "metadata": {},
   "outputs": [],
   "source": [
    "plt.figure(\"1\",figsize=[12, 4])\n",
    "\n",
    "plt.subplot(1,2,1)\n",
    "plt.title(\"Parameter Estimates\")\n",
    "\n",
    "for i in range(coefs.shape[1]):\n",
    "    plt.plot(alphas, coefs[:,i], label=\"$\\\\theta_{%s}$\" % X_COLUMNS[i])\n",
    "    plt.xscale(\"log\") \n",
    "    \n",
    "plt.grid(True)\n",
    "plt.legend()\n",
    "plt.xlabel(\"$\\lambda$\")\n",
    "plt.ylabel(\"$\\\\theta$\")\n",
    "plt.tight_layout()\n",
    "plt.autoscale(enable=True, axis=\"x\", tight=True) \n",
    "\n",
    "plt.tight_layout()\n",
    "plt.show()"
   ]
  },
  {
   "cell_type": "code",
   "execution_count": null,
   "metadata": {},
   "outputs": [],
   "source": [
    "clmns = [\"TV\", \"radio\"]\n",
    "X_train_lasso = X_train[clmns]\n",
    "X_train_lasso[:5]"
   ]
  },
  {
   "cell_type": "code",
   "execution_count": null,
   "metadata": {},
   "outputs": [],
   "source": [
    "lr_model = LinearRegression()\n",
    "lr_model.fit(X_train_lasso, y_train)\n",
    "\n",
    "train_mse = mean_squared_error(y_train, lr_model.predict(X_train_lasso))\n",
    "test_mse = mean_squared_error(y_test, lr_model.predict(X_test[clmns]))\n",
    "\n",
    "print(\"Ошибка обучения: {}\".format(train_mse))\n",
    "print(\"Ошибка тестирования: {}\".format(test_mse))"
   ]
  },
  {
   "cell_type": "code",
   "execution_count": null,
   "metadata": {},
   "outputs": [],
   "source": [
    "y_test__pred = lr_model.predict(X_test[clmns])"
   ]
  },
  {
   "cell_type": "code",
   "execution_count": null,
   "metadata": {},
   "outputs": [],
   "source": [
    "plt.figure(\"1\",figsize=[12, 4])\n",
    "\n",
    "plt.subplot(1,3,1)\n",
    "\n",
    "plt.title(\"Prediction: TV-sales\")\n",
    "plt.plot(X_test[\"TV\"], y_test, \"ob\", label=\"True\")\n",
    "plt.plot(X_test[\"TV\"], lr_model.predict(X_test[clmns]), \"or\", label=\"Predicted\")\n",
    "plt.xlabel(\"$X_{TV}$\")\n",
    "plt.ylabel(\"$Y_{sales}$\")\n",
    "plt.legend()\n",
    "plt.grid(True)\n",
    "\n",
    "\n",
    "plt.subplot(1,3,2)\n",
    "plt.title(\"Prediction: radio-sales\")\n",
    "\n",
    "plt.plot(X_test[\"radio\"], y_test, \"ob\", label=\"True\")\n",
    "plt.plot(X_test[\"radio\"], lr_model.predict(X_test[clmns]), \"or\", label=\"Predicted\")\n",
    "plt.xlabel(\"$X_{radio}$\")\n",
    "plt.ylabel(\"$Y_{sales}$\")\n",
    "plt.legend()\n",
    "plt.grid(True)\n",
    "\n",
    "plt.subplot(1,3,3)\n",
    "plt.title(\"Observation vs Prediction\")\n",
    "plt.scatter(y_test__pred, y_test, color=\"slategrey\")\n",
    "xlim = plt.gca().get_xlim() \n",
    "plt.plot(xlim, xlim, '--', color=\"grey\")\n",
    "plt.xlim(xlim) \n",
    "plt.xlabel(\"$\\\\bar{y}$\")\n",
    "plt.ylabel(\"$y$\")\n",
    "plt.grid(True)\n",
    "\n",
    "plt.tight_layout()\n",
    "\n",
    "plt.show()"
   ]
  },
  {
   "cell_type": "markdown",
   "metadata": {},
   "source": [
    "<a name=\"4\"></a>\n",
    "<div style=\"display:table; width:100%; padding-top:10px; padding-bottom:10px; border-bottom:1px solid lightgrey\">\n",
    "    <div style=\"display:table-row\">\n",
    "        <div style=\"display:table-cell; width:80%; font-size:16pt; font-weight:bold\">4. Подход с перебором признаков</div>\n",
    "    \t<div style=\"display:table-cell; width:20%; text-align:center; background-color:whitesmoke; border:1px solid lightgrey\"><a href=\"#0\">К содержанию</a></div>\n",
    "    </div>\n",
    "</div>"
   ]
  },
  {
   "cell_type": "code",
   "execution_count": null,
   "metadata": {},
   "outputs": [],
   "source": [
    "import itertools"
   ]
  },
  {
   "cell_type": "markdown",
   "metadata": {},
   "source": [
    "Количество комбинаций признаков:"
   ]
  },
  {
   "cell_type": "code",
   "execution_count": null,
   "metadata": {},
   "outputs": [],
   "source": [
    "2**len(X_COLUMNS)-1"
   ]
  },
  {
   "cell_type": "markdown",
   "metadata": {},
   "source": [
    "Вывод всех комбиаций признаков:"
   ]
  },
  {
   "cell_type": "code",
   "execution_count": null,
   "metadata": {},
   "outputs": [],
   "source": [
    "features_by_num = list()\n",
    "for num in range(1, len(X_COLUMNS)+1):\n",
    "    features_set = [list(el) for el in tuple(itertools.combinations(X_COLUMNS, num))]\n",
    "    features_by_num.append(features_set)\n",
    "    print(\"#признаков={}: {}\".format(num, features_set))"
   ]
  },
  {
   "cell_type": "markdown",
   "metadata": {},
   "source": [
    "#### Выбор количества признаков с использованием BIC, AIC"
   ]
  },
  {
   "cell_type": "code",
   "execution_count": null,
   "metadata": {},
   "outputs": [],
   "source": [
    "# TODO"
   ]
  },
  {
   "cell_type": "markdown",
   "metadata": {},
   "source": [
    "#### Выбор количества признаков с использованием кросс-валидации"
   ]
  },
  {
   "cell_type": "markdown",
   "metadata": {},
   "source": [
    "Выбор количества признаков:"
   ]
  },
  {
   "cell_type": "code",
   "execution_count": null,
   "metadata": {},
   "outputs": [],
   "source": [
    "kf = KFold(n_splits=5)\n",
    "\n",
    "val_errors = list()\n",
    "\n",
    "for features_set in features_by_num:\n",
    "    \n",
    "    train_errors_by_num = list()\n",
    "    val_errors_by_num = list()\n",
    "    \n",
    "    print(\"Количество признаков: {}\\n\".format(len(features_set[0])))\n",
    "    \n",
    "    for features in features_set:\n",
    "        \n",
    "        lr_model = LinearRegression()\n",
    "        lr_model.fit(X_train[features], y_train)\n",
    "\n",
    "        scores = cross_validate(lr_model, X_train[features], y_train, cv=kf, return_train_score=True, \n",
    "                    scoring=[\"neg_mean_squared_error\", \"r2\"])\n",
    "\n",
    "        val_mse = -scores[\"test_neg_mean_squared_error\"].mean()\n",
    "        train_mse = -scores[\"train_neg_mean_squared_error\"].mean()\n",
    "        \n",
    "        train_errors_by_num.append(train_mse)\n",
    "        val_errors_by_num.append(val_mse)\n",
    "        \n",
    "        print(\"Признаки: {}\".format(features))\n",
    "        print(\"Ошибка обучения: {}\".format(train_mse))\n",
    "        print(\"Ошибка проверочная: {}\\n\".format(val_mse))\n",
    "        \n",
    "    indx_min_by_num = np.argmin(train_errors_by_num)\n",
    "    val_errors.append(val_errors_by_num[indx_min_by_num])\n",
    "    print(\"Минимальная ошибка обучения: {}\".format(train_errors_by_num[indx_min_by_num]))\n",
    "    print(\"Набор признаков с минимальной ошибкой обучения: {}\".format(features_set[indx_min_by_num]))\n",
    "    print(\"Ошибка проверочная: {}\\n\".format(val_errors_by_num[indx_min_by_num]))\n",
    "\n",
    "\n",
    "feature_number_selected = np.argmin(val_errors) + 1\n",
    "print(\"{}\".format(\"=\"*30))\n",
    "print(\"Минимальная проверочная ошибка: {}\".format(val_errors[feature_number_selected-1]))\n",
    "print(\"Выбранное количество признаков: {}\".format(feature_number_selected))"
   ]
  },
  {
   "cell_type": "markdown",
   "metadata": {},
   "source": [
    "Выбор лучшего набора признаков:"
   ]
  },
  {
   "cell_type": "code",
   "execution_count": null,
   "metadata": {},
   "outputs": [],
   "source": [
    "train_mse = list()\n",
    "\n",
    "for features in features_by_num[feature_number_selected-1]:\n",
    "    \n",
    "    lr_model = LinearRegression()\n",
    "    lr_model.fit(X_train[features], y_train)\n",
    "    train_mse.append(mean_squared_error(y_train, lr_model.predict(X_train[features])))\n",
    "\n",
    "feature_selected = features_by_num[feature_number_selected-1][np.argmin(train_mse)]\n",
    "print(\"Выбранные признаки: {}\".format(feature_selected))"
   ]
  },
  {
   "cell_type": "markdown",
   "metadata": {},
   "source": [
    "Построение модели с выбранными признаками:"
   ]
  },
  {
   "cell_type": "code",
   "execution_count": null,
   "metadata": {},
   "outputs": [],
   "source": [
    "lr_model = LinearRegression()\n",
    "lr_model.fit(X_train[feature_selected], y_train)\n",
    "\n",
    "train_mse = mean_squared_error(y_train, lr_model.predict(X_train[feature_selected]))\n",
    "test_mse = mean_squared_error(y_test, lr_model.predict(X_test[feature_selected]))\n",
    "\n",
    "print(\"Ошибка обучения: {}\".format(train_mse))\n",
    "print(\"Ошибка тестирования: {}\".format(test_mse))"
   ]
  },
  {
   "cell_type": "code",
   "execution_count": null,
   "metadata": {},
   "outputs": [],
   "source": [
    "y_test__pred = lr_model.predict(X_test[feature_selected])"
   ]
  },
  {
   "cell_type": "code",
   "execution_count": null,
   "metadata": {},
   "outputs": [],
   "source": [
    "plt.figure(\"1\",figsize=[12, 4])\n",
    "\n",
    "plt.subplot(1,3,1)\n",
    "\n",
    "plt.title(\"Prediction: TV-sales\")\n",
    "plt.plot(X_test[\"TV\"], y_test, \"ob\", label=\"True\")\n",
    "plt.plot(X_test[\"TV\"], y_test__pred, \"or\", label=\"Predicted\")\n",
    "plt.xlabel(\"$X_{TV}$\")\n",
    "plt.ylabel(\"$Y_{sales}$\")\n",
    "plt.legend()\n",
    "plt.grid(True)\n",
    "\n",
    "\n",
    "plt.subplot(1,3,2)\n",
    "plt.title(\"Prediction: radio-sales\")\n",
    "\n",
    "plt.plot(X_test[\"radio\"], y_test, \"ob\", label=\"True\")\n",
    "plt.plot(X_test[\"radio\"], y_test__pred, \"or\", label=\"Predicted\")\n",
    "plt.xlabel(\"$X_{radio}$\")\n",
    "plt.ylabel(\"$Y_{sales}$\")\n",
    "plt.legend()\n",
    "plt.grid(True)\n",
    "\n",
    "plt.subplot(1,3,3)\n",
    "plt.title(\"Observation vs Prediction\")\n",
    "plt.scatter(y_test__pred, y_test, color=\"slategrey\")\n",
    "xlim = plt.gca().get_xlim() \n",
    "plt.plot(xlim, xlim, '--', color=\"grey\")\n",
    "plt.xlim(xlim) \n",
    "plt.xlabel(\"$\\\\bar{y}$\")\n",
    "plt.ylabel(\"$y$\")\n",
    "plt.grid(True)\n",
    "\n",
    "plt.tight_layout()\n",
    "\n",
    "plt.show()"
   ]
  },
  {
   "cell_type": "markdown",
   "metadata": {},
   "source": [
    "<a name=\"5\"></a>\n",
    "<div style=\"display:table; width:100%; padding-top:10px; padding-bottom:10px; border-bottom:1px solid lightgrey\">\n",
    "    <div style=\"display:table-row\">\n",
    "        <div style=\"display:table-cell; width:80%; font-size:16pt; font-weight:bold\">5. Подход с постепенным уменьшением количества признаков</div>\n",
    "    \t<div style=\"display:table-cell; width:20%; text-align:center; background-color:whitesmoke; border:1px solid lightgrey\"><a href=\"#0\">К содержанию</a></div>\n",
    "    </div>\n",
    "</div>"
   ]
  },
  {
   "cell_type": "markdown",
   "metadata": {},
   "source": [
    "#### Уменьшение до заданного количества признаков"
   ]
  },
  {
   "cell_type": "code",
   "execution_count": null,
   "metadata": {},
   "outputs": [],
   "source": [
    "from sklearn.goo import (\n",
    "    RFE, \n",
    "    RFECV\n",
    ")"
   ]
  },
  {
   "cell_type": "code",
   "execution_count": null,
   "metadata": {},
   "outputs": [],
   "source": [
    "# New in version 0.24\n",
    "from sklearn.feature_selection import SequentialFeatureSelector"
   ]
  },
  {
   "cell_type": "code",
   "execution_count": null,
   "metadata": {},
   "outputs": [],
   "source": [
    "lr_model = LinearRegression(fit_intercept=True)"
   ]
  },
  {
   "cell_type": "markdown",
   "metadata": {},
   "source": [
    "*Два признака*"
   ]
  },
  {
   "cell_type": "code",
   "execution_count": null,
   "metadata": {},
   "outputs": [],
   "source": [
    "rfe = RFE(estimator=lr_model, n_features_to_select=2, step=1)\n",
    "rfe.fit(X_train, y_train)"
   ]
  },
  {
   "cell_type": "markdown",
   "metadata": {},
   "source": [
    "Ранг (важность) признаков:"
   ]
  },
  {
   "cell_type": "code",
   "execution_count": null,
   "metadata": {},
   "outputs": [],
   "source": [
    "rfe.ranking_"
   ]
  },
  {
   "cell_type": "markdown",
   "metadata": {},
   "source": [
    "Выбранные признаки:"
   ]
  },
  {
   "cell_type": "code",
   "execution_count": null,
   "metadata": {},
   "outputs": [],
   "source": [
    "feature_selected = list(X_COLUMNS[indx] for indx, state in enumerate(rfe.support_) if state)\n",
    "feature_selected"
   ]
  },
  {
   "cell_type": "markdown",
   "metadata": {},
   "source": [
    "Обучение и тестирование модели с выбранными признаками:"
   ]
  },
  {
   "cell_type": "code",
   "execution_count": null,
   "metadata": {},
   "outputs": [],
   "source": [
    "lr_model = LinearRegression()\n",
    "lr_model.fit(X_train[feature_selected], y_train)\n",
    "\n",
    "train_mse = mean_squared_error(y_train, lr_model.predict(X_train[feature_selected]))\n",
    "test_mse = mean_squared_error(y_test, lr_model.predict(X_test[feature_selected]))\n",
    "\n",
    "print(\"Ошибка обучения: {}\".format(train_mse))\n",
    "print(\"Ошибка тестирования: {}\".format(test_mse))"
   ]
  },
  {
   "cell_type": "code",
   "execution_count": null,
   "metadata": {},
   "outputs": [],
   "source": [
    "y_test__pred = lr_model.predict(X_test[feature_selected])"
   ]
  },
  {
   "cell_type": "code",
   "execution_count": null,
   "metadata": {},
   "outputs": [],
   "source": [
    "plt.figure(\"1\",figsize=[12, 4])\n",
    "\n",
    "plt.subplot(1,3,1)\n",
    "\n",
    "plt.title(\"Prediction: TV-sales\")\n",
    "plt.plot(X_test[\"TV\"], y_test, \"ob\", label=\"True\")\n",
    "plt.plot(X_test[\"TV\"], lr_model.predict(X_test[feature_selected]), \"or\", label=\"Predicted\")\n",
    "plt.xlabel(\"$X_{TV}$\")\n",
    "plt.ylabel(\"$Y_{sales}$\")\n",
    "plt.legend()\n",
    "plt.grid(True)\n",
    "\n",
    "\n",
    "plt.subplot(1,3,2)\n",
    "plt.title(\"Prediction: radio-sales\")\n",
    "\n",
    "plt.plot(X_test[\"radio\"], y_test, \"ob\", label=\"True\")\n",
    "plt.plot(X_test[\"radio\"], lr_model.predict(X_test[feature_selected]), \"or\", label=\"Predicted\")\n",
    "plt.xlabel(\"$X_{radio}$\")\n",
    "plt.ylabel(\"$Y_{sales}$\")\n",
    "plt.legend()\n",
    "plt.grid(True)\n",
    "\n",
    "plt.subplot(1,3,3)\n",
    "plt.title(\"Observation vs Prediction\")\n",
    "plt.scatter(y_test__pred, y_test, color=\"slategrey\")\n",
    "xlim = plt.gca().get_xlim() \n",
    "plt.plot(xlim, xlim, '--', color=\"grey\")\n",
    "plt.xlim(xlim) \n",
    "plt.xlabel(\"$\\\\bar{y}$\")\n",
    "plt.ylabel(\"$y$\")\n",
    "plt.grid(True)\n",
    "\n",
    "plt.tight_layout()\n",
    "\n",
    "plt.show()"
   ]
  },
  {
   "cell_type": "markdown",
   "metadata": {},
   "source": [
    "*Один признак*"
   ]
  },
  {
   "cell_type": "code",
   "execution_count": null,
   "metadata": {},
   "outputs": [],
   "source": [
    "rfe = RFE(estimator=lr_model, n_features_to_select=1, step=1)\n",
    "rfe.fit(X_train, y_train)\n",
    "feature_selected = list(X_COLUMNS[indx] for indx, state in enumerate(rfe.support_) if state)\n",
    "\n",
    "print(\"Выбранные признаки: {}\".format(feature_selected))\n",
    "\n",
    "lr_model = LinearRegression()\n",
    "lr_model.fit(X_train[feature_selected], y_train)\n",
    "\n",
    "train_mse = mean_squared_error(y_train, lr_model.predict(X_train[feature_selected]))\n",
    "test_mse = mean_squared_error(y_test, lr_model.predict(X_test[feature_selected]))\n",
    "\n",
    "print(\"Ошибка обучения: {}\".format(train_mse))\n",
    "print(\"Ошибка тестирования: {}\".format(test_mse))\n",
    "\n",
    "plt.figure(\"1\",figsize=[8, 4])\n",
    "\n",
    "plt.subplot(1,2,1)\n",
    "plt.title(\"Prediction: radio-sales\")\n",
    "\n",
    "plt.plot(X_test[\"radio\"], y_test, \"ob\", label=\"True\")\n",
    "plt.plot(X_test[\"radio\"], lr_model.predict(X_test[feature_selected]), \"or\", label=\"Predicted\")\n",
    "plt.xlabel(\"$X_{radio}$\")\n",
    "plt.ylabel(\"$Y_{sales}$\")\n",
    "plt.legend()\n",
    "plt.grid(True)\n",
    "\n",
    "plt.subplot(1,2,2)\n",
    "plt.title(\"Observation vs Prediction\")\n",
    "plt.scatter(y_test__pred, y_test, color=\"slategrey\")\n",
    "xlim = plt.gca().get_xlim() \n",
    "plt.plot(xlim, xlim, '--', color=\"grey\")\n",
    "plt.xlim(xlim) \n",
    "plt.xlabel(\"$\\\\bar{y}$\")\n",
    "plt.ylabel(\"$y$\")\n",
    "plt.grid(True)\n",
    "\n",
    "plt.tight_layout()\n",
    "\n",
    "plt.show()"
   ]
  },
  {
   "cell_type": "markdown",
   "metadata": {},
   "source": [
    "#### Backward Stepwise Selection"
   ]
  },
  {
   "cell_type": "code",
   "execution_count": null,
   "metadata": {},
   "outputs": [],
   "source": [
    "# TODO"
   ]
  },
  {
   "cell_type": "markdown",
   "metadata": {},
   "source": [
    "<a name=\"6\"></a>\n",
    "<div style=\"display:table; width:100%; padding-top:10px; padding-bottom:10px; border-bottom:1px solid lightgrey\">\n",
    "    <div style=\"display:table-row\">\n",
    "        <div style=\"display:table-cell; width:80%; font-size:16pt; font-weight:bold\">6. Источники</div>\n",
    "    \t<div style=\"display:table-cell; width:20%; text-align:center; background-color:whitesmoke; border:1px solid lightgrey\"><a href=\"#0\">К содержанию</a></div>\n",
    "    </div>\n",
    "</div>"
   ]
  },
  {
   "cell_type": "markdown",
   "metadata": {},
   "source": [
    "- [Sklearn: Feature selection](https://scikit-learn.org/stable/modules/feature_selection.html)\n",
    "- Chapter 6. Linear Model Selection and Regularization // An Introduction to Statistical Learning by Gareth James, Daniela Witten, Trevor Hastie, Robert Tibshir. pp. 203–264. URL: http://faculty.marshall.usc.edu/gareth-james/ISL/"
   ]
  },
  {
   "cell_type": "code",
   "execution_count": null,
   "metadata": {},
   "outputs": [],
   "source": []
  }
 ],
 "metadata": {
  "kernelspec": {
   "display_name": "Python 3",
   "language": "python",
   "name": "python3"
  },
  "language_info": {
   "codemirror_mode": {
    "name": "ipython",
    "version": 3
   },
   "file_extension": ".py",
   "mimetype": "text/x-python",
   "name": "python",
   "nbconvert_exporter": "python",
   "pygments_lexer": "ipython3",
   "version": "3.7.3"
  }
 },
 "nbformat": 4,
 "nbformat_minor": 2
}
