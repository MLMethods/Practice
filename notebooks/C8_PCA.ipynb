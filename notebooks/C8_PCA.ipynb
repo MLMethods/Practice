{
 "cells": [
  {
   "cell_type": "markdown",
   "metadata": {},
   "source": [
    "# СЕМИНАР. Метод главных компонент PCA\n",
    "---\n",
    "Папулин С.Ю. (papulin.study@yandex.ru)"
   ]
  },
  {
   "cell_type": "markdown",
   "metadata": {},
   "source": [
    "<a name=\"0\"></a>\n",
    "<div><span style=\"font-size:14pt; font-weight:bold\">Содержание</span>\n",
    "    <ol>\n",
    "        <li><a href=\"#1\">Собственные числа и собственные векторы</a></li>\n",
    "        <li><a href=\"#2\">Метод главных компонент (PCA)</a></li>\n",
    "        <li><a href=\"#3\">Уменьшение размерности при классификации</a>\n",
    "        <li><a href=\"#4\">Уменьшение размерности для визуализации</a>\n",
    "        <li><a href=\"#5\">Сжатие данных</a>    \n",
    "        <li><a href=\"#6\">Источники</a>\n",
    "        </li>\n",
    "    </ol>\n",
    "</div>"
   ]
  },
  {
   "cell_type": "markdown",
   "metadata": {},
   "source": [
    "<p><b>Подключение библиотек</b></p>"
   ]
  },
  {
   "cell_type": "code",
   "execution_count": null,
   "metadata": {},
   "outputs": [],
   "source": [
    "import numpy as np\n",
    "from numpy import linalg"
   ]
  },
  {
   "cell_type": "code",
   "execution_count": null,
   "metadata": {},
   "outputs": [],
   "source": [
    "import matplotlib.pyplot as plt\n",
    "%matplotlib inline"
   ]
  },
  {
   "cell_type": "code",
   "execution_count": null,
   "metadata": {},
   "outputs": [],
   "source": [
    "from sklearn.decomposition import PCA"
   ]
  },
  {
   "cell_type": "code",
   "execution_count": null,
   "metadata": {},
   "outputs": [],
   "source": [
    "from sklearn.linear_model import LogisticRegression"
   ]
  },
  {
   "cell_type": "markdown",
   "metadata": {},
   "source": [
    "<a name=\"1\"></a>\n",
    "<div style=\"display:table; width:100%; padding-top:10px; padding-bottom:10px; border-bottom:1px solid lightgrey\">\n",
    "    <div style=\"display:table-row\">\n",
    "        <div style=\"display:table-cell; width:80%; font-size:14pt; font-weight:bold\">1. Собственные числа и собственные векторы</div>\n",
    "    \t<div style=\"display:table-cell; width:20%; text-align:center; background-color:whitesmoke; border:1px solid lightgrey\"><a href=\"#0\">К содержанию</a></div>\n",
    "    </div>\n",
    "</div>"
   ]
  },
  {
   "cell_type": "markdown",
   "metadata": {},
   "source": [
    "<p><b>Исходные данные</b></p>"
   ]
  },
  {
   "cell_type": "markdown",
   "metadata": {},
   "source": [
    "|$X_1$|$X_2$|$Y$|\n",
    "|-|-|-|\n",
    "|1|2|0|\n",
    "|2|3|0|\n",
    "|3|5|0|\n",
    "|4|2|0|\n",
    "|4|5|1|\n",
    "|6|4|1|\n",
    "|7|6|1|\n",
    "|8|5|1|"
   ]
  },
  {
   "cell_type": "code",
   "execution_count": null,
   "metadata": {},
   "outputs": [],
   "source": [
    "x1 = np.array([1,2,3,4,4,6,7,8])\n",
    "x2 = np.array([2,3,5,2,5,4,6,5])\n",
    "y  = np.array([0,0,0,0,1,1,1,1])"
   ]
  },
  {
   "cell_type": "code",
   "execution_count": null,
   "metadata": {},
   "outputs": [],
   "source": [
    "X = np.vstack((x1, x2))\n",
    "X"
   ]
  },
  {
   "cell_type": "markdown",
   "metadata": {},
   "source": [
    "<p>График</p>"
   ]
  },
  {
   "cell_type": "code",
   "execution_count": null,
   "metadata": {},
   "outputs": [],
   "source": [
    "plt.figure(figsize=[4,4])\n",
    "plt.scatter(X[0,:], X[1,:], c=y, cmap=plt.cm.coolwarm)\n",
    "plt.xticks(np.arange(0, 10, 1))\n",
    "plt.xlim([0,9])\n",
    "plt.ylim([0,9])\n",
    "plt.title(\"Initial Data\")\n",
    "plt.xlabel(\"$X_1$\")\n",
    "plt.ylabel(\"$X_2$\")\n",
    "plt.grid(True)\n",
    "plt.tight_layout()\n",
    "plt.show()"
   ]
  },
  {
   "cell_type": "markdown",
   "metadata": {},
   "source": [
    "<p><b>Среднее значение</b></p>"
   ]
  },
  {
   "cell_type": "code",
   "execution_count": null,
   "metadata": {},
   "outputs": [],
   "source": [
    "x1_mean = np.mean(X[0,:])\n",
    "x2_mean = np.mean(X[1,:])\n",
    "x1_mean, x2_mean"
   ]
  },
  {
   "cell_type": "markdown",
   "metadata": {},
   "source": [
    "<p><b>Дисперсия</b></p>"
   ]
  },
  {
   "cell_type": "code",
   "execution_count": null,
   "metadata": {},
   "outputs": [],
   "source": [
    "x1_var = np.var(X[0,:], ddof=1)\n",
    "x2_var = np.var(X[1,:], ddof=1)\n",
    "x1_var, x2_var"
   ]
  },
  {
   "cell_type": "markdown",
   "metadata": {},
   "source": [
    "<p><b>Вычисление ковариационной матрицы</b></p>"
   ]
  },
  {
   "cell_type": "code",
   "execution_count": null,
   "metadata": {},
   "outputs": [],
   "source": [
    "cov_matrix = np.cov(X, ddof=1)\n",
    "cov_matrix"
   ]
  },
  {
   "cell_type": "markdown",
   "metadata": {},
   "source": [
    "<p><b>Вычисление собственных чисел и векторов</b></p>"
   ]
  },
  {
   "cell_type": "code",
   "execution_count": null,
   "metadata": {},
   "outputs": [],
   "source": [
    "eigen_values, eigen_vectors = linalg.eig(cov_matrix)"
   ]
  },
  {
   "cell_type": "code",
   "execution_count": null,
   "metadata": {},
   "outputs": [],
   "source": [
    "eigen_values"
   ]
  },
  {
   "cell_type": "markdown",
   "metadata": {},
   "source": [
    "<p>Собственные векторы</p>"
   ]
  },
  {
   "cell_type": "code",
   "execution_count": null,
   "metadata": {},
   "outputs": [],
   "source": [
    "eigen_vectors"
   ]
  },
  {
   "cell_type": "markdown",
   "metadata": {},
   "source": [
    "<p>Первый собственный вектор</p>"
   ]
  },
  {
   "cell_type": "code",
   "execution_count": null,
   "metadata": {},
   "outputs": [],
   "source": [
    "v1 = eigen_vectors[:,0]\n",
    "v1"
   ]
  },
  {
   "cell_type": "markdown",
   "metadata": {},
   "source": [
    "<p>Второй собственный вектор</p>"
   ]
  },
  {
   "cell_type": "code",
   "execution_count": null,
   "metadata": {},
   "outputs": [],
   "source": [
    "v2 = eigen_vectors[:,1]\n",
    "v2"
   ]
  },
  {
   "cell_type": "markdown",
   "metadata": {},
   "source": [
    "**Построение графика направлений главных компонент**\n",
    "\n",
    "Вычисление направляющих собственных векторов"
   ]
  },
  {
   "cell_type": "markdown",
   "metadata": {},
   "source": [
    "<p><i>Способ 1</i></p>"
   ]
  },
  {
   "cell_type": "code",
   "execution_count": null,
   "metadata": {},
   "outputs": [],
   "source": [
    "xx = np.array([-6, 6])"
   ]
  },
  {
   "cell_type": "code",
   "execution_count": null,
   "metadata": {},
   "outputs": [],
   "source": [
    "t1 = v1.reshape(-1,1) @ xx.reshape(1,-1) + np.array([[x1_mean], [x2_mean]])\n",
    "t1"
   ]
  },
  {
   "cell_type": "code",
   "execution_count": null,
   "metadata": {},
   "outputs": [],
   "source": [
    "t2 = v2.reshape(-1,1) @ xx.reshape(1,-1) + np.array([[x1_mean], [x2_mean]])\n",
    "t2"
   ]
  },
  {
   "cell_type": "markdown",
   "metadata": {},
   "source": [
    "<p><i>Способ 2</i></p>"
   ]
  },
  {
   "cell_type": "code",
   "execution_count": null,
   "metadata": {},
   "outputs": [],
   "source": [
    "xx = np.array([0, 9])"
   ]
  },
  {
   "cell_type": "code",
   "execution_count": null,
   "metadata": {},
   "outputs": [],
   "source": [
    "f_v1 = lambda x: v1[1]/v1[0] * (x - x1_mean) + x2_mean\n",
    "f_v2 = lambda x: v2[1]/v2[0] * (x - x1_mean) + x2_mean"
   ]
  },
  {
   "cell_type": "markdown",
   "metadata": {},
   "source": [
    "<p>Графики</p>"
   ]
  },
  {
   "cell_type": "code",
   "execution_count": null,
   "metadata": {},
   "outputs": [],
   "source": [
    "plt.figure(figsize=[8,4])\n",
    "\n",
    "plt.subplot(1, 2, 1)\n",
    "plt.title(\"Approach 1\")\n",
    "plt.scatter(X[0,:], X[1,:], c=y, cmap=plt.cm.coolwarm)\n",
    "plt.plot(t1[0,:], t1[1,:], \"--\", c=\"green\")\n",
    "plt.plot(t2[0,:], t2[1,:], \"--\", c=\"orange\")\n",
    "plt.arrow(x1_mean, x2_mean, v1[0], v1[1], linewidth=2, head_width=0.05, \n",
    "          head_length=0.1, color=\"black\", zorder=10)\n",
    "plt.arrow(x1_mean, x2_mean, v2[0], v2[1], linewidth=2, head_width=0.05, \n",
    "          head_length=0.1, color=\"black\", zorder=10)\n",
    "plt.xticks(np.arange(0, 10, 1))\n",
    "plt.xlim([0,9])\n",
    "plt.ylim([0,9])\n",
    "plt.xlabel(\"$X_1$\")\n",
    "plt.ylabel(\"$X_2$\")\n",
    "plt.grid(True)\n",
    "\n",
    "plt.subplot(1, 2, 2)\n",
    "plt.title(\"Approach 2\")\n",
    "plt.scatter(X[0,:], X[1,:], c=y, cmap=plt.cm.coolwarm)\n",
    "plt.plot(xx, f_v1(xx), \"--\", c=\"green\")\n",
    "plt.plot(xx, f_v2(xx), \"--\", c=\"orange\")\n",
    "plt.arrow(x1_mean, x2_mean, v1[0], v1[1], linewidth=2, head_width=0.05, \n",
    "          head_length=0.1, color=\"black\", zorder=10)\n",
    "plt.arrow(x1_mean, x2_mean, v2[0], v2[1], linewidth=2, head_width=0.05, \n",
    "          head_length=0.1, color=\"black\", zorder=10)\n",
    "plt.xticks(np.arange(0, 10, 1))\n",
    "plt.xlim([0,9])\n",
    "plt.ylim([0,9])\n",
    "plt.xlabel(\"$X_1$\")\n",
    "plt.ylabel(\"$X_2$\")\n",
    "plt.grid(True)\n",
    "\n",
    "plt.tight_layout()\n",
    "\n",
    "plt.show()"
   ]
  },
  {
   "cell_type": "markdown",
   "metadata": {},
   "source": [
    "<p><b>Преобразование исходных данных в новый базис</b></p>"
   ]
  },
  {
   "cell_type": "markdown",
   "metadata": {},
   "source": [
    "<p>Перенос центра координат</p>"
   ]
  },
  {
   "cell_type": "code",
   "execution_count": null,
   "metadata": {},
   "outputs": [],
   "source": [
    "X_adj = X - np.array([[x1_mean], [x2_mean]])\n",
    "X_adj"
   ]
  },
  {
   "cell_type": "markdown",
   "metadata": {},
   "source": [
    "<p>Преобразование</p>"
   ]
  },
  {
   "cell_type": "code",
   "execution_count": null,
   "metadata": {},
   "outputs": [],
   "source": [
    "eigen_vectors.T"
   ]
  },
  {
   "cell_type": "code",
   "execution_count": null,
   "metadata": {},
   "outputs": [],
   "source": [
    "X_new = eigen_vectors.T @ X_adj\n",
    "X_new"
   ]
  },
  {
   "cell_type": "markdown",
   "metadata": {},
   "source": [
    "<p>Проекция на первый собственный вектор</p>"
   ]
  },
  {
   "cell_type": "code",
   "execution_count": null,
   "metadata": {},
   "outputs": [],
   "source": [
    "x1_new = v1 @ X_adj\n",
    "x1_new"
   ]
  },
  {
   "cell_type": "markdown",
   "metadata": {},
   "source": [
    "<p>Проекция на второй собственный вектор</p>"
   ]
  },
  {
   "cell_type": "code",
   "execution_count": null,
   "metadata": {},
   "outputs": [],
   "source": [
    "x2_new = v2 @ X_adj\n",
    "x2_new"
   ]
  },
  {
   "cell_type": "markdown",
   "metadata": {},
   "source": [
    "<p>График</p>"
   ]
  },
  {
   "cell_type": "code",
   "execution_count": null,
   "metadata": {},
   "outputs": [],
   "source": [
    "plt.figure(figsize=[4,4])\n",
    "\n",
    "plt.axvline(x=0, lw=2, c=\"orange\", ls=\"--\")\n",
    "plt.axhline(y=0, lw=2, c=\"green\", ls=\"--\")\n",
    "#plt.scatter(x1_new, x2_new, c=y, cmap=plt.cm.coolwarm)\n",
    "plt.scatter(X_new[0,:], X_new[1,:], c=y, cmap=plt.cm.coolwarm)\n",
    "\n",
    "\n",
    "plt.grid(True)\n",
    "plt.title(\"New Coordinates along Eigenvectors\")\n",
    "plt.arrow(0, 0, 0, 1, linewidth=2, head_width=0.05, head_length=0.1, color=\"black\", zorder=10)\n",
    "plt.arrow(0, 0, 1, 0, linewidth=2, head_width=0.05, head_length=0.1, color=\"black\", zorder=10)\n",
    "\n",
    "plt.xticks(np.arange(-5, 5, 1))\n",
    "\n",
    "plt.xlim([-4.5,4.5])\n",
    "plt.ylim([-4.5,4.5])\n",
    "\n",
    "plt.xlabel(\"$Z_1$\")\n",
    "plt.ylabel(\"$Z_2$\")\n",
    "\n",
    "plt.tight_layout()\n",
    "\n",
    "plt.show()"
   ]
  },
  {
   "cell_type": "markdown",
   "metadata": {},
   "source": [
    "<p>Графики проекций</p>"
   ]
  },
  {
   "cell_type": "code",
   "execution_count": null,
   "metadata": {
    "scrolled": true
   },
   "outputs": [],
   "source": [
    "plt.figure(figsize=[8,4])\n",
    "\n",
    "plt.subplot(1, 2, 1)\n",
    "plt.axvline(x=0, lw=2, c=\"orange\", ls=\"--\")\n",
    "plt.axhline(y=0, lw=2, c=\"green\", ls=\"--\")\n",
    "plt.arrow(0, 0, 0, 1, linewidth=2, head_width=0.05, head_length=0.1, color=\"black\", zorder=2)\n",
    "plt.arrow(0, 0, 1, 0, linewidth=2, head_width=0.05, head_length=0.1, color=\"black\", zorder=2)\n",
    "plt.scatter(x1_new, x2_new, c=y, cmap=plt.cm.coolwarm, zorder=3)\n",
    "plt.vlines(x1_new, ymin=0, ymax=x2_new, colors=\"black\", linestyles=\"dotted\", lw=1, zorder=3)\n",
    "plt.plot(x1_new, np.zeros(len(x1_new)), \"x\", color=\"black\", lw=2, zorder=3)\n",
    "plt.title(\"Projection onto First Eigenvector\")\n",
    "plt.grid(True)\n",
    "plt.xticks(np.arange(-5, 5, 1))\n",
    "plt.xlim([-4.5,4.5])\n",
    "plt.ylim([-4.5,4.5])\n",
    "plt.xlabel(\"$Z_1$\")\n",
    "plt.ylabel(\"$Z_2$\")\n",
    "\n",
    "plt.subplot(1, 2, 2)\n",
    "plt.axvline(x=0, lw=2, c=\"orange\", ls=\"--\")\n",
    "plt.axhline(y=0, lw=2, c=\"green\", ls=\"--\")\n",
    "plt.arrow(0, 0, 0, 1, linewidth=2, head_width=0.05, head_length=0.1, color=\"black\", zorder=2)\n",
    "plt.arrow(0, 0, 1, 0, linewidth=2, head_width=0.05, head_length=0.1, color=\"black\", zorder=2)\n",
    "plt.scatter(x1_new, x2_new, c=y, cmap=plt.cm.coolwarm, zorder=3)\n",
    "plt.hlines(x2_new, xmin=0, xmax=x1_new, colors=\"black\", linestyles=\"dotted\", lw=1, zorder=3)\n",
    "plt.plot(np.zeros(len(x2_new)), x2_new, \"x\", color=\"black\", lw=2, zorder=3)\n",
    "plt.title(\"Projection onto Second Eigenvector\")\n",
    "plt.grid(True)\n",
    "plt.xticks(np.arange(-5, 5, 1))\n",
    "plt.xlim([-4.5,4.5])\n",
    "plt.ylim([-4.5,4.5])\n",
    "plt.xlabel(\"$Z_1$\")\n",
    "plt.ylabel(\"$Z_2$\")\n",
    "\n",
    "plt.tight_layout()\n",
    "\n",
    "plt.show()"
   ]
  },
  {
   "cell_type": "markdown",
   "metadata": {},
   "source": [
    "Доля объяснимой дисперсии при выборе первой главной компоненты:"
   ]
  },
  {
   "cell_type": "code",
   "execution_count": null,
   "metadata": {},
   "outputs": [],
   "source": [
    "eigen_values[:1].sum()/eigen_values.sum()"
   ]
  },
  {
   "cell_type": "markdown",
   "metadata": {},
   "source": [
    "Ковариационная матрица преобразованных данных"
   ]
  },
  {
   "cell_type": "code",
   "execution_count": null,
   "metadata": {},
   "outputs": [],
   "source": [
    "np.cov(X_new, ddof=1)"
   ]
  },
  {
   "cell_type": "markdown",
   "metadata": {},
   "source": [
    "<p><b>Восстановление преобразованных данных в исходную систему координат</b></p>"
   ]
  },
  {
   "cell_type": "markdown",
   "metadata": {},
   "source": [
    "<p>Преобразованные данные в 1D</p>"
   ]
  },
  {
   "cell_type": "code",
   "execution_count": null,
   "metadata": {},
   "outputs": [],
   "source": [
    "x1_new"
   ]
  },
  {
   "cell_type": "markdown",
   "metadata": {},
   "source": [
    "<p>Собственный вектор, использованный при преобразовании</p>"
   ]
  },
  {
   "cell_type": "code",
   "execution_count": null,
   "metadata": {},
   "outputs": [],
   "source": [
    "v1"
   ]
  },
  {
   "cell_type": "markdown",
   "metadata": {},
   "source": [
    "<p>Восстановление в 2D</p>"
   ]
  },
  {
   "cell_type": "markdown",
   "metadata": {},
   "source": [
    "<p><i>Преобразование в матричный вид</i></p>"
   ]
  },
  {
   "cell_type": "code",
   "execution_count": null,
   "metadata": {},
   "outputs": [],
   "source": [
    "v1_mat_T = v1.reshape(-1, 1)\n",
    "v1_mat_T"
   ]
  },
  {
   "cell_type": "code",
   "execution_count": null,
   "metadata": {},
   "outputs": [],
   "source": [
    "X1_mat = x1_new.reshape(1, -1)\n",
    "X1_mat"
   ]
  },
  {
   "cell_type": "code",
   "execution_count": null,
   "metadata": {},
   "outputs": [],
   "source": [
    "v1_mat_T.shape, X1_mat.shape"
   ]
  },
  {
   "cell_type": "markdown",
   "metadata": {},
   "source": [
    "<p><i>Восстановление</i></p>"
   ]
  },
  {
   "cell_type": "code",
   "execution_count": null,
   "metadata": {},
   "outputs": [],
   "source": [
    "X_init = v1_mat_T @ X1_mat + np.array([[x1_mean], [x2_mean]])\n",
    "X_init"
   ]
  },
  {
   "cell_type": "markdown",
   "metadata": {},
   "source": [
    "<p>Графики</p>"
   ]
  },
  {
   "cell_type": "code",
   "execution_count": null,
   "metadata": {},
   "outputs": [],
   "source": [
    "plt.figure(figsize=[8,4])\n",
    "\n",
    "plt.subplot(1, 2, 1)\n",
    "plt.scatter(X[0,:], X[1,:], c=y, cmap=plt.cm.coolwarm)\n",
    "plt.xticks(np.arange(0, 10, 1))\n",
    "plt.xlim([0,9])\n",
    "plt.ylim([0,9])\n",
    "plt.title(\"Initial\")\n",
    "plt.xlabel(\"$X_1$\")\n",
    "plt.ylabel(\"$X_2$\")\n",
    "plt.grid(True)\n",
    "\n",
    "plt.subplot(1, 2, 2)\n",
    "plt.plot(xx, f_v1(xx), \"--\", c=\"green\")\n",
    "plt.scatter(X_init[0,:], X_init[1,:], c=y, cmap=plt.cm.coolwarm, zorder=3)\n",
    "plt.xticks(np.arange(0, 10, 1))\n",
    "plt.xlim([0,9])\n",
    "plt.ylim([0,9])\n",
    "plt.title(\"Reconstructed\")\n",
    "plt.xlabel(\"$X_1$\")\n",
    "plt.ylabel(\"$X_2$\")\n",
    "plt.grid(True)\n",
    "\n",
    "plt.tight_layout()\n",
    "\n",
    "plt.show()"
   ]
  },
  {
   "cell_type": "markdown",
   "metadata": {},
   "source": [
    "<a name=\"2\"></a>\n",
    "<div style=\"display:table; width:100%; padding-top:10px; padding-bottom:10px; border-bottom:1px solid lightgrey\">\n",
    "    <div style=\"display:table-row\">\n",
    "        <div style=\"display:table-cell; width:80%; font-size:14pt; font-weight:bold\">2. Метод главных компонент (PCA)</div>\n",
    "    \t<div style=\"display:table-cell; width:20%; text-align:center; background-color:whitesmoke; border:1px solid lightgrey\"><a href=\"#0\">К содержанию</a></div>\n",
    "    </div>\n",
    "</div>"
   ]
  },
  {
   "cell_type": "code",
   "execution_count": null,
   "metadata": {},
   "outputs": [],
   "source": [
    "from sklearn.decomposition import PCA"
   ]
  },
  {
   "cell_type": "markdown",
   "metadata": {},
   "source": [
    "<p>Конфигурирование PCA с одной главной компонентой</p>"
   ]
  },
  {
   "cell_type": "code",
   "execution_count": null,
   "metadata": {},
   "outputs": [],
   "source": [
    "pca = PCA(n_components=1)\n",
    "pca"
   ]
  },
  {
   "cell_type": "markdown",
   "metadata": {},
   "source": [
    "<p>Выполнение PCA</p>"
   ]
  },
  {
   "cell_type": "code",
   "execution_count": null,
   "metadata": {},
   "outputs": [],
   "source": [
    "pca.fit(X.T)"
   ]
  },
  {
   "cell_type": "markdown",
   "metadata": {},
   "source": [
    "<p>Полученные параметры</p>"
   ]
  },
  {
   "cell_type": "markdown",
   "metadata": {},
   "source": [
    "<p><i>Среднее значение</i></p>"
   ]
  },
  {
   "cell_type": "code",
   "execution_count": null,
   "metadata": {},
   "outputs": [],
   "source": [
    "pca.mean_"
   ]
  },
  {
   "cell_type": "code",
   "execution_count": null,
   "metadata": {},
   "outputs": [],
   "source": [
    "x1_mean, x2_mean"
   ]
  },
  {
   "cell_type": "markdown",
   "metadata": {},
   "source": [
    "<p><i>Компоненты</i></p>"
   ]
  },
  {
   "cell_type": "code",
   "execution_count": null,
   "metadata": {},
   "outputs": [],
   "source": [
    "pca.components_"
   ]
  },
  {
   "cell_type": "code",
   "execution_count": null,
   "metadata": {},
   "outputs": [],
   "source": [
    "eigen_vectors  # при сравнении обратите внимание на знаки векторов"
   ]
  },
  {
   "cell_type": "markdown",
   "metadata": {},
   "source": [
    "<p><i>Дисперсия</i></p>"
   ]
  },
  {
   "cell_type": "code",
   "execution_count": null,
   "metadata": {},
   "outputs": [],
   "source": [
    "pca.explained_variance_"
   ]
  },
  {
   "cell_type": "code",
   "execution_count": null,
   "metadata": {},
   "outputs": [],
   "source": [
    "eigen_values"
   ]
  },
  {
   "cell_type": "code",
   "execution_count": null,
   "metadata": {},
   "outputs": [],
   "source": [
    "np.var(x1_new, ddof=1)"
   ]
  },
  {
   "cell_type": "code",
   "execution_count": null,
   "metadata": {},
   "outputs": [],
   "source": [
    "np.var(x2_new, ddof=1)"
   ]
  },
  {
   "cell_type": "code",
   "execution_count": null,
   "metadata": {},
   "outputs": [],
   "source": [
    "pca.explained_variance_ratio_"
   ]
  },
  {
   "cell_type": "markdown",
   "metadata": {},
   "source": [
    "<p>PCA преобразование 2D в 1D</p>"
   ]
  },
  {
   "cell_type": "markdown",
   "metadata": {},
   "source": [
    "<p><i>С использованием sklearn PCA</i></p>"
   ]
  },
  {
   "cell_type": "code",
   "execution_count": null,
   "metadata": {},
   "outputs": [],
   "source": [
    "X1_mat_pca = pca.transform(X.T)\n",
    "X1_mat_pca"
   ]
  },
  {
   "cell_type": "markdown",
   "metadata": {},
   "source": [
    "<p><i>Ранее полученный результат преобразования. Обратите внимание на знак</i></p>"
   ]
  },
  {
   "cell_type": "code",
   "execution_count": null,
   "metadata": {},
   "outputs": [],
   "source": [
    "X1_mat"
   ]
  },
  {
   "cell_type": "markdown",
   "metadata": {},
   "source": [
    "<p>Обратное преобразование из 1D в 2D</p>"
   ]
  },
  {
   "cell_type": "markdown",
   "metadata": {},
   "source": [
    "<p><i>С использованием метода inverse_transform</i></p>"
   ]
  },
  {
   "cell_type": "code",
   "execution_count": null,
   "metadata": {},
   "outputs": [],
   "source": [
    "X_2d_pca = pca.inverse_transform(X1_mat_pca)\n",
    "X_2d_pca"
   ]
  },
  {
   "cell_type": "markdown",
   "metadata": {},
   "source": [
    "<p><i>Формулой</i></p>"
   ]
  },
  {
   "cell_type": "code",
   "execution_count": null,
   "metadata": {},
   "outputs": [],
   "source": [
    "X_2d_pca = X1_mat_pca @ pca.components_ + pca.mean_\n",
    "X_2d_pca"
   ]
  },
  {
   "cell_type": "markdown",
   "metadata": {},
   "source": [
    "<p><i>Ранее полученный результат восстановления</i></p>"
   ]
  },
  {
   "cell_type": "code",
   "execution_count": null,
   "metadata": {},
   "outputs": [],
   "source": [
    "X_init"
   ]
  },
  {
   "cell_type": "markdown",
   "metadata": {},
   "source": [
    "<p>График</p>"
   ]
  },
  {
   "cell_type": "code",
   "execution_count": null,
   "metadata": {},
   "outputs": [],
   "source": [
    "xx = np.array([-6, 6]).reshape(-1,1)\n",
    "xy = pca.inverse_transform(xx)\n",
    "xy"
   ]
  },
  {
   "cell_type": "code",
   "execution_count": null,
   "metadata": {},
   "outputs": [],
   "source": [
    "plt.figure(figsize=[4,4])\n",
    "\n",
    "plt.scatter(X_2d_pca[:,0], X_2d_pca[:,1], s=80, c=\"blue\", label=\"PCA\")\n",
    "plt.scatter(X[0,:], X[1,:], c=\"black\", label=\"Initial\")\n",
    "plt.scatter(X_init[0,:], X_init[1,:], c=\"red\", zorder=3, label=\"Eigenvectors\")\n",
    "plt.plot(xy[:,0], xy[:,1], \"--\", c=\"green\")\n",
    "plt.xticks(np.arange(0, 10, 1))\n",
    "plt.xlim([0,9])\n",
    "plt.ylim([0,9])\n",
    "plt.title(\"Initial\")\n",
    "plt.xlabel(\"$X_1$\")\n",
    "plt.ylabel(\"$X_2$\")\n",
    "plt.legend()\n",
    "plt.grid(True)\n",
    "\n",
    "plt.tight_layout()\n",
    "\n",
    "plt.show()"
   ]
  },
  {
   "cell_type": "markdown",
   "metadata": {},
   "source": [
    "<a name=\"3\"></a>\n",
    "<div style=\"display:table; width:100%; padding-top:10px; padding-bottom:10px; border-bottom:1px solid lightgrey\">\n",
    "    <div style=\"display:table-row\">\n",
    "        <div style=\"display:table-cell; width:80%; font-size:14pt; font-weight:bold\">3. Уменьшение размерности при классификации</div>\n",
    "    \t<div style=\"display:table-cell; width:20%; text-align:center; background-color:whitesmoke; border:1px solid lightgrey\"><a href=\"#0\">К содержанию</a></div>\n",
    "    </div>\n",
    "</div>"
   ]
  },
  {
   "cell_type": "markdown",
   "metadata": {},
   "source": [
    "<p><b>Пример с логистической регрессией</b></p>"
   ]
  },
  {
   "cell_type": "markdown",
   "metadata": {},
   "source": [
    "<p>Исходные данные</p>"
   ]
  },
  {
   "cell_type": "code",
   "execution_count": null,
   "metadata": {},
   "outputs": [],
   "source": [
    "x1 = np.array([1,2,3,4,4,6,7,8])\n",
    "x2 = np.array([2,3,5,2,5,4,6,5])\n",
    "X = np.vstack((x1, x2))\n",
    "\n",
    "y1 = np.array([0,0,0,0,1,1,1,1])\n",
    "y2 = np.array([0,0,0,0,1,0,1,1])"
   ]
  },
  {
   "cell_type": "markdown",
   "metadata": {},
   "source": [
    "<p>Графики</p>"
   ]
  },
  {
   "cell_type": "code",
   "execution_count": null,
   "metadata": {},
   "outputs": [],
   "source": [
    "plt.figure(figsize=[12,6])\n",
    "\n",
    "plt.subplot(1, 2, 1)\n",
    "\n",
    "plt.scatter(X[0,:], X[1,:], c=y1, cmap=plt.cm.coolwarm)\n",
    "plt.xlim([0,9])\n",
    "plt.ylim([0,9])\n",
    "plt.title(\"Initial Data 1\")\n",
    "plt.xlabel(\"$X_1$\")\n",
    "plt.ylabel(\"$X_2$\")\n",
    "plt.grid(True)\n",
    "\n",
    "plt.subplot(1, 2, 2)\n",
    "plt.scatter(X[0,:], X[1,:], c=y2, cmap=plt.cm.coolwarm)\n",
    "plt.xlim([0,9])\n",
    "plt.ylim([0,9])\n",
    "plt.title(\"Initial Data 2\")\n",
    "plt.xlabel(\"$X_1$\")\n",
    "plt.ylabel(\"$X_2$\")\n",
    "plt.grid(True)\n",
    "\n",
    "\n",
    "plt.tight_layout()\n",
    "plt.show()"
   ]
  },
  {
   "cell_type": "markdown",
   "metadata": {},
   "source": [
    "<p>Обучение и тестирование для исходных данных 1</p>"
   ]
  },
  {
   "cell_type": "code",
   "execution_count": null,
   "metadata": {},
   "outputs": [],
   "source": [
    "logReg = LogisticRegression(\n",
    "    penalty=\"l2\", fit_intercept=True, max_iter=100, \n",
    "    C=1e5, solver=\"lbfgs\", random_state=1234)\n",
    "logReg.fit(X.T, y1)\n",
    "accuracy_score_1 = logReg.score(X.T, y1)\n",
    "accuracy_score_1"
   ]
  },
  {
   "cell_type": "markdown",
   "metadata": {},
   "source": [
    "<p>Обучение и тестирование для исходных данных 2</p>"
   ]
  },
  {
   "cell_type": "code",
   "execution_count": null,
   "metadata": {},
   "outputs": [],
   "source": [
    "logReg.fit(X.T, y2)\n",
    "accuracy_score_2 = logReg.score(X.T, y2)\n",
    "accuracy_score_2"
   ]
  },
  {
   "cell_type": "markdown",
   "metadata": {},
   "source": [
    "<p><b>Уменьшение размерности до одного признака с использованием PCA</b></p>"
   ]
  },
  {
   "cell_type": "code",
   "execution_count": null,
   "metadata": {},
   "outputs": [],
   "source": [
    "pca = PCA(n_components=1)\n",
    "pca.fit(X.T)\n",
    "X1_mat_pca = pca.transform(X.T)\n",
    "X1_mat_pca"
   ]
  },
  {
   "cell_type": "markdown",
   "metadata": {},
   "source": [
    "<p>Обучение и тестирование для преобразованных данных 1</p>"
   ]
  },
  {
   "cell_type": "code",
   "execution_count": null,
   "metadata": {},
   "outputs": [],
   "source": [
    "logReg.fit(X1_mat_pca, y1)\n",
    "accuracy_score_pca_1 = logReg.score(X1_mat_pca, y1)\n",
    "accuracy_score_pca_1"
   ]
  },
  {
   "cell_type": "markdown",
   "metadata": {},
   "source": [
    "<p>Обучение и тестирование для преобразованных данных 2</p>"
   ]
  },
  {
   "cell_type": "code",
   "execution_count": null,
   "metadata": {},
   "outputs": [],
   "source": [
    "logReg.fit(X1_mat_pca, y2)\n",
    "accuracy_score_pca_2 = logReg.score(X1_mat_pca, y2)\n",
    "accuracy_score_pca_2"
   ]
  },
  {
   "cell_type": "markdown",
   "metadata": {},
   "source": [
    "<p><b>В чем проблема?</b><br> Почему получили такой результат?<br> Какая особенность PCA повлияла?</p>"
   ]
  },
  {
   "cell_type": "markdown",
   "metadata": {},
   "source": [
    "### Распознавание цифр"
   ]
  },
  {
   "cell_type": "code",
   "execution_count": null,
   "metadata": {},
   "outputs": [],
   "source": [
    "from sklearn import datasets"
   ]
  },
  {
   "cell_type": "code",
   "execution_count": null,
   "metadata": {},
   "outputs": [],
   "source": [
    "from sklearn.pipeline import Pipeline\n",
    "from sklearn.model_selection import GridSearchCV, KFold, train_test_split"
   ]
  },
  {
   "cell_type": "code",
   "execution_count": null,
   "metadata": {},
   "outputs": [],
   "source": [
    "RANDOM_STATE = 12345"
   ]
  },
  {
   "cell_type": "code",
   "execution_count": null,
   "metadata": {},
   "outputs": [],
   "source": [
    "# Загрузка исходных данных\n",
    "digits = datasets.load_digits()\n",
    "\n",
    "IMAGE_INDX = 3\n",
    "\n",
    "# Отображение одного изображения\n",
    "print(\"Image:\")\n",
    "plt.figure(figsize=[4, 4])\n",
    "plt.imshow(digits.images[IMAGE_INDX])\n",
    "plt.show()\n",
    "print(\"Feature matrix:\\n\", digits.images[IMAGE_INDX])\n",
    "print(\"\\nTarget value:\", digits.target[IMAGE_INDX])"
   ]
  },
  {
   "cell_type": "code",
   "execution_count": null,
   "metadata": {},
   "outputs": [],
   "source": [
    "X = digits.images.reshape(-1, 64)\n",
    "y_true = digits.target"
   ]
  },
  {
   "cell_type": "code",
   "execution_count": null,
   "metadata": {},
   "outputs": [],
   "source": [
    "# Разбиение данных на обучающее и тестовое множества\n",
    "X_train, X_test, y_train, y_test = train_test_split(\n",
    "    X, y_true, test_size=0.3, random_state=RANDOM_STATE)"
   ]
  },
  {
   "cell_type": "markdown",
   "metadata": {},
   "source": [
    "#### Базовая отметка"
   ]
  },
  {
   "cell_type": "code",
   "execution_count": null,
   "metadata": {},
   "outputs": [],
   "source": [
    "model = LogisticRegression(\n",
    "    penalty=\"l2\", \n",
    "    fit_intercept=True, \n",
    "    max_iter=200, \n",
    "    solver=\"newton-cg\",\n",
    "    multi_class=\"ovr\",\n",
    "    random_state=RANDOM_STATE\n",
    ")\n",
    "    \n",
    "model.fit(X_train, y_train)\n",
    "model.score(X_test, y_test)"
   ]
  },
  {
   "cell_type": "markdown",
   "metadata": {},
   "source": [
    "#### Выбор количества главных компонент"
   ]
  },
  {
   "cell_type": "markdown",
   "metadata": {},
   "source": [
    "Доля объяснимой дисперсии"
   ]
  },
  {
   "cell_type": "code",
   "execution_count": null,
   "metadata": {},
   "outputs": [],
   "source": [
    "# Доля объяснимой дисперсии для разного количества главных компонент\n",
    "ratios_per_component = (\n",
    "    PCA(n_components=X_train.shape[1])\n",
    "    .fit(X_train)\n",
    "    .explained_variance_ratio_\n",
    ")\n",
    "ratios = [ratios_per_component[:n].sum() for n in range(1, X_train.shape[1]+1)]"
   ]
  },
  {
   "cell_type": "code",
   "execution_count": null,
   "metadata": {},
   "outputs": [],
   "source": [
    "# График выбора количества главных компонент\n",
    "plt.figure(figsize=[6, 4])\n",
    "\n",
    "plt.subplot(1,1,1)\n",
    "plt.title(\"Dimension Reduction\")\n",
    "plt.plot(range(1, X_train.shape[1]+1), ratios, \"o-\")\n",
    "plt.xlabel(\"Components\")\n",
    "plt.ylabel(\"Explained Variance Ratio\")\n",
    "plt.grid(True)\n",
    "\n",
    "plt.show()"
   ]
  },
  {
   "cell_type": "code",
   "execution_count": null,
   "metadata": {},
   "outputs": [],
   "source": [
    "pipeline = Pipeline([\n",
    "    # Уменьшение размерности\n",
    "    (\"reduction\", PCA(n_components=20)), \n",
    "    # Классификация\n",
    "    (\"model\", LogisticRegression(\n",
    "        penalty=\"l2\", \n",
    "        fit_intercept=True, \n",
    "        max_iter=200, \n",
    "        solver=\"newton-cg\",\n",
    "        multi_class=\"ovr\",\n",
    "        random_state=RANDOM_STATE)\n",
    "    )\n",
    "])\n",
    "pipeline.fit(X_train, y_train)"
   ]
  },
  {
   "cell_type": "code",
   "execution_count": null,
   "metadata": {},
   "outputs": [],
   "source": [
    "# Проверка на тестовом множестве\n",
    "pipeline.score(X_test, y_test)"
   ]
  },
  {
   "cell_type": "markdown",
   "metadata": {},
   "source": [
    "Использование кросс-валидации"
   ]
  },
  {
   "cell_type": "code",
   "execution_count": null,
   "metadata": {},
   "outputs": [],
   "source": [
    "# Последовательность операций\n",
    "pipeline = Pipeline([\n",
    "    # Уменьшение размерности\n",
    "    (\"reduction\", PCA()), \n",
    "    # Классификация\n",
    "    (\"model\", LogisticRegression(\n",
    "        penalty=\"l2\", \n",
    "        fit_intercept=True, \n",
    "        max_iter=200, \n",
    "        solver=\"newton-cg\",\n",
    "        multi_class=\"ovr\",\n",
    "        random_state=RANDOM_STATE)\n",
    "    )\n",
    "])"
   ]
  },
  {
   "cell_type": "code",
   "execution_count": null,
   "metadata": {},
   "outputs": [],
   "source": [
    "# Инициализация делителя для кросс-валидации\n",
    "kf = KFold(n_splits=5, shuffle=True, random_state=RANDOM_STATE)"
   ]
  },
  {
   "cell_type": "code",
   "execution_count": null,
   "metadata": {
    "scrolled": true
   },
   "outputs": [],
   "source": [
    "# Количество главных компонент\n",
    "n_components = np.arange(5, 64, 5)\n",
    "\n",
    "# Сетка параметров\n",
    "param_grid = {\n",
    "    \"reduction__n_components\": n_components,\n",
    "}\n",
    "\n",
    "# Аргументы GridSearchCV\n",
    "grid_search_args = {\n",
    "    \"estimator\": pipeline,\n",
    "    \"param_grid\": param_grid,\n",
    "    \"cv\": kf,\n",
    "    \"scoring\": \"accuracy\",\n",
    "    \"return_train_score\": True\n",
    "}\n",
    "\n",
    "# Обучение\n",
    "grid_search = GridSearchCV(**grid_search_args)\n",
    "grid_search.fit(X_train, y_train)"
   ]
  },
  {
   "cell_type": "code",
   "execution_count": null,
   "metadata": {},
   "outputs": [],
   "source": [
    "# График выбора количества главных компонент\n",
    "plt.figure(figsize=[6, 4])\n",
    "\n",
    "plt.subplot(1,1,1)\n",
    "plt.title(\"Dimension Reduction\")\n",
    "plt.plot(n_components, grid_search.cv_results_[\"mean_test_score\"], \"o-\", label=\"Validation\")\n",
    "plt.plot(n_components, grid_search.cv_results_[\"mean_train_score\"], \"o-\", label=\"Train\")\n",
    "plt.xlabel(\"$Components$\")\n",
    "plt.ylabel(\"$Accuracy$\")\n",
    "plt.legend()\n",
    "plt.grid(True)\n",
    "\n",
    "plt.show()"
   ]
  },
  {
   "cell_type": "code",
   "execution_count": null,
   "metadata": {},
   "outputs": [],
   "source": [
    "# Лучшая модель\n",
    "print(\"Best params \\t=\", grid_search.best_params_)\n",
    "print(\"Test Accuracy \\t=\", grid_search.score(X_test, y_test))"
   ]
  },
  {
   "cell_type": "code",
   "execution_count": null,
   "metadata": {},
   "outputs": [],
   "source": [
    "# Проверка на тестовом множестве\n",
    "grid_search.score(X_test, y_test)"
   ]
  },
  {
   "cell_type": "markdown",
   "metadata": {},
   "source": [
    "<a name=\"4\"></a>\n",
    "<div style=\"display:table; width:100%; padding-top:10px; padding-bottom:10px; border-bottom:1px solid lightgrey\">\n",
    "    <div style=\"display:table-row\">\n",
    "        <div style=\"display:table-cell; width:80%; font-size:16pt; font-weight:bold\">4. Уменьшение размерности для визуализации</div>\n",
    "    \t<div style=\"display:table-cell; width:20%; text-align:center; background-color:whitesmoke; border:1px solid lightgrey\"><a href=\"#0\">К содержанию</a></div>\n",
    "    </div>\n",
    "</div>"
   ]
  },
  {
   "cell_type": "markdown",
   "metadata": {},
   "source": [
    "### 2D"
   ]
  },
  {
   "cell_type": "code",
   "execution_count": null,
   "metadata": {},
   "outputs": [],
   "source": [
    "X = digits.data  # матрица признаков\n",
    "y_true = digits.target  # целевые значения (цифры)\n",
    "\n",
    "# PCA трансформация с двумя компонентами\n",
    "X_transformed = PCA(n_components=2).fit_transform(X)"
   ]
  },
  {
   "cell_type": "code",
   "execution_count": null,
   "metadata": {},
   "outputs": [],
   "source": [
    "# Отображение всех наблюдений в новом пространстве\n",
    "plt.figure(figsize=[8, 6])\n",
    "plt.title(\"Visualization of digits using PCA transformation\")\n",
    "for i in range(10):\n",
    "    # Генерация цвета для класса\n",
    "    np.random.seed(i*15)\n",
    "    random_color = list(np.random.rand(3))\n",
    "    # Добавление прозрачности\n",
    "    random_color.append(0.5)\n",
    "    # Определение расположения центра для класса\n",
    "    class_center = X_transformed[y_true==i,:].mean(axis=0)\n",
    "    # Отображение данных класса\n",
    "    plt.scatter(X_transformed[y_true==i,0], X_transformed[y_true==i, 1], \n",
    "                color=random_color)\n",
    "    plt.scatter(*class_center, marker=\"o\", s=200, color=random_color[:3], \n",
    "                linewidth=4, edgecolors=\"black\", zorder=5, \n",
    "                label=i)\n",
    "plt.grid(True)\n",
    "leg = plt.legend(markerscale=1, fontsize=14)\n",
    "# Изменение ширины контура маркера\n",
    "for handler in leg.legend_handles:\n",
    "    handler.set_linewidth(1.0)\n",
    "plt.xlabel(\"$Z_1$\")\n",
    "plt.ylabel(\"$Z_2$\")\n",
    "plt.show()"
   ]
  },
  {
   "cell_type": "markdown",
   "metadata": {},
   "source": [
    "### 3D"
   ]
  },
  {
   "cell_type": "code",
   "execution_count": null,
   "metadata": {},
   "outputs": [],
   "source": [
    "# Вывод графика в отдельном окне\n",
    "%matplotlib qt"
   ]
  },
  {
   "cell_type": "code",
   "execution_count": null,
   "metadata": {},
   "outputs": [],
   "source": [
    "# PCA трансформация с двумя компонентами\n",
    "X_transformed = PCA(n_components=3).fit_transform(X)\n",
    "\n",
    "# Отображение всех наблюдений в новом пространстве\n",
    "fig = plt.figure(figsize=[8, 6])\n",
    "\n",
    "\"\"\"\n",
    "For new version of matplotlib\n",
    "\"\"\"\n",
    "ax = fig.add_subplot(1, 1, 1, projection=\"3d\")\n",
    "\n",
    "ax.set_title(\"Visualization of digits using PCA transformation\")\n",
    "\n",
    "for i in range(10):\n",
    "    # Генерация цвета для класса\n",
    "    np.random.seed(i*15)\n",
    "    random_color = list(np.random.rand(3))\n",
    "    # Добавление прозрачности\n",
    "    random_color.append(0.5)\n",
    "    # Определение расположения центра для класса\n",
    "    class_center = X_transformed[y_true==i,:].mean(axis=0)\n",
    "    # Отображение данных класса\n",
    "    ax.scatter(X_transformed[y_true==i, 0], X_transformed[y_true==i, 1], X_transformed[y_true==i, 2],\n",
    "                color=random_color)\n",
    "    ax.scatter(*class_center, marker=\"o\", s=200, color=random_color[:3], \n",
    "                linewidth=4, edgecolors=\"black\", zorder=5, \n",
    "                label=i)\n",
    "ax.grid(True)\n",
    "leg = ax.legend(markerscale=1, fontsize=14, loc=2)\n",
    "# Изменение ширины контура маркера\n",
    "for handler in leg.legend_handles:\n",
    "    handler.set_linewidth(1.0)\n",
    "ax.set_xlabel(\"$X_1$\")\n",
    "ax.set_ylabel(\"$X_2$\")\n",
    "ax.set_zlabel(\"$X_3$\")\n",
    "plt.show()"
   ]
  },
  {
   "cell_type": "markdown",
   "metadata": {},
   "source": [
    "<a name=\"5\"></a>\n",
    "<div style=\"display:table; width:100%; padding-top:10px; padding-bottom:10px; border-bottom:1px solid lightgrey\">\n",
    "    <div style=\"display:table-row\">\n",
    "        <div style=\"display:table-cell; width:80%; font-size:16pt; font-weight:bold\">5. Сжатие данных</div>\n",
    "    \t<div style=\"display:table-cell; width:20%; text-align:center; background-color:whitesmoke; border:1px solid lightgrey\"><a href=\"#0\">К содержанию</a></div>\n",
    "    </div>\n",
    "</div>"
   ]
  },
  {
   "cell_type": "markdown",
   "metadata": {},
   "source": [
    "### Загрузка изображения"
   ]
  },
  {
   "cell_type": "code",
   "execution_count": null,
   "metadata": {},
   "outputs": [],
   "source": [
    "# Вывод графика в отдельном окне\n",
    "%matplotlib inline"
   ]
  },
  {
   "cell_type": "code",
   "execution_count": null,
   "metadata": {},
   "outputs": [],
   "source": [
    "from skimage import io\n",
    "from skimage.color import rgb2gray"
   ]
  },
  {
   "cell_type": "code",
   "execution_count": null,
   "metadata": {},
   "outputs": [],
   "source": [
    "IMAGE_URL = \"https://s0.rbk.ru/v6_top_pics/resized/1440xH/media/img/2/07/755821895761072.jpg\""
   ]
  },
  {
   "cell_type": "code",
   "execution_count": null,
   "metadata": {},
   "outputs": [],
   "source": [
    "image = io.imread(IMAGE_URL)\n",
    "image.shape"
   ]
  },
  {
   "cell_type": "code",
   "execution_count": null,
   "metadata": {},
   "outputs": [],
   "source": [
    "# import PIL\n",
    "# import urllib\n",
    "\n",
    "# image = np.array(PIL.Image.open(urllib.request.urlopen(IMAGE_URL)))\n",
    "# image.shape"
   ]
  },
  {
   "cell_type": "code",
   "execution_count": null,
   "metadata": {},
   "outputs": [],
   "source": [
    "image.min(), image.max()"
   ]
  },
  {
   "cell_type": "code",
   "execution_count": null,
   "metadata": {},
   "outputs": [],
   "source": [
    "# Преобразование в монохромный вид\n",
    "X = rgb2gray(image)\n",
    "X.shape"
   ]
  },
  {
   "cell_type": "code",
   "execution_count": null,
   "metadata": {},
   "outputs": [],
   "source": [
    "X.min(), X.max()"
   ]
  },
  {
   "cell_type": "code",
   "execution_count": null,
   "metadata": {},
   "outputs": [],
   "source": [
    "# Количество элементов (пикселей)\n",
    "size__original = np.multiply(*X.shape)\n",
    "size__original"
   ]
  },
  {
   "cell_type": "code",
   "execution_count": null,
   "metadata": {},
   "outputs": [],
   "source": [
    "# Вывод изображения\n",
    "plt.figure(figsize=[6,6])\n",
    "plt.imshow(X, cmap=plt.cm.gray)\n",
    "plt.show()"
   ]
  },
  {
   "cell_type": "markdown",
   "metadata": {},
   "source": [
    "### Сжатие изображения"
   ]
  },
  {
   "cell_type": "code",
   "execution_count": null,
   "metadata": {},
   "outputs": [],
   "source": [
    "# Инициализвания PCA с указанием доли объяснимой дисперсии\n",
    "pca = PCA(n_components=0.99)\n",
    "\n",
    "# Обучение и преобразование\n",
    "X__transformed = pca.fit_transform(X)"
   ]
  },
  {
   "cell_type": "code",
   "execution_count": null,
   "metadata": {},
   "outputs": [],
   "source": [
    "# Количество компонент\n",
    "pca.n_components_"
   ]
  },
  {
   "cell_type": "code",
   "execution_count": null,
   "metadata": {},
   "outputs": [],
   "source": [
    "# доля объяснимой дисперсии\n",
    "pca.explained_variance_ratio_.sum()"
   ]
  },
  {
   "cell_type": "code",
   "execution_count": null,
   "metadata": {},
   "outputs": [],
   "source": [
    "# Размерность преобразованного изображения\n",
    "X__transformed.shape"
   ]
  },
  {
   "cell_type": "code",
   "execution_count": null,
   "metadata": {},
   "outputs": [],
   "source": [
    "X__transformed.min(), X__transformed.max()"
   ]
  },
  {
   "cell_type": "code",
   "execution_count": null,
   "metadata": {},
   "outputs": [],
   "source": [
    "# Количество элементов преобразованного изображения\n",
    "size__transformed = np.multiply(*X__transformed.shape)\n",
    "size__transformed"
   ]
  },
  {
   "cell_type": "code",
   "execution_count": null,
   "metadata": {},
   "outputs": [],
   "source": [
    "# Во сколько раз уменьшилось изображение\n",
    "size__original / size__transformed"
   ]
  },
  {
   "cell_type": "markdown",
   "metadata": {},
   "source": [
    "### Восстановление изображения"
   ]
  },
  {
   "cell_type": "code",
   "execution_count": null,
   "metadata": {},
   "outputs": [],
   "source": [
    "# Обратное преобразование\n",
    "X__recovered = pca.inverse_transform(X__transformed)"
   ]
  },
  {
   "cell_type": "code",
   "execution_count": null,
   "metadata": {},
   "outputs": [],
   "source": [
    "X__recovered.min(), X__recovered.max()"
   ]
  },
  {
   "cell_type": "code",
   "execution_count": null,
   "metadata": {},
   "outputs": [],
   "source": [
    "# Вывод исходного (до сжатия) и восстановленного изображения (после сжатия)\n",
    "plt.figure(figsize=[14,8])\n",
    "\n",
    "plt.subplot(1,2,1)\n",
    "plt.title('Original')\n",
    "plt.imshow(X, cmap=plt.cm.gray)\n",
    "\n",
    "plt.subplot(1,2,2)\n",
    "plt.title('Recovered')\n",
    "plt.imshow(X__recovered, cmap=plt.cm.gray)\n",
    "\n",
    "plt.show()"
   ]
  },
  {
   "cell_type": "code",
   "execution_count": null,
   "metadata": {},
   "outputs": [],
   "source": [
    "# Вывод первых компонент и их суммы для изображения в исходной системе координат\n",
    "plt.figure(figsize=[14, 4])\n",
    "num_components = min(pca.n_components_, 5)\n",
    "\n",
    "X_sum = np.zeros_like(X)\n",
    "for i in range(num_components):\n",
    "    plt.subplot(1, num_components+1, i+1)\n",
    "    plt.title(f'Component {i+1}')\n",
    "    X_ = np.dot(X__transformed[:,i].reshape(-1,1), pca.components_[i].reshape(1,-1))\n",
    "    X_sum += X_\n",
    "    plt.imshow(X_, cmap=plt.cm.gray)\n",
    "    plt.axis(\"off\")\n",
    "\n",
    "X_sum += pca.mean_\n",
    "plt.subplot(1, num_components+1, num_components+1)\n",
    "plt.title(f'Sum')\n",
    "plt.imshow(X_sum, cmap=plt.cm.gray)\n",
    "plt.axis(\"off\")\n",
    "plt.show()"
   ]
  },
  {
   "cell_type": "markdown",
   "metadata": {
    "collapsed": true,
    "jupyter": {
     "outputs_hidden": true
    }
   },
   "source": [
    "<a name=\"6\"></a>\n",
    "<div style=\"display:table; width:100%; padding-top:10px; padding-bottom:10px; border-bottom:1px solid lightgrey\">\n",
    "    <div style=\"display:table-row\">\n",
    "        <div style=\"display:table-cell; width:80%; font-size:16pt; font-weight:bold\">5. Источники</div>\n",
    "    \t<div style=\"display:table-cell; width:20%; text-align:center; background-color:whitesmoke; border:1px solid lightgrey\"><a href=\"#0\">К содержанию</a></div>\n",
    "    </div>\n",
    "</div>"
   ]
  },
  {
   "cell_type": "markdown",
   "metadata": {
    "collapsed": true,
    "jupyter": {
     "outputs_hidden": true
    }
   },
   "source": [
    "[A tutorial on Principal Components Analysis](http://www.cs.otago.ac.nz/cosc453/student_tutorials/principal_components.pdf)"
   ]
  },
  {
   "cell_type": "code",
   "execution_count": null,
   "metadata": {},
   "outputs": [],
   "source": []
  }
 ],
 "metadata": {
  "kernelspec": {
   "display_name": "Python 3 (ipykernel)",
   "language": "python",
   "name": "python3"
  },
  "language_info": {
   "codemirror_mode": {
    "name": "ipython",
    "version": 3
   },
   "file_extension": ".py",
   "mimetype": "text/x-python",
   "name": "python",
   "nbconvert_exporter": "python",
   "pygments_lexer": "ipython3",
   "version": "3.11.7"
  }
 },
 "nbformat": 4,
 "nbformat_minor": 4
}
