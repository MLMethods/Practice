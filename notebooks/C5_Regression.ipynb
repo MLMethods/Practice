{
 "cells": [
  {
   "cell_type": "markdown",
   "metadata": {},
   "source": [
    "<div style=\"font-size:18pt; padding-top:20px; text-align:center\">СЕМИНАР. <b>Регрессия и </b> <span style=\"font-weight:bold; color:green\">NumPy/SciPy/Sklearn</span></div><hr>\n",
    "<div style=\"text-align:right;\">Папулин С.Ю. <span style=\"font-style: italic;font-weight: bold;\">(papulin.study@yandex.ru)</span></div>"
   ]
  },
  {
   "cell_type": "markdown",
   "metadata": {},
   "source": [
    "<a name=\"0\"></a>\n",
    "<div><span style=\"font-size:14pt; font-weight:bold\">Содержание</span>\n",
    "    <ol>\n",
    "        <li><a href=\"#1\">Линейная регрессия</a></li>\n",
    "        <li><a href=\"#2\">Метод k ближайших соседей</a>\n",
    "        <li><a href=\"#3\">Полиномиальная регрессия</a>\n",
    "        <li><a href=\"#4\">Источники</a>\n",
    "        </li>\n",
    "    </ol>\n",
    "</div>"
   ]
  },
  {
   "cell_type": "code",
   "execution_count": null,
   "metadata": {},
   "outputs": [],
   "source": [
    "import numpy as np\n",
    "from scipy import stats\n",
    "import matplotlib.pyplot as plt\n",
    "%matplotlib inline"
   ]
  },
  {
   "cell_type": "markdown",
   "metadata": {},
   "source": [
    "<a name=\"1\"></a>\n",
    "<div style=\"display:table; width:100%; padding-top:10px; padding-bottom:10px; border-bottom:1px solid lightgrey\">\n",
    "    <div style=\"display:table-row\">\n",
    "        <div style=\"display:table-cell; width:80%; font-size:14pt; font-weight:bold\">1. Линейная регрессия</div>\n",
    "    \t<div style=\"display:table-cell; width:20%; text-align:center; background-color:whitesmoke; border:1px solid lightgrey\"><a href=\"#0\">К содержанию</a></div>\n",
    "    </div>\n",
    "</div>"
   ]
  },
  {
   "cell_type": "code",
   "execution_count": null,
   "metadata": {},
   "outputs": [],
   "source": [
    "from sklearn.linear_model import LinearRegression"
   ]
  },
  {
   "cell_type": "code",
   "execution_count": null,
   "metadata": {},
   "outputs": [],
   "source": [
    "n = 100\n",
    "x = stats.uniform.rvs(size=n, loc=4, scale=8)\n",
    "x[:5]"
   ]
  },
  {
   "cell_type": "code",
   "execution_count": null,
   "metadata": {},
   "outputs": [],
   "source": [
    "y = 2 + 0.3*x\n",
    "y[:5]"
   ]
  },
  {
   "cell_type": "code",
   "execution_count": null,
   "metadata": {},
   "outputs": [],
   "source": [
    "plt.title(\"Initial data\")\n",
    "plt.plot(x, y, \"o\")\n",
    "plt.grid(True)\n",
    "plt.show()"
   ]
  },
  {
   "cell_type": "code",
   "execution_count": null,
   "metadata": {},
   "outputs": [],
   "source": [
    "mu = 0\n",
    "sigma = 0.5\n",
    "y1 = stats.norm.rvs(size=n, loc=mu, scale=sigma) + y\n",
    "y1[:5]"
   ]
  },
  {
   "cell_type": "code",
   "execution_count": null,
   "metadata": {},
   "outputs": [],
   "source": [
    "plt.title(\"Initial data\")\n",
    "plt.plot(x, y1, \"o\")\n",
    "plt.grid(True)\n",
    "plt.show()"
   ]
  },
  {
   "cell_type": "markdown",
   "metadata": {},
   "source": [
    "<p><b>Формирование обучающего и тестового подмножеств</b></p>"
   ]
  },
  {
   "cell_type": "code",
   "execution_count": null,
   "metadata": {},
   "outputs": [],
   "source": [
    "tr_pr = 0.7\n",
    "tr_n = int(np.round(tr_pr*n))"
   ]
  },
  {
   "cell_type": "code",
   "execution_count": null,
   "metadata": {},
   "outputs": [],
   "source": [
    "x_train = np.array([x[:tr_n]]).T\n",
    "x_test = np.array([x[tr_n:]]).T"
   ]
  },
  {
   "cell_type": "code",
   "execution_count": null,
   "metadata": {},
   "outputs": [],
   "source": [
    "x_train = x[:tr_n, np.newaxis]\n",
    "x_test = x[tr_n:, np.newaxis]"
   ]
  },
  {
   "cell_type": "code",
   "execution_count": null,
   "metadata": {},
   "outputs": [],
   "source": [
    "y_train = y[:tr_n]\n",
    "y_test = y[tr_n:]"
   ]
  },
  {
   "cell_type": "code",
   "execution_count": null,
   "metadata": {},
   "outputs": [],
   "source": [
    "y1_train = y1[:tr_n]\n",
    "y1_test = y1[tr_n:]"
   ]
  },
  {
   "cell_type": "code",
   "execution_count": null,
   "metadata": {},
   "outputs": [],
   "source": [
    "len(x_train)+len(y_train)"
   ]
  },
  {
   "cell_type": "markdown",
   "metadata": {},
   "source": [
    "<p><b>Обучение</b></p>"
   ]
  },
  {
   "cell_type": "code",
   "execution_count": null,
   "metadata": {},
   "outputs": [],
   "source": [
    "linRegModel_y = LinearRegression()\n",
    "linRegModel_y1 = LinearRegression()"
   ]
  },
  {
   "cell_type": "code",
   "execution_count": null,
   "metadata": {},
   "outputs": [],
   "source": [
    "#Модель для y\n",
    "lrModelTr_y = linRegModel_y.fit(x_train, y_train)\n",
    "lrModelTr_y"
   ]
  },
  {
   "cell_type": "code",
   "execution_count": null,
   "metadata": {},
   "outputs": [],
   "source": [
    "print(\"Коэффициенты (наклон): \", lrModelTr_y.coef_)\n",
    "print(\"Пересечение: \", lrModelTr_y.intercept_)"
   ]
  },
  {
   "cell_type": "code",
   "execution_count": null,
   "metadata": {},
   "outputs": [],
   "source": [
    "lrModelTr_y1 = linRegModel_y1.fit(x_train, y1_train)\n",
    "lrModelTr_y1"
   ]
  },
  {
   "cell_type": "code",
   "execution_count": null,
   "metadata": {},
   "outputs": [],
   "source": [
    "print(\"Коэффициенты (наклон): \", lrModelTr_y1.coef_)\n",
    "print(\"Пересечение: \", lrModelTr_y1.intercept_)"
   ]
  },
  {
   "cell_type": "code",
   "execution_count": null,
   "metadata": {},
   "outputs": [],
   "source": [
    "f_x = lambda x : x * lrModelTr_y.coef_ + lrModelTr_y.intercept_\n",
    "f_x_1 = lambda x : x * lrModelTr_y1.coef_ + lrModelTr_y1.intercept_"
   ]
  },
  {
   "cell_type": "code",
   "execution_count": null,
   "metadata": {},
   "outputs": [],
   "source": [
    "xx = np.linspace(0,5,100)\n",
    "\n",
    "plt.figure(1, figsize=[12, 4])\n",
    "\n",
    "plt.subplot(1,2,1)\n",
    "plt.title(\"Train data\")\n",
    "plt.plot(x_train, y_train, \"o\")\n",
    "plt.plot(x_train, f_x(x_train),color=\"red\", lw=2)\n",
    "plt.grid(True)\n",
    "\n",
    "plt.subplot(1,2,2)\n",
    "plt.title(\"Train data\")\n",
    "plt.plot(x_train, y1_train, \"o\")\n",
    "plt.plot(x_train, f_x_1(x_train), \"o-\", color=\"red\", lw=2)\n",
    "plt.vlines(x_train, ymin=y1_train, ymax=f_x_1(x_train), colors=\"black\", linestyles=\"dotted\", lw=1)\n",
    "plt.grid(True)"
   ]
  },
  {
   "cell_type": "markdown",
   "metadata": {},
   "source": [
    "<p><b>Проверка на тестовом подмножестве</b></p>"
   ]
  },
  {
   "cell_type": "code",
   "execution_count": null,
   "metadata": {},
   "outputs": [],
   "source": [
    "y_lr_test = linRegModel_y.predict(x_test)\n",
    "y1_lr_test = linRegModel_y1.predict(x_test)"
   ]
  },
  {
   "cell_type": "code",
   "execution_count": null,
   "metadata": {},
   "outputs": [],
   "source": [
    "tss_y = ((y_test - y_test.mean())**2).sum()\n",
    "tss_y1 = ((y1_test - y1_test.mean())**2).sum()"
   ]
  },
  {
   "cell_type": "code",
   "execution_count": null,
   "metadata": {},
   "outputs": [],
   "source": [
    "rss_y = ((y_lr_test - y_test)**2).sum()\n",
    "rss_y1 = ((y1_lr_test - y1_test)**2).sum()"
   ]
  },
  {
   "cell_type": "code",
   "execution_count": null,
   "metadata": {},
   "outputs": [],
   "source": [
    "print(\"Модель для y\")\n",
    "print(\"Сумма квадратов (TSS):\", tss_y)\n",
    "print(\"Остаточная сумма квадратов (RSS):\", rss_y)\n",
    "print(\"Коэффициент детерминации (R^2):\", 1 - rss_y/tss_y)"
   ]
  },
  {
   "cell_type": "code",
   "execution_count": null,
   "metadata": {},
   "outputs": [],
   "source": [
    "print(\"Модель для y1\")\n",
    "print(\"Сумма квадратов (TSS):\", tss_y1)\n",
    "print(\"Остаточная сумма квадратов (RSS):\", rss_y1)\n",
    "print(\"Коэффициент детерминации (R^2):\", 1 - rss_y1/tss_y1)"
   ]
  },
  {
   "cell_type": "code",
   "execution_count": null,
   "metadata": {},
   "outputs": [],
   "source": [
    "linRegModel_y.score(x_test, y_test)"
   ]
  },
  {
   "cell_type": "code",
   "execution_count": null,
   "metadata": {},
   "outputs": [],
   "source": [
    "linRegModel_y.score(x_test, y1_test)"
   ]
  },
  {
   "cell_type": "code",
   "execution_count": null,
   "metadata": {},
   "outputs": [],
   "source": [
    "plt.figure(1, figsize=[12, 4])\n",
    "\n",
    "plt.subplot(1,2,1)\n",
    "plt.title(\"Test data\")\n",
    "plt.plot(x_test, y_test, \"o\")\n",
    "plt.plot(x_test, f_x(x_test), color=\"red\", lw=2)\n",
    "plt.grid(True)\n",
    "\n",
    "plt.subplot(1,2,2)\n",
    "plt.title(\"Test data\")\n",
    "plt.plot(x_test, y1_test, \"o\")\n",
    "plt.plot(x_test, f_x_1(x_test), \"o-\", color=\"red\", lw=2)\n",
    "plt.vlines(x_test, ymin=y1_test, ymax=y1_lr_test, colors=\"black\", linestyles=\"dotted\")\n",
    "plt.grid(True)\n",
    "\n",
    "plt.show()"
   ]
  },
  {
   "cell_type": "markdown",
   "metadata": {},
   "source": [
    "<p><b>Графики</b></p>"
   ]
  },
  {
   "cell_type": "code",
   "execution_count": null,
   "metadata": {},
   "outputs": [],
   "source": [
    "plt.figure(1, figsize=[12, 8])\n",
    "\n",
    "plt.subplot(2,2,1)\n",
    "plt.title(\"Train data\")\n",
    "plt.plot(x_train, y_train, \"o\")\n",
    "plt.plot(x_train, f_x(x_train),color=\"red\", lw=2)\n",
    "plt.grid(True)\n",
    "\n",
    "plt.subplot(2,2,2)\n",
    "plt.title(\"Train data\")\n",
    "plt.plot(x_train, y1_train, \"o\")\n",
    "plt.plot(x_train, f_x_1(x_train), \"o-\", color=\"red\", lw=2)\n",
    "plt.vlines(x_train, ymin=y1_train, ymax=f_x_1(x_train), colors=\"black\", linestyles=\"dotted\", lw=1)\n",
    "plt.grid(True)\n",
    "\n",
    "plt.subplot(2,2,3)\n",
    "plt.title(\"Test data\")\n",
    "plt.plot(x_test, y_test, \"o\")\n",
    "plt.plot(x_test, f_x(x_test), color=\"red\", lw=2)\n",
    "plt.grid(True)\n",
    "\n",
    "plt.subplot(2,2,4)\n",
    "plt.title(\"Test data\")\n",
    "plt.plot(x_test, y1_test, \"o\")\n",
    "plt.plot(x_test, f_x_1(x_test), \"o-\", color=\"red\", lw=2)\n",
    "plt.vlines(x_test, ymin=y1_test, ymax=f_x_1(x_test), colors=\"black\", linestyles=\"dotted\", lw=1)\n",
    "plt.grid(True)\n",
    "\n",
    "plt.show()"
   ]
  },
  {
   "cell_type": "markdown",
   "metadata": {},
   "source": [
    "<p><b>Что если зависимость имеет следующий вид</b></p>"
   ]
  },
  {
   "cell_type": "code",
   "execution_count": null,
   "metadata": {},
   "outputs": [],
   "source": [
    "n = 100\n",
    "x = stats.uniform.rvs(size=n, loc=0, scale=5)\n",
    "y = stats.norm.rvs(size=n, loc=0, scale=0.2) + np.sin(x)"
   ]
  },
  {
   "cell_type": "code",
   "execution_count": null,
   "metadata": {},
   "outputs": [],
   "source": [
    "plt.plot(x, y, \"o\")\n",
    "plt.grid(True)\n",
    "plt.show()"
   ]
  },
  {
   "cell_type": "markdown",
   "metadata": {},
   "source": [
    "<p>Разделение исходных данных на обучающее и тестовое подмножества</p>"
   ]
  },
  {
   "cell_type": "code",
   "execution_count": null,
   "metadata": {},
   "outputs": [],
   "source": [
    "x_train = x[:tr_n, np.newaxis]\n",
    "x_test = x[tr_n:, np.newaxis]\n",
    "\n",
    "y_train = y[:tr_n]\n",
    "y_test = y[tr_n:]"
   ]
  },
  {
   "cell_type": "markdown",
   "metadata": {},
   "source": [
    "<p>Обучение</p>"
   ]
  },
  {
   "cell_type": "code",
   "execution_count": null,
   "metadata": {},
   "outputs": [],
   "source": [
    "linRegModel_y = LinearRegression()\n",
    "lrModelTr_y = linRegModel_y.fit(x_train, y_train)"
   ]
  },
  {
   "cell_type": "code",
   "execution_count": null,
   "metadata": {},
   "outputs": [],
   "source": [
    "f_x = lambda x : x * lrModelTr_y.coef_ + lrModelTr_y.intercept_"
   ]
  },
  {
   "cell_type": "markdown",
   "metadata": {},
   "source": [
    "<p>Тестирование</p>"
   ]
  },
  {
   "cell_type": "code",
   "execution_count": null,
   "metadata": {},
   "outputs": [],
   "source": [
    "linRegModel_y.score(x_test, y_test)"
   ]
  },
  {
   "cell_type": "markdown",
   "metadata": {},
   "source": [
    "<p>Графики</p>"
   ]
  },
  {
   "cell_type": "code",
   "execution_count": null,
   "metadata": {},
   "outputs": [],
   "source": [
    "plt.figure(1, figsize=[12, 4])\n",
    "\n",
    "plt.subplot(1,2,1)\n",
    "plt.title(\"Train data\")\n",
    "plt.plot(x_train, y_train, \"o\")\n",
    "plt.plot(x_train, lrModelTr_y.predict(x_train), color=\"red\", lw=2)\n",
    "plt.plot(x_train, lrModelTr_y.predict(x_train), \"o\", color=\"red\", lw=2)\n",
    "plt.vlines(x_train, ymin=y_train, ymax=lrModelTr_y.predict(x_train), colors=\"black\", linestyles=\"dotted\", lw=1)\n",
    "plt.grid(True)\n",
    "\n",
    "plt.subplot(1,2,2)\n",
    "plt.title(\"Test data\")\n",
    "plt.plot(x_test, y_test, \"o\")\n",
    "plt.plot(x_test, lrModelTr_y.predict(x_test), color=\"red\", lw=2)\n",
    "plt.plot(x_test, lrModelTr_y.predict(x_test), \"o\", color=\"red\", lw=2)\n",
    "plt.vlines(x_test, ymin=y_test, ymax=lrModelTr_y.predict(x_test), colors=\"black\", linestyles=\"dotted\", lw=1)\n",
    "plt.grid(True)\n",
    "\n",
    "plt.show()"
   ]
  },
  {
   "cell_type": "markdown",
   "metadata": {},
   "source": [
    "<a name=\"2\"></a>\n",
    "<div style=\"display:table; width:100%; padding-top:10px; padding-bottom:10px; border-bottom:1px solid lightgrey\">\n",
    "    <div style=\"display:table-row\">\n",
    "        <div style=\"display:table-cell; width:80%; font-size:14pt; font-weight:bold\">2. Метод k ближайших соседей</div>\n",
    "    \t<div style=\"display:table-cell; width:20%; text-align:center; background-color:whitesmoke; border:1px solid lightgrey\"><a href=\"#0\">К содержанию</a></div>\n",
    "    </div>\n",
    "</div>"
   ]
  },
  {
   "cell_type": "markdown",
   "metadata": {},
   "source": [
    "http://scikit-learn.org/stable/modules/neighbors.html#nearest-neighbors-regression\n",
    "http://scikit-learn.org/stable/modules/generated/sklearn.neighbors.KNeighborsRegressor.html#sklearn.neighbors.KNeighborsRegressor"
   ]
  },
  {
   "cell_type": "code",
   "execution_count": null,
   "metadata": {},
   "outputs": [],
   "source": [
    "from sklearn.neighbors import KNeighborsRegressor"
   ]
  },
  {
   "cell_type": "code",
   "execution_count": null,
   "metadata": {},
   "outputs": [],
   "source": [
    "n = 100\n",
    "x = stats.uniform.rvs(size=n, loc=0, scale=5)\n",
    "y = stats.norm.rvs(size=n, loc=0, scale=0.2) + np.sin(x)"
   ]
  },
  {
   "cell_type": "code",
   "execution_count": null,
   "metadata": {},
   "outputs": [],
   "source": [
    "plt.plot(x, y, \"o\")\n",
    "plt.grid(True)\n",
    "plt.show()"
   ]
  },
  {
   "cell_type": "markdown",
   "metadata": {},
   "source": [
    "<p><b>Формирование обучающего и тестового подмножеств</b></p>"
   ]
  },
  {
   "cell_type": "code",
   "execution_count": null,
   "metadata": {},
   "outputs": [],
   "source": [
    "tr_pr = 0.7\n",
    "tr_n = int(np.round(tr_pr*n))\n",
    "\n",
    "x_train = x[:tr_n, np.newaxis]\n",
    "x_test = x[tr_n:, np.newaxis]\n",
    "\n",
    "y_train = y[:tr_n]\n",
    "y_test = y[tr_n:]"
   ]
  },
  {
   "cell_type": "markdown",
   "metadata": {},
   "source": [
    "<p><b>Обучение</b></p>"
   ]
  },
  {
   "cell_type": "code",
   "execution_count": null,
   "metadata": {},
   "outputs": [],
   "source": [
    "knnModel = {}\n",
    "for k in [2, 5, 15]:\n",
    "    model =  KNeighborsRegressor(n_neighbors=k, weights=\"uniform\", algorithm=\"auto\", \n",
    "                                 metric=\"minkowski\", p=2, n_jobs=1)\n",
    "    knnModel[k] = model.fit(x_train, y_train)"
   ]
  },
  {
   "cell_type": "code",
   "execution_count": null,
   "metadata": {},
   "outputs": [],
   "source": [
    "y_train_pred_2 = knnModel[2].predict(x_train)\n",
    "y_train_pred_5 = knnModel[5].predict(x_train)\n",
    "y_train_pred_15 = knnModel[15].predict(x_train)"
   ]
  },
  {
   "cell_type": "code",
   "execution_count": null,
   "metadata": {},
   "outputs": [],
   "source": [
    "xx = np.linspace(0,5,100).reshape((100, 1))\n",
    "\n",
    "plt.figure(\"knn-train\", figsize=[16,4])\n",
    "\n",
    "plt.subplot(1,3,1)\n",
    "plt.title(\"Train data\")\n",
    "plt.plot(x_train, y_train, \"o\")\n",
    "plt.plot(xx, knnModel[2].predict(xx), color=\"red\", lw=2)\n",
    "plt.plot(x_train, y_train_pred_2, \"o\", color=\"red\", lw=2)\n",
    "plt.vlines(x_train, ymin=y_train, ymax=y_train_pred_2, colors=\"black\", linestyles=\"dotted\", lw=1)\n",
    "plt.grid(True)\n",
    "\n",
    "plt.subplot(1,3,2)\n",
    "plt.title(\"Train data\")\n",
    "plt.plot(x_train, y_train, \"o\")\n",
    "plt.plot(xx, knnModel[5].predict(xx), color=\"red\", lw=2)\n",
    "plt.plot(x_train, y_train_pred_5, \"o\", color=\"red\", lw=2)\n",
    "plt.vlines(x_train, ymin=y_train, ymax=y_train_pred_5, colors=\"black\", linestyles=\"dotted\", lw=1)\n",
    "plt.grid(True)\n",
    "\n",
    "plt.subplot(1,3,3)\n",
    "plt.title(\"Train data\")\n",
    "plt.plot(x_train, y_train, \"o\")\n",
    "plt.plot(xx, knnModel[15].predict(xx), color=\"red\", lw=2)\n",
    "plt.plot(x_train, y_train_pred_15, \"o\", color=\"red\", lw=2)\n",
    "plt.vlines(x_train, ymin=y_train, ymax=y_train_pred_15, colors=\"black\", linestyles=\"dotted\", lw=1)\n",
    "plt.grid(True)\n",
    "\n",
    "plt.show()"
   ]
  },
  {
   "cell_type": "markdown",
   "metadata": {},
   "source": [
    "<p><b>Проверка на тестовом подмножестве</b></p>"
   ]
  },
  {
   "cell_type": "code",
   "execution_count": null,
   "metadata": {},
   "outputs": [],
   "source": [
    "y_pr_test_2 = knnModel[2].predict(x_test)\n",
    "\n",
    "tss_y = ((y_test - y_test.mean())**2).sum()\n",
    "rss_y = ((y_pr_test_2 - y_test)**2).sum()\n",
    "\n",
    "print(\"Модель для y\")\n",
    "print(\"Сумма квадратов (TSS):\", tss_y)\n",
    "print(\"Остаточная сумма квадратов (RSS):\", rss_y)\n",
    "print(\"Коэффициент детерминации (R^2):\", 1 - rss_y/tss_y)"
   ]
  },
  {
   "cell_type": "code",
   "execution_count": null,
   "metadata": {},
   "outputs": [],
   "source": [
    "y_pr_test_5 = knnModel[5].predict(x_test)\n",
    "\n",
    "tss_y = ((y_test - y_test.mean())**2).sum()\n",
    "rss_y = ((y_pr_test_5 - y_test)**2).sum()\n",
    "\n",
    "print(\"Модель для y\")\n",
    "print(\"Сумма квадратов (TSS):\", tss_y)\n",
    "print(\"Остаточная сумма квадратов (RSS):\", rss_y)\n",
    "print(\"Коэффициент детерминации (R^2):\", 1 - rss_y/tss_y)"
   ]
  },
  {
   "cell_type": "code",
   "execution_count": null,
   "metadata": {},
   "outputs": [],
   "source": [
    "y_pr_test_15 = knnModel[15].predict(x_test)\n",
    "\n",
    "tss_y = ((y_test - y_test.mean())**2).sum()\n",
    "rss_y = ((y_pr_test_15 - y_test)**2).sum()\n",
    "\n",
    "print(\"Модель для y\")\n",
    "print(\"Сумма квадратов (TSS):\", tss_y)\n",
    "print(\"Остаточная сумма квадратов (RSS):\", rss_y)\n",
    "print(\"Коэффициент детерминации (R^2):\", 1 - rss_y/tss_y)"
   ]
  },
  {
   "cell_type": "markdown",
   "metadata": {},
   "source": [
    "<p><b>Графики</b></p>"
   ]
  },
  {
   "cell_type": "code",
   "execution_count": null,
   "metadata": {},
   "outputs": [],
   "source": [
    "plt.figure(1, figsize=[12, 12])\n",
    "\n",
    "plt.subplot(3,2,1)\n",
    "plt.title(\"Train data\")\n",
    "plt.plot(x_train, y_train, \"o\")\n",
    "plt.plot(xx, knnModel[2].predict(xx.reshape(len(xx),1)), color=\"red\", lw=2)\n",
    "plt.plot(x_train, y_train_pred_2, \"o\", color=\"red\", lw=2)\n",
    "plt.vlines(x_train, ymin=y_train, ymax=y_train_pred_2, colors=\"black\", linestyles=\"dotted\", lw=1)\n",
    "plt.grid(True)\n",
    "\n",
    "plt.subplot(3,2,2)\n",
    "plt.title(\"Test data\")\n",
    "plt.plot(x_test, y_test, \"o\")\n",
    "plt.plot(xx, knnModel[2].predict(xx.reshape(len(xx),1)), color=\"red\", lw=2)\n",
    "plt.plot(x_test, y_pr_test_2, \"o\", color=\"red\", lw=2)\n",
    "plt.vlines(x_test, ymin=y_test, ymax=y_pr_test_2, colors=\"black\", linestyles=\"dotted\", lw=1)\n",
    "plt.grid(True)\n",
    "\n",
    "plt.subplot(3,2,3)\n",
    "plt.title(\"Train data\")\n",
    "plt.plot(x_train, y_train, \"o\")\n",
    "plt.plot(xx, knnModel[5].predict(xx.reshape(len(xx),1)), color=\"red\", lw=2)\n",
    "plt.plot(x_train, y_train_pred_5, \"o\", color=\"red\", lw=2)\n",
    "plt.vlines(x_train, ymin=y_train, ymax=y_train_pred_5, colors=\"black\", linestyles=\"dotted\", lw=1)\n",
    "plt.grid(True)\n",
    "\n",
    "plt.subplot(3,2,4)\n",
    "plt.title(\"Test data\")\n",
    "plt.plot(x_test, y_test, \"o\")\n",
    "plt.plot(xx, knnModel[5].predict(xx.reshape(len(xx),1)), color=\"red\", lw=2)\n",
    "plt.plot(x_test, y_pr_test_5, \"o\", color=\"red\", lw=2)\n",
    "plt.vlines(x_test, ymin=y_test, ymax=y_pr_test_5, colors=\"black\", linestyles=\"dotted\", lw=1)\n",
    "plt.grid(True)\n",
    "\n",
    "plt.subplot(3,2,5)\n",
    "plt.title(\"Train data\")\n",
    "plt.plot(x_train, y_train, \"o\")\n",
    "plt.plot(xx, knnModel[15].predict(xx.reshape(len(xx),1)), color=\"red\", lw=2)\n",
    "plt.plot(x_train, y_train_pred_15, \"o\", color=\"red\", lw=2)\n",
    "plt.vlines(x_train, ymin=y_train, ymax=y_train_pred_15, colors=\"black\", linestyles=\"dotted\", lw=1)\n",
    "plt.grid(True)\n",
    "\n",
    "plt.subplot(3,2,6)\n",
    "plt.title(\"Test data\")\n",
    "plt.plot(x_test, y_test, \"o\")\n",
    "plt.plot(xx, knnModel[15].predict(xx.reshape(len(xx),1)), color=\"red\", lw=2)\n",
    "plt.plot(x_test, y_pr_test_15, \"o\", color=\"red\", lw=2)\n",
    "plt.vlines(x_test, ymin=y_test, ymax=y_pr_test_15, colors=\"black\", linestyles=\"dotted\", lw=1)\n",
    "plt.grid(True)\n",
    "\n",
    "plt.show()"
   ]
  },
  {
   "cell_type": "markdown",
   "metadata": {},
   "source": [
    "<a name=\"3\"></a>\n",
    "<div style=\"display:table; width:100%; padding-top:10px; padding-bottom:10px; border-bottom:1px solid lightgrey\">\n",
    "    <div style=\"display:table-row\">\n",
    "        <div style=\"display:table-cell; width:80%; font-size:14pt; font-weight:bold\">3. Полиномиальная регрессия</div>\n",
    "    \t<div style=\"display:table-cell; width:20%; text-align:center; background-color:whitesmoke; border:1px solid lightgrey\"><a href=\"#0\">К содержанию</a></div>\n",
    "    </div>\n",
    "</div>"
   ]
  },
  {
   "cell_type": "code",
   "execution_count": null,
   "metadata": {},
   "outputs": [],
   "source": [
    "from sklearn.preprocessing import PolynomialFeatures\n",
    "from sklearn.pipeline import Pipeline\n",
    "from numpy.polynomial.polynomial import polyval"
   ]
  },
  {
   "cell_type": "code",
   "execution_count": null,
   "metadata": {},
   "outputs": [],
   "source": [
    "n = 100\n",
    "x = stats.uniform.rvs(size=n, loc=0, scale=5)\n",
    "y = stats.norm.rvs(size=n, loc=0, scale=0.2) + np.sin(x)"
   ]
  },
  {
   "cell_type": "code",
   "execution_count": null,
   "metadata": {},
   "outputs": [],
   "source": [
    "plt.plot(x, y, \"o\")\n",
    "plt.grid(True)\n",
    "plt.show()"
   ]
  },
  {
   "cell_type": "markdown",
   "metadata": {},
   "source": [
    "<p><b>Формирование обучающего и тестового подмножеств</b></p>"
   ]
  },
  {
   "cell_type": "code",
   "execution_count": null,
   "metadata": {},
   "outputs": [],
   "source": [
    "tr_pr = 0.7\n",
    "tr_n = int(np.round(tr_pr*n))"
   ]
  },
  {
   "cell_type": "code",
   "execution_count": null,
   "metadata": {},
   "outputs": [],
   "source": [
    "x_train = x[:tr_n, np.newaxis]\n",
    "x_test = x[tr_n:, np.newaxis]"
   ]
  },
  {
   "cell_type": "code",
   "execution_count": null,
   "metadata": {},
   "outputs": [],
   "source": [
    "y_train = y[:tr_n]\n",
    "y_test = y[tr_n:]"
   ]
  },
  {
   "cell_type": "markdown",
   "metadata": {},
   "source": [
    "<p><b>Обучение</b></p>"
   ]
  },
  {
   "cell_type": "code",
   "execution_count": null,
   "metadata": {},
   "outputs": [],
   "source": [
    "pf = PolynomialFeatures(degree=3)\n",
    "pf_tfrd = pf.fit_transform(x_train)"
   ]
  },
  {
   "cell_type": "code",
   "execution_count": null,
   "metadata": {},
   "outputs": [],
   "source": [
    "lr = LinearRegression(fit_intercept=True)\n",
    "lr = lr.fit(pf_tfrd, y_train)"
   ]
  },
  {
   "cell_type": "code",
   "execution_count": null,
   "metadata": {},
   "outputs": [],
   "source": [
    "print(\"Коэффициенты: \", lr.coef_)\n",
    "print(\"Пересечение: \", lr.intercept_)"
   ]
  },
  {
   "cell_type": "markdown",
   "metadata": {},
   "source": [
    "<p>или можно использовать Pipeline</p>"
   ]
  },
  {
   "cell_type": "code",
   "execution_count": null,
   "metadata": {},
   "outputs": [],
   "source": [
    "plModelTr_PL = Pipeline([(\"plF\", PolynomialFeatures(degree=3)), (\"lr\", LinearRegression(fit_intercept=True))])"
   ]
  },
  {
   "cell_type": "code",
   "execution_count": null,
   "metadata": {},
   "outputs": [],
   "source": [
    "plModelTr_PL = plModelTr_PL.fit(x_train, y_train)"
   ]
  },
  {
   "cell_type": "code",
   "execution_count": null,
   "metadata": {},
   "outputs": [],
   "source": [
    "print(\"Коэффициенты: \", plModelTr_PL.named_steps[\"lr\"].coef_)\n",
    "print(\"Пересечение: \", plModelTr_PL.named_steps[\"lr\"].intercept_)"
   ]
  },
  {
   "cell_type": "code",
   "execution_count": null,
   "metadata": {},
   "outputs": [],
   "source": [
    "f_x = lambda x : polyval(x, plModelTr_PL.named_steps[\"lr\"].coef_) + plModelTr_PL.named_steps[\"lr\"].intercept_"
   ]
  },
  {
   "cell_type": "code",
   "execution_count": null,
   "metadata": {},
   "outputs": [],
   "source": [
    "xx = np.linspace(0,5,100)\n",
    "\n",
    "plt.title(\"Train data\")\n",
    "plt.plot(x_train, y_train, \"o\")\n",
    "plt.plot(xx, f_x(xx), color=\"red\", lw=2)\n",
    "plt.plot(x_train, f_x(x_train), \"o\", color=\"red\", lw=2)\n",
    "plt.vlines(x_train, ymin=y_train, ymax=f_x(x_train), colors=\"black\", linestyles=\"dotted\", lw=1)\n",
    "plt.grid(True)\n",
    "plt.show()"
   ]
  },
  {
   "cell_type": "markdown",
   "metadata": {},
   "source": [
    "<p><b>Проверка на тестовом подмножестве</b></p>"
   ]
  },
  {
   "cell_type": "code",
   "execution_count": null,
   "metadata": {},
   "outputs": [],
   "source": [
    "y_pr_test = plModelTr_PL.predict(x_test)"
   ]
  },
  {
   "cell_type": "code",
   "execution_count": null,
   "metadata": {},
   "outputs": [],
   "source": [
    "tss_y = ((y_test - y_test.mean())**2).sum()\n",
    "rss_y = ((y_pr_test - y_test)**2).sum()"
   ]
  },
  {
   "cell_type": "code",
   "execution_count": null,
   "metadata": {},
   "outputs": [],
   "source": [
    "print(\"Модель для y\")\n",
    "print(\"Сумма квадратов (TSS):\", tss_y)\n",
    "print(\"Остаточная сумма квадратов (RSS):\", rss_y)\n",
    "print(\"Коэффициент детерминации (R^2):\", 1 - rss_y/tss_y)"
   ]
  },
  {
   "cell_type": "code",
   "execution_count": null,
   "metadata": {},
   "outputs": [],
   "source": [
    "plModelTr_PL.score(x_test, y_test)"
   ]
  },
  {
   "cell_type": "code",
   "execution_count": null,
   "metadata": {},
   "outputs": [],
   "source": [
    "plt.title(\"Test data\")\n",
    "plt.plot(x_test, y_test, \"o\")\n",
    "plt.plot(xx, f_x(xx), color=\"red\", lw=2)\n",
    "plt.plot(x_test, f_x(x_test), \"o\", color=\"red\", lw=2)\n",
    "plt.vlines(x_test, ymin=y_test, ymax=f_x(x_test), colors=\"black\", linestyles=\"dotted\", lw=1)\n",
    "plt.grid(True)\n",
    "plt.show()"
   ]
  },
  {
   "cell_type": "markdown",
   "metadata": {},
   "source": [
    "<p><b>Графики</b></p>"
   ]
  },
  {
   "cell_type": "code",
   "execution_count": null,
   "metadata": {
    "scrolled": true
   },
   "outputs": [],
   "source": [
    "plt.figure(1, figsize=[12, 4])\n",
    "\n",
    "plt.subplot(1,2,1)\n",
    "plt.title(\"Train data\")\n",
    "plt.plot(x_train, y_train, \"o\")\n",
    "plt.plot(xx, f_x(xx), color=\"red\", lw=2)\n",
    "plt.plot(x_train, f_x(x_train), \"o\", color=\"red\", lw=2)\n",
    "plt.vlines(x_train, ymin=y_train, ymax=f_x(x_train), colors=\"black\", linestyles=\"dotted\", lw=1)\n",
    "plt.grid(True)\n",
    "\n",
    "plt.subplot(1,2,2)\n",
    "plt.title(\"Test data\")\n",
    "plt.plot(x_test, y_test, \"o\")\n",
    "plt.plot(xx, f_x(xx), color=\"red\", lw=2)\n",
    "plt.plot(x_test, f_x(x_test), \"o\", color=\"red\", lw=2)\n",
    "plt.vlines(x_test, ymin=y_test, ymax=f_x(x_test), colors=\"black\", linestyles=\"dotted\", lw=1)\n",
    "plt.grid(True)\n",
    "\n",
    "plt.show()"
   ]
  },
  {
   "cell_type": "markdown",
   "metadata": {},
   "source": [
    "<a name=\"4\"></a>\n",
    "<div style=\"display:table; width:100%; padding-top:10px; padding-bottom:10px; border-bottom:1px solid lightgrey\">\n",
    "    <div style=\"display:table-row\">\n",
    "        <div style=\"display:table-cell; width:80%; font-size:14pt; font-weight:bold\">4. Источники</div>\n",
    "    \t<div style=\"display:table-cell; width:20%; text-align:center; background-color:whitesmoke; border:1px solid lightgrey\"><a href=\"#0\">К содержанию</a></div>\n",
    "    </div>\n",
    "</div>"
   ]
  },
  {
   "cell_type": "code",
   "execution_count": null,
   "metadata": {},
   "outputs": [],
   "source": [
    "http://scikit-learn.org/stable/modules/generated/sklearn.linear_model.LinearRegression.html"
   ]
  }
 ],
 "metadata": {
  "kernelspec": {
   "display_name": "Python 3",
   "language": "python",
   "name": "python3"
  },
  "language_info": {
   "codemirror_mode": {
    "name": "ipython",
    "version": 3
   },
   "file_extension": ".py",
   "mimetype": "text/x-python",
   "name": "python",
   "nbconvert_exporter": "python",
   "pygments_lexer": "ipython3",
   "version": "3.7.3"
  }
 },
 "nbformat": 4,
 "nbformat_minor": 1
}
